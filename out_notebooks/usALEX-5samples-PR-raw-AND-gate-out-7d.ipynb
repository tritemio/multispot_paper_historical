{
 "metadata": {
  "name": "",
  "signature": "sha256:9f16c3967eb65b36e8d032470f12c7a79441268904fe83eb7cc2ea4526de0e4e"
 },
 "nbformat": 3,
 "nbformat_minor": 0,
 "worksheets": [
  {
   "cells": [
    {
     "cell_type": "markdown",
     "metadata": {},
     "source": [
      "# usALEX-5samples - Template\n",
      "\n",
      "> *This notebook is a template that is executed by [usALEX-Batch](usALEX-Batch.ipynb) in order to fit E and S values of the FRET population for all the 5 smFRET samples.*\n",
      ">\n",
      "> *This notebook reads the environment variable NB_DATA_FILE to select which file to process.*"
     ]
    },
    {
     "cell_type": "markdown",
     "metadata": {},
     "source": [
      "## Load software and filenames definitions"
     ]
    },
    {
     "cell_type": "code",
     "collapsed": false,
     "input": [
      "from fretbursts import *"
     ],
     "language": "python",
     "metadata": {},
     "outputs": [
      {
       "output_type": "stream",
       "stream": "stdout",
       "text": [
        " - Optimized (cython) burst search loaded.\n",
        " - Optimized (cython) photon counting loaded.\n",
        "-------------------------------------------------------------\n",
        " You are running FRETBursts (version 0.4rc4-47-gb0f3e84).\n",
        "\n",
        " If you use this software in a publication, please cite it as:\n",
        "\n",
        "   FRETBursts - An opensource single-molecule FRET burst analysis toolkit.\n",
        "   A. Ingargiola 2014. https://github.com/tritemio/FRETBursts\n",
        "\n",
        "-------------------------------------------------------------\n"
       ]
      }
     ],
     "prompt_number": 1
    },
    {
     "cell_type": "code",
     "collapsed": false,
     "input": [
      "import os\n",
      "from IPython.display import display\n",
      "%matplotlib inline"
     ],
     "language": "python",
     "metadata": {},
     "outputs": [],
     "prompt_number": 2
    },
    {
     "cell_type": "markdown",
     "metadata": {},
     "source": [
      "Data folder:"
     ]
    },
    {
     "cell_type": "code",
     "collapsed": false,
     "input": [
      "data_dir = './data/2012-11-26/'"
     ],
     "language": "python",
     "metadata": {},
     "outputs": [],
     "prompt_number": 3
    },
    {
     "cell_type": "code",
     "collapsed": false,
     "input": [
      "data_dir = os.path.abspath(data_dir) + '/'\n",
      "assert os.path.exists(data_dir), \"Path '%s' does not exist.\" % data_dir"
     ],
     "language": "python",
     "metadata": {},
     "outputs": [],
     "prompt_number": 4
    },
    {
     "cell_type": "markdown",
     "metadata": {},
     "source": [
      "List of data files:"
     ]
    },
    {
     "cell_type": "code",
     "collapsed": false,
     "input": [
      "from glob import glob\n",
      "file_list = sorted(f for f in glob(data_dir + '*.hdf5') if '_BKG' not in f)\n",
      "## Selection for POLIMI 2012-11-26 datatset\n",
      "labels = ['17d', '27d', '7d', '12d', '22d']\n",
      "files_dict = {lab: fname for lab, fname in zip(labels, file_list)}\n",
      "files_dict"
     ],
     "language": "python",
     "metadata": {},
     "outputs": [
      {
       "output_type": "pyout",
       "prompt_number": 5,
       "text": [
        "{'12d': 'C:\\\\Data\\\\Antonio\\\\software\\\\src\\\\multispot_paper\\\\data\\\\2012-11-26\\\\007_dsDNA_12d_3nM_green100u_red40u.hdf5',\n",
        " '17d': 'C:\\\\Data\\\\Antonio\\\\software\\\\src\\\\multispot_paper\\\\data\\\\2012-11-26\\\\004_dsDNA_17d_green100u_red40u.hdf5',\n",
        " '22d': 'C:\\\\Data\\\\Antonio\\\\software\\\\src\\\\multispot_paper\\\\data\\\\2012-11-26\\\\008_dsDNA_22d_500pM_green100u_red40u.hdf5',\n",
        " '27d': 'C:\\\\Data\\\\Antonio\\\\software\\\\src\\\\multispot_paper\\\\data\\\\2012-11-26\\\\005_dsDNA_27d_green100u_red40u.hdf5',\n",
        " '7d': 'C:\\\\Data\\\\Antonio\\\\software\\\\src\\\\multispot_paper\\\\data\\\\2012-11-26\\\\006_dsDNA_7d_green100u_red40u.hdf5'}"
       ]
      }
     ],
     "prompt_number": 5
    },
    {
     "cell_type": "code",
     "collapsed": false,
     "input": [
      "if 'NBPARAM_DATA_ID' in os.environ:\n",
      "    data_id = os.environ['NBPARAM_DATA_ID']\n",
      "else:\n",
      "    data_id = '17d'\n",
      "data_id"
     ],
     "language": "python",
     "metadata": {},
     "outputs": [
      {
       "output_type": "pyout",
       "prompt_number": 6,
       "text": [
        "'7d'"
       ]
      }
     ],
     "prompt_number": 6
    },
    {
     "cell_type": "markdown",
     "metadata": {},
     "source": [
      "## Data load"
     ]
    },
    {
     "cell_type": "markdown",
     "metadata": {},
     "source": [
      "Initial loading of the data:"
     ]
    },
    {
     "cell_type": "code",
     "collapsed": false,
     "input": [
      "d = loader.hdf5(fname=files_dict[data_id])"
     ],
     "language": "python",
     "metadata": {},
     "outputs": [],
     "prompt_number": 7
    },
    {
     "cell_type": "markdown",
     "metadata": {},
     "source": [
      "## Laser alternation selection\n",
      "\n",
      "At this point we have only the timestamps and the detector numbers:"
     ]
    },
    {
     "cell_type": "code",
     "collapsed": false,
     "input": [
      "d.ph_times_t, d.det_t"
     ],
     "language": "python",
     "metadata": {},
     "outputs": [
      {
       "output_type": "pyout",
       "prompt_number": 8,
       "text": [
        "(array([       9160,       41823,       50082, ..., 47999600055,\n",
        "        47999607904, 47999679104], dtype=int64),\n",
        " array([1, 1, 1, ..., 1, 1, 1], dtype=uint8))"
       ]
      }
     ],
     "prompt_number": 8
    },
    {
     "cell_type": "markdown",
     "metadata": {},
     "source": [
      "We need to define some parameters: donor and acceptor ch, excitation period and donor and acceptor excitiations:"
     ]
    },
    {
     "cell_type": "code",
     "collapsed": false,
     "input": [
      "d.add(det_donor_accept=(0, 1), alex_period=4000, D_ON=(2850, 580), A_ON=(900, 2580))"
     ],
     "language": "python",
     "metadata": {},
     "outputs": [],
     "prompt_number": 9
    },
    {
     "cell_type": "markdown",
     "metadata": {},
     "source": [
      "We should check if everithing is OK with an alternation histogram:"
     ]
    },
    {
     "cell_type": "code",
     "collapsed": false,
     "input": [
      "plot_alternation_hist(d)"
     ],
     "language": "python",
     "metadata": {},
     "outputs": [
      {
       "output_type": "display_data",
       "png": "[encoded data removed]",
       "text": [
        "<matplotlib.figure.Figure at 0x15e10eb8>"
       ]
      }
     ],
     "prompt_number": 10
    },
    {
     "cell_type": "markdown",
     "metadata": {},
     "source": [
      "If the plot looks good we can apply the parameters with:"
     ]
    },
    {
     "cell_type": "code",
     "collapsed": false,
     "input": [
      "loader.usalex_apply_period(d)"
     ],
     "language": "python",
     "metadata": {},
     "outputs": [
      {
       "output_type": "stream",
       "stream": "stdout",
       "text": [
        "#donor: 459745  #acceptor: 1447961 \n",
        "\n"
       ]
      },
      {
       "output_type": "pyout",
       "prompt_number": 11,
       "text": [
        "2012-11-26_006_dsDNA_7d_green100u_red40u G1.000"
       ]
      }
     ],
     "prompt_number": 11
    },
    {
     "cell_type": "markdown",
     "metadata": {},
     "source": [
      "##Measurements infos"
     ]
    },
    {
     "cell_type": "markdown",
     "metadata": {},
     "source": [
      "All the measurement data is in the `d` variable. We can print it:"
     ]
    },
    {
     "cell_type": "code",
     "collapsed": false,
     "input": [
      "d"
     ],
     "language": "python",
     "metadata": {},
     "outputs": [
      {
       "output_type": "pyout",
       "prompt_number": 12,
       "text": [
        "2012-11-26_006_dsDNA_7d_green100u_red40u G1.000"
       ]
      }
     ],
     "prompt_number": 12
    },
    {
     "cell_type": "markdown",
     "metadata": {},
     "source": [
      "Or check the **measurements duration**:"
     ]
    },
    {
     "cell_type": "code",
     "collapsed": false,
     "input": [
      "d.time_max()"
     ],
     "language": "python",
     "metadata": {},
     "outputs": [
      {
       "output_type": "pyout",
       "prompt_number": 13,
       "text": [
        "599.99598879999996"
       ]
      }
     ],
     "prompt_number": 13
    },
    {
     "cell_type": "markdown",
     "metadata": {},
     "source": [
      "##Compute background"
     ]
    },
    {
     "cell_type": "markdown",
     "metadata": {},
     "source": [
      "Compute the background using automatic threshold:"
     ]
    },
    {
     "cell_type": "code",
     "collapsed": false,
     "input": [
      "d.calc_bg(bg.exp_fit, time_s=60, tail_min_us='auto', F_bg=1.7)"
     ],
     "language": "python",
     "metadata": {},
     "outputs": [
      {
       "output_type": "stream",
       "stream": "stdout",
       "text": [
        " - Calculating BG rates ... "
       ]
      },
      {
       "output_type": "stream",
       "stream": "stdout",
       "text": [
        "[DONE]\n"
       ]
      }
     ],
     "prompt_number": 14
    },
    {
     "cell_type": "code",
     "collapsed": false,
     "input": [
      "dplot(d, timetrace_bg)"
     ],
     "language": "python",
     "metadata": {},
     "outputs": [
      {
       "output_type": "pyout",
       "prompt_number": 15,
       "text": [
        "<matplotlib.axes._subplots.AxesSubplot at 0x165823c8>"
       ]
      },
      {
       "output_type": "display_data",
       "png": "[encoded data removed]",
       "text": [
        "<matplotlib.figure.Figure at 0x15e32278>"
       ]
      }
     ],
     "prompt_number": 15
    },
    {
     "cell_type": "code",
     "collapsed": false,
     "input": [
      "d.rate_m, d.rate_dd, d.rate_ad, d.rate_aa"
     ],
     "language": "python",
     "metadata": {},
     "outputs": [
      {
       "output_type": "pyout",
       "prompt_number": 16,
       "text": [
        "([2403.0762016435879],\n",
        " [448.36485539222258],\n",
        " [1074.0630117779403],\n",
        " [825.92110166799125])"
       ]
      }
     ],
     "prompt_number": 16
    },
    {
     "cell_type": "markdown",
     "metadata": {},
     "source": [
      "#Burst search and burst selection"
     ]
    },
    {
     "cell_type": "code",
     "collapsed": false,
     "input": [
      "d_orig = d\n",
      "d = bext.burst_search_and_gate(d, m=10, F=7)"
     ],
     "language": "python",
     "metadata": {},
     "outputs": [
      {
       "output_type": "stream",
       "stream": "stdout",
       "text": [
        "Deep copy executed.\n"
       ]
      },
      {
       "output_type": "stream",
       "stream": "stdout",
       "text": [
        "Deep copy executed.\n"
       ]
      },
      {
       "output_type": "stream",
       "stream": "stdout",
       "text": [
        " - Performing burst search (verbose=False) ..."
       ]
      },
      {
       "output_type": "stream",
       "stream": "stdout",
       "text": [
        " - Recomputing background limits for Dex ... "
       ]
      },
      {
       "output_type": "stream",
       "stream": "stdout",
       "text": [
        "[DONE]\n"
       ]
      },
      {
       "output_type": "stream",
       "stream": "stdout",
       "text": [
        " - Recomputing background limits for all ... "
       ]
      },
      {
       "output_type": "stream",
       "stream": "stdout",
       "text": [
        "[DONE]\n"
       ]
      },
      {
       "output_type": "stream",
       "stream": "stdout",
       "text": [
        " - Fixing  burst data to refer to ph_times_m ... "
       ]
      },
      {
       "output_type": "stream",
       "stream": "stdout",
       "text": [
        "[DONE]\n"
       ]
      },
      {
       "output_type": "stream",
       "stream": "stdout",
       "text": [
        "[DONE]\n"
       ]
      },
      {
       "output_type": "stream",
       "stream": "stdout",
       "text": [
        " - Calculating burst periods ..."
       ]
      },
      {
       "output_type": "stream",
       "stream": "stdout",
       "text": [
        "[DONE]\n"
       ]
      },
      {
       "output_type": "stream",
       "stream": "stdout",
       "text": [
        " - Counting D and A ph and calculating FRET ... \n"
       ]
      },
      {
       "output_type": "stream",
       "stream": "stdout",
       "text": [
        "   - Applying background correction.\n"
       ]
      },
      {
       "output_type": "stream",
       "stream": "stdout",
       "text": [
        "   - Applying leakage correction.\n"
       ]
      },
      {
       "output_type": "stream",
       "stream": "stdout",
       "text": [
        "   - Applying direct excitation correction.\n"
       ]
      },
      {
       "output_type": "stream",
       "stream": "stdout",
       "text": [
        "   [DONE Counting D/A]\n"
       ]
      },
      {
       "output_type": "stream",
       "stream": "stdout",
       "text": [
        " - Performing burst search (verbose=False) ..."
       ]
      },
      {
       "output_type": "stream",
       "stream": "stdout",
       "text": [
        " - Recomputing background limits for AexAem ... "
       ]
      },
      {
       "output_type": "stream",
       "stream": "stdout",
       "text": [
        "[DONE]\n"
       ]
      },
      {
       "output_type": "stream",
       "stream": "stdout",
       "text": [
        " - Recomputing background limits for all ... "
       ]
      },
      {
       "output_type": "stream",
       "stream": "stdout",
       "text": [
        "[DONE]\n"
       ]
      },
      {
       "output_type": "stream",
       "stream": "stdout",
       "text": [
        " - Fixing  burst data to refer to ph_times_m ... "
       ]
      },
      {
       "output_type": "stream",
       "stream": "stdout",
       "text": [
        "[DONE]\n"
       ]
      },
      {
       "output_type": "stream",
       "stream": "stdout",
       "text": [
        "[DONE]\n"
       ]
      },
      {
       "output_type": "stream",
       "stream": "stdout",
       "text": [
        " - Calculating burst periods ..."
       ]
      },
      {
       "output_type": "stream",
       "stream": "stdout",
       "text": [
        "[DONE]\n"
       ]
      },
      {
       "output_type": "stream",
       "stream": "stdout",
       "text": [
        " - Counting D and A ph and calculating FRET ... \n"
       ]
      },
      {
       "output_type": "stream",
       "stream": "stdout",
       "text": [
        "   - Applying background correction.\n"
       ]
      },
      {
       "output_type": "stream",
       "stream": "stdout",
       "text": [
        "   - Applying leakage correction.\n"
       ]
      },
      {
       "output_type": "stream",
       "stream": "stdout",
       "text": [
        "   - Applying direct excitation correction.\n"
       ]
      },
      {
       "output_type": "stream",
       "stream": "stdout",
       "text": [
        "   [DONE Counting D/A]\n"
       ]
      },
      {
       "output_type": "stream",
       "stream": "stdout",
       "text": [
        " - Calculating burst periods ..."
       ]
      },
      {
       "output_type": "stream",
       "stream": "stdout",
       "text": [
        "[DONE]\n"
       ]
      },
      {
       "output_type": "stream",
       "stream": "stdout",
       "text": [
        " - Counting D and A ph and calculating FRET ... \n"
       ]
      },
      {
       "output_type": "stream",
       "stream": "stdout",
       "text": [
        "   - Applying background correction.\n"
       ]
      },
      {
       "output_type": "stream",
       "stream": "stdout",
       "text": [
        "   - Applying leakage correction.\n"
       ]
      },
      {
       "output_type": "stream",
       "stream": "stdout",
       "text": [
        "   - Applying direct excitation correction.\n"
       ]
      },
      {
       "output_type": "stream",
       "stream": "stdout",
       "text": [
        "   [DONE Counting D/A]\n"
       ]
      }
     ],
     "prompt_number": 17
    },
    {
     "cell_type": "code",
     "collapsed": false,
     "input": [
      "assert d.dir_ex == 0\n",
      "assert d.leakage == 0"
     ],
     "language": "python",
     "metadata": {},
     "outputs": [],
     "prompt_number": 18
    },
    {
     "cell_type": "code",
     "collapsed": false,
     "input": [
      "print d.ph_sel\n",
      "dplot(d, hist_fret);"
     ],
     "language": "python",
     "metadata": {},
     "outputs": [
      {
       "output_type": "stream",
       "stream": "stdout",
       "text": [
        "AND-gate\n"
       ]
      },
      {
       "output_type": "display_data",
       "png": "[encoded data removed]",
       "text": [
        "<matplotlib.figure.Figure at 0x1b463e48>"
       ]
      }
     ],
     "prompt_number": 19
    },
    {
     "cell_type": "code",
     "collapsed": false,
     "input": [
      "# if data_id in ['7d', '27d']:\n",
      "#     ds = Sel(d, select_bursts.size, th1=20)\n",
      "# else:\n",
      "#     ds = Sel(d, select_bursts.size, th1=30)"
     ],
     "language": "python",
     "metadata": {},
     "outputs": [],
     "prompt_number": 20
    },
    {
     "cell_type": "code",
     "collapsed": false,
     "input": [
      "ds = Sel(d, select_bursts.size, add_naa=False, th1=30)"
     ],
     "language": "python",
     "metadata": {},
     "outputs": [],
     "prompt_number": 21
    },
    {
     "cell_type": "code",
     "collapsed": false,
     "input": [
      "n_bursts_all = ds.num_bursts[0]"
     ],
     "language": "python",
     "metadata": {},
     "outputs": [],
     "prompt_number": 22
    },
    {
     "cell_type": "code",
     "collapsed": false,
     "input": [
      "def select_and_plot_ES(fret_sel, do_sel):\n",
      "    ds_fret= Sel(ds, select_bursts.ES, **fret_sel)\n",
      "    ds_do = Sel(ds, select_bursts.ES, **do_sel)\n",
      "    bpl.plot_ES_selection(ax, **fret_sel)\n",
      "    bpl.plot_ES_selection(ax, **do_sel)    \n",
      "    return ds_fret, ds_do"
     ],
     "language": "python",
     "metadata": {},
     "outputs": [],
     "prompt_number": 23
    },
    {
     "cell_type": "code",
     "collapsed": false,
     "input": [
      "ax = dplot(ds, hist2d_alex, S_max_norm=2, scatter_alpha=0.1)\n",
      "\n",
      "if data_id == '7d':\n",
      "    fret_sel = dict(E1=0.60, E2=1.2, S1=0.2, S2=0.9, rect=False)\n",
      "    do_sel = dict(E1=-0.2, E2=0.5, S1=0.8, S2=2, rect=True)    \n",
      "    ds_fret, ds_do = select_and_plot_ES(fret_sel, do_sel)\n",
      "    \n",
      "elif data_id == '12d':\n",
      "    fret_sel = dict(E1=0.30,E2=1.2,S1=0.131,S2=0.9, rect=False)\n",
      "    do_sel = dict(E1=-0.4, E2=0.4, S1=0.8, S2=2, rect=False)\n",
      "    ds_fret, ds_do = select_and_plot_ES(fret_sel, do_sel)\n",
      "\n",
      "elif data_id == '17d':\n",
      "    fret_sel = dict(E1=0.01, E2=0.98, S1=0.14, S2=0.88, rect=False)\n",
      "    do_sel = dict(E1=-0.4, E2=0.4, S1=0.80, S2=2, rect=False)\n",
      "    ds_fret, ds_do = select_and_plot_ES(fret_sel, do_sel)\n",
      "\n",
      "elif data_id == '22d':\n",
      "    fret_sel = dict(E1=-0.16, E2=0.6, S1=0.2, S2=0.80, rect=False)\n",
      "    do_sel = dict(E1=-0.2, E2=0.4, S1=0.85, S2=2, rect=True)\n",
      "    ds_fret, ds_do = select_and_plot_ES(fret_sel, do_sel)    \n",
      "\n",
      "elif data_id == '27d':\n",
      "    fret_sel = dict(E1=-0.1, E2=0.5, S1=0.2, S2=0.82, rect=False)\n",
      "    do_sel = dict(E1=-0.2, E2=0.4, S1=0.88, S2=2, rect=True)\n",
      "    ds_fret, ds_do = select_and_plot_ES(fret_sel, do_sel)    "
     ],
     "language": "python",
     "metadata": {},
     "outputs": [
      {
       "output_type": "display_data",
       "png": "[encoded data removed]",
       "text": [
        "<matplotlib.figure.Figure at 0x1b696c18>"
       ]
      }
     ],
     "prompt_number": 24
    },
    {
     "cell_type": "code",
     "collapsed": false,
     "input": [
      "bandwidth = 0.03\n",
      "\n",
      "n_bursts_fret = ds_fret.num_bursts[0]\n",
      "n_bursts_fret"
     ],
     "language": "python",
     "metadata": {},
     "outputs": [
      {
       "output_type": "pyout",
       "prompt_number": 25,
       "text": [
        "611"
       ]
      }
     ],
     "prompt_number": 25
    },
    {
     "cell_type": "code",
     "collapsed": false,
     "input": [
      "dplot(ds_fret, hist2d_alex, scatter_alpha=0.1);"
     ],
     "language": "python",
     "metadata": {},
     "outputs": [
      {
       "output_type": "display_data",
       "png": "[encoded data removed]",
       "text": [
        "<matplotlib.figure.Figure at 0x1b4a7c50>"
       ]
      }
     ],
     "prompt_number": 26
    },
    {
     "cell_type": "code",
     "collapsed": false,
     "input": [
      "nt_th1 = 50"
     ],
     "language": "python",
     "metadata": {},
     "outputs": [],
     "prompt_number": 27
    },
    {
     "cell_type": "code",
     "collapsed": false,
     "input": [
      "dplot(ds_fret, hist_size, which='all', add_naa=False)\n",
      "xlim(-0, 250)\n",
      "plt.axvline(nt_th1)"
     ],
     "language": "python",
     "metadata": {},
     "outputs": [
      {
       "output_type": "pyout",
       "prompt_number": 28,
       "text": [
        "<matplotlib.lines.Line2D at 0x169dc5f8>"
       ]
      },
      {
       "output_type": "display_data",
       "png": "[encoded data removed]",
       "text": [
        "<matplotlib.figure.Figure at 0x1b283978>"
       ]
      }
     ],
     "prompt_number": 28
    },
    {
     "cell_type": "code",
     "collapsed": false,
     "input": [
      "Th_nt = np.arange(35, 120)\n",
      "nt_th = np.zeros(Th_nt.size)\n",
      "for i, th in enumerate(Th_nt):\n",
      "    ds_nt = Sel(ds_fret, select_bursts.size, th1=th)\n",
      "    nt_th[i] = (ds_nt.nd[0]  + ds_nt.na[0]).mean() - th"
     ],
     "language": "python",
     "metadata": {},
     "outputs": [],
     "prompt_number": 29
    },
    {
     "cell_type": "code",
     "collapsed": false,
     "input": [
      "plt.figure()\n",
      "plot(Th_nt, nt_th)\n",
      "plt.axvline(nt_th1)"
     ],
     "language": "python",
     "metadata": {},
     "outputs": [
      {
       "output_type": "pyout",
       "prompt_number": 30,
       "text": [
        "<matplotlib.lines.Line2D at 0x169dcbe0>"
       ]
      },
      {
       "output_type": "display_data",
       "png": "[encoded data removed]",
       "text": [
        "<matplotlib.figure.Figure at 0x169eb048>"
       ]
      }
     ],
     "prompt_number": 30
    },
    {
     "cell_type": "code",
     "collapsed": false,
     "input": [
      "nt_mean = nt_th[np.where(Th_nt == nt_th1)][0]\n",
      "nt_mean"
     ],
     "language": "python",
     "metadata": {},
     "outputs": [
      {
       "output_type": "pyout",
       "prompt_number": 31,
       "text": [
        "23.149193542595256"
       ]
      }
     ],
     "prompt_number": 31
    },
    {
     "cell_type": "markdown",
     "metadata": {},
     "source": [
      "#Fret fit"
     ]
    },
    {
     "cell_type": "markdown",
     "metadata": {},
     "source": [
      "Max position of the Kernel Density Estimation (KDE):"
     ]
    },
    {
     "cell_type": "code",
     "collapsed": false,
     "input": [
      "E_pr_fret_kde = bext.fit_bursts_kde_peak(ds_fret, bandwidth=bandwidth, weights='size')\n",
      "E_fitter = ds_fret.E_fitter"
     ],
     "language": "python",
     "metadata": {},
     "outputs": [],
     "prompt_number": 32
    },
    {
     "cell_type": "code",
     "collapsed": false,
     "input": [
      "E_fitter.histogram(bins=np.r_[-0.1:1.1:0.03])\n",
      "E_fitter.fit_histogram(mfit.factory_gaussian(), center=0.5)"
     ],
     "language": "python",
     "metadata": {},
     "outputs": [
      {
       "output_type": "stream",
       "stream": "stdout",
       "text": [
        " - Adding parameter \"fwhm\"\n"
       ]
      }
     ],
     "prompt_number": 33
    },
    {
     "cell_type": "code",
     "collapsed": false,
     "input": [
      "fig, ax = plt.subplots(1, 2, figsize=(14, 4.5))\n",
      "mfit.plot_mfit(E_fitter, ax=ax[0])\n",
      "mfit.plot_mfit(E_fitter, plot_model=False, plot_kde=True, ax=ax[1])\n",
      "print '%s\\nKDE peak %.2f ' % (ds_fret.ph_sel, E_pr_fret_kde*100)\n",
      "display(E_fitter.params*100)"
     ],
     "language": "python",
     "metadata": {},
     "outputs": [
      {
       "output_type": "stream",
       "stream": "stdout",
       "text": [
        "AND-gate\n",
        "KDE peak 93.56 \n"
       ]
      },
      {
       "html": [
        "<div style=\"max-height:1000px;max-width:1500px;overflow:auto;\">\n",
        "<table border=\"1\" class=\"dataframe\">\n",
        "  <thead>\n",
        "    <tr style=\"text-align: right;\">\n",
        "      <th></th>\n",
        "      <th>sigma</th>\n",
        "      <th>center</th>\n",
        "      <th>amplitude</th>\n",
        "    </tr>\n",
        "  </thead>\n",
        "  <tbody>\n",
        "    <tr>\n",
        "      <th>0</th>\n",
        "      <td> 5.387038</td>\n",
        "      <td> 92.90239</td>\n",
        "      <td> 93.54502</td>\n",
        "    </tr>\n",
        "  </tbody>\n",
        "</table>\n",
        "</div>"
       ],
       "output_type": "display_data",
       "text": [
        "      sigma    center amplitude\n",
        "0  5.387038  92.90239  93.54502"
       ]
      },
      {
       "output_type": "display_data",
       "png": "[encoded data removed]",
       "text": [
        "<matplotlib.figure.Figure at 0x1bfc3b00>"
       ]
      }
     ],
     "prompt_number": 34
    },
    {
     "cell_type": "code",
     "collapsed": false,
     "input": [
      "# ds_fret.add(E_fitter = E_fitter)\n",
      "# dplot(ds_fret, hist_fret_kde, weights='size', bins=np.r_[-0.2:1.2:bandwidth], bandwidth=bandwidth);\n",
      "# plt.axvline(E_pr_fret_kde, ls='--', color='r')\n",
      "# print ds_fret.ph_sel, E_pr_fret_kdedd"
     ],
     "language": "python",
     "metadata": {},
     "outputs": [],
     "prompt_number": 35
    },
    {
     "cell_type": "markdown",
     "metadata": {},
     "source": [
      "Weighted mean of $E$ of each burst:"
     ]
    },
    {
     "cell_type": "code",
     "collapsed": false,
     "input": [
      "ds_fret.fit_E_m(weights='size')"
     ],
     "language": "python",
     "metadata": {},
     "outputs": [
      {
       "output_type": "pyout",
       "prompt_number": 36,
       "text": [
        "array([ 0.9099265])"
       ]
      }
     ],
     "prompt_number": 36
    },
    {
     "cell_type": "markdown",
     "metadata": {},
     "source": [
      "Gaussian fit (no weights):"
     ]
    },
    {
     "cell_type": "code",
     "collapsed": false,
     "input": [
      "ds_fret.fit_E_generic(fit_fun=bl.gaussian_fit_hist, bins=np.r_[-0.1:1.1:0.03], weights=None)"
     ],
     "language": "python",
     "metadata": {},
     "outputs": [
      {
       "output_type": "pyout",
       "prompt_number": 37,
       "text": [
        "array([ 0.92921606])"
       ]
      }
     ],
     "prompt_number": 37
    },
    {
     "cell_type": "markdown",
     "metadata": {},
     "source": [
      "Gaussian fit (using burst size as weights):"
     ]
    },
    {
     "cell_type": "code",
     "collapsed": false,
     "input": [
      "ds_fret.fit_E_generic(fit_fun=bl.gaussian_fit_hist, bins=np.r_[-0.1:1.1:0.005], weights='size')"
     ],
     "language": "python",
     "metadata": {},
     "outputs": [
      {
       "output_type": "pyout",
       "prompt_number": 38,
       "text": [
        "array([ 0.92939049])"
       ]
      }
     ],
     "prompt_number": 38
    },
    {
     "cell_type": "code",
     "collapsed": false,
     "input": [
      "E_kde_w = E_fitter.kde_max_pos[0]\n",
      "E_gauss_w = E_fitter.params.loc[0, 'center']\n",
      "E_gauss_w_sig = E_fitter.params.loc[0, 'sigma']\n",
      "E_gauss_w_err = float(E_gauss_w_sig/np.sqrt(ds_fret.num_bursts[0]))\n",
      "E_kde_w, E_gauss_w, E_gauss_w_sig, E_gauss_w_err"
     ],
     "language": "python",
     "metadata": {},
     "outputs": [
      {
       "output_type": "pyout",
       "prompt_number": 39,
       "text": [
        "(0.93560000000003263,\n",
        " 0.9290238907756412,\n",
        " 0.05387038487269402,\n",
        " 0.0021793624971905637)"
       ]
      }
     ],
     "prompt_number": 39
    },
    {
     "cell_type": "markdown",
     "metadata": {},
     "source": [
      "# Stoichiometry fit"
     ]
    },
    {
     "cell_type": "markdown",
     "metadata": {},
     "source": [
      "Max position of the Kernel Density Estimation (KDE):"
     ]
    },
    {
     "cell_type": "code",
     "collapsed": false,
     "input": [
      "S_pr_fret_kde = bext.fit_bursts_kde_peak(ds_fret, burst_data='S', bandwidth=0.03) #weights='size', add_naa=True)\n",
      "S_fitter = ds_fret.S_fitter"
     ],
     "language": "python",
     "metadata": {},
     "outputs": [],
     "prompt_number": 40
    },
    {
     "cell_type": "code",
     "collapsed": false,
     "input": [
      "S_fitter.histogram(bins=np.r_[-0.1:1.1:0.03])\n",
      "S_fitter.fit_histogram(mfit.factory_gaussian(), center=0.5)"
     ],
     "language": "python",
     "metadata": {},
     "outputs": [
      {
       "output_type": "stream",
       "stream": "stdout",
       "text": [
        " - Adding parameter \"fwhm\"\n"
       ]
      }
     ],
     "prompt_number": 41
    },
    {
     "cell_type": "code",
     "collapsed": false,
     "input": [
      "fig, ax = plt.subplots(1, 2, figsize=(14, 4.5))\n",
      "mfit.plot_mfit(S_fitter, ax=ax[0])\n",
      "mfit.plot_mfit(S_fitter, plot_model=False, plot_kde=True, ax=ax[1])\n",
      "print '%s\\nKDE peak %.2f ' % (ds_fret.ph_sel, S_pr_fret_kde*100)\n",
      "display(S_fitter.params*100)"
     ],
     "language": "python",
     "metadata": {},
     "outputs": [
      {
       "output_type": "stream",
       "stream": "stdout",
       "text": [
        "AND-gate\n",
        "KDE peak 57.64 \n"
       ]
      },
      {
       "html": [
        "<div style=\"max-height:1000px;max-width:1500px;overflow:auto;\">\n",
        "<table border=\"1\" class=\"dataframe\">\n",
        "  <thead>\n",
        "    <tr style=\"text-align: right;\">\n",
        "      <th></th>\n",
        "      <th>sigma</th>\n",
        "      <th>center</th>\n",
        "      <th>amplitude</th>\n",
        "    </tr>\n",
        "  </thead>\n",
        "  <tbody>\n",
        "    <tr>\n",
        "      <th>0</th>\n",
        "      <td> 9.76679</td>\n",
        "      <td> 57.13529</td>\n",
        "      <td> 101.7887</td>\n",
        "    </tr>\n",
        "  </tbody>\n",
        "</table>\n",
        "</div>"
       ],
       "output_type": "display_data",
       "text": [
        "     sigma    center amplitude\n",
        "0  9.76679  57.13529  101.7887"
       ]
      },
      {
       "output_type": "display_data",
       "png": "[encoded data removed]",
       "text": [
        "<matplotlib.figure.Figure at 0x1b523f28>"
       ]
      }
     ],
     "prompt_number": 42
    },
    {
     "cell_type": "code",
     "collapsed": false,
     "input": [
      "S_kde = S_fitter.kde_max_pos[0]\n",
      "S_gauss = S_fitter.params.loc[0, 'center']\n",
      "S_gauss_sig = S_fitter.params.loc[0, 'sigma']\n",
      "S_gauss_err = float(S_gauss_sig/np.sqrt(ds_fret.num_bursts[0]))\n",
      "S_kde, S_gauss, S_gauss_sig, S_gauss_err"
     ],
     "language": "python",
     "metadata": {},
     "outputs": [
      {
       "output_type": "pyout",
       "prompt_number": 43,
       "text": [
        "(0.57640000000002223,\n",
        " 0.5713528672759876,\n",
        " 0.09766790310947626,\n",
        " 0.003951220428794934)"
       ]
      }
     ],
     "prompt_number": 43
    },
    {
     "cell_type": "markdown",
     "metadata": {},
     "source": [
      "The Maximum likelihood fit for a Gaussian population is the mean:"
     ]
    },
    {
     "cell_type": "code",
     "collapsed": false,
     "input": [
      "S = ds_fret.S[0]\n",
      "S_ml_fit = (S.mean(), S.std())\n",
      "S_ml_fit"
     ],
     "language": "python",
     "metadata": {},
     "outputs": [
      {
       "output_type": "pyout",
       "prompt_number": 44,
       "text": [
        "(0.57167940407934925, 0.091610125853949051)"
       ]
      }
     ],
     "prompt_number": 44
    },
    {
     "cell_type": "markdown",
     "metadata": {},
     "source": [
      "Computing the weighted mean and weighted standard deviation we get:"
     ]
    },
    {
     "cell_type": "code",
     "collapsed": false,
     "input": [
      "weights = bl.fret_fit.get_weights(ds_fret.nd[0], ds_fret.na[0], weights='size', naa=ds_fret.naa[0], gamma=1.)\n",
      "S_mean = np.dot(weights, S)/weights.sum()\n",
      "S_std_dev = np.sqrt(\n",
      "        np.dot(weights, (S - S_mean)**2)/weights.sum())\n",
      "S_wmean_fit = [S_mean, S_std_dev]\n",
      "S_wmean_fit"
     ],
     "language": "python",
     "metadata": {},
     "outputs": [
      {
       "output_type": "pyout",
       "prompt_number": 45,
       "text": [
        "[0.55968211677208257, 0.089938476124804392]"
       ]
      }
     ],
     "prompt_number": 45
    },
    {
     "cell_type": "markdown",
     "metadata": {},
     "source": [
      "# Save data to file"
     ]
    },
    {
     "cell_type": "code",
     "collapsed": false,
     "input": [
      "sample = data_id"
     ],
     "language": "python",
     "metadata": {},
     "outputs": [],
     "prompt_number": 46
    },
    {
     "cell_type": "markdown",
     "metadata": {},
     "source": [
      "The following string contains the list of variables to be saved. When saving, the order of the variables is preserved."
     ]
    },
    {
     "cell_type": "code",
     "collapsed": false,
     "input": [
      "variables = ('sample n_bursts_all n_bursts_fret '\n",
      "             'E_kde_w E_gauss_w E_gauss_w_sig E_gauss_w_err S_kde S_gauss S_gauss_sig S_gauss_err '\n",
      "             'nt_mean\\n')"
     ],
     "language": "python",
     "metadata": {},
     "outputs": [],
     "prompt_number": 47
    },
    {
     "cell_type": "markdown",
     "metadata": {},
     "source": [
      "This is just a trick to format the different variables:"
     ]
    },
    {
     "cell_type": "code",
     "collapsed": false,
     "input": [
      "var_dict = {name: eval(name) for name in variables.split()}\n",
      "var_fmt = ' '.join(['{%s}' % name for name in variables.split()]) + '\\n'\n",
      "data_str = var_fmt.format(**var_dict)"
     ],
     "language": "python",
     "metadata": {},
     "outputs": [],
     "prompt_number": 48
    },
    {
     "cell_type": "code",
     "collapsed": false,
     "input": [
      "data_str = var_fmt.format(**var_dict)"
     ],
     "language": "python",
     "metadata": {},
     "outputs": [],
     "prompt_number": 49
    },
    {
     "cell_type": "code",
     "collapsed": false,
     "input": [
      "print variables\n",
      "print data_str"
     ],
     "language": "python",
     "metadata": {},
     "outputs": [
      {
       "output_type": "stream",
       "stream": "stdout",
       "text": [
        "sample n_bursts_all n_bursts_fret E_kde_w E_gauss_w E_gauss_w_sig E_gauss_w_err S_kde S_gauss S_gauss_sig S_gauss_err nt_mean\n",
        "\n",
        "7d 667 611 0.9356 0.929023890776 0.0538703848727 0.00217936249719 0.5764 0.571352867276 0.0976679031095 0.00395122042879 23.1491935426\n",
        "\n"
       ]
      }
     ],
     "prompt_number": 50
    },
    {
     "cell_type": "code",
     "collapsed": false,
     "input": [
      "# NOTE: The file name should be the notebook name but with .txt extension\n",
      "with open('results/usALEX-5samples-PR-raw-AND-gate.txt', 'a') as f:\n",
      "    f.seek(0, 2)\n",
      "    if f.tell() == 0:\n",
      "        f.write(variables)\n",
      "    f.write(data_str)"
     ],
     "language": "python",
     "metadata": {},
     "outputs": [],
     "prompt_number": 51
    },
    {
     "cell_type": "code",
     "collapsed": false,
     "input": [],
     "language": "python",
     "metadata": {},
     "outputs": [],
     "prompt_number": 52
    }
   ],
   "metadata": {}
  }
 ]
}