{
 "cells": [
  {
   "cell_type": "markdown",
   "metadata": {},
   "source": [
    "# usALEX-5samples - Template\n",
    "\n",
    "> *This notebook is a template that is executed by [usALEX-Batch](usALEX-Batch.ipynb) in order to fit E and S values of the FRET population for all the 5 smFRET samples.*\n",
    ">\n",
    "> *This notebook reads the environment variable NB_DATA_FILE to select which file to process.*"
   ]
  },
  {
   "cell_type": "code",
   "execution_count": 1,
   "metadata": {},
   "outputs": [],
   "source": [
    "ph_sel_name = \"None\""
   ]
  },
  {
   "cell_type": "code",
   "execution_count": 2,
   "metadata": {},
   "outputs": [],
   "source": [
    "data_id = \"7d\""
   ]
  },
  {
   "cell_type": "markdown",
   "metadata": {},
   "source": [
    "## Load software and filenames definitions"
   ]
  },
  {
   "cell_type": "code",
   "execution_count": 3,
   "metadata": {
    "collapsed": false
   },
   "outputs": [
    {
     "name": "stdout",
     "output_type": "stream",
     "text": [
      " - Optimized (cython) burst search loaded.\n",
      " - Optimized (cython) photon counting loaded.\n",
      "-------------------------------------------------------------"
     ]
    },
    {
     "name": "stdout",
     "output_type": "stream",
     "text": [
      "\n",
      " You are running FRETBursts (version 0.4rc10-7-gb2e1b5d).\n",
      "\n",
      " If you use this software in a publication, please cite it as:\n",
      "\n",
      "   FRETBursts - An opensource single-molecule FRET bursts analysis toolkit.\n",
      "   A. Ingargiola 2014. https://github.com/tritemio/FRETBursts\n",
      "\n",
      "-------------------------------------------------------------\n"
     ]
    },
    {
     "name": "stderr",
     "output_type": "stream",
     "text": [
      ":0: FutureWarning: IPython widgets are experimental and may change in the future.\n"
     ]
    }
   ],
   "source": [
    "from fretbursts import *"
   ]
  },
  {
   "cell_type": "code",
   "execution_count": 4,
   "metadata": {
    "collapsed": false
   },
   "outputs": [],
   "source": [
    "init_notebook()\n",
    "from IPython.display import display"
   ]
  },
  {
   "cell_type": "markdown",
   "metadata": {},
   "source": [
    "Data folder:"
   ]
  },
  {
   "cell_type": "code",
   "execution_count": 5,
   "metadata": {
    "collapsed": false
   },
   "outputs": [],
   "source": [
    "data_dir = './data/2012-11-26/'"
   ]
  },
  {
   "cell_type": "code",
   "execution_count": 6,
   "metadata": {
    "collapsed": false
   },
   "outputs": [],
   "source": [
    "import os\n",
    "data_dir = os.path.abspath(data_dir) + '/'\n",
    "assert os.path.exists(data_dir), \"Path '%s' does not exist.\" % data_dir"
   ]
  },
  {
   "cell_type": "markdown",
   "metadata": {},
   "source": [
    "List of data files:"
   ]
  },
  {
   "cell_type": "code",
   "execution_count": 7,
   "metadata": {
    "collapsed": false
   },
   "outputs": [
    {
     "data": {
      "text/plain": [
       "{'12d': 'C:\\\\Data\\\\Antonio\\\\software\\\\src\\\\multispot_paper\\\\data\\\\2012-11-26\\\\007_dsDNA_12d_3nM_green100u_red40u.hdf5',\n",
       " '17d': 'C:\\\\Data\\\\Antonio\\\\software\\\\src\\\\multispot_paper\\\\data\\\\2012-11-26\\\\004_dsDNA_17d_green100u_red40u.hdf5',\n",
       " '22d': 'C:\\\\Data\\\\Antonio\\\\software\\\\src\\\\multispot_paper\\\\data\\\\2012-11-26\\\\008_dsDNA_22d_500pM_green100u_red40u.hdf5',\n",
       " '27d': 'C:\\\\Data\\\\Antonio\\\\software\\\\src\\\\multispot_paper\\\\data\\\\2012-11-26\\\\005_dsDNA_27d_green100u_red40u.hdf5',\n",
       " '7d': 'C:\\\\Data\\\\Antonio\\\\software\\\\src\\\\multispot_paper\\\\data\\\\2012-11-26\\\\006_dsDNA_7d_green100u_red40u.hdf5'}"
      ]
     },
     "execution_count": 7,
     "metadata": {},
     "output_type": "execute_result"
    }
   ],
   "source": [
    "from glob import glob\n",
    "file_list = sorted(f for f in glob(data_dir + '*.hdf5') if '_BKG' not in f)\n",
    "## Selection for POLIMI 2012-11-26 datatset\n",
    "labels = ['17d', '27d', '7d', '12d', '22d']\n",
    "files_dict = {lab: fname for lab, fname in zip(labels, file_list)}\n",
    "files_dict"
   ]
  },
  {
   "cell_type": "code",
   "execution_count": 8,
   "metadata": {
    "collapsed": false
   },
   "outputs": [
    {
     "data": {
      "text/plain": [
       "'7d'"
      ]
     },
     "execution_count": 8,
     "metadata": {},
     "output_type": "execute_result"
    }
   ],
   "source": [
    "data_id"
   ]
  },
  {
   "cell_type": "markdown",
   "metadata": {},
   "source": [
    "## Data load"
   ]
  },
  {
   "cell_type": "markdown",
   "metadata": {},
   "source": [
    "Initial loading of the data:"
   ]
  },
  {
   "cell_type": "code",
   "execution_count": 9,
   "metadata": {
    "collapsed": false
   },
   "outputs": [],
   "source": [
    "d = loader.photon_hdf5(filename=files_dict[data_id])"
   ]
  },
  {
   "cell_type": "markdown",
   "metadata": {},
   "source": [
    "## Laser alternation selection\n",
    "\n",
    "At this point we have only the timestamps and the detector numbers:"
   ]
  },
  {
   "cell_type": "code",
   "execution_count": 10,
   "metadata": {
    "collapsed": false
   },
   "outputs": [
    {
     "data": {
      "text/plain": [
       "(array([       9160,       41823,       50082, ..., 47999946859,\n",
       "        47999946992, 47999965526], dtype=int64),\n",
       " array([1, 1, 1, ..., 1, 1, 1], dtype=uint32))"
      ]
     },
     "execution_count": 10,
     "metadata": {},
     "output_type": "execute_result"
    }
   ],
   "source": [
    "d.ph_times_t, d.det_t"
   ]
  },
  {
   "cell_type": "markdown",
   "metadata": {},
   "source": [
    "We need to define some parameters: donor and acceptor ch, excitation period and donor and acceptor excitiations:"
   ]
  },
  {
   "cell_type": "code",
   "execution_count": 11,
   "metadata": {
    "collapsed": false
   },
   "outputs": [],
   "source": [
    "d.add(det_donor_accept=(0, 1), alex_period=4000, D_ON=(2850, 580), A_ON=(900, 2580))"
   ]
  },
  {
   "cell_type": "markdown",
   "metadata": {},
   "source": [
    "We should check if everithing is OK with an alternation histogram:"
   ]
  },
  {
   "cell_type": "code",
   "execution_count": 12,
   "metadata": {
    "collapsed": false
   },
   "outputs": [
    {
     "data": {
      "image/png": "[encoded data removed]",
      "text/plain": [
       "<matplotlib.figure.Figure at 0x181bf7f0>"
      ]
     },
     "metadata": {},
     "output_type": "display_data"
    }
   ],
   "source": [
    "plot_alternation_hist(d)"
   ]
  },
  {
   "cell_type": "markdown",
   "metadata": {},
   "source": [
    "If the plot looks good we can apply the parameters with:"
   ]
  },
  {
   "cell_type": "code",
   "execution_count": 13,
   "metadata": {
    "collapsed": false
   },
   "outputs": [
    {
     "name": "stdout",
     "output_type": "stream",
     "text": [
      "#donor: 459749  #acceptor: 1447973 \n",
      "\n"
     ]
    }
   ],
   "source": [
    "loader.alex_apply_period(d)"
   ]
  },
  {
   "cell_type": "markdown",
   "metadata": {},
   "source": [
    "##Measurements infos"
   ]
  },
  {
   "cell_type": "markdown",
   "metadata": {},
   "source": [
    "All the measurement data is in the `d` variable. We can print it:"
   ]
  },
  {
   "cell_type": "code",
   "execution_count": 14,
   "metadata": {
    "collapsed": false
   },
   "outputs": [
    {
     "data": {
      "text/plain": [
       "2012-11-26_006_dsDNA_7d_green100u_red40u G1.000"
      ]
     },
     "execution_count": 14,
     "metadata": {},
     "output_type": "execute_result"
    }
   ],
   "source": [
    "d"
   ]
  },
  {
   "cell_type": "markdown",
   "metadata": {},
   "source": [
    "Or check the **measurements duration**:"
   ]
  },
  {
   "cell_type": "code",
   "execution_count": 15,
   "metadata": {
    "collapsed": false
   },
   "outputs": [
    {
     "data": {
      "text/plain": [
       "599.99956907499995"
      ]
     },
     "execution_count": 15,
     "metadata": {},
     "output_type": "execute_result"
    }
   ],
   "source": [
    "d.time_max"
   ]
  },
  {
   "cell_type": "markdown",
   "metadata": {},
   "source": [
    "##Compute background"
   ]
  },
  {
   "cell_type": "markdown",
   "metadata": {},
   "source": [
    "Compute the background using automatic threshold:"
   ]
  },
  {
   "cell_type": "code",
   "execution_count": 16,
   "metadata": {
    "collapsed": false
   },
   "outputs": [
    {
     "name": "stdout",
     "output_type": "stream",
     "text": [
      " - Calculating BG rates ... "
     ]
    },
    {
     "name": "stdout",
     "output_type": "stream",
     "text": [
      "[DONE]\n"
     ]
    }
   ],
   "source": [
    "d.calc_bg(bg.exp_fit, time_s=60, tail_min_us='auto', F_bg=1.7)"
   ]
  },
  {
   "cell_type": "code",
   "execution_count": 17,
   "metadata": {
    "collapsed": false
   },
   "outputs": [
    {
     "data": {
      "text/plain": [
       "<matplotlib.axes._subplots.AxesSubplot at 0x1acfe860>"
      ]
     },
     "execution_count": 17,
     "metadata": {},
     "output_type": "execute_result"
    },
    {
     "data": {
      "image/png": "[encoded data removed]",
      "text/plain": [
       "<matplotlib.figure.Figure at 0x1acc2358>"
      ]
     },
     "metadata": {},
     "output_type": "display_data"
    }
   ],
   "source": [
    "dplot(d, timetrace_bg)"
   ]
  },
  {
   "cell_type": "code",
   "execution_count": 18,
   "metadata": {
    "collapsed": false
   },
   "outputs": [
    {
     "data": {
      "text/plain": [
       "([2403.0678323185302],\n",
       " [448.36123075392214],\n",
       " [1074.0526455393538],\n",
       " [825.93407383889883])"
      ]
     },
     "execution_count": 18,
     "metadata": {},
     "output_type": "execute_result"
    }
   ],
   "source": [
    "d.rate_m, d.rate_dd, d.rate_ad, d.rate_aa"
   ]
  },
  {
   "cell_type": "markdown",
   "metadata": {},
   "source": [
    "#Burst search and burst selection"
   ]
  },
  {
   "cell_type": "code",
   "execution_count": 19,
   "metadata": {
    "collapsed": false
   },
   "outputs": [
    {
     "name": "stdout",
     "output_type": "stream",
     "text": [
      "Deep copy executed.\n"
     ]
    },
    {
     "name": "stdout",
     "output_type": "stream",
     "text": [
      "Deep copy executed.\n"
     ]
    },
    {
     "name": "stdout",
     "output_type": "stream",
     "text": [
      " - Performing burst search (verbose=False) ..."
     ]
    },
    {
     "name": "stdout",
     "output_type": "stream",
     "text": [
      " - Recomputing background limits for Dex ... "
     ]
    },
    {
     "name": "stdout",
     "output_type": "stream",
     "text": [
      "[DONE]\n"
     ]
    },
    {
     "name": "stdout",
     "output_type": "stream",
     "text": [
      " - Recomputing background limits for all ... "
     ]
    },
    {
     "name": "stdout",
     "output_type": "stream",
     "text": [
      "[DONE]\n"
     ]
    },
    {
     "name": "stdout",
     "output_type": "stream",
     "text": [
      " - Fixing  burst data to refer to ph_times_m ... "
     ]
    },
    {
     "name": "stdout",
     "output_type": "stream",
     "text": [
      "[DONE]\n"
     ]
    },
    {
     "name": "stdout",
     "output_type": "stream",
     "text": [
      "[DONE]\n"
     ]
    },
    {
     "name": "stdout",
     "output_type": "stream",
     "text": [
      " - Calculating burst periods ..."
     ]
    },
    {
     "name": "stdout",
     "output_type": "stream",
     "text": [
      "[DONE]\n"
     ]
    },
    {
     "name": "stdout",
     "output_type": "stream",
     "text": [
      " - Counting D and A ph and calculating FRET ... \n"
     ]
    },
    {
     "name": "stdout",
     "output_type": "stream",
     "text": [
      "   - Applying background correction.\n"
     ]
    },
    {
     "name": "stdout",
     "output_type": "stream",
     "text": [
      "   - Applying leakage correction.\n"
     ]
    },
    {
     "name": "stdout",
     "output_type": "stream",
     "text": [
      "   - Applying direct excitation correction.\n"
     ]
    },
    {
     "name": "stdout",
     "output_type": "stream",
     "text": [
      "   [DONE Counting D/A]\n"
     ]
    },
    {
     "name": "stdout",
     "output_type": "stream",
     "text": [
      " - Performing burst search (verbose=False) ..."
     ]
    },
    {
     "name": "stdout",
     "output_type": "stream",
     "text": [
      " - Recomputing background limits for AexAem ... "
     ]
    },
    {
     "name": "stdout",
     "output_type": "stream",
     "text": [
      "[DONE]\n"
     ]
    },
    {
     "name": "stdout",
     "output_type": "stream",
     "text": [
      " - Recomputing background limits for all ... "
     ]
    },
    {
     "name": "stdout",
     "output_type": "stream",
     "text": [
      "[DONE]\n"
     ]
    },
    {
     "name": "stdout",
     "output_type": "stream",
     "text": [
      " - Fixing  burst data to refer to ph_times_m ... "
     ]
    },
    {
     "name": "stdout",
     "output_type": "stream",
     "text": [
      "[DONE]\n"
     ]
    },
    {
     "name": "stdout",
     "output_type": "stream",
     "text": [
      "[DONE]\n"
     ]
    },
    {
     "name": "stdout",
     "output_type": "stream",
     "text": [
      " - Calculating burst periods ..."
     ]
    },
    {
     "name": "stdout",
     "output_type": "stream",
     "text": [
      "[DONE]\n"
     ]
    },
    {
     "name": "stdout",
     "output_type": "stream",
     "text": [
      " - Counting D and A ph and calculating FRET ... \n"
     ]
    },
    {
     "name": "stdout",
     "output_type": "stream",
     "text": [
      "   - Applying background correction.\n"
     ]
    },
    {
     "name": "stdout",
     "output_type": "stream",
     "text": [
      "   - Applying leakage correction.\n"
     ]
    },
    {
     "name": "stdout",
     "output_type": "stream",
     "text": [
      "   - Applying direct excitation correction.\n"
     ]
    },
    {
     "name": "stdout",
     "output_type": "stream",
     "text": [
      "   [DONE Counting D/A]\n"
     ]
    },
    {
     "name": "stdout",
     "output_type": "stream",
     "text": [
      " - Calculating burst periods ..."
     ]
    },
    {
     "name": "stdout",
     "output_type": "stream",
     "text": [
      "[DONE]\n"
     ]
    },
    {
     "name": "stdout",
     "output_type": "stream",
     "text": [
      " - Counting D and A ph and calculating FRET ... \n"
     ]
    },
    {
     "name": "stdout",
     "output_type": "stream",
     "text": [
      "   - Applying background correction.\n"
     ]
    },
    {
     "name": "stdout",
     "output_type": "stream",
     "text": [
      "   - Applying leakage correction.\n"
     ]
    },
    {
     "name": "stdout",
     "output_type": "stream",
     "text": [
      "   - Applying direct excitation correction.\n"
     ]
    },
    {
     "name": "stdout",
     "output_type": "stream",
     "text": [
      "   [DONE Counting D/A]\n"
     ]
    }
   ],
   "source": [
    "d_orig = d\n",
    "d = bext.burst_search_and_gate(d, m=10, F=7)"
   ]
  },
  {
   "cell_type": "code",
   "execution_count": 20,
   "metadata": {
    "collapsed": false
   },
   "outputs": [],
   "source": [
    "assert d.dir_ex == 0\n",
    "assert d.leakage == 0"
   ]
  },
  {
   "cell_type": "code",
   "execution_count": 21,
   "metadata": {
    "collapsed": false
   },
   "outputs": [
    {
     "name": "stdout",
     "output_type": "stream",
     "text": [
      "AND-gate\n"
     ]
    },
    {
     "data": {
      "image/png": "[encoded data removed]",
      "text/plain": [
       "<matplotlib.figure.Figure at 0x1f7c07f0>"
      ]
     },
     "metadata": {},
     "output_type": "display_data"
    }
   ],
   "source": [
    "print d.ph_sel\n",
    "dplot(d, hist_fret);"
   ]
  },
  {
   "cell_type": "code",
   "execution_count": 22,
   "metadata": {
    "collapsed": false
   },
   "outputs": [],
   "source": [
    "# if data_id in ['7d', '27d']:\n",
    "#     ds = d.select_bursts(select_bursts.size, th1=20)\n",
    "# else:\n",
    "#     ds = d.select_bursts(select_bursts.size, th1=30)"
   ]
  },
  {
   "cell_type": "code",
   "execution_count": 23,
   "metadata": {
    "collapsed": false
   },
   "outputs": [],
   "source": [
    "ds = d.select_bursts(select_bursts.size, add_naa=False, th1=30)"
   ]
  },
  {
   "cell_type": "code",
   "execution_count": 24,
   "metadata": {
    "collapsed": false
   },
   "outputs": [],
   "source": [
    "n_bursts_all = ds.num_bursts[0]"
   ]
  },
  {
   "cell_type": "code",
   "execution_count": 25,
   "metadata": {
    "collapsed": false
   },
   "outputs": [],
   "source": [
    "def select_and_plot_ES(fret_sel, do_sel):\n",
    "    ds_fret= ds.select_bursts(select_bursts.ES, **fret_sel)\n",
    "    ds_do = ds.select_bursts(select_bursts.ES, **do_sel)\n",
    "    bpl.plot_ES_selection(ax, **fret_sel)\n",
    "    bpl.plot_ES_selection(ax, **do_sel)    \n",
    "    return ds_fret, ds_do"
   ]
  },
  {
   "cell_type": "code",
   "execution_count": 26,
   "metadata": {
    "collapsed": false
   },
   "outputs": [
    {
     "data": {
      "image/png": "[encoded data removed]",
      "text/plain": [
       "<matplotlib.figure.Figure at 0x1fd21080>"
      ]
     },
     "metadata": {},
     "output_type": "display_data"
    }
   ],
   "source": [
    "ax = dplot(ds, hist2d_alex, S_max_norm=2, scatter_alpha=0.1)\n",
    "\n",
    "if data_id == '7d':\n",
    "    fret_sel = dict(E1=0.60, E2=1.2, S1=0.2, S2=0.9, rect=False)\n",
    "    do_sel = dict(E1=-0.2, E2=0.5, S1=0.8, S2=2, rect=True)    \n",
    "    ds_fret, ds_do = select_and_plot_ES(fret_sel, do_sel)\n",
    "    \n",
    "elif data_id == '12d':\n",
    "    fret_sel = dict(E1=0.30,E2=1.2,S1=0.131,S2=0.9, rect=False)\n",
    "    do_sel = dict(E1=-0.4, E2=0.4, S1=0.8, S2=2, rect=False)\n",
    "    ds_fret, ds_do = select_and_plot_ES(fret_sel, do_sel)\n",
    "\n",
    "elif data_id == '17d':\n",
    "    fret_sel = dict(E1=0.01, E2=0.98, S1=0.14, S2=0.88, rect=False)\n",
    "    do_sel = dict(E1=-0.4, E2=0.4, S1=0.80, S2=2, rect=False)\n",
    "    ds_fret, ds_do = select_and_plot_ES(fret_sel, do_sel)\n",
    "\n",
    "elif data_id == '22d':\n",
    "    fret_sel = dict(E1=-0.16, E2=0.6, S1=0.2, S2=0.80, rect=False)\n",
    "    do_sel = dict(E1=-0.2, E2=0.4, S1=0.85, S2=2, rect=True)\n",
    "    ds_fret, ds_do = select_and_plot_ES(fret_sel, do_sel)    \n",
    "\n",
    "elif data_id == '27d':\n",
    "    fret_sel = dict(E1=-0.1, E2=0.5, S1=0.2, S2=0.82, rect=False)\n",
    "    do_sel = dict(E1=-0.2, E2=0.4, S1=0.88, S2=2, rect=True)\n",
    "    ds_fret, ds_do = select_and_plot_ES(fret_sel, do_sel)    "
   ]
  },
  {
   "cell_type": "code",
   "execution_count": 27,
   "metadata": {
    "collapsed": false
   },
   "outputs": [
    {
     "data": {
      "text/plain": [
       "611"
      ]
     },
     "execution_count": 27,
     "metadata": {},
     "output_type": "execute_result"
    }
   ],
   "source": [
    "bandwidth = 0.03\n",
    "\n",
    "n_bursts_fret = ds_fret.num_bursts[0]\n",
    "n_bursts_fret"
   ]
  },
  {
   "cell_type": "code",
   "execution_count": 28,
   "metadata": {
    "collapsed": false
   },
   "outputs": [
    {
     "data": {
      "image/png": "[encoded data removed]",
      "text/plain": [
       "<matplotlib.figure.Figure at 0x1f7b6ef0>"
      ]
     },
     "metadata": {},
     "output_type": "display_data"
    }
   ],
   "source": [
    "dplot(ds_fret, hist2d_alex, scatter_alpha=0.1);"
   ]
  },
  {
   "cell_type": "code",
   "execution_count": 29,
   "metadata": {
    "collapsed": false
   },
   "outputs": [],
   "source": [
    "nt_th1 = 50"
   ]
  },
  {
   "cell_type": "code",
   "execution_count": 30,
   "metadata": {
    "collapsed": false
   },
   "outputs": [
    {
     "data": {
      "text/plain": [
       "<matplotlib.lines.Line2D at 0x1f2c82b0>"
      ]
     },
     "execution_count": 30,
     "metadata": {},
     "output_type": "execute_result"
    },
    {
     "data": {
      "image/png": "[encoded data removed]",
      "text/plain": [
       "<matplotlib.figure.Figure at 0x1f2c89b0>"
      ]
     },
     "metadata": {},
     "output_type": "display_data"
    }
   ],
   "source": [
    "dplot(ds_fret, hist_size, which='all', add_naa=False)\n",
    "xlim(-0, 250)\n",
    "plt.axvline(nt_th1)"
   ]
  },
  {
   "cell_type": "code",
   "execution_count": 31,
   "metadata": {
    "collapsed": false
   },
   "outputs": [],
   "source": [
    "Th_nt = np.arange(35, 120)\n",
    "nt_th = np.zeros(Th_nt.size)\n",
    "for i, th in enumerate(Th_nt):\n",
    "    ds_nt = ds_fret.select_bursts(select_bursts.size, th1=th)\n",
    "    nt_th[i] = (ds_nt.nd[0]  + ds_nt.na[0]).mean() - th"
   ]
  },
  {
   "cell_type": "code",
   "execution_count": 32,
   "metadata": {
    "collapsed": false
   },
   "outputs": [
    {
     "data": {
      "text/plain": [
       "<matplotlib.lines.Line2D at 0x1ee0b780>"
      ]
     },
     "execution_count": 32,
     "metadata": {},
     "output_type": "execute_result"
    },
    {
     "data": {
      "image/png": "[encoded data removed]",
      "text/plain": [
       "<matplotlib.figure.Figure at 0x1f2c8208>"
      ]
     },
     "metadata": {},
     "output_type": "display_data"
    }
   ],
   "source": [
    "plt.figure()\n",
    "plot(Th_nt, nt_th)\n",
    "plt.axvline(nt_th1)"
   ]
  },
  {
   "cell_type": "code",
   "execution_count": 33,
   "metadata": {
    "collapsed": false
   },
   "outputs": [
    {
     "data": {
      "text/plain": [
       "23.149236167904462"
      ]
     },
     "execution_count": 33,
     "metadata": {},
     "output_type": "execute_result"
    }
   ],
   "source": [
    "nt_mean = nt_th[np.where(Th_nt == nt_th1)][0]\n",
    "nt_mean"
   ]
  },
  {
   "cell_type": "markdown",
   "metadata": {},
   "source": [
    "#Fret fit"
   ]
  },
  {
   "cell_type": "markdown",
   "metadata": {},
   "source": [
    "Max position of the Kernel Density Estimation (KDE):"
   ]
  },
  {
   "cell_type": "code",
   "execution_count": 34,
   "metadata": {
    "collapsed": false
   },
   "outputs": [],
   "source": [
    "E_pr_fret_kde = bext.fit_bursts_kde_peak(ds_fret, bandwidth=bandwidth, weights='size')\n",
    "E_fitter = ds_fret.E_fitter"
   ]
  },
  {
   "cell_type": "code",
   "execution_count": 35,
   "metadata": {
    "collapsed": false
   },
   "outputs": [
    {
     "name": "stdout",
     "output_type": "stream",
     "text": [
      " - Adding parameter \"fwhm\"\n"
     ]
    }
   ],
   "source": [
    "E_fitter.histogram(bins=np.r_[-0.1:1.1:0.03])\n",
    "E_fitter.fit_histogram(mfit.factory_gaussian(), center=0.5)"
   ]
  },
  {
   "cell_type": "code",
   "execution_count": 36,
   "metadata": {
    "collapsed": false
   },
   "outputs": [
    {
     "name": "stdout",
     "output_type": "stream",
     "text": [
      "AND-gate\n",
      "KDE peak 93.56 \n"
     ]
    },
    {
     "data": {
      "text/html": [
       "<div style=\"max-height:1000px;max-width:1500px;overflow:auto;\">\n",
       "<table border=\"1\" class=\"dataframe\">\n",
       "  <thead>\n",
       "    <tr style=\"text-align: right;\">\n",
       "      <th></th>\n",
       "      <th>sigma</th>\n",
       "      <th>center</th>\n",
       "      <th>amplitude</th>\n",
       "    </tr>\n",
       "  </thead>\n",
       "  <tbody>\n",
       "    <tr>\n",
       "      <th>0</th>\n",
       "      <td>5.387039</td>\n",
       "      <td>92.90239</td>\n",
       "      <td>93.54503</td>\n",
       "    </tr>\n",
       "  </tbody>\n",
       "</table>\n",
       "</div>"
      ],
      "text/plain": [
       "      sigma    center amplitude\n",
       "0  5.387039  92.90239  93.54503"
      ]
     },
     "metadata": {},
     "output_type": "display_data"
    },
    {
     "data": {
      "image/png": "[encoded data removed]",
      "text/plain": [
       "<matplotlib.figure.Figure at 0x1ee4d898>"
      ]
     },
     "metadata": {},
     "output_type": "display_data"
    }
   ],
   "source": [
    "fig, ax = plt.subplots(1, 2, figsize=(14, 4.5))\n",
    "mfit.plot_mfit(E_fitter, ax=ax[0])\n",
    "mfit.plot_mfit(E_fitter, plot_model=False, plot_kde=True, ax=ax[1])\n",
    "print '%s\\nKDE peak %.2f ' % (ds_fret.ph_sel, E_pr_fret_kde*100)\n",
    "display(E_fitter.params*100)"
   ]
  },
  {
   "cell_type": "code",
   "execution_count": 37,
   "metadata": {
    "collapsed": false
   },
   "outputs": [],
   "source": [
    "# ds_fret.add(E_fitter = E_fitter)\n",
    "# dplot(ds_fret, hist_fret_kde, weights='size', bins=np.r_[-0.2:1.2:bandwidth], bandwidth=bandwidth);\n",
    "# plt.axvline(E_pr_fret_kde, ls='--', color='r')\n",
    "# print ds_fret.ph_sel, E_pr_fret_kdedd"
   ]
  },
  {
   "cell_type": "markdown",
   "metadata": {},
   "source": [
    "Weighted mean of $E$ of each burst:"
   ]
  },
  {
   "cell_type": "code",
   "execution_count": 38,
   "metadata": {
    "collapsed": false
   },
   "outputs": [
    {
     "data": {
      "text/plain": [
       "array([ 0.90992639])"
      ]
     },
     "execution_count": 38,
     "metadata": {},
     "output_type": "execute_result"
    }
   ],
   "source": [
    "ds_fret.fit_E_m(weights='size')"
   ]
  },
  {
   "cell_type": "markdown",
   "metadata": {},
   "source": [
    "Gaussian fit (no weights):"
   ]
  },
  {
   "cell_type": "code",
   "execution_count": 39,
   "metadata": {
    "collapsed": false
   },
   "outputs": [
    {
     "data": {
      "text/plain": [
       "array([ 0.92921606])"
      ]
     },
     "execution_count": 39,
     "metadata": {},
     "output_type": "execute_result"
    }
   ],
   "source": [
    "ds_fret.fit_E_generic(fit_fun=bl.gaussian_fit_hist, bins=np.r_[-0.1:1.1:0.03], weights=None)"
   ]
  },
  {
   "cell_type": "markdown",
   "metadata": {},
   "source": [
    "Gaussian fit (using burst size as weights):"
   ]
  },
  {
   "cell_type": "code",
   "execution_count": 40,
   "metadata": {
    "collapsed": false
   },
   "outputs": [
    {
     "data": {
      "text/plain": [
       "array([ 0.92939049])"
      ]
     },
     "execution_count": 40,
     "metadata": {},
     "output_type": "execute_result"
    }
   ],
   "source": [
    "ds_fret.fit_E_generic(fit_fun=bl.gaussian_fit_hist, bins=np.r_[-0.1:1.1:0.005], weights='size')"
   ]
  },
  {
   "cell_type": "code",
   "execution_count": 41,
   "metadata": {
    "collapsed": false
   },
   "outputs": [
    {
     "data": {
      "text/plain": [
       "(0.93560000000003263,\n",
       " 0.9290238887822957,\n",
       " 0.0538703877718707,\n",
       " 0.0021793626144786978)"
      ]
     },
     "execution_count": 41,
     "metadata": {},
     "output_type": "execute_result"
    }
   ],
   "source": [
    "E_kde_w = E_fitter.kde_max_pos[0]\n",
    "E_gauss_w = E_fitter.params.loc[0, 'center']\n",
    "E_gauss_w_sig = E_fitter.params.loc[0, 'sigma']\n",
    "E_gauss_w_err = float(E_gauss_w_sig/np.sqrt(ds_fret.num_bursts[0]))\n",
    "E_kde_w, E_gauss_w, E_gauss_w_sig, E_gauss_w_err"
   ]
  },
  {
   "cell_type": "markdown",
   "metadata": {},
   "source": [
    "# Stoichiometry fit"
   ]
  },
  {
   "cell_type": "markdown",
   "metadata": {},
   "source": [
    "Max position of the Kernel Density Estimation (KDE):"
   ]
  },
  {
   "cell_type": "code",
   "execution_count": 42,
   "metadata": {
    "collapsed": false
   },
   "outputs": [],
   "source": [
    "S_pr_fret_kde = bext.fit_bursts_kde_peak(ds_fret, burst_data='S', bandwidth=0.03) #weights='size', add_naa=True)\n",
    "S_fitter = ds_fret.S_fitter"
   ]
  },
  {
   "cell_type": "code",
   "execution_count": 43,
   "metadata": {
    "collapsed": false
   },
   "outputs": [
    {
     "name": "stdout",
     "output_type": "stream",
     "text": [
      " - Adding parameter \"fwhm\"\n"
     ]
    }
   ],
   "source": [
    "S_fitter.histogram(bins=np.r_[-0.1:1.1:0.03])\n",
    "S_fitter.fit_histogram(mfit.factory_gaussian(), center=0.5)"
   ]
  },
  {
   "cell_type": "code",
   "execution_count": 44,
   "metadata": {
    "collapsed": false
   },
   "outputs": [
    {
     "name": "stdout",
     "output_type": "stream",
     "text": [
      "AND-gate\n",
      "KDE peak 57.64 \n"
     ]
    },
    {
     "data": {
      "text/html": [
       "<div style=\"max-height:1000px;max-width:1500px;overflow:auto;\">\n",
       "<table border=\"1\" class=\"dataframe\">\n",
       "  <thead>\n",
       "    <tr style=\"text-align: right;\">\n",
       "      <th></th>\n",
       "      <th>sigma</th>\n",
       "      <th>center</th>\n",
       "      <th>amplitude</th>\n",
       "    </tr>\n",
       "  </thead>\n",
       "  <tbody>\n",
       "    <tr>\n",
       "      <th>0</th>\n",
       "      <td>9.76679</td>\n",
       "      <td>57.13529</td>\n",
       "      <td>101.7887</td>\n",
       "    </tr>\n",
       "  </tbody>\n",
       "</table>\n",
       "</div>"
      ],
      "text/plain": [
       "     sigma    center amplitude\n",
       "0  9.76679  57.13529  101.7887"
      ]
     },
     "metadata": {},
     "output_type": "display_data"
    },
    {
     "data": {
      "image/png": "[encoded data removed]",
      "text/plain": [
       "<matplotlib.figure.Figure at 0x1efde748>"
      ]
     },
     "metadata": {},
     "output_type": "display_data"
    }
   ],
   "source": [
    "fig, ax = plt.subplots(1, 2, figsize=(14, 4.5))\n",
    "mfit.plot_mfit(S_fitter, ax=ax[0])\n",
    "mfit.plot_mfit(S_fitter, plot_model=False, plot_kde=True, ax=ax[1])\n",
    "print '%s\\nKDE peak %.2f ' % (ds_fret.ph_sel, S_pr_fret_kde*100)\n",
    "display(S_fitter.params*100)"
   ]
  },
  {
   "cell_type": "code",
   "execution_count": 45,
   "metadata": {
    "collapsed": false
   },
   "outputs": [
    {
     "data": {
      "text/plain": [
       "(0.57640000000002223,\n",
       " 0.5713528672759876,\n",
       " 0.09766790310947626,\n",
       " 0.003951220428794934)"
      ]
     },
     "execution_count": 45,
     "metadata": {},
     "output_type": "execute_result"
    }
   ],
   "source": [
    "S_kde = S_fitter.kde_max_pos[0]\n",
    "S_gauss = S_fitter.params.loc[0, 'center']\n",
    "S_gauss_sig = S_fitter.params.loc[0, 'sigma']\n",
    "S_gauss_err = float(S_gauss_sig/np.sqrt(ds_fret.num_bursts[0]))\n",
    "S_kde, S_gauss, S_gauss_sig, S_gauss_err"
   ]
  },
  {
   "cell_type": "markdown",
   "metadata": {},
   "source": [
    "The Maximum likelihood fit for a Gaussian population is the mean:"
   ]
  },
  {
   "cell_type": "code",
   "execution_count": 46,
   "metadata": {
    "collapsed": false
   },
   "outputs": [
    {
     "data": {
      "text/plain": [
       "(0.57167976450774416, 0.091610198883810001)"
      ]
     },
     "execution_count": 46,
     "metadata": {},
     "output_type": "execute_result"
    }
   ],
   "source": [
    "S = ds_fret.S[0]\n",
    "S_ml_fit = (S.mean(), S.std())\n",
    "S_ml_fit"
   ]
  },
  {
   "cell_type": "markdown",
   "metadata": {},
   "source": [
    "Computing the weighted mean and weighted standard deviation we get:"
   ]
  },
  {
   "cell_type": "code",
   "execution_count": 47,
   "metadata": {
    "collapsed": false
   },
   "outputs": [
    {
     "data": {
      "text/plain": [
       "[0.55968244464198746, 0.089938532640470484]"
      ]
     },
     "execution_count": 47,
     "metadata": {},
     "output_type": "execute_result"
    }
   ],
   "source": [
    "weights = bl.fret_fit.get_weights(ds_fret.nd[0], ds_fret.na[0], weights='size', naa=ds_fret.naa[0], gamma=1.)\n",
    "S_mean = np.dot(weights, S)/weights.sum()\n",
    "S_std_dev = np.sqrt(\n",
    "        np.dot(weights, (S - S_mean)**2)/weights.sum())\n",
    "S_wmean_fit = [S_mean, S_std_dev]\n",
    "S_wmean_fit"
   ]
  },
  {
   "cell_type": "markdown",
   "metadata": {},
   "source": [
    "# Save data to file"
   ]
  },
  {
   "cell_type": "code",
   "execution_count": 48,
   "metadata": {
    "collapsed": false
   },
   "outputs": [],
   "source": [
    "sample = data_id"
   ]
  },
  {
   "cell_type": "markdown",
   "metadata": {},
   "source": [
    "The following string contains the list of variables to be saved. When saving, the order of the variables is preserved."
   ]
  },
  {
   "cell_type": "code",
   "execution_count": 49,
   "metadata": {
    "collapsed": false
   },
   "outputs": [],
   "source": [
    "variables = ('sample n_bursts_all n_bursts_fret '\n",
    "             'E_kde_w E_gauss_w E_gauss_w_sig E_gauss_w_err S_kde S_gauss S_gauss_sig S_gauss_err '\n",
    "             'nt_mean\\n')"
   ]
  },
  {
   "cell_type": "markdown",
   "metadata": {},
   "source": [
    "This is just a trick to format the different variables:"
   ]
  },
  {
   "cell_type": "code",
   "execution_count": 50,
   "metadata": {
    "collapsed": false
   },
   "outputs": [],
   "source": [
    "var_dict = {name: eval(name) for name in variables.split()}\n",
    "var_fmt = ' '.join(['{%s}' % name for name in variables.split()]) + '\\n'\n",
    "data_str = var_fmt.format(**var_dict)"
   ]
  },
  {
   "cell_type": "code",
   "execution_count": 51,
   "metadata": {
    "collapsed": false
   },
   "outputs": [],
   "source": [
    "data_str = var_fmt.format(**var_dict)"
   ]
  },
  {
   "cell_type": "code",
   "execution_count": 52,
   "metadata": {
    "collapsed": false
   },
   "outputs": [
    {
     "name": "stdout",
     "output_type": "stream",
     "text": [
      "sample n_bursts_all n_bursts_fret E_kde_w E_gauss_w E_gauss_w_sig E_gauss_w_err S_kde S_gauss S_gauss_sig S_gauss_err nt_mean\n",
      "\n",
      "7d 667 611 0.9356 0.929023888782 0.0538703877719 0.00217936261448 0.5764 0.571352867276 0.0976679031095 0.00395122042879 23.1492361679\n",
      "\n"
     ]
    }
   ],
   "source": [
    "print variables\n",
    "print data_str"
   ]
  },
  {
   "cell_type": "code",
   "execution_count": 53,
   "metadata": {
    "collapsed": false
   },
   "outputs": [],
   "source": [
    "# NOTE: The file name should be the notebook name but with .txt extension\n",
    "with open('results/usALEX-5samples-PR-raw-AND-gate.txt', 'a') as f:\n",
    "    f.seek(0, 2)\n",
    "    if f.tell() == 0:\n",
    "        f.write(variables)\n",
    "    f.write(data_str)"
   ]
  },
  {
   "cell_type": "code",
   "execution_count": 54,
   "metadata": {
    "collapsed": false
   },
   "outputs": [],
   "source": []
  }
 ],
 "metadata": {
  "kernelspec": {
   "display_name": "Python 2",
   "language": "python",
   "name": "python2"
  },
  "language_info": {
   "codemirror_mode": {
    "name": "ipython",
    "version": 2
   },
   "file_extension": ".py",
   "mimetype": "text/x-python",
   "name": "python",
   "nbconvert_exporter": "python",
   "pygments_lexer": "ipython2",
   "version": "2.7.8"
  }
 },
 "nbformat": 4,
 "nbformat_minor": 0
}
