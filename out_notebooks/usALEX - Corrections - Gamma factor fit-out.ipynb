{
 "cells": [
  {
   "cell_type": "markdown",
   "metadata": {},
   "source": [
    "**Executed:** Mon Jun  6 14:09:57 2016\n",
    "\n",
    "**Duration:** 3 seconds."
   ]
  },
  {
   "cell_type": "markdown",
   "metadata": {},
   "source": [
    "# Fit Gamma factor\n",
    "\n",
    "> *This notebook estimates the gamma factor from a set of 5 μs-ALEX smFRET measurements.*\n",
    "\n",
    "## What this notebook does?\n",
    "\n",
    "According to [Lee 2005](http://dx.doi.org/10.1529/biophysj.104.054114) ([PDF](http://www.chem.ucla.edu/~michalet/papers/BJ2005.pdf), [SI PDF](http://www.chem.ucla.edu/~michalet/papers/BJ2005SI.pdf)), we estimate the $\\gamma$-factor \n",
    "from Proximity Ratio (PR) and S values (with background, leakage and direct excitation correction) \n",
    "for a set of 5 μs-ALEX measurements.\n",
    "\n",
    "The PR and S values are computed by the notebook\n",
    "\n",
    "- [usALEX-5samples-PR-leakage-dir-ex-all-ph](usALEX-5samples-PR-leakage-dir-ex-all-ph.ipynb)\n",
    "\n",
    "which is executed by [8-spots paper analysis](8-spots paper analysis.ipynb).\n",
    "\n",
    "From [Lee 2005](http://dx.doi.org/10.1529/biophysj.104.054114) (equation 20), the following linear relation holds:\n",
    "\n",
    "$$\\frac{1}{S} = \\Omega + \\Sigma \\cdot E_{PR}$$\n",
    "\n",
    "Once $\\Omega$ and $\\Sigma$ are fitted, we can compute the $\\gamma$-factor as ([equation 22](http://www.sciencedirect.com/science/article/pii/S0006349505733464#eq22)):\n",
    "\n",
    "$$\\gamma = (\\Omega-1)/(\\Omega + \\Sigma-1)$$\n",
    "\n",
    "$$\\beta = \\Omega + \\Sigma - 1$$\n",
    "\n",
    "The definition of $\\beta$ based on physical parameters is:\n",
    "\n",
    "$$ \\beta = \\frac{I_{A_{ex}}\\sigma_{A_{ex}}^A}{I_{D_{ex}}\\sigma_{D_{ex}}^D}$$\n",
    "\n",
    "Note that, calling $S_\\gamma$ the corrected S, the following relation holds:\n",
    "\n",
    "$$ S_\\gamma = (1 + \\beta)^{-1}$$\n"
   ]
  },
  {
   "cell_type": "markdown",
   "metadata": {},
   "source": [
    "## Import libraries"
   ]
  },
  {
   "cell_type": "code",
   "execution_count": 1,
   "metadata": {
    "collapsed": false
   },
   "outputs": [],
   "source": [
    "from __future__ import division\n",
    "import numpy as np\n",
    "import pandas as pd\n",
    "import lmfit\n",
    "from scipy.stats import linregress"
   ]
  },
  {
   "cell_type": "markdown",
   "metadata": {},
   "source": [
    "## Computation"
   ]
  },
  {
   "cell_type": "markdown",
   "metadata": {},
   "source": [
    "This notebook read data from the file:"
   ]
  },
  {
   "cell_type": "code",
   "execution_count": 2,
   "metadata": {
    "collapsed": false
   },
   "outputs": [],
   "source": [
    "data_file = 'results/usALEX-5samples-PR-leakage-dir-ex-all-ph.csv'"
   ]
  },
  {
   "cell_type": "code",
   "execution_count": 3,
   "metadata": {
    "collapsed": false
   },
   "outputs": [
    {
     "data": {
      "text/html": [
       "<div>\n",
       "<table border=\"1\" class=\"dataframe\">\n",
       "  <thead>\n",
       "    <tr style=\"text-align: right;\">\n",
       "      <th></th>\n",
       "      <th>n_bursts_all</th>\n",
       "      <th>n_bursts_do</th>\n",
       "      <th>n_bursts_fret</th>\n",
       "      <th>E_kde_w</th>\n",
       "      <th>E_gauss_w</th>\n",
       "      <th>E_gauss_w_sig</th>\n",
       "      <th>E_gauss_w_err</th>\n",
       "      <th>S_kde</th>\n",
       "      <th>S_gauss</th>\n",
       "      <th>S_gauss_sig</th>\n",
       "      <th>S_gauss_err</th>\n",
       "      <th>E_pr_do_kde</th>\n",
       "      <th>nt_mean</th>\n",
       "    </tr>\n",
       "    <tr>\n",
       "      <th>sample</th>\n",
       "      <th></th>\n",
       "      <th></th>\n",
       "      <th></th>\n",
       "      <th></th>\n",
       "      <th></th>\n",
       "      <th></th>\n",
       "      <th></th>\n",
       "      <th></th>\n",
       "      <th></th>\n",
       "      <th></th>\n",
       "      <th></th>\n",
       "      <th></th>\n",
       "      <th></th>\n",
       "    </tr>\n",
       "  </thead>\n",
       "  <tbody>\n",
       "    <tr>\n",
       "      <th>7d</th>\n",
       "      <td>1172</td>\n",
       "      <td>586</td>\n",
       "      <td>543</td>\n",
       "      <td>0.9304</td>\n",
       "      <td>0.925842</td>\n",
       "      <td>0.059539</td>\n",
       "      <td>0.002555</td>\n",
       "      <td>0.5512</td>\n",
       "      <td>0.550639</td>\n",
       "      <td>0.099496</td>\n",
       "      <td>0.004270</td>\n",
       "      <td>0.0020</td>\n",
       "      <td>22.227823</td>\n",
       "    </tr>\n",
       "    <tr>\n",
       "      <th>12d</th>\n",
       "      <td>1307</td>\n",
       "      <td>329</td>\n",
       "      <td>948</td>\n",
       "      <td>0.7440</td>\n",
       "      <td>0.731546</td>\n",
       "      <td>0.091896</td>\n",
       "      <td>0.002985</td>\n",
       "      <td>0.5748</td>\n",
       "      <td>0.557524</td>\n",
       "      <td>0.105052</td>\n",
       "      <td>0.003412</td>\n",
       "      <td>0.0160</td>\n",
       "      <td>22.002399</td>\n",
       "    </tr>\n",
       "    <tr>\n",
       "      <th>17d</th>\n",
       "      <td>2489</td>\n",
       "      <td>463</td>\n",
       "      <td>1964</td>\n",
       "      <td>0.4320</td>\n",
       "      <td>0.427114</td>\n",
       "      <td>0.113675</td>\n",
       "      <td>0.002565</td>\n",
       "      <td>0.5434</td>\n",
       "      <td>0.537124</td>\n",
       "      <td>0.112882</td>\n",
       "      <td>0.002547</td>\n",
       "      <td>0.0128</td>\n",
       "      <td>21.193171</td>\n",
       "    </tr>\n",
       "    <tr>\n",
       "      <th>22d</th>\n",
       "      <td>2054</td>\n",
       "      <td>319</td>\n",
       "      <td>1673</td>\n",
       "      <td>0.1804</td>\n",
       "      <td>0.184215</td>\n",
       "      <td>0.078951</td>\n",
       "      <td>0.001930</td>\n",
       "      <td>0.5414</td>\n",
       "      <td>0.542855</td>\n",
       "      <td>0.114988</td>\n",
       "      <td>0.002811</td>\n",
       "      <td>0.0000</td>\n",
       "      <td>23.016538</td>\n",
       "    </tr>\n",
       "    <tr>\n",
       "      <th>27d</th>\n",
       "      <td>791</td>\n",
       "      <td>160</td>\n",
       "      <td>590</td>\n",
       "      <td>0.0844</td>\n",
       "      <td>0.085372</td>\n",
       "      <td>0.070126</td>\n",
       "      <td>0.002887</td>\n",
       "      <td>0.5160</td>\n",
       "      <td>0.556065</td>\n",
       "      <td>0.115220</td>\n",
       "      <td>0.004744</td>\n",
       "      <td>-0.0088</td>\n",
       "      <td>16.830070</td>\n",
       "    </tr>\n",
       "  </tbody>\n",
       "</table>\n",
       "</div>"
      ],
      "text/plain": [
       "        n_bursts_all  n_bursts_do  n_bursts_fret  E_kde_w  E_gauss_w  \\\n",
       "sample                                                                 \n",
       "7d              1172          586            543   0.9304   0.925842   \n",
       "12d             1307          329            948   0.7440   0.731546   \n",
       "17d             2489          463           1964   0.4320   0.427114   \n",
       "22d             2054          319           1673   0.1804   0.184215   \n",
       "27d              791          160            590   0.0844   0.085372   \n",
       "\n",
       "        E_gauss_w_sig  E_gauss_w_err   S_kde   S_gauss  S_gauss_sig  \\\n",
       "sample                                                                \n",
       "7d           0.059539       0.002555  0.5512  0.550639     0.099496   \n",
       "12d          0.091896       0.002985  0.5748  0.557524     0.105052   \n",
       "17d          0.113675       0.002565  0.5434  0.537124     0.112882   \n",
       "22d          0.078951       0.001930  0.5414  0.542855     0.114988   \n",
       "27d          0.070126       0.002887  0.5160  0.556065     0.115220   \n",
       "\n",
       "        S_gauss_err  E_pr_do_kde    nt_mean  \n",
       "sample                                       \n",
       "7d         0.004270       0.0020  22.227823  \n",
       "12d        0.003412       0.0160  22.002399  \n",
       "17d        0.002547       0.0128  21.193171  \n",
       "22d        0.002811       0.0000  23.016538  \n",
       "27d        0.004744      -0.0088  16.830070  "
      ]
     },
     "execution_count": 3,
     "metadata": {},
     "output_type": "execute_result"
    }
   ],
   "source": [
    "data = pd.read_csv(data_file).set_index('sample')\n",
    "data"
   ]
  },
  {
   "cell_type": "code",
   "execution_count": 4,
   "metadata": {
    "collapsed": false
   },
   "outputs": [
    {
     "data": {
      "text/html": [
       "<div>\n",
       "<table border=\"1\" class=\"dataframe\">\n",
       "  <thead>\n",
       "    <tr style=\"text-align: right;\">\n",
       "      <th></th>\n",
       "      <th>E_gauss_w</th>\n",
       "      <th>E_kde_w</th>\n",
       "      <th>S_gauss</th>\n",
       "    </tr>\n",
       "    <tr>\n",
       "      <th>sample</th>\n",
       "      <th></th>\n",
       "      <th></th>\n",
       "      <th></th>\n",
       "    </tr>\n",
       "  </thead>\n",
       "  <tbody>\n",
       "    <tr>\n",
       "      <th>7d</th>\n",
       "      <td>0.925842</td>\n",
       "      <td>0.9304</td>\n",
       "      <td>0.550639</td>\n",
       "    </tr>\n",
       "    <tr>\n",
       "      <th>12d</th>\n",
       "      <td>0.731546</td>\n",
       "      <td>0.7440</td>\n",
       "      <td>0.557524</td>\n",
       "    </tr>\n",
       "    <tr>\n",
       "      <th>17d</th>\n",
       "      <td>0.427114</td>\n",
       "      <td>0.4320</td>\n",
       "      <td>0.537124</td>\n",
       "    </tr>\n",
       "    <tr>\n",
       "      <th>22d</th>\n",
       "      <td>0.184215</td>\n",
       "      <td>0.1804</td>\n",
       "      <td>0.542855</td>\n",
       "    </tr>\n",
       "    <tr>\n",
       "      <th>27d</th>\n",
       "      <td>0.085372</td>\n",
       "      <td>0.0844</td>\n",
       "      <td>0.556065</td>\n",
       "    </tr>\n",
       "  </tbody>\n",
       "</table>\n",
       "</div>"
      ],
      "text/plain": [
       "        E_gauss_w  E_kde_w   S_gauss\n",
       "sample                              \n",
       "7d       0.925842   0.9304  0.550639\n",
       "12d      0.731546   0.7440  0.557524\n",
       "17d      0.427114   0.4320  0.537124\n",
       "22d      0.184215   0.1804  0.542855\n",
       "27d      0.085372   0.0844  0.556065"
      ]
     },
     "execution_count": 4,
     "metadata": {},
     "output_type": "execute_result"
    }
   ],
   "source": [
    "data[['E_gauss_w', 'E_kde_w', 'S_gauss']]"
   ]
  },
  {
   "cell_type": "code",
   "execution_count": 5,
   "metadata": {
    "collapsed": false
   },
   "outputs": [],
   "source": [
    "E_ref, S_ref = data.E_gauss_w, data.S_gauss"
   ]
  },
  {
   "cell_type": "code",
   "execution_count": 6,
   "metadata": {
    "collapsed": false
   },
   "outputs": [],
   "source": [
    "res = linregress(E_ref, 1/S_ref)\n",
    "slope, intercept, r_val, p_val, stderr = res"
   ]
  },
  {
   "cell_type": "markdown",
   "metadata": {},
   "source": [
    "For more info see [`scipy.stats.linearregress`](http://docs.scipy.org/doc/scipy-0.13.0/reference/generated/scipy.stats.linregress.html)."
   ]
  },
  {
   "cell_type": "code",
   "execution_count": 7,
   "metadata": {
    "collapsed": false
   },
   "outputs": [
    {
     "data": {
      "text/plain": [
       "-0.016699259417934664"
      ]
     },
     "execution_count": 7,
     "metadata": {},
     "output_type": "execute_result"
    }
   ],
   "source": [
    "Sigma = slope \n",
    "Sigma"
   ]
  },
  {
   "cell_type": "code",
   "execution_count": 8,
   "metadata": {
    "collapsed": false
   },
   "outputs": [
    {
     "data": {
      "text/plain": [
       "1.8302518216216859"
      ]
     },
     "execution_count": 8,
     "metadata": {},
     "output_type": "execute_result"
    }
   ],
   "source": [
    "Omega = intercept\n",
    "Omega"
   ]
  },
  {
   "cell_type": "markdown",
   "metadata": {},
   "source": [
    "[Pearson correlation coefficient](http://en.wikipedia.org/wiki/Pearson_product-moment_correlation_coefficient):"
   ]
  },
  {
   "cell_type": "code",
   "execution_count": 9,
   "metadata": {
    "collapsed": false
   },
   "outputs": [
    {
     "data": {
      "text/plain": [
       "-0.20454313228224008"
      ]
     },
     "execution_count": 9,
     "metadata": {},
     "output_type": "execute_result"
    }
   ],
   "source": [
    "r_val"
   ]
  },
  {
   "cell_type": "markdown",
   "metadata": {},
   "source": [
    "[Coefficient of determination](http://en.wikipedia.org/wiki/Coefficient_of_determination) $R^2$:"
   ]
  },
  {
   "cell_type": "code",
   "execution_count": 10,
   "metadata": {
    "collapsed": false
   },
   "outputs": [
    {
     "data": {
      "text/plain": [
       "0.041837892963829962"
      ]
     },
     "execution_count": 10,
     "metadata": {},
     "output_type": "execute_result"
    }
   ],
   "source": [
    "r_val**2"
   ]
  },
  {
   "cell_type": "markdown",
   "metadata": {},
   "source": [
    "P-value (to test the null hypothesis that the slope is zero):"
   ]
  },
  {
   "cell_type": "code",
   "execution_count": 11,
   "metadata": {
    "collapsed": false
   },
   "outputs": [
    {
     "data": {
      "text/plain": [
       "0.7413951563057567"
      ]
     },
     "execution_count": 11,
     "metadata": {},
     "output_type": "execute_result"
    }
   ],
   "source": [
    "p_val"
   ]
  },
  {
   "cell_type": "markdown",
   "metadata": {},
   "source": [
    "Gamma computed from the previous fitted values:"
   ]
  },
  {
   "cell_type": "code",
   "execution_count": 12,
   "metadata": {
    "collapsed": false
   },
   "outputs": [
    {
     "data": {
      "text/plain": [
       "'1.020526'"
      ]
     },
     "execution_count": 12,
     "metadata": {},
     "output_type": "execute_result"
    }
   ],
   "source": [
    "gamma = (Omega - 1)/(Omega + Sigma - 1)\n",
    "'%.6f' % gamma"
   ]
  },
  {
   "cell_type": "code",
   "execution_count": 13,
   "metadata": {
    "collapsed": false
   },
   "outputs": [],
   "source": [
    "with open('results/usALEX - gamma factor - all-ph.csv', 'w') as f:\n",
    "    f.write('%.6f' % gamma)"
   ]
  },
  {
   "cell_type": "code",
   "execution_count": 14,
   "metadata": {
    "collapsed": false
   },
   "outputs": [
    {
     "data": {
      "text/plain": [
       "'0.813553'"
      ]
     },
     "execution_count": 14,
     "metadata": {},
     "output_type": "execute_result"
    }
   ],
   "source": [
    "beta = Omega + Sigma - 1\n",
    "'%.6f' % beta"
   ]
  },
  {
   "cell_type": "code",
   "execution_count": 15,
   "metadata": {
    "collapsed": false
   },
   "outputs": [],
   "source": [
    "with open('results/usALEX - beta factor - all-ph.csv', 'w') as f:\n",
    "    f.write('%.6f' % beta)"
   ]
  },
  {
   "cell_type": "markdown",
   "metadata": {},
   "source": [
    "# Fit plot"
   ]
  },
  {
   "cell_type": "code",
   "execution_count": 16,
   "metadata": {
    "collapsed": false
   },
   "outputs": [],
   "source": [
    "import matplotlib.pyplot as plt\n",
    "import seaborn as sns\n",
    "%matplotlib inline\n",
    "%config InlineBackend.figure_format='retina'  # for hi-dpi displays\n",
    "\n",
    "sns.set_style('whitegrid')"
   ]
  },
  {
   "cell_type": "code",
   "execution_count": 17,
   "metadata": {
    "collapsed": false
   },
   "outputs": [
    {
     "data": {
      "image/png": "[encoded data removed]",
      "text/plain": [
       "<matplotlib.figure.Figure at 0x11b0bccf8>"
      ]
     },
     "metadata": {
      "image/png": {
       "height": 273,
       "width": 392
      }
     },
     "output_type": "display_data"
    }
   ],
   "source": [
    "x = np.arange(0, 1, 0.01)\n",
    "plt.plot(E_ref, 1/S_ref, 's', label='dsDNA samples')\n",
    "plt.plot(x, intercept + slope*x, 'k', label='fit (slope = %.2f)' % slope)\n",
    "plt.legend(loc=4)\n",
    "plt.ylim(1, 2)\n",
    "plt.xlabel('PR')\n",
    "plt.ylabel('1/SR');"
   ]
  }
 ],
 "metadata": {
  "kernelspec": {
   "display_name": "Python 3",
   "language": "python",
   "name": "python3"
  },
  "language_info": {
   "codemirror_mode": {
    "name": "ipython",
    "version": 3
   },
   "file_extension": ".py",
   "mimetype": "text/x-python",
   "name": "python",
   "nbconvert_exporter": "python",
   "pygments_lexer": "ipython3",
   "version": "3.5.1"
  }
 },
 "nbformat": 4,
 "nbformat_minor": 0
}
