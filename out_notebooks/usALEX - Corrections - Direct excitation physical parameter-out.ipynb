{
 "cells": [
  {
   "cell_type": "markdown",
   "metadata": {},
   "source": [
    "**Executed:** Sun Jun  5 20:59:40 2016\n",
    "\n",
    "**Duration:** 6 seconds."
   ]
  },
  {
   "cell_type": "markdown",
   "metadata": {},
   "source": [
    "# usALEX - Corrections - Direct excitation physical parameter\n",
    "\n",
    "> *This notebook estimates direct excitation coefficient $d_{dirT}$ from μs-ALEX data.*"
   ]
  },
  {
   "cell_type": "markdown",
   "metadata": {},
   "source": [
    "# Definitions Memo\n",
    "\n",
    "$$n_d = I_{D_{ex}} \\, \\sigma_{D_{ex}}^D \\,\n",
    "\\phi_D \\, \\eta_{D_{det}}^{D_{em}} \\, (1-E)$$\n",
    "\n",
    "$$n_a = I_{D_{ex}} \\, \\sigma_{D_{ex}}^D \\,\n",
    "\\phi_A \\, \\eta_{A_{det}}^{A_{em}} \\, E$$\n",
    "\n",
    "$$ n_{aa} = I_{A_{ex}} \\, \\sigma_{A_{ex}}^A \\,\n",
    "\\phi_A \\, \\eta_{A_{det}}^{A_{em}}$$\n",
    "\n",
    "$$n_a^* = n_a + Lk + Dir$$\n",
    "\n",
    "where\n",
    "\n",
    "$$Lk = I_{D_{ex}} \\, \\sigma_{D_{ex}}^D \\,\n",
    "\\phi_D \\, \\eta_{A_{det}}^{D_{em}} \\, (1-E)$$\n",
    "\n",
    "$$Dir = I_{D_{ex}} \\, \\sigma_{D_{ex}}^A \\,\n",
    "\\phi_A \\, \\eta_{A_{det}}^{A_{em}}$$\n",
    "\n",
    "$$\\gamma = \\frac{\\phi_A\\,\\eta_{D_{det}}^{A_{em}}}{\\phi_D\\,\\eta_{D_{det}}^{D_{em}}}$$"
   ]
  },
  {
   "cell_type": "markdown",
   "metadata": {},
   "source": [
    "# Aim of this notebook\n",
    "\n",
    "## What is already computed?\n",
    "\n",
    "We previously fitted the **leakage** and **gamma** coefficient from the RAW PR values \n",
    "for the 5 dsDNA measurements. We also fitted the\n",
    "direct excitation coefficient expressed (`dir_ex_aa`) as a function of the \n",
    "A-signal during A-excitation (`naa`). In symbols, `dir_ex_aa` is defined as:\n",
    "\n",
    "$$ d_{dirAA} = \\frac{n_{a}}{n_{aa}}$$\n",
    "\n",
    "for a A-only population.\n",
    "\n",
    "## What we want to compute?\n",
    "\n",
    "Alternatively, we can express the direct excitation contribution ($Dir$)\n",
    "as a function of the total corrected burst size:\n",
    "\n",
    "$$ Dir = d_{dirT}\\, (n_a + \\gamma n_d)$$\n",
    "\n",
    "With this definition, expressing $d_{dirT}$ as a function \n",
    "of the physical parameters we obtain:\n",
    "\n",
    "$$d_{dirT} = \\frac{\\sigma_{D_{ex}}^A}{\\sigma_{D_{ex}}^D} $$\n",
    "\n",
    "where $\\sigma_{Dex}^A$ and $\\sigma_{Dex}^D$ are the absorption cross-sections \n",
    "of the Acceptor and Donor dye at wavelength of Donor laser.\n",
    "\n",
    "Finally, remembering the definition of $\\beta$:\n",
    "\n",
    "$$ \\beta = \\frac{I_{A_{ex}}\\sigma_{A_{ex}}^A}{I_{D_{ex}}\\sigma_{D_{ex}}^D}$$\n",
    "\n",
    "we can express $d_{dirT}$ as the product of $\\beta$ and $d_{dirAA}$:\n",
    "\n",
    "$$ d_{dirT} = \\beta \\, d_{dirAA}$$\n",
    "\n",
    "Note that $d_{dirT}$ is a property of the Donor-Acceptor dyes pair and of the\n",
    "Donor excitation wavelength. As such, differently from $d_{dirAA}$, the \n",
    "$d_{dirT}$ coefficient is valid for the same sample in any setup using the same\n",
    "donor excitation wavelength, such as the single-spot μs-ALEX and the multi-spot\n",
    "system. Additionally, $d_{dirT}$ allows to correct for direct acceptor\n",
    "excitation using only donor-excitation quantities. Therefore the same\n",
    "correction formula can be used both in two-laser (e.g. single-spot μs-ALEX) \n",
    "and single-laser systems (e.g. 8-spot system).\n",
    "\n",
    "## How we compute it?\n",
    "\n",
    "We use two different procedures both yielding\n",
    "an estimation of $d_{dirT}$. Except for the numerical\n",
    "accuracy the two procedures are equivalent.\n",
    "\n",
    "### Procedure 1: Using beta\n",
    "\n",
    "From the previous relation between $d_{dirT} = \\beta \\,d_{dirAA}$ is possible to\n",
    "directly estimate $d_{dirT}$ with the values of $\\beta$ and $d_{dirAA}$\n",
    "we already fitted in previous notebooks.\n",
    "\n",
    "### Procedure 2: Correction formula\n",
    "\n",
    "It is possible to go from the raw $E_R$ (only background correction, \n",
    "no leakage, direct excitation nor gamma) to the fully-corrected $E$\n",
    "using the formula:\n",
    "\n",
    "$$ E = f(E_R,\\, \\gamma,\\, L_k,\\, d_{dirT}) = \n",
    "\\frac{E_{R} \\left(L_{k} + d_{dirT} \\gamma + 1\\right) - L_{k} - d_{dirT} \\gamma}\n",
    "{E_{R} \\left(L_{k} - \\gamma + 1\\right) - L_{k} + \\gamma}$$\n",
    "\n",
    "* See [Derivation of FRET and S correction formulas](http://nbviewer.jupyter.org/github/tritemio/notebooks/blob/master/Derivation%20of%20FRET%20and%20S%20correction%20formulas.ipynb) for derivation.\n",
    "\n",
    "We can compute the corrected $E$ for the 5 dsDNA samples by fitting\n",
    "the fully-corrected histograms (histograms with γ, leakage and \n",
    "direct excitation corrections). We can also fit the 5 $E_R$ values \n",
    "for the same samples from the proximity ratio histograms \n",
    "(only background correction).\n",
    "\n",
    "Therefore, using the previous formula we can fit $d_{dirT}$ (`dir_ex_t`)\n",
    "by minimizing the error between the 5 $E$ values fitted from\n",
    "corrected histograms and the 5 $E$ values obtained correcting\n",
    "the 5 $E_R$ values from the fit of the proximity ratio histograms."
   ]
  },
  {
   "cell_type": "markdown",
   "metadata": {},
   "source": [
    "# Loading data\n",
    "\n",
    "We load the needed libraries and FRETBursts which includes the FRET\n",
    "correction formulas ($E = f(E_R,\\, \\gamma,\\, L_k,\\, d_{dirT})$)."
   ]
  },
  {
   "cell_type": "code",
   "execution_count": 1,
   "metadata": {
    "collapsed": false
   },
   "outputs": [
    {
     "name": "stdout",
     "output_type": "stream",
     "text": [
      " - Optimized (cython) burst search loaded.\n",
      " - Optimized (cython) photon counting loaded.\n"
     ]
    },
    {
     "name": "stdout",
     "output_type": "stream",
     "text": [
      "--------------------------------------------------------------\n",
      " You are running FRETBursts (version 0.5.5+54.g5427178.dirty).\n",
      "\n",
      " If you use this software please cite the following paper:\n",
      "\n",
      "   FRETBursts: An Open Source Toolkit for Analysis of Freely-Diffusing Single-Molecule FRET\n",
      "   Ingargiola et al. (2016). http://dx.doi.org/10.1101/039198 \n",
      "\n",
      "--------------------------------------------------------------\n"
     ]
    }
   ],
   "source": [
    "from __future__ import division\n",
    "import os\n",
    "import numpy as np\n",
    "import pandas as pd\n",
    "import lmfit\n",
    "from fretbursts import *\n",
    "import matplotlib.pyplot as plt\n",
    "import seaborn as sns\n",
    "%matplotlib inline\n",
    "%config InlineBackend.figure_format='retina'  # for hi-dpi displays\n",
    "sns.set_style('whitegrid')"
   ]
  },
  {
   "cell_type": "markdown",
   "metadata": {},
   "source": [
    "## Load Raw PR"
   ]
  },
  {
   "cell_type": "code",
   "execution_count": 2,
   "metadata": {
    "collapsed": false
   },
   "outputs": [],
   "source": [
    "#bsearch_ph_sel = 'AND-gate'\n",
    "bsearch_ph_sel = 'Dex'\n",
    "\n",
    "data_file = 'results/usALEX-5samples-PR-raw-%s.txt' % bsearch_ph_sel"
   ]
  },
  {
   "cell_type": "markdown",
   "metadata": {},
   "source": [
    "These are the **RAW proximity ratios** for the 5 samples (only background correction, no leakage nor direct excitation):"
   ]
  },
  {
   "cell_type": "code",
   "execution_count": 3,
   "metadata": {
    "collapsed": false
   },
   "outputs": [
    {
     "data": {
      "text/html": [
       "<div>\n",
       "<table border=\"1\" class=\"dataframe\">\n",
       "  <thead>\n",
       "    <tr style=\"text-align: right;\">\n",
       "      <th></th>\n",
       "      <th>E_gauss_w</th>\n",
       "      <th>E_kde_w</th>\n",
       "    </tr>\n",
       "    <tr>\n",
       "      <th>sample</th>\n",
       "      <th></th>\n",
       "      <th></th>\n",
       "    </tr>\n",
       "  </thead>\n",
       "  <tbody>\n",
       "    <tr>\n",
       "      <th>7d</th>\n",
       "      <td>0.927817</td>\n",
       "      <td>0.9338</td>\n",
       "    </tr>\n",
       "    <tr>\n",
       "      <th>12d</th>\n",
       "      <td>0.748896</td>\n",
       "      <td>0.7508</td>\n",
       "    </tr>\n",
       "    <tr>\n",
       "      <th>17d</th>\n",
       "      <td>0.480670</td>\n",
       "      <td>0.4906</td>\n",
       "    </tr>\n",
       "    <tr>\n",
       "      <th>22d</th>\n",
       "      <td>0.280392</td>\n",
       "      <td>0.2752</td>\n",
       "    </tr>\n",
       "    <tr>\n",
       "      <th>27d</th>\n",
       "      <td>0.194729</td>\n",
       "      <td>0.1944</td>\n",
       "    </tr>\n",
       "  </tbody>\n",
       "</table>\n",
       "</div>"
      ],
      "text/plain": [
       "        E_gauss_w  E_kde_w\n",
       "sample                    \n",
       "7d       0.927817   0.9338\n",
       "12d      0.748896   0.7508\n",
       "17d      0.480670   0.4906\n",
       "22d      0.280392   0.2752\n",
       "27d      0.194729   0.1944"
      ]
     },
     "execution_count": 3,
     "metadata": {},
     "output_type": "execute_result"
    }
   ],
   "source": [
    "data_raw = pd.read_csv(data_file, sep=\"\\s+\").set_index('sample')\n",
    "data_raw[['E_gauss_w', 'E_kde_w']]"
   ]
  },
  {
   "cell_type": "markdown",
   "metadata": {},
   "source": [
    "## Load Corrected E"
   ]
  },
  {
   "cell_type": "markdown",
   "metadata": {},
   "source": [
    "And these are the **FRET efficiencies** fitted from corrected histograms for the same 5 samples: "
   ]
  },
  {
   "cell_type": "code",
   "execution_count": 4,
   "metadata": {
    "collapsed": false
   },
   "outputs": [
    {
     "data": {
      "text/html": [
       "<div>\n",
       "<table border=\"1\" class=\"dataframe\">\n",
       "  <thead>\n",
       "    <tr style=\"text-align: right;\">\n",
       "      <th></th>\n",
       "      <th>E_gauss_w</th>\n",
       "      <th>E_kde_w</th>\n",
       "    </tr>\n",
       "    <tr>\n",
       "      <th>sample</th>\n",
       "      <th></th>\n",
       "      <th></th>\n",
       "    </tr>\n",
       "  </thead>\n",
       "  <tbody>\n",
       "    <tr>\n",
       "      <th>7d</th>\n",
       "      <td>0.924307</td>\n",
       "      <td>0.9290</td>\n",
       "    </tr>\n",
       "    <tr>\n",
       "      <th>12d</th>\n",
       "      <td>0.727043</td>\n",
       "      <td>0.7398</td>\n",
       "    </tr>\n",
       "    <tr>\n",
       "      <th>17d</th>\n",
       "      <td>0.422624</td>\n",
       "      <td>0.4268</td>\n",
       "    </tr>\n",
       "    <tr>\n",
       "      <th>22d</th>\n",
       "      <td>0.181067</td>\n",
       "      <td>0.1774</td>\n",
       "    </tr>\n",
       "    <tr>\n",
       "      <th>27d</th>\n",
       "      <td>0.083971</td>\n",
       "      <td>0.0826</td>\n",
       "    </tr>\n",
       "  </tbody>\n",
       "</table>\n",
       "</div>"
      ],
      "text/plain": [
       "        E_gauss_w  E_kde_w\n",
       "sample                    \n",
       "7d       0.924307   0.9290\n",
       "12d      0.727043   0.7398\n",
       "17d      0.422624   0.4268\n",
       "22d      0.181067   0.1774\n",
       "27d      0.083971   0.0826"
      ]
     },
     "execution_count": 4,
     "metadata": {},
     "output_type": "execute_result"
    }
   ],
   "source": [
    "data_file = 'results/usALEX-5samples-E-corrected-all-ph.txt'\n",
    "data_corr = pd.read_csv(data_file, sep=\"\\s+\").set_index('sample')\n",
    "data_corr[['E_gauss_w', 'E_kde_w']]"
   ]
  },
  {
   "cell_type": "markdown",
   "metadata": {},
   "source": [
    "## Load SNA Data"
   ]
  },
  {
   "cell_type": "code",
   "execution_count": 5,
   "metadata": {
    "collapsed": true
   },
   "outputs": [],
   "source": [
    "data_file_sna = 'results/usALEX-5samples-E-SNA.csv'"
   ]
  },
  {
   "cell_type": "code",
   "execution_count": 6,
   "metadata": {
    "collapsed": false
   },
   "outputs": [
    {
     "data": {
      "text/html": [
       "<div>\n",
       "<table border=\"1\" class=\"dataframe\">\n",
       "  <thead>\n",
       "    <tr style=\"text-align: right;\">\n",
       "      <th></th>\n",
       "      <th>SNA_Epr_mean</th>\n",
       "      <th>SNA_Epr_max</th>\n",
       "    </tr>\n",
       "    <tr>\n",
       "      <th>Sample</th>\n",
       "      <th></th>\n",
       "      <th></th>\n",
       "    </tr>\n",
       "  </thead>\n",
       "  <tbody>\n",
       "    <tr>\n",
       "      <th>7d</th>\n",
       "      <td>0.898</td>\n",
       "      <td>0.937</td>\n",
       "    </tr>\n",
       "    <tr>\n",
       "      <th>12d</th>\n",
       "      <td>0.705</td>\n",
       "      <td>0.715</td>\n",
       "    </tr>\n",
       "    <tr>\n",
       "      <th>17d</th>\n",
       "      <td>0.400</td>\n",
       "      <td>0.379</td>\n",
       "    </tr>\n",
       "    <tr>\n",
       "      <th>22d</th>\n",
       "      <td>0.170</td>\n",
       "      <td>0.147</td>\n",
       "    </tr>\n",
       "    <tr>\n",
       "      <th>27d</th>\n",
       "      <td>0.072</td>\n",
       "      <td>0.053</td>\n",
       "    </tr>\n",
       "  </tbody>\n",
       "</table>\n",
       "</div>"
      ],
      "text/plain": [
       "        SNA_Epr_mean  SNA_Epr_max\n",
       "Sample                           \n",
       "7d             0.898        0.937\n",
       "12d            0.705        0.715\n",
       "17d            0.400        0.379\n",
       "22d            0.170        0.147\n",
       "27d            0.072        0.053"
      ]
     },
     "execution_count": 6,
     "metadata": {},
     "output_type": "execute_result"
    }
   ],
   "source": [
    "sna = pd.read_csv(data_file_sna, index_col=0)\n",
    "sna"
   ]
  },
  {
   "cell_type": "markdown",
   "metadata": {},
   "source": [
    "## Load μs-ALEX corrections"
   ]
  },
  {
   "cell_type": "code",
   "execution_count": 7,
   "metadata": {
    "collapsed": false
   },
   "outputs": [
    {
     "name": "stdout",
     "output_type": "stream",
     "text": [
      "Leakage coefficient: 0.10029\n"
     ]
    }
   ],
   "source": [
    "leakage_coeff_fname = 'results/usALEX - leakage coefficient DexDem.txt'\n",
    "leakage = np.loadtxt(leakage_coeff_fname)\n",
    "\n",
    "print('Leakage coefficient:', leakage)"
   ]
  },
  {
   "cell_type": "code",
   "execution_count": 8,
   "metadata": {
    "collapsed": false
   },
   "outputs": [
    {
     "name": "stdout",
     "output_type": "stream",
     "text": [
      "Dir. excitation AA: 0.06062\n"
     ]
    }
   ],
   "source": [
    "dir_ex_coeff_fname = 'results/usALEX - direct excitation coefficient dir_ex_aa.txt'\n",
    "dir_ex_aa = np.loadtxt(dir_ex_coeff_fname)\n",
    "\n",
    "print('Dir. excitation AA:', dir_ex_aa)"
   ]
  },
  {
   "cell_type": "code",
   "execution_count": 9,
   "metadata": {
    "collapsed": false
   },
   "outputs": [
    {
     "name": "stdout",
     "output_type": "stream",
     "text": [
      "Direct excitation (dir_ex_t) from datasheet: 0.106516290727\n"
     ]
    }
   ],
   "source": [
    "dir_ex_t_datasheet_fname = 'results/Dyes - ATT0647N-ATTO550 abs X-section ratio at 532nm.txt'\n",
    "dir_ex_t_datasheet = np.loadtxt(dir_ex_t_datasheet_fname)\n",
    "\n",
    "print('Direct excitation (dir_ex_t) from datasheet:', dir_ex_t_datasheet)"
   ]
  },
  {
   "cell_type": "code",
   "execution_count": 10,
   "metadata": {
    "collapsed": false
   },
   "outputs": [
    {
     "name": "stdout",
     "output_type": "stream",
     "text": [
      "Gamma factor: 1.020527\n"
     ]
    }
   ],
   "source": [
    "gamma_coeff_fname = 'results/usALEX - gamma factor - all-ph.txt'\n",
    "gamma = np.loadtxt(gamma_coeff_fname)\n",
    "\n",
    "print('Gamma factor:', gamma)"
   ]
  },
  {
   "cell_type": "code",
   "execution_count": 11,
   "metadata": {
    "collapsed": false
   },
   "outputs": [
    {
     "name": "stdout",
     "output_type": "stream",
     "text": [
      "Beta factor: 0.813552\n"
     ]
    }
   ],
   "source": [
    "beta_coeff_fname = 'results/usALEX - beta factor - all-ph.txt'\n",
    "beta = np.loadtxt(beta_coeff_fname)\n",
    "\n",
    "print('Beta factor:', beta)"
   ]
  },
  {
   "cell_type": "markdown",
   "metadata": {},
   "source": [
    "# Procedure 1"
   ]
  },
  {
   "cell_type": "markdown",
   "metadata": {},
   "source": [
    "Compute $d_{dirT}$ using $\\beta$ and $d_{dirAA}$:"
   ]
  },
  {
   "cell_type": "code",
   "execution_count": 12,
   "metadata": {
    "collapsed": false
   },
   "outputs": [
    {
     "data": {
      "text/plain": [
       "'0.04932'"
      ]
     },
     "execution_count": 12,
     "metadata": {},
     "output_type": "execute_result"
    }
   ],
   "source": [
    "dir_ex_t_beta = dir_ex_aa * beta\n",
    "'%.5f' % dir_ex_t_beta"
   ]
  },
  {
   "cell_type": "code",
   "execution_count": 13,
   "metadata": {
    "collapsed": false
   },
   "outputs": [],
   "source": [
    "with open('results/usALEX - direct excitation coefficient dir_ex_t beta.txt', 'w') as f:\n",
    "    f.write('%.5f' % dir_ex_t_beta)"
   ]
  },
  {
   "cell_type": "markdown",
   "metadata": {},
   "source": [
    "With this coefficient, computing the corrected $E$ for the 5 dsDNA samples\n",
    "we obtain:"
   ]
  },
  {
   "cell_type": "code",
   "execution_count": 14,
   "metadata": {
    "collapsed": false
   },
   "outputs": [
    {
     "data": {
      "text/plain": [
       "sample\n",
       "7d     92.873296\n",
       "12d    72.773059\n",
       "17d    43.140268\n",
       "22d    17.621829\n",
       "27d     7.807768\n",
       "Name: E_kde_w, dtype: float64"
      ]
     },
     "execution_count": 14,
     "metadata": {},
     "output_type": "execute_result"
    }
   ],
   "source": [
    "PR_corr_kde = fretmath.correct_E_gamma_leak_dir(data_raw.E_kde_w, \n",
    "                                                leakage=leakage, \n",
    "                                                dir_ex_t=dir_ex_t_beta,\n",
    "                                                gamma=gamma)*100\n",
    "PR_corr_kde"
   ]
  },
  {
   "cell_type": "code",
   "execution_count": 15,
   "metadata": {
    "collapsed": false
   },
   "outputs": [
    {
     "data": {
      "text/plain": [
       "sample\n",
       "7d     92.225488\n",
       "12d    72.560742\n",
       "17d    41.983957\n",
       "22d    18.247882\n",
       "27d     7.847972\n",
       "Name: E_gauss_w, dtype: float64"
      ]
     },
     "execution_count": 15,
     "metadata": {},
     "output_type": "execute_result"
    }
   ],
   "source": [
    "PR_corr_gauss = fretmath.correct_E_gamma_leak_dir(data_raw.E_gauss_w, \n",
    "                                                  leakage=leakage, \n",
    "                                                  dir_ex_t=dir_ex_t_beta,\n",
    "                                                  gamma=gamma)*100\n",
    "PR_corr_gauss"
   ]
  },
  {
   "cell_type": "markdown",
   "metadata": {},
   "source": [
    "# Procedure 2"
   ]
  },
  {
   "cell_type": "markdown",
   "metadata": {},
   "source": [
    "## Datasheet-based direct excitation\n",
    "\n",
    "The coefficient $d_{dirT}$ can be estimated from data-sheet values of \n",
    "$\\sigma_{D_{ex}}^A$ and $\\sigma_{D_{ex}}^D$.\n",
    "\n",
    "Using the [datasheet values](dyes/Absorption ATTO550-ATTO647N.ipynb) \n",
    "provided by ATTOTec (in PBS buffer) we obtain a $d_{dirT}$ estimation\n",
    "close to 10%:"
   ]
  },
  {
   "cell_type": "code",
   "execution_count": 16,
   "metadata": {
    "collapsed": false
   },
   "outputs": [
    {
     "data": {
      "text/plain": [
       "array(0.106516290727)"
      ]
     },
     "execution_count": 16,
     "metadata": {},
     "output_type": "execute_result"
    }
   ],
   "source": [
    "dir_ex_t_datasheet"
   ]
  },
  {
   "cell_type": "markdown",
   "metadata": {},
   "source": [
    "With this the corrected $E$ for the 5 dsDNA samples are:"
   ]
  },
  {
   "cell_type": "code",
   "execution_count": 17,
   "metadata": {
    "collapsed": false
   },
   "outputs": [
    {
     "data": {
      "text/plain": [
       "sample\n",
       "7d     92.484817\n",
       "12d    71.288906\n",
       "17d    40.040819\n",
       "22d    13.131358\n",
       "27d     2.782328\n",
       "Name: E_kde_w, dtype: float64"
      ]
     },
     "execution_count": 17,
     "metadata": {},
     "output_type": "execute_result"
    }
   ],
   "source": [
    "E_datasheet = fretmath.correct_E_gamma_leak_dir(data_raw.E_kde_w, \n",
    "                                                leakage=leakage, \n",
    "                                                dir_ex_t=dir_ex_t_datasheet,\n",
    "                                                gamma=gamma)*100\n",
    "E_datasheet"
   ]
  },
  {
   "cell_type": "markdown",
   "metadata": {},
   "source": [
    "Comparing these values with the ones obtained fitting the\n",
    "corrected E histograms we observe a significant discrepancy:"
   ]
  },
  {
   "cell_type": "code",
   "execution_count": 18,
   "metadata": {
    "collapsed": false
   },
   "outputs": [
    {
     "data": {
      "text/html": [
       "<div>\n",
       "<table border=\"1\" class=\"dataframe\">\n",
       "  <thead>\n",
       "    <tr style=\"text-align: right;\">\n",
       "      <th></th>\n",
       "      <th>E_alex</th>\n",
       "      <th>E_datasheet</th>\n",
       "    </tr>\n",
       "    <tr>\n",
       "      <th>sample</th>\n",
       "      <th></th>\n",
       "      <th></th>\n",
       "    </tr>\n",
       "  </thead>\n",
       "  <tbody>\n",
       "    <tr>\n",
       "      <th>7d</th>\n",
       "      <td>92.90</td>\n",
       "      <td>92.484817</td>\n",
       "    </tr>\n",
       "    <tr>\n",
       "      <th>12d</th>\n",
       "      <td>73.98</td>\n",
       "      <td>71.288906</td>\n",
       "    </tr>\n",
       "    <tr>\n",
       "      <th>17d</th>\n",
       "      <td>42.68</td>\n",
       "      <td>40.040819</td>\n",
       "    </tr>\n",
       "    <tr>\n",
       "      <th>22d</th>\n",
       "      <td>17.74</td>\n",
       "      <td>13.131358</td>\n",
       "    </tr>\n",
       "    <tr>\n",
       "      <th>27d</th>\n",
       "      <td>8.26</td>\n",
       "      <td>2.782328</td>\n",
       "    </tr>\n",
       "  </tbody>\n",
       "</table>\n",
       "</div>"
      ],
      "text/plain": [
       "        E_alex  E_datasheet\n",
       "sample                     \n",
       "7d       92.90    92.484817\n",
       "12d      73.98    71.288906\n",
       "17d      42.68    40.040819\n",
       "22d      17.74    13.131358\n",
       "27d       8.26     2.782328"
      ]
     },
     "execution_count": 18,
     "metadata": {},
     "output_type": "execute_result"
    }
   ],
   "source": [
    "out = data_corr[['E_kde_w']].copy()*100\n",
    "out.columns = ['E_alex']\n",
    "out['E_datasheet'] = E_datasheet\n",
    "out"
   ]
  },
  {
   "cell_type": "code",
   "execution_count": 19,
   "metadata": {
    "collapsed": false
   },
   "outputs": [
    {
     "data": {
      "image/png": "[encoded data removed]",
      "text/plain": [
       "<matplotlib.figure.Figure at 0x11db14630>"
      ]
     },
     "metadata": {
      "image/png": {
       "height": 273,
       "width": 381
      }
     },
     "output_type": "display_data"
    }
   ],
   "source": [
    "out.plot(alpha=0.4, lw=3, style=dict(E_alex='-ob', E_datasheet='-sr'));"
   ]
  },
  {
   "cell_type": "markdown",
   "metadata": {},
   "source": [
    "> **NOTE:** The corrected FRET efficiencies using the datasheet and \n",
    "> μs-ALEX-based direct excitation do not match well."
   ]
  },
  {
   "cell_type": "markdown",
   "metadata": {},
   "source": [
    "## Fitting direct excitation $d_{dirT}$"
   ]
  },
  {
   "cell_type": "code",
   "execution_count": 20,
   "metadata": {
    "collapsed": false
   },
   "outputs": [],
   "source": [
    "def residuals_absolute(params, E_raw, E_ref):\n",
    "    dir_ex_t = params['dir_ex_t'].value\n",
    "    return E_ref - fretmath.correct_E_gamma_leak_dir(E_raw, \n",
    "                                                     leakage=leakage, \n",
    "                                                     gamma=gamma, \n",
    "                                                     dir_ex_t=dir_ex_t)"
   ]
  },
  {
   "cell_type": "code",
   "execution_count": 21,
   "metadata": {
    "collapsed": false
   },
   "outputs": [],
   "source": [
    "def residuals_relative(params, E_raw, E_ref):\n",
    "    dir_ex_t = params['dir_ex_t'].value\n",
    "    return (E_ref - fretmath.correct_E_gamma_leak_dir(E_raw, \n",
    "                                                      leakage=leakage, \n",
    "                                                      gamma=gamma, \n",
    "                                                      dir_ex_t=dir_ex_t))/E_ref"
   ]
  },
  {
   "cell_type": "code",
   "execution_count": 22,
   "metadata": {
    "collapsed": false
   },
   "outputs": [],
   "source": [
    "params = lmfit.Parameters()\n",
    "params.add('dir_ex_t', value=0.05) "
   ]
  },
  {
   "cell_type": "code",
   "execution_count": 23,
   "metadata": {
    "collapsed": false
   },
   "outputs": [
    {
     "name": "stdout",
     "output_type": "stream",
     "text": [
      "[[Variables]]\n",
      "    dir_ex_t:   0.04614915 +/- 0.004939 (10.70%) (init= 0.05)\n"
     ]
    }
   ],
   "source": [
    "m = lmfit.minimize(residuals_absolute, params, args=(data_raw.E_kde_w, data_corr.E_kde_w))\n",
    "lmfit.report_fit(m.params, show_correl=False)"
   ]
  },
  {
   "cell_type": "code",
   "execution_count": 24,
   "metadata": {
    "collapsed": false
   },
   "outputs": [
    {
     "name": "stdout",
     "output_type": "stream",
     "text": [
      "[[Variables]]\n",
      "    dir_ex_t:   0.04482646 +/- 0.001150 (2.57%) (init= 0.05)\n"
     ]
    }
   ],
   "source": [
    "m = lmfit.minimize(residuals_relative, params, args=(data_raw.E_kde_w, data_corr.E_kde_w))\n",
    "lmfit.report_fit(m.params, show_correl=False)"
   ]
  },
  {
   "cell_type": "markdown",
   "metadata": {},
   "source": [
    "> **NOTE:** The fitted `dir_ex_t` is 4.5% as opposed to 10.6% as expected from the [absorption spectra of ATTO550 and ATTO647](dyes/Absorption ATTO550-ATTO647N.ipynb) at 532nm."
   ]
  },
  {
   "cell_type": "code",
   "execution_count": 25,
   "metadata": {
    "collapsed": false
   },
   "outputs": [
    {
     "data": {
      "text/plain": [
       "'0.04483'"
      ]
     },
     "execution_count": 25,
     "metadata": {},
     "output_type": "execute_result"
    }
   ],
   "source": [
    "'%.5f' % m.params['dir_ex_t'].value"
   ]
  },
  {
   "cell_type": "code",
   "execution_count": 26,
   "metadata": {
    "collapsed": false
   },
   "outputs": [],
   "source": [
    "with open('results/usALEX - direct excitation coefficient dir_ex_t fit.txt', 'w') as f:\n",
    "    f.write('%.5f' % m.params['dir_ex_t'].value)"
   ]
  },
  {
   "cell_type": "markdown",
   "metadata": {},
   "source": [
    "# Corrected E"
   ]
  },
  {
   "cell_type": "code",
   "execution_count": 27,
   "metadata": {
    "collapsed": false
   },
   "outputs": [
    {
     "data": {
      "text/html": [
       "<div>\n",
       "<table border=\"1\" class=\"dataframe\">\n",
       "  <thead>\n",
       "    <tr style=\"text-align: right;\">\n",
       "      <th></th>\n",
       "      <th>n_bursts_all</th>\n",
       "      <th>n_bursts_do</th>\n",
       "      <th>n_bursts_fret</th>\n",
       "      <th>E_kde_w</th>\n",
       "      <th>E_gauss_w</th>\n",
       "      <th>E_gauss_w_sig</th>\n",
       "      <th>E_gauss_w_err</th>\n",
       "      <th>S_kde</th>\n",
       "      <th>S_gauss</th>\n",
       "      <th>S_gauss_sig</th>\n",
       "      <th>S_gauss_err</th>\n",
       "      <th>E_pr_do_kde</th>\n",
       "      <th>E_pr_do_hsm</th>\n",
       "      <th>E_pr_do_gauss</th>\n",
       "      <th>nt_mean</th>\n",
       "    </tr>\n",
       "    <tr>\n",
       "      <th>sample</th>\n",
       "      <th></th>\n",
       "      <th></th>\n",
       "      <th></th>\n",
       "      <th></th>\n",
       "      <th></th>\n",
       "      <th></th>\n",
       "      <th></th>\n",
       "      <th></th>\n",
       "      <th></th>\n",
       "      <th></th>\n",
       "      <th></th>\n",
       "      <th></th>\n",
       "      <th></th>\n",
       "      <th></th>\n",
       "      <th></th>\n",
       "    </tr>\n",
       "  </thead>\n",
       "  <tbody>\n",
       "    <tr>\n",
       "      <th>7d</th>\n",
       "      <td>1654</td>\n",
       "      <td>956</td>\n",
       "      <td>641</td>\n",
       "      <td>0.9338</td>\n",
       "      <td>0.927817</td>\n",
       "      <td>0.053928</td>\n",
       "      <td>0.002130</td>\n",
       "      <td>0.5750</td>\n",
       "      <td>0.576817</td>\n",
       "      <td>0.100866</td>\n",
       "      <td>0.003984</td>\n",
       "      <td>0.1000</td>\n",
       "      <td>0.090002</td>\n",
       "      <td>0.104080</td>\n",
       "      <td>23.042040</td>\n",
       "    </tr>\n",
       "    <tr>\n",
       "      <th>12d</th>\n",
       "      <td>1692</td>\n",
       "      <td>486</td>\n",
       "      <td>1157</td>\n",
       "      <td>0.7508</td>\n",
       "      <td>0.748896</td>\n",
       "      <td>0.083924</td>\n",
       "      <td>0.002467</td>\n",
       "      <td>0.5974</td>\n",
       "      <td>0.588508</td>\n",
       "      <td>0.104495</td>\n",
       "      <td>0.003072</td>\n",
       "      <td>0.0998</td>\n",
       "      <td>0.098139</td>\n",
       "      <td>0.102115</td>\n",
       "      <td>23.504845</td>\n",
       "    </tr>\n",
       "    <tr>\n",
       "      <th>17d</th>\n",
       "      <td>3459</td>\n",
       "      <td>766</td>\n",
       "      <td>2588</td>\n",
       "      <td>0.4906</td>\n",
       "      <td>0.480670</td>\n",
       "      <td>0.101775</td>\n",
       "      <td>0.002001</td>\n",
       "      <td>0.5740</td>\n",
       "      <td>0.583539</td>\n",
       "      <td>0.108368</td>\n",
       "      <td>0.002130</td>\n",
       "      <td>0.1054</td>\n",
       "      <td>0.120002</td>\n",
       "      <td>0.108943</td>\n",
       "      <td>23.063124</td>\n",
       "    </tr>\n",
       "    <tr>\n",
       "      <th>22d</th>\n",
       "      <td>2798</td>\n",
       "      <td>501</td>\n",
       "      <td>2181</td>\n",
       "      <td>0.2752</td>\n",
       "      <td>0.280392</td>\n",
       "      <td>0.067918</td>\n",
       "      <td>0.001454</td>\n",
       "      <td>0.5768</td>\n",
       "      <td>0.583358</td>\n",
       "      <td>0.110174</td>\n",
       "      <td>0.002359</td>\n",
       "      <td>0.0962</td>\n",
       "      <td>0.074235</td>\n",
       "      <td>0.104701</td>\n",
       "      <td>26.631819</td>\n",
       "    </tr>\n",
       "    <tr>\n",
       "      <th>27d</th>\n",
       "      <td>1146</td>\n",
       "      <td>316</td>\n",
       "      <td>792</td>\n",
       "      <td>0.1944</td>\n",
       "      <td>0.194729</td>\n",
       "      <td>0.057172</td>\n",
       "      <td>0.002032</td>\n",
       "      <td>0.5786</td>\n",
       "      <td>0.605397</td>\n",
       "      <td>0.108735</td>\n",
       "      <td>0.003864</td>\n",
       "      <td>0.0904</td>\n",
       "      <td>0.091578</td>\n",
       "      <td>0.093993</td>\n",
       "      <td>19.882093</td>\n",
       "    </tr>\n",
       "  </tbody>\n",
       "</table>\n",
       "</div>"
      ],
      "text/plain": [
       "        n_bursts_all  n_bursts_do  n_bursts_fret  E_kde_w  E_gauss_w  \\\n",
       "sample                                                                 \n",
       "7d              1654          956            641   0.9338   0.927817   \n",
       "12d             1692          486           1157   0.7508   0.748896   \n",
       "17d             3459          766           2588   0.4906   0.480670   \n",
       "22d             2798          501           2181   0.2752   0.280392   \n",
       "27d             1146          316            792   0.1944   0.194729   \n",
       "\n",
       "        E_gauss_w_sig  E_gauss_w_err   S_kde   S_gauss  S_gauss_sig  \\\n",
       "sample                                                                \n",
       "7d           0.053928       0.002130  0.5750  0.576817     0.100866   \n",
       "12d          0.083924       0.002467  0.5974  0.588508     0.104495   \n",
       "17d          0.101775       0.002001  0.5740  0.583539     0.108368   \n",
       "22d          0.067918       0.001454  0.5768  0.583358     0.110174   \n",
       "27d          0.057172       0.002032  0.5786  0.605397     0.108735   \n",
       "\n",
       "        S_gauss_err  E_pr_do_kde  E_pr_do_hsm  E_pr_do_gauss    nt_mean  \n",
       "sample                                                                   \n",
       "7d         0.003984       0.1000     0.090002       0.104080  23.042040  \n",
       "12d        0.003072       0.0998     0.098139       0.102115  23.504845  \n",
       "17d        0.002130       0.1054     0.120002       0.108943  23.063124  \n",
       "22d        0.002359       0.0962     0.074235       0.104701  26.631819  \n",
       "27d        0.003864       0.0904     0.091578       0.093993  19.882093  "
      ]
     },
     "execution_count": 27,
     "metadata": {},
     "output_type": "execute_result"
    }
   ],
   "source": [
    "data_raw"
   ]
  },
  {
   "cell_type": "code",
   "execution_count": 28,
   "metadata": {
    "collapsed": false
   },
   "outputs": [
    {
     "data": {
      "text/plain": [
       "sample\n",
       "7d     92.903799\n",
       "12d    72.889589\n",
       "17d    43.383627\n",
       "22d    17.974406\n",
       "27d     8.202349\n",
       "Name: PR_corr_kde_dfit, dtype: float64"
      ]
     },
     "execution_count": 28,
     "metadata": {},
     "output_type": "execute_result"
    }
   ],
   "source": [
    "PR_corr_kde_dfit = fretmath.correct_E_gamma_leak_dir(data_raw.E_kde_w, \n",
    "                                                     leakage=leakage, \n",
    "                                                     dir_ex_t=m.params['dir_ex_t'].value,\n",
    "                                                     gamma=gamma)*100\n",
    "PR_corr_kde_dfit.name = 'PR_corr_kde_dfit'\n",
    "PR_corr_kde_dfit"
   ]
  },
  {
   "cell_type": "code",
   "execution_count": 29,
   "metadata": {
    "collapsed": false
   },
   "outputs": [
    {
     "data": {
      "text/html": [
       "<div>\n",
       "<table border=\"1\" class=\"dataframe\">\n",
       "  <thead>\n",
       "    <tr style=\"text-align: right;\">\n",
       "      <th></th>\n",
       "      <th>E KDE</th>\n",
       "      <th>E Gauss</th>\n",
       "      <th>PR KDE</th>\n",
       "      <th>PR Gauss</th>\n",
       "      <th>SNA Epr mean</th>\n",
       "      <th>SNA Epr max</th>\n",
       "    </tr>\n",
       "    <tr>\n",
       "      <th>sample</th>\n",
       "      <th></th>\n",
       "      <th></th>\n",
       "      <th></th>\n",
       "      <th></th>\n",
       "      <th></th>\n",
       "      <th></th>\n",
       "    </tr>\n",
       "  </thead>\n",
       "  <tbody>\n",
       "    <tr>\n",
       "      <th>7d</th>\n",
       "      <td>92.90</td>\n",
       "      <td>92.430686</td>\n",
       "      <td>92.873296</td>\n",
       "      <td>92.225488</td>\n",
       "      <td>89.8</td>\n",
       "      <td>93.7</td>\n",
       "    </tr>\n",
       "    <tr>\n",
       "      <th>12d</th>\n",
       "      <td>73.98</td>\n",
       "      <td>72.704311</td>\n",
       "      <td>72.773059</td>\n",
       "      <td>72.560742</td>\n",
       "      <td>70.5</td>\n",
       "      <td>71.5</td>\n",
       "    </tr>\n",
       "    <tr>\n",
       "      <th>17d</th>\n",
       "      <td>42.68</td>\n",
       "      <td>42.262423</td>\n",
       "      <td>43.140268</td>\n",
       "      <td>41.983957</td>\n",
       "      <td>40.0</td>\n",
       "      <td>37.9</td>\n",
       "    </tr>\n",
       "    <tr>\n",
       "      <th>22d</th>\n",
       "      <td>17.74</td>\n",
       "      <td>18.106688</td>\n",
       "      <td>17.621829</td>\n",
       "      <td>18.247882</td>\n",
       "      <td>17.0</td>\n",
       "      <td>14.7</td>\n",
       "    </tr>\n",
       "    <tr>\n",
       "      <th>27d</th>\n",
       "      <td>8.26</td>\n",
       "      <td>8.397121</td>\n",
       "      <td>7.807768</td>\n",
       "      <td>7.847972</td>\n",
       "      <td>7.2</td>\n",
       "      <td>5.3</td>\n",
       "    </tr>\n",
       "  </tbody>\n",
       "</table>\n",
       "</div>"
      ],
      "text/plain": [
       "        E KDE    E Gauss     PR KDE   PR Gauss  SNA Epr mean  SNA Epr max\n",
       "sample                                                                   \n",
       "7d      92.90  92.430686  92.873296  92.225488          89.8         93.7\n",
       "12d     73.98  72.704311  72.773059  72.560742          70.5         71.5\n",
       "17d     42.68  42.262423  43.140268  41.983957          40.0         37.9\n",
       "22d     17.74  18.106688  17.621829  18.247882          17.0         14.7\n",
       "27d      8.26   8.397121   7.807768   7.847972           7.2          5.3"
      ]
     },
     "execution_count": 29,
     "metadata": {},
     "output_type": "execute_result"
    }
   ],
   "source": [
    "E = pd.concat([data_corr[['E_kde_w', 'E_gauss_w']]*100, PR_corr_kde, PR_corr_gauss, sna*100], axis=1)\n",
    "E.columns = ['E KDE', 'E Gauss', 'PR KDE', 'PR Gauss', 'SNA Epr mean', 'SNA Epr max']\n",
    "E"
   ]
  },
  {
   "cell_type": "code",
   "execution_count": 30,
   "metadata": {
    "collapsed": false
   },
   "outputs": [
    {
     "data": {
      "image/png": "[encoded data removed]",
      "text/plain": [
       "<matplotlib.figure.Figure at 0x11fee6b70>"
      ]
     },
     "metadata": {
      "image/png": {
       "height": 326,
       "width": 429
      }
     },
     "output_type": "display_data"
    }
   ],
   "source": [
    "E.plot.bar(table=np.round(E, 2).T)\n",
    "plt.ylabel('FRET (%)')\n",
    "plt.gca().xaxis.set_visible(False)\n",
    "#plt.legend(bbox_to_anchor=(1.05, 1), loc=2, borderaxespad=0.);"
   ]
  },
  {
   "cell_type": "code",
   "execution_count": 31,
   "metadata": {
    "collapsed": false
   },
   "outputs": [
    {
     "name": "stdout",
     "output_type": "stream",
     "text": [
      "Max error E_alex vs E_corr_pr: 1.21\n",
      "Max error E_alex vs E_beta:    1.42\n",
      "Max error E_beta vs E_corr_pr: 1.16\n"
     ]
    },
    {
     "data": {
      "image/png": "[encoded data removed]",
      "text/plain": [
       "<matplotlib.figure.Figure at 0x120921d68>"
      ]
     },
     "metadata": {
      "image/png": {
       "height": 281,
       "width": 372
      }
     },
     "output_type": "display_data"
    },
    {
     "data": {
      "image/png": "[encoded data removed]",
      "text/plain": [
       "<matplotlib.figure.Figure at 0x120921ef0>"
      ]
     },
     "metadata": {
      "image/png": {
       "height": 273,
       "width": 381
      }
     },
     "output_type": "display_data"
    }
   ],
   "source": [
    "E[['PR KDE', 'PR Gauss', 'E KDE']].plot(kind='bar')\n",
    "E[['PR KDE', 'PR Gauss', 'E KDE']].plot(lw=3);\n",
    "print('Max error E_alex vs E_corr_pr: %.2f' % (E['E KDE'] - E['PR KDE']).abs().max())\n",
    "print('Max error E_alex vs E_beta:    %.2f' % (E['E KDE'] - E['PR Gauss']).abs().max())\n",
    "print('Max error E_beta vs E_corr_pr: %.2f' % (E['PR Gauss'] - E['PR KDE']).abs().max())"
   ]
  },
  {
   "cell_type": "code",
   "execution_count": 32,
   "metadata": {
    "collapsed": false
   },
   "outputs": [
    {
     "data": {
      "image/png": "[encoded data removed]",
      "text/plain": [
       "<matplotlib.figure.Figure at 0x120892978>"
      ]
     },
     "metadata": {
      "image/png": {
       "height": 273,
       "width": 393
      }
     },
     "output_type": "display_data"
    }
   ],
   "source": [
    "x = [int(idx[:-1]) for idx in out.index]\n",
    "plt.plot(x, 'E KDE', data=E)\n",
    "plt.plot(x, 'PR KDE', data=E)\n",
    "plt.plot(x, 'PR Gauss', data=E)\n",
    "plt.xlabel('Distance in base-pair')\n",
    "plt.ylabel('FRET');"
   ]
  },
  {
   "cell_type": "code",
   "execution_count": 33,
   "metadata": {
    "collapsed": false
   },
   "outputs": [
    {
     "data": {
      "text/plain": [
       "sample\n",
       "7d     0.026704\n",
       "12d    1.206941\n",
       "17d   -0.460268\n",
       "22d    0.118171\n",
       "27d    0.452232\n",
       "dtype: float64"
      ]
     },
     "execution_count": 33,
     "metadata": {},
     "output_type": "execute_result"
    }
   ],
   "source": [
    "E['E KDE'] - E['PR KDE']"
   ]
  },
  {
   "cell_type": "markdown",
   "metadata": {},
   "source": [
    "> **NOTE:** Fitting $d_{dirT}$ to match $E$ from corrected hsitograms with $E$ from PR correction formula produces a max difference of 1% for the 12d sample. The match is well below the fitting accuracy (> 2%)."
   ]
  },
  {
   "cell_type": "markdown",
   "metadata": {
    "collapsed": true
   },
   "source": [
    "# Save"
   ]
  },
  {
   "cell_type": "code",
   "execution_count": 34,
   "metadata": {
    "collapsed": true
   },
   "outputs": [],
   "source": [
    "E.to_csv('results/usALEX-5samples-E-all-methods.txt')"
   ]
  },
  {
   "cell_type": "code",
   "execution_count": 35,
   "metadata": {
    "collapsed": true
   },
   "outputs": [],
   "source": []
  }
 ],
 "metadata": {
  "kernelspec": {
   "display_name": "Python 3",
   "language": "python",
   "name": "python3"
  },
  "language_info": {
   "codemirror_mode": {
    "name": "ipython",
    "version": 3
   },
   "file_extension": ".py",
   "mimetype": "text/x-python",
   "name": "python",
   "nbconvert_exporter": "python",
   "pygments_lexer": "ipython3",
   "version": "3.5.1"
  }
 },
 "nbformat": 4,
 "nbformat_minor": 0
}
