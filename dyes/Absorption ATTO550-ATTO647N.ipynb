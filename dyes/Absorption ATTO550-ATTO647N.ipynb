{
 "cells": [
  {
   "cell_type": "markdown",
   "metadata": {},
   "source": [
    "# ATTO550, ATT0647N specs\n",
    "\n",
    "* **ATTO550:** [home page](https://www.atto-tec.com/attotecshop/product_info.php?language=en&info=p103_ATTO-550.html&=), [spectra in xls](http://www.atto-tec.com/index.php?id=113&no_cache=1&L=1&tx_mmdamfilelist_pi1%5Bpointer%5D=2&cHash=b27a25c98e72f57bf6dcb0b1ba0ee370)\n",
    "\n",
    "* **ATTO647N:** [home page](https://www.atto-tec.com/attotecshop/product_info.php?language=en&info=p114_atto-647n.html&=), [spectra in xls](http://www.atto-tec.com/index.php?id=113&no_cache=1&L=1&tx_mmdamfilelist_pi1%5Border%5D=tx_dam.title%3A0&cHash=7b9e266dd26ff5f317708c415d82556f)"
   ]
  },
  {
   "cell_type": "code",
   "execution_count": 1,
   "metadata": {
    "collapsed": false
   },
   "outputs": [],
   "source": [
    "atto550_ext_coeff = 1.2*1e5   # 1 / ( mol cm )\n",
    "atto647N_ext_coeff = 1.5*1e5  # 1 / ( mol cm )"
   ]
  },
  {
   "cell_type": "code",
   "execution_count": 2,
   "metadata": {
    "collapsed": false
   },
   "outputs": [],
   "source": [
    "%matplotlib inline\n",
    "import matplotlib.pyplot as plt\n",
    "import pandas as pd"
   ]
  },
  {
   "cell_type": "code",
   "execution_count": 3,
   "metadata": {
    "collapsed": false
   },
   "outputs": [],
   "source": [
    "a550 = pd.read_excel('ATTO550.xlsx', 'Tabelle1', index_col=None, na_values=['NA'])\n",
    "a647N = pd.read_excel('ATTO647N.xlsx', 'Tabelle1', index_col=None, na_values=['NA'])"
   ]
  },
  {
   "cell_type": "code",
   "execution_count": 4,
   "metadata": {
    "collapsed": false
   },
   "outputs": [
    {
     "data": {
      "text/html": [
       "<div style=\"max-height:1000px;max-width:1500px;overflow:auto;\">\n",
       "<table border=\"1\" class=\"dataframe\">\n",
       "  <thead>\n",
       "    <tr style=\"text-align: right;\">\n",
       "      <th></th>\n",
       "      <th>Absorption</th>\n",
       "      <th>Unnamed: 1</th>\n",
       "      <th>Unnamed: 2</th>\n",
       "      <th>Emission</th>\n",
       "      <th>Unnamed: 4</th>\n",
       "    </tr>\n",
       "  </thead>\n",
       "  <tbody>\n",
       "    <tr>\n",
       "      <th>0</th>\n",
       "      <td> Wavelength, nm</td>\n",
       "      <td> Absorbance</td>\n",
       "      <td>NaN</td>\n",
       "      <td> Wavelength, nm</td>\n",
       "      <td> Intensity, a.u. </td>\n",
       "    </tr>\n",
       "    <tr>\n",
       "      <th>1</th>\n",
       "      <td>            NaN</td>\n",
       "      <td>        NaN</td>\n",
       "      <td>NaN</td>\n",
       "      <td>            NaN</td>\n",
       "      <td>              NaN</td>\n",
       "    </tr>\n",
       "    <tr>\n",
       "      <th>2</th>\n",
       "      <td>            250</td>\n",
       "      <td>      0.324</td>\n",
       "      <td>NaN</td>\n",
       "      <td>            520</td>\n",
       "      <td>                0</td>\n",
       "    </tr>\n",
       "    <tr>\n",
       "      <th>3</th>\n",
       "      <td>          250.2</td>\n",
       "      <td>      0.325</td>\n",
       "      <td>NaN</td>\n",
       "      <td>            521</td>\n",
       "      <td>                0</td>\n",
       "    </tr>\n",
       "  </tbody>\n",
       "</table>\n",
       "</div>"
      ],
      "text/plain": [
       "       Absorption  Unnamed: 1  Unnamed: 2        Emission        Unnamed: 4\n",
       "0  Wavelength, nm  Absorbance         NaN  Wavelength, nm  Intensity, a.u. \n",
       "1             NaN         NaN         NaN             NaN               NaN\n",
       "2             250       0.324         NaN             520                 0\n",
       "3           250.2       0.325         NaN             521                 0"
      ]
     },
     "execution_count": 4,
     "metadata": {},
     "output_type": "execute_result"
    }
   ],
   "source": [
    "a550[:4]"
   ]
  },
  {
   "cell_type": "code",
   "execution_count": 5,
   "metadata": {
    "collapsed": false
   },
   "outputs": [
    {
     "data": {
      "text/html": [
       "<div style=\"max-height:1000px;max-width:1500px;overflow:auto;\">\n",
       "<table border=\"1\" class=\"dataframe\">\n",
       "  <thead>\n",
       "    <tr style=\"text-align: right;\">\n",
       "      <th></th>\n",
       "      <th>Absorption</th>\n",
       "      <th>Unnamed: 1</th>\n",
       "      <th>Unnamed: 2</th>\n",
       "      <th>Emission</th>\n",
       "      <th>Unnamed: 4</th>\n",
       "    </tr>\n",
       "  </thead>\n",
       "  <tbody>\n",
       "    <tr>\n",
       "      <th>0</th>\n",
       "      <td> Wavelength, nm</td>\n",
       "      <td> Absorbance</td>\n",
       "      <td>NaN</td>\n",
       "      <td> Wavelength, nm</td>\n",
       "      <td> Intensity, a.u. </td>\n",
       "    </tr>\n",
       "    <tr>\n",
       "      <th>1</th>\n",
       "      <td>            NaN</td>\n",
       "      <td>        NaN</td>\n",
       "      <td>NaN</td>\n",
       "      <td>            NaN</td>\n",
       "      <td>              NaN</td>\n",
       "    </tr>\n",
       "    <tr>\n",
       "      <th>2</th>\n",
       "      <td>            250</td>\n",
       "      <td>      0.082</td>\n",
       "      <td>NaN</td>\n",
       "      <td>            600</td>\n",
       "      <td>            0.003</td>\n",
       "    </tr>\n",
       "    <tr>\n",
       "      <th>3</th>\n",
       "      <td>            251</td>\n",
       "      <td>      0.079</td>\n",
       "      <td>NaN</td>\n",
       "      <td>            601</td>\n",
       "      <td>            0.003</td>\n",
       "    </tr>\n",
       "  </tbody>\n",
       "</table>\n",
       "</div>"
      ],
      "text/plain": [
       "       Absorption  Unnamed: 1  Unnamed: 2        Emission        Unnamed: 4\n",
       "0  Wavelength, nm  Absorbance         NaN  Wavelength, nm  Intensity, a.u. \n",
       "1             NaN         NaN         NaN             NaN               NaN\n",
       "2             250       0.082         NaN             600             0.003\n",
       "3             251       0.079         NaN             601             0.003"
      ]
     },
     "execution_count": 5,
     "metadata": {},
     "output_type": "execute_result"
    }
   ],
   "source": [
    "a647N[:4]"
   ]
  },
  {
   "cell_type": "code",
   "execution_count": 6,
   "metadata": {
    "collapsed": false
   },
   "outputs": [],
   "source": [
    "a550.columns = ['wl_absorption', 'absorption', 'none', 'wl_emission', 'emission']\n",
    "ab_550 = a550[['wl_absorption', 'absorption']][2:].set_index('wl_absorption').dropna()\n",
    "em_550 = a550[['wl_emission', 'emission']][2:].set_index('wl_emission').dropna()\n",
    "atto550 = pd.concat([ab_550, em_550], axis=1)\n",
    "\n",
    "a647N.columns = ['wl_absorption', 'absorption', 'none', 'wl_emission', 'emission']\n",
    "ab_647N = a647N[['wl_absorption', 'absorption']][2:].set_index('wl_absorption').dropna()\n",
    "em_647N = a647N[['wl_emission', 'emission']][2:].set_index('wl_emission').dropna()\n",
    "atto647N = pd.concat([ab_647N, em_647N], axis=1)"
   ]
  },
  {
   "cell_type": "code",
   "execution_count": 7,
   "metadata": {
    "collapsed": false
   },
   "outputs": [
    {
     "data": {
      "image/png": "[encoded data removed]",
      "text/plain": [
       "<matplotlib.figure.Figure at 0xc33b898>"
      ]
     },
     "metadata": {},
     "output_type": "display_data"
    }
   ],
   "source": [
    "atto550.absorption.plot(label='ATTO550 abs')\n",
    "atto550.emission.dropna().plot(style='--', ax=plt.gca(), label='ATTO550 em')\n",
    "atto647N.absorption.plot(ax=plt.gca(), label='ATTO647N abs')\n",
    "atto647N.emission.dropna().plot(style='--', ax=plt.gca(), label='ATTO647N em')\n",
    "plt.legend()\n",
    "plt.title('Absorption and emission spectra (normalized)');"
   ]
  },
  {
   "cell_type": "markdown",
   "metadata": {},
   "source": [
    "To obtain the absorption cross-section we need to normalize by the extinctyion coefficient:"
   ]
  },
  {
   "cell_type": "code",
   "execution_count": 8,
   "metadata": {
    "collapsed": false
   },
   "outputs": [],
   "source": [
    "atto550.absorption *= atto550_ext_coeff\n",
    "atto647N.absorption *= atto647N_ext_coeff"
   ]
  },
  {
   "cell_type": "code",
   "execution_count": 9,
   "metadata": {
    "collapsed": false
   },
   "outputs": [
    {
     "data": {
      "image/png": "[encoded data removed]",
      "text/plain": [
       "<matplotlib.figure.Figure at 0xc471160>"
      ]
     },
     "metadata": {},
     "output_type": "display_data"
    }
   ],
   "source": [
    "atto550.absorption.plot(label='ATTO550 abs', style='b')\n",
    "atto647N.absorption.plot(ax=plt.gca(), label='ATTO647N abs', style='r')\n",
    "plt.legend(loc='best')\n",
    "plt.title('Absorption cross-section');"
   ]
  },
  {
   "cell_type": "markdown",
   "metadata": {},
   "source": [
    "# Absorption cross-section @ 532 nm"
   ]
  },
  {
   "cell_type": "code",
   "execution_count": 10,
   "metadata": {
    "collapsed": false
   },
   "outputs": [
    {
     "data": {
      "text/plain": [
       "(47880.0, 5100.0)"
      ]
     },
     "execution_count": 10,
     "metadata": {},
     "output_type": "execute_result"
    }
   ],
   "source": [
    "atto550_abs532 = atto550.absorption.loc[532]\n",
    "atto647N_abs532 = atto647N.absorption.loc[532]\n",
    "\n",
    "atto550_abs532, atto647N_abs532"
   ]
  },
  {
   "cell_type": "code",
   "execution_count": 11,
   "metadata": {
    "collapsed": false
   },
   "outputs": [
    {
     "data": {
      "text/plain": [
       "0.10651629072681704"
      ]
     },
     "execution_count": 11,
     "metadata": {},
     "output_type": "execute_result"
    }
   ],
   "source": [
    "ratio = atto647N_abs532 / atto550_abs532\n",
    "ratio"
   ]
  },
  {
   "cell_type": "code",
   "execution_count": 12,
   "metadata": {
    "collapsed": false
   },
   "outputs": [],
   "source": [
    "with open('../results/Dyes - ATT0647N-ATTO550 abs X-section ratio at 532nm.csv', 'w') as f:\n",
    "    f.write(str(ratio))"
   ]
  }
 ],
 "metadata": {
  "kernelspec": {
   "display_name": "Python 3",
   "language": "python",
   "name": "python3"
  },
  "language_info": {
   "codemirror_mode": {
    "name": "ipython",
    "version": 3
   },
   "file_extension": ".py",
   "mimetype": "text/x-python",
   "name": "python",
   "nbconvert_exporter": "python",
   "pygments_lexer": "ipython3",
   "version": "3.5.1"
  }
 },
 "nbformat": 4,
 "nbformat_minor": 0
}
