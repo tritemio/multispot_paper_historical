{
 "cells": [
  {
   "cell_type": "markdown",
   "metadata": {},
   "source": [
    "# usALEX - Corrections - Direct excitation physical parameter\n",
    "\n",
    "> *This notebook estimates direct excitation coefficient $d_{exT}$ from μs-ALEX data.*"
   ]
  },
  {
   "cell_type": "markdown",
   "metadata": {},
   "source": [
    "## Aim\n",
    "\n",
    "### What is already computed?\n",
    "\n",
    "We previously fitted the **leakage** and **gamma** coefficient from the RAW PR values for the 5 measurements. We also fitted the\n",
    "direct excitation coefficient expressed (`dir_ex_aa`) as a function of the A-signal during A-excitation (`naa`). In symbols, `dire_ex_aa` is defined as:\n",
    "\n",
    "$$ d_{exAA} = \\frac{n_{a}}{n_{aa}}$$\n",
    "\n",
    "for a A-only population.\n",
    "\n",
    "### What we want to compute?\n",
    "\n",
    "An alternative defition of the direct excitation coefficient (`dir_ex_t`, $d_{exT}$) relies only on physical properties but, differently from `dir_ex_aa`, it cannot be expressed as a function of μs-ALEX quatitites.\n",
    "\n",
    "The definition of $d_{exT}$ is:\n",
    "\n",
    "$$ d_{exT} = \\frac{\\sigma_{A532}}{\\sigma_{A532}}$$\n",
    "\n",
    "where $\\sigma_{A532}$ and $\\sigma_{D532}$ are the absorption cross-sections of the Acceptor and Donor dye at 532nm.\n",
    "\n",
    "Once dyes and excitation wavelength are fixed this coefficien is also fixed. Moreover, since $d_{exT}$ is independent from μs-ALEX quantities, it can also used to correct the non-ALEX multi-spot measurements.\n",
    "\n",
    "### How we compute it?\n",
    "\n",
    "Here, we correct the RAW PR values using the formula for leakage + direct excitation (`dir_ex_t`) + gamma correction. Since we already estimated leakage and gamma,  we fit `dir_ex_t` in order to match the corrected FRET efficiencies obtained from corrected FRET histograms. The fitted direct excitation (`dir_ex_t`) will be finally used to correct the multi-spot measurements."
   ]
  },
  {
   "cell_type": "markdown",
   "metadata": {},
   "source": [
    "## Library imports"
   ]
  },
  {
   "cell_type": "code",
   "execution_count": null,
   "metadata": {
    "collapsed": false
   },
   "outputs": [],
   "source": [
    "from __future__ import division\n",
    "import os\n",
    "import numpy as np\n",
    "import pandas as pd\n",
    "import lmfit"
   ]
  },
  {
   "cell_type": "markdown",
   "metadata": {},
   "source": [
    "## Load data RAW PR data"
   ]
  },
  {
   "cell_type": "code",
   "execution_count": null,
   "metadata": {
    "collapsed": false
   },
   "outputs": [],
   "source": [
    "#bsearch_ph_sel = 'AND-gate'\n",
    "bsearch_ph_sel = 'Dex'\n",
    "\n",
    "data_file = 'results/usALEX-5samples-PR-raw-%s.txt' % bsearch_ph_sel"
   ]
  },
  {
   "cell_type": "markdown",
   "metadata": {},
   "source": [
    "These are the **RAW proximity ratios** for the 5 samples (only background correction, no leakage nor direct excitation):"
   ]
  },
  {
   "cell_type": "code",
   "execution_count": null,
   "metadata": {
    "collapsed": false
   },
   "outputs": [],
   "source": [
    "data_raw = pd.read_csv(data_file, sep=\"\\s+\").set_index('sample')\n",
    "data_raw[['E_gauss_w', 'E_kde_w']]"
   ]
  },
  {
   "cell_type": "markdown",
   "metadata": {},
   "source": [
    "## Load μs-ALEX corrections"
   ]
  },
  {
   "cell_type": "code",
   "execution_count": null,
   "metadata": {
    "collapsed": false
   },
   "outputs": [],
   "source": [
    "leakage_coeff_fname = 'results/usALEX - leakage coefficient DexDem.txt'\n",
    "leakage = np.loadtxt(leakage_coeff_fname)\n",
    "\n",
    "print('Leakage coefficient:', leakage)"
   ]
  },
  {
   "cell_type": "code",
   "execution_count": null,
   "metadata": {
    "collapsed": false
   },
   "outputs": [],
   "source": [
    "dir_ex_t_datasheet_fname = 'results/Dyes - ATT0647N-ATTO550 abs X-section ratio at 532nm.txt'\n",
    "dir_ex_t_datasheet = np.loadtxt(dir_ex_t_datasheet_fname)\n",
    "\n",
    "print('Direct excitation (dir_ex_t) from datasheet:', dir_ex_t_datasheet)"
   ]
  },
  {
   "cell_type": "code",
   "execution_count": null,
   "metadata": {
    "collapsed": false
   },
   "outputs": [],
   "source": [
    "gamma_coeff_fname = 'results/usALEX - gamma factor - all-ph.txt'\n",
    "gamma = np.loadtxt(gamma_coeff_fname)\n",
    "\n",
    "print('Gamma factor:', gamma)"
   ]
  },
  {
   "cell_type": "markdown",
   "metadata": {},
   "source": [
    "## Load E data from corrected FRET bursts"
   ]
  },
  {
   "cell_type": "markdown",
   "metadata": {},
   "source": [
    "And these are the **FRET efficiencies** fitted from corrected histograms for the same 5 samples: "
   ]
  },
  {
   "cell_type": "code",
   "execution_count": null,
   "metadata": {
    "collapsed": false
   },
   "outputs": [],
   "source": [
    "data_file = 'results/usALEX-5samples-E-corrected-all-ph.txt'\n",
    "data_corr = pd.read_csv(data_file, sep=\"\\s+\").set_index('sample')\n",
    "data_corr[['E_gauss_w', 'E_kde_w']]"
   ]
  },
  {
   "cell_type": "markdown",
   "metadata": {},
   "source": [
    "### Proximity Ratio correction formula\n",
    "\n",
    "The expression to convert RAW PR values to corrected FRET efficiencies:\n",
    "\n",
    "$$ E = \\frac{E_{R} \\left(L_{k} + d_{exT} \\gamma + 1\\right) - L_{k} - d_{exT} \\gamma}{E_{R} \\left(L_{k} - \\gamma + 1\\right) - L_{k} + \\gamma}$$\n",
    "\n",
    "*See [Derivation of FRET and S correction formulas](Derivation of FRET and S correction formulas.ipynb) for the derivation*.\n",
    "\n",
    "We load [FRETBursts software](https://github.com/tritemio/FRETBursts/) that provides this function (as `fretmath.correct_E_gamma_leak_dir`):"
   ]
  },
  {
   "cell_type": "code",
   "execution_count": null,
   "metadata": {
    "collapsed": false
   },
   "outputs": [],
   "source": [
    "from fretbursts import *"
   ]
  },
  {
   "cell_type": "markdown",
   "metadata": {},
   "source": [
    "## Comparison of datasheet-based *vs* μs-ALEX-based direct excitation\n",
    "\n",
    "Using [datasheet values](dyes/Absorption ATTO550-ATTO647N.ipynb) for $d_{exT}$ we the following FRET efficiencies:"
   ]
  },
  {
   "cell_type": "code",
   "execution_count": null,
   "metadata": {
    "collapsed": false
   },
   "outputs": [],
   "source": [
    "E_datasheet = fretmath.correct_E_gamma_leak_dir(data_raw.E_kde_w, \n",
    "                                                leakage=leakage, \n",
    "                                                dir_ex_t=dir_ex_t_datasheet,\n",
    "                                                gamma=gamma)*100\n",
    "E_datasheet"
   ]
  },
  {
   "cell_type": "code",
   "execution_count": null,
   "metadata": {
    "collapsed": false
   },
   "outputs": [],
   "source": [
    "out = data_corr[['E_kde_w']].copy()*100\n",
    "out.columns = ['E_alex']\n",
    "out['E_datasheet'] = E_datasheet\n",
    "out"
   ]
  },
  {
   "cell_type": "code",
   "execution_count": null,
   "metadata": {
    "collapsed": false
   },
   "outputs": [],
   "source": [
    "out.plot(alpha=0.4, lw=3, style=dict(E_alex='-ob', E_datasheet='-sr'));"
   ]
  },
  {
   "cell_type": "markdown",
   "metadata": {},
   "source": [
    "> **NOTE:** The corrected FRET efficiencies using the datasheet and \n",
    "> μs-ALEX-based direct excitation do not match well."
   ]
  },
  {
   "cell_type": "markdown",
   "metadata": {},
   "source": [
    "## Fitting of physical direct excitation coefficient $d_{exT}$"
   ]
  },
  {
   "cell_type": "code",
   "execution_count": null,
   "metadata": {
    "collapsed": false
   },
   "outputs": [],
   "source": [
    "import lmfit"
   ]
  },
  {
   "cell_type": "code",
   "execution_count": null,
   "metadata": {
    "collapsed": false
   },
   "outputs": [],
   "source": [
    "def residuals_absolute(params, E_raw, E_ref):\n",
    "    dir_ex_t = params['dir_ex_t'].value\n",
    "    return E_ref - fretmath.correct_E_gamma_leak_dir(E_raw, \n",
    "                                                     leakage=leakage, \n",
    "                                                     gamma=gamma, \n",
    "                                                     dir_ex_t=dir_ex_t)"
   ]
  },
  {
   "cell_type": "code",
   "execution_count": null,
   "metadata": {
    "collapsed": false
   },
   "outputs": [],
   "source": [
    "def residuals_relative(params, E_raw, E_ref):\n",
    "    dir_ex_t = params['dir_ex_t'].value\n",
    "    return (E_ref - fretmath.correct_E_gamma_leak_dir(E_raw, \n",
    "                                                      leakage=leakage, \n",
    "                                                      gamma=gamma, \n",
    "                                                      dir_ex_t=dir_ex_t))/E_ref"
   ]
  },
  {
   "cell_type": "code",
   "execution_count": null,
   "metadata": {
    "collapsed": false
   },
   "outputs": [],
   "source": [
    "params = lmfit.Parameters()\n",
    "params.add('dir_ex_t', value=0.05) "
   ]
  },
  {
   "cell_type": "code",
   "execution_count": null,
   "metadata": {
    "collapsed": false
   },
   "outputs": [],
   "source": [
    "m = lmfit.minimize(residuals_absolute, params, args=(data_raw.E_kde_w, data_corr.E_kde_w))\n",
    "lmfit.report_fit(m.params, show_correl=False)"
   ]
  },
  {
   "cell_type": "code",
   "execution_count": null,
   "metadata": {
    "collapsed": false
   },
   "outputs": [],
   "source": [
    "m = lmfit.minimize(residuals_relative, params, args=(data_raw.E_kde_w, data_corr.E_kde_w))\n",
    "lmfit.report_fit(m.params, show_correl=False)"
   ]
  },
  {
   "cell_type": "markdown",
   "metadata": {},
   "source": [
    "> **NOTE:** The fitted `dir_ex_t` is 4.5% as opposed to 10.6% as expected from the [absorption spectra of ATTO550 and ATTO647](dyes/Absorption ATTO550-ATTO647N.ipynb) at 532nm."
   ]
  },
  {
   "cell_type": "code",
   "execution_count": null,
   "metadata": {
    "collapsed": false
   },
   "outputs": [],
   "source": [
    "m.params['dir_ex_t'].value"
   ]
  },
  {
   "cell_type": "code",
   "execution_count": null,
   "metadata": {
    "collapsed": false
   },
   "outputs": [],
   "source": [
    "with open('results/usALEX - direct excitation coefficient dir_ex_t.txt', 'w') as f:\n",
    "    f.write(str(m.params['dir_ex_t'].value))"
   ]
  },
  {
   "cell_type": "markdown",
   "metadata": {},
   "source": [
    "## Use `dir_ex_t` ($d_{exT}$) to obtain corrected $E$"
   ]
  },
  {
   "cell_type": "code",
   "execution_count": null,
   "metadata": {
    "collapsed": false
   },
   "outputs": [],
   "source": [
    "data_raw"
   ]
  },
  {
   "cell_type": "code",
   "execution_count": null,
   "metadata": {
    "collapsed": false
   },
   "outputs": [],
   "source": [
    "E_corr_pr = fretmath.correct_E_gamma_leak_dir(data_raw.E_kde_w, \n",
    "                                              leakage=leakage, \n",
    "                                              dir_ex_t=m.params['dir_ex_t'].value,\n",
    "                                              gamma=gamma)*100\n",
    "E_corr_pr"
   ]
  },
  {
   "cell_type": "code",
   "execution_count": null,
   "metadata": {
    "collapsed": false
   },
   "outputs": [],
   "source": [
    "out['E_corr_pr'] = E_corr_pr\n",
    "out"
   ]
  },
  {
   "cell_type": "code",
   "execution_count": null,
   "metadata": {
    "collapsed": false
   },
   "outputs": [],
   "source": [
    "out['E_alex']"
   ]
  },
  {
   "cell_type": "code",
   "execution_count": null,
   "metadata": {
    "collapsed": false
   },
   "outputs": [],
   "source": [
    "x = [int(idx[:-1]) for idx in out.index]\n",
    "plot(x, out['E_alex'])\n",
    "plot(x, out['E_corr_pr'])\n",
    "(out['E_alex'] - out['E_corr_pr']).abs().max()"
   ]
  },
  {
   "cell_type": "code",
   "execution_count": null,
   "metadata": {
    "collapsed": false
   },
   "outputs": [],
   "source": [
    "(out['E_alex'] - out['E_corr_pr'])"
   ]
  },
  {
   "cell_type": "markdown",
   "metadata": {},
   "source": [
    "> **NOTE:** Fitting $d_{exT}$ to match $E$ from corrected hsitograms with $E$ from PR correction formula produces a max difference of 1% for the 12d sample. The match is well below the fitting accuracy (> 2%)."
   ]
  },
  {
   "cell_type": "code",
   "execution_count": null,
   "metadata": {
    "collapsed": false
   },
   "outputs": [],
   "source": []
  }
 ],
 "metadata": {
  "kernelspec": {
   "display_name": "Python 3",
   "language": "python",
   "name": "python3"
  },
  "language_info": {
   "codemirror_mode": {
    "name": "ipython",
    "version": 3
   },
   "file_extension": ".py",
   "mimetype": "text/x-python",
   "name": "python",
   "nbconvert_exporter": "python",
   "pygments_lexer": "ipython3",
   "version": "3.4.3"
  }
 },
 "nbformat": 4,
 "nbformat_minor": 0
}
