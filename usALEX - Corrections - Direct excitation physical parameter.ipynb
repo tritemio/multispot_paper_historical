{
 "metadata": {
  "name": "",
  "signature": "sha256:9dd119c2141f2db00f563affc1b8d730b2b9b6f3e70dbb2e06bc540abb06318c"
 },
 "nbformat": 3,
 "nbformat_minor": 0,
 "worksheets": [
  {
   "cells": [
    {
     "cell_type": "markdown",
     "metadata": {},
     "source": [
      "# usALEX - Corrections - Direct excitation physical parameter\n",
      "\n",
      "> *This notebook estimates direct excitation coefficient $d_{exT}$ from \u03bcs-ALEX data.*"
     ]
    },
    {
     "cell_type": "markdown",
     "metadata": {},
     "source": [
      "## Aim\n",
      "\n",
      "### What is already computed?\n",
      "\n",
      "We previously fitted the **leakage** and **gamma** coefficient from the RAW PR values for the 5 measurements. We also fitted the\n",
      "direct excitation coefficient expressed (`dir_ex_aa`) as a function of the A-signal during A-excitation (`naa`). In symbols, `dire_ex_aa` is defined as:\n",
      "\n",
      "$$ d_{exAA} = \\frac{n_{a}}{n_{aa}}$$\n",
      "\n",
      "for a A-only population.\n",
      "\n",
      "### What we want to compute?\n",
      "\n",
      "An alternative defition of the direct excitation coefficient (`dir_ex_t`, $d_{exT}$) relies only on physical properties but, differently from `dir_ex_aa`, it cannot be expressed as a function of \u03bcs-ALEX quatitites.\n",
      "\n",
      "The definition of $d_{exT}$ is:\n",
      "\n",
      "$$ d_{exT} = \\frac{\\sigma_{A532}}{\\sigma_{A532}}$$\n",
      "\n",
      "where $\\sigma_{A532}$ and $\\sigma_{D532}$ are the absorption cross-sections of the Acceptor and Donor dye at 532nm.\n",
      "\n",
      "Once dyes and excitation wavelength are fixed this coefficien is also fixed. Moreover, since $d_{exT}$ is independent from \u03bcs-ALEX quantities, it can also used to correct the non-ALEX multi-spot measurements.\n",
      "\n",
      "### How we compute it?\n",
      "\n",
      "Here, we correct the RAW PR values using the formula for leakage + direct excitation (`dir_ex_t`) + gamma correction. Since we already estimated leakage and gamma,  we fit `dir_ex_t` in order to match the corrected FRET efficiencies obtained from corrected FRET histograms. The fitted direct excitation (`dir_ex_t`) will be finally used to correct the multi-spot measurements."
     ]
    },
    {
     "cell_type": "markdown",
     "metadata": {},
     "source": [
      "## Library imports"
     ]
    },
    {
     "cell_type": "code",
     "collapsed": false,
     "input": [
      "from __future__ import division\n",
      "import os\n",
      "import numpy as np\n",
      "import pandas as pd\n",
      "import lmfit"
     ],
     "language": "python",
     "metadata": {},
     "outputs": [],
     "prompt_number": 1
    },
    {
     "cell_type": "markdown",
     "metadata": {},
     "source": [
      "## Load data RAW PR data"
     ]
    },
    {
     "cell_type": "code",
     "collapsed": false,
     "input": [
      "#bsearch_ph_sel = 'AND-gate'\n",
      "bsearch_ph_sel = 'Dex'\n",
      "\n",
      "data_file = 'results/usALEX-5samples-PR-raw-%s.txt' % bsearch_ph_sel"
     ],
     "language": "python",
     "metadata": {},
     "outputs": [],
     "prompt_number": 2
    },
    {
     "cell_type": "markdown",
     "metadata": {},
     "source": [
      "These are the **RAW proximity ratios** for the 5 samples (only background correction, no leakage nor direct excitation):"
     ]
    },
    {
     "cell_type": "code",
     "collapsed": false,
     "input": [
      "data_raw = pd.read_csv(data_file, sep=\"\\s+\").set_index('sample')\n",
      "data_raw[['E_gauss_w', 'E_kde_w']]"
     ],
     "language": "python",
     "metadata": {},
     "outputs": [
      {
       "html": [
        "<div style=\"max-height:1000px;max-width:1500px;overflow:auto;\">\n",
        "<table border=\"1\" class=\"dataframe\">\n",
        "  <thead>\n",
        "    <tr style=\"text-align: right;\">\n",
        "      <th></th>\n",
        "      <th>E_gauss_w</th>\n",
        "      <th>E_kde_w</th>\n",
        "    </tr>\n",
        "    <tr>\n",
        "      <th>sample</th>\n",
        "      <th></th>\n",
        "      <th></th>\n",
        "    </tr>\n",
        "  </thead>\n",
        "  <tbody>\n",
        "    <tr>\n",
        "      <th>7d</th>\n",
        "      <td> 0.927281</td>\n",
        "      <td> 0.9336</td>\n",
        "    </tr>\n",
        "    <tr>\n",
        "      <th>12d</th>\n",
        "      <td> 0.748524</td>\n",
        "      <td> 0.7510</td>\n",
        "    </tr>\n",
        "    <tr>\n",
        "      <th>17d</th>\n",
        "      <td> 0.480718</td>\n",
        "      <td> 0.4908</td>\n",
        "    </tr>\n",
        "    <tr>\n",
        "      <th>22d</th>\n",
        "      <td> 0.280169</td>\n",
        "      <td> 0.2752</td>\n",
        "    </tr>\n",
        "    <tr>\n",
        "      <th>27d</th>\n",
        "      <td> 0.194758</td>\n",
        "      <td> 0.1944</td>\n",
        "    </tr>\n",
        "  </tbody>\n",
        "</table>\n",
        "</div>"
       ],
       "metadata": {},
       "output_type": "pyout",
       "prompt_number": 3,
       "text": [
        "        E_gauss_w  E_kde_w\n",
        "sample                    \n",
        "7d       0.927281   0.9336\n",
        "12d      0.748524   0.7510\n",
        "17d      0.480718   0.4908\n",
        "22d      0.280169   0.2752\n",
        "27d      0.194758   0.1944"
       ]
      }
     ],
     "prompt_number": 3
    },
    {
     "cell_type": "markdown",
     "metadata": {},
     "source": [
      "## Load \u03bcs-ALEX corrections"
     ]
    },
    {
     "cell_type": "code",
     "collapsed": false,
     "input": [
      "leakage_coeff_fname = 'results/usALEX - leakage coefficient DexDem.txt'\n",
      "leakage = np.loadtxt(leakage_coeff_fname)\n",
      "\n",
      "print 'Leakage coefficient:', leakage"
     ],
     "language": "python",
     "metadata": {},
     "outputs": [
      {
       "output_type": "stream",
       "stream": "stdout",
       "text": [
        "Leakage coefficient: 0.0999978359136\n"
       ]
      }
     ],
     "prompt_number": 4
    },
    {
     "cell_type": "code",
     "collapsed": false,
     "input": [
      "dir_ex_t_datasheet_fname = 'results/Dyes - ATT0647N-ATTO550 abs X-section ratio at 532nm.txt'\n",
      "dir_ex_t_datasheet = np.loadtxt(dir_ex_t_datasheet_fname)\n",
      "\n",
      "print 'Direct excitation (dir_ex_t) from datasheet:', dir_ex_t_datasheet"
     ],
     "language": "python",
     "metadata": {},
     "outputs": [
      {
       "output_type": "stream",
       "stream": "stdout",
       "text": [
        "Direct excitation (dir_ex_t) from datasheet: 0.106516290727\n"
       ]
      }
     ],
     "prompt_number": 5
    },
    {
     "cell_type": "code",
     "collapsed": false,
     "input": [
      "gamma_coeff_fname = 'results/usALEX - gamma factor - all-ph.txt'\n",
      "gamma = np.loadtxt(gamma_coeff_fname)\n",
      "\n",
      "print 'Gamma factor:', gamma"
     ],
     "language": "python",
     "metadata": {},
     "outputs": [
      {
       "output_type": "stream",
       "stream": "stdout",
       "text": [
        "Gamma factor: 1.00298717222\n"
       ]
      }
     ],
     "prompt_number": 6
    },
    {
     "cell_type": "markdown",
     "metadata": {},
     "source": [
      "## Load E data from corrected FRET bursts"
     ]
    },
    {
     "cell_type": "markdown",
     "metadata": {},
     "source": [
      "And these are the **FRET efficiencies** fitted from corrected histograms for the same 5 samples: "
     ]
    },
    {
     "cell_type": "code",
     "collapsed": false,
     "input": [
      "data_file = 'results/usALEX-5samples-E-corrected-all-ph.txt'\n",
      "data_corr = pd.read_csv(data_file, sep=\"\\s+\").set_index('sample')\n",
      "data_corr[['E_gauss_w', 'E_kde_w']]"
     ],
     "language": "python",
     "metadata": {},
     "outputs": [
      {
       "html": [
        "<div style=\"max-height:1000px;max-width:1500px;overflow:auto;\">\n",
        "<table border=\"1\" class=\"dataframe\">\n",
        "  <thead>\n",
        "    <tr style=\"text-align: right;\">\n",
        "      <th></th>\n",
        "      <th>E_gauss_w</th>\n",
        "      <th>E_kde_w</th>\n",
        "    </tr>\n",
        "    <tr>\n",
        "      <th>sample</th>\n",
        "      <th></th>\n",
        "      <th></th>\n",
        "    </tr>\n",
        "  </thead>\n",
        "  <tbody>\n",
        "    <tr>\n",
        "      <th>7d</th>\n",
        "      <td> 0.925100</td>\n",
        "      <td> 0.9300</td>\n",
        "    </tr>\n",
        "    <tr>\n",
        "      <th>12d</th>\n",
        "      <td> 0.730815</td>\n",
        "      <td> 0.7424</td>\n",
        "    </tr>\n",
        "    <tr>\n",
        "      <th>17d</th>\n",
        "      <td> 0.425312</td>\n",
        "      <td> 0.4302</td>\n",
        "    </tr>\n",
        "    <tr>\n",
        "      <th>22d</th>\n",
        "      <td> 0.182157</td>\n",
        "      <td> 0.1784</td>\n",
        "    </tr>\n",
        "    <tr>\n",
        "      <th>27d</th>\n",
        "      <td> 0.083716</td>\n",
        "      <td> 0.0832</td>\n",
        "    </tr>\n",
        "  </tbody>\n",
        "</table>\n",
        "</div>"
       ],
       "metadata": {},
       "output_type": "pyout",
       "prompt_number": 7,
       "text": [
        "        E_gauss_w  E_kde_w\n",
        "sample                    \n",
        "7d       0.925100   0.9300\n",
        "12d      0.730815   0.7424\n",
        "17d      0.425312   0.4302\n",
        "22d      0.182157   0.1784\n",
        "27d      0.083716   0.0832"
       ]
      }
     ],
     "prompt_number": 7
    },
    {
     "cell_type": "markdown",
     "metadata": {},
     "source": [
      "### Proximity Ratio correction formula\n",
      "\n",
      "The expression to convert RAW PR values to corrected FRET efficiencies:\n",
      "\n",
      "$$ E = \\frac{E_{R} \\left(L_{k} + d_{exT} \\gamma + 1\\right) - L_{k} - d_{exT} \\gamma}{E_{R} \\left(L_{k} - \\gamma + 1\\right) - L_{k} + \\gamma}$$\n",
      "\n",
      "*See [Algebra_of_FRET_corrections](Algebra_of_FRET_corrections.ipynb) for the derivation*.\n",
      "\n",
      "We load [FRETBursts software](https://github.com/tritemio/FRETBursts/) that provides this function (as `fretmath.correct_E_gamma_leak_dir`):"
     ]
    },
    {
     "cell_type": "code",
     "collapsed": false,
     "input": [
      "%run load_fretbursts.py --nogui"
     ],
     "language": "python",
     "metadata": {},
     "outputs": [
      {
       "output_type": "stream",
       "stream": "stdout",
       "text": [
        " - Optimized (cython) burst search loaded.\n",
        " - Optimized (cython) photon counting loaded.\n",
        "\n",
        "FRETBursts revision:\n",
        " 2014-09-16 18ea161 Update usALEX notebook (for citation and open-file)\n"
       ]
      },
      {
       "output_type": "stream",
       "stream": "stdout",
       "text": [
        "\n",
        "-------------------------------------------------------------\n",
        " You are running FRETBursts, a software for smFRET analysis. \n",
        "\n",
        " If you use this software in a publication, please cite it as:\n",
        "\n",
        "   FRETBursts - An opensource single-molecule FRET burst analysis toolkit.\n",
        "   A. Ingargiola 2014. https://github.com/tritemio/FRETBursts.\n",
        "\n",
        "-------------------------------------------------------------\n"
       ]
      }
     ],
     "prompt_number": 8
    },
    {
     "cell_type": "markdown",
     "metadata": {},
     "source": [
      "## Comparison of datasheet-based *vs* \u03bcs-ALEX-based direct excitation\n",
      "\n",
      "Using [datasheet values](dyes/Absorption ATTO550-ATTO647N.ipynb) for $d_{exT}$ we the following FRET efficiencies:"
     ]
    },
    {
     "cell_type": "code",
     "collapsed": false,
     "input": [
      "E_datasheet = fretmath.correct_E_gamma_leak_dir(data_raw.E_kde_w, \n",
      "                                                leakage=leakage, \n",
      "                                                dir_ex_t=dir_ex_t_datasheet,\n",
      "                                                gamma=gamma)*100\n",
      "E_datasheet"
     ],
     "language": "python",
     "metadata": {},
     "outputs": [
      {
       "metadata": {},
       "output_type": "pyout",
       "prompt_number": 9,
       "text": [
        "sample\n",
        "7d        92.583008\n",
        "12d       71.681386\n",
        "17d       40.551242\n",
        "22d       13.476362\n",
        "27d        3.013066\n",
        "Name: E_kde_w, dtype: float64"
       ]
      }
     ],
     "prompt_number": 9
    },
    {
     "cell_type": "code",
     "collapsed": false,
     "input": [
      "out = data_corr[['E_kde_w']].copy()*100\n",
      "out.columns = ['E_alex']\n",
      "out['E_datasheet'] = E_datasheet\n",
      "out"
     ],
     "language": "python",
     "metadata": {},
     "outputs": [
      {
       "html": [
        "<div style=\"max-height:1000px;max-width:1500px;overflow:auto;\">\n",
        "<table border=\"1\" class=\"dataframe\">\n",
        "  <thead>\n",
        "    <tr style=\"text-align: right;\">\n",
        "      <th></th>\n",
        "      <th>E_alex</th>\n",
        "      <th>E_datasheet</th>\n",
        "    </tr>\n",
        "    <tr>\n",
        "      <th>sample</th>\n",
        "      <th></th>\n",
        "      <th></th>\n",
        "    </tr>\n",
        "  </thead>\n",
        "  <tbody>\n",
        "    <tr>\n",
        "      <th>7d</th>\n",
        "      <td> 93.00</td>\n",
        "      <td> 92.583008</td>\n",
        "    </tr>\n",
        "    <tr>\n",
        "      <th>12d</th>\n",
        "      <td> 74.24</td>\n",
        "      <td> 71.681386</td>\n",
        "    </tr>\n",
        "    <tr>\n",
        "      <th>17d</th>\n",
        "      <td> 43.02</td>\n",
        "      <td> 40.551242</td>\n",
        "    </tr>\n",
        "    <tr>\n",
        "      <th>22d</th>\n",
        "      <td> 17.84</td>\n",
        "      <td> 13.476362</td>\n",
        "    </tr>\n",
        "    <tr>\n",
        "      <th>27d</th>\n",
        "      <td>  8.32</td>\n",
        "      <td>  3.013066</td>\n",
        "    </tr>\n",
        "  </tbody>\n",
        "</table>\n",
        "</div>"
       ],
       "metadata": {},
       "output_type": "pyout",
       "prompt_number": 10,
       "text": [
        "        E_alex  E_datasheet\n",
        "sample                     \n",
        "7d       93.00    92.583008\n",
        "12d      74.24    71.681386\n",
        "17d      43.02    40.551242\n",
        "22d      17.84    13.476362\n",
        "27d       8.32     3.013066"
       ]
      }
     ],
     "prompt_number": 10
    },
    {
     "cell_type": "code",
     "collapsed": false,
     "input": [
      "out.plot(alpha=0.4, lw=3, style=dict(E_alex='-ob', E_datasheet='-sr'));"
     ],
     "language": "python",
     "metadata": {},
     "outputs": [
      {
       "metadata": {},
       "output_type": "display_data",
       "png": "[encoded data removed]",
       "text": [
        "<matplotlib.figure.Figure at 0x163a5e80>"
       ]
      }
     ],
     "prompt_number": 11
    },
    {
     "cell_type": "markdown",
     "metadata": {},
     "source": [
      "> **NOTE:** The corrected FRET efficiencies using the datasheet and \n",
      "> \u03bcs-ALEX-based direct excitation do not match well."
     ]
    },
    {
     "cell_type": "markdown",
     "metadata": {},
     "source": [
      "## Fitting of physical direct excitation coefficient $d_{exT}$"
     ]
    },
    {
     "cell_type": "code",
     "collapsed": false,
     "input": [
      "import lmfit"
     ],
     "language": "python",
     "metadata": {},
     "outputs": [],
     "prompt_number": 12
    },
    {
     "cell_type": "code",
     "collapsed": false,
     "input": [
      "def residuals_absolute(params, E_raw, E_ref):\n",
      "    dir_ex_t = params['dir_ex_t'].value\n",
      "    return E_ref - fretmath.correct_E_gamma_leak_dir(E_raw, \n",
      "                                                     leakage=leakage, \n",
      "                                                     gamma=gamma, \n",
      "                                                     dir_ex_t=dir_ex_t)"
     ],
     "language": "python",
     "metadata": {},
     "outputs": [],
     "prompt_number": 13
    },
    {
     "cell_type": "code",
     "collapsed": false,
     "input": [
      "def residuals_relative(params, E_raw, E_ref):\n",
      "    dir_ex_t = params['dir_ex_t'].value\n",
      "    return (E_ref - fretmath.correct_E_gamma_leak_dir(E_raw, \n",
      "                                                      leakage=leakage, \n",
      "                                                      gamma=gamma, \n",
      "                                                      dir_ex_t=dir_ex_t))/E_ref"
     ],
     "language": "python",
     "metadata": {},
     "outputs": [],
     "prompt_number": 14
    },
    {
     "cell_type": "code",
     "collapsed": false,
     "input": [
      "params = lmfit.Parameters()\n",
      "params.add('dir_ex_t', value=0.05) "
     ],
     "language": "python",
     "metadata": {},
     "outputs": [],
     "prompt_number": 15
    },
    {
     "cell_type": "code",
     "collapsed": false,
     "input": [
      "m = lmfit.minimize(residuals_absolute, params, args=(data_raw.E_kde_w, data_corr.E_kde_w))\n",
      "lmfit.report_fit(m.params, show_correl=False)"
     ],
     "language": "python",
     "metadata": {},
     "outputs": [
      {
       "output_type": "stream",
       "stream": "stdout",
       "text": [
        "[[Variables]]\n",
        "    dir_ex_t:   0.04857134 +/- 0.004875 (10.04%) (init= 0.05)\n"
       ]
      }
     ],
     "prompt_number": 16
    },
    {
     "cell_type": "code",
     "collapsed": false,
     "input": [
      "m = lmfit.minimize(residuals_relative, params, args=(data_raw.E_kde_w, data_corr.E_kde_w))\n",
      "lmfit.report_fit(m.params, show_correl=False)"
     ],
     "language": "python",
     "metadata": {},
     "outputs": [
      {
       "output_type": "stream",
       "stream": "stdout",
       "text": [
        "[[Variables]]\n",
        "    dir_ex_t:   0.04679764 +/- 0.001275 (2.73%) (init= 0.04857135)\n"
       ]
      }
     ],
     "prompt_number": 17
    },
    {
     "cell_type": "markdown",
     "metadata": {},
     "source": [
      "> **NOTE:** The fitted `dir_ex_t` is 4.5% as opposed to 10.6% as expected from the [absorption spectra of ATTO550 and ATTO647](dyes/Absorption ATTO550-ATTO647N.ipynb) at 532nm."
     ]
    },
    {
     "cell_type": "code",
     "collapsed": false,
     "input": [
      "m.params['dir_ex_t'].value"
     ],
     "language": "python",
     "metadata": {},
     "outputs": [
      {
       "metadata": {},
       "output_type": "pyout",
       "prompt_number": 18,
       "text": [
        "0.046797640004020633"
       ]
      }
     ],
     "prompt_number": 18
    },
    {
     "cell_type": "code",
     "collapsed": false,
     "input": [
      "with open('results/usALEX - direct excitation coefficient dir_ex_t.txt', 'w') as f:\n",
      "    f.write(str(m.params['dir_ex_t'].value))"
     ],
     "language": "python",
     "metadata": {},
     "outputs": [],
     "prompt_number": 19
    },
    {
     "cell_type": "markdown",
     "metadata": {},
     "source": [
      "## Use `dir_ex_t` ($d_{exT}$) to obtain corrected $E$"
     ]
    },
    {
     "cell_type": "code",
     "collapsed": false,
     "input": [
      "data_raw"
     ],
     "language": "python",
     "metadata": {},
     "outputs": [
      {
       "html": [
        "<div style=\"max-height:1000px;max-width:1500px;overflow:auto;\">\n",
        "<table border=\"1\" class=\"dataframe\">\n",
        "  <thead>\n",
        "    <tr style=\"text-align: right;\">\n",
        "      <th></th>\n",
        "      <th>n_bursts_all</th>\n",
        "      <th>n_bursts_do</th>\n",
        "      <th>n_bursts_fret</th>\n",
        "      <th>E_kde_w</th>\n",
        "      <th>E_gauss_w</th>\n",
        "      <th>E_gauss_w_sig</th>\n",
        "      <th>E_gauss_w_err</th>\n",
        "      <th>S_kde</th>\n",
        "      <th>S_gauss</th>\n",
        "      <th>S_gauss_sig</th>\n",
        "      <th>S_gauss_err</th>\n",
        "      <th>E_pr_do_kde</th>\n",
        "      <th>nt_mean</th>\n",
        "    </tr>\n",
        "    <tr>\n",
        "      <th>sample</th>\n",
        "      <th></th>\n",
        "      <th></th>\n",
        "      <th></th>\n",
        "      <th></th>\n",
        "      <th></th>\n",
        "      <th></th>\n",
        "      <th></th>\n",
        "      <th></th>\n",
        "      <th></th>\n",
        "      <th></th>\n",
        "      <th></th>\n",
        "      <th></th>\n",
        "      <th></th>\n",
        "    </tr>\n",
        "  </thead>\n",
        "  <tbody>\n",
        "    <tr>\n",
        "      <th>7d</th>\n",
        "      <td> 1653</td>\n",
        "      <td> 955</td>\n",
        "      <td>  641</td>\n",
        "      <td> 0.9336</td>\n",
        "      <td> 0.927281</td>\n",
        "      <td> 0.054494</td>\n",
        "      <td> 0.002152</td>\n",
        "      <td> 0.5812</td>\n",
        "      <td> 0.579253</td>\n",
        "      <td> 0.093738</td>\n",
        "      <td> 0.003702</td>\n",
        "      <td> 0.0982</td>\n",
        "      <td> 23.005879</td>\n",
        "    </tr>\n",
        "    <tr>\n",
        "      <th>12d</th>\n",
        "      <td> 1690</td>\n",
        "      <td> 486</td>\n",
        "      <td> 1155</td>\n",
        "      <td> 0.7510</td>\n",
        "      <td> 0.748524</td>\n",
        "      <td> 0.084144</td>\n",
        "      <td> 0.002476</td>\n",
        "      <td> 0.5994</td>\n",
        "      <td> 0.590904</td>\n",
        "      <td> 0.099542</td>\n",
        "      <td> 0.002929</td>\n",
        "      <td> 0.1026</td>\n",
        "      <td> 23.376184</td>\n",
        "    </tr>\n",
        "    <tr>\n",
        "      <th>17d</th>\n",
        "      <td> 3451</td>\n",
        "      <td> 764</td>\n",
        "      <td> 2584</td>\n",
        "      <td> 0.4908</td>\n",
        "      <td> 0.480718</td>\n",
        "      <td> 0.101802</td>\n",
        "      <td> 0.002003</td>\n",
        "      <td> 0.5904</td>\n",
        "      <td> 0.584025</td>\n",
        "      <td> 0.103123</td>\n",
        "      <td> 0.002029</td>\n",
        "      <td> 0.1056</td>\n",
        "      <td> 23.046017</td>\n",
        "    </tr>\n",
        "    <tr>\n",
        "      <th>22d</th>\n",
        "      <td> 2801</td>\n",
        "      <td> 501</td>\n",
        "      <td> 2184</td>\n",
        "      <td> 0.2752</td>\n",
        "      <td> 0.280169</td>\n",
        "      <td> 0.067912</td>\n",
        "      <td> 0.001453</td>\n",
        "      <td> 0.5854</td>\n",
        "      <td> 0.588751</td>\n",
        "      <td> 0.103533</td>\n",
        "      <td> 0.002215</td>\n",
        "      <td> 0.0938</td>\n",
        "      <td> 26.572519</td>\n",
        "    </tr>\n",
        "    <tr>\n",
        "      <th>27d</th>\n",
        "      <td> 1145</td>\n",
        "      <td> 314</td>\n",
        "      <td>  793</td>\n",
        "      <td> 0.1944</td>\n",
        "      <td> 0.194758</td>\n",
        "      <td> 0.057257</td>\n",
        "      <td> 0.002033</td>\n",
        "      <td> 0.5754</td>\n",
        "      <td> 0.609175</td>\n",
        "      <td> 0.105065</td>\n",
        "      <td> 0.003731</td>\n",
        "      <td> 0.0882</td>\n",
        "      <td> 19.855254</td>\n",
        "    </tr>\n",
        "  </tbody>\n",
        "</table>\n",
        "</div>"
       ],
       "metadata": {},
       "output_type": "pyout",
       "prompt_number": 20,
       "text": [
        "        n_bursts_all  n_bursts_do  n_bursts_fret  E_kde_w  E_gauss_w  \\\n",
        "sample                                                                 \n",
        "7d              1653          955            641   0.9336   0.927281   \n",
        "12d             1690          486           1155   0.7510   0.748524   \n",
        "17d             3451          764           2584   0.4908   0.480718   \n",
        "22d             2801          501           2184   0.2752   0.280169   \n",
        "27d             1145          314            793   0.1944   0.194758   \n",
        "\n",
        "        E_gauss_w_sig  E_gauss_w_err   S_kde   S_gauss  S_gauss_sig  \\\n",
        "sample                                                                \n",
        "7d           0.054494       0.002152  0.5812  0.579253     0.093738   \n",
        "12d          0.084144       0.002476  0.5994  0.590904     0.099542   \n",
        "17d          0.101802       0.002003  0.5904  0.584025     0.103123   \n",
        "22d          0.067912       0.001453  0.5854  0.588751     0.103533   \n",
        "27d          0.057257       0.002033  0.5754  0.609175     0.105065   \n",
        "\n",
        "        S_gauss_err  E_pr_do_kde    nt_mean  \n",
        "sample                                       \n",
        "7d         0.003702       0.0982  23.005879  \n",
        "12d        0.002929       0.1026  23.376184  \n",
        "17d        0.002029       0.1056  23.046017  \n",
        "22d        0.002215       0.0938  26.572519  \n",
        "27d        0.003731       0.0882  19.855254  "
       ]
      }
     ],
     "prompt_number": 20
    },
    {
     "cell_type": "code",
     "collapsed": false,
     "input": [
      "E_corr_pr = fretmath.correct_E_gamma_leak_dir(data_raw.E_kde_w, \n",
      "                                              leakage=leakage, \n",
      "                                              dir_ex_t=m.values['dir_ex_t'],\n",
      "                                              gamma=gamma)*100\n",
      "E_corr_pr"
     ],
     "language": "python",
     "metadata": {},
     "outputs": [
      {
       "metadata": {},
       "output_type": "pyout",
       "prompt_number": 21,
       "text": [
        "sample\n",
        "7d        92.983303\n",
        "12d       73.209741\n",
        "17d       43.759690\n",
        "22d       18.146040\n",
        "27d        8.247448\n",
        "Name: E_kde_w, dtype: float64"
       ]
      }
     ],
     "prompt_number": 21
    },
    {
     "cell_type": "code",
     "collapsed": false,
     "input": [
      "out['E_corr_pr'] = E_corr_pr\n",
      "out"
     ],
     "language": "python",
     "metadata": {},
     "outputs": [
      {
       "html": [
        "<div style=\"max-height:1000px;max-width:1500px;overflow:auto;\">\n",
        "<table border=\"1\" class=\"dataframe\">\n",
        "  <thead>\n",
        "    <tr style=\"text-align: right;\">\n",
        "      <th></th>\n",
        "      <th>E_alex</th>\n",
        "      <th>E_datasheet</th>\n",
        "      <th>E_corr_pr</th>\n",
        "    </tr>\n",
        "    <tr>\n",
        "      <th>sample</th>\n",
        "      <th></th>\n",
        "      <th></th>\n",
        "      <th></th>\n",
        "    </tr>\n",
        "  </thead>\n",
        "  <tbody>\n",
        "    <tr>\n",
        "      <th>7d</th>\n",
        "      <td> 93.00</td>\n",
        "      <td> 92.583008</td>\n",
        "      <td> 92.983303</td>\n",
        "    </tr>\n",
        "    <tr>\n",
        "      <th>12d</th>\n",
        "      <td> 74.24</td>\n",
        "      <td> 71.681386</td>\n",
        "      <td> 73.209741</td>\n",
        "    </tr>\n",
        "    <tr>\n",
        "      <th>17d</th>\n",
        "      <td> 43.02</td>\n",
        "      <td> 40.551242</td>\n",
        "      <td> 43.759690</td>\n",
        "    </tr>\n",
        "    <tr>\n",
        "      <th>22d</th>\n",
        "      <td> 17.84</td>\n",
        "      <td> 13.476362</td>\n",
        "      <td> 18.146040</td>\n",
        "    </tr>\n",
        "    <tr>\n",
        "      <th>27d</th>\n",
        "      <td>  8.32</td>\n",
        "      <td>  3.013066</td>\n",
        "      <td>  8.247448</td>\n",
        "    </tr>\n",
        "  </tbody>\n",
        "</table>\n",
        "</div>"
       ],
       "metadata": {},
       "output_type": "pyout",
       "prompt_number": 22,
       "text": [
        "        E_alex  E_datasheet  E_corr_pr\n",
        "sample                                \n",
        "7d       93.00    92.583008  92.983303\n",
        "12d      74.24    71.681386  73.209741\n",
        "17d      43.02    40.551242  43.759690\n",
        "22d      17.84    13.476362  18.146040\n",
        "27d       8.32     3.013066   8.247448"
       ]
      }
     ],
     "prompt_number": 22
    },
    {
     "cell_type": "code",
     "collapsed": false,
     "input": [
      "plot(out['E_alex'])\n",
      "plot(out['E_corr_pr'])\n",
      "(out['E_alex'] - out['E_corr_pr']).abs().max()"
     ],
     "language": "python",
     "metadata": {},
     "outputs": [
      {
       "metadata": {},
       "output_type": "pyout",
       "prompt_number": 23,
       "text": [
        "1.0302589191406639"
       ]
      },
      {
       "metadata": {},
       "output_type": "display_data",
       "png": "[encoded data removed]",
       "text": [
        "<matplotlib.figure.Figure at 0x164e7160>"
       ]
      }
     ],
     "prompt_number": 23
    },
    {
     "cell_type": "code",
     "collapsed": false,
     "input": [
      "(out['E_alex'] - out['E_corr_pr'])"
     ],
     "language": "python",
     "metadata": {},
     "outputs": [
      {
       "metadata": {},
       "output_type": "pyout",
       "prompt_number": 24,
       "text": [
        "sample\n",
        "7d        0.016697\n",
        "12d       1.030259\n",
        "17d      -0.739690\n",
        "22d      -0.306040\n",
        "27d       0.072552\n",
        "dtype: float64"
       ]
      }
     ],
     "prompt_number": 24
    },
    {
     "cell_type": "markdown",
     "metadata": {},
     "source": [
      "> **NOTE:** Fitting $d_{exT}$ to match $E$ from corrected hsitograms with $E$ from PR correction formula produces a max difference of 1% for the 12d sample. The match is well below the fitting accuracy (> 2%)."
     ]
    },
    {
     "cell_type": "code",
     "collapsed": false,
     "input": [],
     "language": "python",
     "metadata": {},
     "outputs": [],
     "prompt_number": 24
    }
   ],
   "metadata": {}
  }
 ]
}