{
 "metadata": {
  "name": "",
  "signature": "sha256:0d714ea275e86beb94d16abfd74f94713fabf404a7df7887c8be48a5d00bf72e"
 },
 "nbformat": 3,
 "nbformat_minor": 0,
 "worksheets": [
  {
   "cells": [
    {
     "cell_type": "markdown",
     "metadata": {},
     "source": [
      "# usALEX - Corrections - Direct excitation physical parameter\n",
      "\n",
      "> *This notebook estimates direct excitation coefficient $d_{exT}$ from \u03bcs-ALEX data.*"
     ]
    },
    {
     "cell_type": "markdown",
     "metadata": {},
     "source": [
      "## Aim\n",
      "\n",
      "### What is already computed?\n",
      "\n",
      "We previously fitted the **leakage** and **gamma** coefficient from the RAW PR values for the 5 measurements. We also fitted the\n",
      "direct excitation coefficient expressed (`dir_ex_aa`) as a function of the A-signal during A-excitation (`naa`). In symbols, `dire_ex_aa` is defined as:\n",
      "\n",
      "$$ d_{exAA} = \\frac{n_{a}}{n_{aa}}$$\n",
      "\n",
      "for a A-only population.\n",
      "\n",
      "### What we want to compute?\n",
      "\n",
      "An alternative defition of the direct excitation coefficient (`dir_ex_t`, $d_{exT}$) relies only on physical properties but, differently from `dir_ex_aa`, it cannot be expressed as a function of \u03bcs-ALEX quatitites.\n",
      "\n",
      "The definition of $d_{exT}$ is:\n",
      "\n",
      "$$ d_{exT} = \\frac{\\sigma_{A532}}{\\sigma_{A532}}$$\n",
      "\n",
      "where $\\sigma_{A532}$ and $\\sigma_{D532}$ are the absorption cross-sections of the Acceptor and Donor dye at 532nm.\n",
      "\n",
      "Once dyes and excitation wavelength are fixed this coefficien is also fixed. Moreover, since $d_{exT}$ is independent from \u03bcs-ALEX quantities, it can also used to correct the non-ALEX multi-spot measurements.\n",
      "\n",
      "### How we compute it?\n",
      "\n",
      "Here, we correct the RAW PR values using the formula for leakage + direct excitation (`dir_ex_t`) + gamma correction. Since we already estimated leakage and gamma,  we fit `dir_ex_t` in order to match the corrected FRET efficiencies obtained from corrected FRET histograms. The fitted direct excitation (`dir_ex_t`) will be finally used to correct the multi-spot measurements."
     ]
    },
    {
     "cell_type": "markdown",
     "metadata": {},
     "source": [
      "## Library imports"
     ]
    },
    {
     "cell_type": "code",
     "collapsed": false,
     "input": [
      "from __future__ import division\n",
      "import os\n",
      "import numpy as np\n",
      "import pandas as pd\n",
      "import lmfit"
     ],
     "language": "python",
     "metadata": {},
     "outputs": [],
     "prompt_number": 1
    },
    {
     "cell_type": "markdown",
     "metadata": {},
     "source": [
      "## Load data RAW PR data"
     ]
    },
    {
     "cell_type": "code",
     "collapsed": false,
     "input": [
      "#bsearch_ph_sel = 'AND-gate'\n",
      "bsearch_ph_sel = 'Dex'\n",
      "\n",
      "data_file = 'results/usALEX-5samples-PR-raw-%s.txt' % bsearch_ph_sel"
     ],
     "language": "python",
     "metadata": {},
     "outputs": [],
     "prompt_number": 2
    },
    {
     "cell_type": "markdown",
     "metadata": {},
     "source": [
      "These are the **RAW proximity ratios** for the 5 samples (only background correction, no leakage nor direct excitation):"
     ]
    },
    {
     "cell_type": "code",
     "collapsed": false,
     "input": [
      "data_raw = pd.read_csv(data_file, sep=\"\\s+\").set_index('sample')\n",
      "data_raw[['E_pr_fret', 'E_pr_fret_kde']]"
     ],
     "language": "python",
     "metadata": {},
     "outputs": [
      {
       "html": [
        "<div style=\"max-height:1000px;max-width:1500px;overflow:auto;\">\n",
        "<table border=\"1\" class=\"dataframe\">\n",
        "  <thead>\n",
        "    <tr style=\"text-align: right;\">\n",
        "      <th></th>\n",
        "      <th>E_pr_fret</th>\n",
        "      <th>E_pr_fret_kde</th>\n",
        "    </tr>\n",
        "    <tr>\n",
        "      <th>sample</th>\n",
        "      <th></th>\n",
        "      <th></th>\n",
        "    </tr>\n",
        "  </thead>\n",
        "  <tbody>\n",
        "    <tr>\n",
        "      <th>7d</th>\n",
        "      <td> 0.927586</td>\n",
        "      <td> 0.9336</td>\n",
        "    </tr>\n",
        "    <tr>\n",
        "      <th>12d</th>\n",
        "      <td> 0.749365</td>\n",
        "      <td> 0.7510</td>\n",
        "    </tr>\n",
        "    <tr>\n",
        "      <th>17d</th>\n",
        "      <td> 0.480290</td>\n",
        "      <td> 0.4908</td>\n",
        "    </tr>\n",
        "    <tr>\n",
        "      <th>22d</th>\n",
        "      <td> 0.280477</td>\n",
        "      <td> 0.2752</td>\n",
        "    </tr>\n",
        "    <tr>\n",
        "      <th>27d</th>\n",
        "      <td> 0.194521</td>\n",
        "      <td> 0.1944</td>\n",
        "    </tr>\n",
        "  </tbody>\n",
        "</table>\n",
        "</div>"
       ],
       "metadata": {},
       "output_type": "pyout",
       "prompt_number": 3,
       "text": [
        "        E_pr_fret  E_pr_fret_kde\n",
        "sample                          \n",
        "7d       0.927586         0.9336\n",
        "12d      0.749365         0.7510\n",
        "17d      0.480290         0.4908\n",
        "22d      0.280477         0.2752\n",
        "27d      0.194521         0.1944"
       ]
      }
     ],
     "prompt_number": 3
    },
    {
     "cell_type": "markdown",
     "metadata": {},
     "source": [
      "## Load \u03bcs-ALEX corrections"
     ]
    },
    {
     "cell_type": "code",
     "collapsed": false,
     "input": [
      "leakage_coeff_fname = 'results/usALEX - leakage coefficient DexDem.txt'\n",
      "leakage = np.loadtxt(leakage_coeff_fname)\n",
      "\n",
      "print 'Leakage coefficient:', leakage"
     ],
     "language": "python",
     "metadata": {},
     "outputs": [
      {
       "output_type": "stream",
       "stream": "stdout",
       "text": [
        "Leakage coefficient: 0.0999978359136\n"
       ]
      }
     ],
     "prompt_number": 4
    },
    {
     "cell_type": "code",
     "collapsed": false,
     "input": [
      "dir_ex_t_datasheet_fname = 'results/Dyes - ATT0647N-ATTO550 abs X-section ratio at 532nm.txt'\n",
      "dir_ex_t_datasheet = np.loadtxt(dir_ex_t_datasheet_fname)\n",
      "\n",
      "print 'Direct excitation (dir_ex_t) from datasheet:', dir_ex_t_datasheet"
     ],
     "language": "python",
     "metadata": {},
     "outputs": [
      {
       "output_type": "stream",
       "stream": "stdout",
       "text": [
        "Direct excitation (dir_ex_t) from datasheet: 0.106516290727\n"
       ]
      }
     ],
     "prompt_number": 5
    },
    {
     "cell_type": "code",
     "collapsed": false,
     "input": [
      "gamma_coeff_fname = 'results/usALEX - gamma factor - all-ph.txt'\n",
      "gamma = np.loadtxt(gamma_coeff_fname)\n",
      "\n",
      "print 'Gamma factor:', gamma"
     ],
     "language": "python",
     "metadata": {},
     "outputs": [
      {
       "output_type": "stream",
       "stream": "stdout",
       "text": [
        "Gamma factor: 1.02500832027\n"
       ]
      }
     ],
     "prompt_number": 6
    },
    {
     "cell_type": "markdown",
     "metadata": {},
     "source": [
      "## Load E data from corrected FRET bursts"
     ]
    },
    {
     "cell_type": "markdown",
     "metadata": {},
     "source": [
      "And these are the **FRET efficiencies** fitted from corrected histograms for the same 5 samples: "
     ]
    },
    {
     "cell_type": "code",
     "collapsed": false,
     "input": [
      "data_file = 'results/usALEX-5samples-E-corrected-all-ph.txt'\n",
      "data_corr = pd.read_csv(data_file, sep=\"\\s+\").set_index('sample')\n",
      "data_corr[['E_pr_fret', 'E_pr_fret_kde']]"
     ],
     "language": "python",
     "metadata": {},
     "outputs": [
      {
       "html": [
        "<div style=\"max-height:1000px;max-width:1500px;overflow:auto;\">\n",
        "<table border=\"1\" class=\"dataframe\">\n",
        "  <thead>\n",
        "    <tr style=\"text-align: right;\">\n",
        "      <th></th>\n",
        "      <th>E_pr_fret</th>\n",
        "      <th>E_pr_fret_kde</th>\n",
        "    </tr>\n",
        "    <tr>\n",
        "      <th>sample</th>\n",
        "      <th></th>\n",
        "      <th></th>\n",
        "    </tr>\n",
        "  </thead>\n",
        "  <tbody>\n",
        "    <tr>\n",
        "      <th>7d</th>\n",
        "      <td> 0.926023</td>\n",
        "      <td> 0.9300</td>\n",
        "    </tr>\n",
        "    <tr>\n",
        "      <th>12d</th>\n",
        "      <td> 0.730013</td>\n",
        "      <td> 0.7416</td>\n",
        "    </tr>\n",
        "    <tr>\n",
        "      <th>17d</th>\n",
        "      <td> 0.430222</td>\n",
        "      <td> 0.4370</td>\n",
        "    </tr>\n",
        "    <tr>\n",
        "      <th>22d</th>\n",
        "      <td> 0.191358</td>\n",
        "      <td> 0.1874</td>\n",
        "    </tr>\n",
        "    <tr>\n",
        "      <th>27d</th>\n",
        "      <td> 0.093747</td>\n",
        "      <td> 0.0972</td>\n",
        "    </tr>\n",
        "  </tbody>\n",
        "</table>\n",
        "</div>"
       ],
       "metadata": {},
       "output_type": "pyout",
       "prompt_number": 7,
       "text": [
        "        E_pr_fret  E_pr_fret_kde\n",
        "sample                          \n",
        "7d       0.926023         0.9300\n",
        "12d      0.730013         0.7416\n",
        "17d      0.430222         0.4370\n",
        "22d      0.191358         0.1874\n",
        "27d      0.093747         0.0972"
       ]
      }
     ],
     "prompt_number": 7
    },
    {
     "cell_type": "markdown",
     "metadata": {},
     "source": [
      "### Proximity Ratio correction formula\n",
      "\n",
      "The expression to convert RAW PR values to corrected FRET efficiencies:\n",
      "\n",
      "$$ E = \\frac{E_{R} \\left(L_{k} + d_{exT} \\gamma + 1\\right) - L_{k} - d_{exT} \\gamma}{E_{R} \\left(L_{k} - \\gamma + 1\\right) - L_{k} + \\gamma}$$\n",
      "\n",
      "*See [Algebra_of_FRET_corrections](Algebra_of_FRET_corrections.ipynb) for the derivation*.\n",
      "\n",
      "We load [FRETBursts software](https://github.com/tritemio/FRETBursts/) that provides this function (as `fretmath.correct_E_gamma_leak_dir`):"
     ]
    },
    {
     "cell_type": "code",
     "collapsed": false,
     "input": [
      "%run load_fretbursts.py --nogui"
     ],
     "language": "python",
     "metadata": {},
     "outputs": [
      {
       "output_type": "stream",
       "stream": "stdout",
       "text": [
        " - Optimized (cython) burst search loaded.\n",
        " - Optimized (cython) photon counting loaded.\n",
        "\n",
        "FRETBursts revision:\n",
        " 2014-08-16 68e0ade Better KDE normalization in hist_fret_kde() plot\n"
       ]
      },
      {
       "output_type": "stream",
       "stream": "stdout",
       "text": [
        "\n"
       ]
      }
     ],
     "prompt_number": 8
    },
    {
     "cell_type": "markdown",
     "metadata": {},
     "source": [
      "## Comparison of datasheet-based *vs* \u03bcs-ALEX-based direct excitation\n",
      "\n",
      "Using [datasheet values](dyes/Absorption ATTO550-ATTO647N.ipynb) for $d_{exT}$ we the following FRET efficiencies:"
     ]
    },
    {
     "cell_type": "code",
     "collapsed": false,
     "input": [
      "E_datasheet = fretmath.correct_E_gamma_leak_dir(data_raw.E_pr_fret_kde, \n",
      "                                                leakage=leakage, \n",
      "                                                dir_ex_t=dir_ex_t_datasheet,\n",
      "                                                gamma=gamma)*100\n",
      "E_datasheet"
     ],
     "language": "python",
     "metadata": {},
     "outputs": [
      {
       "metadata": {},
       "output_type": "pyout",
       "prompt_number": 9,
       "text": [
        "array([ 92.43130215,  71.22134243,  39.95430179,  13.06912254,   2.75506448])"
       ]
      }
     ],
     "prompt_number": 9
    },
    {
     "cell_type": "code",
     "collapsed": false,
     "input": [
      "out = data_corr[['E_pr_fret_kde']].copy()*100\n",
      "out.columns = ['E_alex']\n",
      "out['E_datasheet'] = E_datasheet\n",
      "out"
     ],
     "language": "python",
     "metadata": {},
     "outputs": [
      {
       "html": [
        "<div style=\"max-height:1000px;max-width:1500px;overflow:auto;\">\n",
        "<table border=\"1\" class=\"dataframe\">\n",
        "  <thead>\n",
        "    <tr style=\"text-align: right;\">\n",
        "      <th></th>\n",
        "      <th>E_alex</th>\n",
        "      <th>E_datasheet</th>\n",
        "    </tr>\n",
        "    <tr>\n",
        "      <th>sample</th>\n",
        "      <th></th>\n",
        "      <th></th>\n",
        "    </tr>\n",
        "  </thead>\n",
        "  <tbody>\n",
        "    <tr>\n",
        "      <th>7d</th>\n",
        "      <td> 93.00</td>\n",
        "      <td> 92.431302</td>\n",
        "    </tr>\n",
        "    <tr>\n",
        "      <th>12d</th>\n",
        "      <td> 74.16</td>\n",
        "      <td> 71.221342</td>\n",
        "    </tr>\n",
        "    <tr>\n",
        "      <th>17d</th>\n",
        "      <td> 43.70</td>\n",
        "      <td> 39.954302</td>\n",
        "    </tr>\n",
        "    <tr>\n",
        "      <th>22d</th>\n",
        "      <td> 18.74</td>\n",
        "      <td> 13.069123</td>\n",
        "    </tr>\n",
        "    <tr>\n",
        "      <th>27d</th>\n",
        "      <td>  9.72</td>\n",
        "      <td>  2.755064</td>\n",
        "    </tr>\n",
        "  </tbody>\n",
        "</table>\n",
        "</div>"
       ],
       "metadata": {},
       "output_type": "pyout",
       "prompt_number": 10,
       "text": [
        "        E_alex  E_datasheet\n",
        "sample                     \n",
        "7d       93.00    92.431302\n",
        "12d      74.16    71.221342\n",
        "17d      43.70    39.954302\n",
        "22d      18.74    13.069123\n",
        "27d       9.72     2.755064"
       ]
      }
     ],
     "prompt_number": 10
    },
    {
     "cell_type": "code",
     "collapsed": false,
     "input": [
      "out.plot(alpha=0.4, lw=3, style=dict(E_alex='-ob', E_datasheet='-sr'));"
     ],
     "language": "python",
     "metadata": {},
     "outputs": [
      {
       "metadata": {},
       "output_type": "display_data",
       "png": "[encoded data removed]",
       "text": [
        "<matplotlib.figure.Figure at 0x1488f9e8>"
       ]
      }
     ],
     "prompt_number": 11
    },
    {
     "cell_type": "markdown",
     "metadata": {},
     "source": [
      "> **NOTE:** The corrected FRET efficiencies using the datasheet and \n",
      "> \u03bcs-ALEX-based direct excitation do not match well."
     ]
    },
    {
     "cell_type": "markdown",
     "metadata": {},
     "source": [
      "## Fitting of physical direct excitation coefficient $d_{exT}$"
     ]
    },
    {
     "cell_type": "code",
     "collapsed": false,
     "input": [
      "import lmfit"
     ],
     "language": "python",
     "metadata": {},
     "outputs": [],
     "prompt_number": 12
    },
    {
     "cell_type": "code",
     "collapsed": false,
     "input": [
      "def residuals_absolute(params, E_raw, E_ref):\n",
      "    dir_ex_t = params['dir_ex_t'].value\n",
      "    return E_ref - fretmath.correct_E_gamma_leak_dir(E_raw, \n",
      "                                                     leakage=leakage, \n",
      "                                                     gamma=gamma, \n",
      "                                                     dir_ex_t=dir_ex_t)"
     ],
     "language": "python",
     "metadata": {},
     "outputs": [],
     "prompt_number": 13
    },
    {
     "cell_type": "code",
     "collapsed": false,
     "input": [
      "def residuals_relative(params, E_raw, E_ref):\n",
      "    dir_ex_t = params['dir_ex_t'].value\n",
      "    return (E_ref - fretmath.correct_E_gamma_leak_dir(E_raw, \n",
      "                                                      leakage=leakage, \n",
      "                                                      gamma=gamma, \n",
      "                                                      dir_ex_t=dir_ex_t))/E_ref"
     ],
     "language": "python",
     "metadata": {},
     "outputs": [],
     "prompt_number": 14
    },
    {
     "cell_type": "code",
     "collapsed": false,
     "input": [
      "params = lmfit.Parameters()\n",
      "params.add('dir_ex_t', value=0.05) "
     ],
     "language": "python",
     "metadata": {},
     "outputs": [],
     "prompt_number": 15
    },
    {
     "cell_type": "code",
     "collapsed": false,
     "input": [
      "m = lmfit.minimize(residuals_absolute, params, args=(data_raw.E_pr_fret_kde, data_corr.E_pr_fret_kde))\n",
      "lmfit.report_fit(m.params, show_correl=False)"
     ],
     "language": "python",
     "metadata": {},
     "outputs": [
      {
       "output_type": "stream",
       "stream": "stdout",
       "text": [
        "[[Variables]]\n",
        "     dir_ex_t:     0.0301536 +/- 0.004201888 (13.93%) initial =  0.05\n"
       ]
      }
     ],
     "prompt_number": 16
    },
    {
     "cell_type": "code",
     "collapsed": false,
     "input": [
      "m = lmfit.minimize(residuals_relative, params, args=(data_raw.E_pr_fret_kde, data_corr.E_pr_fret_kde))\n",
      "lmfit.report_fit(m.params, show_correl=False)"
     ],
     "language": "python",
     "metadata": {},
     "outputs": [
      {
       "output_type": "stream",
       "stream": "stdout",
       "text": [
        "[[Variables]]\n",
        "     dir_ex_t:     0.02860964 +/- 0.001570824 (5.49%) initial =  0.0301536\n"
       ]
      }
     ],
     "prompt_number": 17
    },
    {
     "cell_type": "markdown",
     "metadata": {},
     "source": [
      "> **NOTE:** The fitted `dir_ex_t` is XX% as opposed to 10.6% as expected from the [absorption spectra of ATTO550 and ATTO647](dyes/Absorption ATTO550-ATTO647N.ipynb) at 532nm."
     ]
    },
    {
     "cell_type": "code",
     "collapsed": false,
     "input": [
      "m.params['dir_ex_t'].value"
     ],
     "language": "python",
     "metadata": {},
     "outputs": [
      {
       "metadata": {},
       "output_type": "pyout",
       "prompt_number": 21,
       "text": [
        "0.028609637544006607"
       ]
      }
     ],
     "prompt_number": 21
    },
    {
     "cell_type": "code",
     "collapsed": false,
     "input": [
      "with open('results/usALEX - leakage coefficient dir_ex_t.txt', 'w') as f:\n",
      "    f.write(str(m.params['dir_ex_t'].value))"
     ],
     "language": "python",
     "metadata": {},
     "outputs": [],
     "prompt_number": 20
    },
    {
     "cell_type": "code",
     "collapsed": false,
     "input": [],
     "language": "python",
     "metadata": {},
     "outputs": [],
     "prompt_number": 20
    }
   ],
   "metadata": {}
  }
 ]
}