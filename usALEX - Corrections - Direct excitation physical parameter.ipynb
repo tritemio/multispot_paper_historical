{
 "cells": [
  {
   "cell_type": "markdown",
   "metadata": {},
   "source": [
    "# usALEX - Corrections - Direct excitation physical parameter\n",
    "\n",
    "> *This notebook estimates direct excitation coefficient $d_{dirT}$ from μs-ALEX data.*"
   ]
  },
  {
   "cell_type": "markdown",
   "metadata": {},
   "source": [
    "# Definitions Memo\n",
    "\n",
    "$$n_d = I_{D_{ex}} \\, \\sigma_{D_{ex}}^D \\,\n",
    "\\phi_D \\, \\eta_{D_{det}}^{D_{em}} \\, (1-E)$$\n",
    "\n",
    "$$n_a = I_{D_{ex}} \\, \\sigma_{D_{ex}}^D \\,\n",
    "\\phi_A \\, \\eta_{A_{det}}^{A_{em}} \\, E$$\n",
    "\n",
    "$$ n_{aa} = I_{A_{ex}} \\, \\sigma_{A_{ex}}^A \\,\n",
    "\\phi_A \\, \\eta_{A_{det}}^{A_{em}}$$\n",
    "\n",
    "$$n_a^* = n_a + Lk + Dir$$\n",
    "\n",
    "where\n",
    "\n",
    "$$Lk = I_{D_{ex}} \\, \\sigma_{D_{ex}}^D \\,\n",
    "\\phi_D \\, \\eta_{A_{det}}^{D_{em}} \\, (1-E)$$\n",
    "\n",
    "$$Dir = I_{D_{ex}} \\, \\sigma_{D_{ex}}^A \\,\n",
    "\\phi_A \\, \\eta_{A_{det}}^{A_{em}}$$\n",
    "\n",
    "$$\\gamma = \\frac{\\phi_A\\,\\eta_{D_{det}}^{A_{em}}}{\\phi_D\\,\\eta_{D_{det}}^{D_{em}}}$$"
   ]
  },
  {
   "cell_type": "markdown",
   "metadata": {},
   "source": [
    "# Aim of this notebook\n",
    "\n",
    "## What is already computed?\n",
    "\n",
    "We previously fitted the **leakage** and **gamma** coefficient from the RAW PR values \n",
    "for the 5 dsDNA measurements. We also fitted the\n",
    "direct excitation coefficient expressed (`dir_ex_aa`) as a function of the \n",
    "A-signal during A-excitation (`naa`). In symbols, `dir_ex_aa` is defined as:\n",
    "\n",
    "$$ d_{dirAA} = \\frac{n_{a}}{n_{aa}}$$\n",
    "\n",
    "for a A-only population.\n",
    "\n",
    "## What we want to compute?\n",
    "\n",
    "Alternatively, we can express the direct excitation contribution ($Dir$)\n",
    "as a function of the total corrected burst size:\n",
    "\n",
    "$$ Dir = d_{dirT}\\, (n_a + \\gamma n_d)$$\n",
    "\n",
    "With this definition, expressing $d_{dirT}$ as a function \n",
    "of the physical parameters we obtain:\n",
    "\n",
    "$$d_{dirT} = \\frac{\\sigma_{D_{ex}}^A}{\\sigma_{D_{ex}}^D} $$\n",
    "\n",
    "where $\\sigma_{Dex}^A$ and $\\sigma_{Dex}^D$ are the absorption cross-sections \n",
    "of the Acceptor and Donor dye at wavelength of Donor laser.\n",
    "\n",
    "Finally, remembering the definition of $\\beta$:\n",
    "\n",
    "$$ \\beta = \\frac{I_{A_{ex}}\\sigma_{A_{ex}}^A}{I_{D_{ex}}\\sigma_{D_{ex}}^D}$$\n",
    "\n",
    "we can express $d_{dirT}$ as the product of $\\beta$ and $d_{dirAA}$:\n",
    "\n",
    "$$ d_{dirT} = \\beta \\, d_{dirAA}$$\n",
    "\n",
    "Note that $d_{dirT}$ is a property of the Donor-Acceptor dyes pair and of the\n",
    "Donor excitation wavelength. As such, differently from $d_{dirAA}$, the \n",
    "$d_{dirT}$ coefficient is valid for the same sample in any setup using the same\n",
    "donor excitation wavelength, such as the single-spot μs-ALEX and the multi-spot\n",
    "system. Additionally, $d_{dirT}$ allows to correct for direct acceptor\n",
    "excitation using only donor-excitation quantities. Therefore the same\n",
    "correction formula can be used both in two-laser (e.g. single-spot μs-ALEX) \n",
    "and single-laser systems (e.g. 8-spot system).\n",
    "\n",
    "## How we compute it?\n",
    "\n",
    "We use two different procedures both yielding\n",
    "an estimation of $d_{dirT}$. Except for the numerical\n",
    "accuracy the two procedures are equivalent.\n",
    "\n",
    "### Procedure 1: Using beta\n",
    "\n",
    "From the previous relation between $d_{dirT} = \\beta \\,d_{dirAA}$ is possible to\n",
    "directly estimate $d_{dirT}$ with the values of $\\beta$ and $d_{dirAA}$\n",
    "we already fitted in previous notebooks.\n",
    "\n",
    "### Procedure 2: Correction formula\n",
    "\n",
    "It is possible to go from the raw $E_R$ (only background correction, \n",
    "no leakage, direct excitation nor gamma) to the fully-corrected $E$\n",
    "using the formula:\n",
    "\n",
    "$$ E = f(E_R,\\, \\gamma,\\, L_k,\\, d_{dirT}) = \n",
    "\\frac{E_{R} \\left(L_{k} + d_{dirT} \\gamma + 1\\right) - L_{k} - d_{dirT} \\gamma}\n",
    "{E_{R} \\left(L_{k} - \\gamma + 1\\right) - L_{k} + \\gamma}$$\n",
    "\n",
    "* See [Derivation of FRET and S correction formulas](http://nbviewer.jupyter.org/github/tritemio/notebooks/blob/master/Derivation%20of%20FRET%20and%20S%20correction%20formulas.ipynb) for derivation.\n",
    "\n",
    "We can compute the corrected $E$ for the 5 dsDNA samples by fitting\n",
    "the fully-corrected histograms (histograms with γ, leakage and \n",
    "direct excitation corrections). We can also fit the 5 $E_R$ values \n",
    "for the same samples from the proximity ratio histograms \n",
    "(only background correction).\n",
    "\n",
    "Therefore, using the previous formula we can fit $d_{dirT}$ (`dir_ex_t`)\n",
    "by minimizing the error between the 5 $E$ values fitted from\n",
    "corrected histograms and the 5 $E$ values obtained correcting\n",
    "the 5 $E_R$ values from the fit of the proximity ratio histograms."
   ]
  },
  {
   "cell_type": "markdown",
   "metadata": {},
   "source": [
    "# Loading data\n",
    "\n",
    "We load the needed libraries and FRETBursts which includes the FRET\n",
    "correction formulas ($E = f(E_R,\\, \\gamma,\\, L_k,\\, d_{dirT})$)."
   ]
  },
  {
   "cell_type": "code",
   "execution_count": null,
   "metadata": {
    "collapsed": false
   },
   "outputs": [],
   "source": [
    "from __future__ import division\n",
    "import os\n",
    "import numpy as np\n",
    "import pandas as pd\n",
    "import lmfit\n",
    "from fretbursts import *\n",
    "import matplotlib.pyplot as plt\n",
    "import seaborn as sns\n",
    "%matplotlib inline\n",
    "%config InlineBackend.figure_format='retina'  # for hi-dpi displays\n",
    "sns.set_style('whitegrid')"
   ]
  },
  {
   "cell_type": "markdown",
   "metadata": {},
   "source": [
    "## Load Raw PR"
   ]
  },
  {
   "cell_type": "code",
   "execution_count": null,
   "metadata": {
    "collapsed": false
   },
   "outputs": [],
   "source": [
    "#bsearch_ph_sel = 'AND-gate'\n",
    "bsearch_ph_sel = 'Dex'\n",
    "\n",
    "data_file = 'results/usALEX-5samples-PR-raw-%s.csv' % bsearch_ph_sel"
   ]
  },
  {
   "cell_type": "markdown",
   "metadata": {},
   "source": [
    "These are the **RAW proximity ratios** for the 5 samples (only background correction, no leakage nor direct excitation):"
   ]
  },
  {
   "cell_type": "code",
   "execution_count": null,
   "metadata": {
    "collapsed": false
   },
   "outputs": [],
   "source": [
    "data_raw = pd.read_csv(data_file).set_index('sample')\n",
    "data_raw[['E_gauss_w', 'E_kde_w']]"
   ]
  },
  {
   "cell_type": "markdown",
   "metadata": {},
   "source": [
    "## Load Corrected E"
   ]
  },
  {
   "cell_type": "markdown",
   "metadata": {},
   "source": [
    "And these are the **FRET efficiencies** fitted from corrected histograms for the same 5 samples: "
   ]
  },
  {
   "cell_type": "code",
   "execution_count": null,
   "metadata": {
    "collapsed": false
   },
   "outputs": [],
   "source": [
    "data_file = 'results/usALEX-5samples-E-corrected-all-ph.csv'\n",
    "data_corr = pd.read_csv(data_file).set_index('sample')\n",
    "data_corr[['E_gauss_w', 'E_kde_w']]"
   ]
  },
  {
   "cell_type": "markdown",
   "metadata": {},
   "source": [
    "## Load SNA Data"
   ]
  },
  {
   "cell_type": "code",
   "execution_count": null,
   "metadata": {
    "collapsed": true
   },
   "outputs": [],
   "source": [
    "data_file_sna = 'results/usALEX-5samples-E-SNA.csv'"
   ]
  },
  {
   "cell_type": "code",
   "execution_count": null,
   "metadata": {
    "collapsed": false
   },
   "outputs": [],
   "source": [
    "sna = pd.read_csv(data_file_sna, index_col=0)\n",
    "sna"
   ]
  },
  {
   "cell_type": "markdown",
   "metadata": {},
   "source": [
    "## Load μs-ALEX corrections"
   ]
  },
  {
   "cell_type": "code",
   "execution_count": null,
   "metadata": {
    "collapsed": false
   },
   "outputs": [],
   "source": [
    "leakage_coeff_fname = 'results/usALEX - leakage coefficient DexDem.csv'\n",
    "leakage = np.loadtxt(leakage_coeff_fname)\n",
    "\n",
    "print('Leakage coefficient:', leakage)"
   ]
  },
  {
   "cell_type": "code",
   "execution_count": null,
   "metadata": {
    "collapsed": false
   },
   "outputs": [],
   "source": [
    "dir_ex_coeff_fname = 'results/usALEX - direct excitation coefficient dir_ex_aa.csv'\n",
    "dir_ex_aa = np.loadtxt(dir_ex_coeff_fname)\n",
    "\n",
    "print('Dir. excitation AA:', dir_ex_aa)"
   ]
  },
  {
   "cell_type": "code",
   "execution_count": null,
   "metadata": {
    "collapsed": false
   },
   "outputs": [],
   "source": [
    "dir_ex_t_datasheet_fname = 'results/Dyes - ATT0647N-ATTO550 abs X-section ratio at 532nm.csv'\n",
    "dir_ex_t_datasheet = np.loadtxt(dir_ex_t_datasheet_fname)\n",
    "\n",
    "print('Direct excitation (dir_ex_t) from datasheet:', dir_ex_t_datasheet)"
   ]
  },
  {
   "cell_type": "code",
   "execution_count": null,
   "metadata": {
    "collapsed": false
   },
   "outputs": [],
   "source": [
    "gamma_coeff_fname = 'results/usALEX - gamma factor - all-ph.csv'\n",
    "gamma = np.loadtxt(gamma_coeff_fname)\n",
    "\n",
    "print('Gamma factor:', gamma)"
   ]
  },
  {
   "cell_type": "code",
   "execution_count": null,
   "metadata": {
    "collapsed": false
   },
   "outputs": [],
   "source": [
    "beta_coeff_fname = 'results/usALEX - beta factor - all-ph.csv'\n",
    "beta = np.loadtxt(beta_coeff_fname)\n",
    "\n",
    "print('Beta factor:', beta)"
   ]
  },
  {
   "cell_type": "markdown",
   "metadata": {},
   "source": [
    "# Procedure 1"
   ]
  },
  {
   "cell_type": "markdown",
   "metadata": {},
   "source": [
    "Compute $d_{dirT}$ using $\\beta$ and $d_{dirAA}$:"
   ]
  },
  {
   "cell_type": "code",
   "execution_count": null,
   "metadata": {
    "collapsed": false
   },
   "outputs": [],
   "source": [
    "dir_ex_t_beta = dir_ex_aa * beta\n",
    "'%.5f' % dir_ex_t_beta"
   ]
  },
  {
   "cell_type": "code",
   "execution_count": null,
   "metadata": {
    "collapsed": false
   },
   "outputs": [],
   "source": [
    "with open('results/usALEX - direct excitation coefficient dir_ex_t beta.csv', 'w') as f:\n",
    "    f.write('%.5f' % dir_ex_t_beta)"
   ]
  },
  {
   "cell_type": "markdown",
   "metadata": {},
   "source": [
    "With this coefficient, computing the corrected $E$ for the 5 dsDNA samples\n",
    "we obtain:"
   ]
  },
  {
   "cell_type": "code",
   "execution_count": null,
   "metadata": {
    "collapsed": false
   },
   "outputs": [],
   "source": [
    "PR_corr_kde = fretmath.correct_E_gamma_leak_dir(data_raw.E_kde_w, \n",
    "                                                leakage=leakage, \n",
    "                                                dir_ex_t=dir_ex_t_beta,\n",
    "                                                gamma=gamma)*100\n",
    "PR_corr_kde"
   ]
  },
  {
   "cell_type": "code",
   "execution_count": null,
   "metadata": {
    "collapsed": false
   },
   "outputs": [],
   "source": [
    "PR_corr_gauss = fretmath.correct_E_gamma_leak_dir(data_raw.E_gauss_w, \n",
    "                                                  leakage=leakage, \n",
    "                                                  dir_ex_t=dir_ex_t_beta,\n",
    "                                                  gamma=gamma)*100\n",
    "PR_corr_gauss"
   ]
  },
  {
   "cell_type": "markdown",
   "metadata": {},
   "source": [
    "# Procedure 2"
   ]
  },
  {
   "cell_type": "markdown",
   "metadata": {},
   "source": [
    "## Datasheet-based direct excitation\n",
    "\n",
    "The coefficient $d_{dirT}$ can be estimated from data-sheet values of \n",
    "$\\sigma_{D_{ex}}^A$ and $\\sigma_{D_{ex}}^D$.\n",
    "\n",
    "Using the [datasheet values](dyes/Absorption ATTO550-ATTO647N.ipynb) \n",
    "provided by ATTOTec (in PBS buffer) we obtain a $d_{dirT}$ estimation\n",
    "close to 10%:"
   ]
  },
  {
   "cell_type": "code",
   "execution_count": null,
   "metadata": {
    "collapsed": false
   },
   "outputs": [],
   "source": [
    "dir_ex_t_datasheet"
   ]
  },
  {
   "cell_type": "markdown",
   "metadata": {},
   "source": [
    "With this the corrected $E$ for the 5 dsDNA samples are:"
   ]
  },
  {
   "cell_type": "code",
   "execution_count": null,
   "metadata": {
    "collapsed": false
   },
   "outputs": [],
   "source": [
    "E_datasheet = fretmath.correct_E_gamma_leak_dir(data_raw.E_kde_w, \n",
    "                                                leakage=leakage, \n",
    "                                                dir_ex_t=dir_ex_t_datasheet,\n",
    "                                                gamma=gamma)*100\n",
    "E_datasheet"
   ]
  },
  {
   "cell_type": "markdown",
   "metadata": {},
   "source": [
    "Comparing these values with the ones obtained fitting the\n",
    "corrected E histograms we observe a significant discrepancy:"
   ]
  },
  {
   "cell_type": "code",
   "execution_count": null,
   "metadata": {
    "collapsed": false
   },
   "outputs": [],
   "source": [
    "out = data_corr[['E_kde_w']].copy()*100\n",
    "out.columns = ['E_alex']\n",
    "out['E_datasheet'] = E_datasheet\n",
    "out"
   ]
  },
  {
   "cell_type": "code",
   "execution_count": null,
   "metadata": {
    "collapsed": false
   },
   "outputs": [],
   "source": [
    "out.plot(alpha=0.4, lw=3, style=dict(E_alex='-ob', E_datasheet='-sr'));"
   ]
  },
  {
   "cell_type": "markdown",
   "metadata": {},
   "source": [
    "> **NOTE:** The corrected FRET efficiencies using the datasheet and \n",
    "> μs-ALEX-based direct excitation do not match well."
   ]
  },
  {
   "cell_type": "markdown",
   "metadata": {},
   "source": [
    "## Fitting direct excitation $d_{dirT}$"
   ]
  },
  {
   "cell_type": "code",
   "execution_count": null,
   "metadata": {
    "collapsed": false
   },
   "outputs": [],
   "source": [
    "def residuals_absolute(params, E_raw, E_ref):\n",
    "    dir_ex_t = params['dir_ex_t'].value\n",
    "    return E_ref - fretmath.correct_E_gamma_leak_dir(E_raw, \n",
    "                                                     leakage=leakage, \n",
    "                                                     gamma=gamma, \n",
    "                                                     dir_ex_t=dir_ex_t)"
   ]
  },
  {
   "cell_type": "code",
   "execution_count": null,
   "metadata": {
    "collapsed": false
   },
   "outputs": [],
   "source": [
    "def residuals_relative(params, E_raw, E_ref):\n",
    "    dir_ex_t = params['dir_ex_t'].value\n",
    "    return (E_ref - fretmath.correct_E_gamma_leak_dir(E_raw, \n",
    "                                                      leakage=leakage, \n",
    "                                                      gamma=gamma, \n",
    "                                                      dir_ex_t=dir_ex_t))/E_ref"
   ]
  },
  {
   "cell_type": "code",
   "execution_count": null,
   "metadata": {
    "collapsed": false
   },
   "outputs": [],
   "source": [
    "params = lmfit.Parameters()\n",
    "params.add('dir_ex_t', value=0.05) "
   ]
  },
  {
   "cell_type": "code",
   "execution_count": null,
   "metadata": {
    "collapsed": false
   },
   "outputs": [],
   "source": [
    "m = lmfit.minimize(residuals_absolute, params, args=(data_raw.E_kde_w, data_corr.E_kde_w))\n",
    "lmfit.report_fit(m.params, show_correl=False)"
   ]
  },
  {
   "cell_type": "code",
   "execution_count": null,
   "metadata": {
    "collapsed": false
   },
   "outputs": [],
   "source": [
    "m = lmfit.minimize(residuals_relative, params, args=(data_raw.E_kde_w, data_corr.E_kde_w))\n",
    "lmfit.report_fit(m.params, show_correl=False)"
   ]
  },
  {
   "cell_type": "markdown",
   "metadata": {},
   "source": [
    "> **NOTE:** The fitted `dir_ex_t` is 4.5% as opposed to 10.6% as expected from the [absorption spectra of ATTO550 and ATTO647](dyes/Absorption ATTO550-ATTO647N.ipynb) at 532nm."
   ]
  },
  {
   "cell_type": "code",
   "execution_count": null,
   "metadata": {
    "collapsed": false
   },
   "outputs": [],
   "source": [
    "'%.5f' % m.params['dir_ex_t'].value"
   ]
  },
  {
   "cell_type": "code",
   "execution_count": null,
   "metadata": {
    "collapsed": false
   },
   "outputs": [],
   "source": [
    "with open('results/usALEX - direct excitation coefficient dir_ex_t fit.csv', 'w') as f:\n",
    "    f.write('%.5f' % m.params['dir_ex_t'].value)"
   ]
  },
  {
   "cell_type": "markdown",
   "metadata": {},
   "source": [
    "# Corrected E"
   ]
  },
  {
   "cell_type": "code",
   "execution_count": null,
   "metadata": {
    "collapsed": false
   },
   "outputs": [],
   "source": [
    "data_raw"
   ]
  },
  {
   "cell_type": "code",
   "execution_count": null,
   "metadata": {
    "collapsed": false
   },
   "outputs": [],
   "source": [
    "PR_corr_kde_dfit = fretmath.correct_E_gamma_leak_dir(data_raw.E_kde_w, \n",
    "                                                     leakage=leakage, \n",
    "                                                     dir_ex_t=m.params['dir_ex_t'].value,\n",
    "                                                     gamma=gamma)*100\n",
    "PR_corr_kde_dfit.name = 'PR_corr_kde_dfit'\n",
    "PR_corr_kde_dfit"
   ]
  },
  {
   "cell_type": "code",
   "execution_count": null,
   "metadata": {
    "collapsed": false
   },
   "outputs": [],
   "source": [
    "E = pd.concat([data_corr[['E_kde_w', 'E_gauss_w']]*100, PR_corr_kde, PR_corr_gauss, sna*100], axis=1)\n",
    "E.columns = ['E KDE', 'E Gauss', 'PR KDE', 'PR Gauss', 'SNA Epr mean', 'SNA Epr max']\n",
    "E"
   ]
  },
  {
   "cell_type": "code",
   "execution_count": null,
   "metadata": {
    "collapsed": false
   },
   "outputs": [],
   "source": [
    "E.plot.bar(table=np.round(E, 2).T)\n",
    "plt.ylabel('FRET (%)')\n",
    "plt.gca().xaxis.set_visible(False)\n",
    "#plt.legend(bbox_to_anchor=(1.05, 1), loc=2, borderaxespad=0.);"
   ]
  },
  {
   "cell_type": "code",
   "execution_count": null,
   "metadata": {
    "collapsed": false
   },
   "outputs": [],
   "source": [
    "E[['PR KDE', 'PR Gauss', 'E KDE']].plot(kind='bar')\n",
    "E[['PR KDE', 'PR Gauss', 'E KDE']].plot(lw=3);\n",
    "print('Max error E_alex vs E_corr_pr: %.2f' % (E['E KDE'] - E['PR KDE']).abs().max())\n",
    "print('Max error E_alex vs E_beta:    %.2f' % (E['E KDE'] - E['PR Gauss']).abs().max())\n",
    "print('Max error E_beta vs E_corr_pr: %.2f' % (E['PR Gauss'] - E['PR KDE']).abs().max())"
   ]
  },
  {
   "cell_type": "code",
   "execution_count": null,
   "metadata": {
    "collapsed": false
   },
   "outputs": [],
   "source": [
    "x = [int(idx[:-1]) for idx in out.index]\n",
    "plt.plot(x, 'E KDE', data=E)\n",
    "plt.plot(x, 'PR KDE', data=E)\n",
    "plt.plot(x, 'PR Gauss', data=E)\n",
    "plt.xlabel('Distance in base-pair')\n",
    "plt.ylabel('FRET');"
   ]
  },
  {
   "cell_type": "code",
   "execution_count": null,
   "metadata": {
    "collapsed": false
   },
   "outputs": [],
   "source": [
    "E['E KDE'] - E['PR KDE']"
   ]
  },
  {
   "cell_type": "markdown",
   "metadata": {},
   "source": [
    "> **NOTE:** Fitting $d_{dirT}$ to match $E$ from corrected hsitograms with $E$ from PR correction formula produces a max difference of 1% for the 12d sample. The match is well below the fitting accuracy (> 2%)."
   ]
  },
  {
   "cell_type": "markdown",
   "metadata": {
    "collapsed": true
   },
   "source": [
    "# Save"
   ]
  },
  {
   "cell_type": "code",
   "execution_count": null,
   "metadata": {
    "collapsed": false
   },
   "outputs": [],
   "source": [
    "E.to_csv('results/usALEX-5samples-E-all-methods.csv', float_format='%.3f')"
   ]
  },
  {
   "cell_type": "code",
   "execution_count": null,
   "metadata": {
    "collapsed": false
   },
   "outputs": [],
   "source": [
    "E.round(3)"
   ]
  },
  {
   "cell_type": "code",
   "execution_count": null,
   "metadata": {
    "collapsed": true
   },
   "outputs": [],
   "source": []
  }
 ],
 "metadata": {
  "anaconda-cloud": {},
  "kernelspec": {
   "display_name": "Python [default]",
   "language": "python",
   "name": "python3"
  },
  "language_info": {
   "codemirror_mode": {
    "name": "ipython",
    "version": 3
   },
   "file_extension": ".py",
   "mimetype": "text/x-python",
   "name": "python",
   "nbconvert_exporter": "python",
   "pygments_lexer": "ipython3",
   "version": "3.5.2"
  }
 },
 "nbformat": 4,
 "nbformat_minor": 0
}
