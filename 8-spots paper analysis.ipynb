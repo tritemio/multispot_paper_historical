{
 "cells": [
  {
   "cell_type": "markdown",
   "metadata": {
    "internals": {
     "slide_type": "subslide"
    },
    "slideshow": {
     "slide_type": "slide"
    }
   },
   "source": [
    "# 8-Spots paper analysis"
   ]
  },
  {
   "cell_type": "markdown",
   "metadata": {
    "internals": {},
    "slideshow": {
     "slide_type": "-"
    }
   },
   "source": [
    "> This is the main notebook to be executed to reproduce the analysis of the 8-spot paper."
   ]
  },
  {
   "cell_type": "markdown",
   "metadata": {
    "internals": {},
    "slideshow": {
     "slide_type": "-"
    }
   },
   "source": [
    "# How to use this notebook?\n",
    "\n",
    "First and foremost, this notebook, and all the other notebooks linked below, can be used as a read-only resource to inspect every single step of the analysis. Furthermore, many steps of the analysis (alternative burst searches or fitting procedures) are not presented in the main paper for obvious space constraints and can be found here, where the complete analysis is provided.\n",
    "\n",
    "In the second place, this resource can be used to re-run the analysis on your machine. You can modify parameters of burst search, or use a different fitting approach and see what's the effect of these changes on the complete analysis.\n",
    "\n",
    "> If you are new to the notebook interface you can get a quick briefing by clicking on menu *Help* -> *User interface tour*.\n",
    "\n",
    "\n",
    "# Execution Overview\n",
    "\n",
    "This \"master\" notebook sequentially executes all the notebooks that perform the different steps of the analysis presented in the 8-spot paper.\n",
    "\n",
    "We execute both standard notebook or \"template notebooks\". A template notebook is executed several times, each time with a different input file or burst search parameters. Template notebooks are used for the μs-ALEX analysis.\n",
    "\n",
    "To execute other notebooks we use two helper functions that we import here:"
   ]
  },
  {
   "cell_type": "code",
   "execution_count": 1,
   "metadata": {
    "collapsed": false
   },
   "outputs": [],
   "source": [
    "import os\n",
    "import time\n",
    "import pandas as pd\n",
    "from IPython.display import display, FileLink\n",
    "import nbformat\n",
    "from nbconvert.preprocessors import ExecutePreprocessor"
   ]
  },
  {
   "cell_type": "code",
   "execution_count": 2,
   "metadata": {
    "collapsed": false
   },
   "outputs": [],
   "source": [
    "def run_notebook(notebook_name):\n",
    "    \"\"\"Runs the notebook `notebook_name` (file name with no extension).\n",
    "\n",
    "    This function executes notebook with name `notebook_name` (no extension)\n",
    "    and saves the fully executed notebook in a new file appending \"-out\"\n",
    "    to the original file name.\n",
    "\n",
    "    It also displays links to the original and executed notebooks.\n",
    "    \"\"\"   \n",
    "    timestamp_cell = \"**Executed:** %s\\n\\n**Duration:** %d seconds.\"\n",
    "    nb_name_full  = notebook_name + '.ipynb'\n",
    "    display(FileLink(nb_name_full))\n",
    "    \n",
    "    out_path = 'out_notebooks/'\n",
    "    out_nb_name = out_path + notebook_name + '-out.ipynb'\n",
    "    \n",
    "    nb = nbformat.read(nb_name_full, as_version=4)\n",
    "    ep = ExecutePreprocessor(timeout = 3600)\n",
    "\n",
    "    start_time = time.time()\n",
    "    try:\n",
    "        out = ep.preprocess(nb, {'metadata': {'path': './'}})\n",
    "    except Exception:\n",
    "        msg = 'Error executing the notebook \"%s\".\\n\\n' % notebook_name\n",
    "        msg += 'See notebook \"%s\" for the traceback.' % out_nb_name\n",
    "        print(msg)\n",
    "        raise\n",
    "    else:\n",
    "        # On successful execution, add timestamping cell\n",
    "        duration = time.time() - start_time\n",
    "        timestamp_cell = timestamp_cell % (time.ctime(start_time), duration)\n",
    "        nb['cells'].insert(0, nbformat.v4.new_markdown_cell(timestamp_cell))\n",
    "    finally:\n",
    "        nbformat.write(nb, out_nb_name)\n",
    "        display(FileLink(out_nb_name))\n",
    "    \n",
    "\n",
    "def run_notebook_template(notebook_name, remove_out=True,\n",
    "                          data_ids=['7d', '12d', '17d', '22d', '27d'],\n",
    "                          ph_sel=None):\n",
    "    \"\"\"Run a template ALEX notebook for all the 5 samples.\n",
    "\n",
    "    Fit results are saved in the folder 'results'.\n",
    "    For each sample, the evaluated notebook containing both plots\n",
    "    and text output is saved in the 'out_notebooks' folder.\n",
    "    \"\"\"\n",
    "    timestamp_cell_pattern = \"**Executed:** %s\\n\\n**Duration:** %d seconds.\"\n",
    "    ## Compute TXT data results file name (removing a previous copy)\n",
    "    assert ph_sel in ['all-ph', 'Dex', 'DexDem', 'AexAem', 'AND-gate', None]\n",
    "    ph_sel_suffix = '' if ph_sel is None else '-%s' % ph_sel\n",
    "    data_fname = 'results/' + notebook_name + '%s.txt' % ph_sel_suffix\n",
    "    if remove_out and \\\n",
    "       os.path.exists(data_fname):\n",
    "            os.remove(data_fname)\n",
    "\n",
    "    nb_name_full = notebook_name + '.ipynb'\n",
    "    display(FileLink(nb_name_full))\n",
    "\n",
    "    out_path = 'out_notebooks/'\n",
    "    \n",
    "    ep = ExecutePreprocessor(timeout = 3600)\n",
    "    for data_id in data_ids:\n",
    "        nb = nbformat.read(nb_name_full, as_version=4)\n",
    "        \n",
    "        nb['cells'].insert(1, nbformat.v4.new_code_cell('data_id = \"%s\"' % data_id))\n",
    "        nb['cells'].insert(1, nbformat.v4.new_code_cell('ph_sel_name = \"%s\"' % ph_sel))\n",
    "\n",
    "        out_nb_name = out_path + notebook_name + '-out%s-%s.ipynb' %\\\n",
    "                      (ph_sel_suffix, data_id)\n",
    "    \n",
    "        start_time = time.time()\n",
    "        try:\n",
    "            out = ep.preprocess(nb, {'metadata': {'path': './'}})\n",
    "        except:\n",
    "            msg = 'Error executing the notebook \"%s\".\\n\\n' % notebook_name\n",
    "            msg += 'See notebook \"%s\" for the traceback.' % out_nb_name\n",
    "            print(msg)\n",
    "            raise\n",
    "        else:\n",
    "            # On successful execution, add timestamping cell\n",
    "            duration = time.time() - start_time\n",
    "            timestamp_cell = timestamp_cell_pattern % (time.ctime(start_time), duration)\n",
    "            nb['cells'].insert(0, nbformat.v4.new_markdown_cell(timestamp_cell))\n",
    "        finally:\n",
    "            nbformat.write(nb, out_nb_name)\n",
    "            display(FileLink(out_nb_name))\n",
    "    display(pd.read_csv(data_fname, sep=\"\\s+\").set_index('sample'))"
   ]
  },
  {
   "cell_type": "markdown",
   "metadata": {
    "internals": {},
    "slideshow": {
     "slide_type": "-"
    }
   },
   "source": [
    "# Architecture notes\n",
    "\n",
    "The simple practice of systematically saving intermediate results in text files is an important step in any scientific that aims to be [computationally reproducibile](http://www.ploscompbiol.org/article/info%3Adoi%2F10.1371%2Fjournal.pcbi.1003285).\n",
    "\n",
    "Saving intermediate results in a text file allow to easily track and find intermediate results (either manually or programmatically). Moreover, it makes easy to track regressions (or errors) when a [Version Control System](http://en.wikipedia.org/wiki/Revision_control) (i.e. [git](http://git-scm.com/)) is used.\n",
    "\n",
    "In the present analysis, each notebook saves a selection of results in a text file in the `results` folder. These files are often used as an input by subsequent notebooks."
   ]
  },
  {
   "cell_type": "markdown",
   "metadata": {
    "internals": {},
    "slideshow": {
     "slide_type": "-"
    }
   },
   "source": [
    "# Batch execution\n",
    "\n",
    "The μs-ALEX notebooks are executed in batch from a single template notebook for the 5 samples. This allows maintaining a single \"analysis recipe\" that is uniformly applied to all the samples. Moreover, if the template notebook is modified, the results for all the 5 samples can be computed in one step. \n",
    "\n",
    "> Note that not all μs-ALEX notebooks are templates. For example the notebooks for fitting the global leakage coefficient or direct excitation are simple notebooks that read the previously saved per-sample results and compute averages.\n",
    "\n",
    "## The notebooks links\n",
    "When a template notebook is executed a set of output notebooks is generated, one for each sample. After the execution, the cell will show links to the *template notebook* (unexecuted, contains no output) and to the *output notebooks* for each sample. These output notebooks are meant to be read-only and are used to inspect the full analysis results for each sample.\n",
    "\n",
    "## The results table\n",
    "After the links, the cell will also shows a table with a row for each sample and a column for each variable saved by the template notebook. To find where a specific variable is computed, you can search the variable name in the output notebook of a specific sample (use the browser \"find\").\n",
    "\n",
    "## Working on template notebooks\n",
    "You can open and modify a template notebook in order to perform a different analysis. To open the template notebook click on the corresponding link (see below). Beware that notebooks with \"-out\" in their names are *output notebooks* not meant to be executed.\n",
    "\n",
    "After applying the modifications (and saving) you can run the template notebook directly. In this case a default data file will be loaded. The default specified at the beginning of the notebook (look for the `data_id` variable). If the execution succeeds for a single data file you can run the notebook as a template. Just switch back to the present notebook and execute the corresponding `run_notebook_template()` cell.\n"
   ]
  },
  {
   "cell_type": "markdown",
   "metadata": {
    "internals": {},
    "slideshow": {
     "slide_type": "-"
    }
   },
   "source": [
    "# Software version\n",
    "\n",
    "Here we keep track of all the libraries versions used for the execution."
   ]
  },
  {
   "cell_type": "code",
   "execution_count": 3,
   "metadata": {
    "collapsed": false,
    "internals": {},
    "slideshow": {
     "slide_type": "-"
    }
   },
   "outputs": [],
   "source": [
    "%load_ext version_information"
   ]
  },
  {
   "cell_type": "code",
   "execution_count": 4,
   "metadata": {
    "collapsed": false,
    "internals": {},
    "slideshow": {
     "slide_type": "-"
    }
   },
   "outputs": [
    {
     "name": "stdout",
     "output_type": "stream",
     "text": [
      " - Optimized (cython) burst search loaded.\n",
      " - Optimized (cython) photon counting loaded.\n",
      "--------------------------------------------------------------\n",
      " You are running FRETBursts (version 0.5.5).\n",
      "\n",
      " If you use this software please cite the following paper:\n",
      "\n",
      "   FRETBursts: An Open Source Toolkit for Analysis of Freely-Diffusing Single-Molecule FRET\n",
      "   Ingargiola et al. (2016). http://dx.doi.org/10.1101/039198 \n",
      "\n",
      "--------------------------------------------------------------\n"
     ]
    },
    {
     "data": {
      "application/json": {
       "Software versions": [
        {
         "module": "Python",
         "version": "3.5.1 64bit [GCC 4.2.1 (Apple Inc. build 5577)]"
        },
        {
         "module": "IPython",
         "version": "4.1.2"
        },
        {
         "module": "OS",
         "version": "Darwin 14.5.0 x86_64 i386 64bit"
        },
        {
         "module": "numpy",
         "version": "1.10.4"
        },
        {
         "module": "scipy",
         "version": "0.17.0"
        },
        {
         "module": "matplotlib",
         "version": "1.5.1"
        },
        {
         "module": "tables",
         "version": "3.2.2"
        },
        {
         "module": "pandas",
         "version": "0.18.0"
        },
        {
         "module": "lmfit",
         "version": "0.9.3"
        },
        {
         "module": "seaborn",
         "version": "0.7.0"
        },
        {
         "module": "fretbursts",
         "version": "0.5.5"
        }
       ]
      },
      "text/html": [
       "<table><tr><th>Software</th><th>Version</th></tr><tr><td>Python</td><td>3.5.1 64bit [GCC 4.2.1 (Apple Inc. build 5577)]</td></tr><tr><td>IPython</td><td>4.1.2</td></tr><tr><td>OS</td><td>Darwin 14.5.0 x86_64 i386 64bit</td></tr><tr><td>numpy</td><td>1.10.4</td></tr><tr><td>scipy</td><td>0.17.0</td></tr><tr><td>matplotlib</td><td>1.5.1</td></tr><tr><td>tables</td><td>3.2.2</td></tr><tr><td>pandas</td><td>0.18.0</td></tr><tr><td>lmfit</td><td>0.9.3</td></tr><tr><td>seaborn</td><td>0.7.0</td></tr><tr><td>fretbursts</td><td>0.5.5</td></tr><tr><td colspan='2'>Fri May 13 21:08:33 2016 PDT</td></tr></table>"
      ],
      "text/latex": [
       "\\begin{tabular}{|l|l|}\\hline\n",
       "{\\bf Software} & {\\bf Version} \\\\ \\hline\\hline\n",
       "Python & 3.5.1 64bit [GCC 4.2.1 (Apple Inc. build 5577)] \\\\ \\hline\n",
       "IPython & 4.1.2 \\\\ \\hline\n",
       "OS & Darwin 14.5.0 x86\\_64 i386 64bit \\\\ \\hline\n",
       "numpy & 1.10.4 \\\\ \\hline\n",
       "scipy & 0.17.0 \\\\ \\hline\n",
       "matplotlib & 1.5.1 \\\\ \\hline\n",
       "tables & 3.2.2 \\\\ \\hline\n",
       "pandas & 0.18.0 \\\\ \\hline\n",
       "lmfit & 0.9.3 \\\\ \\hline\n",
       "seaborn & 0.7.0 \\\\ \\hline\n",
       "fretbursts & 0.5.5 \\\\ \\hline\n",
       "\\hline \\multicolumn{2}{|l|}{Fri May 13 21:08:33 2016 PDT} \\\\ \\hline\n",
       "\\end{tabular}\n"
      ],
      "text/plain": [
       "Software versions\n",
       "Python 3.5.1 64bit [GCC 4.2.1 (Apple Inc. build 5577)]\n",
       "IPython 4.1.2\n",
       "OS Darwin 14.5.0 x86_64 i386 64bit\n",
       "numpy 1.10.4\n",
       "scipy 0.17.0\n",
       "matplotlib 1.5.1\n",
       "tables 3.2.2\n",
       "pandas 0.18.0\n",
       "lmfit 0.9.3\n",
       "seaborn 0.7.0\n",
       "fretbursts 0.5.5\n",
       "Fri May 13 21:08:33 2016 PDT"
      ]
     },
     "execution_count": 4,
     "metadata": {},
     "output_type": "execute_result"
    }
   ],
   "source": [
    "%version_information numpy, scipy, matplotlib, tables, pandas, lmfit, seaborn, fretbursts"
   ]
  },
  {
   "cell_type": "markdown",
   "metadata": {
    "internals": {},
    "slideshow": {
     "slide_type": "-"
    }
   },
   "source": [
    "## 1. μs-ALEX: Raw Proximity Ratio Analysis\n",
    "\n",
    "We start the analyis by processing and fiting the raw PR values for the 5 us-ALEX measurements. \n",
    "The only correction here applied to the bursts is the background correction.\n",
    "\n",
    "The same analysis is performed for different \n",
    "burst searches, as indicated in the notebook file name suffix:\n",
    "\n",
    "- **all-ph**: burst search on all photons\n",
    "- **Dex**: burst search on photons during Donor excitation periods\n",
    "- **DexDem**: burst search on photons during Donor excitation detected in the Donor channel (donor emission)\n",
    "- **AND-gate**: AND-gate burst search. The bursts are the intersection (in time) of burst from a \"Dex\" burst search and burst from a \"AexAem\" burst search."
   ]
  },
  {
   "cell_type": "code",
   "execution_count": 5,
   "metadata": {
    "collapsed": false,
    "internals": {},
    "slideshow": {
     "slide_type": "-"
    }
   },
   "outputs": [
    {
     "data": {
      "text/html": [
       "<a href='usALEX-5samples-PR-raw.ipynb' target='_blank'>usALEX-5samples-PR-raw.ipynb</a><br>"
      ],
      "text/plain": [
       "/Users/anto/Google Drive/notebooks/multispot_paper/usALEX-5samples-PR-raw.ipynb"
      ]
     },
     "metadata": {},
     "output_type": "display_data"
    },
    {
     "data": {
      "text/html": [
       "<a href='out_notebooks/usALEX-5samples-PR-raw-out-all-ph-7d.ipynb' target='_blank'>out_notebooks/usALEX-5samples-PR-raw-out-all-ph-7d.ipynb</a><br>"
      ],
      "text/plain": [
       "/Users/anto/Google Drive/notebooks/multispot_paper/out_notebooks/usALEX-5samples-PR-raw-out-all-ph-7d.ipynb"
      ]
     },
     "metadata": {},
     "output_type": "display_data"
    },
    {
     "data": {
      "text/html": [
       "<a href='out_notebooks/usALEX-5samples-PR-raw-out-all-ph-12d.ipynb' target='_blank'>out_notebooks/usALEX-5samples-PR-raw-out-all-ph-12d.ipynb</a><br>"
      ],
      "text/plain": [
       "/Users/anto/Google Drive/notebooks/multispot_paper/out_notebooks/usALEX-5samples-PR-raw-out-all-ph-12d.ipynb"
      ]
     },
     "metadata": {},
     "output_type": "display_data"
    },
    {
     "data": {
      "text/html": [
       "<a href='out_notebooks/usALEX-5samples-PR-raw-out-all-ph-17d.ipynb' target='_blank'>out_notebooks/usALEX-5samples-PR-raw-out-all-ph-17d.ipynb</a><br>"
      ],
      "text/plain": [
       "/Users/anto/Google Drive/notebooks/multispot_paper/out_notebooks/usALEX-5samples-PR-raw-out-all-ph-17d.ipynb"
      ]
     },
     "metadata": {},
     "output_type": "display_data"
    },
    {
     "data": {
      "text/html": [
       "<a href='out_notebooks/usALEX-5samples-PR-raw-out-all-ph-22d.ipynb' target='_blank'>out_notebooks/usALEX-5samples-PR-raw-out-all-ph-22d.ipynb</a><br>"
      ],
      "text/plain": [
       "/Users/anto/Google Drive/notebooks/multispot_paper/out_notebooks/usALEX-5samples-PR-raw-out-all-ph-22d.ipynb"
      ]
     },
     "metadata": {},
     "output_type": "display_data"
    },
    {
     "data": {
      "text/html": [
       "<a href='out_notebooks/usALEX-5samples-PR-raw-out-all-ph-27d.ipynb' target='_blank'>out_notebooks/usALEX-5samples-PR-raw-out-all-ph-27d.ipynb</a><br>"
      ],
      "text/plain": [
       "/Users/anto/Google Drive/notebooks/multispot_paper/out_notebooks/usALEX-5samples-PR-raw-out-all-ph-27d.ipynb"
      ]
     },
     "metadata": {},
     "output_type": "display_data"
    },
    {
     "data": {
      "text/html": [
       "<div>\n",
       "<table border=\"1\" class=\"dataframe\">\n",
       "  <thead>\n",
       "    <tr style=\"text-align: right;\">\n",
       "      <th></th>\n",
       "      <th>n_bursts_all</th>\n",
       "      <th>n_bursts_do</th>\n",
       "      <th>n_bursts_fret</th>\n",
       "      <th>E_kde_w</th>\n",
       "      <th>E_gauss_w</th>\n",
       "      <th>E_gauss_w_sig</th>\n",
       "      <th>E_gauss_w_err</th>\n",
       "      <th>S_kde</th>\n",
       "      <th>S_gauss</th>\n",
       "      <th>S_gauss_sig</th>\n",
       "      <th>S_gauss_err</th>\n",
       "      <th>E_pr_do_kde</th>\n",
       "      <th>E_pr_do_hsm</th>\n",
       "      <th>E_pr_do_gauss</th>\n",
       "      <th>nt_mean</th>\n",
       "    </tr>\n",
       "    <tr>\n",
       "      <th>sample</th>\n",
       "      <th></th>\n",
       "      <th></th>\n",
       "      <th></th>\n",
       "      <th></th>\n",
       "      <th></th>\n",
       "      <th></th>\n",
       "      <th></th>\n",
       "      <th></th>\n",
       "      <th></th>\n",
       "      <th></th>\n",
       "      <th></th>\n",
       "      <th></th>\n",
       "      <th></th>\n",
       "      <th></th>\n",
       "      <th></th>\n",
       "    </tr>\n",
       "  </thead>\n",
       "  <tbody>\n",
       "    <tr>\n",
       "      <th>7d</th>\n",
       "      <td>1371</td>\n",
       "      <td>726</td>\n",
       "      <td>599</td>\n",
       "      <td>0.9340</td>\n",
       "      <td>0.931457</td>\n",
       "      <td>0.054452</td>\n",
       "      <td>0.002225</td>\n",
       "      <td>0.5582</td>\n",
       "      <td>0.561550</td>\n",
       "      <td>0.098080</td>\n",
       "      <td>0.004007</td>\n",
       "      <td>0.0978</td>\n",
       "      <td>0.089309</td>\n",
       "      <td>0.099816</td>\n",
       "      <td>22.293113</td>\n",
       "    </tr>\n",
       "    <tr>\n",
       "      <th>12d</th>\n",
       "      <td>1531</td>\n",
       "      <td>411</td>\n",
       "      <td>1083</td>\n",
       "      <td>0.7612</td>\n",
       "      <td>0.749827</td>\n",
       "      <td>0.085865</td>\n",
       "      <td>0.002609</td>\n",
       "      <td>0.5848</td>\n",
       "      <td>0.570877</td>\n",
       "      <td>0.103804</td>\n",
       "      <td>0.003154</td>\n",
       "      <td>0.1012</td>\n",
       "      <td>0.119285</td>\n",
       "      <td>0.098814</td>\n",
       "      <td>22.653599</td>\n",
       "    </tr>\n",
       "    <tr>\n",
       "      <th>17d</th>\n",
       "      <td>3018</td>\n",
       "      <td>560</td>\n",
       "      <td>2392</td>\n",
       "      <td>0.4914</td>\n",
       "      <td>0.485029</td>\n",
       "      <td>0.101939</td>\n",
       "      <td>0.002084</td>\n",
       "      <td>0.5358</td>\n",
       "      <td>0.558352</td>\n",
       "      <td>0.110306</td>\n",
       "      <td>0.002255</td>\n",
       "      <td>0.1008</td>\n",
       "      <td>0.098344</td>\n",
       "      <td>0.103109</td>\n",
       "      <td>23.157688</td>\n",
       "    </tr>\n",
       "    <tr>\n",
       "      <th>22d</th>\n",
       "      <td>2552</td>\n",
       "      <td>403</td>\n",
       "      <td>2045</td>\n",
       "      <td>0.2766</td>\n",
       "      <td>0.279934</td>\n",
       "      <td>0.070817</td>\n",
       "      <td>0.001566</td>\n",
       "      <td>0.5628</td>\n",
       "      <td>0.564196</td>\n",
       "      <td>0.112860</td>\n",
       "      <td>0.002496</td>\n",
       "      <td>0.0922</td>\n",
       "      <td>0.088573</td>\n",
       "      <td>0.091123</td>\n",
       "      <td>25.373585</td>\n",
       "    </tr>\n",
       "    <tr>\n",
       "      <th>27d</th>\n",
       "      <td>998</td>\n",
       "      <td>204</td>\n",
       "      <td>757</td>\n",
       "      <td>0.1958</td>\n",
       "      <td>0.195112</td>\n",
       "      <td>0.058563</td>\n",
       "      <td>0.002129</td>\n",
       "      <td>0.5540</td>\n",
       "      <td>0.583387</td>\n",
       "      <td>0.112116</td>\n",
       "      <td>0.004075</td>\n",
       "      <td>0.0820</td>\n",
       "      <td>0.096362</td>\n",
       "      <td>0.088704</td>\n",
       "      <td>19.570391</td>\n",
       "    </tr>\n",
       "  </tbody>\n",
       "</table>\n",
       "</div>"
      ],
      "text/plain": [
       "        n_bursts_all  n_bursts_do  n_bursts_fret  E_kde_w  E_gauss_w  \\\n",
       "sample                                                                 \n",
       "7d              1371          726            599   0.9340   0.931457   \n",
       "12d             1531          411           1083   0.7612   0.749827   \n",
       "17d             3018          560           2392   0.4914   0.485029   \n",
       "22d             2552          403           2045   0.2766   0.279934   \n",
       "27d              998          204            757   0.1958   0.195112   \n",
       "\n",
       "        E_gauss_w_sig  E_gauss_w_err   S_kde   S_gauss  S_gauss_sig  \\\n",
       "sample                                                                \n",
       "7d           0.054452       0.002225  0.5582  0.561550     0.098080   \n",
       "12d          0.085865       0.002609  0.5848  0.570877     0.103804   \n",
       "17d          0.101939       0.002084  0.5358  0.558352     0.110306   \n",
       "22d          0.070817       0.001566  0.5628  0.564196     0.112860   \n",
       "27d          0.058563       0.002129  0.5540  0.583387     0.112116   \n",
       "\n",
       "        S_gauss_err  E_pr_do_kde  E_pr_do_hsm  E_pr_do_gauss    nt_mean  \n",
       "sample                                                                   \n",
       "7d         0.004007       0.0978     0.089309       0.099816  22.293113  \n",
       "12d        0.003154       0.1012     0.119285       0.098814  22.653599  \n",
       "17d        0.002255       0.1008     0.098344       0.103109  23.157688  \n",
       "22d        0.002496       0.0922     0.088573       0.091123  25.373585  \n",
       "27d        0.004075       0.0820     0.096362       0.088704  19.570391  "
      ]
     },
     "metadata": {},
     "output_type": "display_data"
    }
   ],
   "source": [
    "nb_name = 'usALEX-5samples-PR-raw'\n",
    "run_notebook_template(nb_name, ph_sel='all-ph')"
   ]
  },
  {
   "cell_type": "code",
   "execution_count": 6,
   "metadata": {
    "collapsed": false,
    "internals": {},
    "slideshow": {
     "slide_type": "-"
    }
   },
   "outputs": [
    {
     "data": {
      "text/html": [
       "<a href='usALEX-5samples-PR-raw.ipynb' target='_blank'>usALEX-5samples-PR-raw.ipynb</a><br>"
      ],
      "text/plain": [
       "/Users/anto/Google Drive/notebooks/multispot_paper/usALEX-5samples-PR-raw.ipynb"
      ]
     },
     "metadata": {},
     "output_type": "display_data"
    },
    {
     "data": {
      "text/html": [
       "<a href='out_notebooks/usALEX-5samples-PR-raw-out-DexDem-7d.ipynb' target='_blank'>out_notebooks/usALEX-5samples-PR-raw-out-DexDem-7d.ipynb</a><br>"
      ],
      "text/plain": [
       "/Users/anto/Google Drive/notebooks/multispot_paper/out_notebooks/usALEX-5samples-PR-raw-out-DexDem-7d.ipynb"
      ]
     },
     "metadata": {},
     "output_type": "display_data"
    },
    {
     "data": {
      "text/html": [
       "<a href='out_notebooks/usALEX-5samples-PR-raw-out-DexDem-12d.ipynb' target='_blank'>out_notebooks/usALEX-5samples-PR-raw-out-DexDem-12d.ipynb</a><br>"
      ],
      "text/plain": [
       "/Users/anto/Google Drive/notebooks/multispot_paper/out_notebooks/usALEX-5samples-PR-raw-out-DexDem-12d.ipynb"
      ]
     },
     "metadata": {},
     "output_type": "display_data"
    },
    {
     "data": {
      "text/html": [
       "<a href='out_notebooks/usALEX-5samples-PR-raw-out-DexDem-17d.ipynb' target='_blank'>out_notebooks/usALEX-5samples-PR-raw-out-DexDem-17d.ipynb</a><br>"
      ],
      "text/plain": [
       "/Users/anto/Google Drive/notebooks/multispot_paper/out_notebooks/usALEX-5samples-PR-raw-out-DexDem-17d.ipynb"
      ]
     },
     "metadata": {},
     "output_type": "display_data"
    },
    {
     "data": {
      "text/html": [
       "<a href='out_notebooks/usALEX-5samples-PR-raw-out-DexDem-22d.ipynb' target='_blank'>out_notebooks/usALEX-5samples-PR-raw-out-DexDem-22d.ipynb</a><br>"
      ],
      "text/plain": [
       "/Users/anto/Google Drive/notebooks/multispot_paper/out_notebooks/usALEX-5samples-PR-raw-out-DexDem-22d.ipynb"
      ]
     },
     "metadata": {},
     "output_type": "display_data"
    },
    {
     "data": {
      "text/html": [
       "<a href='out_notebooks/usALEX-5samples-PR-raw-out-DexDem-27d.ipynb' target='_blank'>out_notebooks/usALEX-5samples-PR-raw-out-DexDem-27d.ipynb</a><br>"
      ],
      "text/plain": [
       "/Users/anto/Google Drive/notebooks/multispot_paper/out_notebooks/usALEX-5samples-PR-raw-out-DexDem-27d.ipynb"
      ]
     },
     "metadata": {},
     "output_type": "display_data"
    },
    {
     "data": {
      "text/html": [
       "<div>\n",
       "<table border=\"1\" class=\"dataframe\">\n",
       "  <thead>\n",
       "    <tr style=\"text-align: right;\">\n",
       "      <th></th>\n",
       "      <th>n_bursts_all</th>\n",
       "      <th>n_bursts_do</th>\n",
       "      <th>n_bursts_fret</th>\n",
       "      <th>E_kde_w</th>\n",
       "      <th>E_gauss_w</th>\n",
       "      <th>E_gauss_w_sig</th>\n",
       "      <th>E_gauss_w_err</th>\n",
       "      <th>S_kde</th>\n",
       "      <th>S_gauss</th>\n",
       "      <th>S_gauss_sig</th>\n",
       "      <th>S_gauss_err</th>\n",
       "      <th>E_pr_do_kde</th>\n",
       "      <th>E_pr_do_hsm</th>\n",
       "      <th>E_pr_do_gauss</th>\n",
       "      <th>nt_mean</th>\n",
       "    </tr>\n",
       "    <tr>\n",
       "      <th>sample</th>\n",
       "      <th></th>\n",
       "      <th></th>\n",
       "      <th></th>\n",
       "      <th></th>\n",
       "      <th></th>\n",
       "      <th></th>\n",
       "      <th></th>\n",
       "      <th></th>\n",
       "      <th></th>\n",
       "      <th></th>\n",
       "      <th></th>\n",
       "      <th></th>\n",
       "      <th></th>\n",
       "      <th></th>\n",
       "      <th></th>\n",
       "    </tr>\n",
       "  </thead>\n",
       "  <tbody>\n",
       "    <tr>\n",
       "      <th>7d</th>\n",
       "      <td>1686</td>\n",
       "      <td>1396</td>\n",
       "      <td>151</td>\n",
       "      <td>0.8430</td>\n",
       "      <td>0.795435</td>\n",
       "      <td>0.089812</td>\n",
       "      <td>0.007309</td>\n",
       "      <td>0.6360</td>\n",
       "      <td>0.601757</td>\n",
       "      <td>0.093175</td>\n",
       "      <td>0.007582</td>\n",
       "      <td>0.0954</td>\n",
       "      <td>0.083806</td>\n",
       "      <td>0.092120</td>\n",
       "      <td>28.148237</td>\n",
       "    </tr>\n",
       "    <tr>\n",
       "      <th>12d</th>\n",
       "      <td>1915</td>\n",
       "      <td>722</td>\n",
       "      <td>1092</td>\n",
       "      <td>0.7140</td>\n",
       "      <td>0.706765</td>\n",
       "      <td>0.075569</td>\n",
       "      <td>0.002287</td>\n",
       "      <td>0.5592</td>\n",
       "      <td>0.587225</td>\n",
       "      <td>0.101999</td>\n",
       "      <td>0.003087</td>\n",
       "      <td>0.0916</td>\n",
       "      <td>0.086989</td>\n",
       "      <td>0.091178</td>\n",
       "      <td>27.970313</td>\n",
       "    </tr>\n",
       "    <tr>\n",
       "      <th>17d</th>\n",
       "      <td>4501</td>\n",
       "      <td>1045</td>\n",
       "      <td>3276</td>\n",
       "      <td>0.4634</td>\n",
       "      <td>0.447667</td>\n",
       "      <td>0.102266</td>\n",
       "      <td>0.001787</td>\n",
       "      <td>0.5702</td>\n",
       "      <td>0.574012</td>\n",
       "      <td>0.109407</td>\n",
       "      <td>0.001911</td>\n",
       "      <td>0.0950</td>\n",
       "      <td>0.095650</td>\n",
       "      <td>0.095034</td>\n",
       "      <td>29.152810</td>\n",
       "    </tr>\n",
       "    <tr>\n",
       "      <th>22d</th>\n",
       "      <td>3456</td>\n",
       "      <td>580</td>\n",
       "      <td>2750</td>\n",
       "      <td>0.2642</td>\n",
       "      <td>0.265565</td>\n",
       "      <td>0.067100</td>\n",
       "      <td>0.001280</td>\n",
       "      <td>0.5634</td>\n",
       "      <td>0.570735</td>\n",
       "      <td>0.109626</td>\n",
       "      <td>0.002090</td>\n",
       "      <td>0.0810</td>\n",
       "      <td>0.084635</td>\n",
       "      <td>0.088650</td>\n",
       "      <td>31.912677</td>\n",
       "    </tr>\n",
       "    <tr>\n",
       "      <th>27d</th>\n",
       "      <td>1397</td>\n",
       "      <td>401</td>\n",
       "      <td>943</td>\n",
       "      <td>0.1810</td>\n",
       "      <td>0.183239</td>\n",
       "      <td>0.054042</td>\n",
       "      <td>0.001760</td>\n",
       "      <td>0.6176</td>\n",
       "      <td>0.601480</td>\n",
       "      <td>0.108081</td>\n",
       "      <td>0.003520</td>\n",
       "      <td>0.0798</td>\n",
       "      <td>0.056870</td>\n",
       "      <td>0.081928</td>\n",
       "      <td>23.297139</td>\n",
       "    </tr>\n",
       "  </tbody>\n",
       "</table>\n",
       "</div>"
      ],
      "text/plain": [
       "        n_bursts_all  n_bursts_do  n_bursts_fret  E_kde_w  E_gauss_w  \\\n",
       "sample                                                                 \n",
       "7d              1686         1396            151   0.8430   0.795435   \n",
       "12d             1915          722           1092   0.7140   0.706765   \n",
       "17d             4501         1045           3276   0.4634   0.447667   \n",
       "22d             3456          580           2750   0.2642   0.265565   \n",
       "27d             1397          401            943   0.1810   0.183239   \n",
       "\n",
       "        E_gauss_w_sig  E_gauss_w_err   S_kde   S_gauss  S_gauss_sig  \\\n",
       "sample                                                                \n",
       "7d           0.089812       0.007309  0.6360  0.601757     0.093175   \n",
       "12d          0.075569       0.002287  0.5592  0.587225     0.101999   \n",
       "17d          0.102266       0.001787  0.5702  0.574012     0.109407   \n",
       "22d          0.067100       0.001280  0.5634  0.570735     0.109626   \n",
       "27d          0.054042       0.001760  0.6176  0.601480     0.108081   \n",
       "\n",
       "        S_gauss_err  E_pr_do_kde  E_pr_do_hsm  E_pr_do_gauss    nt_mean  \n",
       "sample                                                                   \n",
       "7d         0.007582       0.0954     0.083806       0.092120  28.148237  \n",
       "12d        0.003087       0.0916     0.086989       0.091178  27.970313  \n",
       "17d        0.001911       0.0950     0.095650       0.095034  29.152810  \n",
       "22d        0.002090       0.0810     0.084635       0.088650  31.912677  \n",
       "27d        0.003520       0.0798     0.056870       0.081928  23.297139  "
      ]
     },
     "metadata": {},
     "output_type": "display_data"
    }
   ],
   "source": [
    "nb_name = 'usALEX-5samples-PR-raw'\n",
    "run_notebook_template(nb_name, ph_sel='DexDem')"
   ]
  },
  {
   "cell_type": "code",
   "execution_count": 7,
   "metadata": {
    "collapsed": false,
    "internals": {},
    "slideshow": {
     "slide_type": "-"
    }
   },
   "outputs": [
    {
     "data": {
      "text/html": [
       "<a href='usALEX-5samples-PR-raw.ipynb' target='_blank'>usALEX-5samples-PR-raw.ipynb</a><br>"
      ],
      "text/plain": [
       "/Users/anto/Google Drive/notebooks/multispot_paper/usALEX-5samples-PR-raw.ipynb"
      ]
     },
     "metadata": {},
     "output_type": "display_data"
    },
    {
     "data": {
      "text/html": [
       "<a href='out_notebooks/usALEX-5samples-PR-raw-out-Dex-7d.ipynb' target='_blank'>out_notebooks/usALEX-5samples-PR-raw-out-Dex-7d.ipynb</a><br>"
      ],
      "text/plain": [
       "/Users/anto/Google Drive/notebooks/multispot_paper/out_notebooks/usALEX-5samples-PR-raw-out-Dex-7d.ipynb"
      ]
     },
     "metadata": {},
     "output_type": "display_data"
    },
    {
     "data": {
      "text/html": [
       "<a href='out_notebooks/usALEX-5samples-PR-raw-out-Dex-12d.ipynb' target='_blank'>out_notebooks/usALEX-5samples-PR-raw-out-Dex-12d.ipynb</a><br>"
      ],
      "text/plain": [
       "/Users/anto/Google Drive/notebooks/multispot_paper/out_notebooks/usALEX-5samples-PR-raw-out-Dex-12d.ipynb"
      ]
     },
     "metadata": {},
     "output_type": "display_data"
    },
    {
     "data": {
      "text/html": [
       "<a href='out_notebooks/usALEX-5samples-PR-raw-out-Dex-17d.ipynb' target='_blank'>out_notebooks/usALEX-5samples-PR-raw-out-Dex-17d.ipynb</a><br>"
      ],
      "text/plain": [
       "/Users/anto/Google Drive/notebooks/multispot_paper/out_notebooks/usALEX-5samples-PR-raw-out-Dex-17d.ipynb"
      ]
     },
     "metadata": {},
     "output_type": "display_data"
    },
    {
     "data": {
      "text/html": [
       "<a href='out_notebooks/usALEX-5samples-PR-raw-out-Dex-22d.ipynb' target='_blank'>out_notebooks/usALEX-5samples-PR-raw-out-Dex-22d.ipynb</a><br>"
      ],
      "text/plain": [
       "/Users/anto/Google Drive/notebooks/multispot_paper/out_notebooks/usALEX-5samples-PR-raw-out-Dex-22d.ipynb"
      ]
     },
     "metadata": {},
     "output_type": "display_data"
    },
    {
     "data": {
      "text/html": [
       "<a href='out_notebooks/usALEX-5samples-PR-raw-out-Dex-27d.ipynb' target='_blank'>out_notebooks/usALEX-5samples-PR-raw-out-Dex-27d.ipynb</a><br>"
      ],
      "text/plain": [
       "/Users/anto/Google Drive/notebooks/multispot_paper/out_notebooks/usALEX-5samples-PR-raw-out-Dex-27d.ipynb"
      ]
     },
     "metadata": {},
     "output_type": "display_data"
    },
    {
     "data": {
      "text/html": [
       "<div>\n",
       "<table border=\"1\" class=\"dataframe\">\n",
       "  <thead>\n",
       "    <tr style=\"text-align: right;\">\n",
       "      <th></th>\n",
       "      <th>n_bursts_all</th>\n",
       "      <th>n_bursts_do</th>\n",
       "      <th>n_bursts_fret</th>\n",
       "      <th>E_kde_w</th>\n",
       "      <th>E_gauss_w</th>\n",
       "      <th>E_gauss_w_sig</th>\n",
       "      <th>E_gauss_w_err</th>\n",
       "      <th>S_kde</th>\n",
       "      <th>S_gauss</th>\n",
       "      <th>S_gauss_sig</th>\n",
       "      <th>S_gauss_err</th>\n",
       "      <th>E_pr_do_kde</th>\n",
       "      <th>E_pr_do_hsm</th>\n",
       "      <th>E_pr_do_gauss</th>\n",
       "      <th>nt_mean</th>\n",
       "    </tr>\n",
       "    <tr>\n",
       "      <th>sample</th>\n",
       "      <th></th>\n",
       "      <th></th>\n",
       "      <th></th>\n",
       "      <th></th>\n",
       "      <th></th>\n",
       "      <th></th>\n",
       "      <th></th>\n",
       "      <th></th>\n",
       "      <th></th>\n",
       "      <th></th>\n",
       "      <th></th>\n",
       "      <th></th>\n",
       "      <th></th>\n",
       "      <th></th>\n",
       "      <th></th>\n",
       "    </tr>\n",
       "  </thead>\n",
       "  <tbody>\n",
       "    <tr>\n",
       "      <th>7d</th>\n",
       "      <td>1654</td>\n",
       "      <td>956</td>\n",
       "      <td>641</td>\n",
       "      <td>0.9338</td>\n",
       "      <td>0.927817</td>\n",
       "      <td>0.053928</td>\n",
       "      <td>0.002130</td>\n",
       "      <td>0.5750</td>\n",
       "      <td>0.576817</td>\n",
       "      <td>0.100866</td>\n",
       "      <td>0.003984</td>\n",
       "      <td>0.1000</td>\n",
       "      <td>0.090002</td>\n",
       "      <td>0.104080</td>\n",
       "      <td>23.042040</td>\n",
       "    </tr>\n",
       "    <tr>\n",
       "      <th>12d</th>\n",
       "      <td>1692</td>\n",
       "      <td>486</td>\n",
       "      <td>1157</td>\n",
       "      <td>0.7508</td>\n",
       "      <td>0.748896</td>\n",
       "      <td>0.083924</td>\n",
       "      <td>0.002467</td>\n",
       "      <td>0.5974</td>\n",
       "      <td>0.588508</td>\n",
       "      <td>0.104495</td>\n",
       "      <td>0.003072</td>\n",
       "      <td>0.0998</td>\n",
       "      <td>0.098139</td>\n",
       "      <td>0.102115</td>\n",
       "      <td>23.504845</td>\n",
       "    </tr>\n",
       "    <tr>\n",
       "      <th>17d</th>\n",
       "      <td>3459</td>\n",
       "      <td>766</td>\n",
       "      <td>2588</td>\n",
       "      <td>0.4906</td>\n",
       "      <td>0.480670</td>\n",
       "      <td>0.101775</td>\n",
       "      <td>0.002001</td>\n",
       "      <td>0.5740</td>\n",
       "      <td>0.583539</td>\n",
       "      <td>0.108368</td>\n",
       "      <td>0.002130</td>\n",
       "      <td>0.1054</td>\n",
       "      <td>0.120002</td>\n",
       "      <td>0.108943</td>\n",
       "      <td>23.063124</td>\n",
       "    </tr>\n",
       "    <tr>\n",
       "      <th>22d</th>\n",
       "      <td>2798</td>\n",
       "      <td>501</td>\n",
       "      <td>2181</td>\n",
       "      <td>0.2752</td>\n",
       "      <td>0.280392</td>\n",
       "      <td>0.067918</td>\n",
       "      <td>0.001454</td>\n",
       "      <td>0.5768</td>\n",
       "      <td>0.583358</td>\n",
       "      <td>0.110174</td>\n",
       "      <td>0.002359</td>\n",
       "      <td>0.0962</td>\n",
       "      <td>0.074235</td>\n",
       "      <td>0.104701</td>\n",
       "      <td>26.631819</td>\n",
       "    </tr>\n",
       "    <tr>\n",
       "      <th>27d</th>\n",
       "      <td>1146</td>\n",
       "      <td>316</td>\n",
       "      <td>792</td>\n",
       "      <td>0.1944</td>\n",
       "      <td>0.194729</td>\n",
       "      <td>0.057172</td>\n",
       "      <td>0.002032</td>\n",
       "      <td>0.5786</td>\n",
       "      <td>0.605397</td>\n",
       "      <td>0.108735</td>\n",
       "      <td>0.003864</td>\n",
       "      <td>0.0904</td>\n",
       "      <td>0.091578</td>\n",
       "      <td>0.093993</td>\n",
       "      <td>19.882093</td>\n",
       "    </tr>\n",
       "  </tbody>\n",
       "</table>\n",
       "</div>"
      ],
      "text/plain": [
       "        n_bursts_all  n_bursts_do  n_bursts_fret  E_kde_w  E_gauss_w  \\\n",
       "sample                                                                 \n",
       "7d              1654          956            641   0.9338   0.927817   \n",
       "12d             1692          486           1157   0.7508   0.748896   \n",
       "17d             3459          766           2588   0.4906   0.480670   \n",
       "22d             2798          501           2181   0.2752   0.280392   \n",
       "27d             1146          316            792   0.1944   0.194729   \n",
       "\n",
       "        E_gauss_w_sig  E_gauss_w_err   S_kde   S_gauss  S_gauss_sig  \\\n",
       "sample                                                                \n",
       "7d           0.053928       0.002130  0.5750  0.576817     0.100866   \n",
       "12d          0.083924       0.002467  0.5974  0.588508     0.104495   \n",
       "17d          0.101775       0.002001  0.5740  0.583539     0.108368   \n",
       "22d          0.067918       0.001454  0.5768  0.583358     0.110174   \n",
       "27d          0.057172       0.002032  0.5786  0.605397     0.108735   \n",
       "\n",
       "        S_gauss_err  E_pr_do_kde  E_pr_do_hsm  E_pr_do_gauss    nt_mean  \n",
       "sample                                                                   \n",
       "7d         0.003984       0.1000     0.090002       0.104080  23.042040  \n",
       "12d        0.003072       0.0998     0.098139       0.102115  23.504845  \n",
       "17d        0.002130       0.1054     0.120002       0.108943  23.063124  \n",
       "22d        0.002359       0.0962     0.074235       0.104701  26.631819  \n",
       "27d        0.003864       0.0904     0.091578       0.093993  19.882093  "
      ]
     },
     "metadata": {},
     "output_type": "display_data"
    }
   ],
   "source": [
    "nb_name = 'usALEX-5samples-PR-raw'\n",
    "run_notebook_template(nb_name, ph_sel='Dex')"
   ]
  },
  {
   "cell_type": "code",
   "execution_count": 8,
   "metadata": {
    "collapsed": false,
    "internals": {},
    "scrolled": true,
    "slideshow": {
     "slide_type": "-"
    }
   },
   "outputs": [
    {
     "data": {
      "text/html": [
       "<a href='usALEX-5samples-PR-raw-AND-gate.ipynb' target='_blank'>usALEX-5samples-PR-raw-AND-gate.ipynb</a><br>"
      ],
      "text/plain": [
       "/Users/anto/Google Drive/notebooks/multispot_paper/usALEX-5samples-PR-raw-AND-gate.ipynb"
      ]
     },
     "metadata": {},
     "output_type": "display_data"
    },
    {
     "data": {
      "text/html": [
       "<a href='out_notebooks/usALEX-5samples-PR-raw-AND-gate-out-7d.ipynb' target='_blank'>out_notebooks/usALEX-5samples-PR-raw-AND-gate-out-7d.ipynb</a><br>"
      ],
      "text/plain": [
       "/Users/anto/Google Drive/notebooks/multispot_paper/out_notebooks/usALEX-5samples-PR-raw-AND-gate-out-7d.ipynb"
      ]
     },
     "metadata": {},
     "output_type": "display_data"
    },
    {
     "data": {
      "text/html": [
       "<a href='out_notebooks/usALEX-5samples-PR-raw-AND-gate-out-12d.ipynb' target='_blank'>out_notebooks/usALEX-5samples-PR-raw-AND-gate-out-12d.ipynb</a><br>"
      ],
      "text/plain": [
       "/Users/anto/Google Drive/notebooks/multispot_paper/out_notebooks/usALEX-5samples-PR-raw-AND-gate-out-12d.ipynb"
      ]
     },
     "metadata": {},
     "output_type": "display_data"
    },
    {
     "data": {
      "text/html": [
       "<a href='out_notebooks/usALEX-5samples-PR-raw-AND-gate-out-17d.ipynb' target='_blank'>out_notebooks/usALEX-5samples-PR-raw-AND-gate-out-17d.ipynb</a><br>"
      ],
      "text/plain": [
       "/Users/anto/Google Drive/notebooks/multispot_paper/out_notebooks/usALEX-5samples-PR-raw-AND-gate-out-17d.ipynb"
      ]
     },
     "metadata": {},
     "output_type": "display_data"
    },
    {
     "data": {
      "text/html": [
       "<a href='out_notebooks/usALEX-5samples-PR-raw-AND-gate-out-22d.ipynb' target='_blank'>out_notebooks/usALEX-5samples-PR-raw-AND-gate-out-22d.ipynb</a><br>"
      ],
      "text/plain": [
       "/Users/anto/Google Drive/notebooks/multispot_paper/out_notebooks/usALEX-5samples-PR-raw-AND-gate-out-22d.ipynb"
      ]
     },
     "metadata": {},
     "output_type": "display_data"
    },
    {
     "data": {
      "text/html": [
       "<a href='out_notebooks/usALEX-5samples-PR-raw-AND-gate-out-27d.ipynb' target='_blank'>out_notebooks/usALEX-5samples-PR-raw-AND-gate-out-27d.ipynb</a><br>"
      ],
      "text/plain": [
       "/Users/anto/Google Drive/notebooks/multispot_paper/out_notebooks/usALEX-5samples-PR-raw-AND-gate-out-27d.ipynb"
      ]
     },
     "metadata": {},
     "output_type": "display_data"
    },
    {
     "data": {
      "text/html": [
       "<div>\n",
       "<table border=\"1\" class=\"dataframe\">\n",
       "  <thead>\n",
       "    <tr style=\"text-align: right;\">\n",
       "      <th></th>\n",
       "      <th>n_bursts_all</th>\n",
       "      <th>n_bursts_fret</th>\n",
       "      <th>E_kde_w</th>\n",
       "      <th>E_gauss_w</th>\n",
       "      <th>E_gauss_w_sig</th>\n",
       "      <th>E_gauss_w_err</th>\n",
       "      <th>S_kde</th>\n",
       "      <th>S_gauss</th>\n",
       "      <th>S_gauss_sig</th>\n",
       "      <th>S_gauss_err</th>\n",
       "      <th>nt_mean</th>\n",
       "    </tr>\n",
       "    <tr>\n",
       "      <th>sample</th>\n",
       "      <th></th>\n",
       "      <th></th>\n",
       "      <th></th>\n",
       "      <th></th>\n",
       "      <th></th>\n",
       "      <th></th>\n",
       "      <th></th>\n",
       "      <th></th>\n",
       "      <th></th>\n",
       "      <th></th>\n",
       "      <th></th>\n",
       "    </tr>\n",
       "  </thead>\n",
       "  <tbody>\n",
       "    <tr>\n",
       "      <th>7d</th>\n",
       "      <td>667</td>\n",
       "      <td>611</td>\n",
       "      <td>0.9358</td>\n",
       "      <td>0.929582</td>\n",
       "      <td>0.053343</td>\n",
       "      <td>0.002158</td>\n",
       "      <td>0.5766</td>\n",
       "      <td>0.570903</td>\n",
       "      <td>0.098088</td>\n",
       "      <td>0.003968</td>\n",
       "      <td>23.186875</td>\n",
       "    </tr>\n",
       "    <tr>\n",
       "      <th>12d</th>\n",
       "      <td>1130</td>\n",
       "      <td>1104</td>\n",
       "      <td>0.7524</td>\n",
       "      <td>0.750899</td>\n",
       "      <td>0.080989</td>\n",
       "      <td>0.002437</td>\n",
       "      <td>0.5920</td>\n",
       "      <td>0.582839</td>\n",
       "      <td>0.100966</td>\n",
       "      <td>0.003039</td>\n",
       "      <td>23.409028</td>\n",
       "    </tr>\n",
       "    <tr>\n",
       "      <th>17d</th>\n",
       "      <td>2479</td>\n",
       "      <td>2455</td>\n",
       "      <td>0.4912</td>\n",
       "      <td>0.482385</td>\n",
       "      <td>0.099163</td>\n",
       "      <td>0.002001</td>\n",
       "      <td>0.5742</td>\n",
       "      <td>0.575934</td>\n",
       "      <td>0.102965</td>\n",
       "      <td>0.002078</td>\n",
       "      <td>23.032493</td>\n",
       "    </tr>\n",
       "    <tr>\n",
       "      <th>22d</th>\n",
       "      <td>2197</td>\n",
       "      <td>2110</td>\n",
       "      <td>0.2746</td>\n",
       "      <td>0.279620</td>\n",
       "      <td>0.068639</td>\n",
       "      <td>0.001494</td>\n",
       "      <td>0.5698</td>\n",
       "      <td>0.577890</td>\n",
       "      <td>0.108504</td>\n",
       "      <td>0.002362</td>\n",
       "      <td>26.565893</td>\n",
       "    </tr>\n",
       "    <tr>\n",
       "      <th>27d</th>\n",
       "      <td>781</td>\n",
       "      <td>760</td>\n",
       "      <td>0.1940</td>\n",
       "      <td>0.193593</td>\n",
       "      <td>0.058397</td>\n",
       "      <td>0.002118</td>\n",
       "      <td>0.5808</td>\n",
       "      <td>0.599790</td>\n",
       "      <td>0.106323</td>\n",
       "      <td>0.003857</td>\n",
       "      <td>19.687144</td>\n",
       "    </tr>\n",
       "  </tbody>\n",
       "</table>\n",
       "</div>"
      ],
      "text/plain": [
       "        n_bursts_all  n_bursts_fret  E_kde_w  E_gauss_w  E_gauss_w_sig  \\\n",
       "sample                                                                   \n",
       "7d               667            611   0.9358   0.929582       0.053343   \n",
       "12d             1130           1104   0.7524   0.750899       0.080989   \n",
       "17d             2479           2455   0.4912   0.482385       0.099163   \n",
       "22d             2197           2110   0.2746   0.279620       0.068639   \n",
       "27d              781            760   0.1940   0.193593       0.058397   \n",
       "\n",
       "        E_gauss_w_err   S_kde   S_gauss  S_gauss_sig  S_gauss_err    nt_mean  \n",
       "sample                                                                        \n",
       "7d           0.002158  0.5766  0.570903     0.098088     0.003968  23.186875  \n",
       "12d          0.002437  0.5920  0.582839     0.100966     0.003039  23.409028  \n",
       "17d          0.002001  0.5742  0.575934     0.102965     0.002078  23.032493  \n",
       "22d          0.001494  0.5698  0.577890     0.108504     0.002362  26.565893  \n",
       "27d          0.002118  0.5808  0.599790     0.106323     0.003857  19.687144  "
      ]
     },
     "metadata": {},
     "output_type": "display_data"
    }
   ],
   "source": [
    "nb_name = 'usALEX-5samples-PR-raw-AND-gate'\n",
    "run_notebook_template(nb_name)"
   ]
  },
  {
   "cell_type": "markdown",
   "metadata": {
    "internals": {},
    "slideshow": {
     "slide_type": "-"
    }
   },
   "source": [
    "## 2. μs-ALEX: Leakage coefficient fit"
   ]
  },
  {
   "cell_type": "markdown",
   "metadata": {
    "internals": {},
    "slideshow": {
     "slide_type": "-"
    }
   },
   "source": [
    "In this section we compute the spectral leakage coefficient from the Donor-only peak positions in the Raw PR histograms.\n",
    "\n",
    "The computation is performed by [usALEX - Corrections - Leakage fit](usALEX - Corrections - Leakage fit.ipynb)\n",
    "and uses results from [usALEX-5samples-PR-raw-DexDem](usALEX-5samples-PR-raw-DexDem.ipynb) executed in the previous section."
   ]
  },
  {
   "cell_type": "code",
   "execution_count": 9,
   "metadata": {
    "collapsed": false,
    "internals": {},
    "slideshow": {
     "slide_type": "-"
    }
   },
   "outputs": [
    {
     "data": {
      "text/html": [
       "<a href='usALEX - Corrections - Leakage fit.ipynb' target='_blank'>usALEX - Corrections - Leakage fit.ipynb</a><br>"
      ],
      "text/plain": [
       "/Users/anto/Google Drive/notebooks/multispot_paper/usALEX - Corrections - Leakage fit.ipynb"
      ]
     },
     "metadata": {},
     "output_type": "display_data"
    },
    {
     "data": {
      "text/html": [
       "<a href='out_notebooks/usALEX - Corrections - Leakage fit-out.ipynb' target='_blank'>out_notebooks/usALEX - Corrections - Leakage fit-out.ipynb</a><br>"
      ],
      "text/plain": [
       "/Users/anto/Google Drive/notebooks/multispot_paper/out_notebooks/usALEX - Corrections - Leakage fit-out.ipynb"
      ]
     },
     "metadata": {},
     "output_type": "display_data"
    }
   ],
   "source": [
    "run_notebook('usALEX - Corrections - Leakage fit')"
   ]
  },
  {
   "cell_type": "markdown",
   "metadata": {
    "internals": {},
    "slideshow": {
     "slide_type": "-"
    }
   },
   "source": [
    "## 3. μs-ALEX: Direct excitation fit\n",
    "\n",
    "In this section we extract the direct excitation parameter by fitting the S peak position of the Acceptor-only population.\n",
    "\n",
    "For comparison 2 burst searches are performed:\n",
    "\n",
    "- **all-ph**: burst search on all photons\n",
    "- **AexAem**: burst search on photons during Acceptor excitation detected by the Acceptor detector (acceptor emission).\n",
    "\n",
    "The **all-ph** burst search provides less accurate results and is performed only to show the improvement of the more appropriate **AexAem** burst search."
   ]
  },
  {
   "cell_type": "markdown",
   "metadata": {
    "internals": {},
    "slideshow": {
     "slide_type": "-"
    }
   },
   "source": [
    "### 3.1 Fitting of the S peak"
   ]
  },
  {
   "cell_type": "code",
   "execution_count": 10,
   "metadata": {
    "collapsed": false,
    "internals": {},
    "slideshow": {
     "slide_type": "-"
    }
   },
   "outputs": [
    {
     "data": {
      "text/html": [
       "<a href='usALEX-5samples-PR-raw-dir_ex_aa-fit.ipynb' target='_blank'>usALEX-5samples-PR-raw-dir_ex_aa-fit.ipynb</a><br>"
      ],
      "text/plain": [
       "/Users/anto/Google Drive/notebooks/multispot_paper/usALEX-5samples-PR-raw-dir_ex_aa-fit.ipynb"
      ]
     },
     "metadata": {},
     "output_type": "display_data"
    },
    {
     "data": {
      "text/html": [
       "<a href='out_notebooks/usALEX-5samples-PR-raw-dir_ex_aa-fit-out-all-ph-7d.ipynb' target='_blank'>out_notebooks/usALEX-5samples-PR-raw-dir_ex_aa-fit-out-all-ph-7d.ipynb</a><br>"
      ],
      "text/plain": [
       "/Users/anto/Google Drive/notebooks/multispot_paper/out_notebooks/usALEX-5samples-PR-raw-dir_ex_aa-fit-out-all-ph-7d.ipynb"
      ]
     },
     "metadata": {},
     "output_type": "display_data"
    },
    {
     "data": {
      "text/html": [
       "<a href='out_notebooks/usALEX-5samples-PR-raw-dir_ex_aa-fit-out-all-ph-12d.ipynb' target='_blank'>out_notebooks/usALEX-5samples-PR-raw-dir_ex_aa-fit-out-all-ph-12d.ipynb</a><br>"
      ],
      "text/plain": [
       "/Users/anto/Google Drive/notebooks/multispot_paper/out_notebooks/usALEX-5samples-PR-raw-dir_ex_aa-fit-out-all-ph-12d.ipynb"
      ]
     },
     "metadata": {},
     "output_type": "display_data"
    },
    {
     "data": {
      "text/html": [
       "<a href='out_notebooks/usALEX-5samples-PR-raw-dir_ex_aa-fit-out-all-ph-17d.ipynb' target='_blank'>out_notebooks/usALEX-5samples-PR-raw-dir_ex_aa-fit-out-all-ph-17d.ipynb</a><br>"
      ],
      "text/plain": [
       "/Users/anto/Google Drive/notebooks/multispot_paper/out_notebooks/usALEX-5samples-PR-raw-dir_ex_aa-fit-out-all-ph-17d.ipynb"
      ]
     },
     "metadata": {},
     "output_type": "display_data"
    },
    {
     "data": {
      "text/html": [
       "<a href='out_notebooks/usALEX-5samples-PR-raw-dir_ex_aa-fit-out-all-ph-22d.ipynb' target='_blank'>out_notebooks/usALEX-5samples-PR-raw-dir_ex_aa-fit-out-all-ph-22d.ipynb</a><br>"
      ],
      "text/plain": [
       "/Users/anto/Google Drive/notebooks/multispot_paper/out_notebooks/usALEX-5samples-PR-raw-dir_ex_aa-fit-out-all-ph-22d.ipynb"
      ]
     },
     "metadata": {},
     "output_type": "display_data"
    },
    {
     "data": {
      "text/html": [
       "<a href='out_notebooks/usALEX-5samples-PR-raw-dir_ex_aa-fit-out-all-ph-27d.ipynb' target='_blank'>out_notebooks/usALEX-5samples-PR-raw-dir_ex_aa-fit-out-all-ph-27d.ipynb</a><br>"
      ],
      "text/plain": [
       "/Users/anto/Google Drive/notebooks/multispot_paper/out_notebooks/usALEX-5samples-PR-raw-dir_ex_aa-fit-out-all-ph-27d.ipynb"
      ]
     },
     "metadata": {},
     "output_type": "display_data"
    },
    {
     "data": {
      "text/html": [
       "<div>\n",
       "<table border=\"1\" class=\"dataframe\">\n",
       "  <thead>\n",
       "    <tr style=\"text-align: right;\">\n",
       "      <th></th>\n",
       "      <th>n_bursts_aa</th>\n",
       "      <th>dir_ex_S1p</th>\n",
       "      <th>dir_ex_S_kde</th>\n",
       "      <th>dir_ex_S2p</th>\n",
       "      <th>dir_ex_S2pa</th>\n",
       "      <th>dir_ex_S2p_w1</th>\n",
       "      <th>dir_ex_S_kde_w1</th>\n",
       "      <th>dir_ex_S_kde_w4</th>\n",
       "      <th>dir_ex_S_kde_w5</th>\n",
       "      <th>dir_ex_S2p_w5</th>\n",
       "      <th>dir_ex_S2p_w5a</th>\n",
       "    </tr>\n",
       "    <tr>\n",
       "      <th>sample</th>\n",
       "      <th></th>\n",
       "      <th></th>\n",
       "      <th></th>\n",
       "      <th></th>\n",
       "      <th></th>\n",
       "      <th></th>\n",
       "      <th></th>\n",
       "      <th></th>\n",
       "      <th></th>\n",
       "      <th></th>\n",
       "      <th></th>\n",
       "    </tr>\n",
       "  </thead>\n",
       "  <tbody>\n",
       "    <tr>\n",
       "      <th>7d</th>\n",
       "      <td>393</td>\n",
       "      <td>0.055183</td>\n",
       "      <td>0.067920</td>\n",
       "      <td>0.071567</td>\n",
       "      <td>0.048074</td>\n",
       "      <td>0.064032</td>\n",
       "      <td>0.067920</td>\n",
       "      <td>0.062473</td>\n",
       "      <td>0.061346</td>\n",
       "      <td>0.055097</td>\n",
       "      <td>0.046819</td>\n",
       "    </tr>\n",
       "    <tr>\n",
       "      <th>12d</th>\n",
       "      <td>169</td>\n",
       "      <td>0.048452</td>\n",
       "      <td>0.072961</td>\n",
       "      <td>0.098835</td>\n",
       "      <td>0.046837</td>\n",
       "      <td>0.091981</td>\n",
       "      <td>0.072731</td>\n",
       "      <td>0.069519</td>\n",
       "      <td>0.067692</td>\n",
       "      <td>0.076268</td>\n",
       "      <td>0.042248</td>\n",
       "    </tr>\n",
       "    <tr>\n",
       "      <th>17d</th>\n",
       "      <td>371</td>\n",
       "      <td>0.048789</td>\n",
       "      <td>0.084363</td>\n",
       "      <td>0.106637</td>\n",
       "      <td>0.060284</td>\n",
       "      <td>0.094681</td>\n",
       "      <td>0.083893</td>\n",
       "      <td>0.072501</td>\n",
       "      <td>0.065190</td>\n",
       "      <td>0.072484</td>\n",
       "      <td>0.046313</td>\n",
       "    </tr>\n",
       "    <tr>\n",
       "      <th>22d</th>\n",
       "      <td>331</td>\n",
       "      <td>0.047779</td>\n",
       "      <td>0.078516</td>\n",
       "      <td>0.090018</td>\n",
       "      <td>0.058578</td>\n",
       "      <td>0.083249</td>\n",
       "      <td>0.077818</td>\n",
       "      <td>0.070435</td>\n",
       "      <td>0.064509</td>\n",
       "      <td>0.073620</td>\n",
       "      <td>0.051089</td>\n",
       "    </tr>\n",
       "    <tr>\n",
       "      <th>27d</th>\n",
       "      <td>61</td>\n",
       "      <td>0.035500</td>\n",
       "      <td>0.040366</td>\n",
       "      <td>0.121219</td>\n",
       "      <td>0.020701</td>\n",
       "      <td>0.075456</td>\n",
       "      <td>0.040366</td>\n",
       "      <td>0.045369</td>\n",
       "      <td>0.032631</td>\n",
       "      <td>0.035625</td>\n",
       "      <td>0.003425</td>\n",
       "    </tr>\n",
       "  </tbody>\n",
       "</table>\n",
       "</div>"
      ],
      "text/plain": [
       "        n_bursts_aa  dir_ex_S1p  dir_ex_S_kde  dir_ex_S2p  dir_ex_S2pa  \\\n",
       "sample                                                                   \n",
       "7d              393    0.055183      0.067920    0.071567     0.048074   \n",
       "12d             169    0.048452      0.072961    0.098835     0.046837   \n",
       "17d             371    0.048789      0.084363    0.106637     0.060284   \n",
       "22d             331    0.047779      0.078516    0.090018     0.058578   \n",
       "27d              61    0.035500      0.040366    0.121219     0.020701   \n",
       "\n",
       "        dir_ex_S2p_w1  dir_ex_S_kde_w1  dir_ex_S_kde_w4  dir_ex_S_kde_w5  \\\n",
       "sample                                                                     \n",
       "7d           0.064032         0.067920         0.062473         0.061346   \n",
       "12d          0.091981         0.072731         0.069519         0.067692   \n",
       "17d          0.094681         0.083893         0.072501         0.065190   \n",
       "22d          0.083249         0.077818         0.070435         0.064509   \n",
       "27d          0.075456         0.040366         0.045369         0.032631   \n",
       "\n",
       "        dir_ex_S2p_w5  dir_ex_S2p_w5a  \n",
       "sample                                 \n",
       "7d           0.055097        0.046819  \n",
       "12d          0.076268        0.042248  \n",
       "17d          0.072484        0.046313  \n",
       "22d          0.073620        0.051089  \n",
       "27d          0.035625        0.003425  "
      ]
     },
     "metadata": {},
     "output_type": "display_data"
    }
   ],
   "source": [
    "nb_name = 'usALEX-5samples-PR-raw-dir_ex_aa-fit'\n",
    "run_notebook_template(nb_name, ph_sel='all-ph')"
   ]
  },
  {
   "cell_type": "code",
   "execution_count": 11,
   "metadata": {
    "collapsed": false,
    "internals": {},
    "slideshow": {
     "slide_type": "-"
    }
   },
   "outputs": [
    {
     "data": {
      "text/html": [
       "<a href='usALEX-5samples-PR-raw-dir_ex_aa-fit.ipynb' target='_blank'>usALEX-5samples-PR-raw-dir_ex_aa-fit.ipynb</a><br>"
      ],
      "text/plain": [
       "/Users/anto/Google Drive/notebooks/multispot_paper/usALEX-5samples-PR-raw-dir_ex_aa-fit.ipynb"
      ]
     },
     "metadata": {},
     "output_type": "display_data"
    },
    {
     "data": {
      "text/html": [
       "<a href='out_notebooks/usALEX-5samples-PR-raw-dir_ex_aa-fit-out-AexAem-7d.ipynb' target='_blank'>out_notebooks/usALEX-5samples-PR-raw-dir_ex_aa-fit-out-AexAem-7d.ipynb</a><br>"
      ],
      "text/plain": [
       "/Users/anto/Google Drive/notebooks/multispot_paper/out_notebooks/usALEX-5samples-PR-raw-dir_ex_aa-fit-out-AexAem-7d.ipynb"
      ]
     },
     "metadata": {},
     "output_type": "display_data"
    },
    {
     "data": {
      "text/html": [
       "<a href='out_notebooks/usALEX-5samples-PR-raw-dir_ex_aa-fit-out-AexAem-12d.ipynb' target='_blank'>out_notebooks/usALEX-5samples-PR-raw-dir_ex_aa-fit-out-AexAem-12d.ipynb</a><br>"
      ],
      "text/plain": [
       "/Users/anto/Google Drive/notebooks/multispot_paper/out_notebooks/usALEX-5samples-PR-raw-dir_ex_aa-fit-out-AexAem-12d.ipynb"
      ]
     },
     "metadata": {},
     "output_type": "display_data"
    },
    {
     "data": {
      "text/html": [
       "<a href='out_notebooks/usALEX-5samples-PR-raw-dir_ex_aa-fit-out-AexAem-17d.ipynb' target='_blank'>out_notebooks/usALEX-5samples-PR-raw-dir_ex_aa-fit-out-AexAem-17d.ipynb</a><br>"
      ],
      "text/plain": [
       "/Users/anto/Google Drive/notebooks/multispot_paper/out_notebooks/usALEX-5samples-PR-raw-dir_ex_aa-fit-out-AexAem-17d.ipynb"
      ]
     },
     "metadata": {},
     "output_type": "display_data"
    },
    {
     "data": {
      "text/html": [
       "<a href='out_notebooks/usALEX-5samples-PR-raw-dir_ex_aa-fit-out-AexAem-22d.ipynb' target='_blank'>out_notebooks/usALEX-5samples-PR-raw-dir_ex_aa-fit-out-AexAem-22d.ipynb</a><br>"
      ],
      "text/plain": [
       "/Users/anto/Google Drive/notebooks/multispot_paper/out_notebooks/usALEX-5samples-PR-raw-dir_ex_aa-fit-out-AexAem-22d.ipynb"
      ]
     },
     "metadata": {},
     "output_type": "display_data"
    },
    {
     "data": {
      "text/html": [
       "<a href='out_notebooks/usALEX-5samples-PR-raw-dir_ex_aa-fit-out-AexAem-27d.ipynb' target='_blank'>out_notebooks/usALEX-5samples-PR-raw-dir_ex_aa-fit-out-AexAem-27d.ipynb</a><br>"
      ],
      "text/plain": [
       "/Users/anto/Google Drive/notebooks/multispot_paper/out_notebooks/usALEX-5samples-PR-raw-dir_ex_aa-fit-out-AexAem-27d.ipynb"
      ]
     },
     "metadata": {},
     "output_type": "display_data"
    },
    {
     "data": {
      "text/html": [
       "<div>\n",
       "<table border=\"1\" class=\"dataframe\">\n",
       "  <thead>\n",
       "    <tr style=\"text-align: right;\">\n",
       "      <th></th>\n",
       "      <th>n_bursts_aa</th>\n",
       "      <th>dir_ex_S1p</th>\n",
       "      <th>dir_ex_S_kde</th>\n",
       "      <th>dir_ex_S2p</th>\n",
       "      <th>dir_ex_S2pa</th>\n",
       "      <th>dir_ex_S2p_w1</th>\n",
       "      <th>dir_ex_S_kde_w1</th>\n",
       "      <th>dir_ex_S_kde_w4</th>\n",
       "      <th>dir_ex_S_kde_w5</th>\n",
       "      <th>dir_ex_S2p_w5</th>\n",
       "      <th>dir_ex_S2p_w5a</th>\n",
       "    </tr>\n",
       "    <tr>\n",
       "      <th>sample</th>\n",
       "      <th></th>\n",
       "      <th></th>\n",
       "      <th></th>\n",
       "      <th></th>\n",
       "      <th></th>\n",
       "      <th></th>\n",
       "      <th></th>\n",
       "      <th></th>\n",
       "      <th></th>\n",
       "      <th></th>\n",
       "      <th></th>\n",
       "    </tr>\n",
       "  </thead>\n",
       "  <tbody>\n",
       "    <tr>\n",
       "      <th>7d</th>\n",
       "      <td>630</td>\n",
       "      <td>0.035049</td>\n",
       "      <td>0.061121</td>\n",
       "      <td>0.068715</td>\n",
       "      <td>0.060454</td>\n",
       "      <td>0.065912</td>\n",
       "      <td>0.060895</td>\n",
       "      <td>0.055075</td>\n",
       "      <td>0.053741</td>\n",
       "      <td>0.055369</td>\n",
       "      <td>0.050042</td>\n",
       "    </tr>\n",
       "    <tr>\n",
       "      <th>12d</th>\n",
       "      <td>269</td>\n",
       "      <td>0.037100</td>\n",
       "      <td>0.060445</td>\n",
       "      <td>0.092479</td>\n",
       "      <td>0.041670</td>\n",
       "      <td>0.073575</td>\n",
       "      <td>0.060445</td>\n",
       "      <td>0.057082</td>\n",
       "      <td>0.054852</td>\n",
       "      <td>0.057560</td>\n",
       "      <td>0.044884</td>\n",
       "    </tr>\n",
       "    <tr>\n",
       "      <th>17d</th>\n",
       "      <td>608</td>\n",
       "      <td>0.034677</td>\n",
       "      <td>0.083424</td>\n",
       "      <td>0.119491</td>\n",
       "      <td>0.070370</td>\n",
       "      <td>0.094961</td>\n",
       "      <td>0.082720</td>\n",
       "      <td>0.077354</td>\n",
       "      <td>0.071352</td>\n",
       "      <td>0.072895</td>\n",
       "      <td>0.174377</td>\n",
       "    </tr>\n",
       "    <tr>\n",
       "      <th>22d</th>\n",
       "      <td>433</td>\n",
       "      <td>0.026463</td>\n",
       "      <td>0.086484</td>\n",
       "      <td>0.111094</td>\n",
       "      <td>0.053768</td>\n",
       "      <td>0.082611</td>\n",
       "      <td>0.085541</td>\n",
       "      <td>0.071582</td>\n",
       "      <td>0.064283</td>\n",
       "      <td>0.061879</td>\n",
       "      <td>0.046918</td>\n",
       "    </tr>\n",
       "    <tr>\n",
       "      <th>27d</th>\n",
       "      <td>129</td>\n",
       "      <td>0.019777</td>\n",
       "      <td>0.050862</td>\n",
       "      <td>0.078734</td>\n",
       "      <td>0.040582</td>\n",
       "      <td>0.080239</td>\n",
       "      <td>0.050420</td>\n",
       "      <td>0.074807</td>\n",
       "      <td>0.043406</td>\n",
       "      <td>0.055485</td>\n",
       "      <td>0.017062</td>\n",
       "    </tr>\n",
       "  </tbody>\n",
       "</table>\n",
       "</div>"
      ],
      "text/plain": [
       "        n_bursts_aa  dir_ex_S1p  dir_ex_S_kde  dir_ex_S2p  dir_ex_S2pa  \\\n",
       "sample                                                                   \n",
       "7d              630    0.035049      0.061121    0.068715     0.060454   \n",
       "12d             269    0.037100      0.060445    0.092479     0.041670   \n",
       "17d             608    0.034677      0.083424    0.119491     0.070370   \n",
       "22d             433    0.026463      0.086484    0.111094     0.053768   \n",
       "27d             129    0.019777      0.050862    0.078734     0.040582   \n",
       "\n",
       "        dir_ex_S2p_w1  dir_ex_S_kde_w1  dir_ex_S_kde_w4  dir_ex_S_kde_w5  \\\n",
       "sample                                                                     \n",
       "7d           0.065912         0.060895         0.055075         0.053741   \n",
       "12d          0.073575         0.060445         0.057082         0.054852   \n",
       "17d          0.094961         0.082720         0.077354         0.071352   \n",
       "22d          0.082611         0.085541         0.071582         0.064283   \n",
       "27d          0.080239         0.050420         0.074807         0.043406   \n",
       "\n",
       "        dir_ex_S2p_w5  dir_ex_S2p_w5a  \n",
       "sample                                 \n",
       "7d           0.055369        0.050042  \n",
       "12d          0.057560        0.044884  \n",
       "17d          0.072895        0.174377  \n",
       "22d          0.061879        0.046918  \n",
       "27d          0.055485        0.017062  "
      ]
     },
     "metadata": {},
     "output_type": "display_data"
    }
   ],
   "source": [
    "nb_name = 'usALEX-5samples-PR-raw-dir_ex_aa-fit'\n",
    "run_notebook_template(nb_name, ph_sel='AexAem')"
   ]
  },
  {
   "cell_type": "markdown",
   "metadata": {
    "internals": {},
    "slideshow": {
     "slide_type": "-"
    }
   },
   "source": [
    "### 3.2 Computation of the direct excitation coefficient\n",
    "\n",
    "The notebook [usALEX - Corrections - Direct excitation fit](usALEX - Corrections - Direct excitation fit.ipynb) computes the direct excitation coefficient performing an average of the values extracted from each single measurement:"
   ]
  },
  {
   "cell_type": "code",
   "execution_count": 14,
   "metadata": {
    "collapsed": false,
    "internals": {},
    "slideshow": {
     "slide_type": "-"
    }
   },
   "outputs": [
    {
     "data": {
      "text/html": [
       "<a href='usALEX - Corrections - Direct excitation fit.ipynb' target='_blank'>usALEX - Corrections - Direct excitation fit.ipynb</a><br>"
      ],
      "text/plain": [
       "/Users/anto/Google Drive/notebooks/multispot_paper/usALEX - Corrections - Direct excitation fit.ipynb"
      ]
     },
     "metadata": {},
     "output_type": "display_data"
    },
    {
     "data": {
      "text/html": [
       "<a href='out_notebooks/usALEX - Corrections - Direct excitation fit-out.ipynb' target='_blank'>out_notebooks/usALEX - Corrections - Direct excitation fit-out.ipynb</a><br>"
      ],
      "text/plain": [
       "/Users/anto/Google Drive/notebooks/multispot_paper/out_notebooks/usALEX - Corrections - Direct excitation fit-out.ipynb"
      ]
     },
     "metadata": {},
     "output_type": "display_data"
    }
   ],
   "source": [
    "run_notebook('usALEX - Corrections - Direct excitation fit')"
   ]
  },
  {
   "cell_type": "markdown",
   "metadata": {
    "internals": {},
    "slideshow": {
     "slide_type": "-"
    }
   },
   "source": [
    "## 4. μs-ALEX: $\\gamma$-factor fit\n",
    "\n",
    "In this section we compute the $\\gamma$-factor for the μs-ALEX measurements.\n",
    "\n",
    "First we reprocess the μs-ALEX measurements including background, leakage and direct excitation correction (standard PR). Then, for the fitted $E$ and $S$ peak position for the FRET population we fit the $\\gamma$-factor."
   ]
  },
  {
   "cell_type": "markdown",
   "metadata": {
    "internals": {},
    "slideshow": {
     "slide_type": "-"
    }
   },
   "source": [
    "### 4.1: Proximity Ratio analysis"
   ]
  },
  {
   "cell_type": "code",
   "execution_count": 18,
   "metadata": {
    "collapsed": false,
    "internals": {},
    "slideshow": {
     "slide_type": "-"
    }
   },
   "outputs": [
    {
     "data": {
      "text/html": [
       "<a href='usALEX-5samples-PR-leakage-dir-ex-all-ph.ipynb' target='_blank'>usALEX-5samples-PR-leakage-dir-ex-all-ph.ipynb</a><br>"
      ],
      "text/plain": [
       "/Users/anto/Google Drive/notebooks/multispot_paper/usALEX-5samples-PR-leakage-dir-ex-all-ph.ipynb"
      ]
     },
     "metadata": {},
     "output_type": "display_data"
    },
    {
     "data": {
      "text/html": [
       "<a href='out_notebooks/usALEX-5samples-PR-leakage-dir-ex-all-ph-out-7d.ipynb' target='_blank'>out_notebooks/usALEX-5samples-PR-leakage-dir-ex-all-ph-out-7d.ipynb</a><br>"
      ],
      "text/plain": [
       "/Users/anto/Google Drive/notebooks/multispot_paper/out_notebooks/usALEX-5samples-PR-leakage-dir-ex-all-ph-out-7d.ipynb"
      ]
     },
     "metadata": {},
     "output_type": "display_data"
    },
    {
     "data": {
      "text/html": [
       "<a href='out_notebooks/usALEX-5samples-PR-leakage-dir-ex-all-ph-out-12d.ipynb' target='_blank'>out_notebooks/usALEX-5samples-PR-leakage-dir-ex-all-ph-out-12d.ipynb</a><br>"
      ],
      "text/plain": [
       "/Users/anto/Google Drive/notebooks/multispot_paper/out_notebooks/usALEX-5samples-PR-leakage-dir-ex-all-ph-out-12d.ipynb"
      ]
     },
     "metadata": {},
     "output_type": "display_data"
    },
    {
     "data": {
      "text/html": [
       "<a href='out_notebooks/usALEX-5samples-PR-leakage-dir-ex-all-ph-out-17d.ipynb' target='_blank'>out_notebooks/usALEX-5samples-PR-leakage-dir-ex-all-ph-out-17d.ipynb</a><br>"
      ],
      "text/plain": [
       "/Users/anto/Google Drive/notebooks/multispot_paper/out_notebooks/usALEX-5samples-PR-leakage-dir-ex-all-ph-out-17d.ipynb"
      ]
     },
     "metadata": {},
     "output_type": "display_data"
    },
    {
     "data": {
      "text/html": [
       "<a href='out_notebooks/usALEX-5samples-PR-leakage-dir-ex-all-ph-out-22d.ipynb' target='_blank'>out_notebooks/usALEX-5samples-PR-leakage-dir-ex-all-ph-out-22d.ipynb</a><br>"
      ],
      "text/plain": [
       "/Users/anto/Google Drive/notebooks/multispot_paper/out_notebooks/usALEX-5samples-PR-leakage-dir-ex-all-ph-out-22d.ipynb"
      ]
     },
     "metadata": {},
     "output_type": "display_data"
    },
    {
     "data": {
      "text/html": [
       "<a href='out_notebooks/usALEX-5samples-PR-leakage-dir-ex-all-ph-out-27d.ipynb' target='_blank'>out_notebooks/usALEX-5samples-PR-leakage-dir-ex-all-ph-out-27d.ipynb</a><br>"
      ],
      "text/plain": [
       "/Users/anto/Google Drive/notebooks/multispot_paper/out_notebooks/usALEX-5samples-PR-leakage-dir-ex-all-ph-out-27d.ipynb"
      ]
     },
     "metadata": {},
     "output_type": "display_data"
    },
    {
     "data": {
      "text/html": [
       "<div>\n",
       "<table border=\"1\" class=\"dataframe\">\n",
       "  <thead>\n",
       "    <tr style=\"text-align: right;\">\n",
       "      <th></th>\n",
       "      <th>n_bursts_all</th>\n",
       "      <th>n_bursts_do</th>\n",
       "      <th>n_bursts_fret</th>\n",
       "      <th>E_kde_w</th>\n",
       "      <th>E_gauss_w</th>\n",
       "      <th>E_gauss_w_sig</th>\n",
       "      <th>E_gauss_w_err</th>\n",
       "      <th>S_kde</th>\n",
       "      <th>S_gauss</th>\n",
       "      <th>S_gauss_sig</th>\n",
       "      <th>S_gauss_err</th>\n",
       "      <th>E_pr_do_kde</th>\n",
       "      <th>nt_mean</th>\n",
       "    </tr>\n",
       "    <tr>\n",
       "      <th>sample</th>\n",
       "      <th></th>\n",
       "      <th></th>\n",
       "      <th></th>\n",
       "      <th></th>\n",
       "      <th></th>\n",
       "      <th></th>\n",
       "      <th></th>\n",
       "      <th></th>\n",
       "      <th></th>\n",
       "      <th></th>\n",
       "      <th></th>\n",
       "      <th></th>\n",
       "      <th></th>\n",
       "    </tr>\n",
       "  </thead>\n",
       "  <tbody>\n",
       "    <tr>\n",
       "      <th>7d</th>\n",
       "      <td>1172</td>\n",
       "      <td>586</td>\n",
       "      <td>543</td>\n",
       "      <td>0.9304</td>\n",
       "      <td>0.925842</td>\n",
       "      <td>0.059539</td>\n",
       "      <td>0.002555</td>\n",
       "      <td>0.5512</td>\n",
       "      <td>0.550639</td>\n",
       "      <td>0.099496</td>\n",
       "      <td>0.004270</td>\n",
       "      <td>2.000000e-03</td>\n",
       "      <td>22.227651</td>\n",
       "    </tr>\n",
       "    <tr>\n",
       "      <th>12d</th>\n",
       "      <td>1307</td>\n",
       "      <td>329</td>\n",
       "      <td>948</td>\n",
       "      <td>0.7440</td>\n",
       "      <td>0.731546</td>\n",
       "      <td>0.091896</td>\n",
       "      <td>0.002985</td>\n",
       "      <td>0.5748</td>\n",
       "      <td>0.557524</td>\n",
       "      <td>0.105052</td>\n",
       "      <td>0.003412</td>\n",
       "      <td>1.600000e-02</td>\n",
       "      <td>22.002177</td>\n",
       "    </tr>\n",
       "    <tr>\n",
       "      <th>17d</th>\n",
       "      <td>2489</td>\n",
       "      <td>463</td>\n",
       "      <td>1964</td>\n",
       "      <td>0.4320</td>\n",
       "      <td>0.427115</td>\n",
       "      <td>0.113675</td>\n",
       "      <td>0.002565</td>\n",
       "      <td>0.5434</td>\n",
       "      <td>0.537124</td>\n",
       "      <td>0.112882</td>\n",
       "      <td>0.002547</td>\n",
       "      <td>1.280000e-02</td>\n",
       "      <td>21.192847</td>\n",
       "    </tr>\n",
       "    <tr>\n",
       "      <th>22d</th>\n",
       "      <td>2054</td>\n",
       "      <td>319</td>\n",
       "      <td>1673</td>\n",
       "      <td>0.1804</td>\n",
       "      <td>0.184215</td>\n",
       "      <td>0.078951</td>\n",
       "      <td>0.001930</td>\n",
       "      <td>0.5414</td>\n",
       "      <td>0.542855</td>\n",
       "      <td>0.114988</td>\n",
       "      <td>0.002811</td>\n",
       "      <td>5.717649e-15</td>\n",
       "      <td>23.016139</td>\n",
       "    </tr>\n",
       "    <tr>\n",
       "      <th>27d</th>\n",
       "      <td>791</td>\n",
       "      <td>160</td>\n",
       "      <td>590</td>\n",
       "      <td>0.0844</td>\n",
       "      <td>0.085181</td>\n",
       "      <td>0.070168</td>\n",
       "      <td>0.002889</td>\n",
       "      <td>0.5160</td>\n",
       "      <td>0.556065</td>\n",
       "      <td>0.115220</td>\n",
       "      <td>0.004744</td>\n",
       "      <td>-8.800000e-03</td>\n",
       "      <td>16.829689</td>\n",
       "    </tr>\n",
       "  </tbody>\n",
       "</table>\n",
       "</div>"
      ],
      "text/plain": [
       "        n_bursts_all  n_bursts_do  n_bursts_fret  E_kde_w  E_gauss_w  \\\n",
       "sample                                                                 \n",
       "7d              1172          586            543   0.9304   0.925842   \n",
       "12d             1307          329            948   0.7440   0.731546   \n",
       "17d             2489          463           1964   0.4320   0.427115   \n",
       "22d             2054          319           1673   0.1804   0.184215   \n",
       "27d              791          160            590   0.0844   0.085181   \n",
       "\n",
       "        E_gauss_w_sig  E_gauss_w_err   S_kde   S_gauss  S_gauss_sig  \\\n",
       "sample                                                                \n",
       "7d           0.059539       0.002555  0.5512  0.550639     0.099496   \n",
       "12d          0.091896       0.002985  0.5748  0.557524     0.105052   \n",
       "17d          0.113675       0.002565  0.5434  0.537124     0.112882   \n",
       "22d          0.078951       0.001930  0.5414  0.542855     0.114988   \n",
       "27d          0.070168       0.002889  0.5160  0.556065     0.115220   \n",
       "\n",
       "        S_gauss_err   E_pr_do_kde    nt_mean  \n",
       "sample                                        \n",
       "7d         0.004270  2.000000e-03  22.227651  \n",
       "12d        0.003412  1.600000e-02  22.002177  \n",
       "17d        0.002547  1.280000e-02  21.192847  \n",
       "22d        0.002811  5.717649e-15  23.016139  \n",
       "27d        0.004744 -8.800000e-03  16.829689  "
      ]
     },
     "metadata": {},
     "output_type": "display_data"
    }
   ],
   "source": [
    "nb_name = 'usALEX-5samples-PR-leakage-dir-ex-all-ph'\n",
    "run_notebook_template(nb_name)"
   ]
  },
  {
   "cell_type": "markdown",
   "metadata": {
    "internals": {},
    "slideshow": {
     "slide_type": "-"
    }
   },
   "source": [
    "### 4.2 $\\gamma$-factor fit\n",
    "\n",
    "The notebook [usALEX - Corrections - Gamma factor fit](usALEX - Corrections - Gamma factor fit.ipynb)\n",
    "fits the $\\gamma$-factor from $E$ and $S$ values computed in the previous section."
   ]
  },
  {
   "cell_type": "code",
   "execution_count": 24,
   "metadata": {
    "collapsed": false,
    "internals": {},
    "slideshow": {
     "slide_type": "-"
    }
   },
   "outputs": [
    {
     "data": {
      "text/html": [
       "<a href='usALEX - Corrections - Gamma factor fit.ipynb' target='_blank'>usALEX - Corrections - Gamma factor fit.ipynb</a><br>"
      ],
      "text/plain": [
       "/Users/anto/Google Drive/notebooks/multispot_paper/usALEX - Corrections - Gamma factor fit.ipynb"
      ]
     },
     "metadata": {},
     "output_type": "display_data"
    },
    {
     "data": {
      "text/html": [
       "<a href='out_notebooks/usALEX - Corrections - Gamma factor fit-out.ipynb' target='_blank'>out_notebooks/usALEX - Corrections - Gamma factor fit-out.ipynb</a><br>"
      ],
      "text/plain": [
       "/Users/anto/Google Drive/notebooks/multispot_paper/out_notebooks/usALEX - Corrections - Gamma factor fit-out.ipynb"
      ]
     },
     "metadata": {},
     "output_type": "display_data"
    }
   ],
   "source": [
    "run_notebook('usALEX - Corrections - Gamma factor fit')"
   ]
  },
  {
   "cell_type": "code",
   "execution_count": 22,
   "metadata": {
    "collapsed": true
   },
   "outputs": [],
   "source": [
    "!say done"
   ]
  },
  {
   "cell_type": "markdown",
   "metadata": {
    "internals": {},
    "slideshow": {
     "slide_type": "-"
    }
   },
   "source": [
    "## 5. μs-ALEX: Corrected E analysis\n",
    "\n",
    "Using all the correction coefficients here we computed the corrected $E$ histograms:"
   ]
  },
  {
   "cell_type": "code",
   "execution_count": 25,
   "metadata": {
    "collapsed": false,
    "internals": {},
    "slideshow": {
     "slide_type": "-"
    }
   },
   "outputs": [
    {
     "data": {
      "text/html": [
       "<a href='usALEX-5samples-E-corrected-all-ph.ipynb' target='_blank'>usALEX-5samples-E-corrected-all-ph.ipynb</a><br>"
      ],
      "text/plain": [
       "/Users/anto/Google Drive/notebooks/multispot_paper/usALEX-5samples-E-corrected-all-ph.ipynb"
      ]
     },
     "metadata": {},
     "output_type": "display_data"
    },
    {
     "data": {
      "text/html": [
       "<a href='out_notebooks/usALEX-5samples-E-corrected-all-ph-out-7d.ipynb' target='_blank'>out_notebooks/usALEX-5samples-E-corrected-all-ph-out-7d.ipynb</a><br>"
      ],
      "text/plain": [
       "/Users/anto/Google Drive/notebooks/multispot_paper/out_notebooks/usALEX-5samples-E-corrected-all-ph-out-7d.ipynb"
      ]
     },
     "metadata": {},
     "output_type": "display_data"
    },
    {
     "data": {
      "text/html": [
       "<a href='out_notebooks/usALEX-5samples-E-corrected-all-ph-out-12d.ipynb' target='_blank'>out_notebooks/usALEX-5samples-E-corrected-all-ph-out-12d.ipynb</a><br>"
      ],
      "text/plain": [
       "/Users/anto/Google Drive/notebooks/multispot_paper/out_notebooks/usALEX-5samples-E-corrected-all-ph-out-12d.ipynb"
      ]
     },
     "metadata": {},
     "output_type": "display_data"
    },
    {
     "data": {
      "text/html": [
       "<a href='out_notebooks/usALEX-5samples-E-corrected-all-ph-out-17d.ipynb' target='_blank'>out_notebooks/usALEX-5samples-E-corrected-all-ph-out-17d.ipynb</a><br>"
      ],
      "text/plain": [
       "/Users/anto/Google Drive/notebooks/multispot_paper/out_notebooks/usALEX-5samples-E-corrected-all-ph-out-17d.ipynb"
      ]
     },
     "metadata": {},
     "output_type": "display_data"
    },
    {
     "data": {
      "text/html": [
       "<a href='out_notebooks/usALEX-5samples-E-corrected-all-ph-out-22d.ipynb' target='_blank'>out_notebooks/usALEX-5samples-E-corrected-all-ph-out-22d.ipynb</a><br>"
      ],
      "text/plain": [
       "/Users/anto/Google Drive/notebooks/multispot_paper/out_notebooks/usALEX-5samples-E-corrected-all-ph-out-22d.ipynb"
      ]
     },
     "metadata": {},
     "output_type": "display_data"
    },
    {
     "data": {
      "text/html": [
       "<a href='out_notebooks/usALEX-5samples-E-corrected-all-ph-out-27d.ipynb' target='_blank'>out_notebooks/usALEX-5samples-E-corrected-all-ph-out-27d.ipynb</a><br>"
      ],
      "text/plain": [
       "/Users/anto/Google Drive/notebooks/multispot_paper/out_notebooks/usALEX-5samples-E-corrected-all-ph-out-27d.ipynb"
      ]
     },
     "metadata": {},
     "output_type": "display_data"
    },
    {
     "data": {
      "text/html": [
       "<div>\n",
       "<table border=\"1\" class=\"dataframe\">\n",
       "  <thead>\n",
       "    <tr style=\"text-align: right;\">\n",
       "      <th></th>\n",
       "      <th>n_bursts_all</th>\n",
       "      <th>n_bursts_do</th>\n",
       "      <th>n_bursts_fret</th>\n",
       "      <th>E_kde_w</th>\n",
       "      <th>E_gauss_w</th>\n",
       "      <th>E_gauss_w_sig</th>\n",
       "      <th>E_gauss_w_err</th>\n",
       "      <th>S_kde</th>\n",
       "      <th>S_gauss</th>\n",
       "      <th>S_gauss_sig</th>\n",
       "      <th>S_gauss_err</th>\n",
       "      <th>E_pr_do_kde</th>\n",
       "      <th>nt_mean</th>\n",
       "    </tr>\n",
       "    <tr>\n",
       "      <th>sample</th>\n",
       "      <th></th>\n",
       "      <th></th>\n",
       "      <th></th>\n",
       "      <th></th>\n",
       "      <th></th>\n",
       "      <th></th>\n",
       "      <th></th>\n",
       "      <th></th>\n",
       "      <th></th>\n",
       "      <th></th>\n",
       "      <th></th>\n",
       "      <th></th>\n",
       "      <th></th>\n",
       "    </tr>\n",
       "  </thead>\n",
       "  <tbody>\n",
       "    <tr>\n",
       "      <th>7d</th>\n",
       "      <td>1172</td>\n",
       "      <td>587</td>\n",
       "      <td>542</td>\n",
       "      <td>0.9290</td>\n",
       "      <td>0.924307</td>\n",
       "      <td>0.060130</td>\n",
       "      <td>0.002583</td>\n",
       "      <td>0.5520</td>\n",
       "      <td>0.550744</td>\n",
       "      <td>0.099172</td>\n",
       "      <td>0.004260</td>\n",
       "      <td>2.200000e-03</td>\n",
       "      <td>22.227651</td>\n",
       "    </tr>\n",
       "    <tr>\n",
       "      <th>12d</th>\n",
       "      <td>1307</td>\n",
       "      <td>329</td>\n",
       "      <td>948</td>\n",
       "      <td>0.7398</td>\n",
       "      <td>0.727043</td>\n",
       "      <td>0.092062</td>\n",
       "      <td>0.002990</td>\n",
       "      <td>0.5758</td>\n",
       "      <td>0.558745</td>\n",
       "      <td>0.105387</td>\n",
       "      <td>0.003423</td>\n",
       "      <td>1.540000e-02</td>\n",
       "      <td>22.002177</td>\n",
       "    </tr>\n",
       "    <tr>\n",
       "      <th>17d</th>\n",
       "      <td>2489</td>\n",
       "      <td>464</td>\n",
       "      <td>1964</td>\n",
       "      <td>0.4268</td>\n",
       "      <td>0.422624</td>\n",
       "      <td>0.112952</td>\n",
       "      <td>0.002549</td>\n",
       "      <td>0.5462</td>\n",
       "      <td>0.539571</td>\n",
       "      <td>0.112486</td>\n",
       "      <td>0.002538</td>\n",
       "      <td>1.240000e-02</td>\n",
       "      <td>21.192847</td>\n",
       "    </tr>\n",
       "    <tr>\n",
       "      <th>22d</th>\n",
       "      <td>2054</td>\n",
       "      <td>320</td>\n",
       "      <td>1672</td>\n",
       "      <td>0.1774</td>\n",
       "      <td>0.181067</td>\n",
       "      <td>0.077181</td>\n",
       "      <td>0.001888</td>\n",
       "      <td>0.5458</td>\n",
       "      <td>0.547034</td>\n",
       "      <td>0.114990</td>\n",
       "      <td>0.002812</td>\n",
       "      <td>5.717649e-15</td>\n",
       "      <td>23.016139</td>\n",
       "    </tr>\n",
       "    <tr>\n",
       "      <th>27d</th>\n",
       "      <td>791</td>\n",
       "      <td>160</td>\n",
       "      <td>589</td>\n",
       "      <td>0.0826</td>\n",
       "      <td>0.083971</td>\n",
       "      <td>0.069304</td>\n",
       "      <td>0.002856</td>\n",
       "      <td>0.5208</td>\n",
       "      <td>0.561290</td>\n",
       "      <td>0.114456</td>\n",
       "      <td>0.004716</td>\n",
       "      <td>-8.800000e-03</td>\n",
       "      <td>16.829689</td>\n",
       "    </tr>\n",
       "  </tbody>\n",
       "</table>\n",
       "</div>"
      ],
      "text/plain": [
       "        n_bursts_all  n_bursts_do  n_bursts_fret  E_kde_w  E_gauss_w  \\\n",
       "sample                                                                 \n",
       "7d              1172          587            542   0.9290   0.924307   \n",
       "12d             1307          329            948   0.7398   0.727043   \n",
       "17d             2489          464           1964   0.4268   0.422624   \n",
       "22d             2054          320           1672   0.1774   0.181067   \n",
       "27d              791          160            589   0.0826   0.083971   \n",
       "\n",
       "        E_gauss_w_sig  E_gauss_w_err   S_kde   S_gauss  S_gauss_sig  \\\n",
       "sample                                                                \n",
       "7d           0.060130       0.002583  0.5520  0.550744     0.099172   \n",
       "12d          0.092062       0.002990  0.5758  0.558745     0.105387   \n",
       "17d          0.112952       0.002549  0.5462  0.539571     0.112486   \n",
       "22d          0.077181       0.001888  0.5458  0.547034     0.114990   \n",
       "27d          0.069304       0.002856  0.5208  0.561290     0.114456   \n",
       "\n",
       "        S_gauss_err   E_pr_do_kde    nt_mean  \n",
       "sample                                        \n",
       "7d         0.004260  2.200000e-03  22.227651  \n",
       "12d        0.003423  1.540000e-02  22.002177  \n",
       "17d        0.002538  1.240000e-02  21.192847  \n",
       "22d        0.002812  5.717649e-15  23.016139  \n",
       "27d        0.004716 -8.800000e-03  16.829689  "
      ]
     },
     "metadata": {},
     "output_type": "display_data"
    }
   ],
   "source": [
    "nb_name = 'usALEX-5samples-E-corrected-all-ph'\n",
    "run_notebook_template(nb_name)"
   ]
  },
  {
   "cell_type": "markdown",
   "metadata": {
    "internals": {},
    "slideshow": {
     "slide_type": "-"
    }
   },
   "source": [
    "## 6. Direct excitation: physical parameter\n",
    "\n",
    "Here we compute the \"physical\" direct direct excitation coefficient:\n",
    "\n",
    "$$ d_{exT} = \\frac{\\sigma_{A532}}{\\sigma_{D532}}$$\n",
    "\n",
    "This coefficient is based only on physical dyes properties and it can therefore applied to non-ALEX measurements. For details see:\n",
    "\n",
    "- [usALEX - Corrections - Direct excitation physical parameter](usALEX - Corrections - Direct excitation physical parameter.ipynb)"
   ]
  },
  {
   "cell_type": "code",
   "execution_count": 17,
   "metadata": {
    "collapsed": false,
    "internals": {},
    "slideshow": {
     "slide_type": "-"
    }
   },
   "outputs": [
    {
     "data": {
      "text/html": [
       "<a href='usALEX - Corrections - Direct excitation physical parameter.ipynb' target='_blank'>usALEX - Corrections - Direct excitation physical parameter.ipynb</a><br>"
      ],
      "text/plain": [
       "C:\\Data\\Antonio\\software\\src\\multispot_paper - new\\usALEX - Corrections - Direct excitation physical parameter.ipynb"
      ]
     },
     "metadata": {},
     "output_type": "display_data"
    },
    {
     "data": {
      "text/html": [
       "<a href='out_notebooks/usALEX - Corrections - Direct excitation physical parameter-out.ipynb' target='_blank'>out_notebooks/usALEX - Corrections - Direct excitation physical parameter-out.ipynb</a><br>"
      ],
      "text/plain": [
       "C:\\Data\\Antonio\\software\\src\\multispot_paper - new\\out_notebooks\\usALEX - Corrections - Direct excitation physical parameter-out.ipynb"
      ]
     },
     "metadata": {},
     "output_type": "display_data"
    }
   ],
   "source": [
    "run_notebook('usALEX - Corrections - Direct excitation physical parameter')"
   ]
  },
  {
   "cell_type": "markdown",
   "metadata": {
    "internals": {},
    "slideshow": {
     "slide_type": "-"
    }
   },
   "source": [
    "## 7. Multi-spot analysis"
   ]
  },
  {
   "cell_type": "markdown",
   "metadata": {
    "internals": {},
    "slideshow": {
     "slide_type": "-"
    }
   },
   "source": [
    "### 7.1 DCR and background"
   ]
  },
  {
   "cell_type": "markdown",
   "metadata": {
    "internals": {},
    "slideshow": {
     "slide_type": "-"
    }
   },
   "source": [
    "Plot background fits:"
   ]
  },
  {
   "cell_type": "code",
   "execution_count": 18,
   "metadata": {
    "collapsed": false,
    "internals": {},
    "slideshow": {
     "slide_type": "-"
    }
   },
   "outputs": [
    {
     "data": {
      "text/html": [
       "<a href='Multi-spot 5-Samples analysis - Background.ipynb' target='_blank'>Multi-spot 5-Samples analysis - Background.ipynb</a><br>"
      ],
      "text/plain": [
       "C:\\Data\\Antonio\\software\\src\\multispot_paper - new\\Multi-spot 5-Samples analysis - Background.ipynb"
      ]
     },
     "metadata": {},
     "output_type": "display_data"
    },
    {
     "data": {
      "text/html": [
       "<a href='out_notebooks/Multi-spot 5-Samples analysis - Background-out.ipynb' target='_blank'>out_notebooks/Multi-spot 5-Samples analysis - Background-out.ipynb</a><br>"
      ],
      "text/plain": [
       "C:\\Data\\Antonio\\software\\src\\multispot_paper - new\\out_notebooks\\Multi-spot 5-Samples analysis - Background-out.ipynb"
      ]
     },
     "metadata": {},
     "output_type": "display_data"
    }
   ],
   "source": [
    "run_notebook('Multi-spot 5-Samples analysis - Background')"
   ]
  },
  {
   "cell_type": "markdown",
   "metadata": {
    "internals": {},
    "slideshow": {
     "slide_type": "-"
    }
   },
   "source": [
    "Compute detectors DCR:"
   ]
  },
  {
   "cell_type": "code",
   "execution_count": 19,
   "metadata": {
    "collapsed": false,
    "internals": {},
    "slideshow": {
     "slide_type": "-"
    }
   },
   "outputs": [
    {
     "data": {
      "text/html": [
       "<a href='8-pixel DCR.ipynb' target='_blank'>8-pixel DCR.ipynb</a><br>"
      ],
      "text/plain": [
       "C:\\Data\\Antonio\\software\\src\\multispot_paper - new\\8-pixel DCR.ipynb"
      ]
     },
     "metadata": {},
     "output_type": "display_data"
    },
    {
     "data": {
      "text/html": [
       "<a href='out_notebooks/8-pixel DCR-out.ipynb' target='_blank'>out_notebooks/8-pixel DCR-out.ipynb</a><br>"
      ],
      "text/plain": [
       "C:\\Data\\Antonio\\software\\src\\multispot_paper - new\\out_notebooks\\8-pixel DCR-out.ipynb"
      ]
     },
     "metadata": {},
     "output_type": "display_data"
    }
   ],
   "source": [
    "run_notebook('8-pixel DCR')"
   ]
  },
  {
   "cell_type": "markdown",
   "metadata": {
    "internals": {},
    "slideshow": {
     "slide_type": "-"
    }
   },
   "source": [
    "### 7.2 Leakage coefficient\n",
    "\n",
    "First step of the analysis of the multi-spot data is fitting the leakage coefficient. This is perfomed by the notebook\n",
    "\n",
    "* [Multi-spot 5-Samples analysis - Leakage coefficient fit](Multi-spot 5-Samples analysis - Leakage coefficient fit.ipynb)\n",
    "\n",
    "that outputs these 3 text files:\n",
    "\n",
    "- [Multi-spot - leakage coefficient Dem.txt](results/Multi-spot - leakage coefficient Dem.txt) *(all-ch, all-samples mean)*\n",
    "- [Multi-spot - leakage coefficient mean per-sample Dem.txt](results/Multi-spot - leakage coefficient mean per-sample Dem.txt)\n",
    "- [Multi-spot - leakage coefficient mean per-ch Dem.txt](results/Multi-spot - leakage coefficient mean per-ch Dem.txt)"
   ]
  },
  {
   "cell_type": "code",
   "execution_count": 20,
   "metadata": {
    "collapsed": false,
    "internals": {},
    "slideshow": {
     "slide_type": "-"
    }
   },
   "outputs": [
    {
     "data": {
      "text/html": [
       "<a href='Multi-spot 5-Samples analysis - Leakage coefficient fit.ipynb' target='_blank'>Multi-spot 5-Samples analysis - Leakage coefficient fit.ipynb</a><br>"
      ],
      "text/plain": [
       "C:\\Data\\Antonio\\software\\src\\multispot_paper - new\\Multi-spot 5-Samples analysis - Leakage coefficient fit.ipynb"
      ]
     },
     "metadata": {},
     "output_type": "display_data"
    },
    {
     "data": {
      "text/html": [
       "<a href='out_notebooks/Multi-spot 5-Samples analysis - Leakage coefficient fit-out.ipynb' target='_blank'>out_notebooks/Multi-spot 5-Samples analysis - Leakage coefficient fit-out.ipynb</a><br>"
      ],
      "text/plain": [
       "C:\\Data\\Antonio\\software\\src\\multispot_paper - new\\out_notebooks\\Multi-spot 5-Samples analysis - Leakage coefficient fit-out.ipynb"
      ]
     },
     "metadata": {},
     "output_type": "display_data"
    }
   ],
   "source": [
    "run_notebook('Multi-spot 5-Samples analysis - Leakage coefficient fit')"
   ]
  },
  {
   "cell_type": "markdown",
   "metadata": {
    "internals": {},
    "slideshow": {
     "slide_type": "-"
    }
   },
   "source": [
    "### 7.3 PR and FRET analysis"
   ]
  },
  {
   "cell_type": "markdown",
   "metadata": {
    "internals": {},
    "slideshow": {
     "slide_type": "-"
    }
   },
   "source": [
    "Then we perform the complete analysis by running:\n",
    "\n",
    "* [Multi-spot 5-Samples analysis - PR-raw](Multi-spot 5-Samples analysis - PR-raw.ipynb) "
   ]
  },
  {
   "cell_type": "code",
   "execution_count": 21,
   "metadata": {
    "collapsed": false,
    "internals": {},
    "slideshow": {
     "slide_type": "-"
    }
   },
   "outputs": [
    {
     "data": {
      "text/html": [
       "<a href='Multi-spot 5-Samples analysis - PR-raw.ipynb' target='_blank'>Multi-spot 5-Samples analysis - PR-raw.ipynb</a><br>"
      ],
      "text/plain": [
       "C:\\Data\\Antonio\\software\\src\\multispot_paper - new\\Multi-spot 5-Samples analysis - PR-raw.ipynb"
      ]
     },
     "metadata": {},
     "output_type": "display_data"
    },
    {
     "name": "stdout",
     "output_type": "stream",
     "text": [
      "Error executing the notebook \"Multi-spot 5-Samples analysis - PR-raw\".\n",
      "\n",
      "See notebook \"out_notebooks/Multi-spot 5-Samples analysis - PR-raw-out.ipynb\" for the traceback.\n"
     ]
    },
    {
     "data": {
      "text/html": [
       "<a href='out_notebooks/Multi-spot 5-Samples analysis - PR-raw-out.ipynb' target='_blank'>out_notebooks/Multi-spot 5-Samples analysis - PR-raw-out.ipynb</a><br>"
      ],
      "text/plain": [
       "C:\\Data\\Antonio\\software\\src\\multispot_paper - new\\out_notebooks\\Multi-spot 5-Samples analysis - PR-raw-out.ipynb"
      ]
     },
     "metadata": {},
     "output_type": "display_data"
    },
    {
     "ename": "CellExecutionError",
     "evalue": "An error occurred while executing the following cell:\n------------------\nstop\n------------------\n\nNameError: name 'stop' is not defined\n",
     "output_type": "error",
     "traceback": [
      "\u001b[1;31m---------------------------------------------------------------------------\u001b[0m",
      "\u001b[1;31mCellExecutionError\u001b[0m                        Traceback (most recent call last)",
      "\u001b[1;32m<ipython-input-21-72c9301fd6c1>\u001b[0m in \u001b[0;36m<module>\u001b[1;34m()\u001b[0m\n\u001b[1;32m----> 1\u001b[1;33m \u001b[0mrun_notebook\u001b[0m\u001b[1;33m(\u001b[0m\u001b[1;34m'Multi-spot 5-Samples analysis - PR-raw'\u001b[0m\u001b[1;33m)\u001b[0m\u001b[1;33m\u001b[0m\u001b[0m\n\u001b[0m",
      "\u001b[1;32m<ipython-input-3-7ebc36ebd269>\u001b[0m in \u001b[0;36mrun_notebook\u001b[1;34m(notebook_name)\u001b[0m\n\u001b[0;32m     18\u001b[0m \u001b[1;33m\u001b[0m\u001b[0m\n\u001b[0;32m     19\u001b[0m     \u001b[1;32mtry\u001b[0m\u001b[1;33m:\u001b[0m\u001b[1;33m\u001b[0m\u001b[0m\n\u001b[1;32m---> 20\u001b[1;33m         \u001b[0mout\u001b[0m \u001b[1;33m=\u001b[0m \u001b[0mep\u001b[0m\u001b[1;33m.\u001b[0m\u001b[0mpreprocess\u001b[0m\u001b[1;33m(\u001b[0m\u001b[0mnb\u001b[0m\u001b[1;33m,\u001b[0m \u001b[1;33m{\u001b[0m\u001b[1;34m'metadata'\u001b[0m\u001b[1;33m:\u001b[0m \u001b[1;33m{\u001b[0m\u001b[1;34m'path'\u001b[0m\u001b[1;33m:\u001b[0m \u001b[1;34m'./'\u001b[0m\u001b[1;33m}\u001b[0m\u001b[1;33m}\u001b[0m\u001b[1;33m)\u001b[0m\u001b[1;33m\u001b[0m\u001b[0m\n\u001b[0m\u001b[0;32m     21\u001b[0m     \u001b[1;32mexcept\u001b[0m \u001b[0mException\u001b[0m\u001b[1;33m:\u001b[0m\u001b[1;33m\u001b[0m\u001b[0m\n\u001b[0;32m     22\u001b[0m         \u001b[0mmsg\u001b[0m \u001b[1;33m=\u001b[0m \u001b[1;34m'Error executing the notebook \"%s\".\\n\\n'\u001b[0m \u001b[1;33m%\u001b[0m \u001b[0mnotebook_name\u001b[0m\u001b[1;33m\u001b[0m\u001b[0m\n",
      "\u001b[1;32mC:\\Users\\laser2002j\\Anaconda\\envs\\py3\\lib\\site-packages\\nbconvert\\preprocessors\\execute.py\u001b[0m in \u001b[0;36mpreprocess\u001b[1;34m(self, nb, resources)\u001b[0m\n\u001b[0;32m     81\u001b[0m \u001b[1;33m\u001b[0m\u001b[0m\n\u001b[0;32m     82\u001b[0m         \u001b[1;32mtry\u001b[0m\u001b[1;33m:\u001b[0m\u001b[1;33m\u001b[0m\u001b[0m\n\u001b[1;32m---> 83\u001b[1;33m             \u001b[0mnb\u001b[0m\u001b[1;33m,\u001b[0m \u001b[0mresources\u001b[0m \u001b[1;33m=\u001b[0m \u001b[0msuper\u001b[0m\u001b[1;33m(\u001b[0m\u001b[0mExecutePreprocessor\u001b[0m\u001b[1;33m,\u001b[0m \u001b[0mself\u001b[0m\u001b[1;33m)\u001b[0m\u001b[1;33m.\u001b[0m\u001b[0mpreprocess\u001b[0m\u001b[1;33m(\u001b[0m\u001b[0mnb\u001b[0m\u001b[1;33m,\u001b[0m \u001b[0mresources\u001b[0m\u001b[1;33m)\u001b[0m\u001b[1;33m\u001b[0m\u001b[0m\n\u001b[0m\u001b[0;32m     84\u001b[0m         \u001b[1;32mfinally\u001b[0m\u001b[1;33m:\u001b[0m\u001b[1;33m\u001b[0m\u001b[0m\n\u001b[0;32m     85\u001b[0m             \u001b[0mself\u001b[0m\u001b[1;33m.\u001b[0m\u001b[0mkc\u001b[0m\u001b[1;33m.\u001b[0m\u001b[0mstop_channels\u001b[0m\u001b[1;33m(\u001b[0m\u001b[1;33m)\u001b[0m\u001b[1;33m\u001b[0m\u001b[0m\n",
      "\u001b[1;32mC:\\Users\\laser2002j\\Anaconda\\envs\\py3\\lib\\site-packages\\nbconvert\\preprocessors\\base.py\u001b[0m in \u001b[0;36mpreprocess\u001b[1;34m(self, nb, resources)\u001b[0m\n\u001b[0;32m     68\u001b[0m         \"\"\"\n\u001b[0;32m     69\u001b[0m         \u001b[1;32mfor\u001b[0m \u001b[0mindex\u001b[0m\u001b[1;33m,\u001b[0m \u001b[0mcell\u001b[0m \u001b[1;32min\u001b[0m \u001b[0menumerate\u001b[0m\u001b[1;33m(\u001b[0m\u001b[0mnb\u001b[0m\u001b[1;33m.\u001b[0m\u001b[0mcells\u001b[0m\u001b[1;33m)\u001b[0m\u001b[1;33m:\u001b[0m\u001b[1;33m\u001b[0m\u001b[0m\n\u001b[1;32m---> 70\u001b[1;33m             \u001b[0mnb\u001b[0m\u001b[1;33m.\u001b[0m\u001b[0mcells\u001b[0m\u001b[1;33m[\u001b[0m\u001b[0mindex\u001b[0m\u001b[1;33m]\u001b[0m\u001b[1;33m,\u001b[0m \u001b[0mresources\u001b[0m \u001b[1;33m=\u001b[0m \u001b[0mself\u001b[0m\u001b[1;33m.\u001b[0m\u001b[0mpreprocess_cell\u001b[0m\u001b[1;33m(\u001b[0m\u001b[0mcell\u001b[0m\u001b[1;33m,\u001b[0m \u001b[0mresources\u001b[0m\u001b[1;33m,\u001b[0m \u001b[0mindex\u001b[0m\u001b[1;33m)\u001b[0m\u001b[1;33m\u001b[0m\u001b[0m\n\u001b[0m\u001b[0;32m     71\u001b[0m         \u001b[1;32mreturn\u001b[0m \u001b[0mnb\u001b[0m\u001b[1;33m,\u001b[0m \u001b[0mresources\u001b[0m\u001b[1;33m\u001b[0m\u001b[0m\n\u001b[0;32m     72\u001b[0m \u001b[1;33m\u001b[0m\u001b[0m\n",
      "\u001b[1;32m<ipython-input-2-1a0913a07d46>\u001b[0m in \u001b[0;36mpreprocess_cell\u001b[1;34m(self, cell, resources, cell_index)\u001b[0m\n\u001b[0;32m     24\u001b[0m                 \"\"\"\n\u001b[0;32m     25\u001b[0m                 \u001b[0mmsg\u001b[0m \u001b[1;33m=\u001b[0m \u001b[0mdedent\u001b[0m\u001b[1;33m(\u001b[0m\u001b[0mpattern\u001b[0m\u001b[1;33m)\u001b[0m\u001b[1;33m.\u001b[0m\u001b[0mformat\u001b[0m\u001b[1;33m(\u001b[0m\u001b[0mout\u001b[0m\u001b[1;33m=\u001b[0m\u001b[0mout\u001b[0m\u001b[1;33m,\u001b[0m \u001b[0mcell\u001b[0m\u001b[1;33m=\u001b[0m\u001b[0mcell\u001b[0m\u001b[1;33m)\u001b[0m\u001b[1;33m\u001b[0m\u001b[0m\n\u001b[1;32m---> 26\u001b[1;33m                 \u001b[1;32mraise\u001b[0m \u001b[0mCellExecutionError\u001b[0m\u001b[1;33m(\u001b[0m\u001b[0mmsg\u001b[0m\u001b[1;33m)\u001b[0m\u001b[1;33m\u001b[0m\u001b[0m\n\u001b[0m\u001b[0;32m     27\u001b[0m     \u001b[1;32mreturn\u001b[0m \u001b[0mcell\u001b[0m\u001b[1;33m,\u001b[0m \u001b[0mresources\u001b[0m\u001b[1;33m\u001b[0m\u001b[0m\n\u001b[0;32m     28\u001b[0m \u001b[1;33m\u001b[0m\u001b[0m\n",
      "\u001b[1;31mCellExecutionError\u001b[0m: An error occurred while executing the following cell:\n------------------\nstop\n------------------\n\nNameError: name 'stop' is not defined\n"
     ]
    }
   ],
   "source": [
    "run_notebook('Multi-spot 5-Samples analysis - PR-raw')"
   ]
  },
  {
   "cell_type": "code",
   "execution_count": null,
   "metadata": {
    "collapsed": false,
    "internals": {
     "slide_helper": "subslide_end"
    },
    "slide_helper": "slide_end",
    "slideshow": {
     "slide_type": "-"
    }
   },
   "outputs": [],
   "source": []
  }
 ],
 "metadata": {
  "kernelspec": {
   "display_name": "Python 3",
   "language": "python",
   "name": "python3"
  },
  "language_info": {
   "codemirror_mode": {
    "name": "ipython",
    "version": 3
   },
   "file_extension": ".py",
   "mimetype": "text/x-python",
   "name": "python",
   "nbconvert_exporter": "python",
   "pygments_lexer": "ipython3",
   "version": "3.5.1"
  }
 },
 "nbformat": 4,
 "nbformat_minor": 0
}
