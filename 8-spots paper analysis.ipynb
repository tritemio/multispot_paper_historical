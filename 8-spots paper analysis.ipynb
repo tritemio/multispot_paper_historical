{
 "metadata": {
  "name": "",
  "signature": "sha256:d77d10d537bb5221f6a44016729b0ee3a7358d15f0c136bca5f1e223b5ee0d24"
 },
 "nbformat": 3,
 "nbformat_minor": 0,
 "worksheets": [
  {
   "cells": [
    {
     "cell_type": "heading",
     "level": 1,
     "metadata": {
      "internals": {
       "slide_type": "subslide"
      },
      "slideshow": {
       "slide_type": "slide"
      }
     },
     "source": [
      "8-Spots paper analysis"
     ]
    },
    {
     "cell_type": "markdown",
     "metadata": {
      "internals": {},
      "slideshow": {
       "slide_type": "-"
      }
     },
     "source": [
      "> This is the main notebook to be executed to reproduce the analysis of the 8-spot paper."
     ]
    },
    {
     "cell_type": "markdown",
     "metadata": {
      "internals": {},
      "slideshow": {
       "slide_type": "-"
      }
     },
     "source": [
      "# How to use?\n",
      "\n",
      "In the first place, this notebook, and all the other notebooks linked below, can be used as a read-only resource to inspect every single step of the analysis. Furthermore, many steps of the analysis (alternative burst searches or fitting procedures) are not presented in the main paper for obvious space constraints and can be found here. The complete analysis is provided here.\n",
      "\n",
      "In the second place, this resource can be used to re-run the analysis on your machine. You can modify parameters of burst search, or use a different fitting approach and see what's the effect of these changes on the complete analysis.\n",
      "\n",
      "> If you are new to the notebook interface you can get a quick briefing by clicking on menu *Help* -> *User interface tour*.\n",
      "\n",
      "\n",
      "# Execution Overview\n",
      "\n",
      "This \"master\" notebook sequentially executes all the notebooks that perform the different steps of the analysis presented in the 8-spot paper.\n",
      "\n",
      "We execute both standard notebook or \"template notebooks\". A template notebook is notebook that is executed several times, each time with a different input file. Template notebooks are used for the \u03bcs-ALEX analysis.\n",
      "\n",
      "To execute other notebooks we use two helper functions that we import here:"
     ]
    },
    {
     "cell_type": "code",
     "collapsed": false,
     "input": [
      "from notebook_runner import run_notebook, run_notebook_template"
     ],
     "language": "python",
     "metadata": {
      "internals": {},
      "slideshow": {
       "slide_type": "-"
      }
     },
     "outputs": [],
     "prompt_number": 1
    },
    {
     "cell_type": "markdown",
     "metadata": {
      "internals": {},
      "slideshow": {
       "slide_type": "-"
      }
     },
     "source": [
      "# Architecture notes\n",
      "\n",
      "The simple practice of saving intermediate results in text files is regarded as an important point for [reproducible computing](http://www.ploscompbiol.org/article/info%3Adoi%2F10.1371%2Fjournal.pcbi.1003285).\n",
      "\n",
      "Saving intermediate results in a text file allow to easily track and find intermediate results (either manually or programmatically). Moreover, it makes easy to track regressions (or errors) when a [Version Control System](http://en.wikipedia.org/wiki/Revision_control) (i.e. [git](http://git-scm.com/)) is used.\n",
      "\n",
      "In the present analysis, each notebook saves a selection of results in a text file in the `results` folder. These files are often used as an input by subsequent notebooks."
     ]
    },
    {
     "cell_type": "markdown",
     "metadata": {
      "internals": {},
      "slideshow": {
       "slide_type": "-"
      }
     },
     "source": [
      "# Batch execution\n",
      "\n",
      "The \u03bcs-ALEX notebooks are executed in batch from a single template notebook for the 5 samples. This allows maintaining a single \"analysis recipe\" that is uniformly applied to all the samples. Moreover, if the template notebook is modified, the results for all the 5 samples can be computed in one step. \n",
      "\n",
      "> Note that not all \u03bcs-ALEX notebooks are templates. For example the notebooks for fitting the global leakage coefficient or direct excitation are simple notebooks that read the previously saved per-sample results and compute averages.\n",
      "\n",
      "## The notebooks links\n",
      "When a template notebook is executed a set of output notebooks is generated, one for each sample. After the execution, the cell will show links to the *template notebook* (unexecuted, contains no output) and to the *output notebooks* for each sample. These output notebooks are meant to be read-only and are used to inspect the full analysis results for each sample.\n",
      "\n",
      "## The results table\n",
      "After the links, the cell will also shows a table with a row for each sample and a column for each variable saved by the template notebook. To find where a specific variable is computed, you can search the variable name in the output notebook of a specific sample (use the browser \"find\").\n",
      "\n",
      "## Working on template notebooks\n",
      "You can open and modify a template notebook in order to perform a different analysis. To open the template notebook click on the corresponding link (see below). Beware that notebooks with \"-out\" in their names are *output notebooks* not meant to be executed.\n",
      "\n",
      "After applying the modifications (remember to save) you can run the template notebook directly. In this case a default data file will be loaded. The default specified at the beginning of the notebook (look for the `data_id` variable). If the execution succeeds for a single data file you can run the notebook as a template. To do that, switch back to the present notebook and execute the corresponding `run_notebook_template()` cell.\n"
     ]
    },
    {
     "cell_type": "markdown",
     "metadata": {
      "internals": {},
      "slideshow": {
       "slide_type": "-"
      }
     },
     "source": [
      "# Software version\n",
      "\n",
      "Here we keep track of all the libraries versions used for the execution."
     ]
    },
    {
     "cell_type": "code",
     "collapsed": false,
     "input": [
      "%load_ext version_information"
     ],
     "language": "python",
     "metadata": {
      "internals": {},
      "slideshow": {
       "slide_type": "-"
      }
     },
     "outputs": [],
     "prompt_number": 2
    },
    {
     "cell_type": "code",
     "collapsed": false,
     "input": [
      "%version_information numpy, scipy, matplotlib, lmfit, pandas, tables, fretbursts"
     ],
     "language": "python",
     "metadata": {
      "internals": {},
      "slideshow": {
       "slide_type": "-"
      }
     },
     "outputs": [
      {
       "output_type": "stream",
       "stream": "stdout",
       "text": [
        " - Optimized (cython) burst search loaded.\n",
        " - Optimized (cython) photon counting loaded.\n",
        "-------------------------------------------------------------\n",
        " You are running FRETBursts (version 0.4rc4-47-gb0f3e84).\n",
        "\n",
        " If you use this software in a publication, please cite it as:\n",
        "\n",
        "   FRETBursts - An opensource single-molecule FRET burst analysis toolkit.\n",
        "   A. Ingargiola 2014. https://github.com/tritemio/FRETBursts\n",
        "\n",
        "-------------------------------------------------------------\n"
       ]
      },
      {
       "html": [
        "<table><tr><th>Software</th><th>Version</th></tr><tr><td>Python</td><td>2.7.7 64bit [MSC v.1500 64 bit (AMD64)]</td></tr><tr><td>IPython</td><td>2.3.1</td></tr><tr><td>OS</td><td>Windows 7 6.1.7601 SP1</td></tr><tr><td>numpy</td><td>1.9.1</td></tr><tr><td>scipy</td><td>0.14.0</td></tr><tr><td>matplotlib</td><td>1.4.0</td></tr><tr><td>lmfit</td><td>0.8.2-1-g29cfcfc</td></tr><tr><td>pandas</td><td>0.14.1</td></tr><tr><td>tables</td><td>3.1.1</td></tr><tr><td>fretbursts</td><td>0.4rc4-47-gb0f3e84</td></tr><tr><td colspan='2'>Wed Dec 24 10:17:55 2014 Pacific Standard Time</td></tr></table>"
       ],
       "json": [
        "{\"Software versions\": [{\"version\": \"2.7.7 64bit [MSC v.1500 64 bit (AMD64)]\", \"module\": \"Python\"}, {\"version\": \"2.3.1\", \"module\": \"IPython\"}, {\"version\": \"Windows 7 6.1.7601 SP1\", \"module\": \"OS\"}, {\"version\": \"1.9.1\", \"module\": \"numpy\"}, {\"version\": \"0.14.0\", \"module\": \"scipy\"}, {\"version\": \"1.4.0\", \"module\": \"matplotlib\"}, {\"version\": \"0.8.2-1-g29cfcfc\", \"module\": \"lmfit\"}, {\"version\": \"0.14.1\", \"module\": \"pandas\"}, {\"version\": \"3.1.1\", \"module\": \"tables\"}, {\"version\": \"0.4rc4-47-gb0f3e84\", \"module\": \"fretbursts\"}]}"
       ],
       "latex": [
        "\\begin{tabular}{|l|l|}\\hline\n",
        "{\\bf Software} & {\\bf Version} \\\\ \\hline\\hline\n",
        "Python & 2.7.7 64bit [MSC v.1500 64 bit (AMD64)] \\\\ \\hline\n",
        "IPython & 2.3.1 \\\\ \\hline\n",
        "OS & Windows 7 6.1.7601 SP1 \\\\ \\hline\n",
        "numpy & 1.9.1 \\\\ \\hline\n",
        "scipy & 0.14.0 \\\\ \\hline\n",
        "matplotlib & 1.4.0 \\\\ \\hline\n",
        "lmfit & 0.8.2-1-g29cfcfc \\\\ \\hline\n",
        "pandas & 0.14.1 \\\\ \\hline\n",
        "tables & 3.1.1 \\\\ \\hline\n",
        "fretbursts & 0.4rc4-47-gb0f3e84 \\\\ \\hline\n",
        "\\hline \\multicolumn{2}{|l|}{Wed Dec 24 10:17:55 2014 Pacific Standard Time} \\\\ \\hline\n",
        "\\end{tabular}\n"
       ],
       "metadata": {},
       "output_type": "pyout",
       "prompt_number": 3,
       "text": [
        "Software versions\n",
        "Python 2.7.7 64bit [MSC v.1500 64 bit (AMD64)]\n",
        "IPython 2.3.1\n",
        "OS Windows 7 6.1.7601 SP1\n",
        "numpy 1.9.1\n",
        "scipy 0.14.0\n",
        "matplotlib 1.4.0\n",
        "lmfit 0.8.2-1-g29cfcfc\n",
        "pandas 0.14.1\n",
        "tables 3.1.1\n",
        "fretbursts 0.4rc4-47-gb0f3e84\n",
        "Wed Dec 24 10:17:55 2014 Pacific Standard Time"
       ]
      }
     ],
     "prompt_number": 3
    },
    {
     "cell_type": "markdown",
     "metadata": {
      "internals": {},
      "slideshow": {
       "slide_type": "-"
      }
     },
     "source": [
      "## 1. \u03bcs-ALEX: Raw Proximity Ratio Analysis\n",
      "\n",
      "We start the analyis by processing and fiting the raw PR values for the 5 us-ALEX measurements. \n",
      "The only correction here applied to the bursts is the background correction.\n",
      "\n",
      "The same analysis is performed for different \n",
      "burst searches, as indicated in the notebook file name suffix:\n",
      "\n",
      "- **all-ph**: burst search on all photons\n",
      "- **Dex**: burst search on photons during Donor excitation periods\n",
      "- **DexDem**: burst search on photons during Donor excitation detected in the Donor channel (donor emission)\n",
      "- **AND-gate**: AND-gate burst search. The bursts are the intersection (in time) of burst from a \"Dex\" burst search and burst from a \"AexAem\" burst search."
     ]
    },
    {
     "cell_type": "code",
     "collapsed": false,
     "input": [
      "nb_name = 'usALEX-5samples-PR-raw'\n",
      "run_notebook_template(nb_name, ph_sel='all-ph')"
     ],
     "language": "python",
     "metadata": {
      "internals": {},
      "slideshow": {
       "slide_type": "-"
      }
     },
     "outputs": [
      {
       "html": [
        "<a href='usALEX-5samples-PR-raw.ipynb' target='_blank'>usALEX-5samples-PR-raw.ipynb</a><br>"
       ],
       "metadata": {},
       "output_type": "display_data",
       "text": [
        "C:\\Data\\Antonio\\software\\src\\multispot_paper\\usALEX-5samples-PR-raw.ipynb"
       ]
      },
      {
       "html": [
        "<a href='out_notebooks/usALEX-5samples-PR-raw-out-all-ph-7d.ipynb' target='_blank'>out_notebooks/usALEX-5samples-PR-raw-out-all-ph-7d.ipynb</a><br>"
       ],
       "metadata": {},
       "output_type": "display_data",
       "text": [
        "C:\\Data\\Antonio\\software\\src\\multispot_paper\\out_notebooks\\usALEX-5samples-PR-raw-out-all-ph-7d.ipynb"
       ]
      },
      {
       "html": [
        "<a href='out_notebooks/usALEX-5samples-PR-raw-out-all-ph-12d.ipynb' target='_blank'>out_notebooks/usALEX-5samples-PR-raw-out-all-ph-12d.ipynb</a><br>"
       ],
       "metadata": {},
       "output_type": "display_data",
       "text": [
        "C:\\Data\\Antonio\\software\\src\\multispot_paper\\out_notebooks\\usALEX-5samples-PR-raw-out-all-ph-12d.ipynb"
       ]
      },
      {
       "html": [
        "<a href='out_notebooks/usALEX-5samples-PR-raw-out-all-ph-17d.ipynb' target='_blank'>out_notebooks/usALEX-5samples-PR-raw-out-all-ph-17d.ipynb</a><br>"
       ],
       "metadata": {},
       "output_type": "display_data",
       "text": [
        "C:\\Data\\Antonio\\software\\src\\multispot_paper\\out_notebooks\\usALEX-5samples-PR-raw-out-all-ph-17d.ipynb"
       ]
      },
      {
       "html": [
        "<a href='out_notebooks/usALEX-5samples-PR-raw-out-all-ph-22d.ipynb' target='_blank'>out_notebooks/usALEX-5samples-PR-raw-out-all-ph-22d.ipynb</a><br>"
       ],
       "metadata": {},
       "output_type": "display_data",
       "text": [
        "C:\\Data\\Antonio\\software\\src\\multispot_paper\\out_notebooks\\usALEX-5samples-PR-raw-out-all-ph-22d.ipynb"
       ]
      },
      {
       "html": [
        "<a href='out_notebooks/usALEX-5samples-PR-raw-out-all-ph-27d.ipynb' target='_blank'>out_notebooks/usALEX-5samples-PR-raw-out-all-ph-27d.ipynb</a><br>"
       ],
       "metadata": {},
       "output_type": "display_data",
       "text": [
        "C:\\Data\\Antonio\\software\\src\\multispot_paper\\out_notebooks\\usALEX-5samples-PR-raw-out-all-ph-27d.ipynb"
       ]
      },
      {
       "html": [
        "<div style=\"max-height:1000px;max-width:1500px;overflow:auto;\">\n",
        "<table border=\"1\" class=\"dataframe\">\n",
        "  <thead>\n",
        "    <tr style=\"text-align: right;\">\n",
        "      <th></th>\n",
        "      <th>n_bursts_all</th>\n",
        "      <th>n_bursts_do</th>\n",
        "      <th>n_bursts_fret</th>\n",
        "      <th>E_kde_w</th>\n",
        "      <th>E_gauss_w</th>\n",
        "      <th>E_gauss_w_sig</th>\n",
        "      <th>E_gauss_w_err</th>\n",
        "      <th>S_kde</th>\n",
        "      <th>S_gauss</th>\n",
        "      <th>S_gauss_sig</th>\n",
        "      <th>S_gauss_err</th>\n",
        "      <th>E_pr_do_kde</th>\n",
        "      <th>nt_mean</th>\n",
        "    </tr>\n",
        "    <tr>\n",
        "      <th>sample</th>\n",
        "      <th></th>\n",
        "      <th></th>\n",
        "      <th></th>\n",
        "      <th></th>\n",
        "      <th></th>\n",
        "      <th></th>\n",
        "      <th></th>\n",
        "      <th></th>\n",
        "      <th></th>\n",
        "      <th></th>\n",
        "      <th></th>\n",
        "      <th></th>\n",
        "      <th></th>\n",
        "    </tr>\n",
        "  </thead>\n",
        "  <tbody>\n",
        "    <tr>\n",
        "      <th>7d</th>\n",
        "      <td> 1370</td>\n",
        "      <td> 724</td>\n",
        "      <td>  600</td>\n",
        "      <td> 0.9338</td>\n",
        "      <td> 0.931395</td>\n",
        "      <td> 0.054563</td>\n",
        "      <td> 0.002228</td>\n",
        "      <td> 0.5588</td>\n",
        "      <td> 0.561594</td>\n",
        "      <td> 0.098463</td>\n",
        "      <td> 0.004020</td>\n",
        "      <td> 0.0950</td>\n",
        "      <td> 22.375125</td>\n",
        "    </tr>\n",
        "    <tr>\n",
        "      <th>12d</th>\n",
        "      <td> 1528</td>\n",
        "      <td> 410</td>\n",
        "      <td> 1081</td>\n",
        "      <td> 0.7606</td>\n",
        "      <td> 0.749737</td>\n",
        "      <td> 0.085984</td>\n",
        "      <td> 0.002615</td>\n",
        "      <td> 0.5860</td>\n",
        "      <td> 0.571272</td>\n",
        "      <td> 0.104204</td>\n",
        "      <td> 0.003169</td>\n",
        "      <td> 0.1020</td>\n",
        "      <td> 22.612481</td>\n",
        "    </tr>\n",
        "    <tr>\n",
        "      <th>17d</th>\n",
        "      <td> 3013</td>\n",
        "      <td> 558</td>\n",
        "      <td> 2389</td>\n",
        "      <td> 0.4922</td>\n",
        "      <td> 0.484872</td>\n",
        "      <td> 0.101857</td>\n",
        "      <td> 0.002084</td>\n",
        "      <td> 0.5364</td>\n",
        "      <td> 0.558672</td>\n",
        "      <td> 0.110041</td>\n",
        "      <td> 0.002251</td>\n",
        "      <td> 0.1004</td>\n",
        "      <td> 23.168308</td>\n",
        "    </tr>\n",
        "    <tr>\n",
        "      <th>22d</th>\n",
        "      <td> 2552</td>\n",
        "      <td> 403</td>\n",
        "      <td> 2045</td>\n",
        "      <td> 0.2768</td>\n",
        "      <td> 0.279818</td>\n",
        "      <td> 0.070842</td>\n",
        "      <td> 0.001567</td>\n",
        "      <td> 0.5636</td>\n",
        "      <td> 0.564369</td>\n",
        "      <td> 0.112976</td>\n",
        "      <td> 0.002498</td>\n",
        "      <td> 0.0924</td>\n",
        "      <td> 25.330922</td>\n",
        "    </tr>\n",
        "    <tr>\n",
        "      <th>27d</th>\n",
        "      <td>  999</td>\n",
        "      <td> 203</td>\n",
        "      <td>  759</td>\n",
        "      <td> 0.1966</td>\n",
        "      <td> 0.195458</td>\n",
        "      <td> 0.058387</td>\n",
        "      <td> 0.002119</td>\n",
        "      <td> 0.5564</td>\n",
        "      <td> 0.582804</td>\n",
        "      <td> 0.112845</td>\n",
        "      <td> 0.004096</td>\n",
        "      <td> 0.0840</td>\n",
        "      <td> 19.505630</td>\n",
        "    </tr>\n",
        "  </tbody>\n",
        "</table>\n",
        "</div>"
       ],
       "metadata": {},
       "output_type": "display_data",
       "text": [
        "        n_bursts_all  n_bursts_do  n_bursts_fret  E_kde_w  E_gauss_w  \\\n",
        "sample                                                                 \n",
        "7d              1370          724            600   0.9338   0.931395   \n",
        "12d             1528          410           1081   0.7606   0.749737   \n",
        "17d             3013          558           2389   0.4922   0.484872   \n",
        "22d             2552          403           2045   0.2768   0.279818   \n",
        "27d              999          203            759   0.1966   0.195458   \n",
        "\n",
        "        E_gauss_w_sig  E_gauss_w_err   S_kde   S_gauss  S_gauss_sig  \\\n",
        "sample                                                                \n",
        "7d           0.054563       0.002228  0.5588  0.561594     0.098463   \n",
        "12d          0.085984       0.002615  0.5860  0.571272     0.104204   \n",
        "17d          0.101857       0.002084  0.5364  0.558672     0.110041   \n",
        "22d          0.070842       0.001567  0.5636  0.564369     0.112976   \n",
        "27d          0.058387       0.002119  0.5564  0.582804     0.112845   \n",
        "\n",
        "        S_gauss_err  E_pr_do_kde    nt_mean  \n",
        "sample                                       \n",
        "7d         0.004020       0.0950  22.375125  \n",
        "12d        0.003169       0.1020  22.612481  \n",
        "17d        0.002251       0.1004  23.168308  \n",
        "22d        0.002498       0.0924  25.330922  \n",
        "27d        0.004096       0.0840  19.505630  "
       ]
      }
     ],
     "prompt_number": 4
    },
    {
     "cell_type": "code",
     "collapsed": false,
     "input": [
      "nb_name = 'usALEX-5samples-PR-raw'\n",
      "run_notebook_template(nb_name, ph_sel='DexDem')"
     ],
     "language": "python",
     "metadata": {
      "internals": {},
      "slideshow": {
       "slide_type": "-"
      }
     },
     "outputs": [
      {
       "html": [
        "<a href='usALEX-5samples-PR-raw.ipynb' target='_blank'>usALEX-5samples-PR-raw.ipynb</a><br>"
       ],
       "metadata": {},
       "output_type": "display_data",
       "text": [
        "C:\\Data\\Antonio\\software\\src\\multispot_paper\\usALEX-5samples-PR-raw.ipynb"
       ]
      },
      {
       "html": [
        "<a href='out_notebooks/usALEX-5samples-PR-raw-out-DexDem-7d.ipynb' target='_blank'>out_notebooks/usALEX-5samples-PR-raw-out-DexDem-7d.ipynb</a><br>"
       ],
       "metadata": {},
       "output_type": "display_data",
       "text": [
        "C:\\Data\\Antonio\\software\\src\\multispot_paper\\out_notebooks\\usALEX-5samples-PR-raw-out-DexDem-7d.ipynb"
       ]
      },
      {
       "html": [
        "<a href='out_notebooks/usALEX-5samples-PR-raw-out-DexDem-12d.ipynb' target='_blank'>out_notebooks/usALEX-5samples-PR-raw-out-DexDem-12d.ipynb</a><br>"
       ],
       "metadata": {},
       "output_type": "display_data",
       "text": [
        "C:\\Data\\Antonio\\software\\src\\multispot_paper\\out_notebooks\\usALEX-5samples-PR-raw-out-DexDem-12d.ipynb"
       ]
      },
      {
       "html": [
        "<a href='out_notebooks/usALEX-5samples-PR-raw-out-DexDem-17d.ipynb' target='_blank'>out_notebooks/usALEX-5samples-PR-raw-out-DexDem-17d.ipynb</a><br>"
       ],
       "metadata": {},
       "output_type": "display_data",
       "text": [
        "C:\\Data\\Antonio\\software\\src\\multispot_paper\\out_notebooks\\usALEX-5samples-PR-raw-out-DexDem-17d.ipynb"
       ]
      },
      {
       "html": [
        "<a href='out_notebooks/usALEX-5samples-PR-raw-out-DexDem-22d.ipynb' target='_blank'>out_notebooks/usALEX-5samples-PR-raw-out-DexDem-22d.ipynb</a><br>"
       ],
       "metadata": {},
       "output_type": "display_data",
       "text": [
        "C:\\Data\\Antonio\\software\\src\\multispot_paper\\out_notebooks\\usALEX-5samples-PR-raw-out-DexDem-22d.ipynb"
       ]
      },
      {
       "html": [
        "<a href='out_notebooks/usALEX-5samples-PR-raw-out-DexDem-27d.ipynb' target='_blank'>out_notebooks/usALEX-5samples-PR-raw-out-DexDem-27d.ipynb</a><br>"
       ],
       "metadata": {},
       "output_type": "display_data",
       "text": [
        "C:\\Data\\Antonio\\software\\src\\multispot_paper\\out_notebooks\\usALEX-5samples-PR-raw-out-DexDem-27d.ipynb"
       ]
      },
      {
       "html": [
        "<div style=\"max-height:1000px;max-width:1500px;overflow:auto;\">\n",
        "<table border=\"1\" class=\"dataframe\">\n",
        "  <thead>\n",
        "    <tr style=\"text-align: right;\">\n",
        "      <th></th>\n",
        "      <th>n_bursts_all</th>\n",
        "      <th>n_bursts_do</th>\n",
        "      <th>n_bursts_fret</th>\n",
        "      <th>E_kde_w</th>\n",
        "      <th>E_gauss_w</th>\n",
        "      <th>E_gauss_w_sig</th>\n",
        "      <th>E_gauss_w_err</th>\n",
        "      <th>S_kde</th>\n",
        "      <th>S_gauss</th>\n",
        "      <th>S_gauss_sig</th>\n",
        "      <th>S_gauss_err</th>\n",
        "      <th>E_pr_do_kde</th>\n",
        "      <th>nt_mean</th>\n",
        "    </tr>\n",
        "    <tr>\n",
        "      <th>sample</th>\n",
        "      <th></th>\n",
        "      <th></th>\n",
        "      <th></th>\n",
        "      <th></th>\n",
        "      <th></th>\n",
        "      <th></th>\n",
        "      <th></th>\n",
        "      <th></th>\n",
        "      <th></th>\n",
        "      <th></th>\n",
        "      <th></th>\n",
        "      <th></th>\n",
        "      <th></th>\n",
        "    </tr>\n",
        "  </thead>\n",
        "  <tbody>\n",
        "    <tr>\n",
        "      <th>7d</th>\n",
        "      <td> 1684</td>\n",
        "      <td> 1395</td>\n",
        "      <td>  151</td>\n",
        "      <td> 0.8426</td>\n",
        "      <td> 0.795226</td>\n",
        "      <td> 0.089862</td>\n",
        "      <td> 0.007313</td>\n",
        "      <td> 0.6372</td>\n",
        "      <td> 0.600875</td>\n",
        "      <td> 0.092822</td>\n",
        "      <td> 0.007554</td>\n",
        "      <td> 0.0950</td>\n",
        "      <td> 28.103579</td>\n",
        "    </tr>\n",
        "    <tr>\n",
        "      <th>12d</th>\n",
        "      <td> 1915</td>\n",
        "      <td>  719</td>\n",
        "      <td> 1094</td>\n",
        "      <td> 0.7142</td>\n",
        "      <td> 0.706974</td>\n",
        "      <td> 0.075747</td>\n",
        "      <td> 0.002290</td>\n",
        "      <td> 0.5610</td>\n",
        "      <td> 0.586976</td>\n",
        "      <td> 0.101789</td>\n",
        "      <td> 0.003077</td>\n",
        "      <td> 0.0924</td>\n",
        "      <td> 28.011329</td>\n",
        "    </tr>\n",
        "    <tr>\n",
        "      <th>17d</th>\n",
        "      <td> 4497</td>\n",
        "      <td> 1042</td>\n",
        "      <td> 3274</td>\n",
        "      <td> 0.4630</td>\n",
        "      <td> 0.447567</td>\n",
        "      <td> 0.102044</td>\n",
        "      <td> 0.001783</td>\n",
        "      <td> 0.5704</td>\n",
        "      <td> 0.574126</td>\n",
        "      <td> 0.109356</td>\n",
        "      <td> 0.001911</td>\n",
        "      <td> 0.0938</td>\n",
        "      <td> 29.138086</td>\n",
        "    </tr>\n",
        "    <tr>\n",
        "      <th>22d</th>\n",
        "      <td> 3455</td>\n",
        "      <td>  579</td>\n",
        "      <td> 2750</td>\n",
        "      <td> 0.2642</td>\n",
        "      <td> 0.265737</td>\n",
        "      <td> 0.066868</td>\n",
        "      <td> 0.001275</td>\n",
        "      <td> 0.5638</td>\n",
        "      <td> 0.570597</td>\n",
        "      <td> 0.109526</td>\n",
        "      <td> 0.002089</td>\n",
        "      <td> 0.0828</td>\n",
        "      <td> 31.978264</td>\n",
        "    </tr>\n",
        "    <tr>\n",
        "      <th>27d</th>\n",
        "      <td> 1397</td>\n",
        "      <td>  401</td>\n",
        "      <td>  944</td>\n",
        "      <td> 0.1814</td>\n",
        "      <td> 0.183440</td>\n",
        "      <td> 0.054032</td>\n",
        "      <td> 0.001759</td>\n",
        "      <td> 0.6170</td>\n",
        "      <td> 0.601571</td>\n",
        "      <td> 0.108280</td>\n",
        "      <td> 0.003524</td>\n",
        "      <td> 0.0778</td>\n",
        "      <td> 23.272537</td>\n",
        "    </tr>\n",
        "  </tbody>\n",
        "</table>\n",
        "</div>"
       ],
       "metadata": {},
       "output_type": "display_data",
       "text": [
        "        n_bursts_all  n_bursts_do  n_bursts_fret  E_kde_w  E_gauss_w  \\\n",
        "sample                                                                 \n",
        "7d              1684         1395            151   0.8426   0.795226   \n",
        "12d             1915          719           1094   0.7142   0.706974   \n",
        "17d             4497         1042           3274   0.4630   0.447567   \n",
        "22d             3455          579           2750   0.2642   0.265737   \n",
        "27d             1397          401            944   0.1814   0.183440   \n",
        "\n",
        "        E_gauss_w_sig  E_gauss_w_err   S_kde   S_gauss  S_gauss_sig  \\\n",
        "sample                                                                \n",
        "7d           0.089862       0.007313  0.6372  0.600875     0.092822   \n",
        "12d          0.075747       0.002290  0.5610  0.586976     0.101789   \n",
        "17d          0.102044       0.001783  0.5704  0.574126     0.109356   \n",
        "22d          0.066868       0.001275  0.5638  0.570597     0.109526   \n",
        "27d          0.054032       0.001759  0.6170  0.601571     0.108280   \n",
        "\n",
        "        S_gauss_err  E_pr_do_kde    nt_mean  \n",
        "sample                                       \n",
        "7d         0.007554       0.0950  28.103579  \n",
        "12d        0.003077       0.0924  28.011329  \n",
        "17d        0.001911       0.0938  29.138086  \n",
        "22d        0.002089       0.0828  31.978264  \n",
        "27d        0.003524       0.0778  23.272537  "
       ]
      }
     ],
     "prompt_number": 5
    },
    {
     "cell_type": "code",
     "collapsed": false,
     "input": [
      "nb_name = 'usALEX-5samples-PR-raw'\n",
      "run_notebook_template(nb_name, ph_sel='Dex')"
     ],
     "language": "python",
     "metadata": {
      "internals": {},
      "slideshow": {
       "slide_type": "-"
      }
     },
     "outputs": [
      {
       "html": [
        "<a href='usALEX-5samples-PR-raw.ipynb' target='_blank'>usALEX-5samples-PR-raw.ipynb</a><br>"
       ],
       "metadata": {},
       "output_type": "display_data",
       "text": [
        "C:\\Data\\Antonio\\software\\src\\multispot_paper\\usALEX-5samples-PR-raw.ipynb"
       ]
      },
      {
       "html": [
        "<a href='out_notebooks/usALEX-5samples-PR-raw-out-Dex-7d.ipynb' target='_blank'>out_notebooks/usALEX-5samples-PR-raw-out-Dex-7d.ipynb</a><br>"
       ],
       "metadata": {},
       "output_type": "display_data",
       "text": [
        "C:\\Data\\Antonio\\software\\src\\multispot_paper\\out_notebooks\\usALEX-5samples-PR-raw-out-Dex-7d.ipynb"
       ]
      },
      {
       "html": [
        "<a href='out_notebooks/usALEX-5samples-PR-raw-out-Dex-12d.ipynb' target='_blank'>out_notebooks/usALEX-5samples-PR-raw-out-Dex-12d.ipynb</a><br>"
       ],
       "metadata": {},
       "output_type": "display_data",
       "text": [
        "C:\\Data\\Antonio\\software\\src\\multispot_paper\\out_notebooks\\usALEX-5samples-PR-raw-out-Dex-12d.ipynb"
       ]
      },
      {
       "html": [
        "<a href='out_notebooks/usALEX-5samples-PR-raw-out-Dex-17d.ipynb' target='_blank'>out_notebooks/usALEX-5samples-PR-raw-out-Dex-17d.ipynb</a><br>"
       ],
       "metadata": {},
       "output_type": "display_data",
       "text": [
        "C:\\Data\\Antonio\\software\\src\\multispot_paper\\out_notebooks\\usALEX-5samples-PR-raw-out-Dex-17d.ipynb"
       ]
      },
      {
       "html": [
        "<a href='out_notebooks/usALEX-5samples-PR-raw-out-Dex-22d.ipynb' target='_blank'>out_notebooks/usALEX-5samples-PR-raw-out-Dex-22d.ipynb</a><br>"
       ],
       "metadata": {},
       "output_type": "display_data",
       "text": [
        "C:\\Data\\Antonio\\software\\src\\multispot_paper\\out_notebooks\\usALEX-5samples-PR-raw-out-Dex-22d.ipynb"
       ]
      },
      {
       "html": [
        "<a href='out_notebooks/usALEX-5samples-PR-raw-out-Dex-27d.ipynb' target='_blank'>out_notebooks/usALEX-5samples-PR-raw-out-Dex-27d.ipynb</a><br>"
       ],
       "metadata": {},
       "output_type": "display_data",
       "text": [
        "C:\\Data\\Antonio\\software\\src\\multispot_paper\\out_notebooks\\usALEX-5samples-PR-raw-out-Dex-27d.ipynb"
       ]
      },
      {
       "html": [
        "<div style=\"max-height:1000px;max-width:1500px;overflow:auto;\">\n",
        "<table border=\"1\" class=\"dataframe\">\n",
        "  <thead>\n",
        "    <tr style=\"text-align: right;\">\n",
        "      <th></th>\n",
        "      <th>n_bursts_all</th>\n",
        "      <th>n_bursts_do</th>\n",
        "      <th>n_bursts_fret</th>\n",
        "      <th>E_kde_w</th>\n",
        "      <th>E_gauss_w</th>\n",
        "      <th>E_gauss_w_sig</th>\n",
        "      <th>E_gauss_w_err</th>\n",
        "      <th>S_kde</th>\n",
        "      <th>S_gauss</th>\n",
        "      <th>S_gauss_sig</th>\n",
        "      <th>S_gauss_err</th>\n",
        "      <th>E_pr_do_kde</th>\n",
        "      <th>nt_mean</th>\n",
        "    </tr>\n",
        "    <tr>\n",
        "      <th>sample</th>\n",
        "      <th></th>\n",
        "      <th></th>\n",
        "      <th></th>\n",
        "      <th></th>\n",
        "      <th></th>\n",
        "      <th></th>\n",
        "      <th></th>\n",
        "      <th></th>\n",
        "      <th></th>\n",
        "      <th></th>\n",
        "      <th></th>\n",
        "      <th></th>\n",
        "      <th></th>\n",
        "    </tr>\n",
        "  </thead>\n",
        "  <tbody>\n",
        "    <tr>\n",
        "      <th>7d</th>\n",
        "      <td> 1653</td>\n",
        "      <td> 955</td>\n",
        "      <td>  641</td>\n",
        "      <td> 0.9336</td>\n",
        "      <td> 0.927281</td>\n",
        "      <td> 0.054494</td>\n",
        "      <td> 0.002152</td>\n",
        "      <td> 0.5752</td>\n",
        "      <td> 0.577278</td>\n",
        "      <td> 0.100331</td>\n",
        "      <td> 0.003963</td>\n",
        "      <td> 0.0982</td>\n",
        "      <td> 23.005879</td>\n",
        "    </tr>\n",
        "    <tr>\n",
        "      <th>12d</th>\n",
        "      <td> 1690</td>\n",
        "      <td> 486</td>\n",
        "      <td> 1155</td>\n",
        "      <td> 0.7510</td>\n",
        "      <td> 0.748524</td>\n",
        "      <td> 0.084144</td>\n",
        "      <td> 0.002476</td>\n",
        "      <td> 0.5996</td>\n",
        "      <td> 0.589008</td>\n",
        "      <td> 0.104657</td>\n",
        "      <td> 0.003079</td>\n",
        "      <td> 0.1026</td>\n",
        "      <td> 23.376184</td>\n",
        "    </tr>\n",
        "    <tr>\n",
        "      <th>17d</th>\n",
        "      <td> 3451</td>\n",
        "      <td> 764</td>\n",
        "      <td> 2584</td>\n",
        "      <td> 0.4908</td>\n",
        "      <td> 0.480718</td>\n",
        "      <td> 0.101802</td>\n",
        "      <td> 0.002003</td>\n",
        "      <td> 0.5754</td>\n",
        "      <td> 0.583630</td>\n",
        "      <td> 0.108354</td>\n",
        "      <td> 0.002132</td>\n",
        "      <td> 0.1056</td>\n",
        "      <td> 23.046017</td>\n",
        "    </tr>\n",
        "    <tr>\n",
        "      <th>22d</th>\n",
        "      <td> 2801</td>\n",
        "      <td> 501</td>\n",
        "      <td> 2184</td>\n",
        "      <td> 0.2752</td>\n",
        "      <td> 0.280169</td>\n",
        "      <td> 0.067912</td>\n",
        "      <td> 0.001453</td>\n",
        "      <td> 0.5768</td>\n",
        "      <td> 0.583304</td>\n",
        "      <td> 0.110295</td>\n",
        "      <td> 0.002360</td>\n",
        "      <td> 0.0938</td>\n",
        "      <td> 26.572519</td>\n",
        "    </tr>\n",
        "    <tr>\n",
        "      <th>27d</th>\n",
        "      <td> 1145</td>\n",
        "      <td> 314</td>\n",
        "      <td>  793</td>\n",
        "      <td> 0.1944</td>\n",
        "      <td> 0.194758</td>\n",
        "      <td> 0.057257</td>\n",
        "      <td> 0.002033</td>\n",
        "      <td> 0.5800</td>\n",
        "      <td> 0.605761</td>\n",
        "      <td> 0.108450</td>\n",
        "      <td> 0.003851</td>\n",
        "      <td> 0.0882</td>\n",
        "      <td> 19.855254</td>\n",
        "    </tr>\n",
        "  </tbody>\n",
        "</table>\n",
        "</div>"
       ],
       "metadata": {},
       "output_type": "display_data",
       "text": [
        "        n_bursts_all  n_bursts_do  n_bursts_fret  E_kde_w  E_gauss_w  \\\n",
        "sample                                                                 \n",
        "7d              1653          955            641   0.9336   0.927281   \n",
        "12d             1690          486           1155   0.7510   0.748524   \n",
        "17d             3451          764           2584   0.4908   0.480718   \n",
        "22d             2801          501           2184   0.2752   0.280169   \n",
        "27d             1145          314            793   0.1944   0.194758   \n",
        "\n",
        "        E_gauss_w_sig  E_gauss_w_err   S_kde   S_gauss  S_gauss_sig  \\\n",
        "sample                                                                \n",
        "7d           0.054494       0.002152  0.5752  0.577278     0.100331   \n",
        "12d          0.084144       0.002476  0.5996  0.589008     0.104657   \n",
        "17d          0.101802       0.002003  0.5754  0.583630     0.108354   \n",
        "22d          0.067912       0.001453  0.5768  0.583304     0.110295   \n",
        "27d          0.057257       0.002033  0.5800  0.605761     0.108450   \n",
        "\n",
        "        S_gauss_err  E_pr_do_kde    nt_mean  \n",
        "sample                                       \n",
        "7d         0.003963       0.0982  23.005879  \n",
        "12d        0.003079       0.1026  23.376184  \n",
        "17d        0.002132       0.1056  23.046017  \n",
        "22d        0.002360       0.0938  26.572519  \n",
        "27d        0.003851       0.0882  19.855254  "
       ]
      }
     ],
     "prompt_number": 6
    },
    {
     "cell_type": "code",
     "collapsed": false,
     "input": [
      "nb_name = 'usALEX-5samples-PR-raw-AND-gate'\n",
      "run_notebook_template(nb_name)"
     ],
     "language": "python",
     "metadata": {
      "internals": {},
      "slideshow": {
       "slide_type": "-"
      }
     },
     "outputs": [
      {
       "html": [
        "<a href='usALEX-5samples-PR-raw-AND-gate.ipynb' target='_blank'>usALEX-5samples-PR-raw-AND-gate.ipynb</a><br>"
       ],
       "metadata": {},
       "output_type": "display_data",
       "text": [
        "C:\\Data\\Antonio\\software\\src\\multispot_paper\\usALEX-5samples-PR-raw-AND-gate.ipynb"
       ]
      },
      {
       "html": [
        "<a href='out_notebooks/usALEX-5samples-PR-raw-AND-gate-out-7d.ipynb' target='_blank'>out_notebooks/usALEX-5samples-PR-raw-AND-gate-out-7d.ipynb</a><br>"
       ],
       "metadata": {},
       "output_type": "display_data",
       "text": [
        "C:\\Data\\Antonio\\software\\src\\multispot_paper\\out_notebooks\\usALEX-5samples-PR-raw-AND-gate-out-7d.ipynb"
       ]
      },
      {
       "html": [
        "<a href='out_notebooks/usALEX-5samples-PR-raw-AND-gate-out-12d.ipynb' target='_blank'>out_notebooks/usALEX-5samples-PR-raw-AND-gate-out-12d.ipynb</a><br>"
       ],
       "metadata": {},
       "output_type": "display_data",
       "text": [
        "C:\\Data\\Antonio\\software\\src\\multispot_paper\\out_notebooks\\usALEX-5samples-PR-raw-AND-gate-out-12d.ipynb"
       ]
      },
      {
       "html": [
        "<a href='out_notebooks/usALEX-5samples-PR-raw-AND-gate-out-17d.ipynb' target='_blank'>out_notebooks/usALEX-5samples-PR-raw-AND-gate-out-17d.ipynb</a><br>"
       ],
       "metadata": {},
       "output_type": "display_data",
       "text": [
        "C:\\Data\\Antonio\\software\\src\\multispot_paper\\out_notebooks\\usALEX-5samples-PR-raw-AND-gate-out-17d.ipynb"
       ]
      },
      {
       "html": [
        "<a href='out_notebooks/usALEX-5samples-PR-raw-AND-gate-out-22d.ipynb' target='_blank'>out_notebooks/usALEX-5samples-PR-raw-AND-gate-out-22d.ipynb</a><br>"
       ],
       "metadata": {},
       "output_type": "display_data",
       "text": [
        "C:\\Data\\Antonio\\software\\src\\multispot_paper\\out_notebooks\\usALEX-5samples-PR-raw-AND-gate-out-22d.ipynb"
       ]
      },
      {
       "html": [
        "<a href='out_notebooks/usALEX-5samples-PR-raw-AND-gate-out-27d.ipynb' target='_blank'>out_notebooks/usALEX-5samples-PR-raw-AND-gate-out-27d.ipynb</a><br>"
       ],
       "metadata": {},
       "output_type": "display_data",
       "text": [
        "C:\\Data\\Antonio\\software\\src\\multispot_paper\\out_notebooks\\usALEX-5samples-PR-raw-AND-gate-out-27d.ipynb"
       ]
      },
      {
       "html": [
        "<div style=\"max-height:1000px;max-width:1500px;overflow:auto;\">\n",
        "<table border=\"1\" class=\"dataframe\">\n",
        "  <thead>\n",
        "    <tr style=\"text-align: right;\">\n",
        "      <th></th>\n",
        "      <th>n_bursts_all</th>\n",
        "      <th>n_bursts_fret</th>\n",
        "      <th>E_kde_w</th>\n",
        "      <th>E_gauss_w</th>\n",
        "      <th>E_gauss_w_sig</th>\n",
        "      <th>E_gauss_w_err</th>\n",
        "      <th>S_kde</th>\n",
        "      <th>S_gauss</th>\n",
        "      <th>S_gauss_sig</th>\n",
        "      <th>S_gauss_err</th>\n",
        "      <th>nt_mean</th>\n",
        "    </tr>\n",
        "    <tr>\n",
        "      <th>sample</th>\n",
        "      <th></th>\n",
        "      <th></th>\n",
        "      <th></th>\n",
        "      <th></th>\n",
        "      <th></th>\n",
        "      <th></th>\n",
        "      <th></th>\n",
        "      <th></th>\n",
        "      <th></th>\n",
        "      <th></th>\n",
        "      <th></th>\n",
        "    </tr>\n",
        "  </thead>\n",
        "  <tbody>\n",
        "    <tr>\n",
        "      <th>7d</th>\n",
        "      <td>  667</td>\n",
        "      <td>  611</td>\n",
        "      <td> 0.9356</td>\n",
        "      <td> 0.929024</td>\n",
        "      <td> 0.053870</td>\n",
        "      <td> 0.002179</td>\n",
        "      <td> 0.5764</td>\n",
        "      <td> 0.571353</td>\n",
        "      <td> 0.097668</td>\n",
        "      <td> 0.003951</td>\n",
        "      <td> 23.149194</td>\n",
        "    </tr>\n",
        "    <tr>\n",
        "      <th>12d</th>\n",
        "      <td> 1128</td>\n",
        "      <td> 1102</td>\n",
        "      <td> 0.7526</td>\n",
        "      <td> 0.750735</td>\n",
        "      <td> 0.081054</td>\n",
        "      <td> 0.002442</td>\n",
        "      <td> 0.5938</td>\n",
        "      <td> 0.583500</td>\n",
        "      <td> 0.101023</td>\n",
        "      <td> 0.003043</td>\n",
        "      <td> 23.289503</td>\n",
        "    </tr>\n",
        "    <tr>\n",
        "      <th>17d</th>\n",
        "      <td> 2475</td>\n",
        "      <td> 2450</td>\n",
        "      <td> 0.4910</td>\n",
        "      <td> 0.482356</td>\n",
        "      <td> 0.099150</td>\n",
        "      <td> 0.002003</td>\n",
        "      <td> 0.5746</td>\n",
        "      <td> 0.575922</td>\n",
        "      <td> 0.102744</td>\n",
        "      <td> 0.002076</td>\n",
        "      <td> 23.037763</td>\n",
        "    </tr>\n",
        "    <tr>\n",
        "      <th>22d</th>\n",
        "      <td> 2197</td>\n",
        "      <td> 2111</td>\n",
        "      <td> 0.2746</td>\n",
        "      <td> 0.279806</td>\n",
        "      <td> 0.068680</td>\n",
        "      <td> 0.001495</td>\n",
        "      <td> 0.5690</td>\n",
        "      <td> 0.577698</td>\n",
        "      <td> 0.108606</td>\n",
        "      <td> 0.002364</td>\n",
        "      <td> 26.511870</td>\n",
        "    </tr>\n",
        "    <tr>\n",
        "      <th>27d</th>\n",
        "      <td>  782</td>\n",
        "      <td>  761</td>\n",
        "      <td> 0.1944</td>\n",
        "      <td> 0.193718</td>\n",
        "      <td> 0.058629</td>\n",
        "      <td> 0.002125</td>\n",
        "      <td> 0.5818</td>\n",
        "      <td> 0.600650</td>\n",
        "      <td> 0.105768</td>\n",
        "      <td> 0.003834</td>\n",
        "      <td> 19.658119</td>\n",
        "    </tr>\n",
        "  </tbody>\n",
        "</table>\n",
        "</div>"
       ],
       "metadata": {},
       "output_type": "display_data",
       "text": [
        "        n_bursts_all  n_bursts_fret  E_kde_w  E_gauss_w  E_gauss_w_sig  \\\n",
        "sample                                                                   \n",
        "7d               667            611   0.9356   0.929024       0.053870   \n",
        "12d             1128           1102   0.7526   0.750735       0.081054   \n",
        "17d             2475           2450   0.4910   0.482356       0.099150   \n",
        "22d             2197           2111   0.2746   0.279806       0.068680   \n",
        "27d              782            761   0.1944   0.193718       0.058629   \n",
        "\n",
        "        E_gauss_w_err   S_kde   S_gauss  S_gauss_sig  S_gauss_err    nt_mean  \n",
        "sample                                                                        \n",
        "7d           0.002179  0.5764  0.571353     0.097668     0.003951  23.149194  \n",
        "12d          0.002442  0.5938  0.583500     0.101023     0.003043  23.289503  \n",
        "17d          0.002003  0.5746  0.575922     0.102744     0.002076  23.037763  \n",
        "22d          0.001495  0.5690  0.577698     0.108606     0.002364  26.511870  \n",
        "27d          0.002125  0.5818  0.600650     0.105768     0.003834  19.658119  "
       ]
      }
     ],
     "prompt_number": 7
    },
    {
     "cell_type": "markdown",
     "metadata": {
      "internals": {},
      "slideshow": {
       "slide_type": "-"
      }
     },
     "source": [
      "## 2. \u03bcs-ALEX: Leakage coefficient fit"
     ]
    },
    {
     "cell_type": "markdown",
     "metadata": {
      "internals": {},
      "slideshow": {
       "slide_type": "-"
      }
     },
     "source": [
      "In this section we compute the spectral leakage coefficient from the Donor-only peak positions in the Raw PR histograms.\n",
      "\n",
      "The computation is performed by [usALEX - Corrections - Leakage fit](usALEX - Corrections - Leakage fit.ipynb)\n",
      "and uses results from [usALEX-5samples-PR-raw-DexDem](usALEX-5samples-PR-raw-DexDem.ipynb) executed in the previous section."
     ]
    },
    {
     "cell_type": "code",
     "collapsed": false,
     "input": [
      "run_notebook('usALEX - Corrections - Leakage fit')"
     ],
     "language": "python",
     "metadata": {
      "internals": {},
      "slideshow": {
       "slide_type": "-"
      }
     },
     "outputs": [
      {
       "html": [
        "<a href='usALEX - Corrections - Leakage fit.ipynb' target='_blank'>usALEX - Corrections - Leakage fit.ipynb</a><br>"
       ],
       "metadata": {},
       "output_type": "display_data",
       "text": [
        "C:\\Data\\Antonio\\software\\src\\multispot_paper\\usALEX - Corrections - Leakage fit.ipynb"
       ]
      },
      {
       "html": [
        "<a href='usALEX - Corrections - Leakage fit-out.ipynb' target='_blank'>usALEX - Corrections - Leakage fit-out.ipynb</a><br>"
       ],
       "metadata": {},
       "output_type": "display_data",
       "text": [
        "C:\\Data\\Antonio\\software\\src\\multispot_paper\\usALEX - Corrections - Leakage fit-out.ipynb"
       ]
      }
     ],
     "prompt_number": 8
    },
    {
     "cell_type": "markdown",
     "metadata": {
      "internals": {},
      "slideshow": {
       "slide_type": "-"
      }
     },
     "source": [
      "## 3. \u03bcs-ALEX: Direct excitation fit\n",
      "\n",
      "In this section we extract the direct excitation parameter by fitting the S peak position of the Acceptor-only population.\n",
      "\n",
      "For comparison 2 burst searches are performed:\n",
      "\n",
      "- **all-ph**: burst search on all photons\n",
      "- **AexAem**: burst search on photons during Acceptor excitation detected by the Acceptor detector (acceptor emission).\n",
      "\n",
      "The **all-ph** burst search provides less accurate results and is performed only to show the improvement of the more appropriate **AexAem** burst search."
     ]
    },
    {
     "cell_type": "markdown",
     "metadata": {
      "internals": {},
      "slideshow": {
       "slide_type": "-"
      }
     },
     "source": [
      "### 3.1 Fitting of the S peak"
     ]
    },
    {
     "cell_type": "code",
     "collapsed": false,
     "input": [
      "nb_name = 'usALEX-5samples-PR-raw-dir_ex_aa-fit'\n",
      "run_notebook_template(nb_name, ph_sel='all-ph')"
     ],
     "language": "python",
     "metadata": {
      "internals": {},
      "slideshow": {
       "slide_type": "-"
      }
     },
     "outputs": [
      {
       "html": [
        "<a href='usALEX-5samples-PR-raw-dir_ex_aa-fit.ipynb' target='_blank'>usALEX-5samples-PR-raw-dir_ex_aa-fit.ipynb</a><br>"
       ],
       "metadata": {},
       "output_type": "display_data",
       "text": [
        "C:\\Data\\Antonio\\software\\src\\multispot_paper\\usALEX-5samples-PR-raw-dir_ex_aa-fit.ipynb"
       ]
      },
      {
       "html": [
        "<a href='out_notebooks/usALEX-5samples-PR-raw-dir_ex_aa-fit-out-all-ph-7d.ipynb' target='_blank'>out_notebooks/usALEX-5samples-PR-raw-dir_ex_aa-fit-out-all-ph-7d.ipynb</a><br>"
       ],
       "metadata": {},
       "output_type": "display_data",
       "text": [
        "C:\\Data\\Antonio\\software\\src\\multispot_paper\\out_notebooks\\usALEX-5samples-PR-raw-dir_ex_aa-fit-out-all-ph-7d.ipynb"
       ]
      },
      {
       "html": [
        "<a href='out_notebooks/usALEX-5samples-PR-raw-dir_ex_aa-fit-out-all-ph-12d.ipynb' target='_blank'>out_notebooks/usALEX-5samples-PR-raw-dir_ex_aa-fit-out-all-ph-12d.ipynb</a><br>"
       ],
       "metadata": {},
       "output_type": "display_data",
       "text": [
        "C:\\Data\\Antonio\\software\\src\\multispot_paper\\out_notebooks\\usALEX-5samples-PR-raw-dir_ex_aa-fit-out-all-ph-12d.ipynb"
       ]
      },
      {
       "html": [
        "<a href='out_notebooks/usALEX-5samples-PR-raw-dir_ex_aa-fit-out-all-ph-17d.ipynb' target='_blank'>out_notebooks/usALEX-5samples-PR-raw-dir_ex_aa-fit-out-all-ph-17d.ipynb</a><br>"
       ],
       "metadata": {},
       "output_type": "display_data",
       "text": [
        "C:\\Data\\Antonio\\software\\src\\multispot_paper\\out_notebooks\\usALEX-5samples-PR-raw-dir_ex_aa-fit-out-all-ph-17d.ipynb"
       ]
      },
      {
       "html": [
        "<a href='out_notebooks/usALEX-5samples-PR-raw-dir_ex_aa-fit-out-all-ph-22d.ipynb' target='_blank'>out_notebooks/usALEX-5samples-PR-raw-dir_ex_aa-fit-out-all-ph-22d.ipynb</a><br>"
       ],
       "metadata": {},
       "output_type": "display_data",
       "text": [
        "C:\\Data\\Antonio\\software\\src\\multispot_paper\\out_notebooks\\usALEX-5samples-PR-raw-dir_ex_aa-fit-out-all-ph-22d.ipynb"
       ]
      },
      {
       "html": [
        "<a href='out_notebooks/usALEX-5samples-PR-raw-dir_ex_aa-fit-out-all-ph-27d.ipynb' target='_blank'>out_notebooks/usALEX-5samples-PR-raw-dir_ex_aa-fit-out-all-ph-27d.ipynb</a><br>"
       ],
       "metadata": {},
       "output_type": "display_data",
       "text": [
        "C:\\Data\\Antonio\\software\\src\\multispot_paper\\out_notebooks\\usALEX-5samples-PR-raw-dir_ex_aa-fit-out-all-ph-27d.ipynb"
       ]
      },
      {
       "html": [
        "<div style=\"max-height:1000px;max-width:1500px;overflow:auto;\">\n",
        "<table border=\"1\" class=\"dataframe\">\n",
        "  <thead>\n",
        "    <tr style=\"text-align: right;\">\n",
        "      <th></th>\n",
        "      <th>n_bursts_aa</th>\n",
        "      <th>dir_ex_S_kde</th>\n",
        "      <th>dir_ex_S2p</th>\n",
        "      <th>dir_ex_S2pa</th>\n",
        "      <th>dir_ex_S_kde_w1</th>\n",
        "      <th>dir_ex_S_kde_w4</th>\n",
        "      <th>dir_ex_S_kde_w5</th>\n",
        "      <th>dir_ex_S2p_w5</th>\n",
        "      <th>dir_ex_S2p_w5a</th>\n",
        "    </tr>\n",
        "    <tr>\n",
        "      <th>sample</th>\n",
        "      <th></th>\n",
        "      <th></th>\n",
        "      <th></th>\n",
        "      <th></th>\n",
        "      <th></th>\n",
        "      <th></th>\n",
        "      <th></th>\n",
        "      <th></th>\n",
        "      <th></th>\n",
        "    </tr>\n",
        "  </thead>\n",
        "  <tbody>\n",
        "    <tr>\n",
        "      <th>7d</th>\n",
        "      <td> 392</td>\n",
        "      <td> 0.068148</td>\n",
        "      <td> 0.071880</td>\n",
        "      <td> 0.047785</td>\n",
        "      <td> 0.067920</td>\n",
        "      <td> 0.062473</td>\n",
        "      <td> 0.062473</td>\n",
        "      <td> 0.055039</td>\n",
        "      <td> 0.046237</td>\n",
        "    </tr>\n",
        "    <tr>\n",
        "      <th>12d</th>\n",
        "      <td> 169</td>\n",
        "      <td> 0.073422</td>\n",
        "      <td> 0.099534</td>\n",
        "      <td> 0.045945</td>\n",
        "      <td> 0.073422</td>\n",
        "      <td> 0.069519</td>\n",
        "      <td> 0.069519</td>\n",
        "      <td> 0.076191</td>\n",
        "      <td> 0.039622</td>\n",
        "    </tr>\n",
        "    <tr>\n",
        "      <th>17d</th>\n",
        "      <td> 372</td>\n",
        "      <td> 0.086720</td>\n",
        "      <td> 0.107564</td>\n",
        "      <td> 0.063839</td>\n",
        "      <td> 0.086012</td>\n",
        "      <td> 0.073422</td>\n",
        "      <td> 0.073422</td>\n",
        "      <td> 0.072389</td>\n",
        "      <td> 0.046629</td>\n",
        "    </tr>\n",
        "    <tr>\n",
        "      <th>22d</th>\n",
        "      <td> 331</td>\n",
        "      <td> 0.078749</td>\n",
        "      <td> 0.089856</td>\n",
        "      <td> 0.057488</td>\n",
        "      <td> 0.078051</td>\n",
        "      <td> 0.070435</td>\n",
        "      <td> 0.070435</td>\n",
        "      <td> 0.073369</td>\n",
        "      <td> 0.050282</td>\n",
        "    </tr>\n",
        "    <tr>\n",
        "      <th>27d</th>\n",
        "      <td>  61</td>\n",
        "      <td> 0.040150</td>\n",
        "      <td> 0.120768</td>\n",
        "      <td> 0.020582</td>\n",
        "      <td> 0.040150</td>\n",
        "      <td> 0.044932</td>\n",
        "      <td> 0.044932</td>\n",
        "      <td> 0.035625</td>\n",
        "      <td> 0.003425</td>\n",
        "    </tr>\n",
        "  </tbody>\n",
        "</table>\n",
        "</div>"
       ],
       "metadata": {},
       "output_type": "display_data",
       "text": [
        "        n_bursts_aa  dir_ex_S_kde  dir_ex_S2p  dir_ex_S2pa  dir_ex_S_kde_w1  \\\n",
        "sample                                                                        \n",
        "7d              392      0.068148    0.071880     0.047785         0.067920   \n",
        "12d             169      0.073422    0.099534     0.045945         0.073422   \n",
        "17d             372      0.086720    0.107564     0.063839         0.086012   \n",
        "22d             331      0.078749    0.089856     0.057488         0.078051   \n",
        "27d              61      0.040150    0.120768     0.020582         0.040150   \n",
        "\n",
        "        dir_ex_S_kde_w4  dir_ex_S_kde_w5  dir_ex_S2p_w5  dir_ex_S2p_w5a  \n",
        "sample                                                                   \n",
        "7d             0.062473         0.062473       0.055039        0.046237  \n",
        "12d            0.069519         0.069519       0.076191        0.039622  \n",
        "17d            0.073422         0.073422       0.072389        0.046629  \n",
        "22d            0.070435         0.070435       0.073369        0.050282  \n",
        "27d            0.044932         0.044932       0.035625        0.003425  "
       ]
      }
     ],
     "prompt_number": 9
    },
    {
     "cell_type": "code",
     "collapsed": false,
     "input": [
      "nb_name = 'usALEX-5samples-PR-raw-dir_ex_aa-fit'\n",
      "run_notebook_template(nb_name, ph_sel='AexAem')"
     ],
     "language": "python",
     "metadata": {
      "internals": {},
      "slideshow": {
       "slide_type": "-"
      }
     },
     "outputs": [
      {
       "html": [
        "<a href='usALEX-5samples-PR-raw-dir_ex_aa-fit.ipynb' target='_blank'>usALEX-5samples-PR-raw-dir_ex_aa-fit.ipynb</a><br>"
       ],
       "metadata": {},
       "output_type": "display_data",
       "text": [
        "C:\\Data\\Antonio\\software\\src\\multispot_paper\\usALEX-5samples-PR-raw-dir_ex_aa-fit.ipynb"
       ]
      },
      {
       "html": [
        "<a href='out_notebooks/usALEX-5samples-PR-raw-dir_ex_aa-fit-out-AexAem-7d.ipynb' target='_blank'>out_notebooks/usALEX-5samples-PR-raw-dir_ex_aa-fit-out-AexAem-7d.ipynb</a><br>"
       ],
       "metadata": {},
       "output_type": "display_data",
       "text": [
        "C:\\Data\\Antonio\\software\\src\\multispot_paper\\out_notebooks\\usALEX-5samples-PR-raw-dir_ex_aa-fit-out-AexAem-7d.ipynb"
       ]
      },
      {
       "html": [
        "<a href='out_notebooks/usALEX-5samples-PR-raw-dir_ex_aa-fit-out-AexAem-12d.ipynb' target='_blank'>out_notebooks/usALEX-5samples-PR-raw-dir_ex_aa-fit-out-AexAem-12d.ipynb</a><br>"
       ],
       "metadata": {},
       "output_type": "display_data",
       "text": [
        "C:\\Data\\Antonio\\software\\src\\multispot_paper\\out_notebooks\\usALEX-5samples-PR-raw-dir_ex_aa-fit-out-AexAem-12d.ipynb"
       ]
      },
      {
       "html": [
        "<a href='out_notebooks/usALEX-5samples-PR-raw-dir_ex_aa-fit-out-AexAem-17d.ipynb' target='_blank'>out_notebooks/usALEX-5samples-PR-raw-dir_ex_aa-fit-out-AexAem-17d.ipynb</a><br>"
       ],
       "metadata": {},
       "output_type": "display_data",
       "text": [
        "C:\\Data\\Antonio\\software\\src\\multispot_paper\\out_notebooks\\usALEX-5samples-PR-raw-dir_ex_aa-fit-out-AexAem-17d.ipynb"
       ]
      },
      {
       "html": [
        "<a href='out_notebooks/usALEX-5samples-PR-raw-dir_ex_aa-fit-out-AexAem-22d.ipynb' target='_blank'>out_notebooks/usALEX-5samples-PR-raw-dir_ex_aa-fit-out-AexAem-22d.ipynb</a><br>"
       ],
       "metadata": {},
       "output_type": "display_data",
       "text": [
        "C:\\Data\\Antonio\\software\\src\\multispot_paper\\out_notebooks\\usALEX-5samples-PR-raw-dir_ex_aa-fit-out-AexAem-22d.ipynb"
       ]
      },
      {
       "html": [
        "<a href='out_notebooks/usALEX-5samples-PR-raw-dir_ex_aa-fit-out-AexAem-27d.ipynb' target='_blank'>out_notebooks/usALEX-5samples-PR-raw-dir_ex_aa-fit-out-AexAem-27d.ipynb</a><br>"
       ],
       "metadata": {},
       "output_type": "display_data",
       "text": [
        "C:\\Data\\Antonio\\software\\src\\multispot_paper\\out_notebooks\\usALEX-5samples-PR-raw-dir_ex_aa-fit-out-AexAem-27d.ipynb"
       ]
      },
      {
       "html": [
        "<div style=\"max-height:1000px;max-width:1500px;overflow:auto;\">\n",
        "<table border=\"1\" class=\"dataframe\">\n",
        "  <thead>\n",
        "    <tr style=\"text-align: right;\">\n",
        "      <th></th>\n",
        "      <th>n_bursts_aa</th>\n",
        "      <th>dir_ex_S_kde</th>\n",
        "      <th>dir_ex_S2p</th>\n",
        "      <th>dir_ex_S2pa</th>\n",
        "      <th>dir_ex_S_kde_w1</th>\n",
        "      <th>dir_ex_S_kde_w4</th>\n",
        "      <th>dir_ex_S_kde_w5</th>\n",
        "      <th>dir_ex_S2p_w5</th>\n",
        "      <th>dir_ex_S2p_w5a</th>\n",
        "    </tr>\n",
        "    <tr>\n",
        "      <th>sample</th>\n",
        "      <th></th>\n",
        "      <th></th>\n",
        "      <th></th>\n",
        "      <th></th>\n",
        "      <th></th>\n",
        "      <th></th>\n",
        "      <th></th>\n",
        "      <th></th>\n",
        "      <th></th>\n",
        "    </tr>\n",
        "  </thead>\n",
        "  <tbody>\n",
        "    <tr>\n",
        "      <th>7d</th>\n",
        "      <td> 630</td>\n",
        "      <td> 0.061797</td>\n",
        "      <td> 0.068843</td>\n",
        "      <td> 0.061137</td>\n",
        "      <td> 0.061571</td>\n",
        "      <td> 0.055743</td>\n",
        "      <td> 0.055743</td>\n",
        "      <td> 0.055734</td>\n",
        "      <td> 0.050935</td>\n",
        "    </tr>\n",
        "    <tr>\n",
        "      <th>12d</th>\n",
        "      <td> 269</td>\n",
        "      <td> 0.062473</td>\n",
        "      <td> 0.091852</td>\n",
        "      <td> 0.044397</td>\n",
        "      <td> 0.062473</td>\n",
        "      <td> 0.058873</td>\n",
        "      <td> 0.058873</td>\n",
        "      <td> 0.058348</td>\n",
        "      <td> 0.048265</td>\n",
        "    </tr>\n",
        "    <tr>\n",
        "      <th>17d</th>\n",
        "      <td> 610</td>\n",
        "      <td> 0.085305</td>\n",
        "      <td> 0.120962</td>\n",
        "      <td> 0.070899</td>\n",
        "      <td> 0.084363</td>\n",
        "      <td> 0.078051</td>\n",
        "      <td> 0.078051</td>\n",
        "      <td> 0.074779</td>\n",
        "      <td> 0.061504</td>\n",
        "    </tr>\n",
        "    <tr>\n",
        "      <th>22d</th>\n",
        "      <td> 430</td>\n",
        "      <td> 0.085305</td>\n",
        "      <td> 0.109323</td>\n",
        "      <td> 0.057408</td>\n",
        "      <td> 0.084599</td>\n",
        "      <td> 0.072271</td>\n",
        "      <td> 0.072271</td>\n",
        "      <td> 0.062908</td>\n",
        "      <td> 0.048816</td>\n",
        "    </tr>\n",
        "    <tr>\n",
        "      <th>27d</th>\n",
        "      <td> 129</td>\n",
        "      <td> 0.050420</td>\n",
        "      <td> 0.081572</td>\n",
        "      <td> 0.034044</td>\n",
        "      <td> 0.050200</td>\n",
        "      <td> 0.070893</td>\n",
        "      <td> 0.070893</td>\n",
        "      <td> 0.051986</td>\n",
        "      <td> 0.015566</td>\n",
        "    </tr>\n",
        "  </tbody>\n",
        "</table>\n",
        "</div>"
       ],
       "metadata": {},
       "output_type": "display_data",
       "text": [
        "        n_bursts_aa  dir_ex_S_kde  dir_ex_S2p  dir_ex_S2pa  dir_ex_S_kde_w1  \\\n",
        "sample                                                                        \n",
        "7d              630      0.061797    0.068843     0.061137         0.061571   \n",
        "12d             269      0.062473    0.091852     0.044397         0.062473   \n",
        "17d             610      0.085305    0.120962     0.070899         0.084363   \n",
        "22d             430      0.085305    0.109323     0.057408         0.084599   \n",
        "27d             129      0.050420    0.081572     0.034044         0.050200   \n",
        "\n",
        "        dir_ex_S_kde_w4  dir_ex_S_kde_w5  dir_ex_S2p_w5  dir_ex_S2p_w5a  \n",
        "sample                                                                   \n",
        "7d             0.055743         0.055743       0.055734        0.050935  \n",
        "12d            0.058873         0.058873       0.058348        0.048265  \n",
        "17d            0.078051         0.078051       0.074779        0.061504  \n",
        "22d            0.072271         0.072271       0.062908        0.048816  \n",
        "27d            0.070893         0.070893       0.051986        0.015566  "
       ]
      }
     ],
     "prompt_number": 10
    },
    {
     "cell_type": "markdown",
     "metadata": {
      "internals": {},
      "slideshow": {
       "slide_type": "-"
      }
     },
     "source": [
      "### 3.2 Computation of the direct excitation coefficient\n",
      "\n",
      "The notebook [usALEX - Corrections - Direct excitation fit](usALEX - Corrections - Direct excitation fit.ipynb) computes the direct excitation coefficient performing an average of the values aextracted from each single measurement:"
     ]
    },
    {
     "cell_type": "code",
     "collapsed": false,
     "input": [
      "run_notebook('usALEX - Corrections - Direct excitation fit')"
     ],
     "language": "python",
     "metadata": {
      "internals": {},
      "slideshow": {
       "slide_type": "-"
      }
     },
     "outputs": [
      {
       "html": [
        "<a href='usALEX - Corrections - Direct excitation fit.ipynb' target='_blank'>usALEX - Corrections - Direct excitation fit.ipynb</a><br>"
       ],
       "metadata": {},
       "output_type": "display_data",
       "text": [
        "C:\\Data\\Antonio\\software\\src\\multispot_paper\\usALEX - Corrections - Direct excitation fit.ipynb"
       ]
      },
      {
       "html": [
        "<a href='usALEX - Corrections - Direct excitation fit-out.ipynb' target='_blank'>usALEX - Corrections - Direct excitation fit-out.ipynb</a><br>"
       ],
       "metadata": {},
       "output_type": "display_data",
       "text": [
        "C:\\Data\\Antonio\\software\\src\\multispot_paper\\usALEX - Corrections - Direct excitation fit-out.ipynb"
       ]
      }
     ],
     "prompt_number": 11
    },
    {
     "cell_type": "markdown",
     "metadata": {
      "internals": {},
      "slideshow": {
       "slide_type": "-"
      }
     },
     "source": [
      "## 4. \u03bcs-ALEX: $\\gamma$-factor fit\n",
      "\n",
      "In this section we compute the $\\gamma$-factor for the \u03bcs-ALEX measurements.\n",
      "\n",
      "First we reprocess the \u03bcs-ALEX measurements including background, leakage and direct excitation correction (standard PR). Then, for the fitted $E$ and $S$ peak position for the FRET population we fit the $\\gamma$-factor."
     ]
    },
    {
     "cell_type": "markdown",
     "metadata": {
      "internals": {},
      "slideshow": {
       "slide_type": "-"
      }
     },
     "source": [
      "### 4.1: Proximity Ratio analysis"
     ]
    },
    {
     "cell_type": "code",
     "collapsed": false,
     "input": [
      "nb_name = 'usALEX-5samples-PR-leakage-dir-ex-all-ph'\n",
      "run_notebook_template(nb_name)"
     ],
     "language": "python",
     "metadata": {
      "internals": {},
      "slideshow": {
       "slide_type": "-"
      }
     },
     "outputs": [
      {
       "html": [
        "<a href='usALEX-5samples-PR-leakage-dir-ex-all-ph.ipynb' target='_blank'>usALEX-5samples-PR-leakage-dir-ex-all-ph.ipynb</a><br>"
       ],
       "metadata": {},
       "output_type": "display_data",
       "text": [
        "C:\\Data\\Antonio\\software\\src\\multispot_paper\\usALEX-5samples-PR-leakage-dir-ex-all-ph.ipynb"
       ]
      },
      {
       "html": [
        "<a href='out_notebooks/usALEX-5samples-PR-leakage-dir-ex-all-ph-out-7d.ipynb' target='_blank'>out_notebooks/usALEX-5samples-PR-leakage-dir-ex-all-ph-out-7d.ipynb</a><br>"
       ],
       "metadata": {},
       "output_type": "display_data",
       "text": [
        "C:\\Data\\Antonio\\software\\src\\multispot_paper\\out_notebooks\\usALEX-5samples-PR-leakage-dir-ex-all-ph-out-7d.ipynb"
       ]
      },
      {
       "html": [
        "<a href='out_notebooks/usALEX-5samples-PR-leakage-dir-ex-all-ph-out-12d.ipynb' target='_blank'>out_notebooks/usALEX-5samples-PR-leakage-dir-ex-all-ph-out-12d.ipynb</a><br>"
       ],
       "metadata": {},
       "output_type": "display_data",
       "text": [
        "C:\\Data\\Antonio\\software\\src\\multispot_paper\\out_notebooks\\usALEX-5samples-PR-leakage-dir-ex-all-ph-out-12d.ipynb"
       ]
      },
      {
       "html": [
        "<a href='out_notebooks/usALEX-5samples-PR-leakage-dir-ex-all-ph-out-17d.ipynb' target='_blank'>out_notebooks/usALEX-5samples-PR-leakage-dir-ex-all-ph-out-17d.ipynb</a><br>"
       ],
       "metadata": {},
       "output_type": "display_data",
       "text": [
        "C:\\Data\\Antonio\\software\\src\\multispot_paper\\out_notebooks\\usALEX-5samples-PR-leakage-dir-ex-all-ph-out-17d.ipynb"
       ]
      },
      {
       "html": [
        "<a href='out_notebooks/usALEX-5samples-PR-leakage-dir-ex-all-ph-out-22d.ipynb' target='_blank'>out_notebooks/usALEX-5samples-PR-leakage-dir-ex-all-ph-out-22d.ipynb</a><br>"
       ],
       "metadata": {},
       "output_type": "display_data",
       "text": [
        "C:\\Data\\Antonio\\software\\src\\multispot_paper\\out_notebooks\\usALEX-5samples-PR-leakage-dir-ex-all-ph-out-22d.ipynb"
       ]
      },
      {
       "html": [
        "<a href='out_notebooks/usALEX-5samples-PR-leakage-dir-ex-all-ph-out-27d.ipynb' target='_blank'>out_notebooks/usALEX-5samples-PR-leakage-dir-ex-all-ph-out-27d.ipynb</a><br>"
       ],
       "metadata": {},
       "output_type": "display_data",
       "text": [
        "C:\\Data\\Antonio\\software\\src\\multispot_paper\\out_notebooks\\usALEX-5samples-PR-leakage-dir-ex-all-ph-out-27d.ipynb"
       ]
      },
      {
       "html": [
        "<div style=\"max-height:1000px;max-width:1500px;overflow:auto;\">\n",
        "<table border=\"1\" class=\"dataframe\">\n",
        "  <thead>\n",
        "    <tr style=\"text-align: right;\">\n",
        "      <th></th>\n",
        "      <th>n_bursts_all</th>\n",
        "      <th>n_bursts_do</th>\n",
        "      <th>n_bursts_fret</th>\n",
        "      <th>E_kde_w</th>\n",
        "      <th>E_gauss_w</th>\n",
        "      <th>E_gauss_w_sig</th>\n",
        "      <th>E_gauss_w_err</th>\n",
        "      <th>S_kde</th>\n",
        "      <th>S_gauss</th>\n",
        "      <th>S_gauss_sig</th>\n",
        "      <th>S_gauss_err</th>\n",
        "      <th>E_pr_do_kde</th>\n",
        "      <th>nt_mean</th>\n",
        "    </tr>\n",
        "    <tr>\n",
        "      <th>sample</th>\n",
        "      <th></th>\n",
        "      <th></th>\n",
        "      <th></th>\n",
        "      <th></th>\n",
        "      <th></th>\n",
        "      <th></th>\n",
        "      <th></th>\n",
        "      <th></th>\n",
        "      <th></th>\n",
        "      <th></th>\n",
        "      <th></th>\n",
        "      <th></th>\n",
        "      <th></th>\n",
        "    </tr>\n",
        "  </thead>\n",
        "  <tbody>\n",
        "    <tr>\n",
        "      <th>7d</th>\n",
        "      <td> 1167</td>\n",
        "      <td> 582</td>\n",
        "      <td>  542</td>\n",
        "      <td> 0.9302</td>\n",
        "      <td> 0.925533</td>\n",
        "      <td> 0.059437</td>\n",
        "      <td> 0.002553</td>\n",
        "      <td> 0.5524</td>\n",
        "      <td> 0.550366</td>\n",
        "      <td> 0.099261</td>\n",
        "      <td> 0.004264</td>\n",
        "      <td> 0.0014</td>\n",
        "      <td> 22.198866</td>\n",
        "    </tr>\n",
        "    <tr>\n",
        "      <th>12d</th>\n",
        "      <td> 1303</td>\n",
        "      <td> 329</td>\n",
        "      <td>  944</td>\n",
        "      <td> 0.7430</td>\n",
        "      <td> 0.731184</td>\n",
        "      <td> 0.092252</td>\n",
        "      <td> 0.003003</td>\n",
        "      <td> 0.5768</td>\n",
        "      <td> 0.556622</td>\n",
        "      <td> 0.105519</td>\n",
        "      <td> 0.003434</td>\n",
        "      <td> 0.0164</td>\n",
        "      <td> 21.841780</td>\n",
        "    </tr>\n",
        "    <tr>\n",
        "      <th>17d</th>\n",
        "      <td> 2482</td>\n",
        "      <td> 462</td>\n",
        "      <td> 1957</td>\n",
        "      <td> 0.4310</td>\n",
        "      <td> 0.426150</td>\n",
        "      <td> 0.114118</td>\n",
        "      <td> 0.002580</td>\n",
        "      <td> 0.5436</td>\n",
        "      <td> 0.536833</td>\n",
        "      <td> 0.113025</td>\n",
        "      <td> 0.002555</td>\n",
        "      <td> 0.0126</td>\n",
        "      <td> 21.054460</td>\n",
        "    </tr>\n",
        "    <tr>\n",
        "      <th>22d</th>\n",
        "      <td> 2047</td>\n",
        "      <td> 319</td>\n",
        "      <td> 1666</td>\n",
        "      <td> 0.1788</td>\n",
        "      <td> 0.182669</td>\n",
        "      <td> 0.078314</td>\n",
        "      <td> 0.001919</td>\n",
        "      <td> 0.5426</td>\n",
        "      <td> 0.543185</td>\n",
        "      <td> 0.114819</td>\n",
        "      <td> 0.002813</td>\n",
        "      <td> 0.0008</td>\n",
        "      <td> 22.918195</td>\n",
        "    </tr>\n",
        "    <tr>\n",
        "      <th>27d</th>\n",
        "      <td>  786</td>\n",
        "      <td> 160</td>\n",
        "      <td>  584</td>\n",
        "      <td> 0.0834</td>\n",
        "      <td> 0.084095</td>\n",
        "      <td> 0.070112</td>\n",
        "      <td> 0.002901</td>\n",
        "      <td> 0.5150</td>\n",
        "      <td> 0.556142</td>\n",
        "      <td> 0.115363</td>\n",
        "      <td> 0.004774</td>\n",
        "      <td>-0.0068</td>\n",
        "      <td> 16.980773</td>\n",
        "    </tr>\n",
        "  </tbody>\n",
        "</table>\n",
        "</div>"
       ],
       "metadata": {},
       "output_type": "display_data",
       "text": [
        "        n_bursts_all  n_bursts_do  n_bursts_fret  E_kde_w  E_gauss_w  \\\n",
        "sample                                                                 \n",
        "7d              1167          582            542   0.9302   0.925533   \n",
        "12d             1303          329            944   0.7430   0.731184   \n",
        "17d             2482          462           1957   0.4310   0.426150   \n",
        "22d             2047          319           1666   0.1788   0.182669   \n",
        "27d              786          160            584   0.0834   0.084095   \n",
        "\n",
        "        E_gauss_w_sig  E_gauss_w_err   S_kde   S_gauss  S_gauss_sig  \\\n",
        "sample                                                                \n",
        "7d           0.059437       0.002553  0.5524  0.550366     0.099261   \n",
        "12d          0.092252       0.003003  0.5768  0.556622     0.105519   \n",
        "17d          0.114118       0.002580  0.5436  0.536833     0.113025   \n",
        "22d          0.078314       0.001919  0.5426  0.543185     0.114819   \n",
        "27d          0.070112       0.002901  0.5150  0.556142     0.115363   \n",
        "\n",
        "        S_gauss_err  E_pr_do_kde    nt_mean  \n",
        "sample                                       \n",
        "7d         0.004264       0.0014  22.198866  \n",
        "12d        0.003434       0.0164  21.841780  \n",
        "17d        0.002555       0.0126  21.054460  \n",
        "22d        0.002813       0.0008  22.918195  \n",
        "27d        0.004774      -0.0068  16.980773  "
       ]
      }
     ],
     "prompt_number": 12
    },
    {
     "cell_type": "markdown",
     "metadata": {
      "internals": {},
      "slideshow": {
       "slide_type": "-"
      }
     },
     "source": [
      "### 4.2 $\\gamma$-factor fit\n",
      "\n",
      "The notebook [usALEX - Corrections - Gamma factor fit](usALEX - Corrections - Gamma factor fit.ipynb)\n",
      "fits the $\\gamma$-factor from $E$ and $S$ values computed in the previous section."
     ]
    },
    {
     "cell_type": "code",
     "collapsed": false,
     "input": [
      "run_notebook('usALEX - Corrections - Gamma factor fit')"
     ],
     "language": "python",
     "metadata": {
      "internals": {},
      "slideshow": {
       "slide_type": "-"
      }
     },
     "outputs": [
      {
       "html": [
        "<a href='usALEX - Corrections - Gamma factor fit.ipynb' target='_blank'>usALEX - Corrections - Gamma factor fit.ipynb</a><br>"
       ],
       "metadata": {},
       "output_type": "display_data",
       "text": [
        "C:\\Data\\Antonio\\software\\src\\multispot_paper\\usALEX - Corrections - Gamma factor fit.ipynb"
       ]
      },
      {
       "html": [
        "<a href='usALEX - Corrections - Gamma factor fit-out.ipynb' target='_blank'>usALEX - Corrections - Gamma factor fit-out.ipynb</a><br>"
       ],
       "metadata": {},
       "output_type": "display_data",
       "text": [
        "C:\\Data\\Antonio\\software\\src\\multispot_paper\\usALEX - Corrections - Gamma factor fit-out.ipynb"
       ]
      }
     ],
     "prompt_number": 13
    },
    {
     "cell_type": "markdown",
     "metadata": {
      "internals": {},
      "slideshow": {
       "slide_type": "-"
      }
     },
     "source": [
      "## 5. \u03bcs-ALEX: Corrected E analysis\n",
      "\n",
      "Using all the correction coefficients here we computed the corrected $E$ histograms:"
     ]
    },
    {
     "cell_type": "code",
     "collapsed": false,
     "input": [
      "nb_name = 'usALEX-5samples-E-corrected-all-ph'\n",
      "run_notebook_template(nb_name)"
     ],
     "language": "python",
     "metadata": {
      "internals": {},
      "slideshow": {
       "slide_type": "-"
      }
     },
     "outputs": [
      {
       "html": [
        "<a href='usALEX-5samples-E-corrected-all-ph.ipynb' target='_blank'>usALEX-5samples-E-corrected-all-ph.ipynb</a><br>"
       ],
       "metadata": {},
       "output_type": "display_data",
       "text": [
        "C:\\Data\\Antonio\\software\\src\\multispot_paper\\usALEX-5samples-E-corrected-all-ph.ipynb"
       ]
      },
      {
       "html": [
        "<a href='out_notebooks/usALEX-5samples-E-corrected-all-ph-out-7d.ipynb' target='_blank'>out_notebooks/usALEX-5samples-E-corrected-all-ph-out-7d.ipynb</a><br>"
       ],
       "metadata": {},
       "output_type": "display_data",
       "text": [
        "C:\\Data\\Antonio\\software\\src\\multispot_paper\\out_notebooks\\usALEX-5samples-E-corrected-all-ph-out-7d.ipynb"
       ]
      },
      {
       "html": [
        "<a href='out_notebooks/usALEX-5samples-E-corrected-all-ph-out-12d.ipynb' target='_blank'>out_notebooks/usALEX-5samples-E-corrected-all-ph-out-12d.ipynb</a><br>"
       ],
       "metadata": {},
       "output_type": "display_data",
       "text": [
        "C:\\Data\\Antonio\\software\\src\\multispot_paper\\out_notebooks\\usALEX-5samples-E-corrected-all-ph-out-12d.ipynb"
       ]
      },
      {
       "html": [
        "<a href='out_notebooks/usALEX-5samples-E-corrected-all-ph-out-17d.ipynb' target='_blank'>out_notebooks/usALEX-5samples-E-corrected-all-ph-out-17d.ipynb</a><br>"
       ],
       "metadata": {},
       "output_type": "display_data",
       "text": [
        "C:\\Data\\Antonio\\software\\src\\multispot_paper\\out_notebooks\\usALEX-5samples-E-corrected-all-ph-out-17d.ipynb"
       ]
      },
      {
       "html": [
        "<a href='out_notebooks/usALEX-5samples-E-corrected-all-ph-out-22d.ipynb' target='_blank'>out_notebooks/usALEX-5samples-E-corrected-all-ph-out-22d.ipynb</a><br>"
       ],
       "metadata": {},
       "output_type": "display_data",
       "text": [
        "C:\\Data\\Antonio\\software\\src\\multispot_paper\\out_notebooks\\usALEX-5samples-E-corrected-all-ph-out-22d.ipynb"
       ]
      },
      {
       "html": [
        "<a href='out_notebooks/usALEX-5samples-E-corrected-all-ph-out-27d.ipynb' target='_blank'>out_notebooks/usALEX-5samples-E-corrected-all-ph-out-27d.ipynb</a><br>"
       ],
       "metadata": {},
       "output_type": "display_data",
       "text": [
        "C:\\Data\\Antonio\\software\\src\\multispot_paper\\out_notebooks\\usALEX-5samples-E-corrected-all-ph-out-27d.ipynb"
       ]
      },
      {
       "html": [
        "<div style=\"max-height:1000px;max-width:1500px;overflow:auto;\">\n",
        "<table border=\"1\" class=\"dataframe\">\n",
        "  <thead>\n",
        "    <tr style=\"text-align: right;\">\n",
        "      <th></th>\n",
        "      <th>n_bursts_all</th>\n",
        "      <th>n_bursts_do</th>\n",
        "      <th>n_bursts_fret</th>\n",
        "      <th>E_kde_w</th>\n",
        "      <th>E_gauss_w</th>\n",
        "      <th>E_gauss_w_sig</th>\n",
        "      <th>E_gauss_w_err</th>\n",
        "      <th>S_kde</th>\n",
        "      <th>S_gauss</th>\n",
        "      <th>S_gauss_sig</th>\n",
        "      <th>S_gauss_err</th>\n",
        "      <th>E_pr_do_kde</th>\n",
        "      <th>nt_mean</th>\n",
        "    </tr>\n",
        "    <tr>\n",
        "      <th>sample</th>\n",
        "      <th></th>\n",
        "      <th></th>\n",
        "      <th></th>\n",
        "      <th></th>\n",
        "      <th></th>\n",
        "      <th></th>\n",
        "      <th></th>\n",
        "      <th></th>\n",
        "      <th></th>\n",
        "      <th></th>\n",
        "      <th></th>\n",
        "      <th></th>\n",
        "      <th></th>\n",
        "    </tr>\n",
        "  </thead>\n",
        "  <tbody>\n",
        "    <tr>\n",
        "      <th>7d</th>\n",
        "      <td> 1167</td>\n",
        "      <td> 583</td>\n",
        "      <td>  541</td>\n",
        "      <td> 0.9290</td>\n",
        "      <td> 0.923612</td>\n",
        "      <td> 0.060361</td>\n",
        "      <td> 0.002595</td>\n",
        "      <td> 0.5530</td>\n",
        "      <td> 0.551031</td>\n",
        "      <td> 0.099151</td>\n",
        "      <td> 0.004263</td>\n",
        "      <td> 0.0018</td>\n",
        "      <td> 22.198866</td>\n",
        "    </tr>\n",
        "    <tr>\n",
        "      <th>12d</th>\n",
        "      <td> 1303</td>\n",
        "      <td> 329</td>\n",
        "      <td>  944</td>\n",
        "      <td> 0.7396</td>\n",
        "      <td> 0.727858</td>\n",
        "      <td> 0.091651</td>\n",
        "      <td> 0.002983</td>\n",
        "      <td> 0.5778</td>\n",
        "      <td> 0.558006</td>\n",
        "      <td> 0.105762</td>\n",
        "      <td> 0.003442</td>\n",
        "      <td> 0.0158</td>\n",
        "      <td> 21.841780</td>\n",
        "    </tr>\n",
        "    <tr>\n",
        "      <th>17d</th>\n",
        "      <td> 2482</td>\n",
        "      <td> 463</td>\n",
        "      <td> 1957</td>\n",
        "      <td> 0.4266</td>\n",
        "      <td> 0.422469</td>\n",
        "      <td> 0.112972</td>\n",
        "      <td> 0.002554</td>\n",
        "      <td> 0.5458</td>\n",
        "      <td> 0.539102</td>\n",
        "      <td> 0.112595</td>\n",
        "      <td> 0.002545</td>\n",
        "      <td> 0.0124</td>\n",
        "      <td> 21.054460</td>\n",
        "    </tr>\n",
        "    <tr>\n",
        "      <th>22d</th>\n",
        "      <td> 2047</td>\n",
        "      <td> 320</td>\n",
        "      <td> 1665</td>\n",
        "      <td> 0.1762</td>\n",
        "      <td> 0.180234</td>\n",
        "      <td> 0.077545</td>\n",
        "      <td> 0.001900</td>\n",
        "      <td> 0.5462</td>\n",
        "      <td> 0.546301</td>\n",
        "      <td> 0.114942</td>\n",
        "      <td> 0.002817</td>\n",
        "      <td> 0.0008</td>\n",
        "      <td> 22.918195</td>\n",
        "    </tr>\n",
        "    <tr>\n",
        "      <th>27d</th>\n",
        "      <td>  786</td>\n",
        "      <td> 160</td>\n",
        "      <td>  584</td>\n",
        "      <td> 0.0820</td>\n",
        "      <td> 0.082579</td>\n",
        "      <td> 0.069136</td>\n",
        "      <td> 0.002861</td>\n",
        "      <td> 0.5190</td>\n",
        "      <td> 0.560614</td>\n",
        "      <td> 0.115021</td>\n",
        "      <td> 0.004760</td>\n",
        "      <td>-0.0070</td>\n",
        "      <td> 16.980773</td>\n",
        "    </tr>\n",
        "  </tbody>\n",
        "</table>\n",
        "</div>"
       ],
       "metadata": {},
       "output_type": "display_data",
       "text": [
        "        n_bursts_all  n_bursts_do  n_bursts_fret  E_kde_w  E_gauss_w  \\\n",
        "sample                                                                 \n",
        "7d              1167          583            541   0.9290   0.923612   \n",
        "12d             1303          329            944   0.7396   0.727858   \n",
        "17d             2482          463           1957   0.4266   0.422469   \n",
        "22d             2047          320           1665   0.1762   0.180234   \n",
        "27d              786          160            584   0.0820   0.082579   \n",
        "\n",
        "        E_gauss_w_sig  E_gauss_w_err   S_kde   S_gauss  S_gauss_sig  \\\n",
        "sample                                                                \n",
        "7d           0.060361       0.002595  0.5530  0.551031     0.099151   \n",
        "12d          0.091651       0.002983  0.5778  0.558006     0.105762   \n",
        "17d          0.112972       0.002554  0.5458  0.539102     0.112595   \n",
        "22d          0.077545       0.001900  0.5462  0.546301     0.114942   \n",
        "27d          0.069136       0.002861  0.5190  0.560614     0.115021   \n",
        "\n",
        "        S_gauss_err  E_pr_do_kde    nt_mean  \n",
        "sample                                       \n",
        "7d         0.004263       0.0018  22.198866  \n",
        "12d        0.003442       0.0158  21.841780  \n",
        "17d        0.002545       0.0124  21.054460  \n",
        "22d        0.002817       0.0008  22.918195  \n",
        "27d        0.004760      -0.0070  16.980773  "
       ]
      }
     ],
     "prompt_number": 14
    },
    {
     "cell_type": "markdown",
     "metadata": {
      "internals": {},
      "slideshow": {
       "slide_type": "-"
      }
     },
     "source": [
      "## 6. Direct excitation: physiscal parameter\n",
      "\n",
      "Here we compute the \"physical\" direct direct excitation coefficient:\n",
      "\n",
      "$$ d_{exT} = \\frac{\\sigma_{A532}}{\\sigma_{A532}}$$\n",
      "\n",
      "This coefficient is based only on physical dyes properties and it can therefore applied to non-ALEX measurements. For details see:\n",
      "\n",
      "- [usALEX - Corrections - Direct excitation physical parameter](usALEX - Corrections - Direct excitation physical parameter.ipynb)"
     ]
    },
    {
     "cell_type": "code",
     "collapsed": false,
     "input": [
      "run_notebook('usALEX - Corrections - Direct excitation physical parameter')"
     ],
     "language": "python",
     "metadata": {
      "internals": {},
      "slideshow": {
       "slide_type": "-"
      }
     },
     "outputs": [
      {
       "html": [
        "<a href='usALEX - Corrections - Direct excitation physical parameter.ipynb' target='_blank'>usALEX - Corrections - Direct excitation physical parameter.ipynb</a><br>"
       ],
       "metadata": {},
       "output_type": "display_data",
       "text": [
        "C:\\Data\\Antonio\\software\\src\\multispot_paper\\usALEX - Corrections - Direct excitation physical parameter.ipynb"
       ]
      },
      {
       "html": [
        "<a href='usALEX - Corrections - Direct excitation physical parameter-out.ipynb' target='_blank'>usALEX - Corrections - Direct excitation physical parameter-out.ipynb</a><br>"
       ],
       "metadata": {},
       "output_type": "display_data",
       "text": [
        "C:\\Data\\Antonio\\software\\src\\multispot_paper\\usALEX - Corrections - Direct excitation physical parameter-out.ipynb"
       ]
      }
     ],
     "prompt_number": 15
    },
    {
     "cell_type": "markdown",
     "metadata": {
      "internals": {},
      "slideshow": {
       "slide_type": "-"
      }
     },
     "source": [
      "## 7. Multi-spot analysis"
     ]
    },
    {
     "cell_type": "markdown",
     "metadata": {
      "internals": {},
      "slideshow": {
       "slide_type": "-"
      }
     },
     "source": [
      "### 7.1 DCR and background"
     ]
    },
    {
     "cell_type": "markdown",
     "metadata": {
      "internals": {},
      "slideshow": {
       "slide_type": "-"
      }
     },
     "source": [
      "Plot background fits:"
     ]
    },
    {
     "cell_type": "code",
     "collapsed": false,
     "input": [
      "run_notebook('Multi-spot 5-Samples analysis - Background')"
     ],
     "language": "python",
     "metadata": {
      "internals": {},
      "slideshow": {
       "slide_type": "-"
      }
     },
     "outputs": [
      {
       "html": [
        "<a href='Multi-spot 5-Samples analysis - Background.ipynb' target='_blank'>Multi-spot 5-Samples analysis - Background.ipynb</a><br>"
       ],
       "metadata": {},
       "output_type": "display_data",
       "text": [
        "C:\\Data\\Antonio\\software\\src\\multispot_paper\\Multi-spot 5-Samples analysis - Background.ipynb"
       ]
      },
      {
       "html": [
        "<a href='Multi-spot 5-Samples analysis - Background-out.ipynb' target='_blank'>Multi-spot 5-Samples analysis - Background-out.ipynb</a><br>"
       ],
       "metadata": {},
       "output_type": "display_data",
       "text": [
        "C:\\Data\\Antonio\\software\\src\\multispot_paper\\Multi-spot 5-Samples analysis - Background-out.ipynb"
       ]
      }
     ],
     "prompt_number": 16
    },
    {
     "cell_type": "markdown",
     "metadata": {
      "internals": {},
      "slideshow": {
       "slide_type": "-"
      }
     },
     "source": [
      "Compute detectors DCR:"
     ]
    },
    {
     "cell_type": "code",
     "collapsed": false,
     "input": [
      "run_notebook('8-pixel DCR')"
     ],
     "language": "python",
     "metadata": {
      "internals": {},
      "slideshow": {
       "slide_type": "-"
      }
     },
     "outputs": [
      {
       "html": [
        "<a href='8-pixel DCR.ipynb' target='_blank'>8-pixel DCR.ipynb</a><br>"
       ],
       "metadata": {},
       "output_type": "display_data",
       "text": [
        "C:\\Data\\Antonio\\software\\src\\multispot_paper\\8-pixel DCR.ipynb"
       ]
      },
      {
       "html": [
        "<a href='8-pixel DCR-out.ipynb' target='_blank'>8-pixel DCR-out.ipynb</a><br>"
       ],
       "metadata": {},
       "output_type": "display_data",
       "text": [
        "C:\\Data\\Antonio\\software\\src\\multispot_paper\\8-pixel DCR-out.ipynb"
       ]
      }
     ],
     "prompt_number": 17
    },
    {
     "cell_type": "markdown",
     "metadata": {
      "internals": {},
      "slideshow": {
       "slide_type": "-"
      }
     },
     "source": [
      "### 7.2 Leakage coefficient\n",
      "\n",
      "First step of the analysis of the multi-spot data is fitting the leakage coefficient. This is perfomed by the notebook\n",
      "\n",
      "* [Multi-spot 5-Samples analysis - Leakage coefficient fit](Multi-spot 5-Samples analysis - Leakage coefficient fit.ipynb)\n",
      "\n",
      "that outputs these 3 text files:\n",
      "\n",
      "- [Multi-spot - leakage coefficient Dem.txt](results/Multi-spot - leakage coefficient Dem.txt) *(all-ch, all-samples mean)*\n",
      "- [Multi-spot - leakage coefficient mean per-sample Dem.txt](results/Multi-spot - leakage coefficient mean per-sample Dem.txt)\n",
      "- [Multi-spot - leakage coefficient mean per-ch Dem.txt](results/Multi-spot - leakage coefficient mean per-ch Dem.txt)"
     ]
    },
    {
     "cell_type": "code",
     "collapsed": false,
     "input": [
      "run_notebook('Multi-spot 5-Samples analysis - Leakage coefficient fit')"
     ],
     "language": "python",
     "metadata": {
      "internals": {},
      "slideshow": {
       "slide_type": "-"
      }
     },
     "outputs": [
      {
       "html": [
        "<a href='Multi-spot 5-Samples analysis - Leakage coefficient fit.ipynb' target='_blank'>Multi-spot 5-Samples analysis - Leakage coefficient fit.ipynb</a><br>"
       ],
       "metadata": {},
       "output_type": "display_data",
       "text": [
        "C:\\Data\\Antonio\\software\\src\\multispot_paper\\Multi-spot 5-Samples analysis - Leakage coefficient fit.ipynb"
       ]
      },
      {
       "html": [
        "<a href='Multi-spot 5-Samples analysis - Leakage coefficient fit-out.ipynb' target='_blank'>Multi-spot 5-Samples analysis - Leakage coefficient fit-out.ipynb</a><br>"
       ],
       "metadata": {},
       "output_type": "display_data",
       "text": [
        "C:\\Data\\Antonio\\software\\src\\multispot_paper\\Multi-spot 5-Samples analysis - Leakage coefficient fit-out.ipynb"
       ]
      }
     ],
     "prompt_number": 18
    },
    {
     "cell_type": "markdown",
     "metadata": {
      "internals": {},
      "slideshow": {
       "slide_type": "-"
      }
     },
     "source": [
      "### 7.3 PR and FRET analysis"
     ]
    },
    {
     "cell_type": "markdown",
     "metadata": {
      "internals": {},
      "slideshow": {
       "slide_type": "-"
      }
     },
     "source": [
      "Then we perform the complete analysis by running:\n",
      "\n",
      "* [Multi-spot 5-Samples analysis - PR-raw](Multi-spot 5-Samples analysis - PR-raw.ipynb) "
     ]
    },
    {
     "cell_type": "code",
     "collapsed": false,
     "input": [
      "run_notebook('Multi-spot 5-Samples analysis - PR-raw')"
     ],
     "language": "python",
     "metadata": {
      "internals": {},
      "slideshow": {
       "slide_type": "-"
      }
     },
     "outputs": [
      {
       "html": [
        "<a href='Multi-spot 5-Samples analysis - PR-raw.ipynb' target='_blank'>Multi-spot 5-Samples analysis - PR-raw.ipynb</a><br>"
       ],
       "metadata": {},
       "output_type": "display_data",
       "text": [
        "C:\\Data\\Antonio\\software\\src\\multispot_paper\\Multi-spot 5-Samples analysis - PR-raw.ipynb"
       ]
      },
      {
       "output_type": "stream",
       "stream": "stdout",
       "text": [
        "Error executing the notebook \"Multi-spot 5-Samples analysis - PR-raw\".\n",
        "\n",
        "See notebook \"Multi-spot 5-Samples analysis - PR-raw-out.ipynb\" for the traceback.\n"
       ]
      },
      {
       "html": [
        "<a href='Multi-spot 5-Samples analysis - PR-raw-out.ipynb' target='_blank'>Multi-spot 5-Samples analysis - PR-raw-out.ipynb</a><br>"
       ],
       "metadata": {},
       "output_type": "display_data",
       "text": [
        "C:\\Data\\Antonio\\software\\src\\multispot_paper\\Multi-spot 5-Samples analysis - PR-raw-out.ipynb"
       ]
      },
      {
       "ename": "NotebookError",
       "evalue": "Cell raised uncaught exception: \n\u001b[1;31m---------------------------------------------------------------------------\u001b[0m\n\u001b[1;31mNameError\u001b[0m                                 Traceback (most recent call last)\n\u001b[1;32m<ipython-input-81-30d9529ff51c>\u001b[0m in \u001b[0;36m<module>\u001b[1;34m()\u001b[0m\n\u001b[1;32m----> 1\u001b[1;33m \u001b[0mstop\u001b[0m\u001b[1;33m\u001b[0m\u001b[0m\n\u001b[0m\n\u001b[1;31mNameError\u001b[0m: name 'stop' is not defined",
       "output_type": "pyerr",
       "traceback": [
        "\u001b[1;31m---------------------------------------------------------------------------\u001b[0m\n\u001b[1;31mNotebookError\u001b[0m                             Traceback (most recent call last)",
        "\u001b[1;32m<ipython-input-19-72c9301fd6c1>\u001b[0m in \u001b[0;36m<module>\u001b[1;34m()\u001b[0m\n\u001b[1;32m----> 1\u001b[1;33m \u001b[0mrun_notebook\u001b[0m\u001b[1;33m(\u001b[0m\u001b[1;34m'Multi-spot 5-Samples analysis - PR-raw'\u001b[0m\u001b[1;33m)\u001b[0m\u001b[1;33m\u001b[0m\u001b[0m\n\u001b[0m",
        "\u001b[1;32mC:\\Data\\Antonio\\software\\src\\multispot_paper\\notebook_runner.pyc\u001b[0m in \u001b[0;36mrun_notebook\u001b[1;34m(notebook_name)\u001b[0m\n\u001b[0;32m     44\u001b[0m         \u001b[0mmsg\u001b[0m \u001b[1;33m+=\u001b[0m \u001b[1;34m'See notebook \"%s\" for the traceback.'\u001b[0m \u001b[1;33m%\u001b[0m \u001b[0mout_nb_name\u001b[0m\u001b[1;33m\u001b[0m\u001b[0m\n\u001b[0;32m     45\u001b[0m         \u001b[1;32mprint\u001b[0m \u001b[0mmsg\u001b[0m\u001b[1;33m\u001b[0m\u001b[0m\n\u001b[1;32m---> 46\u001b[1;33m         \u001b[1;32mraise\u001b[0m \u001b[0me\u001b[0m\u001b[1;33m\u001b[0m\u001b[0m\n\u001b[0m\u001b[0;32m     47\u001b[0m     \u001b[1;32mfinally\u001b[0m\u001b[1;33m:\u001b[0m\u001b[1;33m\u001b[0m\u001b[0m\n\u001b[0;32m     48\u001b[0m         \u001b[1;32mwith\u001b[0m \u001b[0mopen\u001b[0m\u001b[1;33m(\u001b[0m\u001b[0mout_nb_name\u001b[0m\u001b[1;33m,\u001b[0m \u001b[1;34m'w'\u001b[0m\u001b[1;33m)\u001b[0m \u001b[1;32mas\u001b[0m \u001b[0mf\u001b[0m\u001b[1;33m:\u001b[0m\u001b[1;33m\u001b[0m\u001b[0m\n",
        "\u001b[1;31mNotebookError\u001b[0m: Cell raised uncaught exception: \n\u001b[1;31m---------------------------------------------------------------------------\u001b[0m\n\u001b[1;31mNameError\u001b[0m                                 Traceback (most recent call last)\n\u001b[1;32m<ipython-input-81-30d9529ff51c>\u001b[0m in \u001b[0;36m<module>\u001b[1;34m()\u001b[0m\n\u001b[1;32m----> 1\u001b[1;33m \u001b[0mstop\u001b[0m\u001b[1;33m\u001b[0m\u001b[0m\n\u001b[0m\n\u001b[1;31mNameError\u001b[0m: name 'stop' is not defined"
       ]
      }
     ],
     "prompt_number": 19
    },
    {
     "cell_type": "code",
     "collapsed": false,
     "input": [],
     "language": "python",
     "metadata": {
      "internals": {
       "slide_helper": "subslide_end"
      },
      "slide_helper": "slide_end",
      "slideshow": {
       "slide_type": "-"
      }
     },
     "outputs": []
    }
   ],
   "metadata": {}
  }
 ]
}