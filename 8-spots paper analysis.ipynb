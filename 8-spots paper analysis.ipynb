{
 "metadata": {
  "name": "",
  "signature": "sha256:02d66438c03efc84af1acc71086a1c0411fa5684e248867da2227082a85431a6"
 },
 "nbformat": 3,
 "nbformat_minor": 0,
 "worksheets": [
  {
   "cells": [
    {
     "cell_type": "heading",
     "level": 1,
     "metadata": {},
     "source": [
      "8-Spots paper analysis"
     ]
    },
    {
     "cell_type": "markdown",
     "metadata": {},
     "source": [
      "> This is the main notebook to be executed to reproduce the analysis of the 8-spot paper."
     ]
    },
    {
     "cell_type": "markdown",
     "metadata": {},
     "source": [
      "# How to use?\n",
      "\n",
      "In the first place, this notebook, and all the other notebooks linked below, can be used as a read-only resource to inspect every single step of the analysis. Furthermore, many steps of the analysis (alternative burst searches or fitting procedures) are not presented in the main paper for obvious space constraints and can be found here. The complete analysis is provided here.\n",
      "\n",
      "In the second place, this resource can be used to re-run the analysis on your machine. You can modify parameters of burst search, of using a different fitting approach and see what's the effect inserting these changes in the complete analysis.\n",
      "\n",
      "> If you are new to the notebook interface you can get a quick briefing by clicking on menu *Help* -> *User interface tour*.\n",
      "\n",
      "\n",
      "# Execution Overview\n",
      "\n",
      "This \"master\" notebook sequentially executes all the notebooks that perform the different steps of the analysis presented in the 8-spot paper.\n",
      "\n",
      "We execute both standard notebook or \"template notebooks\". A template notebook is notebook that is executed several times, each time with a different input file. Template notebooks are used for the \u03bcs-ALEX analysis.\n",
      "\n",
      "To execute other notebooks we use two helper functions that we import here:"
     ]
    },
    {
     "cell_type": "code",
     "collapsed": false,
     "input": [
      "from notebook_runner import run_single_notebook, run_notebook_ALEX"
     ],
     "language": "python",
     "metadata": {},
     "outputs": [],
     "prompt_number": 1
    },
    {
     "cell_type": "markdown",
     "metadata": {},
     "source": [
      "# Architecture notes\n",
      "\n",
      "The simple practice of saving intermediate results in text files is regarded as an important point for [reproducibple computing](http://www.ploscompbiol.org/article/info%3Adoi%2F10.1371%2Fjournal.pcbi.1003285).\n",
      "\n",
      "Saving intermediate results in a text files allow to easily track and find intermediate results (either manually or programmatically). Moreover, keeping important results in text files, make easy to track regressions (or errors) when a [Version Control System](http://en.wikipedia.org/wiki/Revision_control) (i.e. [git](http://git-scm.com/)) is used.\n",
      "\n",
      "In the present analysis, each notebook saves a selection of results in a text file in the `results` folder. These files are often used as an input by subsequent notebooks."
     ]
    },
    {
     "cell_type": "markdown",
     "metadata": {},
     "source": [
      "# Batch execution\n",
      "\n",
      "The \u03bcs-ALEX notebooks are executed in batch from a single template notebook for the 5 samples. This allows to have a single \"analysis recipe\" that is uniformly applied to all the samples. Moreover, if the template notebook is modified, the results for all the 5 samples can be computed in one step. \n",
      "\n",
      "> Note that not all \u03bcs-ALEX notebooks are templates. For example the notebooks for fitting the global leakage coefficient or direct excitation are simple notebooks that read the previously saved per-sample results and compute averages.\n",
      "\n",
      "## The notebooks links\n",
      "When a template notebook is executed a set of output notebooks is generated, one for each sample. After the execution, the cell shows links to the template notebook (unexecuted, contains no output) and to the output notebooks for each sample. These output notebook are meant to be read-only and are used to inspect the full analysis results for each sample.\n",
      "\n",
      "If you want to modify the analysis, modify the template notebook and rerun the cell here to re-execute it on all the samples.\n",
      "\n",
      "## The results table\n",
      "After executing a template notebook a table is also shown. This table has a row for each sample and a column for each variable saved by the template notebook. To find where a specific variable is computed, you can search variable name in the output notebook for a specific sample (you can use the browser \"find\" command)."
     ]
    },
    {
     "cell_type": "markdown",
     "metadata": {},
     "source": [
      "## 1. \u03bcs-ALEX: Raw Proximity Ratio Analysis\n",
      "\n",
      "We start the analyis by processing and fiting the raw PR values for the 5 us-ALEX measurements. \n",
      "The only correction here applied to the bursts is the background correction.\n",
      "\n",
      "The same analysis is performed for different \n",
      "burst searches indicated in the notebook file name:\n",
      "\n",
      "- **all-ph**: burst search on all photons\n",
      "- **Dex**: burst search on photons during Donor excitation periods\n",
      "- **DexDem**: burst search on photons during Donor excitation detected in the Donor channel (donor emission)\n",
      "- **AND-gate**: AND-gate burst search. The bursts are the intersection (in time) of burst from a \"Dex\" burst search and burst from a \"AexAem\" burst search."
     ]
    },
    {
     "cell_type": "code",
     "collapsed": false,
     "input": [
      "nb_name = 'usALEX-5samples-PR-raw-all-ph'\n",
      "run_notebook_ALEX(nb_name)"
     ],
     "language": "python",
     "metadata": {},
     "outputs": [
      {
       "html": [
        "<a href='usALEX-5samples-PR-raw-all-ph.ipynb' target='_blank'>usALEX-5samples-PR-raw-all-ph.ipynb</a><br>"
       ],
       "metadata": {},
       "output_type": "display_data",
       "text": [
        "C:\\Data\\Antonio\\software\\src\\multispot_paper\\usALEX-5samples-PR-raw-all-ph.ipynb"
       ]
      },
      {
       "html": [
        "<a href='out_notebooks/usALEX-5samples-PR-raw-all-ph-out-7d.ipynb' target='_blank'>out_notebooks/usALEX-5samples-PR-raw-all-ph-out-7d.ipynb</a><br>"
       ],
       "metadata": {},
       "output_type": "display_data",
       "text": [
        "C:\\Data\\Antonio\\software\\src\\multispot_paper\\out_notebooks\\usALEX-5samples-PR-raw-all-ph-out-7d.ipynb"
       ]
      },
      {
       "html": [
        "<a href='out_notebooks/usALEX-5samples-PR-raw-all-ph-out-12d.ipynb' target='_blank'>out_notebooks/usALEX-5samples-PR-raw-all-ph-out-12d.ipynb</a><br>"
       ],
       "metadata": {},
       "output_type": "display_data",
       "text": [
        "C:\\Data\\Antonio\\software\\src\\multispot_paper\\out_notebooks\\usALEX-5samples-PR-raw-all-ph-out-12d.ipynb"
       ]
      },
      {
       "html": [
        "<a href='out_notebooks/usALEX-5samples-PR-raw-all-ph-out-17d.ipynb' target='_blank'>out_notebooks/usALEX-5samples-PR-raw-all-ph-out-17d.ipynb</a><br>"
       ],
       "metadata": {},
       "output_type": "display_data",
       "text": [
        "C:\\Data\\Antonio\\software\\src\\multispot_paper\\out_notebooks\\usALEX-5samples-PR-raw-all-ph-out-17d.ipynb"
       ]
      },
      {
       "html": [
        "<a href='out_notebooks/usALEX-5samples-PR-raw-all-ph-out-22d.ipynb' target='_blank'>out_notebooks/usALEX-5samples-PR-raw-all-ph-out-22d.ipynb</a><br>"
       ],
       "metadata": {},
       "output_type": "display_data",
       "text": [
        "C:\\Data\\Antonio\\software\\src\\multispot_paper\\out_notebooks\\usALEX-5samples-PR-raw-all-ph-out-22d.ipynb"
       ]
      },
      {
       "html": [
        "<a href='out_notebooks/usALEX-5samples-PR-raw-all-ph-out-27d.ipynb' target='_blank'>out_notebooks/usALEX-5samples-PR-raw-all-ph-out-27d.ipynb</a><br>"
       ],
       "metadata": {},
       "output_type": "display_data",
       "text": [
        "C:\\Data\\Antonio\\software\\src\\multispot_paper\\out_notebooks\\usALEX-5samples-PR-raw-all-ph-out-27d.ipynb"
       ]
      },
      {
       "html": [
        "<div style=\"max-height:1000px;max-width:1500px;overflow:auto;\">\n",
        "<table border=\"1\" class=\"dataframe\">\n",
        "  <thead>\n",
        "    <tr style=\"text-align: right;\">\n",
        "      <th></th>\n",
        "      <th>n_bursts_all</th>\n",
        "      <th>n_bursts_do</th>\n",
        "      <th>n_bursts_fret</th>\n",
        "      <th>E_kde_w</th>\n",
        "      <th>E_gauss_w</th>\n",
        "      <th>E_gauss_w_sig</th>\n",
        "      <th>E_gauss_w_err</th>\n",
        "      <th>S_kde</th>\n",
        "      <th>S_gauss</th>\n",
        "      <th>S_gauss_sig</th>\n",
        "      <th>S_gauss_err</th>\n",
        "      <th>E_pr_do_kde</th>\n",
        "      <th>nt_mean</th>\n",
        "    </tr>\n",
        "    <tr>\n",
        "      <th>sample</th>\n",
        "      <th></th>\n",
        "      <th></th>\n",
        "      <th></th>\n",
        "      <th></th>\n",
        "      <th></th>\n",
        "      <th></th>\n",
        "      <th></th>\n",
        "      <th></th>\n",
        "      <th></th>\n",
        "      <th></th>\n",
        "      <th></th>\n",
        "      <th></th>\n",
        "      <th></th>\n",
        "    </tr>\n",
        "  </thead>\n",
        "  <tbody>\n",
        "    <tr>\n",
        "      <th>7d</th>\n",
        "      <td> 1370</td>\n",
        "      <td> 724</td>\n",
        "      <td>  600</td>\n",
        "      <td> 0.9338</td>\n",
        "      <td> 0.931395</td>\n",
        "      <td> 0.054563</td>\n",
        "      <td> 0.002228</td>\n",
        "      <td> 0.5616</td>\n",
        "      <td> 0.564374</td>\n",
        "      <td> 0.091376</td>\n",
        "      <td> 0.003730</td>\n",
        "      <td> 0.0950</td>\n",
        "      <td> 22.375125</td>\n",
        "    </tr>\n",
        "    <tr>\n",
        "      <th>12d</th>\n",
        "      <td> 1528</td>\n",
        "      <td> 410</td>\n",
        "      <td> 1081</td>\n",
        "      <td> 0.7606</td>\n",
        "      <td> 0.749737</td>\n",
        "      <td> 0.085984</td>\n",
        "      <td> 0.002615</td>\n",
        "      <td> 0.5922</td>\n",
        "      <td> 0.575044</td>\n",
        "      <td> 0.100132</td>\n",
        "      <td> 0.003046</td>\n",
        "      <td> 0.1020</td>\n",
        "      <td> 22.612481</td>\n",
        "    </tr>\n",
        "    <tr>\n",
        "      <th>17d</th>\n",
        "      <td> 3013</td>\n",
        "      <td> 558</td>\n",
        "      <td> 2389</td>\n",
        "      <td> 0.4922</td>\n",
        "      <td> 0.484872</td>\n",
        "      <td> 0.101857</td>\n",
        "      <td> 0.002084</td>\n",
        "      <td> 0.5328</td>\n",
        "      <td> 0.559473</td>\n",
        "      <td> 0.104484</td>\n",
        "      <td> 0.002138</td>\n",
        "      <td> 0.1004</td>\n",
        "      <td> 23.168308</td>\n",
        "    </tr>\n",
        "    <tr>\n",
        "      <th>22d</th>\n",
        "      <td> 2552</td>\n",
        "      <td> 403</td>\n",
        "      <td> 2045</td>\n",
        "      <td> 0.2768</td>\n",
        "      <td> 0.279818</td>\n",
        "      <td> 0.070842</td>\n",
        "      <td> 0.001567</td>\n",
        "      <td> 0.5794</td>\n",
        "      <td> 0.572693</td>\n",
        "      <td> 0.106942</td>\n",
        "      <td> 0.002365</td>\n",
        "      <td> 0.0924</td>\n",
        "      <td> 25.330922</td>\n",
        "    </tr>\n",
        "    <tr>\n",
        "      <th>27d</th>\n",
        "      <td>  999</td>\n",
        "      <td> 203</td>\n",
        "      <td>  759</td>\n",
        "      <td> 0.1966</td>\n",
        "      <td> 0.195458</td>\n",
        "      <td> 0.058387</td>\n",
        "      <td> 0.002119</td>\n",
        "      <td> 0.5526</td>\n",
        "      <td> 0.586564</td>\n",
        "      <td> 0.109037</td>\n",
        "      <td> 0.003958</td>\n",
        "      <td> 0.0840</td>\n",
        "      <td> 19.505630</td>\n",
        "    </tr>\n",
        "  </tbody>\n",
        "</table>\n",
        "</div>"
       ],
       "metadata": {},
       "output_type": "display_data",
       "text": [
        "        n_bursts_all  n_bursts_do  n_bursts_fret  E_kde_w  E_gauss_w  \\\n",
        "sample                                                                 \n",
        "7d              1370          724            600   0.9338   0.931395   \n",
        "12d             1528          410           1081   0.7606   0.749737   \n",
        "17d             3013          558           2389   0.4922   0.484872   \n",
        "22d             2552          403           2045   0.2768   0.279818   \n",
        "27d              999          203            759   0.1966   0.195458   \n",
        "\n",
        "        E_gauss_w_sig  E_gauss_w_err   S_kde   S_gauss  S_gauss_sig  \\\n",
        "sample                                                                \n",
        "7d           0.054563       0.002228  0.5616  0.564374     0.091376   \n",
        "12d          0.085984       0.002615  0.5922  0.575044     0.100132   \n",
        "17d          0.101857       0.002084  0.5328  0.559473     0.104484   \n",
        "22d          0.070842       0.001567  0.5794  0.572693     0.106942   \n",
        "27d          0.058387       0.002119  0.5526  0.586564     0.109037   \n",
        "\n",
        "        S_gauss_err  E_pr_do_kde    nt_mean  \n",
        "sample                                       \n",
        "7d         0.003730       0.0950  22.375125  \n",
        "12d        0.003046       0.1020  22.612481  \n",
        "17d        0.002138       0.1004  23.168308  \n",
        "22d        0.002365       0.0924  25.330922  \n",
        "27d        0.003958       0.0840  19.505630  "
       ]
      }
     ],
     "prompt_number": 3
    },
    {
     "cell_type": "code",
     "collapsed": false,
     "input": [
      "nb_name = 'usALEX-5samples-PR-raw-DexDem'\n",
      "run_notebook_ALEX(nb_name)"
     ],
     "language": "python",
     "metadata": {},
     "outputs": [
      {
       "html": [
        "<a href='usALEX-5samples-PR-raw-DexDem.ipynb' target='_blank'>usALEX-5samples-PR-raw-DexDem.ipynb</a><br>"
       ],
       "metadata": {},
       "output_type": "display_data",
       "text": [
        "C:\\Data\\Antonio\\software\\src\\multispot_paper\\usALEX-5samples-PR-raw-DexDem.ipynb"
       ]
      },
      {
       "html": [
        "<a href='out_notebooks/usALEX-5samples-PR-raw-DexDem-out-7d.ipynb' target='_blank'>out_notebooks/usALEX-5samples-PR-raw-DexDem-out-7d.ipynb</a><br>"
       ],
       "metadata": {},
       "output_type": "display_data",
       "text": [
        "C:\\Data\\Antonio\\software\\src\\multispot_paper\\out_notebooks\\usALEX-5samples-PR-raw-DexDem-out-7d.ipynb"
       ]
      },
      {
       "html": [
        "<a href='out_notebooks/usALEX-5samples-PR-raw-DexDem-out-12d.ipynb' target='_blank'>out_notebooks/usALEX-5samples-PR-raw-DexDem-out-12d.ipynb</a><br>"
       ],
       "metadata": {},
       "output_type": "display_data",
       "text": [
        "C:\\Data\\Antonio\\software\\src\\multispot_paper\\out_notebooks\\usALEX-5samples-PR-raw-DexDem-out-12d.ipynb"
       ]
      },
      {
       "html": [
        "<a href='out_notebooks/usALEX-5samples-PR-raw-DexDem-out-17d.ipynb' target='_blank'>out_notebooks/usALEX-5samples-PR-raw-DexDem-out-17d.ipynb</a><br>"
       ],
       "metadata": {},
       "output_type": "display_data",
       "text": [
        "C:\\Data\\Antonio\\software\\src\\multispot_paper\\out_notebooks\\usALEX-5samples-PR-raw-DexDem-out-17d.ipynb"
       ]
      },
      {
       "html": [
        "<a href='out_notebooks/usALEX-5samples-PR-raw-DexDem-out-22d.ipynb' target='_blank'>out_notebooks/usALEX-5samples-PR-raw-DexDem-out-22d.ipynb</a><br>"
       ],
       "metadata": {},
       "output_type": "display_data",
       "text": [
        "C:\\Data\\Antonio\\software\\src\\multispot_paper\\out_notebooks\\usALEX-5samples-PR-raw-DexDem-out-22d.ipynb"
       ]
      },
      {
       "html": [
        "<a href='out_notebooks/usALEX-5samples-PR-raw-DexDem-out-27d.ipynb' target='_blank'>out_notebooks/usALEX-5samples-PR-raw-DexDem-out-27d.ipynb</a><br>"
       ],
       "metadata": {},
       "output_type": "display_data",
       "text": [
        "C:\\Data\\Antonio\\software\\src\\multispot_paper\\out_notebooks\\usALEX-5samples-PR-raw-DexDem-out-27d.ipynb"
       ]
      },
      {
       "html": [
        "<div style=\"max-height:1000px;max-width:1500px;overflow:auto;\">\n",
        "<table border=\"1\" class=\"dataframe\">\n",
        "  <thead>\n",
        "    <tr style=\"text-align: right;\">\n",
        "      <th></th>\n",
        "      <th>n_bursts_all</th>\n",
        "      <th>n_bursts_do</th>\n",
        "      <th>n_bursts_fret</th>\n",
        "      <th>E_kde_w</th>\n",
        "      <th>E_gauss_w</th>\n",
        "      <th>E_gauss_w_sig</th>\n",
        "      <th>E_gauss_w_err</th>\n",
        "      <th>S_kde</th>\n",
        "      <th>S_gauss</th>\n",
        "      <th>S_gauss_sig</th>\n",
        "      <th>S_gauss_err</th>\n",
        "      <th>E_pr_do_kde</th>\n",
        "      <th>nt_mean</th>\n",
        "    </tr>\n",
        "    <tr>\n",
        "      <th>sample</th>\n",
        "      <th></th>\n",
        "      <th></th>\n",
        "      <th></th>\n",
        "      <th></th>\n",
        "      <th></th>\n",
        "      <th></th>\n",
        "      <th></th>\n",
        "      <th></th>\n",
        "      <th></th>\n",
        "      <th></th>\n",
        "      <th></th>\n",
        "      <th></th>\n",
        "      <th></th>\n",
        "    </tr>\n",
        "  </thead>\n",
        "  <tbody>\n",
        "    <tr>\n",
        "      <th>7d</th>\n",
        "      <td> 1684</td>\n",
        "      <td> 1395</td>\n",
        "      <td>  151</td>\n",
        "      <td> 0.8426</td>\n",
        "      <td> 0.795226</td>\n",
        "      <td> 0.089862</td>\n",
        "      <td> 0.007313</td>\n",
        "      <td> 0.6392</td>\n",
        "      <td> 0.603185</td>\n",
        "      <td> 0.088871</td>\n",
        "      <td> 0.007232</td>\n",
        "      <td> 0.0950</td>\n",
        "      <td> 28.103579</td>\n",
        "    </tr>\n",
        "    <tr>\n",
        "      <th>12d</th>\n",
        "      <td> 1915</td>\n",
        "      <td>  719</td>\n",
        "      <td> 1094</td>\n",
        "      <td> 0.7142</td>\n",
        "      <td> 0.706974</td>\n",
        "      <td> 0.075747</td>\n",
        "      <td> 0.002290</td>\n",
        "      <td> 0.5672</td>\n",
        "      <td> 0.586452</td>\n",
        "      <td> 0.094835</td>\n",
        "      <td> 0.002867</td>\n",
        "      <td> 0.0924</td>\n",
        "      <td> 28.011329</td>\n",
        "    </tr>\n",
        "    <tr>\n",
        "      <th>17d</th>\n",
        "      <td> 4497</td>\n",
        "      <td> 1042</td>\n",
        "      <td> 3274</td>\n",
        "      <td> 0.4630</td>\n",
        "      <td> 0.447567</td>\n",
        "      <td> 0.102044</td>\n",
        "      <td> 0.001783</td>\n",
        "      <td> 0.5748</td>\n",
        "      <td> 0.575958</td>\n",
        "      <td> 0.103224</td>\n",
        "      <td> 0.001804</td>\n",
        "      <td> 0.0938</td>\n",
        "      <td> 29.138086</td>\n",
        "    </tr>\n",
        "    <tr>\n",
        "      <th>22d</th>\n",
        "      <td> 3455</td>\n",
        "      <td>  579</td>\n",
        "      <td> 2750</td>\n",
        "      <td> 0.2642</td>\n",
        "      <td> 0.265737</td>\n",
        "      <td> 0.066868</td>\n",
        "      <td> 0.001275</td>\n",
        "      <td> 0.5668</td>\n",
        "      <td> 0.574933</td>\n",
        "      <td> 0.102353</td>\n",
        "      <td> 0.001952</td>\n",
        "      <td> 0.0828</td>\n",
        "      <td> 31.978264</td>\n",
        "    </tr>\n",
        "    <tr>\n",
        "      <th>27d</th>\n",
        "      <td> 1397</td>\n",
        "      <td>  401</td>\n",
        "      <td>  944</td>\n",
        "      <td> 0.1814</td>\n",
        "      <td> 0.183440</td>\n",
        "      <td> 0.054032</td>\n",
        "      <td> 0.001759</td>\n",
        "      <td> 0.6104</td>\n",
        "      <td> 0.602251</td>\n",
        "      <td> 0.104046</td>\n",
        "      <td> 0.003386</td>\n",
        "      <td> 0.0778</td>\n",
        "      <td> 23.272537</td>\n",
        "    </tr>\n",
        "  </tbody>\n",
        "</table>\n",
        "</div>"
       ],
       "metadata": {},
       "output_type": "display_data",
       "text": [
        "        n_bursts_all  n_bursts_do  n_bursts_fret  E_kde_w  E_gauss_w  \\\n",
        "sample                                                                 \n",
        "7d              1684         1395            151   0.8426   0.795226   \n",
        "12d             1915          719           1094   0.7142   0.706974   \n",
        "17d             4497         1042           3274   0.4630   0.447567   \n",
        "22d             3455          579           2750   0.2642   0.265737   \n",
        "27d             1397          401            944   0.1814   0.183440   \n",
        "\n",
        "        E_gauss_w_sig  E_gauss_w_err   S_kde   S_gauss  S_gauss_sig  \\\n",
        "sample                                                                \n",
        "7d           0.089862       0.007313  0.6392  0.603185     0.088871   \n",
        "12d          0.075747       0.002290  0.5672  0.586452     0.094835   \n",
        "17d          0.102044       0.001783  0.5748  0.575958     0.103224   \n",
        "22d          0.066868       0.001275  0.5668  0.574933     0.102353   \n",
        "27d          0.054032       0.001759  0.6104  0.602251     0.104046   \n",
        "\n",
        "        S_gauss_err  E_pr_do_kde    nt_mean  \n",
        "sample                                       \n",
        "7d         0.007232       0.0950  28.103579  \n",
        "12d        0.002867       0.0924  28.011329  \n",
        "17d        0.001804       0.0938  29.138086  \n",
        "22d        0.001952       0.0828  31.978264  \n",
        "27d        0.003386       0.0778  23.272537  "
       ]
      }
     ],
     "prompt_number": 4
    },
    {
     "cell_type": "code",
     "collapsed": false,
     "input": [
      "nb_name = 'usALEX-5samples-PR-raw-Dex'\n",
      "run_notebook_ALEX(nb_name)"
     ],
     "language": "python",
     "metadata": {},
     "outputs": [
      {
       "html": [
        "<a href='usALEX-5samples-PR-raw-Dex.ipynb' target='_blank'>usALEX-5samples-PR-raw-Dex.ipynb</a><br>"
       ],
       "metadata": {},
       "output_type": "display_data",
       "text": [
        "C:\\Data\\Antonio\\software\\src\\multispot_paper\\usALEX-5samples-PR-raw-Dex.ipynb"
       ]
      },
      {
       "html": [
        "<a href='out_notebooks/usALEX-5samples-PR-raw-Dex-out-7d.ipynb' target='_blank'>out_notebooks/usALEX-5samples-PR-raw-Dex-out-7d.ipynb</a><br>"
       ],
       "metadata": {},
       "output_type": "display_data",
       "text": [
        "C:\\Data\\Antonio\\software\\src\\multispot_paper\\out_notebooks\\usALEX-5samples-PR-raw-Dex-out-7d.ipynb"
       ]
      },
      {
       "html": [
        "<a href='out_notebooks/usALEX-5samples-PR-raw-Dex-out-12d.ipynb' target='_blank'>out_notebooks/usALEX-5samples-PR-raw-Dex-out-12d.ipynb</a><br>"
       ],
       "metadata": {},
       "output_type": "display_data",
       "text": [
        "C:\\Data\\Antonio\\software\\src\\multispot_paper\\out_notebooks\\usALEX-5samples-PR-raw-Dex-out-12d.ipynb"
       ]
      },
      {
       "html": [
        "<a href='out_notebooks/usALEX-5samples-PR-raw-Dex-out-17d.ipynb' target='_blank'>out_notebooks/usALEX-5samples-PR-raw-Dex-out-17d.ipynb</a><br>"
       ],
       "metadata": {},
       "output_type": "display_data",
       "text": [
        "C:\\Data\\Antonio\\software\\src\\multispot_paper\\out_notebooks\\usALEX-5samples-PR-raw-Dex-out-17d.ipynb"
       ]
      },
      {
       "html": [
        "<a href='out_notebooks/usALEX-5samples-PR-raw-Dex-out-22d.ipynb' target='_blank'>out_notebooks/usALEX-5samples-PR-raw-Dex-out-22d.ipynb</a><br>"
       ],
       "metadata": {},
       "output_type": "display_data",
       "text": [
        "C:\\Data\\Antonio\\software\\src\\multispot_paper\\out_notebooks\\usALEX-5samples-PR-raw-Dex-out-22d.ipynb"
       ]
      },
      {
       "html": [
        "<a href='out_notebooks/usALEX-5samples-PR-raw-Dex-out-27d.ipynb' target='_blank'>out_notebooks/usALEX-5samples-PR-raw-Dex-out-27d.ipynb</a><br>"
       ],
       "metadata": {},
       "output_type": "display_data",
       "text": [
        "C:\\Data\\Antonio\\software\\src\\multispot_paper\\out_notebooks\\usALEX-5samples-PR-raw-Dex-out-27d.ipynb"
       ]
      },
      {
       "html": [
        "<div style=\"max-height:1000px;max-width:1500px;overflow:auto;\">\n",
        "<table border=\"1\" class=\"dataframe\">\n",
        "  <thead>\n",
        "    <tr style=\"text-align: right;\">\n",
        "      <th></th>\n",
        "      <th>n_bursts_all</th>\n",
        "      <th>n_bursts_do</th>\n",
        "      <th>n_bursts_fret</th>\n",
        "      <th>E_kde_w</th>\n",
        "      <th>E_gauss_w</th>\n",
        "      <th>E_gauss_w_sig</th>\n",
        "      <th>E_gauss_w_err</th>\n",
        "      <th>S_kde</th>\n",
        "      <th>S_gauss</th>\n",
        "      <th>S_gauss_sig</th>\n",
        "      <th>S_gauss_err</th>\n",
        "      <th>E_pr_do_kde</th>\n",
        "      <th>nt_mean</th>\n",
        "    </tr>\n",
        "    <tr>\n",
        "      <th>sample</th>\n",
        "      <th></th>\n",
        "      <th></th>\n",
        "      <th></th>\n",
        "      <th></th>\n",
        "      <th></th>\n",
        "      <th></th>\n",
        "      <th></th>\n",
        "      <th></th>\n",
        "      <th></th>\n",
        "      <th></th>\n",
        "      <th></th>\n",
        "      <th></th>\n",
        "      <th></th>\n",
        "    </tr>\n",
        "  </thead>\n",
        "  <tbody>\n",
        "    <tr>\n",
        "      <th>7d</th>\n",
        "      <td> 1653</td>\n",
        "      <td> 955</td>\n",
        "      <td>  641</td>\n",
        "      <td> 0.9336</td>\n",
        "      <td> 0.927281</td>\n",
        "      <td> 0.054494</td>\n",
        "      <td> 0.002152</td>\n",
        "      <td> 0.5812</td>\n",
        "      <td> 0.579253</td>\n",
        "      <td> 0.093738</td>\n",
        "      <td> 0.003702</td>\n",
        "      <td> 0.0982</td>\n",
        "      <td> 23.005879</td>\n",
        "    </tr>\n",
        "    <tr>\n",
        "      <th>12d</th>\n",
        "      <td> 1690</td>\n",
        "      <td> 486</td>\n",
        "      <td> 1155</td>\n",
        "      <td> 0.7510</td>\n",
        "      <td> 0.748524</td>\n",
        "      <td> 0.084144</td>\n",
        "      <td> 0.002476</td>\n",
        "      <td> 0.5994</td>\n",
        "      <td> 0.590904</td>\n",
        "      <td> 0.099542</td>\n",
        "      <td> 0.002929</td>\n",
        "      <td> 0.1026</td>\n",
        "      <td> 23.376184</td>\n",
        "    </tr>\n",
        "    <tr>\n",
        "      <th>17d</th>\n",
        "      <td> 3451</td>\n",
        "      <td> 764</td>\n",
        "      <td> 2584</td>\n",
        "      <td> 0.4908</td>\n",
        "      <td> 0.480718</td>\n",
        "      <td> 0.101802</td>\n",
        "      <td> 0.002003</td>\n",
        "      <td> 0.5904</td>\n",
        "      <td> 0.584025</td>\n",
        "      <td> 0.103123</td>\n",
        "      <td> 0.002029</td>\n",
        "      <td> 0.1056</td>\n",
        "      <td> 23.046017</td>\n",
        "    </tr>\n",
        "    <tr>\n",
        "      <th>22d</th>\n",
        "      <td> 2801</td>\n",
        "      <td> 501</td>\n",
        "      <td> 2184</td>\n",
        "      <td> 0.2752</td>\n",
        "      <td> 0.280169</td>\n",
        "      <td> 0.067912</td>\n",
        "      <td> 0.001453</td>\n",
        "      <td> 0.5854</td>\n",
        "      <td> 0.588751</td>\n",
        "      <td> 0.103533</td>\n",
        "      <td> 0.002215</td>\n",
        "      <td> 0.0938</td>\n",
        "      <td> 26.572519</td>\n",
        "    </tr>\n",
        "    <tr>\n",
        "      <th>27d</th>\n",
        "      <td> 1145</td>\n",
        "      <td> 314</td>\n",
        "      <td>  793</td>\n",
        "      <td> 0.1944</td>\n",
        "      <td> 0.194758</td>\n",
        "      <td> 0.057257</td>\n",
        "      <td> 0.002033</td>\n",
        "      <td> 0.5754</td>\n",
        "      <td> 0.609175</td>\n",
        "      <td> 0.105065</td>\n",
        "      <td> 0.003731</td>\n",
        "      <td> 0.0882</td>\n",
        "      <td> 19.855254</td>\n",
        "    </tr>\n",
        "  </tbody>\n",
        "</table>\n",
        "</div>"
       ],
       "metadata": {},
       "output_type": "display_data",
       "text": [
        "        n_bursts_all  n_bursts_do  n_bursts_fret  E_kde_w  E_gauss_w  \\\n",
        "sample                                                                 \n",
        "7d              1653          955            641   0.9336   0.927281   \n",
        "12d             1690          486           1155   0.7510   0.748524   \n",
        "17d             3451          764           2584   0.4908   0.480718   \n",
        "22d             2801          501           2184   0.2752   0.280169   \n",
        "27d             1145          314            793   0.1944   0.194758   \n",
        "\n",
        "        E_gauss_w_sig  E_gauss_w_err   S_kde   S_gauss  S_gauss_sig  \\\n",
        "sample                                                                \n",
        "7d           0.054494       0.002152  0.5812  0.579253     0.093738   \n",
        "12d          0.084144       0.002476  0.5994  0.590904     0.099542   \n",
        "17d          0.101802       0.002003  0.5904  0.584025     0.103123   \n",
        "22d          0.067912       0.001453  0.5854  0.588751     0.103533   \n",
        "27d          0.057257       0.002033  0.5754  0.609175     0.105065   \n",
        "\n",
        "        S_gauss_err  E_pr_do_kde    nt_mean  \n",
        "sample                                       \n",
        "7d         0.003702       0.0982  23.005879  \n",
        "12d        0.002929       0.1026  23.376184  \n",
        "17d        0.002029       0.1056  23.046017  \n",
        "22d        0.002215       0.0938  26.572519  \n",
        "27d        0.003731       0.0882  19.855254  "
       ]
      }
     ],
     "prompt_number": 5
    },
    {
     "cell_type": "code",
     "collapsed": false,
     "input": [
      "nb_name = 'usALEX-5samples-PR-raw-AND-gate'\n",
      "run_notebook_ALEX(nb_name)"
     ],
     "language": "python",
     "metadata": {},
     "outputs": [
      {
       "html": [
        "<a href='usALEX-5samples-PR-raw-AND-gate.ipynb' target='_blank'>usALEX-5samples-PR-raw-AND-gate.ipynb</a><br>"
       ],
       "metadata": {},
       "output_type": "display_data",
       "text": [
        "C:\\Data\\Antonio\\software\\src\\multispot_paper\\usALEX-5samples-PR-raw-AND-gate.ipynb"
       ]
      },
      {
       "html": [
        "<a href='out_notebooks/usALEX-5samples-PR-raw-AND-gate-out-7d.ipynb' target='_blank'>out_notebooks/usALEX-5samples-PR-raw-AND-gate-out-7d.ipynb</a><br>"
       ],
       "metadata": {},
       "output_type": "display_data",
       "text": [
        "C:\\Data\\Antonio\\software\\src\\multispot_paper\\out_notebooks\\usALEX-5samples-PR-raw-AND-gate-out-7d.ipynb"
       ]
      },
      {
       "html": [
        "<a href='out_notebooks/usALEX-5samples-PR-raw-AND-gate-out-12d.ipynb' target='_blank'>out_notebooks/usALEX-5samples-PR-raw-AND-gate-out-12d.ipynb</a><br>"
       ],
       "metadata": {},
       "output_type": "display_data",
       "text": [
        "C:\\Data\\Antonio\\software\\src\\multispot_paper\\out_notebooks\\usALEX-5samples-PR-raw-AND-gate-out-12d.ipynb"
       ]
      },
      {
       "html": [
        "<a href='out_notebooks/usALEX-5samples-PR-raw-AND-gate-out-17d.ipynb' target='_blank'>out_notebooks/usALEX-5samples-PR-raw-AND-gate-out-17d.ipynb</a><br>"
       ],
       "metadata": {},
       "output_type": "display_data",
       "text": [
        "C:\\Data\\Antonio\\software\\src\\multispot_paper\\out_notebooks\\usALEX-5samples-PR-raw-AND-gate-out-17d.ipynb"
       ]
      },
      {
       "html": [
        "<a href='out_notebooks/usALEX-5samples-PR-raw-AND-gate-out-22d.ipynb' target='_blank'>out_notebooks/usALEX-5samples-PR-raw-AND-gate-out-22d.ipynb</a><br>"
       ],
       "metadata": {},
       "output_type": "display_data",
       "text": [
        "C:\\Data\\Antonio\\software\\src\\multispot_paper\\out_notebooks\\usALEX-5samples-PR-raw-AND-gate-out-22d.ipynb"
       ]
      },
      {
       "html": [
        "<a href='out_notebooks/usALEX-5samples-PR-raw-AND-gate-out-27d.ipynb' target='_blank'>out_notebooks/usALEX-5samples-PR-raw-AND-gate-out-27d.ipynb</a><br>"
       ],
       "metadata": {},
       "output_type": "display_data",
       "text": [
        "C:\\Data\\Antonio\\software\\src\\multispot_paper\\out_notebooks\\usALEX-5samples-PR-raw-AND-gate-out-27d.ipynb"
       ]
      },
      {
       "html": [
        "<div style=\"max-height:1000px;max-width:1500px;overflow:auto;\">\n",
        "<table border=\"1\" class=\"dataframe\">\n",
        "  <thead>\n",
        "    <tr style=\"text-align: right;\">\n",
        "      <th></th>\n",
        "      <th>n_bursts_all</th>\n",
        "      <th>n_bursts_fret</th>\n",
        "      <th>E_kde_w</th>\n",
        "      <th>E_gauss_w</th>\n",
        "      <th>E_gauss_w_sig</th>\n",
        "      <th>E_gauss_w_err</th>\n",
        "      <th>S_kde</th>\n",
        "      <th>S_gauss</th>\n",
        "      <th>S_gauss_sig</th>\n",
        "      <th>S_gauss_err</th>\n",
        "      <th>nt_mean</th>\n",
        "    </tr>\n",
        "    <tr>\n",
        "      <th>sample</th>\n",
        "      <th></th>\n",
        "      <th></th>\n",
        "      <th></th>\n",
        "      <th></th>\n",
        "      <th></th>\n",
        "      <th></th>\n",
        "      <th></th>\n",
        "      <th></th>\n",
        "      <th></th>\n",
        "      <th></th>\n",
        "      <th></th>\n",
        "    </tr>\n",
        "  </thead>\n",
        "  <tbody>\n",
        "    <tr>\n",
        "      <th>7d</th>\n",
        "      <td>  667</td>\n",
        "      <td>  611</td>\n",
        "      <td> 0.9356</td>\n",
        "      <td> 0.929024</td>\n",
        "      <td> 0.053870</td>\n",
        "      <td> 0.002179</td>\n",
        "      <td> 0.5822</td>\n",
        "      <td> 0.574825</td>\n",
        "      <td> 0.092543</td>\n",
        "      <td> 0.003744</td>\n",
        "      <td> 23.149194</td>\n",
        "    </tr>\n",
        "    <tr>\n",
        "      <th>12d</th>\n",
        "      <td> 1128</td>\n",
        "      <td> 1102</td>\n",
        "      <td> 0.7526</td>\n",
        "      <td> 0.750735</td>\n",
        "      <td> 0.081054</td>\n",
        "      <td> 0.002442</td>\n",
        "      <td> 0.5946</td>\n",
        "      <td> 0.586407</td>\n",
        "      <td> 0.096481</td>\n",
        "      <td> 0.002906</td>\n",
        "      <td> 23.289503</td>\n",
        "    </tr>\n",
        "    <tr>\n",
        "      <th>17d</th>\n",
        "      <td> 2475</td>\n",
        "      <td> 2450</td>\n",
        "      <td> 0.4910</td>\n",
        "      <td> 0.482356</td>\n",
        "      <td> 0.099150</td>\n",
        "      <td> 0.002003</td>\n",
        "      <td> 0.5872</td>\n",
        "      <td> 0.576365</td>\n",
        "      <td> 0.097532</td>\n",
        "      <td> 0.001970</td>\n",
        "      <td> 23.037763</td>\n",
        "    </tr>\n",
        "    <tr>\n",
        "      <th>22d</th>\n",
        "      <td> 2197</td>\n",
        "      <td> 2111</td>\n",
        "      <td> 0.2746</td>\n",
        "      <td> 0.279806</td>\n",
        "      <td> 0.068680</td>\n",
        "      <td> 0.001495</td>\n",
        "      <td> 0.5826</td>\n",
        "      <td> 0.583681</td>\n",
        "      <td> 0.102291</td>\n",
        "      <td> 0.002226</td>\n",
        "      <td> 26.511870</td>\n",
        "    </tr>\n",
        "    <tr>\n",
        "      <th>27d</th>\n",
        "      <td>  782</td>\n",
        "      <td>  761</td>\n",
        "      <td> 0.1944</td>\n",
        "      <td> 0.193718</td>\n",
        "      <td> 0.058629</td>\n",
        "      <td> 0.002125</td>\n",
        "      <td> 0.5778</td>\n",
        "      <td> 0.604493</td>\n",
        "      <td> 0.102488</td>\n",
        "      <td> 0.003715</td>\n",
        "      <td> 19.658119</td>\n",
        "    </tr>\n",
        "  </tbody>\n",
        "</table>\n",
        "</div>"
       ],
       "metadata": {},
       "output_type": "display_data",
       "text": [
        "        n_bursts_all  n_bursts_fret  E_kde_w  E_gauss_w  E_gauss_w_sig  \\\n",
        "sample                                                                   \n",
        "7d               667            611   0.9356   0.929024       0.053870   \n",
        "12d             1128           1102   0.7526   0.750735       0.081054   \n",
        "17d             2475           2450   0.4910   0.482356       0.099150   \n",
        "22d             2197           2111   0.2746   0.279806       0.068680   \n",
        "27d              782            761   0.1944   0.193718       0.058629   \n",
        "\n",
        "        E_gauss_w_err   S_kde   S_gauss  S_gauss_sig  S_gauss_err    nt_mean  \n",
        "sample                                                                        \n",
        "7d           0.002179  0.5822  0.574825     0.092543     0.003744  23.149194  \n",
        "12d          0.002442  0.5946  0.586407     0.096481     0.002906  23.289503  \n",
        "17d          0.002003  0.5872  0.576365     0.097532     0.001970  23.037763  \n",
        "22d          0.001495  0.5826  0.583681     0.102291     0.002226  26.511870  \n",
        "27d          0.002125  0.5778  0.604493     0.102488     0.003715  19.658119  "
       ]
      }
     ],
     "prompt_number": 6
    },
    {
     "cell_type": "markdown",
     "metadata": {},
     "source": [
      "## 2. \u03bcs-ALEX: Leakage coefficient fit"
     ]
    },
    {
     "cell_type": "markdown",
     "metadata": {},
     "source": [
      "In this section we compute the spectral leakage coefficient from the Donor-only peak positions in the Raw PR histograms.\n",
      "\n",
      "The computation is performed by [usALEX - Corrections - Leakage fit](usALEX - Corrections - Leakage fit.ipynb)\n",
      "and uses results from [usALEX-5samples-PR-raw-DexDem](usALEX-5samples-PR-raw-DexDem.ipynb) executed in the previous section."
     ]
    },
    {
     "cell_type": "code",
     "collapsed": false,
     "input": [
      "run_single_notebook('usALEX - Corrections - Leakage fit')"
     ],
     "language": "python",
     "metadata": {},
     "outputs": [
      {
       "html": [
        "<a href='usALEX - Corrections - Leakage fit.ipynb' target='_blank'>usALEX - Corrections - Leakage fit.ipynb</a><br>"
       ],
       "metadata": {},
       "output_type": "display_data",
       "text": [
        "C:\\Data\\Antonio\\software\\Dropbox\\notebooks\\5samples\\usALEX - Corrections - Leakage fit.ipynb"
       ]
      },
      {
       "html": [
        "<a href='usALEX - Corrections - Leakage fit-out.ipynb' target='_blank'>usALEX - Corrections - Leakage fit-out.ipynb</a><br>"
       ],
       "metadata": {},
       "output_type": "display_data",
       "text": [
        "C:\\Data\\Antonio\\software\\Dropbox\\notebooks\\5samples\\usALEX - Corrections - Leakage fit-out.ipynb"
       ]
      }
     ],
     "prompt_number": 6
    },
    {
     "cell_type": "markdown",
     "metadata": {},
     "source": [
      "## 3. \u03bcs-ALEX: Direct excitation fit\n",
      "\n",
      "In this section we extract the direct excitation parameter by fitting the S peak position of the Acceptor-only population.\n",
      "\n",
      "For comparison 2 burst searches are performed:\n",
      "\n",
      "- **all-ph**: burst search on all photons\n",
      "- **AexAem**: burst search on photons during Acceptor excitation detected by the Acceptor detector (acceptor emission).\n",
      "\n",
      "The **all-ph** burst search provides less accurate results and is performed only to show the improvement of the more appropriate **AexAem** burst search."
     ]
    },
    {
     "cell_type": "markdown",
     "metadata": {},
     "source": [
      "### 3.1 Fitting of the S peak"
     ]
    },
    {
     "cell_type": "code",
     "collapsed": false,
     "input": [
      "nb_name = 'usALEX-5samples-PR-raw-dir_ex_aa-fit-all-ph'\n",
      "run_notebook_ALEX(nb_name)"
     ],
     "language": "python",
     "metadata": {},
     "outputs": [
      {
       "html": [
        "<a href='usALEX-5samples-PR-raw-dir_ex_aa-fit-all-ph.ipynb' target='_blank'>usALEX-5samples-PR-raw-dir_ex_aa-fit-all-ph.ipynb</a><br>"
       ],
       "metadata": {},
       "output_type": "display_data",
       "text": [
        "C:\\Data\\Antonio\\software\\src\\multispot_paper\\usALEX-5samples-PR-raw-dir_ex_aa-fit-all-ph.ipynb"
       ]
      },
      {
       "html": [
        "<a href='out_notebooks/usALEX-5samples-PR-raw-dir_ex_aa-fit-all-ph-out-7d.ipynb' target='_blank'>out_notebooks/usALEX-5samples-PR-raw-dir_ex_aa-fit-all-ph-out-7d.ipynb</a><br>"
       ],
       "metadata": {},
       "output_type": "display_data",
       "text": [
        "C:\\Data\\Antonio\\software\\src\\multispot_paper\\out_notebooks\\usALEX-5samples-PR-raw-dir_ex_aa-fit-all-ph-out-7d.ipynb"
       ]
      },
      {
       "html": [
        "<a href='out_notebooks/usALEX-5samples-PR-raw-dir_ex_aa-fit-all-ph-out-12d.ipynb' target='_blank'>out_notebooks/usALEX-5samples-PR-raw-dir_ex_aa-fit-all-ph-out-12d.ipynb</a><br>"
       ],
       "metadata": {},
       "output_type": "display_data",
       "text": [
        "C:\\Data\\Antonio\\software\\src\\multispot_paper\\out_notebooks\\usALEX-5samples-PR-raw-dir_ex_aa-fit-all-ph-out-12d.ipynb"
       ]
      },
      {
       "html": [
        "<a href='out_notebooks/usALEX-5samples-PR-raw-dir_ex_aa-fit-all-ph-out-17d.ipynb' target='_blank'>out_notebooks/usALEX-5samples-PR-raw-dir_ex_aa-fit-all-ph-out-17d.ipynb</a><br>"
       ],
       "metadata": {},
       "output_type": "display_data",
       "text": [
        "C:\\Data\\Antonio\\software\\src\\multispot_paper\\out_notebooks\\usALEX-5samples-PR-raw-dir_ex_aa-fit-all-ph-out-17d.ipynb"
       ]
      },
      {
       "html": [
        "<a href='out_notebooks/usALEX-5samples-PR-raw-dir_ex_aa-fit-all-ph-out-22d.ipynb' target='_blank'>out_notebooks/usALEX-5samples-PR-raw-dir_ex_aa-fit-all-ph-out-22d.ipynb</a><br>"
       ],
       "metadata": {},
       "output_type": "display_data",
       "text": [
        "C:\\Data\\Antonio\\software\\src\\multispot_paper\\out_notebooks\\usALEX-5samples-PR-raw-dir_ex_aa-fit-all-ph-out-22d.ipynb"
       ]
      },
      {
       "html": [
        "<a href='out_notebooks/usALEX-5samples-PR-raw-dir_ex_aa-fit-all-ph-out-27d.ipynb' target='_blank'>out_notebooks/usALEX-5samples-PR-raw-dir_ex_aa-fit-all-ph-out-27d.ipynb</a><br>"
       ],
       "metadata": {},
       "output_type": "display_data",
       "text": [
        "C:\\Data\\Antonio\\software\\src\\multispot_paper\\out_notebooks\\usALEX-5samples-PR-raw-dir_ex_aa-fit-all-ph-out-27d.ipynb"
       ]
      },
      {
       "html": [
        "<div style=\"max-height:1000px;max-width:1500px;overflow:auto;\">\n",
        "<table border=\"1\" class=\"dataframe\">\n",
        "  <thead>\n",
        "    <tr style=\"text-align: right;\">\n",
        "      <th></th>\n",
        "      <th>n_bursts_aa</th>\n",
        "      <th>dir_ex_S_kde</th>\n",
        "      <th>dir_ex_S2p</th>\n",
        "      <th>dir_ex_S2pa</th>\n",
        "      <th>dir_ex_S_kde_w1</th>\n",
        "      <th>dir_ex_S_kde_w4</th>\n",
        "      <th>dir_ex_S_kde_w5</th>\n",
        "      <th>dir_ex_S2p_w5</th>\n",
        "      <th>dir_ex_S2p_w5a</th>\n",
        "    </tr>\n",
        "    <tr>\n",
        "      <th>sample</th>\n",
        "      <th></th>\n",
        "      <th></th>\n",
        "      <th></th>\n",
        "      <th></th>\n",
        "      <th></th>\n",
        "      <th></th>\n",
        "      <th></th>\n",
        "      <th></th>\n",
        "      <th></th>\n",
        "    </tr>\n",
        "  </thead>\n",
        "  <tbody>\n",
        "    <tr>\n",
        "      <th>7d</th>\n",
        "      <td> 392</td>\n",
        "      <td> 0.068148</td>\n",
        "      <td> 0.071880</td>\n",
        "      <td> 0.047785</td>\n",
        "      <td> 0.067920</td>\n",
        "      <td> 0.062473</td>\n",
        "      <td> 0.062473</td>\n",
        "      <td> 0.055039</td>\n",
        "      <td> 0.046237</td>\n",
        "    </tr>\n",
        "    <tr>\n",
        "      <th>12d</th>\n",
        "      <td> 169</td>\n",
        "      <td> 0.073422</td>\n",
        "      <td> 0.099534</td>\n",
        "      <td> 0.045945</td>\n",
        "      <td> 0.073422</td>\n",
        "      <td> 0.069519</td>\n",
        "      <td> 0.069519</td>\n",
        "      <td> 0.076191</td>\n",
        "      <td> 0.039622</td>\n",
        "    </tr>\n",
        "    <tr>\n",
        "      <th>17d</th>\n",
        "      <td> 372</td>\n",
        "      <td> 0.086720</td>\n",
        "      <td> 0.107564</td>\n",
        "      <td> 0.063839</td>\n",
        "      <td> 0.086012</td>\n",
        "      <td> 0.073422</td>\n",
        "      <td> 0.073422</td>\n",
        "      <td> 0.072389</td>\n",
        "      <td> 0.046629</td>\n",
        "    </tr>\n",
        "    <tr>\n",
        "      <th>22d</th>\n",
        "      <td> 331</td>\n",
        "      <td> 0.078749</td>\n",
        "      <td> 0.089856</td>\n",
        "      <td> 0.057488</td>\n",
        "      <td> 0.078051</td>\n",
        "      <td> 0.070435</td>\n",
        "      <td> 0.070435</td>\n",
        "      <td> 0.073369</td>\n",
        "      <td> 0.050282</td>\n",
        "    </tr>\n",
        "    <tr>\n",
        "      <th>27d</th>\n",
        "      <td>  61</td>\n",
        "      <td> 0.040150</td>\n",
        "      <td> 0.120768</td>\n",
        "      <td> 0.020582</td>\n",
        "      <td> 0.040150</td>\n",
        "      <td> 0.044932</td>\n",
        "      <td> 0.044932</td>\n",
        "      <td> 0.035625</td>\n",
        "      <td> 0.003425</td>\n",
        "    </tr>\n",
        "  </tbody>\n",
        "</table>\n",
        "</div>"
       ],
       "metadata": {},
       "output_type": "display_data",
       "text": [
        "        n_bursts_aa  dir_ex_S_kde  dir_ex_S2p  dir_ex_S2pa  dir_ex_S_kde_w1  \\\n",
        "sample                                                                        \n",
        "7d              392      0.068148    0.071880     0.047785         0.067920   \n",
        "12d             169      0.073422    0.099534     0.045945         0.073422   \n",
        "17d             372      0.086720    0.107564     0.063839         0.086012   \n",
        "22d             331      0.078749    0.089856     0.057488         0.078051   \n",
        "27d              61      0.040150    0.120768     0.020582         0.040150   \n",
        "\n",
        "        dir_ex_S_kde_w4  dir_ex_S_kde_w5  dir_ex_S2p_w5  dir_ex_S2p_w5a  \n",
        "sample                                                                   \n",
        "7d             0.062473         0.062473       0.055039        0.046237  \n",
        "12d            0.069519         0.069519       0.076191        0.039622  \n",
        "17d            0.073422         0.073422       0.072389        0.046629  \n",
        "22d            0.070435         0.070435       0.073369        0.050282  \n",
        "27d            0.044932         0.044932       0.035625        0.003425  "
       ]
      }
     ],
     "prompt_number": 7
    },
    {
     "cell_type": "code",
     "collapsed": false,
     "input": [
      "nb_name = 'usALEX-5samples-PR-raw-dir_ex_aa-fit-AexAem'\n",
      "run_notebook_ALEX(nb_name)"
     ],
     "language": "python",
     "metadata": {},
     "outputs": [
      {
       "html": [
        "<a href='usALEX-5samples-PR-raw-dir_ex_aa-fit-AexAem.ipynb' target='_blank'>usALEX-5samples-PR-raw-dir_ex_aa-fit-AexAem.ipynb</a><br>"
       ],
       "metadata": {},
       "output_type": "display_data",
       "text": [
        "C:\\Data\\Antonio\\software\\src\\multispot_paper\\usALEX-5samples-PR-raw-dir_ex_aa-fit-AexAem.ipynb"
       ]
      },
      {
       "html": [
        "<a href='out_notebooks/usALEX-5samples-PR-raw-dir_ex_aa-fit-AexAem-out-7d.ipynb' target='_blank'>out_notebooks/usALEX-5samples-PR-raw-dir_ex_aa-fit-AexAem-out-7d.ipynb</a><br>"
       ],
       "metadata": {},
       "output_type": "display_data",
       "text": [
        "C:\\Data\\Antonio\\software\\src\\multispot_paper\\out_notebooks\\usALEX-5samples-PR-raw-dir_ex_aa-fit-AexAem-out-7d.ipynb"
       ]
      },
      {
       "html": [
        "<a href='out_notebooks/usALEX-5samples-PR-raw-dir_ex_aa-fit-AexAem-out-12d.ipynb' target='_blank'>out_notebooks/usALEX-5samples-PR-raw-dir_ex_aa-fit-AexAem-out-12d.ipynb</a><br>"
       ],
       "metadata": {},
       "output_type": "display_data",
       "text": [
        "C:\\Data\\Antonio\\software\\src\\multispot_paper\\out_notebooks\\usALEX-5samples-PR-raw-dir_ex_aa-fit-AexAem-out-12d.ipynb"
       ]
      },
      {
       "html": [
        "<a href='out_notebooks/usALEX-5samples-PR-raw-dir_ex_aa-fit-AexAem-out-17d.ipynb' target='_blank'>out_notebooks/usALEX-5samples-PR-raw-dir_ex_aa-fit-AexAem-out-17d.ipynb</a><br>"
       ],
       "metadata": {},
       "output_type": "display_data",
       "text": [
        "C:\\Data\\Antonio\\software\\src\\multispot_paper\\out_notebooks\\usALEX-5samples-PR-raw-dir_ex_aa-fit-AexAem-out-17d.ipynb"
       ]
      },
      {
       "html": [
        "<a href='out_notebooks/usALEX-5samples-PR-raw-dir_ex_aa-fit-AexAem-out-22d.ipynb' target='_blank'>out_notebooks/usALEX-5samples-PR-raw-dir_ex_aa-fit-AexAem-out-22d.ipynb</a><br>"
       ],
       "metadata": {},
       "output_type": "display_data",
       "text": [
        "C:\\Data\\Antonio\\software\\src\\multispot_paper\\out_notebooks\\usALEX-5samples-PR-raw-dir_ex_aa-fit-AexAem-out-22d.ipynb"
       ]
      },
      {
       "html": [
        "<a href='out_notebooks/usALEX-5samples-PR-raw-dir_ex_aa-fit-AexAem-out-27d.ipynb' target='_blank'>out_notebooks/usALEX-5samples-PR-raw-dir_ex_aa-fit-AexAem-out-27d.ipynb</a><br>"
       ],
       "metadata": {},
       "output_type": "display_data",
       "text": [
        "C:\\Data\\Antonio\\software\\src\\multispot_paper\\out_notebooks\\usALEX-5samples-PR-raw-dir_ex_aa-fit-AexAem-out-27d.ipynb"
       ]
      },
      {
       "html": [
        "<div style=\"max-height:1000px;max-width:1500px;overflow:auto;\">\n",
        "<table border=\"1\" class=\"dataframe\">\n",
        "  <thead>\n",
        "    <tr style=\"text-align: right;\">\n",
        "      <th></th>\n",
        "      <th>n_bursts_aa</th>\n",
        "      <th>dir_ex_S_kde</th>\n",
        "      <th>dir_ex_S2p</th>\n",
        "      <th>dir_ex_S2pa</th>\n",
        "      <th>dir_ex_S_kde_w1</th>\n",
        "      <th>dir_ex_S_kde_w4</th>\n",
        "      <th>dir_ex_S_kde_w5</th>\n",
        "      <th>dir_ex_S2p_w5</th>\n",
        "      <th>dir_ex_S2p_w5a</th>\n",
        "    </tr>\n",
        "    <tr>\n",
        "      <th>sample</th>\n",
        "      <th></th>\n",
        "      <th></th>\n",
        "      <th></th>\n",
        "      <th></th>\n",
        "      <th></th>\n",
        "      <th></th>\n",
        "      <th></th>\n",
        "      <th></th>\n",
        "      <th></th>\n",
        "    </tr>\n",
        "  </thead>\n",
        "  <tbody>\n",
        "    <tr>\n",
        "      <th>7d</th>\n",
        "      <td> 630</td>\n",
        "      <td> 0.061797</td>\n",
        "      <td> 0.068843</td>\n",
        "      <td> 0.061137</td>\n",
        "      <td> 0.061571</td>\n",
        "      <td> 0.055743</td>\n",
        "      <td> 0.055743</td>\n",
        "      <td> 0.055734</td>\n",
        "      <td> 0.050935</td>\n",
        "    </tr>\n",
        "    <tr>\n",
        "      <th>12d</th>\n",
        "      <td> 269</td>\n",
        "      <td> 0.062473</td>\n",
        "      <td> 0.091852</td>\n",
        "      <td> 0.044397</td>\n",
        "      <td> 0.062473</td>\n",
        "      <td> 0.058873</td>\n",
        "      <td> 0.058873</td>\n",
        "      <td> 0.058348</td>\n",
        "      <td> 0.048265</td>\n",
        "    </tr>\n",
        "    <tr>\n",
        "      <th>17d</th>\n",
        "      <td> 610</td>\n",
        "      <td> 0.085305</td>\n",
        "      <td> 0.120962</td>\n",
        "      <td> 0.070899</td>\n",
        "      <td> 0.084363</td>\n",
        "      <td> 0.078051</td>\n",
        "      <td> 0.078051</td>\n",
        "      <td> 0.074779</td>\n",
        "      <td> 0.061504</td>\n",
        "    </tr>\n",
        "    <tr>\n",
        "      <th>22d</th>\n",
        "      <td> 430</td>\n",
        "      <td> 0.085305</td>\n",
        "      <td> 0.109323</td>\n",
        "      <td> 0.057403</td>\n",
        "      <td> 0.084599</td>\n",
        "      <td> 0.072271</td>\n",
        "      <td> 0.072271</td>\n",
        "      <td> 0.062908</td>\n",
        "      <td> 0.048816</td>\n",
        "    </tr>\n",
        "    <tr>\n",
        "      <th>27d</th>\n",
        "      <td> 129</td>\n",
        "      <td> 0.050420</td>\n",
        "      <td> 0.081572</td>\n",
        "      <td> 0.034044</td>\n",
        "      <td> 0.050200</td>\n",
        "      <td> 0.070893</td>\n",
        "      <td> 0.070893</td>\n",
        "      <td> 0.051986</td>\n",
        "      <td> 0.015566</td>\n",
        "    </tr>\n",
        "  </tbody>\n",
        "</table>\n",
        "</div>"
       ],
       "metadata": {},
       "output_type": "display_data",
       "text": [
        "        n_bursts_aa  dir_ex_S_kde  dir_ex_S2p  dir_ex_S2pa  dir_ex_S_kde_w1  \\\n",
        "sample                                                                        \n",
        "7d              630      0.061797    0.068843     0.061137         0.061571   \n",
        "12d             269      0.062473    0.091852     0.044397         0.062473   \n",
        "17d             610      0.085305    0.120962     0.070899         0.084363   \n",
        "22d             430      0.085305    0.109323     0.057403         0.084599   \n",
        "27d             129      0.050420    0.081572     0.034044         0.050200   \n",
        "\n",
        "        dir_ex_S_kde_w4  dir_ex_S_kde_w5  dir_ex_S2p_w5  dir_ex_S2p_w5a  \n",
        "sample                                                                   \n",
        "7d             0.055743         0.055743       0.055734        0.050935  \n",
        "12d            0.058873         0.058873       0.058348        0.048265  \n",
        "17d            0.078051         0.078051       0.074779        0.061504  \n",
        "22d            0.072271         0.072271       0.062908        0.048816  \n",
        "27d            0.070893         0.070893       0.051986        0.015566  "
       ]
      }
     ],
     "prompt_number": 8
    },
    {
     "cell_type": "markdown",
     "metadata": {},
     "source": [
      "### 3.2 Computation of the direct excitation coefficient\n",
      "\n",
      "The notebook [usALEX - Corrections - Direct excitation fit](usALEX - Corrections - Direct excitation fit.ipynb) computes the direct excitation coefficient performing an average of the values aextracted from each single measurement:"
     ]
    },
    {
     "cell_type": "code",
     "collapsed": false,
     "input": [
      "run_single_notebook('usALEX - Corrections - Direct excitation fit')"
     ],
     "language": "python",
     "metadata": {},
     "outputs": [
      {
       "html": [
        "<a href='usALEX - Corrections - Direct excitation fit.ipynb' target='_blank'>usALEX - Corrections - Direct excitation fit.ipynb</a><br>"
       ],
       "metadata": {},
       "output_type": "display_data",
       "text": [
        "C:\\Data\\Antonio\\software\\Dropbox\\notebooks\\5samples\\usALEX - Corrections - Direct excitation fit.ipynb"
       ]
      },
      {
       "html": [
        "<a href='usALEX - Corrections - Direct excitation fit-out.ipynb' target='_blank'>usALEX - Corrections - Direct excitation fit-out.ipynb</a><br>"
       ],
       "metadata": {},
       "output_type": "display_data",
       "text": [
        "C:\\Data\\Antonio\\software\\Dropbox\\notebooks\\5samples\\usALEX - Corrections - Direct excitation fit-out.ipynb"
       ]
      }
     ],
     "prompt_number": 7
    },
    {
     "cell_type": "markdown",
     "metadata": {},
     "source": [
      "## 4. \u03bcs-ALEX: $\\gamma$-factor fit\n",
      "\n",
      "In this section we compute the $\\gamma$-factor for the \u03bcs-ALEX measurements.\n",
      "\n",
      "First we reprocess the \u03bcs-ALEX measurements including background, leakage and direct excitation correction (standard PR). Then, for the fitted $E$ and $S$ peak position for the FRET population we fit the $\\gamma$-factor."
     ]
    },
    {
     "cell_type": "markdown",
     "metadata": {},
     "source": [
      "### 4.1: Proximity Ratio analysis"
     ]
    },
    {
     "cell_type": "code",
     "collapsed": false,
     "input": [
      "nb_name = 'usALEX-5samples-PR-leakage-dir-ex-all-ph'\n",
      "run_notebook_ALEX(nb_name)"
     ],
     "language": "python",
     "metadata": {},
     "outputs": [
      {
       "html": [
        "<a href='usALEX-5samples-PR-leakage-dir-ex-all-ph.ipynb' target='_blank'>usALEX-5samples-PR-leakage-dir-ex-all-ph.ipynb</a><br>"
       ],
       "metadata": {},
       "output_type": "display_data",
       "text": [
        "C:\\Data\\Antonio\\software\\src\\multispot_paper\\usALEX-5samples-PR-leakage-dir-ex-all-ph.ipynb"
       ]
      },
      {
       "html": [
        "<a href='out_notebooks/usALEX-5samples-PR-leakage-dir-ex-all-ph-out-7d.ipynb' target='_blank'>out_notebooks/usALEX-5samples-PR-leakage-dir-ex-all-ph-out-7d.ipynb</a><br>"
       ],
       "metadata": {},
       "output_type": "display_data",
       "text": [
        "C:\\Data\\Antonio\\software\\src\\multispot_paper\\out_notebooks\\usALEX-5samples-PR-leakage-dir-ex-all-ph-out-7d.ipynb"
       ]
      },
      {
       "html": [
        "<a href='out_notebooks/usALEX-5samples-PR-leakage-dir-ex-all-ph-out-12d.ipynb' target='_blank'>out_notebooks/usALEX-5samples-PR-leakage-dir-ex-all-ph-out-12d.ipynb</a><br>"
       ],
       "metadata": {},
       "output_type": "display_data",
       "text": [
        "C:\\Data\\Antonio\\software\\src\\multispot_paper\\out_notebooks\\usALEX-5samples-PR-leakage-dir-ex-all-ph-out-12d.ipynb"
       ]
      },
      {
       "html": [
        "<a href='out_notebooks/usALEX-5samples-PR-leakage-dir-ex-all-ph-out-17d.ipynb' target='_blank'>out_notebooks/usALEX-5samples-PR-leakage-dir-ex-all-ph-out-17d.ipynb</a><br>"
       ],
       "metadata": {},
       "output_type": "display_data",
       "text": [
        "C:\\Data\\Antonio\\software\\src\\multispot_paper\\out_notebooks\\usALEX-5samples-PR-leakage-dir-ex-all-ph-out-17d.ipynb"
       ]
      },
      {
       "html": [
        "<a href='out_notebooks/usALEX-5samples-PR-leakage-dir-ex-all-ph-out-22d.ipynb' target='_blank'>out_notebooks/usALEX-5samples-PR-leakage-dir-ex-all-ph-out-22d.ipynb</a><br>"
       ],
       "metadata": {},
       "output_type": "display_data",
       "text": [
        "C:\\Data\\Antonio\\software\\src\\multispot_paper\\out_notebooks\\usALEX-5samples-PR-leakage-dir-ex-all-ph-out-22d.ipynb"
       ]
      },
      {
       "html": [
        "<a href='out_notebooks/usALEX-5samples-PR-leakage-dir-ex-all-ph-out-27d.ipynb' target='_blank'>out_notebooks/usALEX-5samples-PR-leakage-dir-ex-all-ph-out-27d.ipynb</a><br>"
       ],
       "metadata": {},
       "output_type": "display_data",
       "text": [
        "C:\\Data\\Antonio\\software\\src\\multispot_paper\\out_notebooks\\usALEX-5samples-PR-leakage-dir-ex-all-ph-out-27d.ipynb"
       ]
      },
      {
       "html": [
        "<div style=\"max-height:1000px;max-width:1500px;overflow:auto;\">\n",
        "<table border=\"1\" class=\"dataframe\">\n",
        "  <thead>\n",
        "    <tr style=\"text-align: right;\">\n",
        "      <th></th>\n",
        "      <th>n_bursts_all</th>\n",
        "      <th>n_bursts_do</th>\n",
        "      <th>n_bursts_fret</th>\n",
        "      <th>E_kde_w</th>\n",
        "      <th>E_gauss_w</th>\n",
        "      <th>E_gauss_w_sig</th>\n",
        "      <th>E_gauss_w_err</th>\n",
        "      <th>S_kde</th>\n",
        "      <th>S_gauss</th>\n",
        "      <th>S_gauss_sig</th>\n",
        "      <th>S_gauss_err</th>\n",
        "      <th>E_pr_do_kde</th>\n",
        "      <th>nt_mean</th>\n",
        "    </tr>\n",
        "    <tr>\n",
        "      <th>sample</th>\n",
        "      <th></th>\n",
        "      <th></th>\n",
        "      <th></th>\n",
        "      <th></th>\n",
        "      <th></th>\n",
        "      <th></th>\n",
        "      <th></th>\n",
        "      <th></th>\n",
        "      <th></th>\n",
        "      <th></th>\n",
        "      <th></th>\n",
        "      <th></th>\n",
        "      <th></th>\n",
        "    </tr>\n",
        "  </thead>\n",
        "  <tbody>\n",
        "    <tr>\n",
        "      <th>7d</th>\n",
        "      <td> 1167</td>\n",
        "      <td> 582</td>\n",
        "      <td>  542</td>\n",
        "      <td> 0.9302</td>\n",
        "      <td> 0.925533</td>\n",
        "      <td> 0.059437</td>\n",
        "      <td> 0.002553</td>\n",
        "      <td> 0.5560</td>\n",
        "      <td> 0.552199</td>\n",
        "      <td> 0.092022</td>\n",
        "      <td> 0.003953</td>\n",
        "      <td> 0.0014</td>\n",
        "      <td> 22.198866</td>\n",
        "    </tr>\n",
        "    <tr>\n",
        "      <th>12d</th>\n",
        "      <td> 1303</td>\n",
        "      <td> 329</td>\n",
        "      <td>  944</td>\n",
        "      <td> 0.7430</td>\n",
        "      <td> 0.731184</td>\n",
        "      <td> 0.092252</td>\n",
        "      <td> 0.003003</td>\n",
        "      <td> 0.5798</td>\n",
        "      <td> 0.560314</td>\n",
        "      <td> 0.102043</td>\n",
        "      <td> 0.003321</td>\n",
        "      <td> 0.0164</td>\n",
        "      <td> 21.841780</td>\n",
        "    </tr>\n",
        "    <tr>\n",
        "      <th>17d</th>\n",
        "      <td> 2482</td>\n",
        "      <td> 462</td>\n",
        "      <td> 1957</td>\n",
        "      <td> 0.4310</td>\n",
        "      <td> 0.426150</td>\n",
        "      <td> 0.114118</td>\n",
        "      <td> 0.002580</td>\n",
        "      <td> 0.5560</td>\n",
        "      <td> 0.537736</td>\n",
        "      <td> 0.107983</td>\n",
        "      <td> 0.002441</td>\n",
        "      <td> 0.0126</td>\n",
        "      <td> 21.054460</td>\n",
        "    </tr>\n",
        "    <tr>\n",
        "      <th>22d</th>\n",
        "      <td> 2047</td>\n",
        "      <td> 319</td>\n",
        "      <td> 1666</td>\n",
        "      <td> 0.1788</td>\n",
        "      <td> 0.182669</td>\n",
        "      <td> 0.078314</td>\n",
        "      <td> 0.001919</td>\n",
        "      <td> 0.5540</td>\n",
        "      <td> 0.549958</td>\n",
        "      <td> 0.109928</td>\n",
        "      <td> 0.002693</td>\n",
        "      <td> 0.0008</td>\n",
        "      <td> 22.918195</td>\n",
        "    </tr>\n",
        "    <tr>\n",
        "      <th>27d</th>\n",
        "      <td>  786</td>\n",
        "      <td> 160</td>\n",
        "      <td>  584</td>\n",
        "      <td> 0.0834</td>\n",
        "      <td> 0.084095</td>\n",
        "      <td> 0.070112</td>\n",
        "      <td> 0.002901</td>\n",
        "      <td> 0.5150</td>\n",
        "      <td> 0.560113</td>\n",
        "      <td> 0.111518</td>\n",
        "      <td> 0.004615</td>\n",
        "      <td>-0.0068</td>\n",
        "      <td> 16.980773</td>\n",
        "    </tr>\n",
        "  </tbody>\n",
        "</table>\n",
        "</div>"
       ],
       "metadata": {},
       "output_type": "display_data",
       "text": [
        "        n_bursts_all  n_bursts_do  n_bursts_fret  E_kde_w  E_gauss_w  \\\n",
        "sample                                                                 \n",
        "7d              1167          582            542   0.9302   0.925533   \n",
        "12d             1303          329            944   0.7430   0.731184   \n",
        "17d             2482          462           1957   0.4310   0.426150   \n",
        "22d             2047          319           1666   0.1788   0.182669   \n",
        "27d              786          160            584   0.0834   0.084095   \n",
        "\n",
        "        E_gauss_w_sig  E_gauss_w_err   S_kde   S_gauss  S_gauss_sig  \\\n",
        "sample                                                                \n",
        "7d           0.059437       0.002553  0.5560  0.552199     0.092022   \n",
        "12d          0.092252       0.003003  0.5798  0.560314     0.102043   \n",
        "17d          0.114118       0.002580  0.5560  0.537736     0.107983   \n",
        "22d          0.078314       0.001919  0.5540  0.549958     0.109928   \n",
        "27d          0.070112       0.002901  0.5150  0.560113     0.111518   \n",
        "\n",
        "        S_gauss_err  E_pr_do_kde    nt_mean  \n",
        "sample                                       \n",
        "7d         0.003953       0.0014  22.198866  \n",
        "12d        0.003321       0.0164  21.841780  \n",
        "17d        0.002441       0.0126  21.054460  \n",
        "22d        0.002693       0.0008  22.918195  \n",
        "27d        0.004615      -0.0068  16.980773  "
       ]
      }
     ],
     "prompt_number": 9
    },
    {
     "cell_type": "markdown",
     "metadata": {},
     "source": [
      "### 4.2 $\\gamma$-factor fit\n",
      "\n",
      "The notebook [usALEX - Corrections - Gamma factor fit](usALEX - Corrections - Gamma factor fit.ipynb)\n",
      "fits the $\\gamma$-factor from $E$ and $S$ values computed in the previous section."
     ]
    },
    {
     "cell_type": "code",
     "collapsed": false,
     "input": [
      "run_single_notebook('usALEX - Corrections - Gamma factor fit')"
     ],
     "language": "python",
     "metadata": {},
     "outputs": [
      {
       "html": [
        "<a href='usALEX - Corrections - Gamma factor fit.ipynb' target='_blank'>usALEX - Corrections - Gamma factor fit.ipynb</a><br>"
       ],
       "metadata": {},
       "output_type": "display_data",
       "text": [
        "C:\\Data\\Antonio\\software\\Dropbox\\notebooks\\5samples\\usALEX - Corrections - Gamma factor fit.ipynb"
       ]
      },
      {
       "html": [
        "<a href='usALEX - Corrections - Gamma factor fit-out.ipynb' target='_blank'>usALEX - Corrections - Gamma factor fit-out.ipynb</a><br>"
       ],
       "metadata": {},
       "output_type": "display_data",
       "text": [
        "C:\\Data\\Antonio\\software\\Dropbox\\notebooks\\5samples\\usALEX - Corrections - Gamma factor fit-out.ipynb"
       ]
      }
     ],
     "prompt_number": 8
    },
    {
     "cell_type": "markdown",
     "metadata": {},
     "source": [
      "## 5. \u03bcs-ALEX: Corrected E analysis\n",
      "\n",
      "Using all the correction coefficients here we computed the corrected $E$ histograms:"
     ]
    },
    {
     "cell_type": "code",
     "collapsed": false,
     "input": [
      "nb_name = 'usALEX-5samples-E-corrected-all-ph'\n",
      "run_notebook_ALEX(nb_name)"
     ],
     "language": "python",
     "metadata": {},
     "outputs": [
      {
       "html": [
        "<a href='usALEX-5samples-E-corrected-all-ph.ipynb' target='_blank'>usALEX-5samples-E-corrected-all-ph.ipynb</a><br>"
       ],
       "metadata": {},
       "output_type": "display_data",
       "text": [
        "C:\\Data\\Antonio\\software\\src\\multispot_paper\\usALEX-5samples-E-corrected-all-ph.ipynb"
       ]
      },
      {
       "html": [
        "<a href='out_notebooks/usALEX-5samples-E-corrected-all-ph-out-7d.ipynb' target='_blank'>out_notebooks/usALEX-5samples-E-corrected-all-ph-out-7d.ipynb</a><br>"
       ],
       "metadata": {},
       "output_type": "display_data",
       "text": [
        "C:\\Data\\Antonio\\software\\src\\multispot_paper\\out_notebooks\\usALEX-5samples-E-corrected-all-ph-out-7d.ipynb"
       ]
      },
      {
       "html": [
        "<a href='out_notebooks/usALEX-5samples-E-corrected-all-ph-out-12d.ipynb' target='_blank'>out_notebooks/usALEX-5samples-E-corrected-all-ph-out-12d.ipynb</a><br>"
       ],
       "metadata": {},
       "output_type": "display_data",
       "text": [
        "C:\\Data\\Antonio\\software\\src\\multispot_paper\\out_notebooks\\usALEX-5samples-E-corrected-all-ph-out-12d.ipynb"
       ]
      },
      {
       "html": [
        "<a href='out_notebooks/usALEX-5samples-E-corrected-all-ph-out-17d.ipynb' target='_blank'>out_notebooks/usALEX-5samples-E-corrected-all-ph-out-17d.ipynb</a><br>"
       ],
       "metadata": {},
       "output_type": "display_data",
       "text": [
        "C:\\Data\\Antonio\\software\\src\\multispot_paper\\out_notebooks\\usALEX-5samples-E-corrected-all-ph-out-17d.ipynb"
       ]
      },
      {
       "html": [
        "<a href='out_notebooks/usALEX-5samples-E-corrected-all-ph-out-22d.ipynb' target='_blank'>out_notebooks/usALEX-5samples-E-corrected-all-ph-out-22d.ipynb</a><br>"
       ],
       "metadata": {},
       "output_type": "display_data",
       "text": [
        "C:\\Data\\Antonio\\software\\src\\multispot_paper\\out_notebooks\\usALEX-5samples-E-corrected-all-ph-out-22d.ipynb"
       ]
      },
      {
       "html": [
        "<a href='out_notebooks/usALEX-5samples-E-corrected-all-ph-out-27d.ipynb' target='_blank'>out_notebooks/usALEX-5samples-E-corrected-all-ph-out-27d.ipynb</a><br>"
       ],
       "metadata": {},
       "output_type": "display_data",
       "text": [
        "C:\\Data\\Antonio\\software\\src\\multispot_paper\\out_notebooks\\usALEX-5samples-E-corrected-all-ph-out-27d.ipynb"
       ]
      },
      {
       "html": [
        "<div style=\"max-height:1000px;max-width:1500px;overflow:auto;\">\n",
        "<table border=\"1\" class=\"dataframe\">\n",
        "  <thead>\n",
        "    <tr style=\"text-align: right;\">\n",
        "      <th></th>\n",
        "      <th>n_bursts_all</th>\n",
        "      <th>n_bursts_do</th>\n",
        "      <th>n_bursts_fret</th>\n",
        "      <th>E_kde_w</th>\n",
        "      <th>E_gauss_w</th>\n",
        "      <th>E_gauss_w_sig</th>\n",
        "      <th>E_gauss_w_err</th>\n",
        "      <th>S_kde</th>\n",
        "      <th>S_gauss</th>\n",
        "      <th>S_gauss_sig</th>\n",
        "      <th>S_gauss_err</th>\n",
        "      <th>E_pr_do_kde</th>\n",
        "      <th>nt_mean</th>\n",
        "    </tr>\n",
        "    <tr>\n",
        "      <th>sample</th>\n",
        "      <th></th>\n",
        "      <th></th>\n",
        "      <th></th>\n",
        "      <th></th>\n",
        "      <th></th>\n",
        "      <th></th>\n",
        "      <th></th>\n",
        "      <th></th>\n",
        "      <th></th>\n",
        "      <th></th>\n",
        "      <th></th>\n",
        "      <th></th>\n",
        "      <th></th>\n",
        "    </tr>\n",
        "  </thead>\n",
        "  <tbody>\n",
        "    <tr>\n",
        "      <th>7d</th>\n",
        "      <td> 1167</td>\n",
        "      <td> 582</td>\n",
        "      <td>  541</td>\n",
        "      <td> 0.9300</td>\n",
        "      <td> 0.925100</td>\n",
        "      <td> 0.060241</td>\n",
        "      <td> 0.002590</td>\n",
        "      <td> 0.5560</td>\n",
        "      <td> 0.552179</td>\n",
        "      <td> 0.092068</td>\n",
        "      <td> 0.003958</td>\n",
        "      <td> 0.0014</td>\n",
        "      <td> 22.198866</td>\n",
        "    </tr>\n",
        "    <tr>\n",
        "      <th>12d</th>\n",
        "      <td> 1303</td>\n",
        "      <td> 329</td>\n",
        "      <td>  944</td>\n",
        "      <td> 0.7424</td>\n",
        "      <td> 0.730815</td>\n",
        "      <td> 0.092007</td>\n",
        "      <td> 0.002995</td>\n",
        "      <td> 0.5800</td>\n",
        "      <td> 0.560682</td>\n",
        "      <td> 0.101914</td>\n",
        "      <td> 0.003317</td>\n",
        "      <td> 0.0164</td>\n",
        "      <td> 21.841780</td>\n",
        "    </tr>\n",
        "    <tr>\n",
        "      <th>17d</th>\n",
        "      <td> 2482</td>\n",
        "      <td> 462</td>\n",
        "      <td> 1957</td>\n",
        "      <td> 0.4302</td>\n",
        "      <td> 0.425312</td>\n",
        "      <td> 0.113818</td>\n",
        "      <td> 0.002573</td>\n",
        "      <td> 0.5564</td>\n",
        "      <td> 0.538061</td>\n",
        "      <td> 0.108088</td>\n",
        "      <td> 0.002443</td>\n",
        "      <td> 0.0126</td>\n",
        "      <td> 21.054460</td>\n",
        "    </tr>\n",
        "    <tr>\n",
        "      <th>22d</th>\n",
        "      <td> 2047</td>\n",
        "      <td> 319</td>\n",
        "      <td> 1666</td>\n",
        "      <td> 0.1784</td>\n",
        "      <td> 0.182157</td>\n",
        "      <td> 0.078119</td>\n",
        "      <td> 0.001914</td>\n",
        "      <td> 0.5546</td>\n",
        "      <td> 0.550641</td>\n",
        "      <td> 0.110077</td>\n",
        "      <td> 0.002697</td>\n",
        "      <td> 0.0008</td>\n",
        "      <td> 22.918195</td>\n",
        "    </tr>\n",
        "    <tr>\n",
        "      <th>27d</th>\n",
        "      <td>  786</td>\n",
        "      <td> 160</td>\n",
        "      <td>  584</td>\n",
        "      <td> 0.0832</td>\n",
        "      <td> 0.083716</td>\n",
        "      <td> 0.070064</td>\n",
        "      <td> 0.002899</td>\n",
        "      <td> 0.5158</td>\n",
        "      <td> 0.560325</td>\n",
        "      <td> 0.111836</td>\n",
        "      <td> 0.004628</td>\n",
        "      <td>-0.0068</td>\n",
        "      <td> 16.980773</td>\n",
        "    </tr>\n",
        "  </tbody>\n",
        "</table>\n",
        "</div>"
       ],
       "metadata": {},
       "output_type": "display_data",
       "text": [
        "        n_bursts_all  n_bursts_do  n_bursts_fret  E_kde_w  E_gauss_w  \\\n",
        "sample                                                                 \n",
        "7d              1167          582            541   0.9300   0.925100   \n",
        "12d             1303          329            944   0.7424   0.730815   \n",
        "17d             2482          462           1957   0.4302   0.425312   \n",
        "22d             2047          319           1666   0.1784   0.182157   \n",
        "27d              786          160            584   0.0832   0.083716   \n",
        "\n",
        "        E_gauss_w_sig  E_gauss_w_err   S_kde   S_gauss  S_gauss_sig  \\\n",
        "sample                                                                \n",
        "7d           0.060241       0.002590  0.5560  0.552179     0.092068   \n",
        "12d          0.092007       0.002995  0.5800  0.560682     0.101914   \n",
        "17d          0.113818       0.002573  0.5564  0.538061     0.108088   \n",
        "22d          0.078119       0.001914  0.5546  0.550641     0.110077   \n",
        "27d          0.070064       0.002899  0.5158  0.560325     0.111836   \n",
        "\n",
        "        S_gauss_err  E_pr_do_kde    nt_mean  \n",
        "sample                                       \n",
        "7d         0.003958       0.0014  22.198866  \n",
        "12d        0.003317       0.0164  21.841780  \n",
        "17d        0.002443       0.0126  21.054460  \n",
        "22d        0.002697       0.0008  22.918195  \n",
        "27d        0.004628      -0.0068  16.980773  "
       ]
      }
     ],
     "prompt_number": 10
    },
    {
     "cell_type": "markdown",
     "metadata": {},
     "source": [
      "## 6. Direct excitation: physiscal parameter\n",
      "\n",
      "Here we compute the \"physical\" direct direct excitation coefficient:\n",
      "\n",
      "$$ d_{exT} = \\frac{\\sigma_{A532}}{\\sigma_{A532}}$$\n",
      "\n",
      "This coefficient is based only on physical dyes properties and it can therefore applied to non-ALEX measurements. For details see:\n",
      "\n",
      "- [usALEX - Corrections - Direct excitation physical parameter](usALEX - Corrections - Direct excitation physical parameter.ipynb)"
     ]
    },
    {
     "cell_type": "code",
     "collapsed": false,
     "input": [
      "run_single_notebook('usALEX - Corrections - Direct excitation physical parameter')"
     ],
     "language": "python",
     "metadata": {},
     "outputs": [
      {
       "html": [
        "<a href='usALEX - Corrections - Direct excitation physical parameter.ipynb' target='_blank'>usALEX - Corrections - Direct excitation physical parameter.ipynb</a><br>"
       ],
       "metadata": {},
       "output_type": "display_data",
       "text": [
        "C:\\Data\\Antonio\\software\\Dropbox\\notebooks\\5samples\\usALEX - Corrections - Direct excitation physical parameter.ipynb"
       ]
      },
      {
       "html": [
        "<a href='usALEX - Corrections - Direct excitation physical parameter-out.ipynb' target='_blank'>usALEX - Corrections - Direct excitation physical parameter-out.ipynb</a><br>"
       ],
       "metadata": {},
       "output_type": "display_data",
       "text": [
        "C:\\Data\\Antonio\\software\\Dropbox\\notebooks\\5samples\\usALEX - Corrections - Direct excitation physical parameter-out.ipynb"
       ]
      }
     ],
     "prompt_number": 9
    },
    {
     "cell_type": "markdown",
     "metadata": {},
     "source": [
      "## 7. Multi-spot analysis"
     ]
    },
    {
     "cell_type": "markdown",
     "metadata": {},
     "source": [
      "### 7.1 DCR and background"
     ]
    },
    {
     "cell_type": "markdown",
     "metadata": {},
     "source": [
      "Plot background fits:"
     ]
    },
    {
     "cell_type": "code",
     "collapsed": false,
     "input": [
      "run_single_notebook('Multi-spot 5-Samples analysis - Background')"
     ],
     "language": "python",
     "metadata": {},
     "outputs": [],
     "prompt_number": 2
    },
    {
     "cell_type": "markdown",
     "metadata": {},
     "source": [
      "Compute detectors DCR:"
     ]
    },
    {
     "cell_type": "code",
     "collapsed": false,
     "input": [
      "run_single_notebook('8-pixel DCR.ipynb')"
     ],
     "language": "python",
     "metadata": {},
     "outputs": []
    },
    {
     "cell_type": "markdown",
     "metadata": {},
     "source": [
      "### 7.2 Leakage coefficient\n",
      "\n",
      "First step of the analysis of the multi-spot data is fitting the leakage coefficient. This is perfomed by the notebook\n",
      "\n",
      "* [Multi-spot 5-Samples analysis - Leakage coefficient fit](Multi-spot 5-Samples analysis - Leakage coefficient fit.ipynb)\n",
      "\n",
      "that outputs these 3 text files:\n",
      "\n",
      "- [Multi-spot - leakage coefficient Dem.txt](results/Multi-spot - leakage coefficient Dem.txt) *(all-ch, all-samples mean)*\n",
      "- [Multi-spot - leakage coefficient mean per-sample Dem.txt](results/Multi-spot - leakage coefficient mean per-sample Dem.txt)\n",
      "- [Multi-spot - leakage coefficient mean per-ch Dem.txt](results/Multi-spot - leakage coefficient mean per-ch Dem.txt)"
     ]
    },
    {
     "cell_type": "code",
     "collapsed": false,
     "input": [
      "run_single_notebook('Multi-spot 5-Samples analysis - Leakage coefficient fit')"
     ],
     "language": "python",
     "metadata": {},
     "outputs": [
      {
       "html": [
        "<a href='Multi-spot 5-Samples analysis - Leakage coefficient fit.ipynb' target='_blank'>Multi-spot 5-Samples analysis - Leakage coefficient fit.ipynb</a><br>"
       ],
       "metadata": {},
       "output_type": "display_data",
       "text": [
        "C:\\Data\\Antonio\\software\\Dropbox\\notebooks\\5samples\\8spot_paper\\Multi-spot 5-Samples analysis - Leakage coefficient fit.ipynb"
       ]
      },
      {
       "html": [
        "<a href='Multi-spot 5-Samples analysis - Leakage coefficient fit-out.ipynb' target='_blank'>Multi-spot 5-Samples analysis - Leakage coefficient fit-out.ipynb</a><br>"
       ],
       "metadata": {},
       "output_type": "display_data",
       "text": [
        "C:\\Data\\Antonio\\software\\Dropbox\\notebooks\\5samples\\8spot_paper\\Multi-spot 5-Samples analysis - Leakage coefficient fit-out.ipynb"
       ]
      }
     ],
     "prompt_number": 3
    },
    {
     "cell_type": "markdown",
     "metadata": {},
     "source": [
      "### 7.3 PR and FRET analysis"
     ]
    },
    {
     "cell_type": "markdown",
     "metadata": {},
     "source": [
      "Then we perform the complete analysis by running:\n",
      "\n",
      "* [Multi-spot 5-Samples analysis - PR-raw](Multi-spot 5-Samples analysis - PR-raw.ipynb) "
     ]
    },
    {
     "cell_type": "code",
     "collapsed": false,
     "input": [
      "run_single_notebook('Multi-spot 5-Samples analysis - PR-raw')"
     ],
     "language": "python",
     "metadata": {},
     "outputs": [
      {
       "html": [
        "<a href='Multi-spot 5-Samples analysis - PR-raw.ipynb' target='_blank'>Multi-spot 5-Samples analysis - PR-raw.ipynb</a><br>"
       ],
       "metadata": {},
       "output_type": "display_data",
       "text": [
        "C:\\Data\\Antonio\\software\\Dropbox\\notebooks\\5samples\\8spot_paper\\Multi-spot 5-Samples analysis - PR-raw.ipynb"
       ]
      },
      {
       "output_type": "stream",
       "stream": "stdout",
       "text": [
        "Error executing the notebook \"Multi-spot 5-Samples analysis - PR-raw\".\n",
        "\n",
        "See notebook \"Multi-spot 5-Samples analysis - PR-raw-out.ipynb\" for the traceback.\n"
       ]
      },
      {
       "html": [
        "<a href='Multi-spot 5-Samples analysis - PR-raw-out.ipynb' target='_blank'>Multi-spot 5-Samples analysis - PR-raw-out.ipynb</a><br>"
       ],
       "metadata": {},
       "output_type": "display_data",
       "text": [
        "C:\\Data\\Antonio\\software\\Dropbox\\notebooks\\5samples\\8spot_paper\\Multi-spot 5-Samples analysis - PR-raw-out.ipynb"
       ]
      },
      {
       "ename": "NotImplementedError",
       "evalue": "unhandled iopub message: comm_open",
       "output_type": "pyerr",
       "traceback": [
        "\u001b[1;31m---------------------------------------------------------------------------\u001b[0m\n\u001b[1;31mNotImplementedError\u001b[0m                       Traceback (most recent call last)",
        "\u001b[1;32m<ipython-input-4-202b5daf206f>\u001b[0m in \u001b[0;36m<module>\u001b[1;34m()\u001b[0m\n\u001b[1;32m----> 1\u001b[1;33m \u001b[0mrun_single_notebook\u001b[0m\u001b[1;33m(\u001b[0m\u001b[1;34m'Multi-spot 5-Samples analysis - PR-raw'\u001b[0m\u001b[1;33m)\u001b[0m\u001b[1;33m\u001b[0m\u001b[0m\n\u001b[0m",
        "\u001b[1;32mC:\\Data\\Antonio\\software\\Dropbox\\notebooks\\5samples\\8spot_paper\\notebook_runner.py\u001b[0m in \u001b[0;36mrun_single_notebook\u001b[1;34m(notebook_name)\u001b[0m\n\u001b[0;32m     44\u001b[0m         \u001b[0mmsg\u001b[0m \u001b[1;33m+=\u001b[0m \u001b[1;34m'See notebook \"%s\" for the traceback.'\u001b[0m \u001b[1;33m%\u001b[0m \u001b[0mout_nb_name\u001b[0m\u001b[1;33m\u001b[0m\u001b[0m\n\u001b[0;32m     45\u001b[0m         \u001b[1;32mprint\u001b[0m \u001b[0mmsg\u001b[0m\u001b[1;33m\u001b[0m\u001b[0m\n\u001b[1;32m---> 46\u001b[1;33m         \u001b[1;32mraise\u001b[0m \u001b[0me\u001b[0m\u001b[1;33m\u001b[0m\u001b[0m\n\u001b[0m\u001b[0;32m     47\u001b[0m     \u001b[1;32mfinally\u001b[0m\u001b[1;33m:\u001b[0m\u001b[1;33m\u001b[0m\u001b[0m\n\u001b[0;32m     48\u001b[0m         \u001b[1;32mwith\u001b[0m \u001b[0mopen\u001b[0m\u001b[1;33m(\u001b[0m\u001b[0mout_nb_name\u001b[0m\u001b[1;33m,\u001b[0m \u001b[1;34m'w'\u001b[0m\u001b[1;33m)\u001b[0m \u001b[1;32mas\u001b[0m \u001b[0mf\u001b[0m\u001b[1;33m:\u001b[0m\u001b[1;33m\u001b[0m\u001b[0m\n",
        "\u001b[1;31mNotImplementedError\u001b[0m: unhandled iopub message: comm_open"
       ]
      }
     ],
     "prompt_number": 4
    },
    {
     "cell_type": "code",
     "collapsed": false,
     "input": [],
     "language": "python",
     "metadata": {},
     "outputs": []
    }
   ],
   "metadata": {}
  }
 ]
}