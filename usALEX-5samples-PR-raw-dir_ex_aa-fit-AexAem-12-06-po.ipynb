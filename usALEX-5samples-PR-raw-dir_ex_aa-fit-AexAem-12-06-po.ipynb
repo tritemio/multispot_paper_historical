{
 "metadata": {
  "name": "",
  "signature": "sha256:c426eae99f0d8ac2d9844f4420a6d4db59c55c4bbc6e72a152e3eae235f44893"
 },
 "nbformat": 3,
 "nbformat_minor": 0,
 "worksheets": [
  {
   "cells": [
    {
     "cell_type": "markdown",
     "metadata": {},
     "source": [
      "# usALEX-5samples - Template\n",
      "\n",
      "> *This notebook is a template that is executed by [usALEX-Batch](usALEX-Batch.ipynb) in order to fit E and S values of the FRET population for all the 5 smFRET samples.*\n",
      ">\n",
      "> *This notebook reads the environment variable NB_DATA_FILE to select which file to process.*"
     ]
    },
    {
     "cell_type": "markdown",
     "metadata": {},
     "source": [
      "## Load software and filenames definitions"
     ]
    },
    {
     "cell_type": "code",
     "collapsed": false,
     "input": [
      "%run load_fretbursts.py --nogui"
     ],
     "language": "python",
     "metadata": {},
     "outputs": []
    },
    {
     "cell_type": "code",
     "collapsed": false,
     "input": [
      "%cd $NOTEBOOK_DIR"
     ],
     "language": "python",
     "metadata": {},
     "outputs": []
    },
    {
     "cell_type": "code",
     "collapsed": false,
     "input": [
      "data_dir = os.path.abspath(NOTEBOOK_DIR+'/data') + '/'\n",
      "assert os.path.exists(data_dir), \"Path '%s' does not exist.\" % data_dir"
     ],
     "language": "python",
     "metadata": {},
     "outputs": []
    },
    {
     "cell_type": "code",
     "collapsed": false,
     "input": [
      "## Files\n",
      "f7 = \"2012-11-26/006_dsDNA_7d_green100u_red40u.sm\"\n",
      "f12 = \"2012-11-26/007_dsDNA_12d_3nM_green100u_red40u.sm\"\n",
      "f17 = \"2012-11-26/004_dsDNA_17d_green100u_red40u.sm\"\n",
      "f22 = \"2012-11-26/008_dsDNA_22d_500pM_green100u_red40u.sm\"\n",
      "f27 = \"2012-11-26/005_dsDNA_27d_green100u_red40u.sm\"\n",
      "\n",
      "f7, f12, f17, f22, f27 = [data_dir + f[:-2]+'hdf5' for f in [f7, f12, f17, f22, f27]]\n",
      "\n",
      "f_dict = {'7d': f7, '12d': f12, '17d': f17, '22d': f22, '27d': f27}"
     ],
     "language": "python",
     "metadata": {},
     "outputs": []
    },
    {
     "cell_type": "code",
     "collapsed": false,
     "input": [
      "f_dict"
     ],
     "language": "python",
     "metadata": {},
     "outputs": []
    },
    {
     "cell_type": "code",
     "collapsed": false,
     "input": [
      "data_id = os.environ['NB_DATA_FILE']\n",
      "data_id"
     ],
     "language": "python",
     "metadata": {},
     "outputs": []
    },
    {
     "cell_type": "code",
     "collapsed": false,
     "input": [
      "# data_id = '17d'"
     ],
     "language": "python",
     "metadata": {},
     "outputs": []
    },
    {
     "cell_type": "markdown",
     "metadata": {},
     "source": [
      "## Data load"
     ]
    },
    {
     "cell_type": "markdown",
     "metadata": {},
     "source": [
      "Initial loading of the data:"
     ]
    },
    {
     "cell_type": "code",
     "collapsed": false,
     "input": [
      "d = loader.hdf5(fname=f_dict[data_id])"
     ],
     "language": "python",
     "metadata": {},
     "outputs": []
    },
    {
     "cell_type": "markdown",
     "metadata": {},
     "source": [
      "## Laser alternation selection\n",
      "\n",
      "At this point we have only the timestamps and the detector numbers:"
     ]
    },
    {
     "cell_type": "code",
     "collapsed": false,
     "input": [
      "d.ph_times_t, d.det_t"
     ],
     "language": "python",
     "metadata": {},
     "outputs": []
    },
    {
     "cell_type": "markdown",
     "metadata": {},
     "source": [
      "We need to define some parameters: donor and acceptor ch, excitation period and donor and acceptor excitiations:"
     ]
    },
    {
     "cell_type": "code",
     "collapsed": false,
     "input": [
      "d.add(det_donor_accept=(0, 1), alex_period=4000, D_ON=(2850, 580), A_ON=(900, 2580))"
     ],
     "language": "python",
     "metadata": {},
     "outputs": []
    },
    {
     "cell_type": "markdown",
     "metadata": {},
     "source": [
      "We should check if everithing is OK with an alternation histogram:"
     ]
    },
    {
     "cell_type": "code",
     "collapsed": false,
     "input": [
      "plot_alternation_hist(d)"
     ],
     "language": "python",
     "metadata": {},
     "outputs": []
    },
    {
     "cell_type": "markdown",
     "metadata": {},
     "source": [
      "If the plot looks good we can apply the parameters with:"
     ]
    },
    {
     "cell_type": "code",
     "collapsed": false,
     "input": [
      "loader.usalex_apply_period(d)"
     ],
     "language": "python",
     "metadata": {},
     "outputs": []
    },
    {
     "cell_type": "markdown",
     "metadata": {},
     "source": [
      "##Measurements infos"
     ]
    },
    {
     "cell_type": "markdown",
     "metadata": {},
     "source": [
      "All the measurement data is in the `d` variable. We can print it:"
     ]
    },
    {
     "cell_type": "code",
     "collapsed": false,
     "input": [
      "d"
     ],
     "language": "python",
     "metadata": {},
     "outputs": []
    },
    {
     "cell_type": "markdown",
     "metadata": {},
     "source": [
      "Or check the **measurements duration**:"
     ]
    },
    {
     "cell_type": "code",
     "collapsed": false,
     "input": [
      "d.time_max()"
     ],
     "language": "python",
     "metadata": {},
     "outputs": []
    },
    {
     "cell_type": "markdown",
     "metadata": {},
     "source": [
      "##Compute background"
     ]
    },
    {
     "cell_type": "markdown",
     "metadata": {},
     "source": [
      "Compute the background using automatic threshold:"
     ]
    },
    {
     "cell_type": "code",
     "collapsed": false,
     "input": [
      "d.calc_bg(bg.exp_fit, time_s=60, tail_min_us='auto', F_bg=1.7)"
     ],
     "language": "python",
     "metadata": {},
     "outputs": []
    },
    {
     "cell_type": "code",
     "collapsed": false,
     "input": [
      "dplot(d, timetrace_bg)"
     ],
     "language": "python",
     "metadata": {},
     "outputs": []
    },
    {
     "cell_type": "code",
     "collapsed": false,
     "input": [
      "d.rate_m, d.rate_dd, d.rate_ad, d.rate_aa"
     ],
     "language": "python",
     "metadata": {},
     "outputs": []
    },
    {
     "cell_type": "markdown",
     "metadata": {},
     "source": [
      "#Burst search and burst selection"
     ]
    },
    {
     "cell_type": "code",
     "collapsed": false,
     "input": [
      "assert d.dir_ex == 0\n",
      "assert d.leakage == 0"
     ],
     "language": "python",
     "metadata": {},
     "outputs": []
    },
    {
     "cell_type": "code",
     "collapsed": false,
     "input": [
      "d.burst_search_t(m=10, F=6, ph_sel=Ph_sel('all'))"
     ],
     "language": "python",
     "metadata": {},
     "outputs": []
    },
    {
     "cell_type": "code",
     "collapsed": false,
     "input": [
      "print d.ph_sel"
     ],
     "language": "python",
     "metadata": {},
     "outputs": []
    },
    {
     "cell_type": "code",
     "collapsed": false,
     "input": [
      "d_E = d.copy()\n",
      "d_E.burst_search_t(m=10, F=7, ph_sel=Ph_sel(Dex='DAem'))\n",
      "d_Es = Sel(d_E, select_bursts.size, add_naa=False, th1=30)"
     ],
     "language": "python",
     "metadata": {},
     "outputs": []
    },
    {
     "cell_type": "code",
     "collapsed": false,
     "input": [
      "if data_id == '7d':\n",
      "    fret_sel = dict(E1=0.60, E2=1.2, S1=0.2, S2=0.9, rect=False)\n",
      "elif data_id == '12d':\n",
      "    fret_sel = dict(E1=0.30,E2=1.2,S1=0.131,S2=0.9, rect=False)\n",
      "elif data_id == '17d':\n",
      "    fret_sel = dict(E1=0.01, E2=0.98, S1=0.14, S2=0.88, rect=False)\n",
      "elif data_id == '22d':\n",
      "    fret_sel = dict(E1=-0.16, E2=0.6, S1=0.2, S2=0.80, rect=False)\n",
      "elif data_id == '27d':\n",
      "    fret_sel = dict(E1=-0.1, E2=0.5, S1=0.2, S2=0.82, rect=False)\n",
      "\n",
      "d_Es_fret = Sel(d_Es, select_bursts.ES, **fret_sel)"
     ],
     "language": "python",
     "metadata": {},
     "outputs": []
    },
    {
     "cell_type": "code",
     "collapsed": false,
     "input": [
      "bandwidth = 0.03\n",
      "\n",
      "E_pr_fret_kde = bext.fit_E_kde_peak(d_Es_fret, bandwidth=bandwidth, weights='size')[0]\n",
      "E_pr_fret_kde"
     ],
     "language": "python",
     "metadata": {},
     "outputs": []
    },
    {
     "cell_type": "code",
     "collapsed": false,
     "input": [
      "from mpl_toolkits.axes_grid1 import AxesGrid\n",
      "import lmfit\n",
      "print 'lmfit version:', lmfit.__version__\n",
      "\n",
      "gaussian_kde_w = bl.fit.weighted_kde.gaussian_kde_w\n",
      "normpdf = bl.fit.gaussian_fitting.normpdf\n",
      "two_gauss_mix_pdf = bl.fit.gaussian_fitting.two_gauss_mix_pdf"
     ],
     "language": "python",
     "metadata": {},
     "outputs": []
    },
    {
     "cell_type": "code",
     "collapsed": false,
     "input": [
      "ds_sa = Sel(d, select_bursts.naa, th1=30)\n",
      "\n",
      "ds_sas0 = Sel(ds_sa, select_bursts.S, S2=0.10)\n",
      "ds_sas = Sel(ds_sa, select_bursts.S, S2=0.15)\n",
      "ds_sas2 = Sel(ds_sa, select_bursts.S, S2=0.20)\n",
      "ds_sas3 = Sel(ds_sa, select_bursts.S, S2=0.25)\n",
      "\n",
      "ds_st = Sel(d, select_bursts.size, add_naa=True, th1=30)\n",
      "ds_sas.num_bursts()"
     ],
     "language": "python",
     "metadata": {},
     "outputs": []
    },
    {
     "cell_type": "code",
     "collapsed": false,
     "input": [
      "dx = ds_sas0\n",
      "size = dx.na[0] + dx.nd[0]\n",
      "s_hist, s_bins = np.histogram(size, bins=np.r_[-15 : 25 : 1], density=True)\n",
      "s_ax = s_bins[:-1] + 0.5*(s_bins[1] - s_bins[0])\n",
      "plot(s_ax, s_hist, '-o', alpha=0.5)\n",
      "\n",
      "dx = ds_sas\n",
      "size = dx.na[0] + dx.nd[0]\n",
      "s_hist, s_bins = np.histogram(size, bins=np.r_[-15 : 25 : 1], density=True)\n",
      "s_ax = s_bins[:-1] + 0.5*(s_bins[1] - s_bins[0])\n",
      "plot(s_ax, s_hist, '-o', alpha=0.5)\n",
      "\n",
      "dx = ds_sas2\n",
      "size = dx.na[0] + dx.nd[0]\n",
      "s_hist, s_bins = np.histogram(size, bins=np.r_[-15 : 25 : 1], density=True)\n",
      "s_ax = s_bins[:-1] + 0.5*(s_bins[1] - s_bins[0])\n",
      "plot(s_ax, s_hist, '-o', alpha=0.5)\n",
      "\n",
      "dx = ds_sas3\n",
      "size = dx.na[0] + dx.nd[0]\n",
      "s_hist, s_bins = np.histogram(size, bins=np.r_[-15 : 25 : 1], density=True)\n",
      "s_ax = s_bins[:-1] + 0.5*(s_bins[1] - s_bins[0])\n",
      "plot(s_ax, s_hist, '-o', alpha=0.5)\n",
      "\n",
      "plt.title('(nd + na) for A-only population using different S cutoff');"
     ],
     "language": "python",
     "metadata": {},
     "outputs": []
    },
    {
     "cell_type": "code",
     "collapsed": false,
     "input": [
      "dx = ds_st\n",
      "\n",
      "fig = plt.figure(figsize=(14, 6))\n",
      "grid = AxesGrid(fig, 111, # similar to subplot(132)\n",
      "                nrows_ncols = (1, 2),\n",
      "                axes_pad = 0.4,\n",
      "                share_all=False,\n",
      "                label_mode = \"L\",\n",
      "                cbar_location = \"left\",\n",
      "                cbar_mode=\"single\",\n",
      "                cbar_size=\"7%\",\n",
      "                cbar_pad=\"10%\",\n",
      "                )\n",
      "\n",
      "hist2d_alex(dx, scatter_alpha=0.05, ax=grid[0], cbar_ax=grid.cbar_axes[0])\n",
      "dplot(dx, scatter_alex, ax=grid[1])\n",
      "#grid[1].set_xlim(-1.5, 2.5)\n",
      "grid[1].set_xlim(-1, 2)"
     ],
     "language": "python",
     "metadata": {},
     "outputs": []
    },
    {
     "cell_type": "code",
     "collapsed": false,
     "input": [
      "dx = ds_sa\n",
      "\n",
      "fig = plt.figure(figsize=(14, 6))\n",
      "grid = AxesGrid(fig, 111, # similar to subplot(132)\n",
      "                nrows_ncols = (1, 2),\n",
      "                axes_pad = 0.4,\n",
      "                share_all=False,\n",
      "                label_mode = \"L\",\n",
      "                cbar_location = \"left\",\n",
      "                cbar_mode=\"single\",\n",
      "                cbar_size=\"7%\",\n",
      "                cbar_pad=\"10%\",\n",
      "                )\n",
      "\n",
      "hist2d_alex(dx, scatter_alpha=0.05, ax=grid[0], cbar_ax=grid.cbar_axes[0])\n",
      "dplot(dx, scatter_alex, ax=grid[1])\n",
      "#grid[1].set_xlim(-1.5, 2.5)\n",
      "grid[1].set_xlim(-1, 2)"
     ],
     "language": "python",
     "metadata": {},
     "outputs": []
    },
    {
     "cell_type": "code",
     "collapsed": false,
     "input": [
      "dplot(ds_sa, hist_S)"
     ],
     "language": "python",
     "metadata": {},
     "outputs": []
    },
    {
     "cell_type": "code",
     "collapsed": false,
     "input": [
      "dx = ds_sa\n",
      "\n",
      "dir_ex = dx.na[0]/dx.naa[0]\n",
      "D_ratio =  dx.na[0]/( dx.naa[0] + dx.na[0])\n",
      "S_ratio = dx.S[0]\n",
      "\n",
      "S_kde = gaussian_kde_w(S_ratio, bw_method=0.04)\n",
      "D_kde = gaussian_kde_w(D_ratio, bw_method=0.03)\n",
      "dir_kde = gaussian_kde_w(dir_ex, bw_method=0.03)"
     ],
     "language": "python",
     "metadata": {},
     "outputs": []
    },
    {
     "cell_type": "code",
     "collapsed": false,
     "input": [
      "S_hist, S_bins = np.histogram(S_ratio, bins=np.r_[-0.2 : 1 : 0.02], density=True)\n",
      "S_ax = S_bins[:-1] + 0.5*(S_bins[1] - S_bins[0])\n",
      "x = np.arange(S_bins.min(), S_bins.max(), 0.0005)\n",
      "\n",
      "plt.plot(S_ax, S_hist, '-o', alpha=0.5);\n",
      "plot(x, S_kde(x), 'k')\n",
      "plt.grid(True)\n",
      "\n",
      "S_peak = bext.find_max(x, S_kde(x), xmin=0, xmax=0.2)\n",
      "plt.axvline(S_peak, ls='--', color='r')\n",
      "dir_ex_from_S = S_peak/(1 - S_peak)\n",
      "\n",
      "print 'Fitted direct excitation (na/naa):', dir_ex_from_S"
     ],
     "language": "python",
     "metadata": {},
     "outputs": []
    },
    {
     "cell_type": "code",
     "collapsed": false,
     "input": [
      "gauss1  = lmfit.models.GaussianModel(prefix='g1_')\n",
      "gauss2  = lmfit.models.GaussianModel(prefix='g2_')\n",
      "\n",
      "gauss1.set_paramval('center',    0.05)\n",
      "gauss1.set_paramval('sigma',     0.1)\n",
      "gauss1.set_paramval('amplitude', 0.2)\n",
      "\n",
      "gauss2.set_paramval('center',    0.5)\n",
      "gauss2.set_paramval('sigma',     0.08)\n",
      "gauss2.set_paramval('amplitude', 0.8)\n",
      "\n",
      "mod = gauss1 + gauss2\n",
      "out = mod.fit(S_hist, x=S_ax)\n",
      "print(mod.fit_report(min_correl=0.5))"
     ],
     "language": "python",
     "metadata": {},
     "outputs": []
    },
    {
     "cell_type": "code",
     "collapsed": false,
     "input": [
      "plt.plot(S_ax, S_hist, '-o', alpha=0.5)\n",
      "plt.plot(S_ax, out.best_fit, 'k')\n",
      "plt.axvline(out.params['g1_center'].value, color='r', ls='--')\n",
      "plt.grid(True)\n",
      "\n",
      "S_gauss1 = out.params['g1_center'].value\n",
      "dir_ex_from_S2g = S_gauss1/(1 - S_gauss1)\n",
      "print 'Fitted direct excitation (na/naa):', dir_ex_from_S2g"
     ],
     "language": "python",
     "metadata": {},
     "outputs": []
    },
    {
     "cell_type": "code",
     "collapsed": false,
     "input": [
      "two_gaussian_fit_EM_b = bl.fit.gaussian_fitting.two_gaussian_fit_EM_b"
     ],
     "language": "python",
     "metadata": {},
     "outputs": []
    },
    {
     "cell_type": "code",
     "collapsed": false,
     "input": [
      "res = two_gaussian_fit_EM_b(dx.S[0], p0=[0.05, 0.1, 0.6, 0.1, 0.2])\n",
      "res"
     ],
     "language": "python",
     "metadata": {},
     "outputs": []
    },
    {
     "cell_type": "code",
     "collapsed": false,
     "input": [
      "plt.plot(S_ax, S_hist, '-o', alpha=0.5)\n",
      "plt.plot(S_ax, two_gauss_mix_pdf(S_ax, res), 'k')\n",
      "plt.axvline(res[0], color='r', ls='--')\n",
      "plt.grid(True)\n",
      "\n",
      "S_gauss1em = res[0]\n",
      "dir_ex_from_S2gEM = S_gauss1em/(1 - S_gauss1em)\n",
      "print 'Fitted direct excitation (na/naa):', dir_ex_from_S2gEM"
     ],
     "language": "python",
     "metadata": {},
     "outputs": []
    },
    {
     "cell_type": "markdown",
     "metadata": {},
     "source": [
      "# Save data to file"
     ]
    },
    {
     "cell_type": "code",
     "collapsed": false,
     "input": [
      "%cd $NOTEBOOK_DIR"
     ],
     "language": "python",
     "metadata": {},
     "outputs": []
    },
    {
     "cell_type": "code",
     "collapsed": false,
     "input": [
      "sample = data_id\n",
      "n_bursts_aa = ds_sas.num_bursts()[0]"
     ],
     "language": "python",
     "metadata": {},
     "outputs": []
    },
    {
     "cell_type": "markdown",
     "metadata": {},
     "source": [
      "The following string contains the list of variables to be saved. When saving, the order of the variables is preserved."
     ]
    },
    {
     "cell_type": "code",
     "collapsed": false,
     "input": [
      "variables = 'sample n_bursts_aa dir_ex_from_S dir_ex_from_S2g dir_ex_from_S2gEM\\n'"
     ],
     "language": "python",
     "metadata": {},
     "outputs": []
    },
    {
     "cell_type": "markdown",
     "metadata": {},
     "source": [
      "This is just a trick to format the different variables:"
     ]
    },
    {
     "cell_type": "code",
     "collapsed": false,
     "input": [
      "var_dict = {name: eval(name) for name in variables.split()}\n",
      "var_fmt = ' '.join(['{%s}' % name for name in variables.split()]) + '\\n'\n",
      "data_str = var_fmt.format(**var_dict)"
     ],
     "language": "python",
     "metadata": {},
     "outputs": []
    },
    {
     "cell_type": "code",
     "collapsed": false,
     "input": [
      "data_str = var_fmt.format(**var_dict)"
     ],
     "language": "python",
     "metadata": {},
     "outputs": []
    },
    {
     "cell_type": "code",
     "collapsed": false,
     "input": [
      "print variables\n",
      "print data_str"
     ],
     "language": "python",
     "metadata": {},
     "outputs": []
    },
    {
     "cell_type": "code",
     "collapsed": false,
     "input": [
      "# NOTE: The file name should be the notebook name but with .txt extension\n",
      "with open('results/usALEX-5samples-PR-raw-dir_ex_aa-fit-AexAem.txt', 'a') as f:\n",
      "    f.seek(0, 2)\n",
      "    if f.tell() == 0:\n",
      "        f.write(variables)\n",
      "    f.write(data_str)"
     ],
     "language": "python",
     "metadata": {},
     "outputs": []
    },
    {
     "cell_type": "code",
     "collapsed": false,
     "input": [],
     "language": "python",
     "metadata": {},
     "outputs": []
    }
   ],
   "metadata": {}
  }
 ]
}