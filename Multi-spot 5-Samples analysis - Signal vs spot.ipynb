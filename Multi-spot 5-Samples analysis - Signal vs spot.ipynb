{
 "cells": [
  {
   "cell_type": "markdown",
   "metadata": {},
   "source": [
    "# Signal vs spot\n",
    "\n",
    "> *This notebook analysizes the signal intensity as a function of the excitation spot.*"
   ]
  },
  {
   "cell_type": "markdown",
   "metadata": {},
   "source": [
    "## Import software"
   ]
  },
  {
   "cell_type": "code",
   "execution_count": null,
   "metadata": {
    "collapsed": false
   },
   "outputs": [],
   "source": [
    "from fretbursts import *\n",
    "sns = init_notebook()"
   ]
  },
  {
   "cell_type": "code",
   "execution_count": null,
   "metadata": {
    "collapsed": false
   },
   "outputs": [],
   "source": [
    "import os\n",
    "import pandas as pd\n",
    "from IPython.display import display"
   ]
  },
  {
   "cell_type": "code",
   "execution_count": null,
   "metadata": {
    "collapsed": true
   },
   "outputs": [],
   "source": [
    "figure_size = (5, 4)\n",
    "default_figure = lambda: plt.subplots(figsize=figure_size)\n",
    "save_figures = True\n",
    "\n",
    "def savefig(filename, **kwargs):\n",
    "    if not save_figures:\n",
    "        return\n",
    "    import os\n",
    "    dir_ = 'figures/'\n",
    "    kwargs_ = dict(dpi=300, bbox_inches='tight')\n",
    "                   #frameon=True, facecolor='white', transparent=False)\n",
    "    kwargs_.update(kwargs)\n",
    "    plt.savefig(dir_ + filename, **kwargs_)"
   ]
  },
  {
   "cell_type": "markdown",
   "metadata": {},
   "source": [
    "## Data files"
   ]
  },
  {
   "cell_type": "code",
   "execution_count": null,
   "metadata": {
    "collapsed": false
   },
   "outputs": [],
   "source": [
    "data_dir = './data/multispot/'"
   ]
  },
  {
   "cell_type": "code",
   "execution_count": null,
   "metadata": {
    "collapsed": false
   },
   "outputs": [],
   "source": [
    "data_dir = os.path.abspath(data_dir) + '/'\n",
    "assert os.path.exists(data_dir), \"Path '%s' does not exist.\" % data_dir"
   ]
  },
  {
   "cell_type": "code",
   "execution_count": null,
   "metadata": {
    "collapsed": true
   },
   "outputs": [],
   "source": [
    "from glob import glob\n",
    "file_list = sorted(glob(data_dir + '*.hdf5'))"
   ]
  },
  {
   "cell_type": "code",
   "execution_count": null,
   "metadata": {
    "collapsed": false
   },
   "outputs": [],
   "source": [
    "labels = ['7d', '12d', '17d', '22d', '27d', 'DO']\n",
    "files_dict = {lab: fname for lab, fname in zip(sorted(labels), file_list)}\n",
    "files_dict"
   ]
  },
  {
   "cell_type": "markdown",
   "metadata": {},
   "source": [
    "## Plot style"
   ]
  },
  {
   "cell_type": "code",
   "execution_count": null,
   "metadata": {
    "collapsed": false
   },
   "outputs": [],
   "source": [
    "PLOT_DIR = './figure/'"
   ]
  },
  {
   "cell_type": "code",
   "execution_count": null,
   "metadata": {
    "collapsed": false
   },
   "outputs": [],
   "source": [
    "import matplotlib as mpl\n",
    "from cycler import cycler\n",
    "\n",
    "bmap = sns.color_palette(\"Set1\", 9)\n",
    "colors = np.array(bmap)[(1,0,2,3,4,8,6,7), :]\n",
    "mpl.rcParams['axes.prop_cycle'] = cycler('color', colors)\n",
    "colors_labels = ['blue', 'red', 'green', 'violet', 'orange', 'gray', 'brown', 'pink', ]\n",
    "for c, cl in zip(colors, colors_labels):\n",
    "    locals()[cl] = tuple(c) # assign variables with color names\n",
    "sns.palplot(colors)"
   ]
  },
  {
   "cell_type": "code",
   "execution_count": null,
   "metadata": {
    "collapsed": false
   },
   "outputs": [],
   "source": [
    "%config InlineBackend.figure_format='retina'  # for hi-dpi displays\n",
    "sns.set(style='whitegrid', font_scale=1.4, palette=colors)\n",
    "#palette = ('Paired', 10)\n",
    "#sns.palplot(sns.color_palette(*palette))\n",
    "#sns.set_palette(*palette)"
   ]
  },
  {
   "cell_type": "markdown",
   "metadata": {},
   "source": [
    "# Load DCR"
   ]
  },
  {
   "cell_type": "code",
   "execution_count": null,
   "metadata": {
    "collapsed": false
   },
   "outputs": [],
   "source": [
    "dcr = pd.DataFrame.from_csv('results/8-pixels_DCR.csv')\n",
    "dcr.columns = ['D detector', 'A detector']\n",
    "dcr"
   ]
  },
  {
   "cell_type": "code",
   "execution_count": null,
   "metadata": {
    "collapsed": false
   },
   "outputs": [],
   "source": [
    "(dcr/1000).plot(lw=3);\n",
    "plt.ylabel('Dark Counts (kcps)');"
   ]
  },
  {
   "cell_type": "code",
   "execution_count": null,
   "metadata": {
    "collapsed": false
   },
   "outputs": [],
   "source": [
    "dcr_d = dcr.drop('A detector', axis=1)\n",
    "dcr_a = dcr.drop('D detector', axis=1)"
   ]
  },
  {
   "cell_type": "markdown",
   "metadata": {},
   "source": [
    "# Total Rates"
   ]
  },
  {
   "cell_type": "code",
   "execution_count": null,
   "metadata": {
    "collapsed": false
   },
   "outputs": [],
   "source": [
    "df = pd.DataFrame(index=pd.Index(np.arange(1, 9), name='Spot'), \n",
    "                  columns=pd.Index(labels, name='Sample'))\n",
    "raw_rates_d, raw_rates_a = df.copy(), df.copy()\n",
    "for k in labels:\n",
    "    d = loader.photon_hdf5(files_dict[k])\n",
    "    t = d.acquisition_duration\n",
    "    raw_rates = np.array([p.size/t for p in d.ph_times_m])\n",
    "    raw_rates_a[k] = np.array([m.sum()/t for m in d.A_em])\n",
    "    raw_rates_d[k] = raw_rates - raw_rates_a[k]"
   ]
  },
  {
   "cell_type": "code",
   "execution_count": null,
   "metadata": {
    "collapsed": false
   },
   "outputs": [],
   "source": [
    "rates_a, rates_d = df.copy(), df.copy()\n",
    "rates_a.iloc[:,:] = np.array(raw_rates_a) - np.array(dcr_a)\n",
    "rates_d.iloc[:,:] = np.array(raw_rates_d) - np.array(dcr_d)"
   ]
  },
  {
   "cell_type": "code",
   "execution_count": null,
   "metadata": {
    "collapsed": false
   },
   "outputs": [],
   "source": [
    "rates_a.plot(lw=3);"
   ]
  },
  {
   "cell_type": "code",
   "execution_count": null,
   "metadata": {
    "collapsed": false
   },
   "outputs": [],
   "source": [
    "rates_d.plot(lw=3);"
   ]
  },
  {
   "cell_type": "code",
   "execution_count": null,
   "metadata": {
    "collapsed": false
   },
   "outputs": [],
   "source": [
    "(rates_a / rates_a.max()).plot(lw=3);\n",
    "plt.ylim(0);\n",
    "plt.title('A Channel');"
   ]
  },
  {
   "cell_type": "code",
   "execution_count": null,
   "metadata": {
    "collapsed": false
   },
   "outputs": [],
   "source": [
    "(rates_d / rates_d.max()).plot(lw=3);\n",
    "plt.ylim(0);\n",
    "plt.title('D Channel');"
   ]
  },
  {
   "cell_type": "code",
   "execution_count": null,
   "metadata": {
    "collapsed": true
   },
   "outputs": [],
   "source": [
    "sns.set(font_scale=1.4, palette=colors)\n",
    "sns.set_style('ticks')"
   ]
  },
  {
   "cell_type": "code",
   "execution_count": null,
   "metadata": {
    "collapsed": false
   },
   "outputs": [],
   "source": [
    "fig, ax = plt.subplots(1, 2, figsize=(14, 5), sharey=True, sharex=True)\n",
    "plt.subplots_adjust(wspace=0.2)\n",
    "(rates_d / rates_d.max()).plot(lw=3, marker='o', ms=8, ax=ax[0]);\n",
    "(rates_a / rates_a.max()).plot(lw=3, marker='o', ms=8, ax=ax[1]);\n",
    "plt.ylim(0);\n",
    "\n",
    "ax[0].set_title('D Detector', fontsize=18);\n",
    "ax[1].set_title('A Detector', fontsize=18);\n",
    "sns.despine(offset=10, trim=True, ax=ax[0])\n",
    "sns.despine(offset=10, trim=True, ax=ax[1], left=True)\n",
    "ax[1].yaxis.set_visible(False)\n",
    "ax[0].set_ylabel('A.U.')\n",
    "plt.xlim(0.75, 8.25)\n",
    "ax[1].legend(loc='lower right', title='Sample')\n",
    "ax[0].legend_.remove()\n",
    "fs = 28\n",
    "ax[0].text(1,0, 'A', fontsize=fs)\n",
    "ax[1].text(1,0, 'B', fontsize=fs)\n",
    "savefig('5dsDNA signal vs ch.png')"
   ]
  },
  {
   "cell_type": "code",
   "execution_count": null,
   "metadata": {
    "collapsed": false
   },
   "outputs": [],
   "source": [
    "rates1 = rates_d.copy()\n",
    "rates1.columns = ['D %s' % c for c in rates1.columns]\n",
    "rates2 = rates_a.copy()\n",
    "rates2.columns = ['A %s' % c for c in rates2.columns]\n",
    "rates_da = pd.concat([rates1, rates2], axis=1)"
   ]
  },
  {
   "cell_type": "code",
   "execution_count": null,
   "metadata": {
    "collapsed": false
   },
   "outputs": [],
   "source": [
    "(rates_da / rates_da.max()).plot(lw=3, alpha=0.7);\n",
    "plt.ylim(0);"
   ]
  },
  {
   "cell_type": "code",
   "execution_count": null,
   "metadata": {
    "collapsed": true
   },
   "outputs": [],
   "source": [
    "rates = rates_d + rates_a"
   ]
  },
  {
   "cell_type": "code",
   "execution_count": null,
   "metadata": {
    "collapsed": false
   },
   "outputs": [],
   "source": [
    "rates.plot(lw=3);"
   ]
  },
  {
   "cell_type": "code",
   "execution_count": null,
   "metadata": {
    "collapsed": false
   },
   "outputs": [],
   "source": [
    "(rates / rates.max()).plot(lw=3);\n",
    "plt.ylim(0);"
   ]
  },
  {
   "cell_type": "markdown",
   "metadata": {},
   "source": [
    "# Background rates"
   ]
  },
  {
   "cell_type": "code",
   "execution_count": null,
   "metadata": {
    "collapsed": false
   },
   "outputs": [],
   "source": [
    "df = pd.DataFrame(index=np.arange(8), columns=labels)\n",
    "df.index.name = 'CH'\n",
    "df.columns.name = 'sample'\n",
    "raw_bg_rates_d, raw_bg_rates_a = df.copy(), df.copy()\n",
    "for k in labels:\n",
    "    d = loader.photon_hdf5(files_dict[k])\n",
    "    d.calc_bg(fun=bg.exp_fit, time_s=30, tail_min_us='auto', F_bg=1.7)\n",
    "    raw_bg_rates_d[k] = np.asfarray(d.bg_dd).mean(1)\n",
    "    raw_bg_rates_a[k] = np.asfarray(d.bg_ad).mean(1)"
   ]
  },
  {
   "cell_type": "code",
   "execution_count": null,
   "metadata": {
    "collapsed": false
   },
   "outputs": [],
   "source": [
    "bg_rates_a, bg_rates_d = df.copy(), df.copy()\n",
    "bg_rates_a.iloc[:,:] = np.array(raw_bg_rates_a) - np.array(dcr_a)\n",
    "bg_rates_d.iloc[:,:] = np.array(raw_bg_rates_d) - np.array(dcr_d)"
   ]
  },
  {
   "cell_type": "code",
   "execution_count": null,
   "metadata": {
    "collapsed": false
   },
   "outputs": [],
   "source": [
    "bg_rates_a.plot(lw=3);\n",
    "plt.ylim(0, 3500)"
   ]
  },
  {
   "cell_type": "code",
   "execution_count": null,
   "metadata": {
    "collapsed": false
   },
   "outputs": [],
   "source": [
    "(bg_rates_a / bg_rates_a.max()).plot(lw=3);\n",
    "plt.ylim(0);"
   ]
  },
  {
   "cell_type": "code",
   "execution_count": null,
   "metadata": {
    "collapsed": false
   },
   "outputs": [],
   "source": [
    "bg_rates_d.plot(lw=3);"
   ]
  },
  {
   "cell_type": "code",
   "execution_count": null,
   "metadata": {
    "collapsed": false
   },
   "outputs": [],
   "source": [
    "(bg_rates_d / bg_rates_d.max()).plot(lw=3);\n",
    "plt.ylim(0);"
   ]
  },
  {
   "cell_type": "code",
   "execution_count": null,
   "metadata": {
    "collapsed": true
   },
   "outputs": [],
   "source": [
    "bg_rates = bg_rates_d + bg_rates_a"
   ]
  },
  {
   "cell_type": "code",
   "execution_count": null,
   "metadata": {
    "collapsed": false
   },
   "outputs": [],
   "source": [
    "bg_rates.plot(lw=3);"
   ]
  },
  {
   "cell_type": "code",
   "execution_count": null,
   "metadata": {
    "collapsed": false
   },
   "outputs": [],
   "source": [
    "(bg_rates / bg_rates.max()).plot(lw=3);\n",
    "plt.ylim(0);"
   ]
  },
  {
   "cell_type": "code",
   "execution_count": null,
   "metadata": {
    "collapsed": true
   },
   "outputs": [],
   "source": []
  }
 ],
 "metadata": {
  "anaconda-cloud": {},
  "kernelspec": {
   "display_name": "Python [default]",
   "language": "python",
   "name": "python3"
  },
  "language_info": {
   "codemirror_mode": {
    "name": "ipython",
    "version": 3
   },
   "file_extension": ".py",
   "mimetype": "text/x-python",
   "name": "python",
   "nbconvert_exporter": "python",
   "pygments_lexer": "ipython3",
   "version": "3.5.2"
  }
 },
 "nbformat": 4,
 "nbformat_minor": 0
}
