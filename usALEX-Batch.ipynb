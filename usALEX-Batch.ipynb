{
 "metadata": {
  "name": "",
  "signature": "sha256:3dda3f488bbae1b465bd73ca523a23707def5ff7960f5ee3e9f30084c3f5849f"
 },
 "nbformat": 3,
 "nbformat_minor": 0,
 "worksheets": [
  {
   "cells": [
    {
     "cell_type": "markdown",
     "metadata": {},
     "source": [
      "# Fit E and S for 5 smFRET samples\n",
      "\n",
      "> *This notebook computes the fitted E and S values for the 5 smFRET samples. The computation is done executing the notebook [usALEX-5samples](usALEX-5samples.ipynb) with differet input data.*\n",
      "\n",
      "##Implementation details\n",
      "This notebook uses [runipy](https://pypi.python.org/pypi/runipy/) to run a notebooks several times\n",
      "with different data files as input.\n",
      "\n",
      "The results of each execution (including data and plots) are saved as a new notebooks. A parameter (`data_id`) is passed to the notebook through an environment variable (`NB_DATA_FILE`). The notebook used as template (for example [usALEX-5samples](usALEX-5samples.ipynb)) reads the environment variable NB_DATA_FILE to decide which file to process."
     ]
    },
    {
     "cell_type": "markdown",
     "metadata": {},
     "source": [
      "## Batch execution"
     ]
    },
    {
     "cell_type": "code",
     "collapsed": false,
     "input": [
      "import os\n",
      "from glob import glob\n",
      "from runipy.notebook_runner import NotebookRunner\n",
      "from IPython.nbformat.current import read, write\n",
      "from IPython.display import display, FileLink\n",
      "import pandas as pd"
     ],
     "language": "python",
     "metadata": {},
     "outputs": [],
     "prompt_number": 1
    },
    {
     "cell_type": "code",
     "collapsed": false,
     "input": [
      "def run_notebook_ALEX(notebook_name, remove_out=True, \n",
      "                      data_ids=['7d', '12d', '17d', '22d', '27d']):\n",
      "    \"\"\"Run a template ALEX notebook for all the 5 samples.\n",
      "    \n",
      "    Fit results are saved in the folder 'results'.\n",
      "    For each sample, the evaluated notebook containing both plots\n",
      "    and text output is saved in the 'out_notebooks' folder.\n",
      "    \"\"\"\n",
      "    data_fname = 'results/' + notebook_name + '.txt'\n",
      "    if remove_out and \\\n",
      "       os.path.exists(data_fname):\n",
      "            os.remove(data_fname)\n",
      "\n",
      "    nb_name_full  = notebook_name + '.ipynb'\n",
      "    display(FileLink(nb_name_full))\n",
      "\n",
      "    for data_id in data_ids:\n",
      "        os.environ['NB_DATA_FILE'] = data_id\n",
      "        with open(nb_name_full) as f:\n",
      "            notebook = read(f, 'json')\n",
      "        out_nb_name = 'out_notebooks/' + notebook_name + '-out-%s.ipynb' % data_id\n",
      "        \n",
      "        r = NotebookRunner(notebook)\n",
      "        error_in_notebook = False\n",
      "        try:\n",
      "            r.run_notebook()\n",
      "        except:\n",
      "            msg = 'Error executing the notebook for sample \"%s\".\\n\\n' % data_id\n",
      "            msg += 'See notebook \"%s\" for the traceback.' % out_nb_name\n",
      "            raise RuntimeError(msg)\n",
      "        finally:\n",
      "            with open(out_nb_name, 'w') as f:\n",
      "                write(r.nb, f, 'json')\n",
      "            display(FileLink(out_nb_name))\n",
      "    display(pd.read_csv(data_fname, sep=\"\\s+\").set_index('sample'))"
     ],
     "language": "python",
     "metadata": {},
     "outputs": [],
     "prompt_number": 2
    },
    {
     "cell_type": "code",
     "collapsed": false,
     "input": [
      "nb_name = 'usALEX-5samples-PR-raw-all-ph'\n",
      "run_notebook_ALEX(nb_name)"
     ],
     "language": "python",
     "metadata": {},
     "outputs": [
      {
       "html": [
        "<a href='usALEX-5samples-PR-raw-all-ph.ipynb' target='_blank'>usALEX-5samples-PR-raw-all-ph.ipynb</a><br>"
       ],
       "metadata": {},
       "output_type": "display_data",
       "text": [
        "C:\\Data\\Antonio\\software\\src\\multispot_paper\\usALEX-5samples-PR-raw-all-ph.ipynb"
       ]
      },
      {
       "html": [
        "<a href='out_notebooks/usALEX-5samples-PR-raw-all-ph-out-7d.ipynb' target='_blank'>out_notebooks/usALEX-5samples-PR-raw-all-ph-out-7d.ipynb</a><br>"
       ],
       "metadata": {},
       "output_type": "display_data",
       "text": [
        "C:\\Data\\Antonio\\software\\src\\multispot_paper\\out_notebooks\\usALEX-5samples-PR-raw-all-ph-out-7d.ipynb"
       ]
      },
      {
       "html": [
        "<a href='out_notebooks/usALEX-5samples-PR-raw-all-ph-out-12d.ipynb' target='_blank'>out_notebooks/usALEX-5samples-PR-raw-all-ph-out-12d.ipynb</a><br>"
       ],
       "metadata": {},
       "output_type": "display_data",
       "text": [
        "C:\\Data\\Antonio\\software\\src\\multispot_paper\\out_notebooks\\usALEX-5samples-PR-raw-all-ph-out-12d.ipynb"
       ]
      },
      {
       "html": [
        "<a href='out_notebooks/usALEX-5samples-PR-raw-all-ph-out-17d.ipynb' target='_blank'>out_notebooks/usALEX-5samples-PR-raw-all-ph-out-17d.ipynb</a><br>"
       ],
       "metadata": {},
       "output_type": "display_data",
       "text": [
        "C:\\Data\\Antonio\\software\\src\\multispot_paper\\out_notebooks\\usALEX-5samples-PR-raw-all-ph-out-17d.ipynb"
       ]
      },
      {
       "html": [
        "<a href='out_notebooks/usALEX-5samples-PR-raw-all-ph-out-22d.ipynb' target='_blank'>out_notebooks/usALEX-5samples-PR-raw-all-ph-out-22d.ipynb</a><br>"
       ],
       "metadata": {},
       "output_type": "display_data",
       "text": [
        "C:\\Data\\Antonio\\software\\src\\multispot_paper\\out_notebooks\\usALEX-5samples-PR-raw-all-ph-out-22d.ipynb"
       ]
      },
      {
       "html": [
        "<a href='out_notebooks/usALEX-5samples-PR-raw-all-ph-out-27d.ipynb' target='_blank'>out_notebooks/usALEX-5samples-PR-raw-all-ph-out-27d.ipynb</a><br>"
       ],
       "metadata": {},
       "output_type": "display_data",
       "text": [
        "C:\\Data\\Antonio\\software\\src\\multispot_paper\\out_notebooks\\usALEX-5samples-PR-raw-all-ph-out-27d.ipynb"
       ]
      },
      {
       "html": [
        "<div style=\"max-height:1000px;max-width:1500px;overflow:auto;\">\n",
        "<table border=\"1\" class=\"dataframe\">\n",
        "  <thead>\n",
        "    <tr style=\"text-align: right;\">\n",
        "      <th></th>\n",
        "      <th>n_bursts_all</th>\n",
        "      <th>n_bursts_do</th>\n",
        "      <th>n_bursts_fret</th>\n",
        "      <th>E_pr_fret</th>\n",
        "      <th>E_pr_fret_sig</th>\n",
        "      <th>S_pr_fret</th>\n",
        "      <th>S_pr_fret_sig</th>\n",
        "      <th>E_pr_do_kde</th>\n",
        "      <th>nt_mean</th>\n",
        "      <th>E_pr_fret_kde</th>\n",
        "    </tr>\n",
        "    <tr>\n",
        "      <th>sample</th>\n",
        "      <th></th>\n",
        "      <th></th>\n",
        "      <th></th>\n",
        "      <th></th>\n",
        "      <th></th>\n",
        "      <th></th>\n",
        "      <th></th>\n",
        "      <th></th>\n",
        "      <th></th>\n",
        "      <th></th>\n",
        "    </tr>\n",
        "  </thead>\n",
        "  <tbody>\n",
        "    <tr>\n",
        "      <th>7d</th>\n",
        "      <td> 1370</td>\n",
        "      <td> 724</td>\n",
        "      <td>  600</td>\n",
        "      <td> 0.930385</td>\n",
        "      <td> 0.002285</td>\n",
        "      <td> 0.563776</td>\n",
        "      <td> 0.003907</td>\n",
        "      <td> 0.0950</td>\n",
        "      <td> 22.375125</td>\n",
        "      <td> 0.9338</td>\n",
        "    </tr>\n",
        "    <tr>\n",
        "      <th>12d</th>\n",
        "      <td> 1528</td>\n",
        "      <td> 410</td>\n",
        "      <td> 1081</td>\n",
        "      <td> 0.750154</td>\n",
        "      <td> 0.002635</td>\n",
        "      <td> 0.579296</td>\n",
        "      <td> 0.002948</td>\n",
        "      <td> 0.1020</td>\n",
        "      <td> 22.612481</td>\n",
        "      <td> 0.7606</td>\n",
        "    </tr>\n",
        "    <tr>\n",
        "      <th>17d</th>\n",
        "      <td> 3013</td>\n",
        "      <td> 558</td>\n",
        "      <td> 2389</td>\n",
        "      <td> 0.484597</td>\n",
        "      <td> 0.002101</td>\n",
        "      <td> 0.565452</td>\n",
        "      <td> 0.002136</td>\n",
        "      <td> 0.1004</td>\n",
        "      <td> 23.168308</td>\n",
        "      <td> 0.4922</td>\n",
        "    </tr>\n",
        "    <tr>\n",
        "      <th>22d</th>\n",
        "      <td> 2552</td>\n",
        "      <td> 403</td>\n",
        "      <td> 2045</td>\n",
        "      <td> 0.280104</td>\n",
        "      <td> 0.001582</td>\n",
        "      <td> 0.569608</td>\n",
        "      <td> 0.002188</td>\n",
        "      <td> 0.0924</td>\n",
        "      <td> 25.330922</td>\n",
        "      <td> 0.2768</td>\n",
        "    </tr>\n",
        "    <tr>\n",
        "      <th>27d</th>\n",
        "      <td>  999</td>\n",
        "      <td> 203</td>\n",
        "      <td>  759</td>\n",
        "      <td> 0.195325</td>\n",
        "      <td> 0.002121</td>\n",
        "      <td> 0.586709</td>\n",
        "      <td> 0.003586</td>\n",
        "      <td> 0.0840</td>\n",
        "      <td> 19.505630</td>\n",
        "      <td> 0.1966</td>\n",
        "    </tr>\n",
        "  </tbody>\n",
        "</table>\n",
        "</div>"
       ],
       "metadata": {},
       "output_type": "display_data",
       "text": [
        "        n_bursts_all  n_bursts_do  n_bursts_fret  E_pr_fret  E_pr_fret_sig  \\\n",
        "sample                                                                       \n",
        "7d              1370          724            600   0.930385       0.002285   \n",
        "12d             1528          410           1081   0.750154       0.002635   \n",
        "17d             3013          558           2389   0.484597       0.002101   \n",
        "22d             2552          403           2045   0.280104       0.001582   \n",
        "27d              999          203            759   0.195325       0.002121   \n",
        "\n",
        "        S_pr_fret  S_pr_fret_sig  E_pr_do_kde    nt_mean  E_pr_fret_kde  \n",
        "sample                                                                   \n",
        "7d       0.563776       0.003907       0.0950  22.375125         0.9338  \n",
        "12d      0.579296       0.002948       0.1020  22.612481         0.7606  \n",
        "17d      0.565452       0.002136       0.1004  23.168308         0.4922  \n",
        "22d      0.569608       0.002188       0.0924  25.330922         0.2768  \n",
        "27d      0.586709       0.003586       0.0840  19.505630         0.1966  "
       ]
      }
     ],
     "prompt_number": 3
    },
    {
     "cell_type": "code",
     "collapsed": false,
     "input": [
      "nb_name = 'usALEX-5samples-PR-raw-DexDem'\n",
      "run_notebook_ALEX(nb_name)"
     ],
     "language": "python",
     "metadata": {},
     "outputs": [
      {
       "html": [
        "<a href='usALEX-5samples-PR-raw-DexDem.ipynb' target='_blank'>usALEX-5samples-PR-raw-DexDem.ipynb</a><br>"
       ],
       "metadata": {},
       "output_type": "display_data",
       "text": [
        "C:\\Data\\Antonio\\software\\src\\multispot_paper\\usALEX-5samples-PR-raw-DexDem.ipynb"
       ]
      },
      {
       "html": [
        "<a href='out_notebooks/usALEX-5samples-PR-raw-DexDem-out-7d.ipynb' target='_blank'>out_notebooks/usALEX-5samples-PR-raw-DexDem-out-7d.ipynb</a><br>"
       ],
       "metadata": {},
       "output_type": "display_data",
       "text": [
        "C:\\Data\\Antonio\\software\\src\\multispot_paper\\out_notebooks\\usALEX-5samples-PR-raw-DexDem-out-7d.ipynb"
       ]
      },
      {
       "html": [
        "<a href='out_notebooks/usALEX-5samples-PR-raw-DexDem-out-12d.ipynb' target='_blank'>out_notebooks/usALEX-5samples-PR-raw-DexDem-out-12d.ipynb</a><br>"
       ],
       "metadata": {},
       "output_type": "display_data",
       "text": [
        "C:\\Data\\Antonio\\software\\src\\multispot_paper\\out_notebooks\\usALEX-5samples-PR-raw-DexDem-out-12d.ipynb"
       ]
      },
      {
       "html": [
        "<a href='out_notebooks/usALEX-5samples-PR-raw-DexDem-out-17d.ipynb' target='_blank'>out_notebooks/usALEX-5samples-PR-raw-DexDem-out-17d.ipynb</a><br>"
       ],
       "metadata": {},
       "output_type": "display_data",
       "text": [
        "C:\\Data\\Antonio\\software\\src\\multispot_paper\\out_notebooks\\usALEX-5samples-PR-raw-DexDem-out-17d.ipynb"
       ]
      },
      {
       "html": [
        "<a href='out_notebooks/usALEX-5samples-PR-raw-DexDem-out-22d.ipynb' target='_blank'>out_notebooks/usALEX-5samples-PR-raw-DexDem-out-22d.ipynb</a><br>"
       ],
       "metadata": {},
       "output_type": "display_data",
       "text": [
        "C:\\Data\\Antonio\\software\\src\\multispot_paper\\out_notebooks\\usALEX-5samples-PR-raw-DexDem-out-22d.ipynb"
       ]
      },
      {
       "html": [
        "<a href='out_notebooks/usALEX-5samples-PR-raw-DexDem-out-27d.ipynb' target='_blank'>out_notebooks/usALEX-5samples-PR-raw-DexDem-out-27d.ipynb</a><br>"
       ],
       "metadata": {},
       "output_type": "display_data",
       "text": [
        "C:\\Data\\Antonio\\software\\src\\multispot_paper\\out_notebooks\\usALEX-5samples-PR-raw-DexDem-out-27d.ipynb"
       ]
      },
      {
       "html": [
        "<div style=\"max-height:1000px;max-width:1500px;overflow:auto;\">\n",
        "<table border=\"1\" class=\"dataframe\">\n",
        "  <thead>\n",
        "    <tr style=\"text-align: right;\">\n",
        "      <th></th>\n",
        "      <th>n_bursts_all</th>\n",
        "      <th>n_bursts_do</th>\n",
        "      <th>n_bursts_fret</th>\n",
        "      <th>E_pr_fret</th>\n",
        "      <th>E_pr_fret_sig</th>\n",
        "      <th>S_pr_fret</th>\n",
        "      <th>S_pr_fret_sig</th>\n",
        "      <th>E_pr_do_kde</th>\n",
        "      <th>nt_mean</th>\n",
        "      <th>E_pr_fret_kde</th>\n",
        "    </tr>\n",
        "    <tr>\n",
        "      <th>sample</th>\n",
        "      <th></th>\n",
        "      <th></th>\n",
        "      <th></th>\n",
        "      <th></th>\n",
        "      <th></th>\n",
        "      <th></th>\n",
        "      <th></th>\n",
        "      <th></th>\n",
        "      <th></th>\n",
        "      <th></th>\n",
        "    </tr>\n",
        "  </thead>\n",
        "  <tbody>\n",
        "    <tr>\n",
        "      <th>7d</th>\n",
        "      <td> 1684</td>\n",
        "      <td> 1395</td>\n",
        "      <td>  151</td>\n",
        "      <td> 0.796046</td>\n",
        "      <td> 0.007205</td>\n",
        "      <td> 0.603379</td>\n",
        "      <td> 0.006799</td>\n",
        "      <td> 0.0950</td>\n",
        "      <td> 28.103579</td>\n",
        "      <td> 0.8426</td>\n",
        "    </tr>\n",
        "    <tr>\n",
        "      <th>12d</th>\n",
        "      <td> 1915</td>\n",
        "      <td>  719</td>\n",
        "      <td> 1094</td>\n",
        "      <td> 0.706124</td>\n",
        "      <td> 0.002342</td>\n",
        "      <td> 0.591909</td>\n",
        "      <td> 0.002752</td>\n",
        "      <td> 0.0924</td>\n",
        "      <td> 28.011329</td>\n",
        "      <td> 0.7142</td>\n",
        "    </tr>\n",
        "    <tr>\n",
        "      <th>17d</th>\n",
        "      <td> 4497</td>\n",
        "      <td> 1042</td>\n",
        "      <td> 3274</td>\n",
        "      <td> 0.447317</td>\n",
        "      <td> 0.001805</td>\n",
        "      <td> 0.582584</td>\n",
        "      <td> 0.001767</td>\n",
        "      <td> 0.0938</td>\n",
        "      <td> 29.138086</td>\n",
        "      <td> 0.4630</td>\n",
        "    </tr>\n",
        "    <tr>\n",
        "      <th>22d</th>\n",
        "      <td> 3455</td>\n",
        "      <td>  579</td>\n",
        "      <td> 2750</td>\n",
        "      <td> 0.265389</td>\n",
        "      <td> 0.001306</td>\n",
        "      <td> 0.575206</td>\n",
        "      <td> 0.001821</td>\n",
        "      <td> 0.0828</td>\n",
        "      <td> 31.978264</td>\n",
        "      <td> 0.2642</td>\n",
        "    </tr>\n",
        "    <tr>\n",
        "      <th>27d</th>\n",
        "      <td> 1397</td>\n",
        "      <td>  401</td>\n",
        "      <td>  944</td>\n",
        "      <td> 0.183182</td>\n",
        "      <td> 0.001775</td>\n",
        "      <td> 0.602478</td>\n",
        "      <td> 0.003114</td>\n",
        "      <td> 0.0778</td>\n",
        "      <td> 23.272537</td>\n",
        "      <td> 0.1814</td>\n",
        "    </tr>\n",
        "  </tbody>\n",
        "</table>\n",
        "</div>"
       ],
       "metadata": {},
       "output_type": "display_data",
       "text": [
        "        n_bursts_all  n_bursts_do  n_bursts_fret  E_pr_fret  E_pr_fret_sig  \\\n",
        "sample                                                                       \n",
        "7d              1684         1395            151   0.796046       0.007205   \n",
        "12d             1915          719           1094   0.706124       0.002342   \n",
        "17d             4497         1042           3274   0.447317       0.001805   \n",
        "22d             3455          579           2750   0.265389       0.001306   \n",
        "27d             1397          401            944   0.183182       0.001775   \n",
        "\n",
        "        S_pr_fret  S_pr_fret_sig  E_pr_do_kde    nt_mean  E_pr_fret_kde  \n",
        "sample                                                                   \n",
        "7d       0.603379       0.006799       0.0950  28.103579         0.8426  \n",
        "12d      0.591909       0.002752       0.0924  28.011329         0.7142  \n",
        "17d      0.582584       0.001767       0.0938  29.138086         0.4630  \n",
        "22d      0.575206       0.001821       0.0828  31.978264         0.2642  \n",
        "27d      0.602478       0.003114       0.0778  23.272537         0.1814  "
       ]
      }
     ],
     "prompt_number": 4
    },
    {
     "cell_type": "code",
     "collapsed": false,
     "input": [
      "nb_name = 'usALEX-5samples-PR-raw-Dex'\n",
      "run_notebook_ALEX(nb_name)"
     ],
     "language": "python",
     "metadata": {},
     "outputs": [
      {
       "html": [
        "<a href='usALEX-5samples-PR-raw-Dex.ipynb' target='_blank'>usALEX-5samples-PR-raw-Dex.ipynb</a><br>"
       ],
       "metadata": {},
       "output_type": "display_data",
       "text": [
        "C:\\Data\\Antonio\\software\\src\\multispot_paper\\usALEX-5samples-PR-raw-Dex.ipynb"
       ]
      },
      {
       "html": [
        "<a href='out_notebooks/usALEX-5samples-PR-raw-Dex-out-7d.ipynb' target='_blank'>out_notebooks/usALEX-5samples-PR-raw-Dex-out-7d.ipynb</a><br>"
       ],
       "metadata": {},
       "output_type": "display_data",
       "text": [
        "C:\\Data\\Antonio\\software\\src\\multispot_paper\\out_notebooks\\usALEX-5samples-PR-raw-Dex-out-7d.ipynb"
       ]
      },
      {
       "html": [
        "<a href='out_notebooks/usALEX-5samples-PR-raw-Dex-out-12d.ipynb' target='_blank'>out_notebooks/usALEX-5samples-PR-raw-Dex-out-12d.ipynb</a><br>"
       ],
       "metadata": {},
       "output_type": "display_data",
       "text": [
        "C:\\Data\\Antonio\\software\\src\\multispot_paper\\out_notebooks\\usALEX-5samples-PR-raw-Dex-out-12d.ipynb"
       ]
      },
      {
       "html": [
        "<a href='out_notebooks/usALEX-5samples-PR-raw-Dex-out-17d.ipynb' target='_blank'>out_notebooks/usALEX-5samples-PR-raw-Dex-out-17d.ipynb</a><br>"
       ],
       "metadata": {},
       "output_type": "display_data",
       "text": [
        "C:\\Data\\Antonio\\software\\src\\multispot_paper\\out_notebooks\\usALEX-5samples-PR-raw-Dex-out-17d.ipynb"
       ]
      },
      {
       "html": [
        "<a href='out_notebooks/usALEX-5samples-PR-raw-Dex-out-22d.ipynb' target='_blank'>out_notebooks/usALEX-5samples-PR-raw-Dex-out-22d.ipynb</a><br>"
       ],
       "metadata": {},
       "output_type": "display_data",
       "text": [
        "C:\\Data\\Antonio\\software\\src\\multispot_paper\\out_notebooks\\usALEX-5samples-PR-raw-Dex-out-22d.ipynb"
       ]
      },
      {
       "html": [
        "<a href='out_notebooks/usALEX-5samples-PR-raw-Dex-out-27d.ipynb' target='_blank'>out_notebooks/usALEX-5samples-PR-raw-Dex-out-27d.ipynb</a><br>"
       ],
       "metadata": {},
       "output_type": "display_data",
       "text": [
        "C:\\Data\\Antonio\\software\\src\\multispot_paper\\out_notebooks\\usALEX-5samples-PR-raw-Dex-out-27d.ipynb"
       ]
      },
      {
       "html": [
        "<div style=\"max-height:1000px;max-width:1500px;overflow:auto;\">\n",
        "<table border=\"1\" class=\"dataframe\">\n",
        "  <thead>\n",
        "    <tr style=\"text-align: right;\">\n",
        "      <th></th>\n",
        "      <th>n_bursts_all</th>\n",
        "      <th>n_bursts_do</th>\n",
        "      <th>n_bursts_fret</th>\n",
        "      <th>E_pr_fret</th>\n",
        "      <th>E_pr_fret_sig</th>\n",
        "      <th>S_pr_fret</th>\n",
        "      <th>S_pr_fret_sig</th>\n",
        "      <th>E_pr_do_kde</th>\n",
        "      <th>nt_mean</th>\n",
        "      <th>E_pr_fret_kde</th>\n",
        "    </tr>\n",
        "    <tr>\n",
        "      <th>sample</th>\n",
        "      <th></th>\n",
        "      <th></th>\n",
        "      <th></th>\n",
        "      <th></th>\n",
        "      <th></th>\n",
        "      <th></th>\n",
        "      <th></th>\n",
        "      <th></th>\n",
        "      <th></th>\n",
        "      <th></th>\n",
        "    </tr>\n",
        "  </thead>\n",
        "  <tbody>\n",
        "    <tr>\n",
        "      <th>7d</th>\n",
        "      <td> 1653</td>\n",
        "      <td> 955</td>\n",
        "      <td>  641</td>\n",
        "      <td> 0.927586</td>\n",
        "      <td> 0.002269</td>\n",
        "      <td> 0.581457</td>\n",
        "      <td> 0.003688</td>\n",
        "      <td> 0.0982</td>\n",
        "      <td> 23.005879</td>\n",
        "      <td> 0.9336</td>\n",
        "    </tr>\n",
        "    <tr>\n",
        "      <th>12d</th>\n",
        "      <td> 1690</td>\n",
        "      <td> 486</td>\n",
        "      <td> 1155</td>\n",
        "      <td> 0.749365</td>\n",
        "      <td> 0.002520</td>\n",
        "      <td> 0.596669</td>\n",
        "      <td> 0.002787</td>\n",
        "      <td> 0.1026</td>\n",
        "      <td> 23.376184</td>\n",
        "      <td> 0.7510</td>\n",
        "    </tr>\n",
        "    <tr>\n",
        "      <th>17d</th>\n",
        "      <td> 3451</td>\n",
        "      <td> 764</td>\n",
        "      <td> 2584</td>\n",
        "      <td> 0.480290</td>\n",
        "      <td> 0.002021</td>\n",
        "      <td> 0.590620</td>\n",
        "      <td> 0.001978</td>\n",
        "      <td> 0.1056</td>\n",
        "      <td> 23.046017</td>\n",
        "      <td> 0.4908</td>\n",
        "    </tr>\n",
        "    <tr>\n",
        "      <th>22d</th>\n",
        "      <td> 2801</td>\n",
        "      <td> 501</td>\n",
        "      <td> 2184</td>\n",
        "      <td> 0.280477</td>\n",
        "      <td> 0.001499</td>\n",
        "      <td> 0.586627</td>\n",
        "      <td> 0.002052</td>\n",
        "      <td> 0.0938</td>\n",
        "      <td> 26.572519</td>\n",
        "      <td> 0.2752</td>\n",
        "    </tr>\n",
        "    <tr>\n",
        "      <th>27d</th>\n",
        "      <td> 1145</td>\n",
        "      <td> 314</td>\n",
        "      <td>  793</td>\n",
        "      <td> 0.194521</td>\n",
        "      <td> 0.002040</td>\n",
        "      <td> 0.609252</td>\n",
        "      <td> 0.003359</td>\n",
        "      <td> 0.0882</td>\n",
        "      <td> 19.855254</td>\n",
        "      <td> 0.1944</td>\n",
        "    </tr>\n",
        "  </tbody>\n",
        "</table>\n",
        "</div>"
       ],
       "metadata": {},
       "output_type": "display_data",
       "text": [
        "        n_bursts_all  n_bursts_do  n_bursts_fret  E_pr_fret  E_pr_fret_sig  \\\n",
        "sample                                                                       \n",
        "7d              1653          955            641   0.927586       0.002269   \n",
        "12d             1690          486           1155   0.749365       0.002520   \n",
        "17d             3451          764           2584   0.480290       0.002021   \n",
        "22d             2801          501           2184   0.280477       0.001499   \n",
        "27d             1145          314            793   0.194521       0.002040   \n",
        "\n",
        "        S_pr_fret  S_pr_fret_sig  E_pr_do_kde    nt_mean  E_pr_fret_kde  \n",
        "sample                                                                   \n",
        "7d       0.581457       0.003688       0.0982  23.005879         0.9336  \n",
        "12d      0.596669       0.002787       0.1026  23.376184         0.7510  \n",
        "17d      0.590620       0.001978       0.1056  23.046017         0.4908  \n",
        "22d      0.586627       0.002052       0.0938  26.572519         0.2752  \n",
        "27d      0.609252       0.003359       0.0882  19.855254         0.1944  "
       ]
      }
     ],
     "prompt_number": 5
    },
    {
     "cell_type": "code",
     "collapsed": false,
     "input": [
      "nb_name = 'usALEX-5samples-PR-raw-AND-gate'\n",
      "run_notebook_ALEX(nb_name)"
     ],
     "language": "python",
     "metadata": {},
     "outputs": [
      {
       "html": [
        "<a href='usALEX-5samples-PR-raw-AND-gate.ipynb' target='_blank'>usALEX-5samples-PR-raw-AND-gate.ipynb</a><br>"
       ],
       "metadata": {},
       "output_type": "display_data",
       "text": [
        "C:\\Data\\Antonio\\software\\src\\multispot_paper\\usALEX-5samples-PR-raw-AND-gate.ipynb"
       ]
      },
      {
       "html": [
        "<a href='out_notebooks/usALEX-5samples-PR-raw-AND-gate-out-7d.ipynb' target='_blank'>out_notebooks/usALEX-5samples-PR-raw-AND-gate-out-7d.ipynb</a><br>"
       ],
       "metadata": {},
       "output_type": "display_data",
       "text": [
        "C:\\Data\\Antonio\\software\\src\\multispot_paper\\out_notebooks\\usALEX-5samples-PR-raw-AND-gate-out-7d.ipynb"
       ]
      },
      {
       "html": [
        "<a href='out_notebooks/usALEX-5samples-PR-raw-AND-gate-out-12d.ipynb' target='_blank'>out_notebooks/usALEX-5samples-PR-raw-AND-gate-out-12d.ipynb</a><br>"
       ],
       "metadata": {},
       "output_type": "display_data",
       "text": [
        "C:\\Data\\Antonio\\software\\src\\multispot_paper\\out_notebooks\\usALEX-5samples-PR-raw-AND-gate-out-12d.ipynb"
       ]
      },
      {
       "html": [
        "<a href='out_notebooks/usALEX-5samples-PR-raw-AND-gate-out-17d.ipynb' target='_blank'>out_notebooks/usALEX-5samples-PR-raw-AND-gate-out-17d.ipynb</a><br>"
       ],
       "metadata": {},
       "output_type": "display_data",
       "text": [
        "C:\\Data\\Antonio\\software\\src\\multispot_paper\\out_notebooks\\usALEX-5samples-PR-raw-AND-gate-out-17d.ipynb"
       ]
      },
      {
       "html": [
        "<a href='out_notebooks/usALEX-5samples-PR-raw-AND-gate-out-22d.ipynb' target='_blank'>out_notebooks/usALEX-5samples-PR-raw-AND-gate-out-22d.ipynb</a><br>"
       ],
       "metadata": {},
       "output_type": "display_data",
       "text": [
        "C:\\Data\\Antonio\\software\\src\\multispot_paper\\out_notebooks\\usALEX-5samples-PR-raw-AND-gate-out-22d.ipynb"
       ]
      },
      {
       "html": [
        "<a href='out_notebooks/usALEX-5samples-PR-raw-AND-gate-out-27d.ipynb' target='_blank'>out_notebooks/usALEX-5samples-PR-raw-AND-gate-out-27d.ipynb</a><br>"
       ],
       "metadata": {},
       "output_type": "display_data",
       "text": [
        "C:\\Data\\Antonio\\software\\src\\multispot_paper\\out_notebooks\\usALEX-5samples-PR-raw-AND-gate-out-27d.ipynb"
       ]
      },
      {
       "html": [
        "<div style=\"max-height:1000px;max-width:1500px;overflow:auto;\">\n",
        "<table border=\"1\" class=\"dataframe\">\n",
        "  <thead>\n",
        "    <tr style=\"text-align: right;\">\n",
        "      <th></th>\n",
        "      <th>n_bursts_all</th>\n",
        "      <th>n_bursts_do</th>\n",
        "      <th>n_bursts_fret</th>\n",
        "      <th>E_pr_fret</th>\n",
        "      <th>E_pr_fret_sig</th>\n",
        "      <th>S_pr_fret</th>\n",
        "      <th>S_pr_fret_sig</th>\n",
        "      <th>nt_mean</th>\n",
        "      <th>E_pr_fret_kde</th>\n",
        "    </tr>\n",
        "    <tr>\n",
        "      <th>sample</th>\n",
        "      <th></th>\n",
        "      <th></th>\n",
        "      <th></th>\n",
        "      <th></th>\n",
        "      <th></th>\n",
        "      <th></th>\n",
        "      <th></th>\n",
        "      <th></th>\n",
        "      <th></th>\n",
        "    </tr>\n",
        "  </thead>\n",
        "  <tbody>\n",
        "    <tr>\n",
        "      <th>7d</th>\n",
        "      <td>  667</td>\n",
        "      <td>  8</td>\n",
        "      <td>  611</td>\n",
        "      <td> 0.929390</td>\n",
        "      <td> 0.002264</td>\n",
        "      <td> 0.574135</td>\n",
        "      <td> 0.003587</td>\n",
        "      <td> 23.149194</td>\n",
        "      <td> 0.9356</td>\n",
        "    </tr>\n",
        "    <tr>\n",
        "      <th>12d</th>\n",
        "      <td> 1128</td>\n",
        "      <td>  0</td>\n",
        "      <td> 1102</td>\n",
        "      <td> 0.751086</td>\n",
        "      <td> 0.002519</td>\n",
        "      <td> 0.590545</td>\n",
        "      <td> 0.002760</td>\n",
        "      <td> 23.289503</td>\n",
        "      <td> 0.7526</td>\n",
        "    </tr>\n",
        "    <tr>\n",
        "      <th>17d</th>\n",
        "      <td> 2475</td>\n",
        "      <td> 11</td>\n",
        "      <td> 2450</td>\n",
        "      <td> 0.482606</td>\n",
        "      <td> 0.002026</td>\n",
        "      <td> 0.579947</td>\n",
        "      <td> 0.001910</td>\n",
        "      <td> 23.037763</td>\n",
        "      <td> 0.4910</td>\n",
        "    </tr>\n",
        "    <tr>\n",
        "      <th>22d</th>\n",
        "      <td> 2197</td>\n",
        "      <td> 12</td>\n",
        "      <td> 2111</td>\n",
        "      <td> 0.280206</td>\n",
        "      <td> 0.001539</td>\n",
        "      <td> 0.580798</td>\n",
        "      <td> 0.002049</td>\n",
        "      <td> 26.511870</td>\n",
        "      <td> 0.2746</td>\n",
        "    </tr>\n",
        "    <tr>\n",
        "      <th>27d</th>\n",
        "      <td>  782</td>\n",
        "      <td>  1</td>\n",
        "      <td>  761</td>\n",
        "      <td> 0.193972</td>\n",
        "      <td> 0.002132</td>\n",
        "      <td> 0.604533</td>\n",
        "      <td> 0.003382</td>\n",
        "      <td> 19.658119</td>\n",
        "      <td> 0.1944</td>\n",
        "    </tr>\n",
        "  </tbody>\n",
        "</table>\n",
        "</div>"
       ],
       "metadata": {},
       "output_type": "display_data",
       "text": [
        "        n_bursts_all  n_bursts_do  n_bursts_fret  E_pr_fret  E_pr_fret_sig  \\\n",
        "sample                                                                       \n",
        "7d               667            8            611   0.929390       0.002264   \n",
        "12d             1128            0           1102   0.751086       0.002519   \n",
        "17d             2475           11           2450   0.482606       0.002026   \n",
        "22d             2197           12           2111   0.280206       0.001539   \n",
        "27d              782            1            761   0.193972       0.002132   \n",
        "\n",
        "        S_pr_fret  S_pr_fret_sig    nt_mean  E_pr_fret_kde  \n",
        "sample                                                      \n",
        "7d       0.574135       0.003587  23.149194         0.9356  \n",
        "12d      0.590545       0.002760  23.289503         0.7526  \n",
        "17d      0.579947       0.001910  23.037763         0.4910  \n",
        "22d      0.580798       0.002049  26.511870         0.2746  \n",
        "27d      0.604533       0.003382  19.658119         0.1944  "
       ]
      }
     ],
     "prompt_number": 6
    },
    {
     "cell_type": "code",
     "collapsed": false,
     "input": [
      "nb_name = 'usALEX-5samples-PR-raw-dir_ex_aa-fit-AexAem'\n",
      "run_notebook_ALEX(nb_name)"
     ],
     "language": "python",
     "metadata": {},
     "outputs": [
      {
       "html": [
        "<a href='usALEX-5samples-PR-raw-dir_ex_aa-fit-AexAem.ipynb' target='_blank'>usALEX-5samples-PR-raw-dir_ex_aa-fit-AexAem.ipynb</a><br>"
       ],
       "metadata": {},
       "output_type": "display_data",
       "text": [
        "C:\\Data\\Antonio\\software\\src\\multispot_paper\\usALEX-5samples-PR-raw-dir_ex_aa-fit-AexAem.ipynb"
       ]
      },
      {
       "html": [
        "<a href='out_notebooks/usALEX-5samples-PR-raw-dir_ex_aa-fit-AexAem-out-7d.ipynb' target='_blank'>out_notebooks/usALEX-5samples-PR-raw-dir_ex_aa-fit-AexAem-out-7d.ipynb</a><br>"
       ],
       "metadata": {},
       "output_type": "display_data",
       "text": [
        "C:\\Data\\Antonio\\software\\src\\multispot_paper\\out_notebooks\\usALEX-5samples-PR-raw-dir_ex_aa-fit-AexAem-out-7d.ipynb"
       ]
      },
      {
       "html": [
        "<a href='out_notebooks/usALEX-5samples-PR-raw-dir_ex_aa-fit-AexAem-out-12d.ipynb' target='_blank'>out_notebooks/usALEX-5samples-PR-raw-dir_ex_aa-fit-AexAem-out-12d.ipynb</a><br>"
       ],
       "metadata": {},
       "output_type": "display_data",
       "text": [
        "C:\\Data\\Antonio\\software\\src\\multispot_paper\\out_notebooks\\usALEX-5samples-PR-raw-dir_ex_aa-fit-AexAem-out-12d.ipynb"
       ]
      },
      {
       "html": [
        "<a href='out_notebooks/usALEX-5samples-PR-raw-dir_ex_aa-fit-AexAem-out-17d.ipynb' target='_blank'>out_notebooks/usALEX-5samples-PR-raw-dir_ex_aa-fit-AexAem-out-17d.ipynb</a><br>"
       ],
       "metadata": {},
       "output_type": "display_data",
       "text": [
        "C:\\Data\\Antonio\\software\\src\\multispot_paper\\out_notebooks\\usALEX-5samples-PR-raw-dir_ex_aa-fit-AexAem-out-17d.ipynb"
       ]
      },
      {
       "html": [
        "<a href='out_notebooks/usALEX-5samples-PR-raw-dir_ex_aa-fit-AexAem-out-22d.ipynb' target='_blank'>out_notebooks/usALEX-5samples-PR-raw-dir_ex_aa-fit-AexAem-out-22d.ipynb</a><br>"
       ],
       "metadata": {},
       "output_type": "display_data",
       "text": [
        "C:\\Data\\Antonio\\software\\src\\multispot_paper\\out_notebooks\\usALEX-5samples-PR-raw-dir_ex_aa-fit-AexAem-out-22d.ipynb"
       ]
      },
      {
       "html": [
        "<a href='out_notebooks/usALEX-5samples-PR-raw-dir_ex_aa-fit-AexAem-out-27d.ipynb' target='_blank'>out_notebooks/usALEX-5samples-PR-raw-dir_ex_aa-fit-AexAem-out-27d.ipynb</a><br>"
       ],
       "metadata": {},
       "output_type": "display_data",
       "text": [
        "C:\\Data\\Antonio\\software\\src\\multispot_paper\\out_notebooks\\usALEX-5samples-PR-raw-dir_ex_aa-fit-AexAem-out-27d.ipynb"
       ]
      },
      {
       "html": [
        "<div style=\"max-height:1000px;max-width:1500px;overflow:auto;\">\n",
        "<table border=\"1\" class=\"dataframe\">\n",
        "  <thead>\n",
        "    <tr style=\"text-align: right;\">\n",
        "      <th></th>\n",
        "      <th>n_bursts_aa</th>\n",
        "      <th>dir_ex_aa</th>\n",
        "    </tr>\n",
        "    <tr>\n",
        "      <th>sample</th>\n",
        "      <th></th>\n",
        "      <th></th>\n",
        "    </tr>\n",
        "  </thead>\n",
        "  <tbody>\n",
        "    <tr>\n",
        "      <th>7d</th>\n",
        "      <td> 1080</td>\n",
        "      <td> 0.041883</td>\n",
        "    </tr>\n",
        "    <tr>\n",
        "      <th>12d</th>\n",
        "      <td>  451</td>\n",
        "      <td> 0.049843</td>\n",
        "    </tr>\n",
        "    <tr>\n",
        "      <th>17d</th>\n",
        "      <td> 1047</td>\n",
        "      <td> 0.046408</td>\n",
        "    </tr>\n",
        "    <tr>\n",
        "      <th>22d</th>\n",
        "      <td>  697</td>\n",
        "      <td> 0.043558</td>\n",
        "    </tr>\n",
        "    <tr>\n",
        "      <th>27d</th>\n",
        "      <td>  224</td>\n",
        "      <td> 0.044173</td>\n",
        "    </tr>\n",
        "  </tbody>\n",
        "</table>\n",
        "</div>"
       ],
       "metadata": {},
       "output_type": "display_data",
       "text": [
        "        n_bursts_aa  dir_ex_aa\n",
        "sample                        \n",
        "7d             1080   0.041883\n",
        "12d             451   0.049843\n",
        "17d            1047   0.046408\n",
        "22d             697   0.043558\n",
        "27d             224   0.044173"
       ]
      }
     ],
     "prompt_number": 7
    },
    {
     "cell_type": "markdown",
     "metadata": {},
     "source": [
      "> ** NOTE:** Remeber to execute now\n",
      "> * [usALEX - Corrections - Leakage fit](usALEX - Corrections - Leakage fit.ipynb)\n",
      "> * [usALEX - Corrections - Direct excitation fit](usALEX - Corrections - Direct excitation fit.ipynb)"
     ]
    },
    {
     "cell_type": "code",
     "collapsed": false,
     "input": [
      "nb_name = 'usALEX-5samples-PR-leakage-dir-ex-all-ph'\n",
      "run_notebook_ALEX(nb_name)"
     ],
     "language": "python",
     "metadata": {},
     "outputs": [
      {
       "html": [
        "<a href='usALEX-5samples-PR-leakage-dir-ex-all-ph.ipynb' target='_blank'>usALEX-5samples-PR-leakage-dir-ex-all-ph.ipynb</a><br>"
       ],
       "metadata": {},
       "output_type": "display_data",
       "text": [
        "C:\\Data\\Antonio\\software\\src\\multispot_paper\\usALEX-5samples-PR-leakage-dir-ex-all-ph.ipynb"
       ]
      },
      {
       "html": [
        "<a href='out_notebooks/usALEX-5samples-PR-leakage-dir-ex-all-ph-out-7d.ipynb' target='_blank'>out_notebooks/usALEX-5samples-PR-leakage-dir-ex-all-ph-out-7d.ipynb</a><br>"
       ],
       "metadata": {},
       "output_type": "display_data",
       "text": [
        "C:\\Data\\Antonio\\software\\src\\multispot_paper\\out_notebooks\\usALEX-5samples-PR-leakage-dir-ex-all-ph-out-7d.ipynb"
       ]
      },
      {
       "html": [
        "<a href='out_notebooks/usALEX-5samples-PR-leakage-dir-ex-all-ph-out-12d.ipynb' target='_blank'>out_notebooks/usALEX-5samples-PR-leakage-dir-ex-all-ph-out-12d.ipynb</a><br>"
       ],
       "metadata": {},
       "output_type": "display_data",
       "text": [
        "C:\\Data\\Antonio\\software\\src\\multispot_paper\\out_notebooks\\usALEX-5samples-PR-leakage-dir-ex-all-ph-out-12d.ipynb"
       ]
      },
      {
       "html": [
        "<a href='out_notebooks/usALEX-5samples-PR-leakage-dir-ex-all-ph-out-17d.ipynb' target='_blank'>out_notebooks/usALEX-5samples-PR-leakage-dir-ex-all-ph-out-17d.ipynb</a><br>"
       ],
       "metadata": {},
       "output_type": "display_data",
       "text": [
        "C:\\Data\\Antonio\\software\\src\\multispot_paper\\out_notebooks\\usALEX-5samples-PR-leakage-dir-ex-all-ph-out-17d.ipynb"
       ]
      },
      {
       "html": [
        "<a href='out_notebooks/usALEX-5samples-PR-leakage-dir-ex-all-ph-out-22d.ipynb' target='_blank'>out_notebooks/usALEX-5samples-PR-leakage-dir-ex-all-ph-out-22d.ipynb</a><br>"
       ],
       "metadata": {},
       "output_type": "display_data",
       "text": [
        "C:\\Data\\Antonio\\software\\src\\multispot_paper\\out_notebooks\\usALEX-5samples-PR-leakage-dir-ex-all-ph-out-22d.ipynb"
       ]
      },
      {
       "html": [
        "<a href='out_notebooks/usALEX-5samples-PR-leakage-dir-ex-all-ph-out-27d.ipynb' target='_blank'>out_notebooks/usALEX-5samples-PR-leakage-dir-ex-all-ph-out-27d.ipynb</a><br>"
       ],
       "metadata": {},
       "output_type": "display_data",
       "text": [
        "C:\\Data\\Antonio\\software\\src\\multispot_paper\\out_notebooks\\usALEX-5samples-PR-leakage-dir-ex-all-ph-out-27d.ipynb"
       ]
      },
      {
       "html": [
        "<div style=\"max-height:1000px;max-width:1500px;overflow:auto;\">\n",
        "<table border=\"1\" class=\"dataframe\">\n",
        "  <thead>\n",
        "    <tr style=\"text-align: right;\">\n",
        "      <th></th>\n",
        "      <th>n_bursts_all</th>\n",
        "      <th>n_bursts_do</th>\n",
        "      <th>n_bursts_fret</th>\n",
        "      <th>E_pr_fret</th>\n",
        "      <th>E_pr_fret_sig</th>\n",
        "      <th>S_pr_fret</th>\n",
        "      <th>S_pr_fret_sig</th>\n",
        "      <th>E_pr_do_kde</th>\n",
        "      <th>nt_mean</th>\n",
        "      <th>E_pr_fret_kde</th>\n",
        "    </tr>\n",
        "    <tr>\n",
        "      <th>sample</th>\n",
        "      <th></th>\n",
        "      <th></th>\n",
        "      <th></th>\n",
        "      <th></th>\n",
        "      <th></th>\n",
        "      <th></th>\n",
        "      <th></th>\n",
        "      <th></th>\n",
        "      <th></th>\n",
        "      <th></th>\n",
        "    </tr>\n",
        "  </thead>\n",
        "  <tbody>\n",
        "    <tr>\n",
        "      <th>7d</th>\n",
        "      <td> 1179</td>\n",
        "      <td> 583</td>\n",
        "      <td>  553</td>\n",
        "      <td> 0.927514</td>\n",
        "      <td> 0.002460</td>\n",
        "      <td> 0.556678</td>\n",
        "      <td> 0.004139</td>\n",
        "      <td> 0.0018</td>\n",
        "      <td> 22.065812</td>\n",
        "      <td> 0.9316</td>\n",
        "    </tr>\n",
        "    <tr>\n",
        "      <th>12d</th>\n",
        "      <td> 1325</td>\n",
        "      <td> 329</td>\n",
        "      <td>  966</td>\n",
        "      <td> 0.734880</td>\n",
        "      <td> 0.002961</td>\n",
        "      <td> 0.568315</td>\n",
        "      <td> 0.003147</td>\n",
        "      <td> 0.0164</td>\n",
        "      <td> 21.975345</td>\n",
        "      <td> 0.7464</td>\n",
        "    </tr>\n",
        "    <tr>\n",
        "      <th>17d</th>\n",
        "      <td> 2543</td>\n",
        "      <td> 462</td>\n",
        "      <td> 2019</td>\n",
        "      <td> 0.436376</td>\n",
        "      <td> 0.002521</td>\n",
        "      <td> 0.545449</td>\n",
        "      <td> 0.002319</td>\n",
        "      <td> 0.0128</td>\n",
        "      <td> 21.519307</td>\n",
        "      <td> 0.4434</td>\n",
        "    </tr>\n",
        "    <tr>\n",
        "      <th>22d</th>\n",
        "      <td> 2119</td>\n",
        "      <td> 319</td>\n",
        "      <td> 1733</td>\n",
        "      <td> 0.195505</td>\n",
        "      <td> 0.001933</td>\n",
        "      <td> 0.550408</td>\n",
        "      <td> 0.002445</td>\n",
        "      <td> 0.0012</td>\n",
        "      <td> 23.376639</td>\n",
        "      <td> 0.1914</td>\n",
        "    </tr>\n",
        "    <tr>\n",
        "      <th>27d</th>\n",
        "      <td>  808</td>\n",
        "      <td> 160</td>\n",
        "      <td>  614</td>\n",
        "      <td> 0.095774</td>\n",
        "      <td> 0.002802</td>\n",
        "      <td> 0.562565</td>\n",
        "      <td> 0.004117</td>\n",
        "      <td>-0.0074</td>\n",
        "      <td> 17.046913</td>\n",
        "      <td> 0.0998</td>\n",
        "    </tr>\n",
        "  </tbody>\n",
        "</table>\n",
        "</div>"
       ],
       "metadata": {},
       "output_type": "display_data",
       "text": [
        "        n_bursts_all  n_bursts_do  n_bursts_fret  E_pr_fret  E_pr_fret_sig  \\\n",
        "sample                                                                       \n",
        "7d              1179          583            553   0.927514       0.002460   \n",
        "12d             1325          329            966   0.734880       0.002961   \n",
        "17d             2543          462           2019   0.436376       0.002521   \n",
        "22d             2119          319           1733   0.195505       0.001933   \n",
        "27d              808          160            614   0.095774       0.002802   \n",
        "\n",
        "        S_pr_fret  S_pr_fret_sig  E_pr_do_kde    nt_mean  E_pr_fret_kde  \n",
        "sample                                                                   \n",
        "7d       0.556678       0.004139       0.0018  22.065812         0.9316  \n",
        "12d      0.568315       0.003147       0.0164  21.975345         0.7464  \n",
        "17d      0.545449       0.002319       0.0128  21.519307         0.4434  \n",
        "22d      0.550408       0.002445       0.0012  23.376639         0.1914  \n",
        "27d      0.562565       0.004117      -0.0074  17.046913         0.0998  "
       ]
      }
     ],
     "prompt_number": 10
    },
    {
     "cell_type": "markdown",
     "metadata": {},
     "source": [
      "> ** NOTE:** Remeber to execute now\n",
      "> * [usALEX - Corrections - Gamma factor fit](usALEX - Corrections - Gamma factor fit.ipynb)"
     ]
    },
    {
     "cell_type": "code",
     "collapsed": false,
     "input": [
      "nb_name = 'usALEX-5samples-E-corrected-all-ph'\n",
      "run_notebook_ALEX(nb_name)"
     ],
     "language": "python",
     "metadata": {},
     "outputs": [
      {
       "html": [
        "<a href='usALEX-5samples-E-corrected-all-ph.ipynb' target='_blank'>usALEX-5samples-E-corrected-all-ph.ipynb</a><br>"
       ],
       "metadata": {},
       "output_type": "display_data",
       "text": [
        "C:\\Data\\Antonio\\software\\src\\multispot_paper\\usALEX-5samples-E-corrected-all-ph.ipynb"
       ]
      },
      {
       "html": [
        "<a href='out_notebooks/usALEX-5samples-E-corrected-all-ph-out-7d.ipynb' target='_blank'>out_notebooks/usALEX-5samples-E-corrected-all-ph-out-7d.ipynb</a><br>"
       ],
       "metadata": {},
       "output_type": "display_data",
       "text": [
        "C:\\Data\\Antonio\\software\\src\\multispot_paper\\out_notebooks\\usALEX-5samples-E-corrected-all-ph-out-7d.ipynb"
       ]
      },
      {
       "html": [
        "<a href='out_notebooks/usALEX-5samples-E-corrected-all-ph-out-12d.ipynb' target='_blank'>out_notebooks/usALEX-5samples-E-corrected-all-ph-out-12d.ipynb</a><br>"
       ],
       "metadata": {},
       "output_type": "display_data",
       "text": [
        "C:\\Data\\Antonio\\software\\src\\multispot_paper\\out_notebooks\\usALEX-5samples-E-corrected-all-ph-out-12d.ipynb"
       ]
      },
      {
       "html": [
        "<a href='out_notebooks/usALEX-5samples-E-corrected-all-ph-out-17d.ipynb' target='_blank'>out_notebooks/usALEX-5samples-E-corrected-all-ph-out-17d.ipynb</a><br>"
       ],
       "metadata": {},
       "output_type": "display_data",
       "text": [
        "C:\\Data\\Antonio\\software\\src\\multispot_paper\\out_notebooks\\usALEX-5samples-E-corrected-all-ph-out-17d.ipynb"
       ]
      },
      {
       "html": [
        "<a href='out_notebooks/usALEX-5samples-E-corrected-all-ph-out-22d.ipynb' target='_blank'>out_notebooks/usALEX-5samples-E-corrected-all-ph-out-22d.ipynb</a><br>"
       ],
       "metadata": {},
       "output_type": "display_data",
       "text": [
        "C:\\Data\\Antonio\\software\\src\\multispot_paper\\out_notebooks\\usALEX-5samples-E-corrected-all-ph-out-22d.ipynb"
       ]
      },
      {
       "html": [
        "<a href='out_notebooks/usALEX-5samples-E-corrected-all-ph-out-27d.ipynb' target='_blank'>out_notebooks/usALEX-5samples-E-corrected-all-ph-out-27d.ipynb</a><br>"
       ],
       "metadata": {},
       "output_type": "display_data",
       "text": [
        "C:\\Data\\Antonio\\software\\src\\multispot_paper\\out_notebooks\\usALEX-5samples-E-corrected-all-ph-out-27d.ipynb"
       ]
      },
      {
       "html": [
        "<div style=\"max-height:1000px;max-width:1500px;overflow:auto;\">\n",
        "<table border=\"1\" class=\"dataframe\">\n",
        "  <thead>\n",
        "    <tr style=\"text-align: right;\">\n",
        "      <th></th>\n",
        "      <th>n_bursts_all</th>\n",
        "      <th>n_bursts_do</th>\n",
        "      <th>n_bursts_fret</th>\n",
        "      <th>E_pr_fret</th>\n",
        "      <th>E_pr_fret_sig</th>\n",
        "      <th>S_pr_fret</th>\n",
        "      <th>S_pr_fret_sig</th>\n",
        "      <th>E_pr_do_kde</th>\n",
        "      <th>nt_mean</th>\n",
        "      <th>E_pr_fret_kde</th>\n",
        "    </tr>\n",
        "    <tr>\n",
        "      <th>sample</th>\n",
        "      <th></th>\n",
        "      <th></th>\n",
        "      <th></th>\n",
        "      <th></th>\n",
        "      <th></th>\n",
        "      <th></th>\n",
        "      <th></th>\n",
        "      <th></th>\n",
        "      <th></th>\n",
        "      <th></th>\n",
        "    </tr>\n",
        "  </thead>\n",
        "  <tbody>\n",
        "    <tr>\n",
        "      <th>7d</th>\n",
        "      <td> 1179</td>\n",
        "      <td> 585</td>\n",
        "      <td>  552</td>\n",
        "      <td> 0.926023</td>\n",
        "      <td> 0.002510</td>\n",
        "      <td> 0.556719</td>\n",
        "      <td> 0.004118</td>\n",
        "      <td> 0.0020</td>\n",
        "      <td> 22.065812</td>\n",
        "      <td> 0.9300</td>\n",
        "    </tr>\n",
        "    <tr>\n",
        "      <th>12d</th>\n",
        "      <td> 1325</td>\n",
        "      <td> 329</td>\n",
        "      <td>  965</td>\n",
        "      <td> 0.730013</td>\n",
        "      <td> 0.002993</td>\n",
        "      <td> 0.569746</td>\n",
        "      <td> 0.003145</td>\n",
        "      <td> 0.0156</td>\n",
        "      <td> 22.033036</td>\n",
        "      <td> 0.7416</td>\n",
        "    </tr>\n",
        "    <tr>\n",
        "      <th>17d</th>\n",
        "      <td> 2543</td>\n",
        "      <td> 463</td>\n",
        "      <td> 2018</td>\n",
        "      <td> 0.430222</td>\n",
        "      <td> 0.002510</td>\n",
        "      <td> 0.548684</td>\n",
        "      <td> 0.002317</td>\n",
        "      <td> 0.0124</td>\n",
        "      <td> 21.519307</td>\n",
        "      <td> 0.4370</td>\n",
        "    </tr>\n",
        "    <tr>\n",
        "      <th>22d</th>\n",
        "      <td> 2119</td>\n",
        "      <td> 320</td>\n",
        "      <td> 1731</td>\n",
        "      <td> 0.191358</td>\n",
        "      <td> 0.001907</td>\n",
        "      <td> 0.554900</td>\n",
        "      <td> 0.002438</td>\n",
        "      <td> 0.0012</td>\n",
        "      <td> 23.376639</td>\n",
        "      <td> 0.1874</td>\n",
        "    </tr>\n",
        "    <tr>\n",
        "      <th>27d</th>\n",
        "      <td>  808</td>\n",
        "      <td> 160</td>\n",
        "      <td>  613</td>\n",
        "      <td> 0.093747</td>\n",
        "      <td> 0.002725</td>\n",
        "      <td> 0.567459</td>\n",
        "      <td> 0.004102</td>\n",
        "      <td>-0.0074</td>\n",
        "      <td> 17.090632</td>\n",
        "      <td> 0.0972</td>\n",
        "    </tr>\n",
        "  </tbody>\n",
        "</table>\n",
        "</div>"
       ],
       "metadata": {},
       "output_type": "display_data",
       "text": [
        "        n_bursts_all  n_bursts_do  n_bursts_fret  E_pr_fret  E_pr_fret_sig  \\\n",
        "sample                                                                       \n",
        "7d              1179          585            552   0.926023       0.002510   \n",
        "12d             1325          329            965   0.730013       0.002993   \n",
        "17d             2543          463           2018   0.430222       0.002510   \n",
        "22d             2119          320           1731   0.191358       0.001907   \n",
        "27d              808          160            613   0.093747       0.002725   \n",
        "\n",
        "        S_pr_fret  S_pr_fret_sig  E_pr_do_kde    nt_mean  E_pr_fret_kde  \n",
        "sample                                                                   \n",
        "7d       0.556719       0.004118       0.0020  22.065812         0.9300  \n",
        "12d      0.569746       0.003145       0.0156  22.033036         0.7416  \n",
        "17d      0.548684       0.002317       0.0124  21.519307         0.4370  \n",
        "22d      0.554900       0.002438       0.0012  23.376639         0.1874  \n",
        "27d      0.567459       0.004102      -0.0074  17.090632         0.0972  "
       ]
      }
     ],
     "prompt_number": 12
    },
    {
     "cell_type": "code",
     "collapsed": false,
     "input": [
      "#run_notebook_ALEX(nb_name, data_ids=['27d'], remove_out=False)"
     ],
     "language": "python",
     "metadata": {},
     "outputs": []
    },
    {
     "cell_type": "code",
     "collapsed": false,
     "input": [
      "# Make some noise when the computation ends\n",
      "#!say -v Bells \"dong\""
     ],
     "language": "python",
     "metadata": {},
     "outputs": []
    },
    {
     "cell_type": "code",
     "collapsed": false,
     "input": [],
     "language": "python",
     "metadata": {},
     "outputs": []
    }
   ],
   "metadata": {}
  }
 ]
}