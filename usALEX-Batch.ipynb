{
 "metadata": {
  "name": "",
  "signature": "sha256:47c26a114972e3e8eb387a15f56b6d6623c0605264122422924ced452b55c937"
 },
 "nbformat": 3,
 "nbformat_minor": 0,
 "worksheets": [
  {
   "cells": [
    {
     "cell_type": "markdown",
     "metadata": {},
     "source": [
      "# Fit E and S for 5 smFRET samples\n",
      "\n",
      "> *This notebook computes the fitted E and S values for the 5 smFRET samples. The computation is done executing the notebook [usALEX-5samples](usALEX-5samples.ipynb) with differet input data.*\n",
      "\n",
      "##Implementation details\n",
      "This notebook uses [runipy](https://pypi.python.org/pypi/runipy/) to run a notebooks several times\n",
      "with different data files as input.\n",
      "\n",
      "The results of each execution (including data and plots) are saved as a new notebooks. A parameter (`data_id`) is passed to the notebook through an environment variable (`NB_DATA_FILE`). The notebook used as template (for example [usALEX-5samples](usALEX-5samples.ipynb)) reads the environment variable NB_DATA_FILE to decide which file to process."
     ]
    },
    {
     "cell_type": "markdown",
     "metadata": {},
     "source": [
      "## Initial definitions"
     ]
    },
    {
     "cell_type": "code",
     "collapsed": false,
     "input": [
      "import os\n",
      "from glob import glob\n",
      "from runipy.notebook_runner import NotebookRunner\n",
      "from IPython.nbformat.current import read, write\n",
      "from IPython.display import display, FileLink\n",
      "import pandas as pd"
     ],
     "language": "python",
     "metadata": {},
     "outputs": [],
     "prompt_number": 1
    },
    {
     "cell_type": "code",
     "collapsed": false,
     "input": [
      "def run_notebook(notebook_name):\n",
      "    \"\"\"Run a notebook and save the executed copy as notebook_name-out.ipynb\n",
      "    \"\"\"\n",
      "    nb_name_full  = notebook_name + '.ipynb'\n",
      "    display(FileLink(nb_name_full))\n",
      "\n",
      "    with open(nb_name_full) as f:\n",
      "        notebook = read(f, 'json')\n",
      "    out_nb_name = notebook_name + '-out.ipynb'\n",
      "        \n",
      "    r = NotebookRunner(notebook)\n",
      "    error_in_notebook = False\n",
      "    try:\n",
      "        r.run_notebook()\n",
      "    except:\n",
      "        msg = 'Error executing the notebook \"%s\".\\n\\n' % notebook_name\n",
      "        msg += 'See notebook \"%s\" for the traceback.' % out_nb_name\n",
      "        raise RuntimeError(msg)\n",
      "    finally:\n",
      "        with open(out_nb_name, 'w') as f:\n",
      "            write(r.nb, f, 'json')\n",
      "        display(FileLink(out_nb_name))"
     ],
     "language": "python",
     "metadata": {},
     "outputs": [],
     "prompt_number": 2
    },
    {
     "cell_type": "code",
     "collapsed": false,
     "input": [
      "def run_notebook_ALEX(notebook_name, remove_out=True, \n",
      "                      data_ids=['7d', '12d', '17d', '22d', '27d']):\n",
      "    \"\"\"Run a template ALEX notebook for all the 5 samples.\n",
      "    \n",
      "    Fit results are saved in the folder 'results'.\n",
      "    For each sample, the evaluated notebook containing both plots\n",
      "    and text output is saved in the 'out_notebooks' folder.\n",
      "    \"\"\"\n",
      "    data_fname = 'results/' + notebook_name + '.txt'\n",
      "    if remove_out and \\\n",
      "       os.path.exists(data_fname):\n",
      "            os.remove(data_fname)\n",
      "\n",
      "    nb_name_full  = notebook_name + '.ipynb'\n",
      "    display(FileLink(nb_name_full))\n",
      "\n",
      "    for data_id in data_ids:\n",
      "        os.environ['NB_DATA_FILE'] = data_id\n",
      "        with open(nb_name_full) as f:\n",
      "            notebook = read(f, 'json')\n",
      "        out_nb_name = 'out_notebooks/' + notebook_name + '-out-%s.ipynb' % data_id\n",
      "        \n",
      "        r = NotebookRunner(notebook)\n",
      "        error_in_notebook = False\n",
      "        try:\n",
      "            r.run_notebook()\n",
      "        except:\n",
      "            msg = 'Error executing the notebook for sample \"%s\".\\n\\n' % data_id\n",
      "            msg += 'See notebook \"%s\" for the traceback.' % out_nb_name\n",
      "            raise RuntimeError(msg)\n",
      "        finally:\n",
      "            with open(out_nb_name, 'w') as f:\n",
      "                write(r.nb, f, 'json')\n",
      "            display(FileLink(out_nb_name))\n",
      "    display(pd.read_csv(data_fname, sep=\"\\s+\").set_index('sample'))"
     ],
     "language": "python",
     "metadata": {},
     "outputs": [],
     "prompt_number": 2
    },
    {
     "cell_type": "markdown",
     "metadata": {},
     "source": [
      "## Batch execution"
     ]
    },
    {
     "cell_type": "code",
     "collapsed": false,
     "input": [
      "nb_name = 'usALEX-5samples-PR-raw-all-ph'\n",
      "run_notebook_ALEX(nb_name)"
     ],
     "language": "python",
     "metadata": {},
     "outputs": [
      {
       "html": [
        "<a href='usALEX-5samples-PR-raw-all-ph.ipynb' target='_blank'>usALEX-5samples-PR-raw-all-ph.ipynb</a><br>"
       ],
       "metadata": {},
       "output_type": "display_data",
       "text": [
        "C:\\Data\\Antonio\\software\\src\\multispot_paper\\usALEX-5samples-PR-raw-all-ph.ipynb"
       ]
      },
      {
       "html": [
        "<a href='out_notebooks/usALEX-5samples-PR-raw-all-ph-out-7d.ipynb' target='_blank'>out_notebooks/usALEX-5samples-PR-raw-all-ph-out-7d.ipynb</a><br>"
       ],
       "metadata": {},
       "output_type": "display_data",
       "text": [
        "C:\\Data\\Antonio\\software\\src\\multispot_paper\\out_notebooks\\usALEX-5samples-PR-raw-all-ph-out-7d.ipynb"
       ]
      },
      {
       "html": [
        "<a href='out_notebooks/usALEX-5samples-PR-raw-all-ph-out-12d.ipynb' target='_blank'>out_notebooks/usALEX-5samples-PR-raw-all-ph-out-12d.ipynb</a><br>"
       ],
       "metadata": {},
       "output_type": "display_data",
       "text": [
        "C:\\Data\\Antonio\\software\\src\\multispot_paper\\out_notebooks\\usALEX-5samples-PR-raw-all-ph-out-12d.ipynb"
       ]
      },
      {
       "html": [
        "<a href='out_notebooks/usALEX-5samples-PR-raw-all-ph-out-17d.ipynb' target='_blank'>out_notebooks/usALEX-5samples-PR-raw-all-ph-out-17d.ipynb</a><br>"
       ],
       "metadata": {},
       "output_type": "display_data",
       "text": [
        "C:\\Data\\Antonio\\software\\src\\multispot_paper\\out_notebooks\\usALEX-5samples-PR-raw-all-ph-out-17d.ipynb"
       ]
      },
      {
       "html": [
        "<a href='out_notebooks/usALEX-5samples-PR-raw-all-ph-out-22d.ipynb' target='_blank'>out_notebooks/usALEX-5samples-PR-raw-all-ph-out-22d.ipynb</a><br>"
       ],
       "metadata": {},
       "output_type": "display_data",
       "text": [
        "C:\\Data\\Antonio\\software\\src\\multispot_paper\\out_notebooks\\usALEX-5samples-PR-raw-all-ph-out-22d.ipynb"
       ]
      },
      {
       "html": [
        "<a href='out_notebooks/usALEX-5samples-PR-raw-all-ph-out-27d.ipynb' target='_blank'>out_notebooks/usALEX-5samples-PR-raw-all-ph-out-27d.ipynb</a><br>"
       ],
       "metadata": {},
       "output_type": "display_data",
       "text": [
        "C:\\Data\\Antonio\\software\\src\\multispot_paper\\out_notebooks\\usALEX-5samples-PR-raw-all-ph-out-27d.ipynb"
       ]
      },
      {
       "html": [
        "<div style=\"max-height:1000px;max-width:1500px;overflow:auto;\">\n",
        "<table border=\"1\" class=\"dataframe\">\n",
        "  <thead>\n",
        "    <tr style=\"text-align: right;\">\n",
        "      <th></th>\n",
        "      <th>n_bursts_all</th>\n",
        "      <th>n_bursts_do</th>\n",
        "      <th>n_bursts_fret</th>\n",
        "      <th>E_kde_w</th>\n",
        "      <th>E_gauss_w</th>\n",
        "      <th>E_gauss_w_sig</th>\n",
        "      <th>E_gauss_w_err</th>\n",
        "      <th>S_kde</th>\n",
        "      <th>S_gauss</th>\n",
        "      <th>S_gauss_sig</th>\n",
        "      <th>S_gauss_err</th>\n",
        "      <th>E_pr_do_kde</th>\n",
        "      <th>nt_mean</th>\n",
        "    </tr>\n",
        "    <tr>\n",
        "      <th>sample</th>\n",
        "      <th></th>\n",
        "      <th></th>\n",
        "      <th></th>\n",
        "      <th></th>\n",
        "      <th></th>\n",
        "      <th></th>\n",
        "      <th></th>\n",
        "      <th></th>\n",
        "      <th></th>\n",
        "      <th></th>\n",
        "      <th></th>\n",
        "      <th></th>\n",
        "      <th></th>\n",
        "    </tr>\n",
        "  </thead>\n",
        "  <tbody>\n",
        "    <tr>\n",
        "      <th>7d</th>\n",
        "      <td> 1370</td>\n",
        "      <td> 724</td>\n",
        "      <td>  600</td>\n",
        "      <td> 0.9338</td>\n",
        "      <td> 0.931395</td>\n",
        "      <td> 0.054562</td>\n",
        "      <td> 0.002228</td>\n",
        "      <td> 0.5616</td>\n",
        "      <td> 0.564374</td>\n",
        "      <td> 0.091376</td>\n",
        "      <td> 0.003730</td>\n",
        "      <td> 0.0950</td>\n",
        "      <td> 22.375125</td>\n",
        "    </tr>\n",
        "    <tr>\n",
        "      <th>12d</th>\n",
        "      <td> 1528</td>\n",
        "      <td> 410</td>\n",
        "      <td> 1081</td>\n",
        "      <td> 0.7606</td>\n",
        "      <td> 0.749737</td>\n",
        "      <td> 0.085984</td>\n",
        "      <td> 0.002615</td>\n",
        "      <td> 0.5922</td>\n",
        "      <td> 0.575044</td>\n",
        "      <td> 0.100132</td>\n",
        "      <td> 0.003046</td>\n",
        "      <td> 0.1020</td>\n",
        "      <td> 22.612481</td>\n",
        "    </tr>\n",
        "    <tr>\n",
        "      <th>17d</th>\n",
        "      <td> 3013</td>\n",
        "      <td> 558</td>\n",
        "      <td> 2389</td>\n",
        "      <td> 0.4922</td>\n",
        "      <td> 0.484872</td>\n",
        "      <td> 0.101857</td>\n",
        "      <td> 0.002084</td>\n",
        "      <td> 0.5328</td>\n",
        "      <td> 0.559473</td>\n",
        "      <td> 0.104484</td>\n",
        "      <td> 0.002138</td>\n",
        "      <td> 0.1004</td>\n",
        "      <td> 23.168308</td>\n",
        "    </tr>\n",
        "    <tr>\n",
        "      <th>22d</th>\n",
        "      <td> 2552</td>\n",
        "      <td> 403</td>\n",
        "      <td> 2045</td>\n",
        "      <td> 0.2768</td>\n",
        "      <td> 0.279818</td>\n",
        "      <td> 0.070842</td>\n",
        "      <td> 0.001567</td>\n",
        "      <td> 0.5794</td>\n",
        "      <td> 0.572693</td>\n",
        "      <td> 0.106942</td>\n",
        "      <td> 0.002365</td>\n",
        "      <td> 0.0924</td>\n",
        "      <td> 25.330922</td>\n",
        "    </tr>\n",
        "    <tr>\n",
        "      <th>27d</th>\n",
        "      <td>  999</td>\n",
        "      <td> 203</td>\n",
        "      <td>  759</td>\n",
        "      <td> 0.1966</td>\n",
        "      <td> 0.195458</td>\n",
        "      <td> 0.058387</td>\n",
        "      <td> 0.002119</td>\n",
        "      <td> 0.5526</td>\n",
        "      <td> 0.586564</td>\n",
        "      <td> 0.109037</td>\n",
        "      <td> 0.003958</td>\n",
        "      <td> 0.0840</td>\n",
        "      <td> 19.505630</td>\n",
        "    </tr>\n",
        "  </tbody>\n",
        "</table>\n",
        "</div>"
       ],
       "metadata": {},
       "output_type": "display_data",
       "text": [
        "        n_bursts_all  n_bursts_do  n_bursts_fret  E_kde_w  E_gauss_w  \\\n",
        "sample                                                                 \n",
        "7d              1370          724            600   0.9338   0.931395   \n",
        "12d             1528          410           1081   0.7606   0.749737   \n",
        "17d             3013          558           2389   0.4922   0.484872   \n",
        "22d             2552          403           2045   0.2768   0.279818   \n",
        "27d              999          203            759   0.1966   0.195458   \n",
        "\n",
        "        E_gauss_w_sig  E_gauss_w_err   S_kde   S_gauss  S_gauss_sig  \\\n",
        "sample                                                                \n",
        "7d           0.054562       0.002228  0.5616  0.564374     0.091376   \n",
        "12d          0.085984       0.002615  0.5922  0.575044     0.100132   \n",
        "17d          0.101857       0.002084  0.5328  0.559473     0.104484   \n",
        "22d          0.070842       0.001567  0.5794  0.572693     0.106942   \n",
        "27d          0.058387       0.002119  0.5526  0.586564     0.109037   \n",
        "\n",
        "        S_gauss_err  E_pr_do_kde    nt_mean  \n",
        "sample                                       \n",
        "7d         0.003730       0.0950  22.375125  \n",
        "12d        0.003046       0.1020  22.612481  \n",
        "17d        0.002138       0.1004  23.168308  \n",
        "22d        0.002365       0.0924  25.330922  \n",
        "27d        0.003958       0.0840  19.505630  "
       ]
      }
     ],
     "prompt_number": 3
    },
    {
     "cell_type": "code",
     "collapsed": false,
     "input": [
      "nb_name = 'usALEX-5samples-PR-raw-DexDem'\n",
      "run_notebook_ALEX(nb_name)"
     ],
     "language": "python",
     "metadata": {},
     "outputs": [
      {
       "html": [
        "<a href='usALEX-5samples-PR-raw-DexDem.ipynb' target='_blank'>usALEX-5samples-PR-raw-DexDem.ipynb</a><br>"
       ],
       "metadata": {},
       "output_type": "display_data",
       "text": [
        "C:\\Data\\Antonio\\software\\src\\multispot_paper\\usALEX-5samples-PR-raw-DexDem.ipynb"
       ]
      },
      {
       "html": [
        "<a href='out_notebooks/usALEX-5samples-PR-raw-DexDem-out-7d.ipynb' target='_blank'>out_notebooks/usALEX-5samples-PR-raw-DexDem-out-7d.ipynb</a><br>"
       ],
       "metadata": {},
       "output_type": "display_data",
       "text": [
        "C:\\Data\\Antonio\\software\\src\\multispot_paper\\out_notebooks\\usALEX-5samples-PR-raw-DexDem-out-7d.ipynb"
       ]
      },
      {
       "html": [
        "<a href='out_notebooks/usALEX-5samples-PR-raw-DexDem-out-12d.ipynb' target='_blank'>out_notebooks/usALEX-5samples-PR-raw-DexDem-out-12d.ipynb</a><br>"
       ],
       "metadata": {},
       "output_type": "display_data",
       "text": [
        "C:\\Data\\Antonio\\software\\src\\multispot_paper\\out_notebooks\\usALEX-5samples-PR-raw-DexDem-out-12d.ipynb"
       ]
      },
      {
       "html": [
        "<a href='out_notebooks/usALEX-5samples-PR-raw-DexDem-out-17d.ipynb' target='_blank'>out_notebooks/usALEX-5samples-PR-raw-DexDem-out-17d.ipynb</a><br>"
       ],
       "metadata": {},
       "output_type": "display_data",
       "text": [
        "C:\\Data\\Antonio\\software\\src\\multispot_paper\\out_notebooks\\usALEX-5samples-PR-raw-DexDem-out-17d.ipynb"
       ]
      },
      {
       "html": [
        "<a href='out_notebooks/usALEX-5samples-PR-raw-DexDem-out-22d.ipynb' target='_blank'>out_notebooks/usALEX-5samples-PR-raw-DexDem-out-22d.ipynb</a><br>"
       ],
       "metadata": {},
       "output_type": "display_data",
       "text": [
        "C:\\Data\\Antonio\\software\\src\\multispot_paper\\out_notebooks\\usALEX-5samples-PR-raw-DexDem-out-22d.ipynb"
       ]
      },
      {
       "html": [
        "<a href='out_notebooks/usALEX-5samples-PR-raw-DexDem-out-27d.ipynb' target='_blank'>out_notebooks/usALEX-5samples-PR-raw-DexDem-out-27d.ipynb</a><br>"
       ],
       "metadata": {},
       "output_type": "display_data",
       "text": [
        "C:\\Data\\Antonio\\software\\src\\multispot_paper\\out_notebooks\\usALEX-5samples-PR-raw-DexDem-out-27d.ipynb"
       ]
      },
      {
       "html": [
        "<div style=\"max-height:1000px;max-width:1500px;overflow:auto;\">\n",
        "<table border=\"1\" class=\"dataframe\">\n",
        "  <thead>\n",
        "    <tr style=\"text-align: right;\">\n",
        "      <th></th>\n",
        "      <th>n_bursts_all</th>\n",
        "      <th>n_bursts_do</th>\n",
        "      <th>n_bursts_fret</th>\n",
        "      <th>E_kde_w</th>\n",
        "      <th>E_gauss_w</th>\n",
        "      <th>E_gauss_w_sig</th>\n",
        "      <th>E_gauss_w_err</th>\n",
        "      <th>S_kde</th>\n",
        "      <th>S_gauss</th>\n",
        "      <th>S_gauss_sig</th>\n",
        "      <th>S_gauss_err</th>\n",
        "      <th>E_pr_do_kde</th>\n",
        "      <th>nt_mean</th>\n",
        "    </tr>\n",
        "    <tr>\n",
        "      <th>sample</th>\n",
        "      <th></th>\n",
        "      <th></th>\n",
        "      <th></th>\n",
        "      <th></th>\n",
        "      <th></th>\n",
        "      <th></th>\n",
        "      <th></th>\n",
        "      <th></th>\n",
        "      <th></th>\n",
        "      <th></th>\n",
        "      <th></th>\n",
        "      <th></th>\n",
        "      <th></th>\n",
        "    </tr>\n",
        "  </thead>\n",
        "  <tbody>\n",
        "    <tr>\n",
        "      <th>7d</th>\n",
        "      <td> 1684</td>\n",
        "      <td> 1395</td>\n",
        "      <td>  151</td>\n",
        "      <td> 0.8426</td>\n",
        "      <td> 0.795226</td>\n",
        "      <td> 0.089862</td>\n",
        "      <td> 0.007313</td>\n",
        "      <td> 0.6392</td>\n",
        "      <td> 0.603186</td>\n",
        "      <td> 0.088872</td>\n",
        "      <td> 0.007232</td>\n",
        "      <td> 0.0950</td>\n",
        "      <td> 28.103579</td>\n",
        "    </tr>\n",
        "    <tr>\n",
        "      <th>12d</th>\n",
        "      <td> 1915</td>\n",
        "      <td>  719</td>\n",
        "      <td> 1094</td>\n",
        "      <td> 0.7142</td>\n",
        "      <td> 0.706973</td>\n",
        "      <td> 0.075748</td>\n",
        "      <td> 0.002290</td>\n",
        "      <td> 0.5672</td>\n",
        "      <td> 0.586452</td>\n",
        "      <td> 0.094834</td>\n",
        "      <td> 0.002867</td>\n",
        "      <td> 0.0924</td>\n",
        "      <td> 28.011329</td>\n",
        "    </tr>\n",
        "    <tr>\n",
        "      <th>17d</th>\n",
        "      <td> 4497</td>\n",
        "      <td> 1042</td>\n",
        "      <td> 3274</td>\n",
        "      <td> 0.4630</td>\n",
        "      <td> 0.447567</td>\n",
        "      <td> 0.102044</td>\n",
        "      <td> 0.001783</td>\n",
        "      <td> 0.5748</td>\n",
        "      <td> 0.575958</td>\n",
        "      <td> 0.103224</td>\n",
        "      <td> 0.001804</td>\n",
        "      <td> 0.0938</td>\n",
        "      <td> 29.138086</td>\n",
        "    </tr>\n",
        "    <tr>\n",
        "      <th>22d</th>\n",
        "      <td> 3455</td>\n",
        "      <td>  579</td>\n",
        "      <td> 2750</td>\n",
        "      <td> 0.2642</td>\n",
        "      <td> 0.265737</td>\n",
        "      <td> 0.066868</td>\n",
        "      <td> 0.001275</td>\n",
        "      <td> 0.5668</td>\n",
        "      <td> 0.574933</td>\n",
        "      <td> 0.102353</td>\n",
        "      <td> 0.001952</td>\n",
        "      <td> 0.0828</td>\n",
        "      <td> 31.978264</td>\n",
        "    </tr>\n",
        "    <tr>\n",
        "      <th>27d</th>\n",
        "      <td> 1397</td>\n",
        "      <td>  401</td>\n",
        "      <td>  944</td>\n",
        "      <td> 0.1814</td>\n",
        "      <td> 0.183440</td>\n",
        "      <td> 0.054032</td>\n",
        "      <td> 0.001759</td>\n",
        "      <td> 0.6104</td>\n",
        "      <td> 0.602251</td>\n",
        "      <td> 0.104046</td>\n",
        "      <td> 0.003386</td>\n",
        "      <td> 0.0778</td>\n",
        "      <td> 23.272537</td>\n",
        "    </tr>\n",
        "  </tbody>\n",
        "</table>\n",
        "</div>"
       ],
       "metadata": {},
       "output_type": "display_data",
       "text": [
        "        n_bursts_all  n_bursts_do  n_bursts_fret  E_kde_w  E_gauss_w  \\\n",
        "sample                                                                 \n",
        "7d              1684         1395            151   0.8426   0.795226   \n",
        "12d             1915          719           1094   0.7142   0.706973   \n",
        "17d             4497         1042           3274   0.4630   0.447567   \n",
        "22d             3455          579           2750   0.2642   0.265737   \n",
        "27d             1397          401            944   0.1814   0.183440   \n",
        "\n",
        "        E_gauss_w_sig  E_gauss_w_err   S_kde   S_gauss  S_gauss_sig  \\\n",
        "sample                                                                \n",
        "7d           0.089862       0.007313  0.6392  0.603186     0.088872   \n",
        "12d          0.075748       0.002290  0.5672  0.586452     0.094834   \n",
        "17d          0.102044       0.001783  0.5748  0.575958     0.103224   \n",
        "22d          0.066868       0.001275  0.5668  0.574933     0.102353   \n",
        "27d          0.054032       0.001759  0.6104  0.602251     0.104046   \n",
        "\n",
        "        S_gauss_err  E_pr_do_kde    nt_mean  \n",
        "sample                                       \n",
        "7d         0.007232       0.0950  28.103579  \n",
        "12d        0.002867       0.0924  28.011329  \n",
        "17d        0.001804       0.0938  29.138086  \n",
        "22d        0.001952       0.0828  31.978264  \n",
        "27d        0.003386       0.0778  23.272537  "
       ]
      }
     ],
     "prompt_number": 4
    },
    {
     "cell_type": "code",
     "collapsed": false,
     "input": [
      "nb_name = 'usALEX-5samples-PR-raw-Dex'\n",
      "run_notebook_ALEX(nb_name)"
     ],
     "language": "python",
     "metadata": {},
     "outputs": [
      {
       "html": [
        "<a href='usALEX-5samples-PR-raw-Dex.ipynb' target='_blank'>usALEX-5samples-PR-raw-Dex.ipynb</a><br>"
       ],
       "metadata": {},
       "output_type": "display_data",
       "text": [
        "C:\\Data\\Antonio\\software\\src\\multispot_paper\\usALEX-5samples-PR-raw-Dex.ipynb"
       ]
      },
      {
       "html": [
        "<a href='out_notebooks/usALEX-5samples-PR-raw-Dex-out-7d.ipynb' target='_blank'>out_notebooks/usALEX-5samples-PR-raw-Dex-out-7d.ipynb</a><br>"
       ],
       "metadata": {},
       "output_type": "display_data",
       "text": [
        "C:\\Data\\Antonio\\software\\src\\multispot_paper\\out_notebooks\\usALEX-5samples-PR-raw-Dex-out-7d.ipynb"
       ]
      },
      {
       "html": [
        "<a href='out_notebooks/usALEX-5samples-PR-raw-Dex-out-12d.ipynb' target='_blank'>out_notebooks/usALEX-5samples-PR-raw-Dex-out-12d.ipynb</a><br>"
       ],
       "metadata": {},
       "output_type": "display_data",
       "text": [
        "C:\\Data\\Antonio\\software\\src\\multispot_paper\\out_notebooks\\usALEX-5samples-PR-raw-Dex-out-12d.ipynb"
       ]
      },
      {
       "html": [
        "<a href='out_notebooks/usALEX-5samples-PR-raw-Dex-out-17d.ipynb' target='_blank'>out_notebooks/usALEX-5samples-PR-raw-Dex-out-17d.ipynb</a><br>"
       ],
       "metadata": {},
       "output_type": "display_data",
       "text": [
        "C:\\Data\\Antonio\\software\\src\\multispot_paper\\out_notebooks\\usALEX-5samples-PR-raw-Dex-out-17d.ipynb"
       ]
      },
      {
       "html": [
        "<a href='out_notebooks/usALEX-5samples-PR-raw-Dex-out-22d.ipynb' target='_blank'>out_notebooks/usALEX-5samples-PR-raw-Dex-out-22d.ipynb</a><br>"
       ],
       "metadata": {},
       "output_type": "display_data",
       "text": [
        "C:\\Data\\Antonio\\software\\src\\multispot_paper\\out_notebooks\\usALEX-5samples-PR-raw-Dex-out-22d.ipynb"
       ]
      },
      {
       "html": [
        "<a href='out_notebooks/usALEX-5samples-PR-raw-Dex-out-27d.ipynb' target='_blank'>out_notebooks/usALEX-5samples-PR-raw-Dex-out-27d.ipynb</a><br>"
       ],
       "metadata": {},
       "output_type": "display_data",
       "text": [
        "C:\\Data\\Antonio\\software\\src\\multispot_paper\\out_notebooks\\usALEX-5samples-PR-raw-Dex-out-27d.ipynb"
       ]
      },
      {
       "html": [
        "<div style=\"max-height:1000px;max-width:1500px;overflow:auto;\">\n",
        "<table border=\"1\" class=\"dataframe\">\n",
        "  <thead>\n",
        "    <tr style=\"text-align: right;\">\n",
        "      <th></th>\n",
        "      <th>n_bursts_all</th>\n",
        "      <th>n_bursts_do</th>\n",
        "      <th>n_bursts_fret</th>\n",
        "      <th>E_kde_w</th>\n",
        "      <th>E_gauss_w</th>\n",
        "      <th>E_gauss_w_sig</th>\n",
        "      <th>E_gauss_w_err</th>\n",
        "      <th>S_kde</th>\n",
        "      <th>S_gauss</th>\n",
        "      <th>S_gauss_sig</th>\n",
        "      <th>S_gauss_err</th>\n",
        "      <th>E_pr_do_kde</th>\n",
        "      <th>nt_mean</th>\n",
        "    </tr>\n",
        "    <tr>\n",
        "      <th>sample</th>\n",
        "      <th></th>\n",
        "      <th></th>\n",
        "      <th></th>\n",
        "      <th></th>\n",
        "      <th></th>\n",
        "      <th></th>\n",
        "      <th></th>\n",
        "      <th></th>\n",
        "      <th></th>\n",
        "      <th></th>\n",
        "      <th></th>\n",
        "      <th></th>\n",
        "      <th></th>\n",
        "    </tr>\n",
        "  </thead>\n",
        "  <tbody>\n",
        "    <tr>\n",
        "      <th>7d</th>\n",
        "      <td> 1653</td>\n",
        "      <td> 955</td>\n",
        "      <td>  641</td>\n",
        "      <td> 0.9336</td>\n",
        "      <td> 0.927281</td>\n",
        "      <td> 0.054494</td>\n",
        "      <td> 0.002152</td>\n",
        "      <td> 0.5812</td>\n",
        "      <td> 0.579253</td>\n",
        "      <td> 0.093738</td>\n",
        "      <td> 0.003702</td>\n",
        "      <td> 0.0982</td>\n",
        "      <td> 23.005879</td>\n",
        "    </tr>\n",
        "    <tr>\n",
        "      <th>12d</th>\n",
        "      <td> 1690</td>\n",
        "      <td> 486</td>\n",
        "      <td> 1155</td>\n",
        "      <td> 0.7510</td>\n",
        "      <td> 0.748524</td>\n",
        "      <td> 0.084144</td>\n",
        "      <td> 0.002476</td>\n",
        "      <td> 0.5994</td>\n",
        "      <td> 0.590904</td>\n",
        "      <td> 0.099542</td>\n",
        "      <td> 0.002929</td>\n",
        "      <td> 0.1026</td>\n",
        "      <td> 23.376184</td>\n",
        "    </tr>\n",
        "    <tr>\n",
        "      <th>17d</th>\n",
        "      <td> 3451</td>\n",
        "      <td> 764</td>\n",
        "      <td> 2584</td>\n",
        "      <td> 0.4908</td>\n",
        "      <td> 0.480718</td>\n",
        "      <td> 0.101802</td>\n",
        "      <td> 0.002003</td>\n",
        "      <td> 0.5904</td>\n",
        "      <td> 0.584025</td>\n",
        "      <td> 0.103123</td>\n",
        "      <td> 0.002029</td>\n",
        "      <td> 0.1056</td>\n",
        "      <td> 23.046017</td>\n",
        "    </tr>\n",
        "    <tr>\n",
        "      <th>22d</th>\n",
        "      <td> 2801</td>\n",
        "      <td> 501</td>\n",
        "      <td> 2184</td>\n",
        "      <td> 0.2752</td>\n",
        "      <td> 0.280169</td>\n",
        "      <td> 0.067912</td>\n",
        "      <td> 0.001453</td>\n",
        "      <td> 0.5854</td>\n",
        "      <td> 0.588751</td>\n",
        "      <td> 0.103533</td>\n",
        "      <td> 0.002215</td>\n",
        "      <td> 0.0938</td>\n",
        "      <td> 26.572519</td>\n",
        "    </tr>\n",
        "    <tr>\n",
        "      <th>27d</th>\n",
        "      <td> 1145</td>\n",
        "      <td> 314</td>\n",
        "      <td>  793</td>\n",
        "      <td> 0.1944</td>\n",
        "      <td> 0.194758</td>\n",
        "      <td> 0.057257</td>\n",
        "      <td> 0.002033</td>\n",
        "      <td> 0.5754</td>\n",
        "      <td> 0.609175</td>\n",
        "      <td> 0.105066</td>\n",
        "      <td> 0.003731</td>\n",
        "      <td> 0.0882</td>\n",
        "      <td> 19.855254</td>\n",
        "    </tr>\n",
        "  </tbody>\n",
        "</table>\n",
        "</div>"
       ],
       "metadata": {},
       "output_type": "display_data",
       "text": [
        "        n_bursts_all  n_bursts_do  n_bursts_fret  E_kde_w  E_gauss_w  \\\n",
        "sample                                                                 \n",
        "7d              1653          955            641   0.9336   0.927281   \n",
        "12d             1690          486           1155   0.7510   0.748524   \n",
        "17d             3451          764           2584   0.4908   0.480718   \n",
        "22d             2801          501           2184   0.2752   0.280169   \n",
        "27d             1145          314            793   0.1944   0.194758   \n",
        "\n",
        "        E_gauss_w_sig  E_gauss_w_err   S_kde   S_gauss  S_gauss_sig  \\\n",
        "sample                                                                \n",
        "7d           0.054494       0.002152  0.5812  0.579253     0.093738   \n",
        "12d          0.084144       0.002476  0.5994  0.590904     0.099542   \n",
        "17d          0.101802       0.002003  0.5904  0.584025     0.103123   \n",
        "22d          0.067912       0.001453  0.5854  0.588751     0.103533   \n",
        "27d          0.057257       0.002033  0.5754  0.609175     0.105066   \n",
        "\n",
        "        S_gauss_err  E_pr_do_kde    nt_mean  \n",
        "sample                                       \n",
        "7d         0.003702       0.0982  23.005879  \n",
        "12d        0.002929       0.1026  23.376184  \n",
        "17d        0.002029       0.1056  23.046017  \n",
        "22d        0.002215       0.0938  26.572519  \n",
        "27d        0.003731       0.0882  19.855254  "
       ]
      }
     ],
     "prompt_number": 5
    },
    {
     "cell_type": "code",
     "collapsed": false,
     "input": [
      "nb_name = 'usALEX-5samples-PR-raw-AND-gate'\n",
      "run_notebook_ALEX(nb_name)"
     ],
     "language": "python",
     "metadata": {},
     "outputs": [
      {
       "html": [
        "<a href='usALEX-5samples-PR-raw-AND-gate.ipynb' target='_blank'>usALEX-5samples-PR-raw-AND-gate.ipynb</a><br>"
       ],
       "metadata": {},
       "output_type": "display_data",
       "text": [
        "C:\\Data\\Antonio\\software\\src\\multispot_paper\\usALEX-5samples-PR-raw-AND-gate.ipynb"
       ]
      },
      {
       "html": [
        "<a href='out_notebooks/usALEX-5samples-PR-raw-AND-gate-out-7d.ipynb' target='_blank'>out_notebooks/usALEX-5samples-PR-raw-AND-gate-out-7d.ipynb</a><br>"
       ],
       "metadata": {},
       "output_type": "display_data",
       "text": [
        "C:\\Data\\Antonio\\software\\src\\multispot_paper\\out_notebooks\\usALEX-5samples-PR-raw-AND-gate-out-7d.ipynb"
       ]
      },
      {
       "html": [
        "<a href='out_notebooks/usALEX-5samples-PR-raw-AND-gate-out-12d.ipynb' target='_blank'>out_notebooks/usALEX-5samples-PR-raw-AND-gate-out-12d.ipynb</a><br>"
       ],
       "metadata": {},
       "output_type": "display_data",
       "text": [
        "C:\\Data\\Antonio\\software\\src\\multispot_paper\\out_notebooks\\usALEX-5samples-PR-raw-AND-gate-out-12d.ipynb"
       ]
      },
      {
       "html": [
        "<a href='out_notebooks/usALEX-5samples-PR-raw-AND-gate-out-17d.ipynb' target='_blank'>out_notebooks/usALEX-5samples-PR-raw-AND-gate-out-17d.ipynb</a><br>"
       ],
       "metadata": {},
       "output_type": "display_data",
       "text": [
        "C:\\Data\\Antonio\\software\\src\\multispot_paper\\out_notebooks\\usALEX-5samples-PR-raw-AND-gate-out-17d.ipynb"
       ]
      },
      {
       "html": [
        "<a href='out_notebooks/usALEX-5samples-PR-raw-AND-gate-out-22d.ipynb' target='_blank'>out_notebooks/usALEX-5samples-PR-raw-AND-gate-out-22d.ipynb</a><br>"
       ],
       "metadata": {},
       "output_type": "display_data",
       "text": [
        "C:\\Data\\Antonio\\software\\src\\multispot_paper\\out_notebooks\\usALEX-5samples-PR-raw-AND-gate-out-22d.ipynb"
       ]
      },
      {
       "html": [
        "<a href='out_notebooks/usALEX-5samples-PR-raw-AND-gate-out-27d.ipynb' target='_blank'>out_notebooks/usALEX-5samples-PR-raw-AND-gate-out-27d.ipynb</a><br>"
       ],
       "metadata": {},
       "output_type": "display_data",
       "text": [
        "C:\\Data\\Antonio\\software\\src\\multispot_paper\\out_notebooks\\usALEX-5samples-PR-raw-AND-gate-out-27d.ipynb"
       ]
      },
      {
       "html": [
        "<div style=\"max-height:1000px;max-width:1500px;overflow:auto;\">\n",
        "<table border=\"1\" class=\"dataframe\">\n",
        "  <thead>\n",
        "    <tr style=\"text-align: right;\">\n",
        "      <th></th>\n",
        "      <th>n_bursts_all</th>\n",
        "      <th>n_bursts_fret</th>\n",
        "      <th>E_kde_w</th>\n",
        "      <th>E_gauss_w</th>\n",
        "      <th>E_gauss_w_sig</th>\n",
        "      <th>E_gauss_w_err</th>\n",
        "      <th>S_kde</th>\n",
        "      <th>S_gauss</th>\n",
        "      <th>S_gauss_sig</th>\n",
        "      <th>S_gauss_err</th>\n",
        "      <th>nt_mean</th>\n",
        "    </tr>\n",
        "    <tr>\n",
        "      <th>sample</th>\n",
        "      <th></th>\n",
        "      <th></th>\n",
        "      <th></th>\n",
        "      <th></th>\n",
        "      <th></th>\n",
        "      <th></th>\n",
        "      <th></th>\n",
        "      <th></th>\n",
        "      <th></th>\n",
        "      <th></th>\n",
        "      <th></th>\n",
        "    </tr>\n",
        "  </thead>\n",
        "  <tbody>\n",
        "    <tr>\n",
        "      <th>7d</th>\n",
        "      <td>  667</td>\n",
        "      <td>  611</td>\n",
        "      <td> 0.9356</td>\n",
        "      <td> 0.929024</td>\n",
        "      <td> 0.053870</td>\n",
        "      <td> 0.002179</td>\n",
        "      <td> 0.5822</td>\n",
        "      <td> 0.574825</td>\n",
        "      <td> 0.092543</td>\n",
        "      <td> 0.003744</td>\n",
        "      <td> 23.149194</td>\n",
        "    </tr>\n",
        "    <tr>\n",
        "      <th>12d</th>\n",
        "      <td> 1128</td>\n",
        "      <td> 1102</td>\n",
        "      <td> 0.7526</td>\n",
        "      <td> 0.750735</td>\n",
        "      <td> 0.081054</td>\n",
        "      <td> 0.002442</td>\n",
        "      <td> 0.5946</td>\n",
        "      <td> 0.586407</td>\n",
        "      <td> 0.096482</td>\n",
        "      <td> 0.002906</td>\n",
        "      <td> 23.289503</td>\n",
        "    </tr>\n",
        "    <tr>\n",
        "      <th>17d</th>\n",
        "      <td> 2475</td>\n",
        "      <td> 2450</td>\n",
        "      <td> 0.4910</td>\n",
        "      <td> 0.482356</td>\n",
        "      <td> 0.099150</td>\n",
        "      <td> 0.002003</td>\n",
        "      <td> 0.5872</td>\n",
        "      <td> 0.576365</td>\n",
        "      <td> 0.097532</td>\n",
        "      <td> 0.001970</td>\n",
        "      <td> 23.037763</td>\n",
        "    </tr>\n",
        "    <tr>\n",
        "      <th>22d</th>\n",
        "      <td> 2197</td>\n",
        "      <td> 2111</td>\n",
        "      <td> 0.2746</td>\n",
        "      <td> 0.279806</td>\n",
        "      <td> 0.068680</td>\n",
        "      <td> 0.001495</td>\n",
        "      <td> 0.5826</td>\n",
        "      <td> 0.583681</td>\n",
        "      <td> 0.102291</td>\n",
        "      <td> 0.002226</td>\n",
        "      <td> 26.511870</td>\n",
        "    </tr>\n",
        "    <tr>\n",
        "      <th>27d</th>\n",
        "      <td>  782</td>\n",
        "      <td>  761</td>\n",
        "      <td> 0.1944</td>\n",
        "      <td> 0.193718</td>\n",
        "      <td> 0.058629</td>\n",
        "      <td> 0.002125</td>\n",
        "      <td> 0.5778</td>\n",
        "      <td> 0.604493</td>\n",
        "      <td> 0.102489</td>\n",
        "      <td> 0.003715</td>\n",
        "      <td> 19.658119</td>\n",
        "    </tr>\n",
        "  </tbody>\n",
        "</table>\n",
        "</div>"
       ],
       "metadata": {},
       "output_type": "display_data",
       "text": [
        "        n_bursts_all  n_bursts_fret  E_kde_w  E_gauss_w  E_gauss_w_sig  \\\n",
        "sample                                                                   \n",
        "7d               667            611   0.9356   0.929024       0.053870   \n",
        "12d             1128           1102   0.7526   0.750735       0.081054   \n",
        "17d             2475           2450   0.4910   0.482356       0.099150   \n",
        "22d             2197           2111   0.2746   0.279806       0.068680   \n",
        "27d              782            761   0.1944   0.193718       0.058629   \n",
        "\n",
        "        E_gauss_w_err   S_kde   S_gauss  S_gauss_sig  S_gauss_err    nt_mean  \n",
        "sample                                                                        \n",
        "7d           0.002179  0.5822  0.574825     0.092543     0.003744  23.149194  \n",
        "12d          0.002442  0.5946  0.586407     0.096482     0.002906  23.289503  \n",
        "17d          0.002003  0.5872  0.576365     0.097532     0.001970  23.037763  \n",
        "22d          0.001495  0.5826  0.583681     0.102291     0.002226  26.511870  \n",
        "27d          0.002125  0.5778  0.604493     0.102489     0.003715  19.658119  "
       ]
      }
     ],
     "prompt_number": 6
    },
    {
     "cell_type": "code",
     "collapsed": false,
     "input": [
      "nb_name = 'usALEX-5samples-PR-raw-dir_ex_aa-fit-all-ph'\n",
      "run_notebook_ALEX(nb_name)"
     ],
     "language": "python",
     "metadata": {},
     "outputs": [
      {
       "html": [
        "<a href='usALEX-5samples-PR-raw-dir_ex_aa-fit-all-ph.ipynb' target='_blank'>usALEX-5samples-PR-raw-dir_ex_aa-fit-all-ph.ipynb</a><br>"
       ],
       "metadata": {},
       "output_type": "display_data",
       "text": [
        "C:\\Data\\Antonio\\software\\src\\multispot_paper\\usALEX-5samples-PR-raw-dir_ex_aa-fit-all-ph.ipynb"
       ]
      },
      {
       "html": [
        "<a href='out_notebooks/usALEX-5samples-PR-raw-dir_ex_aa-fit-all-ph-out-7d.ipynb' target='_blank'>out_notebooks/usALEX-5samples-PR-raw-dir_ex_aa-fit-all-ph-out-7d.ipynb</a><br>"
       ],
       "metadata": {},
       "output_type": "display_data",
       "text": [
        "C:\\Data\\Antonio\\software\\src\\multispot_paper\\out_notebooks\\usALEX-5samples-PR-raw-dir_ex_aa-fit-all-ph-out-7d.ipynb"
       ]
      },
      {
       "html": [
        "<a href='out_notebooks/usALEX-5samples-PR-raw-dir_ex_aa-fit-all-ph-out-12d.ipynb' target='_blank'>out_notebooks/usALEX-5samples-PR-raw-dir_ex_aa-fit-all-ph-out-12d.ipynb</a><br>"
       ],
       "metadata": {},
       "output_type": "display_data",
       "text": [
        "C:\\Data\\Antonio\\software\\src\\multispot_paper\\out_notebooks\\usALEX-5samples-PR-raw-dir_ex_aa-fit-all-ph-out-12d.ipynb"
       ]
      },
      {
       "html": [
        "<a href='out_notebooks/usALEX-5samples-PR-raw-dir_ex_aa-fit-all-ph-out-17d.ipynb' target='_blank'>out_notebooks/usALEX-5samples-PR-raw-dir_ex_aa-fit-all-ph-out-17d.ipynb</a><br>"
       ],
       "metadata": {},
       "output_type": "display_data",
       "text": [
        "C:\\Data\\Antonio\\software\\src\\multispot_paper\\out_notebooks\\usALEX-5samples-PR-raw-dir_ex_aa-fit-all-ph-out-17d.ipynb"
       ]
      },
      {
       "html": [
        "<a href='out_notebooks/usALEX-5samples-PR-raw-dir_ex_aa-fit-all-ph-out-22d.ipynb' target='_blank'>out_notebooks/usALEX-5samples-PR-raw-dir_ex_aa-fit-all-ph-out-22d.ipynb</a><br>"
       ],
       "metadata": {},
       "output_type": "display_data",
       "text": [
        "C:\\Data\\Antonio\\software\\src\\multispot_paper\\out_notebooks\\usALEX-5samples-PR-raw-dir_ex_aa-fit-all-ph-out-22d.ipynb"
       ]
      },
      {
       "html": [
        "<a href='out_notebooks/usALEX-5samples-PR-raw-dir_ex_aa-fit-all-ph-out-27d.ipynb' target='_blank'>out_notebooks/usALEX-5samples-PR-raw-dir_ex_aa-fit-all-ph-out-27d.ipynb</a><br>"
       ],
       "metadata": {},
       "output_type": "display_data",
       "text": [
        "C:\\Data\\Antonio\\software\\src\\multispot_paper\\out_notebooks\\usALEX-5samples-PR-raw-dir_ex_aa-fit-all-ph-out-27d.ipynb"
       ]
      },
      {
       "html": [
        "<div style=\"max-height:1000px;max-width:1500px;overflow:auto;\">\n",
        "<table border=\"1\" class=\"dataframe\">\n",
        "  <thead>\n",
        "    <tr style=\"text-align: right;\">\n",
        "      <th></th>\n",
        "      <th>n_bursts_aa</th>\n",
        "      <th>dir_ex_S_kde</th>\n",
        "      <th>dir_ex_S2p</th>\n",
        "      <th>dir_ex_S2pa</th>\n",
        "      <th>dir_ex_S_kde_w1</th>\n",
        "      <th>dir_ex_S_kde_w4</th>\n",
        "      <th>dir_ex_S_kde_w5</th>\n",
        "      <th>dir_ex_S2p_w5</th>\n",
        "      <th>dir_ex_S2p_w5a</th>\n",
        "    </tr>\n",
        "    <tr>\n",
        "      <th>sample</th>\n",
        "      <th></th>\n",
        "      <th></th>\n",
        "      <th></th>\n",
        "      <th></th>\n",
        "      <th></th>\n",
        "      <th></th>\n",
        "      <th></th>\n",
        "      <th></th>\n",
        "      <th></th>\n",
        "    </tr>\n",
        "  </thead>\n",
        "  <tbody>\n",
        "    <tr>\n",
        "      <th>7d</th>\n",
        "      <td> 392</td>\n",
        "      <td> 0.068148</td>\n",
        "      <td> 0.071882</td>\n",
        "      <td> 0.047784</td>\n",
        "      <td> 0.067920</td>\n",
        "      <td> 0.062473</td>\n",
        "      <td> 0.062473</td>\n",
        "      <td> 0.058747</td>\n",
        "      <td> 0.044157</td>\n",
        "    </tr>\n",
        "    <tr>\n",
        "      <th>12d</th>\n",
        "      <td> 169</td>\n",
        "      <td> 0.073422</td>\n",
        "      <td> 0.099533</td>\n",
        "      <td>-0.110758</td>\n",
        "      <td> 0.073422</td>\n",
        "      <td> 0.069519</td>\n",
        "      <td> 0.069519</td>\n",
        "      <td> 0.076190</td>\n",
        "      <td> 0.039622</td>\n",
        "    </tr>\n",
        "    <tr>\n",
        "      <th>17d</th>\n",
        "      <td> 372</td>\n",
        "      <td> 0.086720</td>\n",
        "      <td> 0.107571</td>\n",
        "      <td> 0.063848</td>\n",
        "      <td> 0.086012</td>\n",
        "      <td> 0.073422</td>\n",
        "      <td> 0.073422</td>\n",
        "      <td> 0.072394</td>\n",
        "      <td> 0.042876</td>\n",
        "    </tr>\n",
        "    <tr>\n",
        "      <th>22d</th>\n",
        "      <td> 331</td>\n",
        "      <td> 0.078749</td>\n",
        "      <td> 0.089854</td>\n",
        "      <td> 0.057487</td>\n",
        "      <td> 0.078051</td>\n",
        "      <td> 0.070435</td>\n",
        "      <td> 0.070435</td>\n",
        "      <td> 0.073369</td>\n",
        "      <td> 0.050281</td>\n",
        "    </tr>\n",
        "    <tr>\n",
        "      <th>27d</th>\n",
        "      <td>  61</td>\n",
        "      <td> 0.040150</td>\n",
        "      <td> 0.120760</td>\n",
        "      <td> 0.020632</td>\n",
        "      <td> 0.040150</td>\n",
        "      <td> 0.044932</td>\n",
        "      <td> 0.044932</td>\n",
        "      <td> 0.038971</td>\n",
        "      <td> 0.018800</td>\n",
        "    </tr>\n",
        "  </tbody>\n",
        "</table>\n",
        "</div>"
       ],
       "metadata": {},
       "output_type": "display_data",
       "text": [
        "        n_bursts_aa  dir_ex_S_kde  dir_ex_S2p  dir_ex_S2pa  dir_ex_S_kde_w1  \\\n",
        "sample                                                                        \n",
        "7d              392      0.068148    0.071882     0.047784         0.067920   \n",
        "12d             169      0.073422    0.099533    -0.110758         0.073422   \n",
        "17d             372      0.086720    0.107571     0.063848         0.086012   \n",
        "22d             331      0.078749    0.089854     0.057487         0.078051   \n",
        "27d              61      0.040150    0.120760     0.020632         0.040150   \n",
        "\n",
        "        dir_ex_S_kde_w4  dir_ex_S_kde_w5  dir_ex_S2p_w5  dir_ex_S2p_w5a  \n",
        "sample                                                                   \n",
        "7d             0.062473         0.062473       0.058747        0.044157  \n",
        "12d            0.069519         0.069519       0.076190        0.039622  \n",
        "17d            0.073422         0.073422       0.072394        0.042876  \n",
        "22d            0.070435         0.070435       0.073369        0.050281  \n",
        "27d            0.044932         0.044932       0.038971        0.018800  "
       ]
      }
     ],
     "prompt_number": 7
    },
    {
     "cell_type": "code",
     "collapsed": false,
     "input": [
      "nb_name = 'usALEX-5samples-PR-raw-dir_ex_aa-fit-AexAem'\n",
      "run_notebook_ALEX(nb_name)"
     ],
     "language": "python",
     "metadata": {},
     "outputs": [
      {
       "html": [
        "<a href='usALEX-5samples-PR-raw-dir_ex_aa-fit-AexAem.ipynb' target='_blank'>usALEX-5samples-PR-raw-dir_ex_aa-fit-AexAem.ipynb</a><br>"
       ],
       "metadata": {},
       "output_type": "display_data",
       "text": [
        "C:\\Data\\Antonio\\software\\src\\multispot_paper\\usALEX-5samples-PR-raw-dir_ex_aa-fit-AexAem.ipynb"
       ]
      },
      {
       "html": [
        "<a href='out_notebooks/usALEX-5samples-PR-raw-dir_ex_aa-fit-AexAem-out-7d.ipynb' target='_blank'>out_notebooks/usALEX-5samples-PR-raw-dir_ex_aa-fit-AexAem-out-7d.ipynb</a><br>"
       ],
       "metadata": {},
       "output_type": "display_data",
       "text": [
        "C:\\Data\\Antonio\\software\\src\\multispot_paper\\out_notebooks\\usALEX-5samples-PR-raw-dir_ex_aa-fit-AexAem-out-7d.ipynb"
       ]
      },
      {
       "html": [
        "<a href='out_notebooks/usALEX-5samples-PR-raw-dir_ex_aa-fit-AexAem-out-12d.ipynb' target='_blank'>out_notebooks/usALEX-5samples-PR-raw-dir_ex_aa-fit-AexAem-out-12d.ipynb</a><br>"
       ],
       "metadata": {},
       "output_type": "display_data",
       "text": [
        "C:\\Data\\Antonio\\software\\src\\multispot_paper\\out_notebooks\\usALEX-5samples-PR-raw-dir_ex_aa-fit-AexAem-out-12d.ipynb"
       ]
      },
      {
       "html": [
        "<a href='out_notebooks/usALEX-5samples-PR-raw-dir_ex_aa-fit-AexAem-out-17d.ipynb' target='_blank'>out_notebooks/usALEX-5samples-PR-raw-dir_ex_aa-fit-AexAem-out-17d.ipynb</a><br>"
       ],
       "metadata": {},
       "output_type": "display_data",
       "text": [
        "C:\\Data\\Antonio\\software\\src\\multispot_paper\\out_notebooks\\usALEX-5samples-PR-raw-dir_ex_aa-fit-AexAem-out-17d.ipynb"
       ]
      },
      {
       "html": [
        "<a href='out_notebooks/usALEX-5samples-PR-raw-dir_ex_aa-fit-AexAem-out-22d.ipynb' target='_blank'>out_notebooks/usALEX-5samples-PR-raw-dir_ex_aa-fit-AexAem-out-22d.ipynb</a><br>"
       ],
       "metadata": {},
       "output_type": "display_data",
       "text": [
        "C:\\Data\\Antonio\\software\\src\\multispot_paper\\out_notebooks\\usALEX-5samples-PR-raw-dir_ex_aa-fit-AexAem-out-22d.ipynb"
       ]
      },
      {
       "html": [
        "<a href='out_notebooks/usALEX-5samples-PR-raw-dir_ex_aa-fit-AexAem-out-27d.ipynb' target='_blank'>out_notebooks/usALEX-5samples-PR-raw-dir_ex_aa-fit-AexAem-out-27d.ipynb</a><br>"
       ],
       "metadata": {},
       "output_type": "display_data",
       "text": [
        "C:\\Data\\Antonio\\software\\src\\multispot_paper\\out_notebooks\\usALEX-5samples-PR-raw-dir_ex_aa-fit-AexAem-out-27d.ipynb"
       ]
      },
      {
       "html": [
        "<div style=\"max-height:1000px;max-width:1500px;overflow:auto;\">\n",
        "<table border=\"1\" class=\"dataframe\">\n",
        "  <thead>\n",
        "    <tr style=\"text-align: right;\">\n",
        "      <th></th>\n",
        "      <th>n_bursts_aa</th>\n",
        "      <th>dir_ex_S_kde</th>\n",
        "      <th>dir_ex_S2p</th>\n",
        "      <th>dir_ex_S2pa</th>\n",
        "      <th>dir_ex_S_kde_w1</th>\n",
        "      <th>dir_ex_S_kde_w4</th>\n",
        "      <th>dir_ex_S_kde_w5</th>\n",
        "      <th>dir_ex_S2p_w5</th>\n",
        "      <th>dir_ex_S2p_w5a</th>\n",
        "    </tr>\n",
        "    <tr>\n",
        "      <th>sample</th>\n",
        "      <th></th>\n",
        "      <th></th>\n",
        "      <th></th>\n",
        "      <th></th>\n",
        "      <th></th>\n",
        "      <th></th>\n",
        "      <th></th>\n",
        "      <th></th>\n",
        "      <th></th>\n",
        "    </tr>\n",
        "  </thead>\n",
        "  <tbody>\n",
        "    <tr>\n",
        "      <th>7d</th>\n",
        "      <td> 630</td>\n",
        "      <td> 0.061797</td>\n",
        "      <td> 0.068843</td>\n",
        "      <td> 0.061136</td>\n",
        "      <td> 0.061571</td>\n",
        "      <td> 0.055743</td>\n",
        "      <td> 0.055743</td>\n",
        "      <td> 0.055732</td>\n",
        "      <td> 0.050935</td>\n",
        "    </tr>\n",
        "    <tr>\n",
        "      <th>12d</th>\n",
        "      <td> 269</td>\n",
        "      <td> 0.062473</td>\n",
        "      <td> 0.091844</td>\n",
        "      <td> 0.044395</td>\n",
        "      <td> 0.062473</td>\n",
        "      <td> 0.058873</td>\n",
        "      <td> 0.058873</td>\n",
        "      <td> 0.058349</td>\n",
        "      <td> 0.048264</td>\n",
        "    </tr>\n",
        "    <tr>\n",
        "      <th>17d</th>\n",
        "      <td> 610</td>\n",
        "      <td> 0.085305</td>\n",
        "      <td> 0.120958</td>\n",
        "      <td> 0.070893</td>\n",
        "      <td> 0.084363</td>\n",
        "      <td> 0.078051</td>\n",
        "      <td> 0.078051</td>\n",
        "      <td> 0.074778</td>\n",
        "      <td> 0.061504</td>\n",
        "    </tr>\n",
        "    <tr>\n",
        "      <th>22d</th>\n",
        "      <td> 430</td>\n",
        "      <td> 0.085305</td>\n",
        "      <td> 0.109323</td>\n",
        "      <td> 0.057411</td>\n",
        "      <td> 0.084599</td>\n",
        "      <td> 0.072271</td>\n",
        "      <td> 0.072271</td>\n",
        "      <td> 0.062908</td>\n",
        "      <td> 0.119648</td>\n",
        "    </tr>\n",
        "    <tr>\n",
        "      <th>27d</th>\n",
        "      <td> 129</td>\n",
        "      <td> 0.050420</td>\n",
        "      <td> 0.081553</td>\n",
        "      <td> 0.034040</td>\n",
        "      <td> 0.050200</td>\n",
        "      <td> 0.070893</td>\n",
        "      <td> 0.070893</td>\n",
        "      <td> 0.051981</td>\n",
        "      <td> 0.015566</td>\n",
        "    </tr>\n",
        "  </tbody>\n",
        "</table>\n",
        "</div>"
       ],
       "metadata": {},
       "output_type": "display_data",
       "text": [
        "        n_bursts_aa  dir_ex_S_kde  dir_ex_S2p  dir_ex_S2pa  dir_ex_S_kde_w1  \\\n",
        "sample                                                                        \n",
        "7d              630      0.061797    0.068843     0.061136         0.061571   \n",
        "12d             269      0.062473    0.091844     0.044395         0.062473   \n",
        "17d             610      0.085305    0.120958     0.070893         0.084363   \n",
        "22d             430      0.085305    0.109323     0.057411         0.084599   \n",
        "27d             129      0.050420    0.081553     0.034040         0.050200   \n",
        "\n",
        "        dir_ex_S_kde_w4  dir_ex_S_kde_w5  dir_ex_S2p_w5  dir_ex_S2p_w5a  \n",
        "sample                                                                   \n",
        "7d             0.055743         0.055743       0.055732        0.050935  \n",
        "12d            0.058873         0.058873       0.058349        0.048264  \n",
        "17d            0.078051         0.078051       0.074778        0.061504  \n",
        "22d            0.072271         0.072271       0.062908        0.119648  \n",
        "27d            0.070893         0.070893       0.051981        0.015566  "
       ]
      }
     ],
     "prompt_number": 8
    },
    {
     "cell_type": "markdown",
     "metadata": {},
     "source": [
      "> ** NOTE:** Remeber to execute now\n",
      "> * [usALEX - Corrections - Leakage fit](usALEX - Corrections - Leakage fit.ipynb)\n",
      "> * [usALEX - Corrections - Direct excitation fit](usALEX - Corrections - Direct excitation fit.ipynb)"
     ]
    },
    {
     "cell_type": "code",
     "collapsed": false,
     "input": [
      "nb_name = 'usALEX-5samples-PR-leakage-dir-ex-all-ph'\n",
      "run_notebook_ALEX(nb_name)"
     ],
     "language": "python",
     "metadata": {},
     "outputs": [
      {
       "html": [
        "<a href='usALEX-5samples-PR-leakage-dir-ex-all-ph.ipynb' target='_blank'>usALEX-5samples-PR-leakage-dir-ex-all-ph.ipynb</a><br>"
       ],
       "metadata": {},
       "output_type": "display_data",
       "text": [
        "C:\\Data\\Antonio\\software\\src\\multispot_paper\\usALEX-5samples-PR-leakage-dir-ex-all-ph.ipynb"
       ]
      },
      {
       "html": [
        "<a href='out_notebooks/usALEX-5samples-PR-leakage-dir-ex-all-ph-out-7d.ipynb' target='_blank'>out_notebooks/usALEX-5samples-PR-leakage-dir-ex-all-ph-out-7d.ipynb</a><br>"
       ],
       "metadata": {},
       "output_type": "display_data",
       "text": [
        "C:\\Data\\Antonio\\software\\src\\multispot_paper\\out_notebooks\\usALEX-5samples-PR-leakage-dir-ex-all-ph-out-7d.ipynb"
       ]
      },
      {
       "html": [
        "<a href='out_notebooks/usALEX-5samples-PR-leakage-dir-ex-all-ph-out-12d.ipynb' target='_blank'>out_notebooks/usALEX-5samples-PR-leakage-dir-ex-all-ph-out-12d.ipynb</a><br>"
       ],
       "metadata": {},
       "output_type": "display_data",
       "text": [
        "C:\\Data\\Antonio\\software\\src\\multispot_paper\\out_notebooks\\usALEX-5samples-PR-leakage-dir-ex-all-ph-out-12d.ipynb"
       ]
      },
      {
       "html": [
        "<a href='out_notebooks/usALEX-5samples-PR-leakage-dir-ex-all-ph-out-17d.ipynb' target='_blank'>out_notebooks/usALEX-5samples-PR-leakage-dir-ex-all-ph-out-17d.ipynb</a><br>"
       ],
       "metadata": {},
       "output_type": "display_data",
       "text": [
        "C:\\Data\\Antonio\\software\\src\\multispot_paper\\out_notebooks\\usALEX-5samples-PR-leakage-dir-ex-all-ph-out-17d.ipynb"
       ]
      },
      {
       "html": [
        "<a href='out_notebooks/usALEX-5samples-PR-leakage-dir-ex-all-ph-out-22d.ipynb' target='_blank'>out_notebooks/usALEX-5samples-PR-leakage-dir-ex-all-ph-out-22d.ipynb</a><br>"
       ],
       "metadata": {},
       "output_type": "display_data",
       "text": [
        "C:\\Data\\Antonio\\software\\src\\multispot_paper\\out_notebooks\\usALEX-5samples-PR-leakage-dir-ex-all-ph-out-22d.ipynb"
       ]
      },
      {
       "html": [
        "<a href='out_notebooks/usALEX-5samples-PR-leakage-dir-ex-all-ph-out-27d.ipynb' target='_blank'>out_notebooks/usALEX-5samples-PR-leakage-dir-ex-all-ph-out-27d.ipynb</a><br>"
       ],
       "metadata": {},
       "output_type": "display_data",
       "text": [
        "C:\\Data\\Antonio\\software\\src\\multispot_paper\\out_notebooks\\usALEX-5samples-PR-leakage-dir-ex-all-ph-out-27d.ipynb"
       ]
      },
      {
       "html": [
        "<div style=\"max-height:1000px;max-width:1500px;overflow:auto;\">\n",
        "<table border=\"1\" class=\"dataframe\">\n",
        "  <thead>\n",
        "    <tr style=\"text-align: right;\">\n",
        "      <th></th>\n",
        "      <th>n_bursts_all</th>\n",
        "      <th>n_bursts_do</th>\n",
        "      <th>n_bursts_fret</th>\n",
        "      <th>E_kde_w</th>\n",
        "      <th>E_gauss_w</th>\n",
        "      <th>E_gauss_w_sig</th>\n",
        "      <th>E_gauss_w_err</th>\n",
        "      <th>S_kde</th>\n",
        "      <th>S_gauss</th>\n",
        "      <th>S_gauss_sig</th>\n",
        "      <th>S_gauss_err</th>\n",
        "      <th>E_pr_do_kde</th>\n",
        "      <th>nt_mean</th>\n",
        "    </tr>\n",
        "    <tr>\n",
        "      <th>sample</th>\n",
        "      <th></th>\n",
        "      <th></th>\n",
        "      <th></th>\n",
        "      <th></th>\n",
        "      <th></th>\n",
        "      <th></th>\n",
        "      <th></th>\n",
        "      <th></th>\n",
        "      <th></th>\n",
        "      <th></th>\n",
        "      <th></th>\n",
        "      <th></th>\n",
        "      <th></th>\n",
        "    </tr>\n",
        "  </thead>\n",
        "  <tbody>\n",
        "    <tr>\n",
        "      <th>7d</th>\n",
        "      <td> 1167</td>\n",
        "      <td> 582</td>\n",
        "      <td>  542</td>\n",
        "      <td> 0.9302</td>\n",
        "      <td> 0.925533</td>\n",
        "      <td> 0.059436</td>\n",
        "      <td> 0.002553</td>\n",
        "      <td> 0.5560</td>\n",
        "      <td> 0.552199</td>\n",
        "      <td> 0.092022</td>\n",
        "      <td> 0.003953</td>\n",
        "      <td> 0.0014</td>\n",
        "      <td> 22.198914</td>\n",
        "    </tr>\n",
        "    <tr>\n",
        "      <th>12d</th>\n",
        "      <td> 1303</td>\n",
        "      <td> 329</td>\n",
        "      <td>  944</td>\n",
        "      <td> 0.7430</td>\n",
        "      <td> 0.731184</td>\n",
        "      <td> 0.092252</td>\n",
        "      <td> 0.003003</td>\n",
        "      <td> 0.5798</td>\n",
        "      <td> 0.560314</td>\n",
        "      <td> 0.102043</td>\n",
        "      <td> 0.003321</td>\n",
        "      <td> 0.0164</td>\n",
        "      <td> 21.841826</td>\n",
        "    </tr>\n",
        "    <tr>\n",
        "      <th>17d</th>\n",
        "      <td> 2482</td>\n",
        "      <td> 462</td>\n",
        "      <td> 1957</td>\n",
        "      <td> 0.4310</td>\n",
        "      <td> 0.426150</td>\n",
        "      <td> 0.114118</td>\n",
        "      <td> 0.002580</td>\n",
        "      <td> 0.5560</td>\n",
        "      <td> 0.537736</td>\n",
        "      <td> 0.107983</td>\n",
        "      <td> 0.002441</td>\n",
        "      <td> 0.0126</td>\n",
        "      <td> 21.054511</td>\n",
        "    </tr>\n",
        "    <tr>\n",
        "      <th>22d</th>\n",
        "      <td> 2047</td>\n",
        "      <td> 319</td>\n",
        "      <td> 1666</td>\n",
        "      <td> 0.1788</td>\n",
        "      <td> 0.182669</td>\n",
        "      <td> 0.078315</td>\n",
        "      <td> 0.001919</td>\n",
        "      <td> 0.5540</td>\n",
        "      <td> 0.549958</td>\n",
        "      <td> 0.109928</td>\n",
        "      <td> 0.002693</td>\n",
        "      <td> 0.0008</td>\n",
        "      <td> 22.918245</td>\n",
        "    </tr>\n",
        "    <tr>\n",
        "      <th>27d</th>\n",
        "      <td>  786</td>\n",
        "      <td> 160</td>\n",
        "      <td>  584</td>\n",
        "      <td> 0.0834</td>\n",
        "      <td> 0.084095</td>\n",
        "      <td> 0.070112</td>\n",
        "      <td> 0.002901</td>\n",
        "      <td> 0.5150</td>\n",
        "      <td> 0.560113</td>\n",
        "      <td> 0.111518</td>\n",
        "      <td> 0.004615</td>\n",
        "      <td>-0.0068</td>\n",
        "      <td> 16.980815</td>\n",
        "    </tr>\n",
        "  </tbody>\n",
        "</table>\n",
        "</div>"
       ],
       "metadata": {},
       "output_type": "display_data",
       "text": [
        "        n_bursts_all  n_bursts_do  n_bursts_fret  E_kde_w  E_gauss_w  \\\n",
        "sample                                                                 \n",
        "7d              1167          582            542   0.9302   0.925533   \n",
        "12d             1303          329            944   0.7430   0.731184   \n",
        "17d             2482          462           1957   0.4310   0.426150   \n",
        "22d             2047          319           1666   0.1788   0.182669   \n",
        "27d              786          160            584   0.0834   0.084095   \n",
        "\n",
        "        E_gauss_w_sig  E_gauss_w_err   S_kde   S_gauss  S_gauss_sig  \\\n",
        "sample                                                                \n",
        "7d           0.059436       0.002553  0.5560  0.552199     0.092022   \n",
        "12d          0.092252       0.003003  0.5798  0.560314     0.102043   \n",
        "17d          0.114118       0.002580  0.5560  0.537736     0.107983   \n",
        "22d          0.078315       0.001919  0.5540  0.549958     0.109928   \n",
        "27d          0.070112       0.002901  0.5150  0.560113     0.111518   \n",
        "\n",
        "        S_gauss_err  E_pr_do_kde    nt_mean  \n",
        "sample                                       \n",
        "7d         0.003953       0.0014  22.198914  \n",
        "12d        0.003321       0.0164  21.841826  \n",
        "17d        0.002441       0.0126  21.054511  \n",
        "22d        0.002693       0.0008  22.918245  \n",
        "27d        0.004615      -0.0068  16.980815  "
       ]
      }
     ],
     "prompt_number": 9
    },
    {
     "cell_type": "markdown",
     "metadata": {},
     "source": [
      "> ** NOTE:** Remeber to execute now\n",
      "> * [usALEX - Corrections - Gamma factor fit](usALEX - Corrections - Gamma factor fit.ipynb)"
     ]
    },
    {
     "cell_type": "code",
     "collapsed": false,
     "input": [
      "nb_name = 'usALEX-5samples-E-corrected-all-ph'\n",
      "run_notebook_ALEX(nb_name)"
     ],
     "language": "python",
     "metadata": {},
     "outputs": [
      {
       "html": [
        "<a href='usALEX-5samples-E-corrected-all-ph.ipynb' target='_blank'>usALEX-5samples-E-corrected-all-ph.ipynb</a><br>"
       ],
       "metadata": {},
       "output_type": "display_data",
       "text": [
        "C:\\Data\\Antonio\\software\\src\\multispot_paper\\usALEX-5samples-E-corrected-all-ph.ipynb"
       ]
      },
      {
       "html": [
        "<a href='out_notebooks/usALEX-5samples-E-corrected-all-ph-out-7d.ipynb' target='_blank'>out_notebooks/usALEX-5samples-E-corrected-all-ph-out-7d.ipynb</a><br>"
       ],
       "metadata": {},
       "output_type": "display_data",
       "text": [
        "C:\\Data\\Antonio\\software\\src\\multispot_paper\\out_notebooks\\usALEX-5samples-E-corrected-all-ph-out-7d.ipynb"
       ]
      },
      {
       "html": [
        "<a href='out_notebooks/usALEX-5samples-E-corrected-all-ph-out-12d.ipynb' target='_blank'>out_notebooks/usALEX-5samples-E-corrected-all-ph-out-12d.ipynb</a><br>"
       ],
       "metadata": {},
       "output_type": "display_data",
       "text": [
        "C:\\Data\\Antonio\\software\\src\\multispot_paper\\out_notebooks\\usALEX-5samples-E-corrected-all-ph-out-12d.ipynb"
       ]
      },
      {
       "html": [
        "<a href='out_notebooks/usALEX-5samples-E-corrected-all-ph-out-17d.ipynb' target='_blank'>out_notebooks/usALEX-5samples-E-corrected-all-ph-out-17d.ipynb</a><br>"
       ],
       "metadata": {},
       "output_type": "display_data",
       "text": [
        "C:\\Data\\Antonio\\software\\src\\multispot_paper\\out_notebooks\\usALEX-5samples-E-corrected-all-ph-out-17d.ipynb"
       ]
      },
      {
       "html": [
        "<a href='out_notebooks/usALEX-5samples-E-corrected-all-ph-out-22d.ipynb' target='_blank'>out_notebooks/usALEX-5samples-E-corrected-all-ph-out-22d.ipynb</a><br>"
       ],
       "metadata": {},
       "output_type": "display_data",
       "text": [
        "C:\\Data\\Antonio\\software\\src\\multispot_paper\\out_notebooks\\usALEX-5samples-E-corrected-all-ph-out-22d.ipynb"
       ]
      },
      {
       "html": [
        "<a href='out_notebooks/usALEX-5samples-E-corrected-all-ph-out-27d.ipynb' target='_blank'>out_notebooks/usALEX-5samples-E-corrected-all-ph-out-27d.ipynb</a><br>"
       ],
       "metadata": {},
       "output_type": "display_data",
       "text": [
        "C:\\Data\\Antonio\\software\\src\\multispot_paper\\out_notebooks\\usALEX-5samples-E-corrected-all-ph-out-27d.ipynb"
       ]
      },
      {
       "html": [
        "<div style=\"max-height:1000px;max-width:1500px;overflow:auto;\">\n",
        "<table border=\"1\" class=\"dataframe\">\n",
        "  <thead>\n",
        "    <tr style=\"text-align: right;\">\n",
        "      <th></th>\n",
        "      <th>n_bursts_all</th>\n",
        "      <th>n_bursts_do</th>\n",
        "      <th>n_bursts_fret</th>\n",
        "      <th>E_kde_w</th>\n",
        "      <th>E_gauss_w</th>\n",
        "      <th>E_gauss_w_sig</th>\n",
        "      <th>E_gauss_w_err</th>\n",
        "      <th>S_kde</th>\n",
        "      <th>S_gauss</th>\n",
        "      <th>S_gauss_sig</th>\n",
        "      <th>S_gauss_err</th>\n",
        "      <th>E_pr_do_kde</th>\n",
        "      <th>nt_mean</th>\n",
        "    </tr>\n",
        "    <tr>\n",
        "      <th>sample</th>\n",
        "      <th></th>\n",
        "      <th></th>\n",
        "      <th></th>\n",
        "      <th></th>\n",
        "      <th></th>\n",
        "      <th></th>\n",
        "      <th></th>\n",
        "      <th></th>\n",
        "      <th></th>\n",
        "      <th></th>\n",
        "      <th></th>\n",
        "      <th></th>\n",
        "      <th></th>\n",
        "    </tr>\n",
        "  </thead>\n",
        "  <tbody>\n",
        "    <tr>\n",
        "      <th>7d</th>\n",
        "      <td> 1167</td>\n",
        "      <td> 582</td>\n",
        "      <td>  541</td>\n",
        "      <td> 0.9300</td>\n",
        "      <td> 0.925100</td>\n",
        "      <td> 0.060241</td>\n",
        "      <td> 0.002590</td>\n",
        "      <td> 0.5560</td>\n",
        "      <td> 0.552179</td>\n",
        "      <td> 0.092067</td>\n",
        "      <td> 0.003958</td>\n",
        "      <td> 0.0014</td>\n",
        "      <td> 22.198914</td>\n",
        "    </tr>\n",
        "    <tr>\n",
        "      <th>12d</th>\n",
        "      <td> 1303</td>\n",
        "      <td> 329</td>\n",
        "      <td>  944</td>\n",
        "      <td> 0.7424</td>\n",
        "      <td> 0.730815</td>\n",
        "      <td> 0.092007</td>\n",
        "      <td> 0.002995</td>\n",
        "      <td> 0.5800</td>\n",
        "      <td> 0.560682</td>\n",
        "      <td> 0.101914</td>\n",
        "      <td> 0.003317</td>\n",
        "      <td> 0.0164</td>\n",
        "      <td> 21.841826</td>\n",
        "    </tr>\n",
        "    <tr>\n",
        "      <th>17d</th>\n",
        "      <td> 2482</td>\n",
        "      <td> 462</td>\n",
        "      <td> 1957</td>\n",
        "      <td> 0.4302</td>\n",
        "      <td> 0.425312</td>\n",
        "      <td> 0.113818</td>\n",
        "      <td> 0.002573</td>\n",
        "      <td> 0.5564</td>\n",
        "      <td> 0.538061</td>\n",
        "      <td> 0.108088</td>\n",
        "      <td> 0.002443</td>\n",
        "      <td> 0.0126</td>\n",
        "      <td> 21.054511</td>\n",
        "    </tr>\n",
        "    <tr>\n",
        "      <th>22d</th>\n",
        "      <td> 2047</td>\n",
        "      <td> 319</td>\n",
        "      <td> 1666</td>\n",
        "      <td> 0.1784</td>\n",
        "      <td> 0.182157</td>\n",
        "      <td> 0.078120</td>\n",
        "      <td> 0.001914</td>\n",
        "      <td> 0.5546</td>\n",
        "      <td> 0.550641</td>\n",
        "      <td> 0.110077</td>\n",
        "      <td> 0.002697</td>\n",
        "      <td> 0.0008</td>\n",
        "      <td> 22.918245</td>\n",
        "    </tr>\n",
        "    <tr>\n",
        "      <th>27d</th>\n",
        "      <td>  786</td>\n",
        "      <td> 160</td>\n",
        "      <td>  584</td>\n",
        "      <td> 0.0832</td>\n",
        "      <td> 0.083716</td>\n",
        "      <td> 0.070064</td>\n",
        "      <td> 0.002899</td>\n",
        "      <td> 0.5158</td>\n",
        "      <td> 0.560325</td>\n",
        "      <td> 0.111836</td>\n",
        "      <td> 0.004628</td>\n",
        "      <td>-0.0068</td>\n",
        "      <td> 16.980815</td>\n",
        "    </tr>\n",
        "  </tbody>\n",
        "</table>\n",
        "</div>"
       ],
       "metadata": {},
       "output_type": "display_data",
       "text": [
        "        n_bursts_all  n_bursts_do  n_bursts_fret  E_kde_w  E_gauss_w  \\\n",
        "sample                                                                 \n",
        "7d              1167          582            541   0.9300   0.925100   \n",
        "12d             1303          329            944   0.7424   0.730815   \n",
        "17d             2482          462           1957   0.4302   0.425312   \n",
        "22d             2047          319           1666   0.1784   0.182157   \n",
        "27d              786          160            584   0.0832   0.083716   \n",
        "\n",
        "        E_gauss_w_sig  E_gauss_w_err   S_kde   S_gauss  S_gauss_sig  \\\n",
        "sample                                                                \n",
        "7d           0.060241       0.002590  0.5560  0.552179     0.092067   \n",
        "12d          0.092007       0.002995  0.5800  0.560682     0.101914   \n",
        "17d          0.113818       0.002573  0.5564  0.538061     0.108088   \n",
        "22d          0.078120       0.001914  0.5546  0.550641     0.110077   \n",
        "27d          0.070064       0.002899  0.5158  0.560325     0.111836   \n",
        "\n",
        "        S_gauss_err  E_pr_do_kde    nt_mean  \n",
        "sample                                       \n",
        "7d         0.003958       0.0014  22.198914  \n",
        "12d        0.003317       0.0164  21.841826  \n",
        "17d        0.002443       0.0126  21.054511  \n",
        "22d        0.002697       0.0008  22.918245  \n",
        "27d        0.004628      -0.0068  16.980815  "
       ]
      }
     ],
     "prompt_number": 10
    },
    {
     "cell_type": "markdown",
     "metadata": {},
     "source": [
      "> ** NOTE:** Remeber to execute now\n",
      "> * [usALEX - Corrections - Direct excitation physical parameter](usALEX - Corrections - Direct excitation physical parameter.ipynb)"
     ]
    },
    {
     "cell_type": "code",
     "collapsed": false,
     "input": [
      "#run_notebook_ALEX(nb_name, data_ids=['27d'], remove_out=False)"
     ],
     "language": "python",
     "metadata": {},
     "outputs": []
    },
    {
     "cell_type": "code",
     "collapsed": false,
     "input": [
      "# Make some noise when the computation ends\n",
      "#!say -v Bells \"dong\""
     ],
     "language": "python",
     "metadata": {},
     "outputs": []
    },
    {
     "cell_type": "code",
     "collapsed": false,
     "input": [],
     "language": "python",
     "metadata": {},
     "outputs": []
    }
   ],
   "metadata": {}
  }
 ]
}