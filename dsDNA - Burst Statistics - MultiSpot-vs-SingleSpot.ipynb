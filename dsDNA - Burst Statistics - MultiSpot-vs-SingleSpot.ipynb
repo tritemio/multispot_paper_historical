{
 "cells": [
  {
   "cell_type": "markdown",
   "metadata": {},
   "source": [
    "# Burst statistics of 5 smFRET samples\n"
   ]
  },
  {
   "cell_type": "code",
   "execution_count": null,
   "metadata": {
    "collapsed": false
   },
   "outputs": [],
   "source": [
    "from fretbursts import *\n",
    "sns = init_notebook()"
   ]
  },
  {
   "cell_type": "code",
   "execution_count": null,
   "metadata": {
    "collapsed": false
   },
   "outputs": [],
   "source": [
    "import os\n",
    "from glob import glob\n",
    "import pandas as pd\n",
    "from IPython.display import display\n",
    "%config InlineBackend.figure_format='retina'  # for hi-dpi displays"
   ]
  },
  {
   "cell_type": "code",
   "execution_count": null,
   "metadata": {
    "collapsed": false
   },
   "outputs": [],
   "source": [
    "import lmfit\n",
    "print('lmfit version:', lmfit.__version__)"
   ]
  },
  {
   "cell_type": "code",
   "execution_count": null,
   "metadata": {
    "collapsed": true
   },
   "outputs": [],
   "source": [
    "figure_size = (5, 4)\n",
    "default_figure = lambda: plt.subplots(figsize=figure_size)\n",
    "save_figures = True\n",
    "\n",
    "def savefig(filename, **kwargs):\n",
    "    if not save_figures:\n",
    "        return\n",
    "    import os\n",
    "    dir_ = 'figures/'\n",
    "    kwargs_ = dict(dpi=300, bbox_inches='tight')\n",
    "                   #frameon=True, facecolor='white', transparent=False)\n",
    "    kwargs_.update(kwargs)\n",
    "    plt.savefig(dir_ + filename, **kwargs_)\n",
    "    print('Saved: %s' % (dir_ + filename))"
   ]
  },
  {
   "cell_type": "markdown",
   "metadata": {},
   "source": [
    "## 8-spot paper plot style"
   ]
  },
  {
   "cell_type": "code",
   "execution_count": null,
   "metadata": {
    "collapsed": false
   },
   "outputs": [],
   "source": [
    "PLOT_DIR = './figure/'"
   ]
  },
  {
   "cell_type": "code",
   "execution_count": null,
   "metadata": {
    "collapsed": false
   },
   "outputs": [],
   "source": [
    "import matplotlib as mpl\n",
    "from cycler import cycler\n",
    "\n",
    "bmap = sns.color_palette(\"Set1\", 9)\n",
    "colors = np.array(bmap)[(1,0,2,3,4,8,6,7), :]\n",
    "mpl.rcParams['axes.prop_cycle'] = cycler('color', colors)\n",
    "colors_labels = ['blue', 'red', 'green', 'violet', 'orange', 'gray', 'brown', 'pink', ]\n",
    "for c, cl in zip(colors, colors_labels):\n",
    "    locals()[cl] = tuple(c) # assign variables with color names\n",
    "sns.palplot(colors)"
   ]
  },
  {
   "cell_type": "markdown",
   "metadata": {},
   "source": [
    "# Compute Burst Data"
   ]
  },
  {
   "cell_type": "markdown",
   "metadata": {},
   "source": [
    "## Burst Search Parameters"
   ]
  },
  {
   "cell_type": "code",
   "execution_count": null,
   "metadata": {
    "collapsed": false
   },
   "outputs": [],
   "source": [
    "m = 10\n",
    "\n",
    "rate_th = 25e3\n",
    "ph_sel = Ph_sel(Dex='DAem')\n",
    "\n",
    "bg_kwargs_auto = dict(fun=bg.exp_fit,\n",
    "                 time_s = 30,\n",
    "                 tail_min_us = 'auto',\n",
    "                 F_bg=1.7,)\n",
    "\n",
    "samples = ('7d', '12d', '17d', '22d', '27d', 'DO')"
   ]
  },
  {
   "cell_type": "markdown",
   "metadata": {},
   "source": [
    "## Multispot\n",
    "\n",
    "### Correction Factors"
   ]
  },
  {
   "cell_type": "markdown",
   "metadata": {},
   "source": [
    "Load the **leakage coefficient** from disk (computed in [Multi-spot 5-Samples analysis - Leakage coefficient - Summary](Multi-spot 5-Samples analysis - Leakage coefficient - Summary.ipynb)):"
   ]
  },
  {
   "cell_type": "code",
   "execution_count": null,
   "metadata": {
    "collapsed": false
   },
   "outputs": [],
   "source": [
    "leakage_coeff_fname = 'results/Multi-spot - leakage coefficient KDE wmean Dem.csv'\n",
    "leakageM = np.loadtxt(leakage_coeff_fname, ndmin=1)\n",
    "\n",
    "print('Multispot Leakage Coefficient:', leakageM)"
   ]
  },
  {
   "cell_type": "markdown",
   "metadata": {},
   "source": [
    "Load the **direct excitation coefficient** ($d_{dirT}$) from disk (computed in [usALEX - Corrections - Direct excitation physical parameter](usALEX - Corrections - Direct excitation physical parameter.ipynb)):"
   ]
  },
  {
   "cell_type": "code",
   "execution_count": null,
   "metadata": {
    "collapsed": false
   },
   "outputs": [],
   "source": [
    "dir_ex_coeff_fname = 'results/usALEX - direct excitation coefficient dir_ex_t beta.csv'\n",
    "dir_ex_t = np.loadtxt(dir_ex_coeff_fname, ndmin=1)\n",
    "\n",
    "print('Direct excitation coefficient (dir_ex_t):', dir_ex_t)"
   ]
  },
  {
   "cell_type": "code",
   "execution_count": null,
   "metadata": {
    "collapsed": false
   },
   "outputs": [],
   "source": [
    "gamma_fname = 'results/Multi-spot - gamma factor.csv'\n",
    "gammaM = np.loadtxt(gamma_fname, ndmin=1)\n",
    "\n",
    "print('Multispot Gamma Factor (gamma):', gammaM)"
   ]
  },
  {
   "cell_type": "markdown",
   "metadata": {},
   "source": [
    "### Multispot Data files"
   ]
  },
  {
   "cell_type": "code",
   "execution_count": null,
   "metadata": {
    "collapsed": false
   },
   "outputs": [],
   "source": [
    "data_dir = './data/multispot/'\n",
    "file_list = sorted(glob(data_dir + '*.hdf5'))\n",
    "labels = ['7d', '12d', '17d', '22d', '27d', 'DO']\n",
    "files_dict = {lab: fname for lab, fname in zip(sorted(labels), file_list)}\n",
    "files_dict"
   ]
  },
  {
   "cell_type": "code",
   "execution_count": null,
   "metadata": {
    "collapsed": false
   },
   "outputs": [],
   "source": [
    "BurstsM = {}\n",
    "for data_id in samples:\n",
    "    dx = loader.photon_hdf5(files_dict[data_id])\n",
    "    dx.calc_bg(**bg_kwargs_auto)\n",
    "    dx.leakage = leakageM\n",
    "    dx.burst_search(m=m, min_rate_cps=rate_th, ph_sel=ph_sel)\n",
    "    \n",
    "    dx.calc_max_rate(m=m, ph_sel=Ph_sel(Dex='Aem'))\n",
    "    max_rate_Aem = dx.max_rate\n",
    "    dx.calc_max_rate(m=m, ph_sel=Ph_sel(Dex='Dem'))\n",
    "    max_rate_Dem = dx.max_rate\n",
    "    dx.calc_max_rate(m=m, ph_sel=Ph_sel(Dex='DAem'))\n",
    "    bursts = pd.concat([bext.burst_data(dx, ich=ich)\n",
    "                        .assign(ich=ich)\n",
    "                        .assign(max_rate_Dem=max_rate_Dem[ich])\n",
    "                        .assign(max_rate_Aem=max_rate_Aem[ich])                        \n",
    "                        for ich in range(8)])\n",
    "\n",
    "    bursts = bursts.round({'E': 6, 'bg_d': 3, 'bg_a': 3, 'nd': 3, 'na': 3, 'nt': 3, \n",
    "                           'width_ms': 4, 'max_rate': 3, 'max_rate_Dem': 3, 'max_rate_Aem': 3})\n",
    "    bursts.to_csv('results/bursts_multispot_{}_m={}_rate_th={}_ph={}.csv'.format(data_id, m, rate_th, ph_sel))\n",
    "    BurstsM[data_id] = bursts"
   ]
  },
  {
   "cell_type": "markdown",
   "metadata": {},
   "source": [
    "## usALEX"
   ]
  },
  {
   "cell_type": "code",
   "execution_count": null,
   "metadata": {
    "collapsed": false
   },
   "outputs": [],
   "source": [
    "leakage_coeff_fname = 'results/usALEX - leakage coefficient DexDem.csv'\n",
    "leakageA = np.loadtxt(leakage_coeff_fname, ndmin=1)\n",
    "print('usALEX Leakage coefficient:', leakageA)"
   ]
  },
  {
   "cell_type": "code",
   "execution_count": null,
   "metadata": {
    "collapsed": false
   },
   "outputs": [],
   "source": [
    "dir_ex_coeff_aa_fname = 'results/usALEX - direct excitation coefficient dir_ex_aa.csv'\n",
    "dir_ex_aa = np.loadtxt(dir_ex_coeff_aa_fname, ndmin=1)\n",
    "print('usALEX Direct excitation coefficient (dir_ex_aa):', dir_ex_aa)"
   ]
  },
  {
   "cell_type": "code",
   "execution_count": null,
   "metadata": {
    "collapsed": false
   },
   "outputs": [],
   "source": [
    "gamma_fname = 'results/usALEX - gamma factor - all-ph.csv'\n",
    "gammaA = np.loadtxt(gamma_fname, ndmin=1)\n",
    "print('usALEX Gamma Factorr (gamma):', gammaA)"
   ]
  },
  {
   "cell_type": "code",
   "execution_count": null,
   "metadata": {
    "collapsed": false
   },
   "outputs": [],
   "source": [
    "data_dir = './data/singlespot/'\n",
    "file_list = sorted(glob(data_dir + '*.hdf5'))\n",
    "labels = ['17d', '27d', '7d', '12d', '22d']\n",
    "files_dict = {lab: fname for lab, fname in zip(labels, file_list)}\n",
    "files_dict"
   ]
  },
  {
   "cell_type": "code",
   "execution_count": null,
   "metadata": {
    "collapsed": false
   },
   "outputs": [],
   "source": [
    "BurstsA = {}\n",
    "for data_id in samples:\n",
    "    if data_id not in files_dict:\n",
    "        continue\n",
    "    dx = loader.photon_hdf5(files_dict[data_id])\n",
    "    loader.usalex_apply_period(dx)\n",
    "    dx.calc_bg(**bg_kwargs_auto)\n",
    "    dx.leakage = leakageA\n",
    "    dx.burst_search(m=m, min_rate_cps=rate_th, ph_sel=ph_sel)\n",
    "    \n",
    "    dx.calc_max_rate(m=m, ph_sel=Ph_sel(Dex='Aem'), compact=True)\n",
    "    max_rate_Aem = dx.max_rate\n",
    "    dx.calc_max_rate(m=m, ph_sel=Ph_sel(Dex='Dem'), compact=True)\n",
    "    max_rate_Dem = dx.max_rate\n",
    "    dx.calc_max_rate(m=m, ph_sel=Ph_sel(Dex='DAem'), compact=True)\n",
    "    bursts = (bext.burst_data(dx)\n",
    "                  .assign(max_rate_Dem=max_rate_Dem[0])\n",
    "                  .assign(max_rate_Aem=max_rate_Aem[0]))\n",
    "\n",
    "    bursts = bursts.round({'E': 6, 'S': 6, 'bg_d': 3, 'bg_a': 3, 'bg_aa': 3, 'nd': 3, 'na': 3, 'naa': 3, 'nda': 3, 'nt': 3, \n",
    "                           'width_ms': 4, 'max_rate': 3, 'max_rate_Dem': 3, 'max_rate_Aem': 3})\n",
    "    bursts.to_csv('results/bursts_usALEX_{}_m={}_rate_th={}_ph={}.csv'.format(data_id, m, rate_th, ph_sel))\n",
    "    BurstsA[data_id] = bursts"
   ]
  },
  {
   "cell_type": "code",
   "execution_count": null,
   "metadata": {
    "collapsed": false
   },
   "outputs": [],
   "source": [
    "Dex_fraction = bl.get_alex_fraction(dx.D_ON[0], dx.alex_period)\n",
    "Dex_fraction"
   ]
  },
  {
   "cell_type": "code",
   "execution_count": null,
   "metadata": {
    "collapsed": true
   },
   "outputs": [],
   "source": [
    "#Dex_fraction = 0.4375  # Use this when not loading the files"
   ]
  },
  {
   "cell_type": "markdown",
   "metadata": {},
   "source": [
    "# Load Data"
   ]
  },
  {
   "cell_type": "code",
   "execution_count": null,
   "metadata": {
    "collapsed": true
   },
   "outputs": [],
   "source": [
    "import pandas as pd"
   ]
  },
  {
   "cell_type": "code",
   "execution_count": null,
   "metadata": {
    "collapsed": false
   },
   "outputs": [],
   "source": [
    "ph_sel"
   ]
  },
  {
   "cell_type": "code",
   "execution_count": null,
   "metadata": {
    "collapsed": true
   },
   "outputs": [],
   "source": [
    "BurstsM = {}\n",
    "for data_id in samples:\n",
    "    fname = 'results/bursts_multispot_{}_m={}_rate_th={}_ph={}.csv'.format(data_id, m, rate_th, ph_sel)\n",
    "    bursts = pd.read_csv(fname, index_col=0)\n",
    "    BurstsM[data_id] = bursts"
   ]
  },
  {
   "cell_type": "code",
   "execution_count": null,
   "metadata": {
    "collapsed": false
   },
   "outputs": [],
   "source": [
    "BurstsA = {}\n",
    "for data_id in samples:\n",
    "    if data_id == 'DO':\n",
    "        continue\n",
    "    fname = 'results/bursts_usALEX_{}_m={}_rate_th={}_ph={}.csv'.format(data_id, m, rate_th, ph_sel)\n",
    "    bursts = pd.read_csv(fname, index_col=0)\n",
    "    BurstsA[data_id] = bursts"
   ]
  },
  {
   "cell_type": "code",
   "execution_count": null,
   "metadata": {
    "collapsed": false
   },
   "outputs": [],
   "source": [
    "bursts.head()"
   ]
  },
  {
   "cell_type": "markdown",
   "metadata": {},
   "source": [
    "# Correcting na \n",
    "\n",
    "$$Dir = d_{dirT} \\, (n_a + \\gamma \\, n_d)$$\n",
    "\n",
    "$$n_a = n_a^* - Lk - Dir = n_{al} - Dir = n_{al} - d_{dirT} \\, (n_a + \\gamma \\, n_d)$$\n",
    "\n",
    "$$(1 + d_{dirT}) \\, n_a = n_{al} - d_{dirT} \\gamma \\, n_d$$\n",
    "\n",
    "$$ n_a = \\frac{n_{al} - d_{dirT} \\gamma \\, n_d}{1 + d_{dirT}}$$\n"
   ]
  },
  {
   "cell_type": "code",
   "execution_count": null,
   "metadata": {
    "collapsed": false
   },
   "outputs": [],
   "source": [
    "def corr_na(nal, nd, gamma, dir_ex_t):\n",
    "    return (nal - dir_ex_t * gamma * nd) / (1 + dir_ex_t)"
   ]
  },
  {
   "cell_type": "code",
   "execution_count": null,
   "metadata": {
    "collapsed": false
   },
   "outputs": [],
   "source": [
    "# for bursts in BurstsA.values():\n",
    "#     bursts['na_corr1'] = corr_na(bursts.na, bursts.nd, gammaA, dir_ex_t)\n",
    "\n",
    "# for bursts in BurstsA.values():\n",
    "#     bursts['na_corr2'] = bursts.na - dir_ex_aa*bursts.naa\n",
    "\n",
    "# for bursts in BurstsA.values():\n",
    "#     plt.figure()\n",
    "#     plt.plot((bursts.na - bursts.na_corr1) - (bursts.na - bursts.na_corr2), 'o', alpha=0.2)\n",
    "#     plt.ylim(-3, 3)"
   ]
  },
  {
   "cell_type": "markdown",
   "metadata": {},
   "source": [
    "# Figures"
   ]
  },
  {
   "cell_type": "code",
   "execution_count": null,
   "metadata": {
    "collapsed": false
   },
   "outputs": [],
   "source": [
    "sns.set(style='ticks', font_scale=1.4, palette=colors)"
   ]
  },
  {
   "cell_type": "code",
   "execution_count": null,
   "metadata": {
    "collapsed": true
   },
   "outputs": [],
   "source": [
    "lw = 2.5"
   ]
  },
  {
   "cell_type": "markdown",
   "metadata": {},
   "source": [
    "## Corrected burst size"
   ]
  },
  {
   "cell_type": "code",
   "execution_count": null,
   "metadata": {
    "collapsed": false
   },
   "outputs": [],
   "source": [
    "size_th = 20\n",
    "fig, ax = plt.subplots(1, 2, figsize=(14, 5), sharey=True)\n",
    "plt.subplots_adjust(wspace=0.05)\n",
    "\n",
    "bins = np.arange(0, 200, 2)\n",
    "x = bins[:-1] + 0.5*(bins[1] - bins[0])\n",
    "for ich in range(8):\n",
    "    for i, s in enumerate(samples[:]):\n",
    "        bursts = BurstsM[s]\n",
    "        color = colors[i]\n",
    "        mask = bursts.ich == ich\n",
    "        sizes = bursts.na[mask] + gammaM*bursts.nd[mask]\n",
    "        sizes = sizes.loc[sizes > size_th]\n",
    "        counts, bins = np.histogram(sizes, bins, normed=True)\n",
    "        label = s if ich == 0 else ''\n",
    "        ax[1].plot(x, counts, marker='o', ls='', color=color, label=label)\n",
    "        \n",
    "        if ich == 0 and 'DO' not in s:\n",
    "            bursts = BurstsA[s]\n",
    "            sizes = bursts.na + bursts.nd * gammaA\n",
    "            sizes = sizes.loc[sizes > size_th]\n",
    "            counts, bins = np.histogram(sizes, bins, normed=True)\n",
    "            ax[0].plot(x, counts, marker='o', ls='', color=color, label=label)\n",
    "        \n",
    "plt.yscale('log')\n",
    "ax[1].legend(title='Sample')\n",
    "for a in ax:\n",
    "    sns.despine(ax=a)\n",
    "    a.set_title('Burst Size Distribution')\n",
    "    a.set_xlabel('Corrected Burst Size')"
   ]
  },
  {
   "cell_type": "code",
   "execution_count": null,
   "metadata": {
    "collapsed": false
   },
   "outputs": [],
   "source": [
    "gammaA, gammaM"
   ]
  },
  {
   "cell_type": "code",
   "execution_count": null,
   "metadata": {
    "collapsed": false
   },
   "outputs": [],
   "source": [
    "size_th = 15\n",
    "fig, ax = plt.subplots(1, 2, figsize=(14, 5), sharey=True)\n",
    "plt.subplots_adjust(wspace=0.05)\n",
    "\n",
    "bins = np.arange(0, 400, 2)\n",
    "x = bins[:-1] + 0.5*(bins[1] - bins[0])\n",
    "for ich in range(8):\n",
    "    for i, s in enumerate(samples[:1]):\n",
    "        bursts = BurstsM[s]\n",
    "        color = colors[i]\n",
    "        mask = bursts.ich == ich\n",
    "        sizes = bursts.na[mask]/gammaM + bursts.nd[mask]\n",
    "        sizes = sizes.loc[sizes > size_th]\n",
    "        counts, bins = np.histogram(sizes, bins, normed=True)\n",
    "        label = s if ich == 0 else ''\n",
    "        ax[1].plot(x, counts, marker='o', ls='', color=color, label=label)\n",
    "        \n",
    "        if ich == 0 and 'DO' not in s:\n",
    "            bursts = BurstsA[s]\n",
    "            sizes = bursts.na/gammaA + bursts.nd\n",
    "            sizes = sizes.loc[sizes > size_th]\n",
    "            counts, bins = np.histogram(sizes, bins, normed=True)\n",
    "            ax[0].plot(x, counts, marker='o', ls='', color=color, label=label)\n",
    "        \n",
    "plt.yscale('log')\n",
    "ax[1].legend(title='Sample')\n",
    "for a in ax:\n",
    "    sns.despine(ax=a)\n",
    "    a.set_title('Burst Size Distribution')\n",
    "    a.set_xlabel('Corrected Burst Size')"
   ]
  },
  {
   "cell_type": "markdown",
   "metadata": {},
   "source": [
    "## Bursts Counts"
   ]
  },
  {
   "cell_type": "markdown",
   "metadata": {},
   "source": [
    "### DexAem Counts"
   ]
  },
  {
   "cell_type": "code",
   "execution_count": null,
   "metadata": {
    "collapsed": false
   },
   "outputs": [],
   "source": [
    "var = 'na'\n",
    "size_th = 15\n",
    "fig, ax = plt.subplots(1, 2, figsize=(11, 4.5), sharey=True, sharex=True)\n",
    "plt.subplots_adjust(hspace=0.05)\n",
    "#kws = dict(marker='o', ls='')\n",
    "kws = dict(lw=lw)\n",
    "var_labels = dict(na='DexAem', nd='DexDem')\n",
    "\n",
    "bins = np.arange(0, 350, 5)\n",
    "x = bins[:-1] + 0.5*(bins[1] - bins[0])\n",
    "for ich in range(8):\n",
    "    for i, s in enumerate(samples[:]):\n",
    "        bursts = BurstsM[s]\n",
    "        bursts = bursts.loc[bursts.ich == ich]\n",
    "        color = colors[i]\n",
    "        sizes = bursts.na + bursts.nd * gammaM\n",
    "        mask = (sizes > size_th)\n",
    "        data = bursts.loc[mask, var]\n",
    "        counts, bins = np.histogram(data, bins, normed=True)\n",
    "        if ich == 0:\n",
    "            ax[1].plot([], label=s, **kws)  # empty lines for the legend\n",
    "        counts[counts == 0] = np.nan        # break lines at zeros in log-scale\n",
    "        ax[1].plot(x, counts, color=color, alpha=0.5, **kws)\n",
    "        \n",
    "        if ich == 0 and 'DO' not in s:\n",
    "            bursts = BurstsA[s]\n",
    "            sizes = bursts.na + bursts.nd * gammaA\n",
    "            mask = (sizes > size_th)\n",
    "            data = bursts.loc[mask, var]\n",
    "            counts, bins = np.histogram(data, bins, normed=True)\n",
    "            counts[counts == 0] = np.nan        # break lines at zeros\n",
    "            ax[0].plot(x, counts, color=color, label=label, **kws)\n",
    "        \n",
    "plt.yscale('log')\n",
    "plt.ylim(1e-4)\n",
    "if var == 'na':\n",
    "    plt.xlim(0, 140)\n",
    "ax[1].legend(title='Sample')\n",
    "for a in ax:\n",
    "    sns.despine(ax=a)\n",
    "    #a.set_title('DexAem Burst Size Distribution')\n",
    "    a.set_xlabel('Photon Counts (%s)' % var_labels[var])\n",
    "title_kw = dict(fontdict={'verticalalignment': 'top'}, fontsize=18)\n",
    "ax[0].set_title('μs-ALEX', **title_kw)\n",
    "ax[1].set_title('Multispot', **title_kw);\n",
    "savefig('%s distribution usALEX vs multispot, size_th=%d' % (var, size_th))\n",
    "#savefig('%s distribution usALEX vs multispot, size_th=%d.svg' % (var, size_th))"
   ]
  },
  {
   "cell_type": "markdown",
   "metadata": {},
   "source": [
    "### DexDem Counts"
   ]
  },
  {
   "cell_type": "code",
   "execution_count": null,
   "metadata": {
    "collapsed": false
   },
   "outputs": [],
   "source": [
    "var = 'nd'\n",
    "size_th = 15\n",
    "fig, ax = plt.subplots(1, 2, figsize=(11, 4.5), sharey=True, sharex=True)\n",
    "plt.subplots_adjust(hspace=0.05)\n",
    "#kws = dict(marker='o', ls='')\n",
    "kws = dict(lw=lw)\n",
    "var_labels = dict(na='DexAem', nd='DexDem')\n",
    "\n",
    "bins = np.arange(0, 350, 5)\n",
    "x = bins[:-1] + 0.5*(bins[1] - bins[0])\n",
    "for ich in range(8):\n",
    "    for i, s in enumerate(samples[:]):\n",
    "        bursts = BurstsM[s]\n",
    "        bursts = bursts.loc[bursts.ich == ich]\n",
    "        color = colors[i]\n",
    "        sizes = bursts.na + bursts.nd * gammaM\n",
    "        mask = (sizes > size_th)\n",
    "        data = bursts.loc[mask, var]\n",
    "        counts, bins = np.histogram(data, bins, normed=True)\n",
    "        if ich == 0:\n",
    "            ax[1].plot([], label=s, **kws)  # empty lines for the legend\n",
    "        counts[counts == 0] = np.nan        # break lines at zeros in log-scale\n",
    "        ax[1].plot(x, counts, color=color, alpha=0.5, **kws)\n",
    "        \n",
    "        if ich == 0 and 'DO' not in s:\n",
    "            bursts = BurstsA[s]\n",
    "            sizes = bursts.na + bursts.nd * gammaA\n",
    "            mask = (sizes > size_th)\n",
    "            data = bursts.loc[mask, var]\n",
    "            counts, bins = np.histogram(data, bins, normed=True)\n",
    "            counts[counts == 0] = np.nan        # break lines at zeros\n",
    "            ax[0].plot(x, counts, color=color, label=label, **kws)\n",
    "        \n",
    "plt.yscale('log')\n",
    "plt.ylim(1e-4)\n",
    "if var == 'na':\n",
    "    plt.xlim(0, 140)\n",
    "ax[1].legend(title='Sample')\n",
    "for a in ax:\n",
    "    sns.despine(ax=a)\n",
    "    #a.set_title('DexAem Burst Size Distribution')\n",
    "    a.set_xlabel('Photon Counts (%s)' % var_labels[var])\n",
    "title_kw = dict(fontdict={'verticalalignment': 'top'}, fontsize=18)\n",
    "ax[0].set_title('μs-ALEX', **title_kw)\n",
    "ax[1].set_title('Multispot', **title_kw);\n",
    "savefig('%s distribution usALEX vs multispot, size_th=%d' % (var, size_th))"
   ]
  },
  {
   "cell_type": "code",
   "execution_count": null,
   "metadata": {
    "collapsed": false
   },
   "outputs": [],
   "source": [
    "size_th = 20\n",
    "fig, ax = plt.subplots(1, 2, figsize=(11, 4.5), sharey=True, sharex=True)\n",
    "plt.subplots_adjust(hspace=0.05)\n",
    "#kws = dict(marker='o', ls='')\n",
    "kws = dict(lw=lw)\n",
    "\n",
    "bins = np.arange(0, 200, 5)\n",
    "x = bins[:-1] + 0.5*(bins[1] - bins[0])\n",
    "for ich in range(8):\n",
    "    for i, s in enumerate(samples[:]):\n",
    "        bursts = BurstsM[s]\n",
    "        bursts = bursts.loc[bursts.ich == ich]\n",
    "        \n",
    "        color = colors[i]\n",
    "        sizes = bursts.na + bursts.nd * gammaM\n",
    "        burstss = bursts.loc[sizes > size_th]\n",
    "        data = burstss.na + burstss.nd * gammaM\n",
    "        counts, bins = np.histogram(data, bins, normed=True)\n",
    "        if ich == 0:\n",
    "            ax[1].plot([], label=s, **kws)  # empty lines for the legend\n",
    "        counts[counts == 0] = np.nan        # break lines at zeros\n",
    "        ax[1].plot(x, counts, color=color, alpha=0.5, **kws)\n",
    "        \n",
    "        if ich == 0 and 'DO' not in s:\n",
    "            bursts = BurstsA[s]\n",
    "            sizes = bursts.na + bursts.nd * gammaA\n",
    "            burstss = bursts.loc[sizes > size_th]\n",
    "            data = burstss.na + burstss.nd * gammaA\n",
    "            counts, bins = np.histogram(data, bins, normed=True)\n",
    "            counts[counts == 0] = np.nan        # break lines at zeros\n",
    "            ax[0].plot(x, counts, color=color, label=label, **kws)\n",
    "        \n",
    "plt.yscale('log')\n",
    "plt.ylim(1e-4)\n",
    "plt.xlim(0, 180)\n",
    "ax[1].legend(title='Sample')\n",
    "for a in ax:\n",
    "    sns.despine(ax=a)\n",
    "    #a.set_title('DexAem Burst Size Distribution')\n",
    "    a.set_xlabel('Photon Counts ($n_a + \\gamma n_d$)')\n",
    "title_kw = dict(fontdict={'verticalalignment': 'top'}, fontsize=18)\n",
    "ax[0].set_title('μs-ALEX', **title_kw)\n",
    "ax[1].set_title('Multispot', **title_kw);\n",
    "savefig('nt distribution usALEX vs multispot, size_th=%d' % size_th)"
   ]
  },
  {
   "cell_type": "markdown",
   "metadata": {},
   "source": [
    "## Bursts Counts (8-spot mean)"
   ]
  },
  {
   "cell_type": "code",
   "execution_count": null,
   "metadata": {
    "collapsed": false
   },
   "outputs": [],
   "source": [
    "var = 'na'\n",
    "size_th = 15\n",
    "fig, ax = plt.subplots(1, 2, figsize=(11, 4.5), sharey=True, sharex=True)\n",
    "plt.subplots_adjust(hspace=0.05)\n",
    "#kws = dict(marker='o', ls='')\n",
    "kws = dict(lw=lw)\n",
    "\n",
    "bins = np.arange(0, 150, 4)\n",
    "x = bins[:-1] + 0.5*(bins[1] - bins[0])\n",
    "\n",
    "for i, s in enumerate(samples[:]):\n",
    "        bursts = BurstsM[s]\n",
    "        #bursts = bursts.loc[bursts.ich == ich]\n",
    "        \n",
    "        color = colors[i]\n",
    "        sizes = bursts.na + bursts.nd * gammaM\n",
    "        data = bursts.loc[sizes > size_th, var]\n",
    "        counts, bins = np.histogram(data, bins, normed=True)\n",
    "        label = s# if ich == 0 else ''\n",
    "        counts[counts == 0] = np.nan\n",
    "        ax[1].plot(x, counts, color=color, label=label, **kws)\n",
    "        \n",
    "        if 'DO' not in s:\n",
    "            bursts = BurstsA[s]\n",
    "            sizes = bursts.na + bursts.nd * gammaA\n",
    "            data = bursts.loc[sizes > size_th, var]\n",
    "            counts, bins = np.histogram(data, bins, normed=True)\n",
    "            counts[counts == 0] = np.nan\n",
    "            ax[0].plot(x, counts, color=color, label=label, **kws)\n",
    "        \n",
    "plt.yscale('log')\n",
    "plt.ylim(1e-4)\n",
    "ax[1].legend(title='Sample')\n",
    "for a in ax:\n",
    "    sns.despine(ax=a)\n",
    "    #a.set_title('DexAem Burst Size Distribution')\n",
    "    a.set_xlabel('Photon Counts')\n",
    "title_kw = dict(fontdict={'verticalalignment': 'top'}, fontsize=18)\n",
    "ax[0].set_title('μs-ALEX', **title_kw)\n",
    "ax[1].set_title('Multispot', **title_kw);\n",
    "savefig('%s distribution usALEX vs multispot mean, size_th=%d' % (var, size_th))"
   ]
  },
  {
   "cell_type": "code",
   "execution_count": null,
   "metadata": {
    "collapsed": false
   },
   "outputs": [],
   "source": [
    "size_th = 15\n",
    "fig, ax = plt.subplots(1, 2, figsize=(11, 4.5), sharey=True, sharex=True)\n",
    "plt.subplots_adjust(hspace=0.05)\n",
    "#kws = dict(marker='o', ls='')\n",
    "kws = dict(lw=lw)\n",
    "\n",
    "bins = np.arange(0, 300, 4)\n",
    "x = bins[:-1] + 0.5*(bins[1] - bins[0])\n",
    "\n",
    "for i, s in enumerate(samples[:]):\n",
    "        bursts = BurstsM[s]\n",
    "        #bursts = bursts.loc[bursts.ich == ich]\n",
    "        \n",
    "        color = colors[i]\n",
    "        sizes = bursts.na + bursts.nd * gammaM\n",
    "        data = bursts.loc[sizes > size_th, 'nd']\n",
    "        counts, bins = np.histogram(data, bins, normed=True)\n",
    "        label = s# if ich == 0 else ''\n",
    "        counts[counts == 0] = np.nan\n",
    "        ax[1].plot(x, counts, color=color, label=label, **kws)\n",
    "        \n",
    "        if 'DO' not in s:\n",
    "            bursts = BurstsA[s]\n",
    "            sizes = bursts.na + bursts.nd * gammaA\n",
    "            data = bursts.nd.loc[sizes > size_th]\n",
    "            counts, bins = np.histogram(data, bins, normed=True)\n",
    "            counts[counts == 0] = np.nan\n",
    "            ax[0].plot(x, counts, color=color, label=label, **kws)\n",
    "        \n",
    "plt.yscale('log')\n",
    "plt.ylim(1e-4)\n",
    "ax[1].legend(title='Sample')\n",
    "for a in ax:\n",
    "    sns.despine(ax=a, trim=True)\n",
    "    a.set_title('DexDem Burst Size Distribution')\n",
    "    a.set_xlabel('Photon Counts')"
   ]
  },
  {
   "cell_type": "markdown",
   "metadata": {},
   "source": [
    "## Burst duration"
   ]
  },
  {
   "cell_type": "code",
   "execution_count": null,
   "metadata": {
    "collapsed": false
   },
   "outputs": [],
   "source": [
    "var = 'width_ms'\n",
    "size_th = 15\n",
    "\n",
    "fig, ax = plt.subplots(1, 2, figsize=(11, 4.5), sharey=True, sharex=True)\n",
    "plt.subplots_adjust(hspace=0.05)\n",
    "kws = dict(lw=lw)\n",
    "bins = np.arange(0, 8, 0.2)\n",
    "x = bins[:-1] + 0.5*(bins[1] - bins[0])\n",
    "for i, s in enumerate(samples[:]):\n",
    "    for ich in range(8):\n",
    "        bursts = BurstsM[s]\n",
    "        color = colors[i]\n",
    "        burstsc = bursts.loc[bursts.ich == ich]\n",
    "        sizes = burstsc.na + burstsc.nd * gammaM\n",
    "        widths = burstsc.loc[sizes > size_th, var]\n",
    "        counts, bins = np.histogram(widths, bins, normed=True)\n",
    "        #label = s if ich == 0 else ''\n",
    "        if ich == 0:\n",
    "            ax[1].plot([], label=s, **kws)  # empty lines for the legend\n",
    "        counts[counts == 0] = np.nan        # break lines at zeros\n",
    "        ax[1].plot(x, counts, color=color, alpha=0.5, \n",
    "                   zorder=5-i, **kws)\n",
    "        \n",
    "        if ich == 0 and 'DO' not in s:\n",
    "            bursts = BurstsA[s]\n",
    "            sizes = bursts.na + bursts.nd * gammaA\n",
    "            widths = bursts.loc[sizes > size_th, var]\n",
    "            counts, bins = np.histogram(widths, bins, normed=True)\n",
    "            counts[counts == 0] = np.nan        # break lines at zeros\n",
    "            ax[0].plot(x, counts, color=color, label=label, **kws)\n",
    "        \n",
    "plt.yscale('log')\n",
    "plt.ylim(1e-3)\n",
    "ax[1].legend(title='Sample')\n",
    "for a in ax:\n",
    "    sns.despine(ax=a, trim=True)\n",
    "    #a.set_title('Burst Duration Distribution')\n",
    "    a.set_xlabel('Burst Duration (ms)')\n",
    "title_kw = dict(fontdict={'verticalalignment': 'top'}, fontsize=18)\n",
    "ax[0].set_title('μs-ALEX', **title_kw)\n",
    "ax[1].set_title('Multispot', **title_kw);\n",
    "savefig('%s distribution usALEX vs multispot, size_th=%d' % (var, size_th))"
   ]
  },
  {
   "cell_type": "code",
   "execution_count": null,
   "metadata": {
    "collapsed": false
   },
   "outputs": [],
   "source": [
    "var = 'width_ms'\n",
    "size_th = 15\n",
    "\n",
    "fig, ax = plt.subplots(1, 2, figsize=(11, 4.5), sharey=True, sharex=True)\n",
    "plt.subplots_adjust(hspace=0.05)\n",
    "kws = dict(lw=lw)\n",
    "bins = np.arange(0, 8, 0.2)\n",
    "x = bins[:-1] + 0.5*(bins[1] - bins[0])\n",
    "for i, s in enumerate(samples[:]):\n",
    "        bursts = BurstsM[s]\n",
    "        color = colors[i]\n",
    "    \n",
    "        sizes = bursts.na + bursts.nd * gammaM\n",
    "        widths = bursts.loc[sizes > size_th, var]\n",
    "        counts, bins = np.histogram(widths, bins, normed=True)\n",
    "        counts[counts == 0] = np.nan        # break lines at zeros\n",
    "        ax[1].plot(x, counts, color=color, label=s, **kws)\n",
    "        \n",
    "        if 'DO' not in s:\n",
    "            bursts = BurstsA[s]\n",
    "            sizes = bursts.na + bursts.nd * gammaA\n",
    "            widths = bursts.loc[sizes > size_th, var]\n",
    "            counts, bins = np.histogram(widths, bins, normed=True)\n",
    "            counts[counts == 0] = np.nan        # break lines at zeros\n",
    "            ax[0].plot(x, counts, color=color, label=label, **kws)\n",
    "        \n",
    "plt.yscale('log')\n",
    "plt.ylim(1e-3)\n",
    "ax[1].legend(title='Sample')\n",
    "for a in ax:\n",
    "    sns.despine(ax=a, trim=True)\n",
    "    #a.set_title('Burst Duration Distribution')\n",
    "    a.set_xlabel('Burst Duration (ms)')\n",
    "title_kw = dict(fontdict={'verticalalignment': 'top'}, fontsize=18)\n",
    "ax[0].set_title('μs-ALEX', **title_kw)\n",
    "ax[1].set_title('Multispot', **title_kw);\n",
    "savefig('%s distribution usALEX vs multispot mean, size_th=%d' % (var, size_th))"
   ]
  },
  {
   "cell_type": "code",
   "execution_count": null,
   "metadata": {
    "collapsed": false
   },
   "outputs": [],
   "source": [
    "bins = np.arange(0, 8, 0.1)\n",
    "x = bins[:-1] + 0.5*(bins[1] - bins[0])\n",
    "for ich in [5]:\n",
    "    for i, s in enumerate(samples[:4]):\n",
    "        bursts = BurstsM[s]\n",
    "        bursts = bursts.loc[bursts.ich == ich]\n",
    "        \n",
    "        #color = colors[ich]\n",
    "        sizes = bursts.na + bursts.nd * gammaM\n",
    "        burstsm = bursts.loc[sizes > size_th]\n",
    "        counts, bins = np.histogram(burstsm.width_ms, bins=bins, normed=True)\n",
    "        label = s #if ich == 0 else ''\n",
    "        counts[counts == 0] = np.nan        # break lines at zeros in log-scale\n",
    "        plt.plot(x, counts, marker='o', ls='-', alpha=1, label=label)\n",
    "plt.yscale('log')\n",
    "plt.legend(title='Sample')\n",
    "sns.despine()"
   ]
  },
  {
   "cell_type": "markdown",
   "metadata": {},
   "source": [
    "> **NOTE**: No effect of reduced diffusion time in 22d sample is visible. FCS shows a 25% reduction instead."
   ]
  },
  {
   "cell_type": "markdown",
   "metadata": {},
   "source": [
    "## Peak photon rate, donor-ref"
   ]
  },
  {
   "cell_type": "code",
   "execution_count": null,
   "metadata": {
    "collapsed": false
   },
   "outputs": [],
   "source": [
    "size_th = 20\n",
    "fig, ax = plt.subplots(1, 2, figsize=(11, 4.5), sharey=True, sharex=True)\n",
    "plt.subplots_adjust(wspace=0.05)\n",
    "kws = dict(lw=lw)\n",
    "\n",
    "bins = np.arange(0, 600, 5)\n",
    "x = bins[:-1] + 0.5*(bins[1] - bins[0])\n",
    "for i, s in enumerate(samples[:]):\n",
    "        bursts = BurstsM[s].fillna(0)\n",
    "        color = colors[i]\n",
    "        \n",
    "        sizes = bursts.na + bursts.nd * gammaM\n",
    "        burstsm = bursts.loc[sizes > size_th]\n",
    "        max_rates = burstsm.max_rate_Aem + burstsm.max_rate_Dem * gammaM\n",
    "        counts, bins = np.histogram(max_rates*1e-3, bins=bins, normed=True)\n",
    "        label = s# if ich == 0 else ''\n",
    "        counts[counts == 0] = np.nan        # break lines at zeros\n",
    "        ax[1].plot(x, counts, alpha=1, color=color, label=label, **kws)\n",
    "        \n",
    "        if 'DO' not in s:\n",
    "            bursts = BurstsA[s].fillna(0)\n",
    "            sizes = bursts.na + bursts.nd * gammaA\n",
    "            burstsm = bursts.loc[sizes > size_th]\n",
    "            max_rates = burstsm.max_rate_Aem + burstsm.max_rate_Dem * gammaA\n",
    "            counts, bins = np.histogram(max_rates*1e-3, bins=bins, normed=True)\n",
    "            counts[counts == 0] = np.nan        # break lines at zeros\n",
    "            ax[0].plot(x, counts, color=color, label=s, **kws)\n",
    "        \n",
    "plt.yscale('log')\n",
    "plt.ylim(1e-4)\n",
    "ax[1].legend(title='Sample')\n",
    "for a in ax:\n",
    "    sns.despine(ax=a, trim=True)\n",
    "    a.set_title('Peak Photon-Rate Distribution (D*g + A)')\n",
    "    a.set_xlabel('Peak Photon Rate (kcps)')"
   ]
  },
  {
   "cell_type": "markdown",
   "metadata": {},
   "source": [
    "## Peak photon rate, acceptor-ref"
   ]
  },
  {
   "cell_type": "code",
   "execution_count": null,
   "metadata": {
    "collapsed": false
   },
   "outputs": [],
   "source": [
    "size_th = 20\n",
    "fig, ax = plt.subplots(1, 2, figsize=(11, 4.5), sharey=True, sharex=True)\n",
    "plt.subplots_adjust(wspace=0.05)\n",
    "kws = dict(lw=lw)\n",
    "\n",
    "bins = np.arange(0, 800, 10)\n",
    "x = bins[:-1] + 0.5*(bins[1] - bins[0])\n",
    "for i, s in enumerate(samples[:]):\n",
    "        bursts = BurstsM[s].fillna(0)\n",
    "        color = colors[i]\n",
    "        \n",
    "        sizes = bursts.na/gammaM + bursts.nd\n",
    "        burstsm = bursts.loc[sizes > size_th]\n",
    "        max_rates = burstsm.max_rate_Aem/gammaM + burstsm.max_rate_Dem \n",
    "        counts, bins = np.histogram(max_rates*1e-3, bins=bins, normed=True)\n",
    "        label = s# if ich == 0 else ''\n",
    "        counts[counts == 0] = np.nan        # break lines at zeros\n",
    "        ax[1].plot(x, counts, color=color, label=label, **kws)\n",
    "        \n",
    "        if 'DO' not in s:\n",
    "            bursts = BurstsA[s].fillna(0)\n",
    "            sizes = bursts.na/gammaA + bursts.nd\n",
    "            burstsm = bursts.loc[sizes > size_th]\n",
    "            max_rates = burstsm.max_rate_Aem/gammaA + burstsm.max_rate_Dem\n",
    "            counts, bins = np.histogram(max_rates*1e-3, bins=bins, normed=True)\n",
    "            counts[counts == 0] = np.nan        # break lines at zeros\n",
    "            ax[0].plot(x, counts, color=color, label=s, **kws)\n",
    "        \n",
    "plt.yscale('log')\n",
    "plt.ylim(1e-4)\n",
    "ax[1].legend(title='Sample')\n",
    "for a in ax:\n",
    "    sns.despine(ax=a, trim=True)\n",
    "    a.set_title('Peak Photon-Rate Distribution (D + A/g)')\n",
    "    a.set_xlabel('Peak Photon Rate (kcps)')"
   ]
  },
  {
   "cell_type": "markdown",
   "metadata": {},
   "source": [
    "## Peak photon rate Aem"
   ]
  },
  {
   "cell_type": "code",
   "execution_count": null,
   "metadata": {
    "collapsed": false
   },
   "outputs": [],
   "source": [
    "var = 'max_rate_Aem'\n",
    "size_th = 15\n",
    "\n",
    "fig, ax = plt.subplots(1, 2, figsize=(11, 4.5), sharey=True, sharex=True)\n",
    "plt.subplots_adjust(hspace=0.05)\n",
    "kws = dict(lw=lw)\n",
    "bins = np.arange(0, 500, 10)\n",
    "x = bins[:-1] + 0.5*(bins[1] - bins[0])\n",
    "for i, s in enumerate(samples[:]):\n",
    "        bursts = BurstsM[s].fillna(0)\n",
    "        color = colors[i]\n",
    "        \n",
    "        sizes = bursts.na + bursts.nd * gammaM\n",
    "        burstsm = bursts.loc[sizes > size_th]\n",
    "        max_rates = burstsm.max_rate_Aem\n",
    "        counts, bins = np.histogram(max_rates*1e-3, bins=bins, normed=True)\n",
    "        counts[counts == 0] = np.nan        # break lines at zeros\n",
    "        label = s# if ich == 0 else ''\n",
    "        ax[1].plot(x, counts, color=color, label=label, **kws)\n",
    "        \n",
    "        if 'DO' not in s:\n",
    "            bursts = BurstsA[s].fillna(0)\n",
    "            sizes = bursts.na + bursts.nd * gammaA\n",
    "            burstsm = bursts.loc[sizes > size_th]\n",
    "            max_rates = burstsm.max_rate_Aem\n",
    "            counts, bins = np.histogram(max_rates*1e-3, bins=bins, normed=True)\n",
    "            counts[counts == 0] = np.nan        # break lines at zeros\n",
    "            ax[0].plot(x, counts, color=color, label=s, **kws)\n",
    "        \n",
    "plt.yscale('log')\n",
    "plt.ylim(1e-4)\n",
    "ax[1].legend(title='Sample')\n",
    "for a in ax:\n",
    "    sns.despine(ax=a, trim=True)\n",
    "    a.set_title('Peak Photon-Rate Distribution (Aem)')\n",
    "    a.set_xlabel('Peak Photon Rate (kcps)')"
   ]
  },
  {
   "cell_type": "code",
   "execution_count": null,
   "metadata": {
    "collapsed": false
   },
   "outputs": [],
   "source": [
    "Dex_fraction"
   ]
  },
  {
   "cell_type": "code",
   "execution_count": null,
   "metadata": {
    "collapsed": false
   },
   "outputs": [],
   "source": [
    "var = 'max_rate_Aem'\n",
    "size_th = 15\n",
    "\n",
    "fig, ax = plt.subplots(1, 2, figsize=(11, 4.5), sharey=True, sharex=True)\n",
    "plt.subplots_adjust(wspace=0.08)\n",
    "kws = dict(lw=lw)\n",
    "\n",
    "bins = np.arange(0, 400, 10)\n",
    "x = bins[:-1] + 0.5*(bins[1] - bins[0])\n",
    "for ich in range(8):\n",
    "    for i, s in enumerate(samples[:]):\n",
    "        bursts = BurstsM[s].fillna(0)\n",
    "        bursts = bursts.loc[bursts.ich == ich]\n",
    "        color = colors[i]\n",
    "        \n",
    "        sizes = bursts.na + bursts.nd * gammaM\n",
    "        mask = (sizes > size_th)\n",
    "        data = bursts.loc[mask, var] * 1e-3\n",
    "        counts, bins = np.histogram(data, bins=bins, normed=True)\n",
    "        counts[counts == 0] = np.nan        # break lines at zeros\n",
    "        if ich == 0:\n",
    "            ax[1].plot([], label=s, **kws)  # empty lines for the legend\n",
    "        counts[counts == 0] = np.nan        # break lines at zeros in log-scale\n",
    "        ax[1].plot(x, counts, color=color, alpha=0.5, **kws)\n",
    "        \n",
    "        if ich == 0 and 'DO' not in s:\n",
    "            bursts = BurstsA[s].fillna(0)\n",
    "            sizes = bursts.na + bursts.nd * gammaA\n",
    "            mask = (sizes > size_th)\n",
    "            data = bursts.loc[mask, var] * 1e-3 * Dex_fraction\n",
    "            counts, bins = np.histogram(data, bins=bins, normed=True)\n",
    "            counts[counts == 0] = np.nan        # break lines at zeros\n",
    "            ax[0].plot(x, counts, color=color, label=s, **kws)\n",
    "        \n",
    "plt.yscale('log')\n",
    "plt.ylim(3e-5)\n",
    "ax[1].legend(title='Sample')\n",
    "for a in ax:\n",
    "    sns.despine(ax=a)\n",
    "    #a.set_title('Peak Photon-Rate Distribution (Aem)')\n",
    "    a.set_xlabel('Peak Photon Rate (kcps)')\n",
    "title_kw = dict(fontdict={'verticalalignment': 'top'}, fontsize=18)\n",
    "ax[0].set_title('μs-ALEX', **title_kw)\n",
    "ax[1].set_title('Multispot', **title_kw);\n",
    "savefig('%s distribution usALEX vs multispot, size_th=%d' % (var, size_th))\n",
    "#savefig('%s distribution usALEX vs multispot.svg' % var)"
   ]
  },
  {
   "cell_type": "markdown",
   "metadata": {},
   "source": [
    "> **NOTE**: The usALEX peak rates are computed removing the alternation gaps.\n",
    "> Therefore the rates estimated are the ones that would be reached with a CW \n",
    "> Dex, therefore with a higher mean excitation power. Therefore to make the\n",
    "> usALEX rates comparable with the multispot ones we need to mutliply the former\n",
    "> by Dex_fraction (i.e. ~2).\n",
    ">\n",
    "> We observe that the multispot rates on the acceptor channel are ~ 20% larger\n",
    "> than in the usALEX case."
   ]
  },
  {
   "cell_type": "code",
   "execution_count": null,
   "metadata": {
    "collapsed": false
   },
   "outputs": [],
   "source": [
    "size_th = 15\n",
    "fig, ax = plt.subplots(1, 2, figsize=(11, 4.5), sharey=True, sharex=True)\n",
    "plt.subplots_adjust(wspace=0.05)\n",
    "kws = dict(lw=lw)\n",
    "\n",
    "bins = np.arange(0, 1000, 10)\n",
    "x = bins[:-1] + 0.5*(bins[1] - bins[0])\n",
    "for i, s in enumerate(samples[:]):\n",
    "        bursts = BurstsM[s].fillna(0)\n",
    "        color = colors[i]\n",
    "        \n",
    "        sizes = bursts.na + bursts.nd * gammaM\n",
    "        burstsm = bursts.loc[sizes > size_th]\n",
    "        max_rates = burstsm.max_rate_Dem\n",
    "        counts, bins = np.histogram(max_rates*1e-3, bins=bins, normed=True)\n",
    "        counts[counts == 0] = np.nan        # break lines at zeros\n",
    "        label = s# if ich == 0 else ''\n",
    "        ax[1].plot(x, counts, color=color, label=label, **kws)\n",
    "        \n",
    "        if 'DO' not in s:\n",
    "            bursts = BurstsA[s].fillna(0)\n",
    "            sizes = bursts.na + bursts.nd * gammaA\n",
    "            burstsm = bursts.loc[sizes > size_th]\n",
    "            max_rates = burstsm.max_rate_Dem\n",
    "            counts, bins = np.histogram(max_rates*1e-3, bins=bins, normed=True)\n",
    "            counts[counts == 0] = np.nan        # break lines at zeros\n",
    "            ax[0].plot(x, counts, color=color, label=s, **kws)\n",
    "        \n",
    "plt.yscale('log')\n",
    "ax[1].legend(title='Sample')\n",
    "for a in ax:\n",
    "    sns.despine(ax=a, trim=True)\n",
    "    a.set_title('Peak Photon-Rate Distribution (Dem)')\n",
    "    a.set_xlabel('Peak Photon Rate (kcps)')"
   ]
  },
  {
   "cell_type": "code",
   "execution_count": null,
   "metadata": {
    "collapsed": true
   },
   "outputs": [],
   "source": [
    "def gauss(x, sig):\n",
    "    return np.exp(-0.5 * (x/sig)**2)"
   ]
  },
  {
   "cell_type": "code",
   "execution_count": null,
   "metadata": {
    "collapsed": false
   },
   "outputs": [],
   "source": [
    "box = dict(facecolor='y', alpha=0.2, pad=10)"
   ]
  },
  {
   "cell_type": "code",
   "execution_count": null,
   "metadata": {
    "collapsed": false
   },
   "outputs": [],
   "source": [
    "x = np.arange(-10, 10, 0.01)\n",
    "y = gauss(x, 1)\n",
    "y2 = 1.19 * gauss(x, 1)\n",
    "\n",
    "with plt.xkcd():\n",
    "    plt.plot(x, y, lw=3, label='reference, $\\sigma$ = 1')\n",
    "    plt.plot(x, y2, lw=3, label='20% higher peak, $\\sigma$ = 1')\n",
    "    plt.axhline(0.2, lw=2, ls='--', color='k')\n",
    "    plt.text(4, 0.22, 'burst search threshold')\n",
    "    sns.despine()\n",
    "    plt.legend(loc=(0.65, 0.7))\n",
    "    plt.text(-8.5, 0.95, 'Area Ratio: %.1f' % 1.2, bbox=box, fontsize=18)"
   ]
  },
  {
   "cell_type": "code",
   "execution_count": null,
   "metadata": {
    "collapsed": false
   },
   "outputs": [],
   "source": [
    "x = np.arange(-10, 10, 0.01)\n",
    "y = gauss(x, 1)\n",
    "y3 = 1.19 * gauss(x, 5/3)\n",
    "\n",
    "with plt.xkcd():\n",
    "    plt.plot(x, y, lw=3, label='reference, $\\sigma$ = 1')\n",
    "    plt.plot(x, y3, lw=3, label='20%% higher peak and $\\sigma$ = %.1f' % (5/3))\n",
    "    plt.axhline(0.2, lw=2, ls='--', color='k')\n",
    "    plt.text(4, 0.22, 'burst search threshold')\n",
    "    sns.despine()\n",
    "    plt.legend(loc=(0.65, 0.7))\n",
    "    plt.text(-8.5, 0.95, 'Area Ratio: %.1f' % (1.2 * (5/3)), bbox=box, fontsize=18)"
   ]
  },
  {
   "cell_type": "code",
   "execution_count": null,
   "metadata": {
    "collapsed": true
   },
   "outputs": [],
   "source": []
  }
 ],
 "metadata": {
  "anaconda-cloud": {},
  "kernelspec": {
   "display_name": "Python [default]",
   "language": "python",
   "name": "python3"
  },
  "language_info": {
   "codemirror_mode": {
    "name": "ipython",
    "version": 3
   },
   "file_extension": ".py",
   "mimetype": "text/x-python",
   "name": "python",
   "nbconvert_exporter": "python",
   "pygments_lexer": "ipython3",
   "version": "3.5.2"
  },
  "nav_menu": {},
  "toc": {
   "navigate_menu": true,
   "number_sections": true,
   "sideBar": true,
   "threshold": 6,
   "toc_cell": false,
   "toc_section_display": "block",
   "toc_window_display": false
  }
 },
 "nbformat": 4,
 "nbformat_minor": 0
}
