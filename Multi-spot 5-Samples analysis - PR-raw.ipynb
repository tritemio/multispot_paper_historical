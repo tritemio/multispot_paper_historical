{
 "metadata": {
  "name": "",
  "signature": "sha256:50017a118fa80e62e519d9cc9e0bd0dfc030eddd39976616aa42fd58a6a045b8"
 },
 "nbformat": 3,
 "nbformat_minor": 0,
 "worksheets": [
  {
   "cells": [
    {
     "cell_type": "markdown",
     "metadata": {},
     "source": [
      "#Analysis of 5 smFRET samples\n",
      "\n",
      "In this notebook:\n",
      "\n",
      "* Per-sample FRET histograms\n",
      "* Collapsed (merged channels) FRET histograms\n",
      "* FRET vs distance plot (multi-spot vs usALEX)\n",
      "* D-only fraction plots\n",
      "* Burst size vs measurement (corrected and uncorrected)\n",
      "* Background (per CH) vs measuremets\n",
      "* Burst-per-second (per CH) vs measuremet\n",
      "* Burst accumulation vs time (per CH and all-CH)\n",
      "\n",
      "> **USAGE TIP**: to comment-out a code cell, select all (CTRL+a) and hit CTRL+/.\n",
      "\n",
      "##FRET fitting remarks\n",
      "\n",
      "In this notebook we fit the Proximity Ratio histogram using different models."
     ]
    },
    {
     "cell_type": "markdown",
     "metadata": {},
     "source": [
      "##Load FRETBursts software"
     ]
    },
    {
     "cell_type": "code",
     "collapsed": false,
     "input": [
      "%run load_fretbursts.py --nogui"
     ],
     "language": "python",
     "metadata": {},
     "outputs": []
    },
    {
     "cell_type": "code",
     "collapsed": false,
     "input": [
      "import lmfit\n",
      "print 'lmfit version:', lmfit.__version__"
     ],
     "language": "python",
     "metadata": {},
     "outputs": []
    },
    {
     "cell_type": "code",
     "collapsed": false,
     "input": [
      "from IPython.html.widgets import interact, interactive, fixed\n",
      "from IPython.html import widgets\n",
      "from IPython.display import display\n",
      "from IPython.utils.traitlets import link"
     ],
     "language": "python",
     "metadata": {},
     "outputs": []
    },
    {
     "cell_type": "markdown",
     "metadata": {},
     "source": [
      "##8-spot paper plot style"
     ]
    },
    {
     "cell_type": "code",
     "collapsed": false,
     "input": [
      "PLOT_DIR = NOTEBOOK_DIR + '/figure/'"
     ],
     "language": "python",
     "metadata": {},
     "outputs": []
    },
    {
     "cell_type": "code",
     "collapsed": false,
     "input": [
      "%run -i styles/style.py\n",
      "#np.set_printoptions(formatter={'float': lambda x: '%6.2f'%x})"
     ],
     "language": "python",
     "metadata": {},
     "outputs": []
    },
    {
     "cell_type": "code",
     "collapsed": false,
     "input": [
      "import brewer2mpl\n",
      "import matplotlib as mpl\n",
      "\n",
      "# brewer2mpl.get_map args: set name  set type  number of colors\n",
      "bmap = brewer2mpl.get_map('Set1', 'qualitative', 9)\n",
      "colors = np.array(bmap.mpl_colors)[(1,0,2,3,4,8,6,7), :]\n",
      "mpl.rcParams['axes.color_cycle'] = list(colors)\n",
      "colors_labels = ['blue', 'red', 'green', 'violet', 'orange', 'gray', 'brown', 'pink', ]\n",
      "for c, cl in zip(colors, colors_labels):\n",
      "    locals()[cl] = tuple(c) # assign variables with color names"
     ],
     "language": "python",
     "metadata": {},
     "outputs": []
    },
    {
     "cell_type": "markdown",
     "metadata": {},
     "source": [
      "##Data files"
     ]
    },
    {
     "cell_type": "markdown",
     "metadata": {},
     "source": [
      "Data folder:"
     ]
    },
    {
     "cell_type": "code",
     "collapsed": false,
     "input": [
      "data_dir = NOTEBOOK_DIR + '/data/2013-05-15/'"
     ],
     "language": "python",
     "metadata": {},
     "outputs": []
    },
    {
     "cell_type": "markdown",
     "metadata": {},
     "source": [
      "Check that the folder exists:"
     ]
    },
    {
     "cell_type": "code",
     "collapsed": false,
     "input": [
      "data_dir = os.path.abspath(data_dir) + '/'\n",
      "assert os.path.exists(data_dir), \"Path '%s' does not exist.\" % data_dir"
     ],
     "language": "python",
     "metadata": {},
     "outputs": []
    },
    {
     "cell_type": "markdown",
     "metadata": {},
     "source": [
      "List of data files in `data_dir`:"
     ]
    },
    {
     "cell_type": "code",
     "collapsed": false,
     "input": [
      "from glob import glob\n",
      "file_list = sorted(glob(data_dir + '*.hdf5'))"
     ],
     "language": "python",
     "metadata": {},
     "outputs": []
    },
    {
     "cell_type": "code",
     "collapsed": false,
     "input": [
      "## Selection for POLIMI 2012-11-26 datatset\n",
      "labels = ['12d', '17d', '22d', '27d', '7d', 'DO']\n",
      "files_dict = {lab: fname for lab, fname in zip(labels, file_list)}\n",
      "files_dict"
     ],
     "language": "python",
     "metadata": {},
     "outputs": []
    },
    {
     "cell_type": "markdown",
     "metadata": {},
     "source": [
      "## Parameters from file"
     ]
    },
    {
     "cell_type": "markdown",
     "metadata": {},
     "source": [
      "Load the **leakage coefficient** from disk (computed in [Multi-spot 5-Samples analyis - Leakage coefficient fit](Multi-spot 5-Samples analyis - Leakage coefficient fit.ipynb)):"
     ]
    },
    {
     "cell_type": "code",
     "collapsed": false,
     "input": [
      "leakage_coeff_fname = 'results/Multi-spot - leakage coefficient Dem.txt'\n",
      "leakage = np.loadtxt(leakage_coeff_fname, ndmin=1)\n",
      "\n",
      "print 'Leakage coefficient:', leakage"
     ],
     "language": "python",
     "metadata": {},
     "outputs": []
    },
    {
     "cell_type": "markdown",
     "metadata": {},
     "source": [
      "Load the **direct excitation coefficient** ($d_{exT}$) from disk (computed in [usALEX - Corrections - Direct excitation physical parameter](usALEX - Corrections - Direct excitation physical parameter.ipynb)):"
     ]
    },
    {
     "cell_type": "code",
     "collapsed": false,
     "input": [
      "dir_ex_coeff_fname = 'results/usALEX - direct excitation coefficient dir_ex_t.txt'\n",
      "dir_ex_t = np.loadtxt(dir_ex_coeff_fname, ndmin=1)\n",
      "\n",
      "print 'Direct excitation coefficient (dir_ex_t):', dir_ex_t"
     ],
     "language": "python",
     "metadata": {},
     "outputs": []
    },
    {
     "cell_type": "markdown",
     "metadata": {},
     "source": [
      "##Parameters"
     ]
    },
    {
     "cell_type": "markdown",
     "metadata": {},
     "source": [
      "Analysis parameters:"
     ]
    },
    {
     "cell_type": "code",
     "collapsed": false,
     "input": [
      "gamma_pre = 1.       # Applied before FRET fit (used to correct burst data)\n",
      "gamma_post = 0.42    # Applied after FRET fit (used to correct fitted E)\n",
      "gamma_fit = 0.42     # Used to compute burst weights for the fit\n",
      "gamma1_sel = 0.42    # Used to compute burst size during burst selection\n",
      "\n",
      "hist_weights = 'size'\n",
      "\n",
      "## Background fit parameters\n",
      "bg_kwargs_auto = dict(fun=bg.exp_fit,\n",
      "                 time_s = 30,\n",
      "                 tail_min_us = 'auto',\n",
      "                 F_bg=1.7,\n",
      "                 )\n",
      "\n",
      "## Burst search\n",
      "F=6\n",
      "dither = False\n",
      "size_th = 30    # Burst size threshold (selection on corrected burst sizes)\n",
      "\n",
      "## FRET fit parameters\n",
      "bandwidth = 0.03        # KDE bandwidth\n",
      "E_range = {'7d':  (0.7, 1.0), '12d': (0.4, 0.8), '17d': (0.2, 0.4), \n",
      "           '22d': (0.0, 0.1), '27d': (0.0, 0.1), 'DO': (0.0, 0.1)}\n",
      "E_axis_kde = np.arange(-0.2, 1.2, 0.0002)"
     ],
     "language": "python",
     "metadata": {},
     "outputs": []
    },
    {
     "cell_type": "markdown",
     "metadata": {},
     "source": [
      "Processing and plot options:"
     ]
    },
    {
     "cell_type": "code",
     "collapsed": false,
     "input": [
      "# Data load options\n",
      "reload_data = 1\n",
      "burst_search = 1\n",
      "delete_ph_times = 0\n",
      "\n",
      "# Per-sample plots\n",
      "bg_plot = 0          # Plot background vs time, ph_times are needed\n",
      "timetrace_plot = 0   # Plot timetrace, ph_times are needed\n",
      "fret_plot = 1        # Plot FRET histograms\n",
      "\n",
      "# All-samples plots\n",
      "fret_dist_plot = 1\n",
      "deviance_plot = 1\n",
      "\n",
      "# Plot output options\n",
      "save_figure = 0\n",
      "nosuptitle = False\n",
      "\n",
      "plt.rc('savefig', dpi=75)  # Changes the figure size in the notebook\n",
      "savefig_kwargs =  dict(dpi=200, bbox_inches='tight')  # default save-figure options\n",
      "\n",
      "fret_plot_kw = dict(bins = r_[-0.2:1.201:bandwidth],\n",
      "                    fit_color='k', fit_alpha=0.9, fit_lw=2, #fit_fillcolor='#888888',\n",
      "                    sharey = False)"
     ],
     "language": "python",
     "metadata": {},
     "outputs": []
    },
    {
     "cell_type": "code",
     "collapsed": false,
     "input": [
      "# Make sure there is no error in the gamma definitions\n",
      "assert ((gamma_pre == 1) and (gamma_post == gamma_fit)) or \\\n",
      "       ((gamma_post == 1) and (gamma_pre == gamma_fit))"
     ],
     "language": "python",
     "metadata": {},
     "outputs": []
    },
    {
     "cell_type": "markdown",
     "metadata": {},
     "source": [
      "##Utility functions"
     ]
    },
    {
     "cell_type": "code",
     "collapsed": false,
     "input": [
      "def print_fit_report(E_pr, gamma=1, leakage=0, dir_ex_t=0, math=True):\n",
      "    \"\"\"Print fit and standard deviation for both corrected and uncorrected E\n",
      "    Returns d.E_fit.\n",
      "    \"\"\"\n",
      "    E_corr = fretmath.correct_E_gamma_leak_dir(E_pr, gamma=gamma, leakage=leakage, dir_ex_t=dir_ex_t)\n",
      "    \n",
      "    E_pr_mean = E_pr.mean()*100\n",
      "    E_pr_delta = (E_pr.max() - E_pr.min())*100\n",
      "    \n",
      "    E_corr_mean = E_corr.mean()*100\n",
      "    E_corr_delta = (E_corr.max() - E_corr.min())*100\n",
      "    if math:\n",
      "        display(Math(r'\\text{Pre}\\;\\gamma\\quad\\langle{E}_{fit}\\rangle = %.1f\\%% \\qquad'\n",
      "                     '\\Delta E_{fit} = %.2f \\%%' % \\\n",
      "                     (E_pr_mean, E_pr_delta)))\n",
      "        display(Math(r'\\text{Post}\\;\\gamma\\quad\\langle{E}_{fit}\\rangle = %.1f\\%% \\qquad'\n",
      "                     '\\Delta E_{fit} = %.2f \\%%' % \\\n",
      "                     (E_corr_mean, E_corr_delta)))\n",
      "    else:\n",
      "        print 'Pre-gamma  E (delta, mean):  %.2f  %.2f' % (E_pr_mean, E_pr_delta)\n",
      "        print 'Post-gamma E (delta, mean):  %.2f  %.2f' % (E_corr_mean, E_corr_delta)"
     ],
     "language": "python",
     "metadata": {},
     "outputs": []
    },
    {
     "cell_type": "markdown",
     "metadata": {},
     "source": [
      "#5-samples processing"
     ]
    },
    {
     "cell_type": "code",
     "collapsed": false,
     "input": [
      "import pandas as pd"
     ],
     "language": "python",
     "metadata": {},
     "outputs": []
    },
    {
     "cell_type": "code",
     "collapsed": false,
     "input": [
      "E_pr_fret = pd.DataFrame(index=['7d', '12d', '17d', 'DO'], columns=range(8))\n",
      "E_pr_fret_sig = pd.DataFrame(index=['7d', '12d', '17d', 'DO'], columns=range(8))"
     ],
     "language": "python",
     "metadata": {},
     "outputs": []
    },
    {
     "cell_type": "markdown",
     "metadata": {},
     "source": [
      "## 7bp sample"
     ]
    },
    {
     "cell_type": "code",
     "collapsed": false,
     "input": [
      "# %cd $FRETBURSTS_DIR\n",
      "# reload(mfit)"
     ],
     "language": "python",
     "metadata": {},
     "outputs": []
    },
    {
     "cell_type": "code",
     "collapsed": false,
     "input": [
      "data_id = '7d'\n",
      "if reload_data:\n",
      "    d7 = loader.hdf5(files_dict[data_id])\n",
      "    d7.calc_bg(**bg_kwargs_auto)\n",
      "if burst_search:\n",
      "    d7.burst_search_t(m=10, F=F, dither=dither)\n",
      "    if delete_ph_times: d7.delete('ph_times_m')"
     ],
     "language": "python",
     "metadata": {},
     "outputs": []
    },
    {
     "cell_type": "code",
     "collapsed": false,
     "input": [
      "gamma1_sel"
     ],
     "language": "python",
     "metadata": {},
     "outputs": []
    },
    {
     "cell_type": "code",
     "collapsed": false,
     "input": [
      "dfs7 = Sel(d7, select_bursts.size, th1=30, gamma1=gamma1_sel)\n",
      "dfs7t = Sel(d7, select_bursts.topN_nda, N=500, gamma1=gamma1_sel)\n",
      "dx = dfs7"
     ],
     "language": "python",
     "metadata": {},
     "outputs": []
    },
    {
     "cell_type": "code",
     "collapsed": false,
     "input": [
      "ds = Sel(dx, select_bursts.E, E1=0.2, E2=0.6)\n",
      "ds.num_bursts"
     ],
     "language": "python",
     "metadata": {},
     "outputs": []
    },
    {
     "cell_type": "code",
     "collapsed": false,
     "input": [
      "dsf = ds.fuse_bursts(ms=2)"
     ],
     "language": "python",
     "metadata": {},
     "outputs": []
    },
    {
     "cell_type": "code",
     "collapsed": false,
     "input": [
      "model = lmfit.models.GaussianModel(prefix='p1_') + lmfit.models.GaussianModel(prefix='p2_')"
     ],
     "language": "python",
     "metadata": {},
     "outputs": []
    },
    {
     "cell_type": "code",
     "collapsed": false,
     "input": [
      "fitter = bext.bursts_fitter(dx)\n",
      "fitter.histogram(bins=np.r_[-0.2 : 1.2 : bandwidth])\n",
      "fitter.model = mfit.factory_two_gaussians(add_bridge=True, p2_center=0.8)\n",
      "fitter.fit_histogram()"
     ],
     "language": "python",
     "metadata": {},
     "outputs": []
    },
    {
     "cell_type": "code",
     "collapsed": false,
     "input": [
      "E_pr_fret.loc[data_id] = fitter.params['p2_center']\n",
      "display(E_pr_fret.loc[[data_id]])\n",
      "print_fit_report(E_pr_fret.loc[data_id], gamma=0.42, leakage=leakage, dir_ex_t=dir_ex_t)"
     ],
     "language": "python",
     "metadata": {},
     "outputs": []
    },
    {
     "cell_type": "code",
     "collapsed": false,
     "input": [
      "dplot(dx, hist_fret, show_model=True, \n",
      "      show_fit_stats=True, fit_from='p2_center', show_fit_value=True);"
     ],
     "language": "python",
     "metadata": {},
     "outputs": []
    },
    {
     "cell_type": "code",
     "collapsed": false,
     "input": [
      "fig, axes = plt.subplots(4, 2, figsize=(14, 12), sharex=True, sharey=True)\n",
      "fig.subplots_adjust(left=0.08, right=0.96, top=0.93, bottom=0.07,\n",
      "                    wspace=0.06, hspace=0.15)\n",
      "\n",
      "for ich, ax in enumerate(axes.ravel()):\n",
      "    mfit.plot_mfit(fitter, ich=ich, ax=ax)"
     ],
     "language": "python",
     "metadata": {},
     "outputs": []
    },
    {
     "cell_type": "code",
     "collapsed": false,
     "input": [
      "fig_cache = {}\n",
      "def plot_mfit_i(ich=0, nodisplay=False):\n",
      "    global fig_cache\n",
      "    if ich not in fig_cache:\n",
      "        fig = mfit.plot_mfit(fitter, ich=ich, residuals=True, return_fig=True)\n",
      "        fig_cache[ich] = fig\n",
      "        plt.close(fig)\n",
      "    if not nodisplay:\n",
      "        display(fig_cache[ich])\n",
      "\n",
      "for i in range(8): plot_mfit_i(i, nodisplay=True)  # Precompute all the figures"
     ],
     "language": "python",
     "metadata": {},
     "outputs": []
    },
    {
     "cell_type": "code",
     "collapsed": false,
     "input": [
      "ch_txt = widgets.BoundedIntTextWidget(value=0, min=0, max=7, description='CH')\n",
      "ch_slider = widgets.IntSliderWidget(value=0, min=0, max=7)\n",
      "mylink = link((ch_txt, 'value'), (ch_slider, 'value'))\n",
      "display(ch_txt)\n",
      "interact(plot_mfit_i, ich=ch_slider, nodisplay=fixed(False));"
     ],
     "language": "python",
     "metadata": {},
     "outputs": []
    },
    {
     "cell_type": "markdown",
     "metadata": {},
     "source": [
      "## Compare the effect of burst-size weights"
     ]
    },
    {
     "cell_type": "code",
     "collapsed": false,
     "input": [
      "bext.bursts_fitter(dx, weights=None)\n",
      "dx.E_fitter.fit_histogram(mfit.factory_two_gaussians())\n",
      "dplot(dx, hist_fret, weights=None, show_model=True, show_fit_stats=True, fit_from='p2_center');\n",
      "ylim(0, 6)\n",
      "fig_no_w = gcf()\n",
      "plt.close(fig_no_w)\n",
      "\n",
      "bext.bursts_fitter(dx, weights='size', gamma=0.43)\n",
      "dx.E_fitter.fit_histogram(mfit.factory_two_gaussians())\n",
      "dplot(dx, hist_fret, weights='size', gamma=0.43,\n",
      "      show_model=True, show_fit_stats=True, fit_from='p2_center');\n",
      "fig_w = gcf()\n",
      "plt.close(fig_w)\n",
      "\n",
      "def _plot(weights=False):\n",
      "    if weights:\n",
      "        display(fig_w)\n",
      "    else:\n",
      "        display(fig_no_w)\n",
      "\n",
      "interact(_plot, weights=False);"
     ],
     "language": "python",
     "metadata": {},
     "outputs": []
    },
    {
     "cell_type": "markdown",
     "metadata": {},
     "source": [
      "## 12bp sample"
     ]
    },
    {
     "cell_type": "code",
     "collapsed": false,
     "input": [
      "data_id = '12d'\n",
      "if reload_data: \n",
      "    d12 = loader.hdf5(files_dict[data_id])\n",
      "    d12.calc_bg_cache(**bg_kwargs_auto)\n",
      "if burst_search:\n",
      "    d12.burst_search_t(m=10, F=F, dither=dither)\n",
      "    if delete_ph_times: d12.delete('ph_times_m')"
     ],
     "language": "python",
     "metadata": {},
     "outputs": []
    },
    {
     "cell_type": "code",
     "collapsed": false,
     "input": [
      "weights = 'size'\n",
      "\n",
      "dfs12 = Sel(d12, select_bursts.size, th1=30, gamma1=gamma1_sel)\n",
      "dfs12t = Sel(d12, select_bursts.topN_nda, N=3000, gamma1=gamma1_sel)\n",
      "dx = dfs12"
     ],
     "language": "python",
     "metadata": {},
     "outputs": []
    },
    {
     "cell_type": "code",
     "collapsed": false,
     "input": [
      "fitter = bext.bursts_fitter(dx)\n",
      "fitter.histogram(bins=np.r_[-0.2 : 1.2 : bandwidth])\n",
      "fitter.model = mfit.factory_two_gaussians(add_bridge=True, p2_center=0.65)\n",
      "fitter.fit_histogram()\n",
      "E_pr_fret.loc[data_id] = fitter.params['p2_center']\n",
      "display(E_pr_fret.loc[[data_id]])\n",
      "print_fit_report(E_pr_fret.loc[data_id], gamma=0.42, leakage=leakage, dir_ex_t=dir_ex_t)"
     ],
     "language": "python",
     "metadata": {},
     "outputs": []
    },
    {
     "cell_type": "code",
     "collapsed": false,
     "input": [
      "dplot(dx, hist_fret, show_model=True, \n",
      "      show_fit_stats=True, fit_from='p2_center', show_fit_value=True);"
     ],
     "language": "python",
     "metadata": {},
     "outputs": []
    },
    {
     "cell_type": "markdown",
     "metadata": {},
     "source": [
      "## 17bp sample"
     ]
    },
    {
     "cell_type": "code",
     "collapsed": false,
     "input": [
      "# %cd $FRETBURSTS_DIR\n",
      "# reload(mfit)"
     ],
     "language": "python",
     "metadata": {},
     "outputs": []
    },
    {
     "cell_type": "code",
     "collapsed": false,
     "input": [
      "data_id = '17d'\n",
      "if reload_data:\n",
      "    d17 = loader.hdf5(files_dict[data_id])\n",
      "    d17.calc_bg_cache(**bg_kwargs_auto)\n",
      "if burst_search:\n",
      "    d17.burst_search_t(m=10, F=F, dither=dither)\n",
      "    if delete_ph_times: d17.delete('ph_times_m')"
     ],
     "language": "python",
     "metadata": {},
     "outputs": []
    },
    {
     "cell_type": "code",
     "collapsed": false,
     "input": [
      "dfs17 = Sel(d17, select_bursts.size, th1=30, gamma1=gamma1_sel)\n",
      "dfs17t = Sel(d17, select_bursts.topN_nda, N=1000, gamma1=gamma1_sel)\n",
      "dx = dfs17"
     ],
     "language": "python",
     "metadata": {},
     "outputs": []
    },
    {
     "cell_type": "code",
     "collapsed": false,
     "input": [
      "fitter = bext.bursts_fitter(dx)\n",
      "fitter.histogram(bins=np.r_[-0.2 : 1.2 : bandwidth])\n",
      "fitter.model = mfit.factory_two_gaussians(add_bridge=False, p2_center=0.4)\n",
      "fitter.fit_histogram()\n",
      "E_pr_fret.loc[data_id] = fitter.params['p2_center']\n",
      "display(E_pr_fret.loc[[data_id]])\n",
      "print_fit_report(E_pr_fret.loc[data_id], gamma=0.42, leakage=leakage, dir_ex_t=dir_ex_t)"
     ],
     "language": "python",
     "metadata": {},
     "outputs": []
    },
    {
     "cell_type": "code",
     "collapsed": false,
     "input": [
      "dplot(dx, hist_fret, show_model=True, \n",
      "      show_fit_stats=True, fit_from='p2_center', show_fit_value=True);"
     ],
     "language": "python",
     "metadata": {},
     "outputs": []
    },
    {
     "cell_type": "markdown",
     "metadata": {},
     "source": [
      "## 22bp sample"
     ]
    },
    {
     "cell_type": "code",
     "collapsed": false,
     "input": [
      "data_id = '22d'\n",
      "if reload_data:\n",
      "    d22 = loader.hdf5(files_dict[data_id])\n",
      "    d22.calc_bg_cache(**bg_kwargs_auto)\n",
      "if burst_search:\n",
      "    d22.burst_search_t(m=10, F=F, dither=dither)\n",
      "    if delete_ph_times: d22.delete('ph_times_m')"
     ],
     "language": "python",
     "metadata": {},
     "outputs": []
    },
    {
     "cell_type": "code",
     "collapsed": false,
     "input": [
      "dfs22 = Sel(d22, select_bursts.size, th1=30, gamma1=gamma1_sel)\n",
      "dfs22t = Sel(d22, select_bursts.topN_nda, N=300, gamma1=gamma1_sel)\n",
      "dx = dfs22"
     ],
     "language": "python",
     "metadata": {},
     "outputs": []
    },
    {
     "cell_type": "code",
     "collapsed": false,
     "input": [
      "fitter = bext.bursts_fitter(dx)\n",
      "fitter.histogram(bins=np.r_[-0.2 : 1.2 : bandwidth])\n",
      "fitter.model = mfit.factory_gaussian()\n",
      "fitter.fit_histogram()\n",
      "E_pr_fret.loc[data_id] = fitter.params['center']\n",
      "display(E_pr_fret.loc[[data_id]])\n",
      "print_fit_report(E_pr_fret.loc[data_id], gamma=0.42, leakage=leakage, dir_ex_t=dir_ex_t)"
     ],
     "language": "python",
     "metadata": {},
     "outputs": []
    },
    {
     "cell_type": "code",
     "collapsed": false,
     "input": [
      "dplot(dx, hist_fret, show_model=True, \n",
      "      show_fit_stats=True, fit_from='center', show_fit_value=True);"
     ],
     "language": "python",
     "metadata": {},
     "outputs": []
    },
    {
     "cell_type": "markdown",
     "metadata": {},
     "source": [
      "## 27bp sample"
     ]
    },
    {
     "cell_type": "code",
     "collapsed": false,
     "input": [
      "data_id = '27d'\n",
      "if reload_data:\n",
      "    d27 = loader.hdf5(files_dict[data_id])\n",
      "    d27.calc_bg_cache(**bg_kwargs_auto)\n",
      "if burst_search:\n",
      "    d27.burst_search_t(m=10, F=F, dither=dither)#, ph_sel=Ph_sel(Dex='Dem'))\n",
      "    if delete_ph_times: d27.delete('ph_times_m')"
     ],
     "language": "python",
     "metadata": {},
     "outputs": []
    },
    {
     "cell_type": "code",
     "collapsed": false,
     "input": [
      "dfs27 = Sel(d27, select_bursts.size, th1=30, gamma1=gamma1_sel)\n",
      "dfs27t = Sel(d27, select_bursts.topN_nda, N=3000, gamma1=gamma1_sel)\n",
      "dx = dfs27"
     ],
     "language": "python",
     "metadata": {},
     "outputs": []
    },
    {
     "cell_type": "code",
     "collapsed": false,
     "input": [
      "fitter = bext.bursts_fitter(dx)\n",
      "fitter.histogram(bins=np.r_[-0.2 : 1.2 : bandwidth])\n",
      "fitter.model = mfit.factory_asym_gaussian()\n",
      "fitter.fit_histogram()\n",
      "E_pr_fret.loc[data_id] = fitter.params['center']\n",
      "display(E_pr_fret.loc[[data_id]])\n",
      "print_fit_report(E_pr_fret.loc[data_id], gamma=0.42, leakage=leakage, dir_ex_t=dir_ex_t)"
     ],
     "language": "python",
     "metadata": {},
     "outputs": []
    },
    {
     "cell_type": "code",
     "collapsed": false,
     "input": [
      "dplot(dx, hist_fret, show_model=True, \n",
      "      show_fit_stats=True, fit_from='center', show_fit_value=True);"
     ],
     "language": "python",
     "metadata": {},
     "outputs": []
    },
    {
     "cell_type": "code",
     "collapsed": false,
     "input": [
      "fitter = bext.bursts_fitter(dx)\n",
      "fitter.histogram(bins=np.r_[-0.2 : 1.2 : bandwidth])\n",
      "fitter.model = mfit.factory_gaussian()\n",
      "fitter.fit_histogram()\n",
      "E_pr_fret.loc[data_id] = fitter.params['center']\n",
      "display(E_pr_fret.loc[[data_id]])\n",
      "print_fit_report(E_pr_fret.loc[data_id], gamma=0.42, leakage=leakage, dir_ex_t=dir_ex_t)"
     ],
     "language": "python",
     "metadata": {},
     "outputs": []
    },
    {
     "cell_type": "code",
     "collapsed": false,
     "input": [
      "dplot(dx, hist_fret, show_model=True, \n",
      "      show_fit_stats=True, fit_from='center', show_fit_value=True);"
     ],
     "language": "python",
     "metadata": {},
     "outputs": []
    },
    {
     "cell_type": "markdown",
     "metadata": {},
     "source": [
      "## D-only sample"
     ]
    },
    {
     "cell_type": "code",
     "collapsed": false,
     "input": [
      "data_id = 'DO'\n",
      "if reload_data:\n",
      "    do = loader.hdf5(files_dict[data_id])\n",
      "    do.calc_bg_cache(**bg_kwargs_auto)\n",
      "if burst_search:\n",
      "    do.burst_search_t(m=10, F=F, dither=dither, ph_sel=Ph_sel(Dex='Dem'))\n",
      "    if delete_ph_times: do.delete('ph_times_m')"
     ],
     "language": "python",
     "metadata": {},
     "outputs": []
    },
    {
     "cell_type": "code",
     "collapsed": false,
     "input": [
      "dfso = Sel(do, select_bursts.size, th1=30, gamma1=gamma1_sel)\n",
      "dfsot = Sel(do, select_bursts.topN_nda, N=800, gamma1=gamma1_sel)\n",
      "dx = dfso"
     ],
     "language": "python",
     "metadata": {},
     "outputs": []
    },
    {
     "cell_type": "code",
     "collapsed": false,
     "input": [
      "fitter = bext.bursts_fitter(dx)\n",
      "fitter.histogram(bins=np.r_[-0.2 : 1.2 : bandwidth])\n",
      "fitter.model = mfit.factory_asym_gaussian()\n",
      "fitter.fit_histogram()\n",
      "E_pr_fret.loc[data_id] = fitter.params['center']\n",
      "display(E_pr_fret.loc[[data_id]])\n",
      "print_fit_report(E_pr_fret.loc[data_id], gamma=0.42, leakage=leakage, dir_ex_t=0)"
     ],
     "language": "python",
     "metadata": {},
     "outputs": []
    },
    {
     "cell_type": "code",
     "collapsed": false,
     "input": [
      "dplot(dx, hist_fret, show_model=True, \n",
      "      show_fit_stats=True, fit_from='center', show_fit_value=True);"
     ],
     "language": "python",
     "metadata": {},
     "outputs": []
    },
    {
     "cell_type": "code",
     "collapsed": false,
     "input": [
      "fitter = bext.bursts_fitter(dx)\n",
      "fitter.histogram(bins=np.r_[-0.2 : 1.2 : bandwidth])\n",
      "fitter.model = mfit.factory_gaussian()\n",
      "fitter.fit_histogram()\n",
      "E_pr_fret.loc[data_id] = fitter.params['center']\n",
      "display(E_pr_fret.loc[[data_id]])\n",
      "print_fit_report(E_pr_fret.loc[data_id], gamma=0.42, leakage=leakage, dir_ex_t=0)"
     ],
     "language": "python",
     "metadata": {},
     "outputs": []
    },
    {
     "cell_type": "code",
     "collapsed": false,
     "input": [
      "dplot(dx, hist_fret, show_model=True, \n",
      "      show_fit_stats=True, fit_from='center', show_fit_value=True);"
     ],
     "language": "python",
     "metadata": {},
     "outputs": []
    },
    {
     "cell_type": "markdown",
     "metadata": {},
     "source": [
      "##5-samples: global analysis"
     ]
    },
    {
     "cell_type": "code",
     "collapsed": false,
     "input": [
      "cd $NOTEBOOK_DIR"
     ],
     "language": "python",
     "metadata": {},
     "outputs": []
    },
    {
     "cell_type": "markdown",
     "metadata": {},
     "source": [
      "Proximity ratios fitted from multispot data:"
     ]
    },
    {
     "cell_type": "code",
     "collapsed": false,
     "input": [
      "E_pr_fret"
     ],
     "language": "python",
     "metadata": {},
     "outputs": []
    },
    {
     "cell_type": "code",
     "collapsed": false,
     "input": [
      "norm = (E_pr_fret.T - E_pr_fret.mean(1))#/E_pr_fret.mean(1)\n",
      "norm_rel = (E_pr_fret.T - E_pr_fret.mean(1))/E_pr_fret.mean(1)\n",
      "norm.plot()\n",
      "norm_rel.plot()"
     ],
     "language": "python",
     "metadata": {},
     "outputs": []
    },
    {
     "cell_type": "code",
     "collapsed": false,
     "input": [
      "mch_plot_bg(dx)"
     ],
     "language": "python",
     "metadata": {},
     "outputs": []
    },
    {
     "cell_type": "markdown",
     "metadata": {},
     "source": [
      "> **NOTE:** The 27d and DO samples have a trend that correlates with the A-ch background. For these samples could be beneficial to use a D-only burst search.\n",
      "\n",
      "> **NOTE 2**: Like observed during the leakage fit, even a D-only burst search results in +2% offset (DO) in CH1, this cannot be correlation with the A-background and must be slightly different gamma in the spot."
     ]
    },
    {
     "cell_type": "markdown",
     "metadata": {},
     "source": [
      "Corrected $E$ from \u03bcs-ALEX data:"
     ]
    },
    {
     "cell_type": "code",
     "collapsed": false,
     "input": [
      "data_file = 'results/usALEX-5samples-E-corrected-all-ph.txt'\n",
      "data_alex = pd.read_csv(data_file, sep=\"\\s+\").set_index('sample')#[['E_pr_fret_kde']]\n",
      "data_alex"
     ],
     "language": "python",
     "metadata": {},
     "outputs": []
    },
    {
     "cell_type": "code",
     "collapsed": false,
     "input": [
      "E_alex = data_alex.E_gauss_w\n",
      "E_alex"
     ],
     "language": "python",
     "metadata": {},
     "outputs": []
    },
    {
     "cell_type": "markdown",
     "metadata": {},
     "source": [
      "## Multi-spot gamma fitting"
     ]
    },
    {
     "cell_type": "code",
     "collapsed": false,
     "input": [
      "import lmfit"
     ],
     "language": "python",
     "metadata": {},
     "outputs": []
    },
    {
     "cell_type": "code",
     "collapsed": false,
     "input": [
      "def residuals(params, E_raw, E_ref):\n",
      "    gamma = params['gamma'].value\n",
      "    return E_ref - fretmath.correct_E_gamma_leak_dir(E_raw, leakage=leakage, gamma=gamma, dir_ex_t=dir_ex_t)"
     ],
     "language": "python",
     "metadata": {},
     "outputs": []
    },
    {
     "cell_type": "code",
     "collapsed": false,
     "input": [
      "params = lmfit.Parameters()\n",
      "params.add('gamma', value=0.5) "
     ],
     "language": "python",
     "metadata": {},
     "outputs": []
    },
    {
     "cell_type": "code",
     "collapsed": false,
     "input": [
      "E_pr_fret_mean = E_pr_fret.loc[E_pr_fret.index != 'DO'].mean(1)\n",
      "E_pr_fret_mean"
     ],
     "language": "python",
     "metadata": {},
     "outputs": []
    },
    {
     "cell_type": "code",
     "collapsed": false,
     "input": [
      "m = lmfit.minimize(residuals, params, args=(E_pr_fret_mean, E_alex))\n",
      "lmfit.report_fit(m.params, show_correl=False)"
     ],
     "language": "python",
     "metadata": {},
     "outputs": []
    },
    {
     "cell_type": "code",
     "collapsed": false,
     "input": [
      "E_alex['17d'], E_pr_fret_mean['17d']"
     ],
     "language": "python",
     "metadata": {},
     "outputs": []
    },
    {
     "cell_type": "code",
     "collapsed": false,
     "input": [
      "m = lmfit.minimize(residuals, params, args=(np.array([E_pr_fret_mean['17d']]), np.array([E_alex['17d']])))\n",
      "lmfit.report_fit(m.params, show_correl=False)"
     ],
     "language": "python",
     "metadata": {},
     "outputs": []
    },
    {
     "cell_type": "code",
     "collapsed": false,
     "input": [
      "print 'Fitted gamma:', m.params['gamma'].value"
     ],
     "language": "python",
     "metadata": {},
     "outputs": []
    },
    {
     "cell_type": "code",
     "collapsed": false,
     "input": [
      "multispot_gamma = m.values['gamma']\n",
      "multispot_gamma"
     ],
     "language": "python",
     "metadata": {},
     "outputs": []
    },
    {
     "cell_type": "code",
     "collapsed": false,
     "input": [
      "E_fret_mch = fretmath.correct_E_gamma_leak_dir(E_pr_fret, leakage=leakage, dir_ex_t=dir_ex_t, \n",
      "                                               gamma=multispot_gamma\n",
      "                                               ).loc[E_pr_fret.index != 'DO']\n",
      "E_fret_mch"
     ],
     "language": "python",
     "metadata": {},
     "outputs": []
    },
    {
     "cell_type": "code",
     "collapsed": false,
     "input": [
      "norm = (E_fret_mch.T - E_fret_mch.mean(1))#/E_pr_fret.mean(1)\n",
      "norm_rel = (E_fret_mch.T - E_fret_mch.mean(1))/E_fret_mch.mean(1)\n",
      "norm.plot()\n",
      "norm_rel.plot()"
     ],
     "language": "python",
     "metadata": {},
     "outputs": []
    },
    {
     "cell_type": "markdown",
     "metadata": {},
     "source": [
      "## Merging the channels"
     ]
    },
    {
     "cell_type": "markdown",
     "metadata": {},
     "source": [
      "Merge the data of the different channels:"
     ]
    },
    {
     "cell_type": "code",
     "collapsed": false,
     "input": [
      "dfs7c = dfs7.collapse()\n",
      "dfs12c = dfs12.collapse()\n",
      "dfs17c = dfs17.collapse()\n",
      "dfs22c = dfs22.collapse()\n",
      "dfs27c = dfs27.collapse()\n",
      "dfsoc = dfso.collapse()"
     ],
     "language": "python",
     "metadata": {},
     "outputs": []
    },
    {
     "cell_type": "markdown",
     "metadata": {},
     "source": [
      "## Define samples lists"
     ]
    },
    {
     "cell_type": "markdown",
     "metadata": {},
     "source": [
      "Define list of results and labels:"
     ]
    },
    {
     "cell_type": "code",
     "collapsed": false,
     "input": [
      "d_samples = [dfs7, dfs12, dfs17, dfs22, dfs27, dfso]\n",
      "d_samples_topN = [dfs7t, dfs12t, dfs17t, dfs22t, dfs27t, dfsot]\n",
      "d_samples_c = [dfs7c, dfs12c, dfs17c, dfs22c, dfs27c ]\n",
      "d_labels = ['7d', '12d', '17d', '22d', '27d', 'DO']\n",
      "CH = np.arange(1, 9)\n",
      "CH_labels = ['CH%d' % i for i in CH]\n",
      "dist_s_bp = [7, 12, 17, 22, 27]"
     ],
     "language": "python",
     "metadata": {},
     "outputs": []
    },
    {
     "cell_type": "markdown",
     "metadata": {},
     "source": [
      "Print a summary of current processed data:"
     ]
    },
    {
     "cell_type": "code",
     "collapsed": false,
     "input": [
      "def print_params(d_samples, d_labels, status=False):\n",
      "    print 'Sample              Model             Ph_sel'\n",
      "    for dx, name in zip(d_samples, d_labels):\n",
      "        print \"%3s %25s %35s\" % (name, dx.E_fitter.model.name, dx.ph_sel)\n",
      "    if status:\n",
      "        print\n",
      "        for dx, name in zip(d_samples, d_labels):\n",
      "            print dx.status()"
     ],
     "language": "python",
     "metadata": {},
     "outputs": []
    },
    {
     "cell_type": "code",
     "collapsed": false,
     "input": [
      "print_params(d_samples, d_labels, 1)"
     ],
     "language": "python",
     "metadata": {},
     "outputs": []
    },
    {
     "cell_type": "markdown",
     "metadata": {},
     "source": [
      "###Plot FRET vs distance"
     ]
    },
    {
     "cell_type": "code",
     "collapsed": false,
     "input": [
      "text_pos = {'7d': (10.5, 0.92), '12d': (15.5, 0.74), '17d': (16, 0.43), '22d': (21, 0.18), '27d': (29, 0.15)}\n",
      "text_kwargs = dict(ha='right', va='center', \n",
      "                   bbox=dict(facecolor='white', edgecolor='white'),\n",
      "                   zorder=2, fontsize=fontsize-1,\n",
      "                   )\n",
      "dfun = lambda E_fit: 100*(E_fit.max()-E_fit.min())\n",
      "fig, ax = plt.subplots()\n",
      "\n",
      "ax.plot(dist_s_bp, E_fret_mch, '+', lw=2, mew=1.2, ms=8, zorder=4)\n",
      "ax.plot(dist_s_bp, E_alex, '-', lw=3, mew=0, alpha=0.5, color='r', zorder=3)\n",
      "\n",
      "plt.title('Multi-spot smFRET dsDNA, Gamma = %.2f' % multispot_gamma)\n",
      "plt.xlabel('Distance in base-pairs', fontsize=fontsize); \n",
      "plt.ylabel('E', fontsize=fontsize)\n",
      "plt.ylim(0, 1); plt.xlim(0, 30)\n",
      "plt.grid(True)\n",
      "plt.legend(['CH1','CH2','CH3','CH4','CH5','CH6','CH7','CH8', u'\u03bcsALEX'], \n",
      "       fancybox=True, prop={'size':fontsize-1},\n",
      "       #loc='upper right', bbox_to_anchor=(1.05, 1))\n",
      "       loc='best')\n",
      "\n",
      "if deviance_plot:\n",
      "    for sample in E_fret_mch.index:\n",
      "        delta = dfun(E_fret_mch.loc[sample])\n",
      "        text_kwargs.update(\n",
      "                          s=\"%.1f%%\" % delta, \n",
      "                          #s=\"$\\Delta = %.1f%%$\" % delta, \n",
      "                          x=text_pos[sample][0],\n",
      "                          y=text_pos[sample][1],\n",
      "                          )\n",
      "        ax.text(**text_kwargs)\n",
      "\n",
      "#ax.set_axisbelow(True)\n",
      "#if save_figure: plt.savefig(\"FRET vs distance - %s SPW F%d.png\" % (fret_gen_fit_func.__name__, F))\n",
      "#plt.savefig(PLOT_DIR+\"FRET vs distance - Gpost_th30.png\", dpi=200, bbox_inches='tight')"
     ],
     "language": "python",
     "metadata": {},
     "outputs": []
    },
    {
     "cell_type": "code",
     "collapsed": false,
     "input": [
      "E_alex"
     ],
     "language": "python",
     "metadata": {},
     "outputs": []
    },
    {
     "cell_type": "code",
     "collapsed": false,
     "input": [
      "E_fret_mch.mean(1)"
     ],
     "language": "python",
     "metadata": {},
     "outputs": []
    },
    {
     "cell_type": "markdown",
     "metadata": {},
     "source": [
      "> **NOTE** The fact the we fit the 27d with a single Gaussian may account for the slight shift of the FRET efficiency compared to the us-ALEX measurements. The shift is bigger when using an asymmetric-gaussian model for multi-spot fitting. Probably, for consistency with us-ALEX fitting we should stick to the plain gaussian."
     ]
    },
    {
     "cell_type": "code",
     "collapsed": false,
     "input": [
      "red, blue, green, grey, black, brown, purple, orange = ['#e41a1c', '#3771c8', '#2ca02c', '#999999', \n",
      "                                        '#333333', '#a65628', '#984ea3', '#ff7f00']\n",
      "colors_cycle = [blue, red, green, orange, grey, brown, black, purple]\n",
      "mpl.rcParams['axes.color_cycle'] = colors_cycle"
     ],
     "language": "python",
     "metadata": {},
     "outputs": []
    },
    {
     "cell_type": "code",
     "collapsed": false,
     "input": [
      "stop"
     ],
     "language": "python",
     "metadata": {},
     "outputs": []
    },
    {
     "cell_type": "markdown",
     "metadata": {},
     "source": [
      "##D-only fraction"
     ]
    },
    {
     "cell_type": "code",
     "collapsed": false,
     "input": [
      "fit_type = '2gauss'\n",
      "hist_weights = 'size'"
     ],
     "language": "python",
     "metadata": {},
     "outputs": []
    },
    {
     "cell_type": "code",
     "collapsed": false,
     "input": [
      "dfs7t = Sel(d7, select_bursts.topN_nda, N=1500, gamma1=gamma1_sel)\n",
      "dfs12t = Sel(d12, select_bursts.topN_nda, N=2000, gamma1=gamma1_sel)\n",
      "dfs17t = Sel(d17, select_bursts.topN_nda, N=1000, gamma1=gamma1_sel)"
     ],
     "language": "python",
     "metadata": {},
     "outputs": []
    },
    {
     "cell_type": "code",
     "collapsed": false,
     "input": [
      "%cd $FRETBURSTS_DIR\n",
      "reload(mfit)"
     ],
     "language": "python",
     "metadata": {},
     "outputs": []
    },
    {
     "cell_type": "code",
     "collapsed": false,
     "input": [
      "dx = dfs7t\n",
      "fit = mfit.MultiFitter(dx.E)\n",
      "fit.set_weights_func(weight_func=bl.fret_fit.get_weights,\n",
      "                        weight_kwargs = dict(weights='size', nd=dx.nd, na=dx.na, \n",
      "                                             gamma=multispot_gamma))\n",
      "fit.histogram(bin_width=0.03)\n",
      "fit.fit_histogram(mfit.factory_two_gaussians)\n",
      "fit.params"
     ],
     "language": "python",
     "metadata": {},
     "outputs": []
    },
    {
     "cell_type": "code",
     "collapsed": false,
     "input": [
      "dfs7t.fit_E_generic(fit_fun=bl.two_gaussian_fit_hist_min_ab, \n",
      "                   weights=hist_weights, gamma=gamma_fit, **fret_fit_kwargs[fit_type])\n",
      "\n",
      "do_frac_th7t, do_frac_fit7t = donly_fraction(dfs7t, E_th=0.35, fit=True, num_ph=True, gamma=gamma_fit)"
     ],
     "language": "python",
     "metadata": {},
     "outputs": []
    },
    {
     "cell_type": "code",
     "collapsed": false,
     "input": [
      "dfs7t.fit_E_generic(fit_fun=bl.two_gaussian_fit_hist_min_ab, \n",
      "                   weights=hist_weights, gamma=gamma_fit, **fret_fit_kwargs[fit_type])\n",
      "\n",
      "do_frac_th7t, do_frac_fit7t = donly_fraction(dfs7t, E_th=0.35, fit=True, num_ph=True, gamma=gamma_fit)"
     ],
     "language": "python",
     "metadata": {},
     "outputs": []
    },
    {
     "cell_type": "code",
     "collapsed": false,
     "input": [
      "dfs12t.fit_E_generic(E1=fret_fit_E_raw[fit_type]['12d'], fit_fun=fret_fit_func[fit_type], \n",
      "                   weights=hist_weights, gamma=gamma_fit, **fret_fit_kwargs[fit_type])\n",
      "\n",
      "do_frac_th12t, do_frac_fit12t, = donly_fraction(dfs12t, E_th=0.2, fit=True, num_ph=True, gamma=gamma_fit)"
     ],
     "language": "python",
     "metadata": {},
     "outputs": []
    },
    {
     "cell_type": "code",
     "collapsed": false,
     "input": [
      "dfs17t.fit_E_generic(E1=fret_fit_E_raw[fit_type]['17d'], fit_fun=fret_fit_func[fit_type], \n",
      "                   weights=hist_weights, gamma=gamma_fit, **fret_fit_kwargs[fit_type])\n",
      "\n",
      "do_frac_th17t, do_frac_fit17t, = donly_fraction(dfs17t, E_th=0.075, fit=True, num_ph=True, gamma=gamma_fit)"
     ],
     "language": "python",
     "metadata": {},
     "outputs": []
    },
    {
     "cell_type": "code",
     "collapsed": false,
     "input": [
      "fit_type = '2gauss'\n",
      "hist_weights = 'size'\n",
      "\n",
      "dfs7.fit_E_generic(E1=fret_fit_E_raw[fit_type]['7d'], fit_fun=fret_fit_func[fit_type], \n",
      "                   weights=hist_weights, gamma=gamma_fit, **fret_fit_kwargs[fit_type])\n",
      "dfs12.fit_E_generic(E1=fret_fit_E_raw[fit_type]['12d'], fit_fun=fret_fit_func[fit_type], \n",
      "                   weights=hist_weights, gamma=gamma_fit, **fret_fit_kwargs[fit_type])\n",
      "dfs17.fit_E_generic(E1=fret_fit_E_raw[fit_type]['17d'], fit_fun=fret_fit_func[fit_type], \n",
      "                   weights=hist_weights, gamma=gamma_fit, **fret_fit_kwargs[fit_type])\n",
      "\n",
      "do_frac_th7, do_frac_fit7 = donly_fraction(dfs7, E_th=0.35, fit=True, num_ph=True, gamma=gamma_fit)\n",
      "do_frac_th12, do_frac_fit12 = donly_fraction(dfs12, E_th=0.2, fit=True, num_ph=True, gamma=gamma_fit)\n",
      "do_frac_th17, do_frac_fit17 = donly_fraction(dfs17, E_th=0.075, fit=True, num_ph=True, gamma=gamma_fit)\n",
      "\n",
      "dfs7t.fit_E_generic(E1=fret_fit_E_raw[fit_type]['7d'], fit_fun=fret_fit_func[fit_type], \n",
      "                   weights=hist_weights, gamma=gamma_fit, **fret_fit_kwargs[fit_type])\n",
      "dfs12t.fit_E_generic(E1=fret_fit_E_raw[fit_type]['12d'], fit_fun=fret_fit_func[fit_type], \n",
      "                   weights=hist_weights, gamma=gamma_fit, **fret_fit_kwargs[fit_type])\n",
      "dfs17t.fit_E_generic(E1=fret_fit_E_raw[fit_type]['17d'], fit_fun=fret_fit_func[fit_type], \n",
      "                   weights=hist_weights, gamma=gamma_fit, **fret_fit_kwargs[fit_type])\n",
      "\n",
      "do_frac_th7t, do_frac_fit7t = donly_fraction(dfs7t, E_th=0.35, fit=True, num_ph=True, gamma=gamma_fit)\n",
      "do_frac_th12t, do_frac_fit12t, = donly_fraction(dfs12t, E_th=0.2, fit=True, num_ph=True, gamma=gamma_fit)\n",
      "do_frac_th17t, do_frac_fit17t, = donly_fraction(dfs17t, E_th=0.075, fit=True, num_ph=True, gamma=gamma_fit)"
     ],
     "language": "python",
     "metadata": {},
     "outputs": []
    },
    {
     "cell_type": "code",
     "collapsed": false,
     "input": [
      "do_frac_topN = np.vstack([do_frac_fit7t, do_frac_fit12t, do_frac_fit17t])"
     ],
     "language": "python",
     "metadata": {},
     "outputs": []
    },
    {
     "cell_type": "code",
     "collapsed": false,
     "input": [
      "plot(do_frac_topN, '-o')\n",
      "plt.title('D-only fraction vs sample');\n",
      "xlim(-0.5, 2.5)\n",
      "plt.xticks([0, 1, 2])\n",
      "gca().set_xticklabels(['7bp', '12bp', '17bp']);"
     ],
     "language": "python",
     "metadata": {},
     "outputs": []
    },
    {
     "cell_type": "code",
     "collapsed": false,
     "input": [
      "do_frac_th30 = np.vstack([do_frac_fit7, do_frac_fit12, do_frac_fit17])"
     ],
     "language": "python",
     "metadata": {},
     "outputs": []
    },
    {
     "cell_type": "code",
     "collapsed": false,
     "input": [
      "do_frac_topN"
     ],
     "language": "python",
     "metadata": {},
     "outputs": []
    },
    {
     "cell_type": "code",
     "collapsed": false,
     "input": [
      "do_frac_th30"
     ],
     "language": "python",
     "metadata": {},
     "outputs": []
    },
    {
     "cell_type": "code",
     "collapsed": false,
     "input": [
      "title_ = 'D-only fraction vs CH (2gauss, th30)'\n",
      "print title_, '\\n'\n",
      "\n",
      "for s in do_frac_th30:\n",
      "    print ''.join([\"%.2f, \"]*8) % tuple(s)\n",
      "\n",
      "print '      Mean Std.Dev'\n",
      "for s,l in zip(do_frac_th30, d_labels):\n",
      "    print \"%3s:  %.1f  %.1f \" % (l, s.mean()*100, s.std()*100)\n",
      "\n",
      "plot(do_frac_th30.T[:, :3], '-s')\n",
      "plt.title(title_)\n",
      "plt.ylim(0.0,0.5)\n",
      "plt.xlim(-0.5, 7.5)\n",
      "plt.legend(['7d', '12d', '17d'], loc='lower right', ncol=3)\n",
      "#plt.savefig(PLOT_DIR+'D-only fraction 3sample th30.png', dpi=200, bbox_inches='tight');"
     ],
     "language": "python",
     "metadata": {},
     "outputs": []
    },
    {
     "cell_type": "code",
     "collapsed": false,
     "input": [
      "title_ = 'D-only fraction vs CH (2gauss,topN)'\n",
      "print title_, '\\n'\n",
      "\n",
      "for s in do_frac_topN:\n",
      "    print ''.join([\"%.2f, \"]*8) % tuple(s)\n",
      "\n",
      "print '      Mean Std.Dev'\n",
      "for s,l in zip(do_frac_topN, d_labels):\n",
      "    print \"%3s:  %.1f  %.1f \" % (l, s.mean()*100, s.std()*100)\n",
      "\n",
      "plot(do_frac_topN.T[:, :3], '-s')\n",
      "plt.title(title_)\n",
      "plt.ylim(0.0,0.5)\n",
      "plt.xlim(-0.5, 7.5)\n",
      "plt.legend(['7d', '12d', '17d'], loc='lower right', ncol=3)\n",
      "#plt.savefig(PLOT_DIR+'D-only fraction 3sample topN.png', dpi=200, bbox_inches='tight');"
     ],
     "language": "python",
     "metadata": {},
     "outputs": []
    },
    {
     "cell_type": "code",
     "collapsed": false,
     "input": [
      "a = np.hstack((do_frac_topN.T[:, :3], do_frac_th30.T[:, :3]))\n",
      "bp = plt.boxplot(a[:, (0, 3, 1, 4, 2, 5)], whis=np.inf)\n",
      "plt.gca().set_xticklabels(['7d topN', '7d th30', '12d topN', '12d th30', '17d topN', '17d th30',],\n",
      "                          rotation=45)\n",
      "plt.setp(bp['boxes'], color=blue)\n",
      "plt.setp(bp['whiskers'], color='black')\n",
      "plt.setp(bp['fliers'], color='red', marker='+')\n",
      "plt.setp(bp['medians'], color='red')\n",
      "plt.title('D-only fraction')\n",
      "#plt.savefig(PLOT_DIR+'D-only fraction 3sample boxplot.png', dpi=200, bbox_inches='tight');"
     ],
     "language": "python",
     "metadata": {},
     "outputs": []
    },
    {
     "cell_type": "markdown",
     "metadata": {},
     "source": [
      "#All samples Plots"
     ]
    },
    {
     "cell_type": "code",
     "collapsed": false,
     "input": [
      "def hist_fret_nb(i, b, d, bins=None, binw=0.02,\n",
      "        no_text=False, normed=False, weights=None, gamma=1., ax=None, \n",
      "        noylabel=False, **kwargs):\n",
      "    \"\"\"Plot the FRET histogram and optionally the fitted model\n",
      "    \"\"\"\n",
      "    if bins is None: bins = r_[-0.2:1.2:binw]\n",
      "    if ax is None: ax = plt.subplot(111)\n",
      "    plot_style = dict(histtype='step', lw=1.2,\n",
      "                      #edgecolor='white'\n",
      "                      )\n",
      "    plot_style.update(**kwargs)  # kwargs overwrite plot_style\n",
      "    if weights is not None:\n",
      "        w = fret_fit.get_weights(d.nd[i], d.na[i], weights, gamma=gamma)\n",
      "        w *= w.size/w.sum()\n",
      "        plot_style.update(weights=w)\n",
      "    H = ax.hist(1.*d.E[i], bins=bins, normed=normed, **plot_style)\n",
      "    plt.xlabel('FRET Efficiency')\n",
      "    if not noylabel:\n",
      "        plt.ylabel('# Bursts')\n",
      "        if normed: plt.ylabel('PDF')\n",
      "\n",
      "def mhist_fret(d, **kwargs):\n",
      "    for ich in xrange(d.nch):\n",
      "        hist_fret_nb(ich, d.mburst[ich], d, **kwargs)\n",
      "            \n",
      "def get_empty_ax(fig, bgcolor='none'):\n",
      "    ax = fig.add_subplot(111)\n",
      "    ax.set_zorder(-1)\n",
      "    ax.set_axis_bgcolor(bgcolor)\n",
      "    ax.grid(False)\n",
      "    #ax.set_frame_on(False)\n",
      "    ax.tick_params(labelcolor='none', top='off', bottom='off', left='off', right='off')\n",
      "    return ax"
     ],
     "language": "python",
     "metadata": {},
     "outputs": []
    },
    {
     "cell_type": "code",
     "collapsed": false,
     "input": [
      "# # Fit params in all measurements\n",
      "# # Note: requires using 2gauss fit in all the measurements\n",
      "# FP = zeros((8, 5, 5))\n",
      "# for ich in range(8):\n",
      "#     FP[ich] = [d.fit_E_res[ich] for d in DD[:-1]]\n",
      "\n",
      "# plot(FP[:,:,4].T)\n",
      "# legend(['CH{}'.format(i) for i in xrange(1,9)], loc='best', ncol=2, frameon=False)"
     ],
     "language": "python",
     "metadata": {},
     "outputs": []
    },
    {
     "cell_type": "code",
     "collapsed": false,
     "input": [
      "TT = r_[[int(d.time_max()) for d in d_samples]]\n",
      "print 'Measurement time:', TT"
     ],
     "language": "python",
     "metadata": {},
     "outputs": []
    },
    {
     "cell_type": "code",
     "collapsed": false,
     "input": [
      "print '#Bursts (CH1):', [d.nd[0].size for d in d_samples]"
     ],
     "language": "python",
     "metadata": {},
     "outputs": []
    },
    {
     "cell_type": "code",
     "collapsed": false,
     "input": [
      "# Bursts per second\n",
      "BPS = np.zeros((8,6))\n",
      "for ich in range(8):\n",
      "    bps = [d.nd[ich].size/float(t) for d,t in zip(d_samples, TT)]\n",
      "    print '#Bursts/s (CH%d): '%(ich+1), ''.join(['%5.2f  ' % x for x in bps])\n",
      "    BPS[ich] = bps"
     ],
     "language": "python",
     "metadata": {},
     "outputs": []
    },
    {
     "cell_type": "code",
     "collapsed": false,
     "input": [
      "# BG in all measurements\n",
      "BG_t = np.zeros((8,6))\n",
      "for ich in range(8):\n",
      "    bg = [np.mean(d.bg[ich]) for d in d_samples]\n",
      "    print 'BG tot (CH%d): '%(ich+1), ''.join(['%5d  ' % x for x in bg])\n",
      "    BG_t[ich] = bg"
     ],
     "language": "python",
     "metadata": {},
     "outputs": []
    },
    {
     "cell_type": "markdown",
     "metadata": {},
     "source": [
      "**NOTE:** The background is more or less constant across the measuments but the BPS increases in all the ch (regardless of BG). So in 22 and 27 measurements we **the concentration is higher**. "
     ]
    },
    {
     "cell_type": "code",
     "collapsed": false,
     "input": [
      "fig, ax = plt.subplots(1,2, figsize=(14,4))\n",
      "ax[0].plot(BPS.T)\n",
      "ax[0].set_title('#Bursts/s vs measurement')\n",
      "ax[0].legend(['CH{}'.format(i) for i in xrange(1,9)], loc='upper center', ncol=2, frameon=False)\n",
      "ax[0].set_xticklabels(d_labels)\n",
      "\n",
      "ax[1].plot(BG_t.T)\n",
      "ax[1].set_title('BG(cps) vs measurement')\n",
      "ax[1].legend(['CH{}'.format(i) for i in xrange(1,9)], loc='lower center', ncol=4, frameon=False)\n",
      "ax[1].set_xticklabels(d_labels)\n",
      "ax[1].set_ylim(0)"
     ],
     "language": "python",
     "metadata": {},
     "outputs": []
    },
    {
     "cell_type": "code",
     "collapsed": false,
     "input": [
      "# Burst sizes in all measurements\n",
      "BS = np.zeros((8,6))\n",
      "for ich in range(8):\n",
      "    bs = [np.mean(d.nt[ich]) for d in d_samples]\n",
      "    print 'Burst size (CH%d): '%(ich+1), ''.join(['%5d  ' % x for x in bs])\n",
      "    BS[ich] = bs"
     ],
     "language": "python",
     "metadata": {},
     "outputs": []
    },
    {
     "cell_type": "code",
     "collapsed": false,
     "input": [
      "def corr_bs(nt_raw, E_raw, gamma):\n",
      "    return nt_raw*(gamma/(1+(gamma-1)*bl.gamma_correct_E(E_raw, gamma)))\n",
      "\n",
      "# Gamma-corrected burst size in all measurements\n",
      "GBS = np.zeros((8,6))\n",
      "for ich in range(8):\n",
      "    gbs = [np.mean(corr_bs(d.nt[ich], d.E[ich], gamma_post) ) for d in d_samples]\n",
      "    print 'Gamma-corrected burst sizes (CH%d): '%(ich+1), ''.join(['%5d  ' % x for x in gbs])\n",
      "    GBS[ich] = gbs"
     ],
     "language": "python",
     "metadata": {},
     "outputs": []
    },
    {
     "cell_type": "code",
     "collapsed": false,
     "input": [
      "plot(BS.T)\n",
      "plt.title(u'Mean-burst-sizes vs measurement (\u03b3=1)')\n",
      "plt.legend(['CH{}'.format(i) for i in xrange(1,9)], loc='lower center', ncol=4, frameon=False)\n",
      "gca().set_xticklabels(d_labels)\n",
      "plt.ylim(0);\n",
      "print 'WARNING: Be all the meas. use the same TH!!!'"
     ],
     "language": "python",
     "metadata": {},
     "outputs": []
    },
    {
     "cell_type": "code",
     "collapsed": false,
     "input": [
      "plot(GBS.T)\n",
      "plt.title('Corrected mean-burst-sizes vs measurement')\n",
      "plt.legend(['CH{}'.format(i) for i in xrange(1,9)], loc='lower center', ncol=4, frameon=False)\n",
      "gca().set_xticklabels(d_labels)\n",
      "plt.ylim(0);\n",
      "print 'WARNING: Be all the meas. use the same TH!!!'"
     ],
     "language": "python",
     "metadata": {},
     "outputs": []
    },
    {
     "cell_type": "code",
     "collapsed": false,
     "input": [
      "for dx, label in zip(d_samples_c, d_labels):\n",
      "    x = bl.b_start(dx.mburst[0])*dx.clk_p\n",
      "    y = np.ones(x.size)\n",
      "    plot(x, np.cumsum(y), label=label)\n",
      "plt.title('Burst accumulation')\n",
      "plt.ylabel('# Bursts')\n",
      "plt.xlabel('Time (s)')\n",
      "plt.legend();\n",
      "plt.xlim(0, 180)"
     ],
     "language": "python",
     "metadata": {},
     "outputs": []
    },
    {
     "cell_type": "code",
     "collapsed": false,
     "input": [
      "dx = dfs7\n",
      "\n",
      "for ich in xrange(8):\n",
      "    x = bl.b_start(dx.mburst[ich])*dx.clk_p\n",
      "    y = np.ones(x.size)\n",
      "    plot(x, np.cumsum(y))\n",
      "plt.title('Burst accumulation')\n",
      "plt.ylabel('# Bursts')\n",
      "plt.xlabel('Time (s)')"
     ],
     "language": "python",
     "metadata": {},
     "outputs": []
    },
    {
     "cell_type": "code",
     "collapsed": false,
     "input": [],
     "language": "python",
     "metadata": {},
     "outputs": []
    },
    {
     "cell_type": "markdown",
     "metadata": {},
     "source": [
      "#FRET Histograms"
     ]
    },
    {
     "cell_type": "code",
     "collapsed": false,
     "input": [
      "print_params(d_samples, d_labels, status=True)"
     ],
     "language": "python",
     "metadata": {},
     "outputs": []
    },
    {
     "cell_type": "code",
     "collapsed": false,
     "input": [
      "cd $NOTEBOOK_DIR"
     ],
     "language": "python",
     "metadata": {},
     "outputs": []
    },
    {
     "cell_type": "code",
     "collapsed": false,
     "input": [
      "#CC = ['b', 'r', 'g', 'c', 'm', 'gray']\n",
      "d_colors = ['#0055d4', '#d40000', '#44aa00', '#4400aa', '#d45500', 'gray']\n",
      "\n",
      "face_colors =  mpl.colors.colorConverter.to_rgba_array(d_colors)\n",
      "edge_colors = face_colors.copy()\n",
      "face_colors[:,3] = 0.05\n",
      "edge_colors[:,3] = 0.4"
     ],
     "language": "python",
     "metadata": {},
     "outputs": []
    },
    {
     "cell_type": "code",
     "collapsed": false,
     "input": [
      "# FRET hist: all in one plot\n",
      "for d,c in zip(d_samples[:-1], d_colors[:-1]):\n",
      "    mhist_fret(d, color=c, lw=2, alpha=0.3, binw=0.02, normed=True)\n",
      "    #ylim(0,100)\n",
      "    #legend(['CH{}'.format(i) for i in xrange(1,9)], loc='upper center', ncol=2, frameon=False)\n",
      "#ylim(0,300)\n",
      "#savefig(PLOT_DIR+'FRET Hist 5samples.svg', dpi=200, bbox_inches='tight')"
     ],
     "language": "python",
     "metadata": {},
     "outputs": []
    },
    {
     "cell_type": "code",
     "collapsed": false,
     "input": [
      "# FRET hist: 6 subplots\n",
      "fig, AX = plt.subplots(6, 1, sharex=True, figsize=(6,5.5))\n",
      "for d, la, fc, ec, ax in zip(d_samples, d_labels, face_colors, edge_colors, AX):\n",
      "    \n",
      "    mhist_fret(d, lw=1., fc=fc, ec=ec, binw=0.02, normed=True,  \n",
      "               ax=ax, histtype='stepfilled', noylabel=True)\n",
      "    ax.set_yticks([])\n",
      "    xtext = 0.6 if la.startswith('7') else 0.8\n",
      "    ax.text(xtext, 0.6, la,\n",
      "            transform = ax.transAxes, #fontsize=16,\n",
      "            bbox=dict(boxstyle='round', facecolor='#efefef', alpha=1.))\n",
      "plt.subplots_adjust(hspace = 0)\n",
      "plt.xlim(-0.15,1.1)\n",
      "ax = get_empty_ax(fig)\n",
      "ax.set_ylabel('# Bursts')\n",
      "#savefig(PLOT_DIR+'FRET Hist 5samples stacked post normed2.png', dpi=200, bbox_inches='tight')"
     ],
     "language": "python",
     "metadata": {},
     "outputs": []
    },
    {
     "cell_type": "code",
     "collapsed": false,
     "input": [
      "# FRET hist: 6 subplots\n",
      "fig, AX = plt.subplots(6, 1, sharex=True, figsize=(6,5.5))\n",
      "ticks_sample = [[0, 50, 100],\n",
      "                [0, 50, 100],\n",
      "                [0, 50],\n",
      "                [0, 50],\n",
      "                [0, 100],\n",
      "                [0, 500]]\n",
      "\n",
      "for d, la, fc, ec, ax, ti in zip(d_samples, d_labels, face_colors, edge_colors, AX, ticks_sample):\n",
      "    \n",
      "    mhist_fret(d, lw=1., fc=fc, ec=ec, binw=0.02, normed=False,  \n",
      "               ax=ax, histtype='stepfilled', noylabel=True)\n",
      "    ax.set_yticks(ti)\n",
      "    #ax.set_yticklabels([])\n",
      "    xtext = 0.6 if la.startswith('7') else 0.8\n",
      "    ax.text(xtext, 0.6, la,\n",
      "            transform = ax.transAxes, #fontsize=16,\n",
      "            bbox=dict(boxstyle='round', facecolor='#efefef', alpha=1.))\n",
      "plt.subplots_adjust(hspace = 0)\n",
      "plt.xlim(-0.15,1.1)\n",
      "ax = get_empty_ax(fig)\n",
      "ax.set_ylabel('# Bursts')\n",
      "#plt.savefig(PLOT_DIR+'FRET Hist 5samples stacked post NoNormed.png', dpi=200, bbox_inches='tight')"
     ],
     "language": "python",
     "metadata": {},
     "outputs": []
    },
    {
     "cell_type": "code",
     "collapsed": false,
     "input": [
      "print 'OK'"
     ],
     "language": "python",
     "metadata": {},
     "outputs": []
    },
    {
     "cell_type": "code",
     "collapsed": false,
     "input": [],
     "language": "python",
     "metadata": {},
     "outputs": []
    },
    {
     "cell_type": "code",
     "collapsed": false,
     "input": [],
     "language": "python",
     "metadata": {},
     "outputs": []
    },
    {
     "cell_type": "markdown",
     "metadata": {},
     "source": [
      "# Notebook style"
     ]
    },
    {
     "cell_type": "code",
     "collapsed": false,
     "input": [
      "cd $NOTEBOOK_DIR"
     ],
     "language": "python",
     "metadata": {},
     "outputs": []
    },
    {
     "cell_type": "code",
     "collapsed": false,
     "input": [
      "from IPython.core.display import HTML\n",
      "HTML(open(\"./styles/custom.css\", \"r\").read())"
     ],
     "language": "python",
     "metadata": {},
     "outputs": []
    },
    {
     "cell_type": "code",
     "collapsed": false,
     "input": [],
     "language": "python",
     "metadata": {},
     "outputs": []
    }
   ],
   "metadata": {}
  }
 ]
}