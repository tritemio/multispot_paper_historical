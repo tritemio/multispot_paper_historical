{
 "metadata": {
  "name": "",
  "signature": "sha256:33b90bce28f570ce741deb591ebb34538833aa70c87fe0b3eb3a8160f51e5984"
 },
 "nbformat": 3,
 "nbformat_minor": 0,
 "worksheets": [
  {
   "cells": [
    {
     "cell_type": "markdown",
     "metadata": {},
     "source": [
      "# 1. Definitions\n",
      "\n",
      "Let define the FRET efficiency $E$ and the proximity ratio $E_R$:\n",
      "\n",
      "$$ E = \\frac{n_a}{n_a +  \\gamma \\, n_d} \\qquad E_R = \\frac{n^*_a}{n^*_a +  \\gamma \\, n_d}$$\n",
      "\n",
      "where $n_d$, $n_a$ are the donor and acceptor detected counts after all the corrections, while $n^*_a$ is the acceptor counts with only background correction (no leakage and direct excitation corrections).\n",
      "\n",
      "The relation between $n_a$ and $n^*_a$ is:\n",
      "\n",
      "$$n^*_a = n_a + L_k \\, n_d + n_{dir}$$\n",
      "\n",
      "The term $n_{dir}$ can be equivalently expressed as:\n",
      "\n",
      "1) a function of $n_{aa}$:\n",
      "\n",
      "   $$  n_{dir} = d_{exAA} \\cdot n_{aa}$$\n",
      "\n",
      "2) a function of the \"total signal\" $n_a + \\gamma\\,n_d$:\n",
      "\n",
      "   $$ n_{dir} = d_{exT} \\cdot (n_a + \\gamma\\,n_d) $$\n",
      "   \n",
      "3) a function of the \"total signal\" $n_a/\\gamma + n_d$:\n",
      "\n",
      "   $$ n_{dir} = d_{exT'} \\cdot (n_a/\\gamma + n_d) $$\n",
      "\n",
      "4) a function of $n_d$:\n",
      "\n",
      "   $$ n_{dir} = d_{exD} \\cdot n_d $$\n",
      "\n",
      "5) a function of $n_a$:\n",
      "\n",
      "   $$ n_{dir} = d_{exA} \\cdot n_a $$\n",
      "\n",
      "\n",
      "##Case 1\n",
      "The coefficient $d_{exAA}$ can be computed from an acceptor-only population in an ALEX measurement as:\n",
      "\n",
      "$$ d_{exAA} = \\frac{n_a}{n_{aa}} $$\n",
      "\n",
      "In terms of physical parameters it is:\n",
      "\n",
      "$$ d_{exAA} = \\frac{I_{532}}{I_{628}} \\frac{\\sigma_{A532}}{\\sigma_{A628}} $$\n",
      "\n",
      "> **NOTE:** This coefficient is $d$ in [Biophysical Journal paper (p. 2943)](http://www.chem.ucla.edu/~michalet/papers/BJ2005.pdf)\n",
      "\n",
      "## Case 2\n",
      "The coefficient $d_{exT}$ can't be computed from the data but only from the physical parameters:\n",
      "\n",
      "$$ d_{exT} = \\frac{\\sigma_{A532}}{\\sigma_{D532}} $$\n",
      "\n",
      "## Case 3\n",
      "The coefficient $d_{exT'}$ can't be computed from the data but only from the physical parameters:\n",
      "\n",
      "$$ d_{exT'} = \\frac{\\sigma_{A532}}{\\sigma_{D532}} \\gamma$$\n",
      "\n",
      "> **NOTE:** This is $d'$ in the Biophysical Journal paper [p. 2943](http://www.chem.ucla.edu/~michalet/papers/BJ2005.pdf) and [SI](http://www.chem.ucla.edu/~michalet/papers/BJ2005SI.pdf)\n",
      "\n",
      "## Case 4\n",
      "The coefficient $d_{exD}$ is a function of $E$ as well as the physical parameters.\n",
      "\n",
      "$$ n_{dex} = I_{532} \\, \\sigma_{A532} \\, \\phi_A \\, \\eta_{AA} $$\n",
      "\n",
      "$$ n_{d} = I_{532} \\, \\sigma_{D532} \\, \\phi_D \\, \\eta_{DD} (1 - E) $$\n",
      "\n",
      "Taking the ratio:\n",
      "\n",
      "$$ d_{exD} = \\frac{ \\sigma_{A532} }{\\sigma_{D532}} \\frac{\\gamma}{1 - E} = d_{exT} \\frac{\\gamma}{1 - E} $$\n",
      "\n",
      "## Case 5\n",
      "The coefficient $d_{exA}$ is a function of $E$ as well as the physical parameters.\n",
      "\n",
      "$$ n_{dex} = I_{532} \\, \\sigma_{A532} \\, \\phi_A \\, \\eta_{AA} $$\n",
      "\n",
      "$$ n_{a} = I_{532} \\, \\sigma_{D532} \\, E \\, \\phi_A \\, \\eta_{AA} $$\n",
      "\n",
      "Taking the ratio:\n",
      "\n",
      "$$ d_{exA} = \\frac{ \\sigma_{A532} }{\\sigma_{D532}} E $$\n",
      "\n",
      "## Discussion\n",
      "\n",
      "Cases 4 and 5 are unconvenient to use because the coefficienc depends on $E$. Case 3 does not depend on $E$ but depends on $\\gamma$, while case 2 depends only on the ratio of two absorption cross sections. Case 1 can only be used in an ALEX measurement.\n",
      "\n",
      "So, for non-ALEX measurement, \"case 2\" gives the simpler coefficient.\n",
      "\n",
      "As physical interpretation, case 2 and 3 are similar. In case 2, when $E=1$, the \"total signal\" is the background-corrected counts. When $E < 1$, the total corrected counts don't change (at the same excitation intensity): they are the sum of acceptor and gamma-corrected donor counts. Similar considerations hold for case 3 (starting from $E=0$)."
     ]
    },
    {
     "cell_type": "markdown",
     "metadata": {},
     "source": [
      "# 2. Derivation of the expressions"
     ]
    },
    {
     "cell_type": "markdown",
     "metadata": {},
     "source": [
      "## Import libraries"
     ]
    },
    {
     "cell_type": "code",
     "collapsed": false,
     "input": [
      "import sympy\n",
      "from sympy import init_printing, symbols, solve, Eq\n",
      "init_printing()  # beautiful maths"
     ],
     "language": "python",
     "metadata": {},
     "outputs": [],
     "prompt_number": 1
    },
    {
     "cell_type": "markdown",
     "metadata": {},
     "source": [
      "## Define the symbols"
     ]
    },
    {
     "cell_type": "code",
     "collapsed": false,
     "input": [
      "E, Er = symbols('E, E_R')\n",
      "nd, na, ns_a, n_dex = symbols('n_d n_a n^*_a n_dex')\n",
      "gamma, Lk = symbols('gamma L_k')\n",
      "d_exAA, d_exT, d_exD = symbols(\"d_exAA d_exT, d_exD\")"
     ],
     "language": "python",
     "metadata": {},
     "outputs": [],
     "prompt_number": 2
    },
    {
     "cell_type": "code",
     "collapsed": false,
     "input": [
      "def PR(nd, na):\n",
      "    return na/(na + nd)\n",
      "\n",
      "PR(nd, na)"
     ],
     "language": "python",
     "metadata": {},
     "outputs": [
      {
       "latex": [
        "$$\\frac{n_{a}}{n_{a} + n_{d}}$$"
       ],
       "metadata": {},
       "output_type": "pyout",
       "png": "[encoded data removed]",
       "prompt_number": 3,
       "text": [
        "   n\u2090   \n",
        "\u2500\u2500\u2500\u2500\u2500\u2500\u2500\u2500\n",
        "n\u2090 + n_d"
       ]
      }
     ],
     "prompt_number": 3
    },
    {
     "cell_type": "code",
     "collapsed": false,
     "input": [
      "def FRET(nd, na, gamma):\n",
      "    return na / (na + gamma*nd)\n",
      "\n",
      "FRET(nd, na, gamma)"
     ],
     "language": "python",
     "metadata": {},
     "outputs": [
      {
       "latex": [
        "$$\\frac{n_{a}}{\\gamma n_{d} + n_{a}}$$"
       ],
       "metadata": {},
       "output_type": "pyout",
       "png": "[encoded data removed]",
       "prompt_number": 4,
       "text": [
        "    n\u2090    \n",
        "\u2500\u2500\u2500\u2500\u2500\u2500\u2500\u2500\u2500\u2500\n",
        "\u03b3\u22c5n_d + n\u2090"
       ]
      }
     ],
     "prompt_number": 4
    },
    {
     "cell_type": "markdown",
     "metadata": {},
     "source": [
      "##Relating $E$ and $E_R$"
     ]
    },
    {
     "cell_type": "markdown",
     "metadata": {},
     "source": [
      "As a first step we write $n^*_a$ as a function of $n_a$ and save the symbolic expression:"
     ]
    },
    {
     "cell_type": "code",
     "collapsed": false,
     "input": [
      "ns_a_as_func_na = na + Lk*nd + n_dex\n",
      "ns_a_as_func_na"
     ],
     "language": "python",
     "metadata": {},
     "outputs": [
      {
       "latex": [
        "$$L_{k} n_{d} + n_{a} + n_{dex}$$"
       ],
       "metadata": {},
       "output_type": "pyout",
       "png": "[encoded data removed]",
       "prompt_number": 5,
       "text": [
        "L_k\u22c5n_d + n\u2090 + n_dex"
       ]
      }
     ],
     "prompt_number": 5
    },
    {
     "cell_type": "markdown",
     "metadata": {},
     "source": [
      "Here we write the PR substituting $n^*_a$ with $n_a + L_k n_d + n_{dex}$ and $n_{dex}$ with the \"case 2\" expression:"
     ]
    },
    {
     "cell_type": "code",
     "collapsed": false,
     "input": [
      "Er_sym = sympy.factor(PR(nd, ns_a).subs(ns_a, ns_a_as_func_na).subs(n_dex, d_exT*(nd*gamma + na)))\n",
      "\n",
      "Er_sym"
     ],
     "language": "python",
     "metadata": {},
     "outputs": [
      {
       "latex": [
        "$$\\frac{L_{k} n_{d} + d_{exT} \\gamma n_{d} + d_{exT} n_{a} + n_{a}}{L_{k} n_{d} + d_{exT} \\gamma n_{d} + d_{exT} n_{a} + n_{a} + n_{d}}$$"
       ],
       "metadata": {},
       "output_type": "pyout",
       "png": "[encoded data removed]",
       "prompt_number": 6,
       "text": [
        "   L_k\u22c5n_d + d_exT\u22c5\u03b3\u22c5n_d + d_exT\u22c5n\u2090 + n\u2090   \n",
        "\u2500\u2500\u2500\u2500\u2500\u2500\u2500\u2500\u2500\u2500\u2500\u2500\u2500\u2500\u2500\u2500\u2500\u2500\u2500\u2500\u2500\u2500\u2500\u2500\u2500\u2500\u2500\u2500\u2500\u2500\u2500\u2500\u2500\u2500\u2500\u2500\u2500\u2500\u2500\u2500\u2500\u2500\u2500\n",
        "L_k\u22c5n_d + d_exT\u22c5\u03b3\u22c5n_d + d_exT\u22c5n\u2090 + n\u2090 + n_d"
       ]
      }
     ],
     "prompt_number": 6
    },
    {
     "cell_type": "markdown",
     "metadata": {},
     "source": [
      "The previous expression is the proximity ratio $E_R$. We \"solve\" it to obtain $n_d$ as a function of $E_R$. Then we replace the obtained expression in the FRET formula:"
     ]
    },
    {
     "cell_type": "code",
     "collapsed": false,
     "input": [
      "E_sym = sympy.factor(FRET(nd, na, gamma).subs(nd, solve(Er_sym - Er, nd)[0]))\n",
      "\n",
      "E_sym"
     ],
     "language": "python",
     "metadata": {},
     "outputs": [
      {
       "latex": [
        "$$\\frac{E_{R} L_{k} + E_{R} d_{exT} \\gamma + E_{R} - L_{k} - d_{exT} \\gamma}{E_{R} L_{k} - E_{R} \\gamma + E_{R} - L_{k} + \\gamma}$$"
       ],
       "metadata": {},
       "output_type": "pyout",
       "png": "[encoded data removed]",
       "prompt_number": 7,
       "text": [
        "E_R\u22c5L_k + E_R\u22c5d_exT\u22c5\u03b3 + E_R - L_k - d_exT\u22c5\u03b3\n",
        "\u2500\u2500\u2500\u2500\u2500\u2500\u2500\u2500\u2500\u2500\u2500\u2500\u2500\u2500\u2500\u2500\u2500\u2500\u2500\u2500\u2500\u2500\u2500\u2500\u2500\u2500\u2500\u2500\u2500\u2500\u2500\u2500\u2500\u2500\u2500\u2500\u2500\u2500\u2500\u2500\u2500\u2500\u2500\n",
        "      E_R\u22c5L_k - E_R\u22c5\u03b3 + E_R - L_k + \u03b3      "
       ]
      }
     ],
     "prompt_number": 7
    },
    {
     "cell_type": "markdown",
     "metadata": {},
     "source": [
      "The previous expression is $E$ as a function of $E_R$, including leakage and direct excitation coefficients. It is the same of [equation S9](http://www.chem.ucla.edu/~michalet/papers/BJ2005SI.pdf) when we change $d_{exT}\\gamma$ with $d'$.\n",
      "\n",
      "Collecting $E_R$ we obtain an equivalent expression:"
     ]
    },
    {
     "cell_type": "code",
     "collapsed": false,
     "input": [
      "sympy.collect(E_sym, Er)"
     ],
     "language": "python",
     "metadata": {},
     "outputs": [
      {
       "latex": [
        "$$\\frac{E_{R} \\left(L_{k} + d_{exT} \\gamma + 1\\right) - L_{k} - d_{exT} \\gamma}{E_{R} \\left(L_{k} - \\gamma + 1\\right) - L_{k} + \\gamma}$$"
       ],
       "metadata": {},
       "output_type": "pyout",
       "png": "[encoded data removed]",
       "prompt_number": 10,
       "text": [
        "E_R\u22c5(L_k + d_exT\u22c5\u03b3 + 1) - L_k - d_exT\u22c5\u03b3\n",
        "\u2500\u2500\u2500\u2500\u2500\u2500\u2500\u2500\u2500\u2500\u2500\u2500\u2500\u2500\u2500\u2500\u2500\u2500\u2500\u2500\u2500\u2500\u2500\u2500\u2500\u2500\u2500\u2500\u2500\u2500\u2500\u2500\u2500\u2500\u2500\u2500\u2500\u2500\u2500\n",
        "      E_R\u22c5(L_k - \u03b3 + 1) - L_k + \u03b3      "
       ]
      }
     ],
     "prompt_number": 10
    },
    {
     "cell_type": "markdown",
     "metadata": {},
     "source": [
      "From this symbolic expression we can define the numeric function:"
     ]
    },
    {
     "cell_type": "code",
     "collapsed": false,
     "input": [
      "def correct_E_gamma_leak_dir(Eraw, gamma, leakage=0, dir_ex_t=0):\n",
      "    Eraw = np.asarray(Eraw)\n",
      "    return (Eraw*(leakage + dir_ex_t*gamma + 1) - leakage - dir_ex_t*gamma) \\\n",
      "           / ( Eraw*(leakage -  gamma + 1) - leakage + gamma )"
     ],
     "language": "python",
     "metadata": {},
     "outputs": [],
     "prompt_number": 9
    },
    {
     "cell_type": "markdown",
     "metadata": {},
     "source": [
      "Now we can derive the simpler expression in case we want to correct only one parameter.\n",
      "\n",
      "For only gamma correction we obtain:"
     ]
    },
    {
     "cell_type": "code",
     "collapsed": false,
     "input": [
      "E_sym.subs(Lk, 0).subs(d_exT, 0)"
     ],
     "language": "python",
     "metadata": {},
     "outputs": [
      {
       "latex": [
        "$$\\frac{E_{R}}{- E_{R} \\gamma + E_{R} + \\gamma}$$"
       ],
       "metadata": {},
       "output_type": "pyout",
       "png": "[encoded data removed]",
       "prompt_number": 11,
       "text": [
        "      E_R       \n",
        "\u2500\u2500\u2500\u2500\u2500\u2500\u2500\u2500\u2500\u2500\u2500\u2500\u2500\u2500\u2500\u2500\n",
        "-E_R\u22c5\u03b3 + E_R + \u03b3"
       ]
      }
     ],
     "prompt_number": 11
    },
    {
     "cell_type": "markdown",
     "metadata": {},
     "source": [
      "For the only leakage correction we obtain:"
     ]
    },
    {
     "cell_type": "code",
     "collapsed": false,
     "input": [
      "sympy.collect(E_sym.subs(gamma, 1).subs(d_exT, 0), Er)"
     ],
     "language": "python",
     "metadata": {},
     "outputs": [
      {
       "latex": [
        "$$\\frac{E_{R} \\left(L_{k} + 1\\right) - L_{k}}{E_{R} L_{k} - L_{k} + 1}$$"
       ],
       "metadata": {},
       "output_type": "pyout",
       "png": "[encoded data removed]",
       "prompt_number": 13,
       "text": [
        "E_R\u22c5(L_k + 1) - L_k\n",
        "\u2500\u2500\u2500\u2500\u2500\u2500\u2500\u2500\u2500\u2500\u2500\u2500\u2500\u2500\u2500\u2500\u2500\u2500\u2500\n",
        " E_R\u22c5L_k - L_k + 1 "
       ]
      }
     ],
     "prompt_number": 13
    },
    {
     "cell_type": "markdown",
     "metadata": {},
     "source": [
      "For the only direct excitation correction we obtain:"
     ]
    },
    {
     "cell_type": "code",
     "collapsed": false,
     "input": [
      "sympy.collect(E_sym.subs(gamma, 1).subs(Lk, 0), Er)"
     ],
     "language": "python",
     "metadata": {},
     "outputs": [
      {
       "latex": [
        "$$E_{R} \\left(d_{exT} + 1\\right) - d_{exT}$$"
       ],
       "metadata": {},
       "output_type": "pyout",
       "png": "[encoded data removed]",
       "prompt_number": 14,
       "text": [
        "E_R\u22c5(d_exT + 1) - d_exT"
       ]
      }
     ],
     "prompt_number": 14
    },
    {
     "cell_type": "markdown",
     "metadata": {},
     "source": [
      "##Inverse functions"
     ]
    },
    {
     "cell_type": "markdown",
     "metadata": {},
     "source": [
      "Conversely, to compute $E_R$  as a function of $E$ we invert the previous expression:"
     ]
    },
    {
     "cell_type": "code",
     "collapsed": false,
     "input": [
      "Er_as_func_E = solve(E - E_sym, Er)[0]"
     ],
     "language": "python",
     "metadata": {},
     "outputs": [],
     "prompt_number": 18
    },
    {
     "cell_type": "code",
     "collapsed": false,
     "input": [
      "sympy.collect(Er_as_func_E, E)"
     ],
     "language": "python",
     "metadata": {},
     "outputs": [
      {
       "latex": [
        "$$\\frac{E \\left(- L_{k} + \\gamma\\right) + L_{k} + d_{exT} \\gamma}{E \\left(- L_{k} + \\gamma - 1\\right) + L_{k} + d_{exT} \\gamma + 1}$$"
       ],
       "metadata": {},
       "output_type": "pyout",
       "png": "[encoded data removed]",
       "prompt_number": 19,
       "text": [
        "    E\u22c5(-L_k + \u03b3) + L_k + d_exT\u22c5\u03b3    \n",
        "\u2500\u2500\u2500\u2500\u2500\u2500\u2500\u2500\u2500\u2500\u2500\u2500\u2500\u2500\u2500\u2500\u2500\u2500\u2500\u2500\u2500\u2500\u2500\u2500\u2500\u2500\u2500\u2500\u2500\u2500\u2500\u2500\u2500\u2500\u2500\u2500\n",
        "E\u22c5(-L_k + \u03b3 - 1) + L_k + d_exT\u22c5\u03b3 + 1"
       ]
      }
     ],
     "prompt_number": 19
    },
    {
     "cell_type": "markdown",
     "metadata": {},
     "source": [
      "And we define the numerical function:"
     ]
    },
    {
     "cell_type": "code",
     "collapsed": false,
     "input": [
      "def uncorrect_E_gamma_leak_dir(E, gamma, leakage=0, dir_ex_t=0):\n",
      "    E = np.asarray(E)\n",
      "    return (E*(gamma - leakage) + leakage + dir_ex_t*gamma) \\\n",
      "           / ( E*(gamma - leakage - 1) + leakage + dir_ex_t*gamma + 1 )"
     ],
     "language": "python",
     "metadata": {},
     "outputs": [],
     "prompt_number": 20
    },
    {
     "cell_type": "markdown",
     "metadata": {},
     "source": [
      "And the inverse for only a single correction are (in the order gamma, leakage, direct excitation)"
     ]
    },
    {
     "cell_type": "code",
     "collapsed": false,
     "input": [
      "Er_as_func_E.subs(Lk, 0).subs(d_exT, 0)"
     ],
     "language": "python",
     "metadata": {},
     "outputs": [
      {
       "latex": [
        "$$\\frac{E \\gamma}{E \\gamma - E + 1}$$"
       ],
       "metadata": {},
       "output_type": "pyout",
       "png": "[encoded data removed]",
       "prompt_number": 21,
       "text": [
        "    E\u22c5\u03b3    \n",
        "\u2500\u2500\u2500\u2500\u2500\u2500\u2500\u2500\u2500\u2500\u2500\n",
        "E\u22c5\u03b3 - E + 1"
       ]
      }
     ],
     "prompt_number": 21
    },
    {
     "cell_type": "code",
     "collapsed": false,
     "input": [
      "sympy.collect(Er_as_func_E.subs(gamma, 1).subs(d_exT, 0), Er)"
     ],
     "language": "python",
     "metadata": {},
     "outputs": [
      {
       "latex": [
        "$$\\frac{- E L_{k} + E + L_{k}}{- E L_{k} + L_{k} + 1}$$"
       ],
       "metadata": {},
       "output_type": "pyout",
       "png": "[encoded data removed]",
       "prompt_number": 22,
       "text": [
        "-E\u22c5L_k + E + L_k\n",
        "\u2500\u2500\u2500\u2500\u2500\u2500\u2500\u2500\u2500\u2500\u2500\u2500\u2500\u2500\u2500\u2500\n",
        "-E\u22c5L_k + L_k + 1"
       ]
      }
     ],
     "prompt_number": 22
    },
    {
     "cell_type": "code",
     "collapsed": false,
     "input": [
      "sympy.collect(Er_as_func_E.subs(gamma, 1).subs(Lk, 0), Er)"
     ],
     "language": "python",
     "metadata": {},
     "outputs": [
      {
       "latex": [
        "$$\\frac{E + d_{exT}}{d_{exT} + 1}$$"
       ],
       "metadata": {},
       "output_type": "pyout",
       "png": "[encoded data removed]",
       "prompt_number": 23,
       "text": [
        "E + d_exT\n",
        "\u2500\u2500\u2500\u2500\u2500\u2500\u2500\u2500\u2500\n",
        "d_exT + 1"
       ]
      }
     ],
     "prompt_number": 23
    },
    {
     "cell_type": "markdown",
     "metadata": {},
     "source": [
      "# 3. Numerical tests\n",
      "\n",
      "Test consistency between apply and un-apply of numerical corrections."
     ]
    },
    {
     "cell_type": "code",
     "collapsed": false,
     "input": [
      "import numpy as np"
     ],
     "language": "python",
     "metadata": {},
     "outputs": [],
     "prompt_number": 13
    },
    {
     "cell_type": "code",
     "collapsed": false,
     "input": [
      "Ex = np.arange(-0.2, 1.2, 0.1)"
     ],
     "language": "python",
     "metadata": {},
     "outputs": [],
     "prompt_number": 14
    },
    {
     "cell_type": "code",
     "collapsed": false,
     "input": [
      "gamma_ = 0.75\n",
      "leakage_ = 0.04\n",
      "dir_ex_t_ = 0.08"
     ],
     "language": "python",
     "metadata": {},
     "outputs": [],
     "prompt_number": 15
    },
    {
     "cell_type": "code",
     "collapsed": false,
     "input": [
      "Ex_roundtrip = uncorrect_E_gamma_leak_dir(correct_E_gamma_leak_dir(Ex, gamma_), gamma_)"
     ],
     "language": "python",
     "metadata": {},
     "outputs": [],
     "prompt_number": 16
    },
    {
     "cell_type": "code",
     "collapsed": false,
     "input": [
      "np.allclose(Ex, Ex_roundtrip)"
     ],
     "language": "python",
     "metadata": {},
     "outputs": [
      {
       "metadata": {},
       "output_type": "pyout",
       "prompt_number": 17,
       "text": [
        "True"
       ]
      }
     ],
     "prompt_number": 17
    },
    {
     "cell_type": "code",
     "collapsed": false,
     "input": [
      "Ex_roundtrip = uncorrect_E_gamma_leak_dir(correct_E_gamma_leak_dir(Ex, gamma_, leakage_, dir_ex_t_), gamma_, leakage_, dir_ex_t_)"
     ],
     "language": "python",
     "metadata": {},
     "outputs": [],
     "prompt_number": 18
    },
    {
     "cell_type": "code",
     "collapsed": false,
     "input": [
      "np.allclose(Ex, Ex_roundtrip)"
     ],
     "language": "python",
     "metadata": {},
     "outputs": [
      {
       "metadata": {},
       "output_type": "pyout",
       "prompt_number": 19,
       "text": [
        "True"
       ]
      }
     ],
     "prompt_number": 19
    },
    {
     "cell_type": "code",
     "collapsed": false,
     "input": [
      "Ex_roundtrip = correct_E_gamma_leak_dir(uncorrect_E_gamma_leak_dir(Ex, gamma_, leakage_, dir_ex_t_), gamma_, leakage_, dir_ex_t_)"
     ],
     "language": "python",
     "metadata": {},
     "outputs": [],
     "prompt_number": 20
    },
    {
     "cell_type": "code",
     "collapsed": false,
     "input": [
      "np.allclose(Ex, Ex_roundtrip)"
     ],
     "language": "python",
     "metadata": {},
     "outputs": [
      {
       "metadata": {},
       "output_type": "pyout",
       "prompt_number": 21,
       "text": [
        "True"
       ]
      }
     ],
     "prompt_number": 21
    },
    {
     "cell_type": "code",
     "collapsed": false,
     "input": [],
     "language": "python",
     "metadata": {},
     "outputs": [],
     "prompt_number": 21
    },
    {
     "cell_type": "markdown",
     "metadata": {},
     "source": [
      "#Notebook style"
     ]
    },
    {
     "cell_type": "code",
     "collapsed": false,
     "input": [
      "from IPython.core.display import HTML\n",
      "HTML(open(\"./styles/custom2.css\", \"r\").read())"
     ],
     "language": "python",
     "metadata": {},
     "outputs": [
      {
       "html": [
        "<script src=\"http://use.edgefonts.net/source-code-pro.js\"></script>\n",
        "\n",
        "<style>\n",
        "\t/* Import the \"Computer Modern\" font */\n",
        "    @font-face {\n",
        "        font-family: \"Computer Modern\";\n",
        "        src: url('http://mirrors.ctan.org/fonts/cm-unicode/fonts/otf/cmunss.otf');\n",
        "    }\n",
        "\t\n",
        "\t/* Style for all the cells */\n",
        "\tdiv.cell{\n",
        "        width:900px;\n",
        "        margin-left:8% !important;\n",
        "        margin-right:auto;\n",
        "    }\n",
        "\n",
        "\t/* Text in markdown cells */\n",
        "    div.text_cell_render{\n",
        "        font-family: Computer Modern, Liberation Sans, Arial, Helvetica, sans-serif;\n",
        "        line-height: 130%;\n",
        "        font-size: 120%;\n",
        " /*       width:800px;\n",
        "        margin-left:auto;\n",
        "        margin-right:auto;*/\n",
        "    }\n",
        "\n",
        "\t/* Quoted text in markdown cells */\n",
        "\t/*blockquote  p {\n",
        "\tmargin: 1em 2em;\n",
        "\tline-height: 140%;\n",
        "    }*/\n",
        "\n",
        "\t/* Input and output prompt (In[1], Out[1], ...) */\n",
        "\tdiv.prompt{\n",
        "\t\tfont-family: \"Source Code Pro\", source-code-pro, Computer Modern, Consolas, monospace;\n",
        "\t}\n",
        "\n",
        "\t/* Output text (i.e. output of print or text display) */\n",
        "\tdiv.output_area pre{\n",
        "\t\tfont-family: \"Source Code Pro\", source-code-pro, Computer Modern, Consolas, monospace;\n",
        "\t}\n",
        "\n",
        "\t/* Text in code markup, within markdown cells */\n",
        "    .rendered_html code {\n",
        "\tfont-family: \"Source Code Pro\", source-code-pro, Computer Modern, Consolas, monospace;\n",
        "\tbackground-color: #f7f7f7;\n",
        "\tborder: 1px solid #dddddd;\n",
        "\tcolor: black;\n",
        "\tline-height: 1.1em;\n",
        "\tpadding: 0.15em;\n",
        "\tfont-size: 80%;\n",
        "    }\n",
        "\n",
        "\t/* Text in code cells */\n",
        "    .CodeMirror{\n",
        "            font-family: \"Source Code Pro\", source-code-pro,  Consolas, monospace;\n",
        "    }\n",
        "\t\n",
        "    /* Whether to displays In[] and Out[] prompt */\n",
        "\t/*.prompt{\n",
        "        display: None;\n",
        "    }*/\n",
        "    \n",
        "</style>\n"
       ],
       "metadata": {},
       "output_type": "pyout",
       "prompt_number": 22,
       "text": [
        "<IPython.core.display.HTML at 0xb553908>"
       ]
      }
     ],
     "prompt_number": 22
    },
    {
     "cell_type": "code",
     "collapsed": false,
     "input": [],
     "language": "python",
     "metadata": {},
     "outputs": [],
     "prompt_number": 22
    }
   ],
   "metadata": {}
  }
 ]
}