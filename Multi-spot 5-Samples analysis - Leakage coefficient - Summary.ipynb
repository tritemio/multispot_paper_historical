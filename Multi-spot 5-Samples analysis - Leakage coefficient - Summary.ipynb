{
 "cells": [
  {
   "cell_type": "markdown",
   "metadata": {},
   "source": [
    "# Leakage Coefficient Summary\n",
    "\n",
    "> *This notebook summarize the leakage coefficient fitted from 4 dsDNA samples.*"
   ]
  },
  {
   "cell_type": "markdown",
   "metadata": {},
   "source": [
    "## Import software"
   ]
  },
  {
   "cell_type": "code",
   "execution_count": null,
   "metadata": {
    "collapsed": false
   },
   "outputs": [],
   "source": [
    "import os\n",
    "import pandas as pd\n",
    "import numpy as np\n",
    "import matplotlib.pyplot as plt\n",
    "import matplotlib as mpl\n",
    "from cycler import cycler\n",
    "import seaborn as sns\n",
    "%matplotlib inline\n",
    "%config InlineBackend.figure_format='retina'  # for hi-dpi displays"
   ]
  },
  {
   "cell_type": "code",
   "execution_count": null,
   "metadata": {
    "collapsed": true
   },
   "outputs": [],
   "source": [
    "figure_size = (5, 4)\n",
    "default_figure = lambda: plt.subplots(figsize=figure_size)\n",
    "save_figures = True\n",
    "\n",
    "def savefig(filename, **kwargs):\n",
    "    if not save_figures:\n",
    "        return\n",
    "    import os\n",
    "    dir_ = 'figures/'\n",
    "    kwargs_ = dict(dpi=300, bbox_inches='tight')\n",
    "                   #frameon=True, facecolor='white', transparent=False)\n",
    "    kwargs_.update(kwargs)\n",
    "    plt.savefig(dir_ + filename, **kwargs_)"
   ]
  },
  {
   "cell_type": "markdown",
   "metadata": {},
   "source": [
    "## Data files"
   ]
  },
  {
   "cell_type": "code",
   "execution_count": null,
   "metadata": {
    "collapsed": false
   },
   "outputs": [],
   "source": [
    "bsearch_str = 'DexDem'\n",
    "leakage_kde = pd.read_csv(\n",
    "    'results/Multi-spot - leakage coefficient all values KDE %s.csv' % bsearch_str, index_col=0)\n",
    "leakage_gauss = pd.read_csv(\n",
    "    'results/Multi-spot - leakage coefficient all values gauss %s.csv' % bsearch_str, index_col=0)\n",
    "nbursts = pd.read_csv(\n",
    "    'results/Multi-spot - leakage coefficient all values nbursts %s.csv' % bsearch_str, index_col=0)\n",
    "for df in (leakage_kde, leakage_gauss, nbursts):\n",
    "    df.columns.name = 'Channel'"
   ]
  },
  {
   "cell_type": "code",
   "execution_count": null,
   "metadata": {
    "collapsed": true
   },
   "outputs": [],
   "source": [
    "for dx in (leakage_gauss, leakage_kde, nbursts):\n",
    "    dx.columns = pd.Index(np.arange(1, 9), name='Spot')"
   ]
  },
  {
   "cell_type": "code",
   "execution_count": null,
   "metadata": {
    "collapsed": false
   },
   "outputs": [],
   "source": [
    "PLOT_DIR = './figure/'"
   ]
  },
  {
   "cell_type": "markdown",
   "metadata": {},
   "source": [
    "## Plot style"
   ]
  },
  {
   "cell_type": "code",
   "execution_count": null,
   "metadata": {
    "collapsed": false
   },
   "outputs": [],
   "source": [
    "colors = sns.color_palette('Paired', 8)\n",
    "sns.set_palette(colors)\n",
    "sns.palplot(colors)"
   ]
  },
  {
   "cell_type": "code",
   "execution_count": null,
   "metadata": {
    "collapsed": false
   },
   "outputs": [],
   "source": [
    "bmap = sns.color_palette(\"Set1\", 9)\n",
    "colors = np.array(bmap)[(1,0,2,3,4,8,6,7), :]\n",
    "sns.palplot(colors)"
   ]
  },
  {
   "cell_type": "code",
   "execution_count": null,
   "metadata": {
    "collapsed": false
   },
   "outputs": [],
   "source": [
    "bmap = sns.color_palette(\"Set1\", 9)\n",
    "colors_dark = np.array(bmap)[(1,0,2,3,4,8), :]\n",
    "colors_dark4 = np.array(bmap)[(1,0,2,8), :]\n",
    "sns.palplot(colors_dark)"
   ]
  },
  {
   "cell_type": "code",
   "execution_count": null,
   "metadata": {
    "collapsed": false
   },
   "outputs": [],
   "source": [
    "bmap = sns.color_palette('Paired', 12)\n",
    "colors_light = np.array(bmap)[(0,4,2,8,6,10), :]\n",
    "colors_light4 = np.array(bmap)[(0,4,2,8), :]\n",
    "colors_light[-1] = colors_light4[-1] = [.8, .8, .8]\n",
    "sns.palplot(colors_light)"
   ]
  },
  {
   "cell_type": "code",
   "execution_count": null,
   "metadata": {
    "collapsed": false
   },
   "outputs": [],
   "source": [
    "colors_paired = np.zeros((colors_dark.shape[0]*2, colors_dark.shape[1]))\n",
    "colors_paired[::2] = colors_dark\n",
    "colors_paired[1::2] = colors_light\n",
    "sns.palplot(colors_paired)"
   ]
  },
  {
   "cell_type": "code",
   "execution_count": null,
   "metadata": {
    "collapsed": false
   },
   "outputs": [],
   "source": [
    "colors_paired4 = colors_paired[(0, 1, 2, 3, 4, 5, 10, 11), :]\n",
    "sns.palplot(colors_paired4)"
   ]
  },
  {
   "cell_type": "code",
   "execution_count": null,
   "metadata": {
    "collapsed": true
   },
   "outputs": [],
   "source": [
    "#mpl.rcParams['axes.prop_cycle'] = cycler('color', colors_dark)"
   ]
  },
  {
   "cell_type": "code",
   "execution_count": null,
   "metadata": {
    "collapsed": false
   },
   "outputs": [],
   "source": [
    "sns.set(style='ticks', font_scale=1.4, palette=colors_paired)"
   ]
  },
  {
   "cell_type": "code",
   "execution_count": null,
   "metadata": {
    "collapsed": false
   },
   "outputs": [],
   "source": [
    "fig, ax = plt.subplots()\n",
    "ax2 = ax.twinx()\n",
    "\n",
    "kws = dict(lw=2, marker='o', ms=8)\n",
    "for i, did in enumerate(('7d', '12d', '17d', 'DO')):\n",
    "    (100*leakage_kde).loc[did].plot(label='%s KDE' % did, ax=ax, color=colors_light4[i], **kws)\n",
    "    nbursts.loc[did].plot(ax=ax2, ls='--', lw=2.5, color=colors_dark4[i])\n",
    "\n",
    "for i, did in enumerate(('7d', '12d', '17d', 'DO')):    \n",
    "    (100*leakage_gauss).loc[did].plot(label='%s Gauss' % did, ax=ax, color=colors_dark4[i], **kws)\n",
    "    \n",
    "handles, lab = ax.get_legend_handles_labels()\n",
    "h = handles#[1::2] + handles[::2]\n",
    "l = lab[1::2] + lab[::2]\n",
    "ax.legend(ncol=2, loc=1, bbox_to_anchor=(1, 0.5), borderaxespad=0.)\n",
    "ax.set_ylim(0)\n",
    "\n",
    "ax2.set_ylim(0, 3200)\n",
    "plt.xlim(0.75, 8.25)\n",
    "plt.xlabel('Channel')\n",
    "ax.set_ylabel('Leakage %')\n",
    "ax2.set_ylabel('# Bursts')\n",
    "sns.despine(offset=10, trim=True, right=False)\n",
    "savefig('multi-spot leakage KDE vs Gauss.svg')"
   ]
  },
  {
   "cell_type": "code",
   "execution_count": null,
   "metadata": {
    "collapsed": false
   },
   "outputs": [],
   "source": [
    "# bmap = sns.color_palette(\"Set1\", 9)\n",
    "# colors = np.array(bmap)[(1,0,2,3,4,8,6,7), :]\n",
    "# sns.set_palette(colors)\n",
    "# sns.palplot(colors)"
   ]
  },
  {
   "cell_type": "code",
   "execution_count": null,
   "metadata": {
    "collapsed": false
   },
   "outputs": [],
   "source": [
    "sns.swarmplot(data=leakage_kde);"
   ]
  },
  {
   "cell_type": "code",
   "execution_count": null,
   "metadata": {
    "collapsed": false
   },
   "outputs": [],
   "source": [
    "plt.figure()\n",
    "sns.swarmplot(data=leakage_kde.T);"
   ]
  },
  {
   "cell_type": "markdown",
   "metadata": {},
   "source": [
    "# Average leakage"
   ]
  },
  {
   "cell_type": "code",
   "execution_count": null,
   "metadata": {
    "collapsed": true
   },
   "outputs": [],
   "source": [
    "sns.set_style('whitegrid')"
   ]
  },
  {
   "cell_type": "code",
   "execution_count": null,
   "metadata": {
    "collapsed": false
   },
   "outputs": [],
   "source": [
    "# bmap = sns.color_palette(\"Set1\", 9)\n",
    "# colors = np.array(bmap)[(1,0,2,3,4,8,6,7), :]\n",
    "# sns.set_palette(colors)\n",
    "# sns.palplot(colors)"
   ]
  },
  {
   "cell_type": "markdown",
   "metadata": {},
   "source": [
    "### Mean per sample:"
   ]
  },
  {
   "cell_type": "code",
   "execution_count": null,
   "metadata": {
    "collapsed": false
   },
   "outputs": [],
   "source": [
    "lk_s = pd.DataFrame(index=['mean', 'std'], columns=leakage_kde.index, dtype=float)\n",
    "\n",
    "lk_s.loc['mean'] = leakage_kde.mean(1)*100\n",
    "lk_s.loc['std'] = leakage_kde.std(1)*100\n",
    "\n",
    "lk_s = lk_s.round(5)\n",
    "lk_s"
   ]
  },
  {
   "cell_type": "markdown",
   "metadata": {},
   "source": [
    "### Mean per sample (weighted on the number of bursts):\n",
    "\n",
    "Number of bursts in D-only population:"
   ]
  },
  {
   "cell_type": "code",
   "execution_count": null,
   "metadata": {
    "collapsed": false
   },
   "outputs": [],
   "source": [
    "nbursts"
   ]
  },
  {
   "cell_type": "code",
   "execution_count": null,
   "metadata": {
    "collapsed": false
   },
   "outputs": [],
   "source": [
    "leakage_kde"
   ]
  },
  {
   "cell_type": "code",
   "execution_count": null,
   "metadata": {
    "collapsed": false
   },
   "outputs": [],
   "source": [
    "lk_sw = pd.DataFrame(index=['mean', 'std'], columns=leakage_kde.index, dtype=float)\n",
    "\n",
    "lk_sw.loc['mean'] = (nbursts*leakage_kde).sum(1)/nbursts.sum(1)*100\n",
    "lk_sw.loc['std'] = np.sqrt((((leakage_kde.T*100 - lk_sw.loc['mean']).T**2) * nbursts).sum(1) / (nbursts.sum(1) - 1))\n",
    "\n",
    "#lk_sw['mean'] = (nbursts * lk_sw).sum(1) / nbursts.sum(1).sum()\n",
    "lk_sw = lk_sw.round(5)\n",
    "lk_sw"
   ]
  },
  {
   "cell_type": "code",
   "execution_count": null,
   "metadata": {
    "collapsed": false
   },
   "outputs": [],
   "source": [
    "lk_swg = pd.DataFrame(index=['mean', 'std'], columns=leakage_gauss.index, dtype=float)\n",
    "\n",
    "lk_swg.loc['mean'] = (nbursts*leakage_gauss).sum(1)/nbursts.sum(1)*100\n",
    "lk_swg.loc['std'] = np.sqrt((((leakage_gauss.T*100 - lk_swg.loc['mean']).T**2) * nbursts).sum(1) / (nbursts.sum(1) - 1))\n",
    "\n",
    "#lk_sw['mean'] = (nbursts * lk_sw).sum(1) / nbursts.sum(1).sum()\n",
    "lk_swg = lk_swg.round(5)\n",
    "lk_swg"
   ]
  },
  {
   "cell_type": "code",
   "execution_count": null,
   "metadata": {
    "collapsed": false
   },
   "outputs": [],
   "source": [
    "sns.set_style('ticks')"
   ]
  },
  {
   "cell_type": "code",
   "execution_count": null,
   "metadata": {
    "collapsed": false
   },
   "outputs": [],
   "source": [
    "lk_sw_m = pd.concat((lk_sw.loc['mean'], lk_swg.loc['mean']), axis=1, keys=['KDE', 'Gauss'])\n",
    "lk_sw_m"
   ]
  },
  {
   "cell_type": "code",
   "execution_count": null,
   "metadata": {
    "collapsed": false
   },
   "outputs": [],
   "source": [
    "lk_sw_s = pd.concat((lk_sw.loc['std'], lk_swg.loc['std']), axis=1, keys=['KDE', 'Gauss'])\n",
    "lk_sw_s"
   ]
  },
  {
   "cell_type": "code",
   "execution_count": null,
   "metadata": {
    "collapsed": false
   },
   "outputs": [],
   "source": [
    "lk_sw_m.plot(yerr=lk_sw_s, lw=5, alpha=0.6)\n",
    "plt.xlim(-0.2, 3.2)\n",
    "plt.xticks(range(4), lk_sw_s.index)\n",
    "sns.despine(trim=True, offset=10)"
   ]
  },
  {
   "cell_type": "code",
   "execution_count": null,
   "metadata": {
    "collapsed": false
   },
   "outputs": [],
   "source": [
    "lk_sw_m.plot.bar(yerr=lk_sw_s, alpha=0.8)\n",
    "sns.despine(trim=True, offset=10)"
   ]
  },
  {
   "cell_type": "code",
   "execution_count": null,
   "metadata": {
    "collapsed": false
   },
   "outputs": [],
   "source": [
    "sns.swarmplot(data=leakage_kde*100, size=8, palette=colors_dark);\n",
    "plt.ylim(0)\n",
    "lk_sw_m.loc[:,'KDE'].plot(lw=3, alpha=0.8, color='k')\n",
    "plt.xlim(-0.2, 3.2)\n",
    "plt.xticks(range(4), lk_sw_s.index)\n",
    "sns.despine(trim=True, offset=10)"
   ]
  },
  {
   "cell_type": "markdown",
   "metadata": {},
   "source": [
    "### Mean per channel:"
   ]
  },
  {
   "cell_type": "code",
   "execution_count": null,
   "metadata": {
    "collapsed": false
   },
   "outputs": [],
   "source": [
    "lk_c = pd.DataFrame(index=['mean', 'std'], columns=leakage_kde.columns, dtype=float)\n",
    "\n",
    "lk_c.loc['mean'] = leakage_kde.mean()*100\n",
    "lk_c.loc['std'] = leakage_kde.std()*100\n",
    "\n",
    "#lk_c['mean'] = lk_c.mean(1)\n",
    "lk_c = lk_c.round(5)\n",
    "lk_c"
   ]
  },
  {
   "cell_type": "markdown",
   "metadata": {},
   "source": [
    "### Mean per channel (weighted on the number of bursts):"
   ]
  },
  {
   "cell_type": "code",
   "execution_count": null,
   "metadata": {
    "collapsed": false
   },
   "outputs": [],
   "source": [
    "lk_cw = pd.DataFrame(index=['mean', 'std'], columns=leakage_kde.columns, dtype=float)\n",
    "\n",
    "lk_cw.loc['mean'] = (nbursts*leakage_kde).sum()/nbursts.sum()*100\n",
    "lk_cw.loc['std'] = np.sqrt((((leakage_kde*100 - lk_cw.loc['mean'])**2) * nbursts).sum(0) / (nbursts.sum(0) - 1))\n",
    "\n",
    "#lk_cw['mean'] = lk_cw.mean(1)\n",
    "lk_cw = lk_cw.round(5)\n",
    "lk_cw"
   ]
  },
  {
   "cell_type": "code",
   "execution_count": null,
   "metadata": {
    "collapsed": false
   },
   "outputs": [],
   "source": [
    "lk_cwg = pd.DataFrame(index=['mean', 'std'], columns=leakage_gauss.columns)\n",
    "\n",
    "lk_cwg.loc['mean'] = (nbursts*leakage_gauss).sum()/nbursts.sum()*100\n",
    "lk_cwg.loc['std'] = np.sqrt((((leakage_kde*100 - lk_cwg.loc['mean'])**2) * nbursts).sum(0) / (nbursts.sum(0) - 1))\n",
    "\n",
    "#lk_cwg['mean'] = lk_cwg.mean(1)\n",
    "lk_cwg = lk_cwg.round(5)\n",
    "lk_cwg"
   ]
  },
  {
   "cell_type": "code",
   "execution_count": null,
   "metadata": {
    "collapsed": false
   },
   "outputs": [],
   "source": [
    "lk_cw_m = pd.concat((lk_cw.loc['mean'], lk_cwg.loc['mean']), axis=1, keys=['KDE', 'Gauss'])\n",
    "lk_cw_m.T"
   ]
  },
  {
   "cell_type": "code",
   "execution_count": null,
   "metadata": {
    "collapsed": false
   },
   "outputs": [],
   "source": [
    "lk_cw_s = pd.concat((lk_cw.loc['std'], lk_cwg.loc['std']), axis=1, keys=['KDE', 'Gauss'])\n",
    "lk_cw_s.T"
   ]
  },
  {
   "cell_type": "code",
   "execution_count": null,
   "metadata": {
    "collapsed": true
   },
   "outputs": [],
   "source": [
    "sns.set_palette(colors_dark)"
   ]
  },
  {
   "cell_type": "code",
   "execution_count": null,
   "metadata": {
    "collapsed": false
   },
   "outputs": [],
   "source": [
    "kws = dict(lw=5, marker='o', ms=8, alpha=0.5)\n",
    "lk_cw.loc['mean'].plot(yerr=lk_cw.loc['std'], **kws)\n",
    "lk_cwg.ix['mean',:].plot(yerr=lk_cwg.loc['std'],**kws)\n",
    "plt.ylim(0, 4)\n",
    "plt.xlim(0.75, 8.25)\n",
    "sns.despine(trim=True)"
   ]
  },
  {
   "cell_type": "code",
   "execution_count": null,
   "metadata": {
    "collapsed": false
   },
   "outputs": [],
   "source": [
    "lk_cw_s"
   ]
  },
  {
   "cell_type": "code",
   "execution_count": null,
   "metadata": {
    "collapsed": false
   },
   "outputs": [],
   "source": [
    "lk_cw_m"
   ]
  },
  {
   "cell_type": "code",
   "execution_count": null,
   "metadata": {
    "collapsed": false
   },
   "outputs": [],
   "source": [
    "lk_cw_m.plot.bar(alpha=0.8)\n",
    "#sns.despine(trim=True, offset=10)"
   ]
  },
  {
   "cell_type": "code",
   "execution_count": null,
   "metadata": {
    "collapsed": false
   },
   "outputs": [],
   "source": [
    "leakage_kde_t = pd.melt(leakage_kde.reset_index(), id_vars=['Sample'], \n",
    "                        value_name='leakage_kde').apply(pd.to_numeric, errors='ignore')\n",
    "leakage_kde_t.leakage_kde *= 100\n",
    "leakage_kde_t.head()"
   ]
  },
  {
   "cell_type": "code",
   "execution_count": null,
   "metadata": {
    "collapsed": false
   },
   "outputs": [],
   "source": [
    "_ = lk_cw_m.copy().assign(Spot=range(8)).set_index('Spot')\n",
    "_.head()"
   ]
  },
  {
   "cell_type": "code",
   "execution_count": null,
   "metadata": {
    "collapsed": true
   },
   "outputs": [],
   "source": [
    "sns.set_palette(colors_dark4)"
   ]
  },
  {
   "cell_type": "code",
   "execution_count": null,
   "metadata": {
    "collapsed": false
   },
   "outputs": [],
   "source": [
    "sns.swarmplot(x='Spot', y='leakage_kde', data=leakage_kde_t, size=6, hue='Sample');\n",
    "_ = lk_cw_m.copy().assign(Spot=range(8)).set_index('Spot')\n",
    "_.loc[:,'KDE'].plot(lw=3, alpha=0.8, color='k')\n",
    "plt.ylim(0)\n",
    "plt.xlim(-0.25, 7.25)\n",
    "sns.despine(trim=True)"
   ]
  },
  {
   "cell_type": "markdown",
   "metadata": {},
   "source": [
    "> **NOTE:** There is a per-channel trend that cannot be ascribed to the background \n",
    "> because we performend a D-emission burst search and selection and the leakage vs ch\n",
    "> does not resemble the D-background vs channel curve.\n",
    ">\n",
    "> The effect is probably due to slight PDE variations (detectors + optics) that \n",
    "> slightly change $\\gamma$ on a per-spot basis."
   ]
  },
  {
   "cell_type": "markdown",
   "metadata": {},
   "source": [
    "### Weighted mean of the weighted mean"
   ]
  },
  {
   "cell_type": "code",
   "execution_count": null,
   "metadata": {
    "collapsed": false
   },
   "outputs": [],
   "source": [
    "leakage_kde_wmean = (leakage_kde*nbursts).sum().sum() / nbursts.sum().sum()\n",
    "leakage_kde_wmean"
   ]
  },
  {
   "cell_type": "markdown",
   "metadata": {},
   "source": [
    "# Figure"
   ]
  },
  {
   "cell_type": "code",
   "execution_count": null,
   "metadata": {
    "collapsed": true
   },
   "outputs": [],
   "source": [
    "%config InlineBackend.figure_format='retina'  # for hi-dpi displays"
   ]
  },
  {
   "cell_type": "markdown",
   "metadata": {},
   "source": [
    "Now I will transform `leakage_kde` in \"tidy form\" for\n",
    "easier plotting.\n",
    "\n",
    "For info on \"data tidying\" see:\n",
    "\n",
    "- http://stackoverflow.com/questions/37490771/seaborn-categorical-plot-with-hue-from-dataframe-rows/\n",
    "- https://www.ibm.com/developerworks/community/blogs/jfp/entry/Tidy_Data_In_Python"
   ]
  },
  {
   "cell_type": "code",
   "execution_count": null,
   "metadata": {
    "collapsed": false
   },
   "outputs": [],
   "source": [
    "leakage_kde"
   ]
  },
  {
   "cell_type": "code",
   "execution_count": null,
   "metadata": {
    "collapsed": false
   },
   "outputs": [],
   "source": [
    "leakage_kde_t = pd.melt((100*leakage_kde).reset_index(), id_vars=['Sample'], \n",
    "                        value_name='leakage_kde').apply(pd.to_numeric, errors='ignore')\n",
    "leakage_kde_t.head()"
   ]
  },
  {
   "cell_type": "code",
   "execution_count": null,
   "metadata": {
    "collapsed": false
   },
   "outputs": [],
   "source": [
    "# leakage_kde_t = pd.melt((100*leakage_kde).T.reset_index(), id_vars=['Spot'], \n",
    "#                         value_name='leakage_kde').apply(pd.to_numeric, errors='ignore')\n",
    "# leakage_kde_t.head()"
   ]
  },
  {
   "cell_type": "code",
   "execution_count": null,
   "metadata": {
    "collapsed": true
   },
   "outputs": [],
   "source": [
    "sns.set_palette(colors_dark4)"
   ]
  },
  {
   "cell_type": "code",
   "execution_count": null,
   "metadata": {
    "collapsed": false
   },
   "outputs": [],
   "source": [
    "fig, ax = plt.subplots(1, 2, figsize=(12, 5), sharey=True)\n",
    "plt.subplots_adjust(wspace=0.1)\n",
    "\n",
    "sns.swarmplot(x='Sample', y='leakage_kde', data=leakage_kde_t, size=6, ax=ax[0])\n",
    "lk_sw_m.loc[:,'KDE'].plot(lw=3, alpha=0.8, color='k', ax=ax[0])\n",
    "ax[0].set_ylim(0)\n",
    "ax[0].set_xlim(-0.2, 3.2)\n",
    "plt.xticks(range(4), lk_sw_s.index)\n",
    "sns.despine(trim=True, offset=10, ax=ax[0])\n",
    "\n",
    "sns.swarmplot(x='Spot', y='leakage_kde', data=leakage_kde_t, size=6, hue='Sample', ax=ax[1])\n",
    "_ = lk_cw_m.copy().assign(Spot=range(8)).set_index('Spot')\n",
    "_.loc[:,'KDE'].plot(lw=3, alpha=0.8, color='k', label='mean')\n",
    "ax[1].set_ylim(0)\n",
    "ax[1].set_xlim(-0.25, 7.25)\n",
    "plt.xticks(np.arange(8));\n",
    "sns.despine(trim=True, offset=10, ax=ax[1], left=True)\n",
    "ax[1].yaxis.set_visible(False)\n",
    "ax[0].set_ylabel('Leakage %')\n",
    "leg = ax[1].get_legend()\n",
    "h, l = ax[1].get_legend_handles_labels()\n",
    "ax[1].legend(h[1:] + h[:1], l[1:] + l[:1], title='Sample', loc='lower right')\n",
    "fs = 28\n",
    "ax[0].text(0,0, 'A', fontsize=fs)\n",
    "ax[1].text(0,0, 'B', fontsize=fs)\n",
    "savefig('multi-spot leakage KDE 2panels.png')"
   ]
  },
  {
   "cell_type": "markdown",
   "metadata": {},
   "source": [
    "# Save"
   ]
  },
  {
   "cell_type": "markdown",
   "metadata": {},
   "source": [
    "## Per-channel mean"
   ]
  },
  {
   "cell_type": "code",
   "execution_count": null,
   "metadata": {
    "collapsed": false
   },
   "outputs": [],
   "source": [
    "lk_cw.to_csv('results/Multi-spot - leakage coefficient mean per-ch KDE %s.csv' % bsearch_str)"
   ]
  },
  {
   "cell_type": "markdown",
   "metadata": {},
   "source": [
    "## Per-sample mean"
   ]
  },
  {
   "cell_type": "code",
   "execution_count": null,
   "metadata": {
    "collapsed": false
   },
   "outputs": [],
   "source": [
    "lk_sw.to_csv('results/Multi-spot - leakage coefficient mean per-sample KDE %s.csv' % bsearch_str)"
   ]
  },
  {
   "cell_type": "markdown",
   "metadata": {},
   "source": [
    "## Global mean"
   ]
  },
  {
   "cell_type": "code",
   "execution_count": null,
   "metadata": {
    "collapsed": false
   },
   "outputs": [],
   "source": [
    "'%.5f' % leakage_kde_wmean"
   ]
  },
  {
   "cell_type": "code",
   "execution_count": null,
   "metadata": {
    "collapsed": false
   },
   "outputs": [],
   "source": [
    "with open('results/Multi-spot - leakage coefficient KDE wmean %s.csv' % bsearch_str, 'w') as f:\n",
    "    f.write('%.5f' % leakage_kde_wmean)"
   ]
  }
 ],
 "metadata": {
  "anaconda-cloud": {},
  "kernelspec": {
   "display_name": "Python [default]",
   "language": "python",
   "name": "python3"
  },
  "language_info": {
   "codemirror_mode": {
    "name": "ipython",
    "version": 3
   },
   "file_extension": ".py",
   "mimetype": "text/x-python",
   "name": "python",
   "nbconvert_exporter": "python",
   "pygments_lexer": "ipython3",
   "version": "3.5.2"
  }
 },
 "nbformat": 4,
 "nbformat_minor": 0
}
