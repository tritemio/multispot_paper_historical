{
 "metadata": {
  "name": "",
  "signature": "sha256:67181f79e8b23855e9fc9e8e3e933a9b285404489d39ea9c5800dcfbb1b8a5a3"
 },
 "nbformat": 3,
 "nbformat_minor": 0,
 "worksheets": [
  {
   "cells": [
    {
     "cell_type": "markdown",
     "metadata": {},
     "source": [
      "# Fit Gamma factor\n",
      "\n",
      "> *This notebook estimates the gamma factor from a set of 5 \u03bcs-ALEX smFRET measurements.*\n",
      "\n",
      "## What this notebook does?\n",
      "\n",
      "According to [Lee 2005](http://dx.doi.org/10.1529/biophysj.104.054114) ([PDF](http://www.chem.ucla.edu/~michalet/papers/BJ2005.pdf), [SI PDF](http://www.chem.ucla.edu/~michalet/papers/BJ2005SI.pdf)), we estimate the $\\gamma$-factor \n",
      "from Proximity Ratio (PR) and S values (with background, leakage and direct excitation correction) \n",
      "for a set of 5 \u03bcs-ALEX measurements.\n",
      "\n",
      "The PR and S values are computed by the template notebook:\n",
      "\n",
      "- [usALEX-5samples-PR-leakage-dir-ex-all-ph](usALEX-5samples-PR-leakage-dir-ex-all-ph.ipynb)\n",
      "\n",
      "which is executed for each sample using [usALEX-Batch](usALEX-Batch.ipynb).\n",
      "\n",
      "From [Lee 2005](http://dx.doi.org/10.1529/biophysj.104.054114) (equation 20), the following linear relation holds:\n",
      "\n",
      "$$\\frac{1}{S} = \\Omega + \\Sigma \\cdot E_{PR}$$\n",
      "\n",
      "Once $\\Omega$ and $\\Sigma$ are fitted, we can compute the $\\gamma$-factor as ([equation 22](http://www.sciencedirect.com/science/article/pii/S0006349505733464#eq22)):\n",
      "\n",
      "$$\\gamma = (\\Omega-1)/(\\Omega + \\Sigma-1)$$"
     ]
    },
    {
     "cell_type": "markdown",
     "metadata": {},
     "source": [
      "## Import libraries"
     ]
    },
    {
     "cell_type": "code",
     "collapsed": false,
     "input": [
      "from __future__ import division\n",
      "import numpy as np\n",
      "import pandas as pd\n",
      "import lmfit\n",
      "from scipy.stats import linregress"
     ],
     "language": "python",
     "metadata": {},
     "outputs": [],
     "prompt_number": 1
    },
    {
     "cell_type": "markdown",
     "metadata": {},
     "source": [
      "## Computation"
     ]
    },
    {
     "cell_type": "markdown",
     "metadata": {},
     "source": [
      "This notebook read data from the file:"
     ]
    },
    {
     "cell_type": "code",
     "collapsed": false,
     "input": [
      "data_file = 'results/usALEX-5samples-PR-leakage-dir-ex-all-ph.txt'"
     ],
     "language": "python",
     "metadata": {},
     "outputs": [],
     "prompt_number": 2
    },
    {
     "cell_type": "code",
     "collapsed": false,
     "input": [
      "data = pd.read_csv(data_file, sep=\"\\s+\").set_index('sample')\n",
      "data"
     ],
     "language": "python",
     "metadata": {},
     "outputs": [
      {
       "html": [
        "<div style=\"max-height:1000px;max-width:1500px;overflow:auto;\">\n",
        "<table border=\"1\" class=\"dataframe\">\n",
        "  <thead>\n",
        "    <tr style=\"text-align: right;\">\n",
        "      <th></th>\n",
        "      <th>n_bursts_all</th>\n",
        "      <th>n_bursts_do</th>\n",
        "      <th>n_bursts_fret</th>\n",
        "      <th>E_kde_w</th>\n",
        "      <th>E_gauss_w</th>\n",
        "      <th>E_gauss_w_sig</th>\n",
        "      <th>E_gauss_w_err</th>\n",
        "      <th>S_kde</th>\n",
        "      <th>S_gauss</th>\n",
        "      <th>S_gauss_sig</th>\n",
        "      <th>S_gauss_err</th>\n",
        "      <th>E_pr_do_kde</th>\n",
        "      <th>nt_mean</th>\n",
        "    </tr>\n",
        "    <tr>\n",
        "      <th>sample</th>\n",
        "      <th></th>\n",
        "      <th></th>\n",
        "      <th></th>\n",
        "      <th></th>\n",
        "      <th></th>\n",
        "      <th></th>\n",
        "      <th></th>\n",
        "      <th></th>\n",
        "      <th></th>\n",
        "      <th></th>\n",
        "      <th></th>\n",
        "      <th></th>\n",
        "      <th></th>\n",
        "    </tr>\n",
        "  </thead>\n",
        "  <tbody>\n",
        "    <tr>\n",
        "      <th>7d</th>\n",
        "      <td> 1167</td>\n",
        "      <td> 582</td>\n",
        "      <td>  542</td>\n",
        "      <td> 0.9302</td>\n",
        "      <td> 0.925533</td>\n",
        "      <td> 0.059437</td>\n",
        "      <td> 0.002553</td>\n",
        "      <td> 0.5560</td>\n",
        "      <td> 0.552199</td>\n",
        "      <td> 0.092022</td>\n",
        "      <td> 0.003953</td>\n",
        "      <td> 0.0014</td>\n",
        "      <td> 22.198866</td>\n",
        "    </tr>\n",
        "    <tr>\n",
        "      <th>12d</th>\n",
        "      <td> 1303</td>\n",
        "      <td> 329</td>\n",
        "      <td>  944</td>\n",
        "      <td> 0.7430</td>\n",
        "      <td> 0.731184</td>\n",
        "      <td> 0.092252</td>\n",
        "      <td> 0.003003</td>\n",
        "      <td> 0.5798</td>\n",
        "      <td> 0.560314</td>\n",
        "      <td> 0.102043</td>\n",
        "      <td> 0.003321</td>\n",
        "      <td> 0.0164</td>\n",
        "      <td> 21.841780</td>\n",
        "    </tr>\n",
        "    <tr>\n",
        "      <th>17d</th>\n",
        "      <td> 2482</td>\n",
        "      <td> 462</td>\n",
        "      <td> 1957</td>\n",
        "      <td> 0.4310</td>\n",
        "      <td> 0.426150</td>\n",
        "      <td> 0.114118</td>\n",
        "      <td> 0.002580</td>\n",
        "      <td> 0.5560</td>\n",
        "      <td> 0.537736</td>\n",
        "      <td> 0.107983</td>\n",
        "      <td> 0.002441</td>\n",
        "      <td> 0.0126</td>\n",
        "      <td> 21.054460</td>\n",
        "    </tr>\n",
        "    <tr>\n",
        "      <th>22d</th>\n",
        "      <td> 2047</td>\n",
        "      <td> 319</td>\n",
        "      <td> 1666</td>\n",
        "      <td> 0.1788</td>\n",
        "      <td> 0.182669</td>\n",
        "      <td> 0.078314</td>\n",
        "      <td> 0.001919</td>\n",
        "      <td> 0.5540</td>\n",
        "      <td> 0.549958</td>\n",
        "      <td> 0.109928</td>\n",
        "      <td> 0.002693</td>\n",
        "      <td> 0.0008</td>\n",
        "      <td> 22.918195</td>\n",
        "    </tr>\n",
        "    <tr>\n",
        "      <th>27d</th>\n",
        "      <td>  786</td>\n",
        "      <td> 160</td>\n",
        "      <td>  584</td>\n",
        "      <td> 0.0834</td>\n",
        "      <td> 0.084095</td>\n",
        "      <td> 0.070112</td>\n",
        "      <td> 0.002901</td>\n",
        "      <td> 0.5150</td>\n",
        "      <td> 0.560113</td>\n",
        "      <td> 0.111518</td>\n",
        "      <td> 0.004615</td>\n",
        "      <td>-0.0068</td>\n",
        "      <td> 16.980773</td>\n",
        "    </tr>\n",
        "  </tbody>\n",
        "</table>\n",
        "</div>"
       ],
       "metadata": {},
       "output_type": "pyout",
       "prompt_number": 3,
       "text": [
        "        n_bursts_all  n_bursts_do  n_bursts_fret  E_kde_w  E_gauss_w  \\\n",
        "sample                                                                 \n",
        "7d              1167          582            542   0.9302   0.925533   \n",
        "12d             1303          329            944   0.7430   0.731184   \n",
        "17d             2482          462           1957   0.4310   0.426150   \n",
        "22d             2047          319           1666   0.1788   0.182669   \n",
        "27d              786          160            584   0.0834   0.084095   \n",
        "\n",
        "        E_gauss_w_sig  E_gauss_w_err   S_kde   S_gauss  S_gauss_sig  \\\n",
        "sample                                                                \n",
        "7d           0.059437       0.002553  0.5560  0.552199     0.092022   \n",
        "12d          0.092252       0.003003  0.5798  0.560314     0.102043   \n",
        "17d          0.114118       0.002580  0.5560  0.537736     0.107983   \n",
        "22d          0.078314       0.001919  0.5540  0.549958     0.109928   \n",
        "27d          0.070112       0.002901  0.5150  0.560113     0.111518   \n",
        "\n",
        "        S_gauss_err  E_pr_do_kde    nt_mean  \n",
        "sample                                       \n",
        "7d         0.003953       0.0014  22.198866  \n",
        "12d        0.003321       0.0164  21.841780  \n",
        "17d        0.002441       0.0126  21.054460  \n",
        "22d        0.002693       0.0008  22.918195  \n",
        "27d        0.004615      -0.0068  16.980773  "
       ]
      }
     ],
     "prompt_number": 3
    },
    {
     "cell_type": "code",
     "collapsed": false,
     "input": [
      "data[['E_gauss_w', 'E_kde_w']]"
     ],
     "language": "python",
     "metadata": {},
     "outputs": [
      {
       "html": [
        "<div style=\"max-height:1000px;max-width:1500px;overflow:auto;\">\n",
        "<table border=\"1\" class=\"dataframe\">\n",
        "  <thead>\n",
        "    <tr style=\"text-align: right;\">\n",
        "      <th></th>\n",
        "      <th>E_gauss_w</th>\n",
        "      <th>E_kde_w</th>\n",
        "    </tr>\n",
        "    <tr>\n",
        "      <th>sample</th>\n",
        "      <th></th>\n",
        "      <th></th>\n",
        "    </tr>\n",
        "  </thead>\n",
        "  <tbody>\n",
        "    <tr>\n",
        "      <th>7d</th>\n",
        "      <td> 0.925533</td>\n",
        "      <td> 0.9302</td>\n",
        "    </tr>\n",
        "    <tr>\n",
        "      <th>12d</th>\n",
        "      <td> 0.731184</td>\n",
        "      <td> 0.7430</td>\n",
        "    </tr>\n",
        "    <tr>\n",
        "      <th>17d</th>\n",
        "      <td> 0.426150</td>\n",
        "      <td> 0.4310</td>\n",
        "    </tr>\n",
        "    <tr>\n",
        "      <th>22d</th>\n",
        "      <td> 0.182669</td>\n",
        "      <td> 0.1788</td>\n",
        "    </tr>\n",
        "    <tr>\n",
        "      <th>27d</th>\n",
        "      <td> 0.084095</td>\n",
        "      <td> 0.0834</td>\n",
        "    </tr>\n",
        "  </tbody>\n",
        "</table>\n",
        "</div>"
       ],
       "metadata": {},
       "output_type": "pyout",
       "prompt_number": 4,
       "text": [
        "        E_gauss_w  E_kde_w\n",
        "sample                    \n",
        "7d       0.925533   0.9302\n",
        "12d      0.731184   0.7430\n",
        "17d      0.426150   0.4310\n",
        "22d      0.182669   0.1788\n",
        "27d      0.084095   0.0834"
       ]
      }
     ],
     "prompt_number": 4
    },
    {
     "cell_type": "code",
     "collapsed": false,
     "input": [
      "E_ref, S_ref = data.E_gauss_w, data.S_gauss"
     ],
     "language": "python",
     "metadata": {},
     "outputs": [],
     "prompt_number": 5
    },
    {
     "cell_type": "code",
     "collapsed": false,
     "input": [
      "res = linregress(E_ref, 1/S_ref)\n",
      "slope, intercept, r_val, p_val, stderr = res"
     ],
     "language": "python",
     "metadata": {},
     "outputs": [],
     "prompt_number": 6
    },
    {
     "cell_type": "markdown",
     "metadata": {},
     "source": [
      "For more info see [`scipy.stats.linearregress`](http://docs.scipy.org/doc/scipy-0.13.0/reference/generated/scipy.stats.linregress.html)."
     ]
    },
    {
     "cell_type": "code",
     "collapsed": false,
     "input": [
      "Sigma = slope \n",
      "Sigma"
     ],
     "language": "python",
     "metadata": {},
     "outputs": [
      {
       "metadata": {},
       "output_type": "pyout",
       "prompt_number": 7,
       "text": [
        "-0.0024211381175072511"
       ]
      }
     ],
     "prompt_number": 7
    },
    {
     "cell_type": "code",
     "collapsed": false,
     "input": [
      "Omega = intercept\n",
      "Omega"
     ],
     "language": "python",
     "metadata": {},
     "outputs": [
      {
       "metadata": {},
       "output_type": "pyout",
       "prompt_number": 8,
       "text": [
        "1.8129328657086472"
       ]
      }
     ],
     "prompt_number": 8
    },
    {
     "cell_type": "markdown",
     "metadata": {},
     "source": [
      "[Pearson correlation coefficient](http://en.wikipedia.org/wiki/Pearson_product-moment_correlation_coefficient):"
     ]
    },
    {
     "cell_type": "code",
     "collapsed": false,
     "input": [
      "r_val"
     ],
     "language": "python",
     "metadata": {},
     "outputs": [
      {
       "metadata": {},
       "output_type": "pyout",
       "prompt_number": 9,
       "text": [
        "-0.028151971736734237"
       ]
      }
     ],
     "prompt_number": 9
    },
    {
     "cell_type": "markdown",
     "metadata": {},
     "source": [
      "[Coefficient of determination](http://en.wikipedia.org/wiki/Coefficient_of_determination) $R^2$:"
     ]
    },
    {
     "cell_type": "code",
     "collapsed": false,
     "input": [
      "r_val**2"
     ],
     "language": "python",
     "metadata": {},
     "outputs": [
      {
       "metadata": {},
       "output_type": "pyout",
       "prompt_number": 10,
       "text": [
        "0.00079253351266588327"
       ]
      }
     ],
     "prompt_number": 10
    },
    {
     "cell_type": "markdown",
     "metadata": {},
     "source": [
      "P-value (to test the null hypothesis that the slope is zero):"
     ]
    },
    {
     "cell_type": "code",
     "collapsed": false,
     "input": [
      "p_val"
     ],
     "language": "python",
     "metadata": {},
     "outputs": [
      {
       "metadata": {},
       "output_type": "pyout",
       "prompt_number": 11,
       "text": [
        "0.96416053150764292"
       ]
      }
     ],
     "prompt_number": 11
    },
    {
     "cell_type": "markdown",
     "metadata": {},
     "source": [
      "Gamma computed from the previous fitted values:"
     ]
    },
    {
     "cell_type": "code",
     "collapsed": false,
     "input": [
      "gamma = (Omega - 1)/(Omega + Sigma - 1)\n",
      "gamma"
     ],
     "language": "python",
     "metadata": {},
     "outputs": [
      {
       "metadata": {},
       "output_type": "pyout",
       "prompt_number": 12,
       "text": [
        "1.0029871722210644"
       ]
      }
     ],
     "prompt_number": 12
    },
    {
     "cell_type": "code",
     "collapsed": false,
     "input": [
      "with open('results/usALEX - gamma factor - all-ph.txt', 'w') as f:\n",
      "    f.write(str(gamma))"
     ],
     "language": "python",
     "metadata": {},
     "outputs": [],
     "prompt_number": 13
    },
    {
     "cell_type": "markdown",
     "metadata": {},
     "source": [
      "#Fit plot"
     ]
    },
    {
     "cell_type": "code",
     "collapsed": false,
     "input": [
      "%matplotlib inline\n",
      "from matplotlib.pyplot import *"
     ],
     "language": "python",
     "metadata": {},
     "outputs": [],
     "prompt_number": 14
    },
    {
     "cell_type": "code",
     "collapsed": false,
     "input": [
      "plot(E_ref, 1/S_ref, 's')\n",
      "x = np.arange(0, 1, 0.01)\n",
      "plot(x, intercept + slope*x, 'k')\n",
      "ylim(1, 2)\n",
      "xlabel('E (uncorrected)')\n",
      "ylabel('1/S (uncorrected)')"
     ],
     "language": "python",
     "metadata": {},
     "outputs": [
      {
       "metadata": {},
       "output_type": "pyout",
       "prompt_number": 15,
       "text": [
        "<matplotlib.text.Text at 0x156eda90>"
       ]
      },
      {
       "metadata": {},
       "output_type": "display_data",
       "png": "[encoded data removed]",
       "text": [
        "<matplotlib.figure.Figure at 0x156dd278>"
       ]
      }
     ],
     "prompt_number": 15
    },
    {
     "cell_type": "code",
     "collapsed": false,
     "input": [],
     "language": "python",
     "metadata": {},
     "outputs": [],
     "prompt_number": 15
    }
   ],
   "metadata": {}
  }
 ]
}