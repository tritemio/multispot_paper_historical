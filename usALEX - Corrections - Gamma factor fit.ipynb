{
 "metadata": {
  "name": "",
  "signature": "sha256:53f7bfd7b1c8dcfd1e0e1d3c53122507dd5dbd5557b0f9a5472c6aa861963caa"
 },
 "nbformat": 3,
 "nbformat_minor": 0,
 "worksheets": [
  {
   "cells": [
    {
     "cell_type": "markdown",
     "metadata": {},
     "source": [
      "# Fit Gamma factor\n",
      "\n",
      "> *This notebook estimates the gamma factor from a set of 5 \u03bcs-ALEX smFRET measurements.*\n",
      "\n",
      "## What this notebook does?\n",
      "\n",
      "According to [Lee 2005](http://dx.doi.org/10.1529/biophysj.104.054114) ([PDF](http://www.chem.ucla.edu/~michalet/papers/BJ2005.pdf), [SI PDF](http://www.chem.ucla.edu/~michalet/papers/BJ2005SI.pdf)), we estimate the $\\gamma$-factor \n",
      "from Proximity Ratio (PR) and S values (with background, leakage and direct excitation correction) \n",
      "for a set of 5 \u03bcs-ALEX measurements.\n",
      "\n",
      "The PR and S values are computed by the template notebook:\n",
      "\n",
      "- [usALEX-5samples-PR-leakage-dir-ex-all-ph](usALEX-5samples-PR-leakage-dir-ex-all-ph.ipynb)\n",
      "\n",
      "which is executed for each sample using [usALEX-Batch](usALEX-Batch.ipynb).\n",
      "\n",
      "From [Lee 2005](http://dx.doi.org/10.1529/biophysj.104.054114) (equation 20), the following linear relation holds:\n",
      "\n",
      "$$\\frac{1}{S} = \\Omega + \\Sigma \\cdot E_{PR}$$\n",
      "\n",
      "Once $\\Omega$ and $\\Sigma$ are fitted, we can compute the $\\gamma$-factor as ([equation 22](http://www.sciencedirect.com/science/article/pii/S0006349505733464#eq22)):\n",
      "\n",
      "$$\\gamma = (\\Omega-1)/(\\Omega + \\Sigma-1)$$"
     ]
    },
    {
     "cell_type": "markdown",
     "metadata": {},
     "source": [
      "## Import libraries"
     ]
    },
    {
     "cell_type": "code",
     "collapsed": false,
     "input": [
      "from __future__ import division\n",
      "import numpy as np\n",
      "import pandas as pd\n",
      "import lmfit\n",
      "from scipy.stats import linregress"
     ],
     "language": "python",
     "metadata": {},
     "outputs": [],
     "prompt_number": 1
    },
    {
     "cell_type": "markdown",
     "metadata": {},
     "source": [
      "## Computation"
     ]
    },
    {
     "cell_type": "markdown",
     "metadata": {},
     "source": [
      "This notebook read data from the file:"
     ]
    },
    {
     "cell_type": "code",
     "collapsed": false,
     "input": [
      "data_file = 'results/usALEX-5samples-PR-leakage-dir-ex-all-ph.txt'"
     ],
     "language": "python",
     "metadata": {},
     "outputs": [],
     "prompt_number": 2
    },
    {
     "cell_type": "code",
     "collapsed": false,
     "input": [
      "data = pd.read_csv(data_file, sep=\"\\s+\").set_index('sample')\n",
      "data"
     ],
     "language": "python",
     "metadata": {},
     "outputs": [
      {
       "html": [
        "<div style=\"max-height:1000px;max-width:1500px;overflow:auto;\">\n",
        "<table border=\"1\" class=\"dataframe\">\n",
        "  <thead>\n",
        "    <tr style=\"text-align: right;\">\n",
        "      <th></th>\n",
        "      <th>n_bursts_all</th>\n",
        "      <th>n_bursts_do</th>\n",
        "      <th>n_bursts_fret</th>\n",
        "      <th>E_pr_fret</th>\n",
        "      <th>E_pr_fret_sig</th>\n",
        "      <th>S_pr_fret</th>\n",
        "      <th>S_pr_fret_sig</th>\n",
        "      <th>E_pr_do_kde</th>\n",
        "      <th>nt_mean</th>\n",
        "      <th>E_pr_fret_kde</th>\n",
        "    </tr>\n",
        "    <tr>\n",
        "      <th>sample</th>\n",
        "      <th></th>\n",
        "      <th></th>\n",
        "      <th></th>\n",
        "      <th></th>\n",
        "      <th></th>\n",
        "      <th></th>\n",
        "      <th></th>\n",
        "      <th></th>\n",
        "      <th></th>\n",
        "      <th></th>\n",
        "    </tr>\n",
        "  </thead>\n",
        "  <tbody>\n",
        "    <tr>\n",
        "      <th>7d</th>\n",
        "      <td> 1179</td>\n",
        "      <td> 583</td>\n",
        "      <td>  553</td>\n",
        "      <td> 0.927514</td>\n",
        "      <td> 0.002460</td>\n",
        "      <td> 0.556678</td>\n",
        "      <td> 0.004139</td>\n",
        "      <td> 0.0018</td>\n",
        "      <td> 22.065812</td>\n",
        "      <td> 0.9316</td>\n",
        "    </tr>\n",
        "    <tr>\n",
        "      <th>12d</th>\n",
        "      <td> 1325</td>\n",
        "      <td> 329</td>\n",
        "      <td>  966</td>\n",
        "      <td> 0.734880</td>\n",
        "      <td> 0.002961</td>\n",
        "      <td> 0.568315</td>\n",
        "      <td> 0.003147</td>\n",
        "      <td> 0.0164</td>\n",
        "      <td> 21.975345</td>\n",
        "      <td> 0.7464</td>\n",
        "    </tr>\n",
        "    <tr>\n",
        "      <th>17d</th>\n",
        "      <td> 2543</td>\n",
        "      <td> 462</td>\n",
        "      <td> 2019</td>\n",
        "      <td> 0.436376</td>\n",
        "      <td> 0.002521</td>\n",
        "      <td> 0.545449</td>\n",
        "      <td> 0.002319</td>\n",
        "      <td> 0.0128</td>\n",
        "      <td> 21.519307</td>\n",
        "      <td> 0.4434</td>\n",
        "    </tr>\n",
        "    <tr>\n",
        "      <th>22d</th>\n",
        "      <td> 2119</td>\n",
        "      <td> 319</td>\n",
        "      <td> 1733</td>\n",
        "      <td> 0.195505</td>\n",
        "      <td> 0.001933</td>\n",
        "      <td> 0.550408</td>\n",
        "      <td> 0.002445</td>\n",
        "      <td> 0.0012</td>\n",
        "      <td> 23.376639</td>\n",
        "      <td> 0.1914</td>\n",
        "    </tr>\n",
        "    <tr>\n",
        "      <th>27d</th>\n",
        "      <td>  808</td>\n",
        "      <td> 160</td>\n",
        "      <td>  614</td>\n",
        "      <td> 0.095774</td>\n",
        "      <td> 0.002802</td>\n",
        "      <td> 0.562565</td>\n",
        "      <td> 0.004117</td>\n",
        "      <td>-0.0074</td>\n",
        "      <td> 17.046913</td>\n",
        "      <td> 0.0998</td>\n",
        "    </tr>\n",
        "  </tbody>\n",
        "</table>\n",
        "</div>"
       ],
       "metadata": {},
       "output_type": "pyout",
       "prompt_number": 3,
       "text": [
        "        n_bursts_all  n_bursts_do  n_bursts_fret  E_pr_fret  E_pr_fret_sig  \\\n",
        "sample                                                                       \n",
        "7d              1179          583            553   0.927514       0.002460   \n",
        "12d             1325          329            966   0.734880       0.002961   \n",
        "17d             2543          462           2019   0.436376       0.002521   \n",
        "22d             2119          319           1733   0.195505       0.001933   \n",
        "27d              808          160            614   0.095774       0.002802   \n",
        "\n",
        "        S_pr_fret  S_pr_fret_sig  E_pr_do_kde    nt_mean  E_pr_fret_kde  \n",
        "sample                                                                   \n",
        "7d       0.556678       0.004139       0.0018  22.065812         0.9316  \n",
        "12d      0.568315       0.003147       0.0164  21.975345         0.7464  \n",
        "17d      0.545449       0.002319       0.0128  21.519307         0.4434  \n",
        "22d      0.550408       0.002445       0.0012  23.376639         0.1914  \n",
        "27d      0.562565       0.004117      -0.0074  17.046913         0.0998  "
       ]
      }
     ],
     "prompt_number": 3
    },
    {
     "cell_type": "code",
     "collapsed": false,
     "input": [
      "data[['E_pr_fret', 'E_pr_fret_kde']]"
     ],
     "language": "python",
     "metadata": {},
     "outputs": [
      {
       "html": [
        "<div style=\"max-height:1000px;max-width:1500px;overflow:auto;\">\n",
        "<table border=\"1\" class=\"dataframe\">\n",
        "  <thead>\n",
        "    <tr style=\"text-align: right;\">\n",
        "      <th></th>\n",
        "      <th>E_pr_fret</th>\n",
        "      <th>E_pr_fret_kde</th>\n",
        "    </tr>\n",
        "    <tr>\n",
        "      <th>sample</th>\n",
        "      <th></th>\n",
        "      <th></th>\n",
        "    </tr>\n",
        "  </thead>\n",
        "  <tbody>\n",
        "    <tr>\n",
        "      <th>7d</th>\n",
        "      <td> 0.927514</td>\n",
        "      <td> 0.9316</td>\n",
        "    </tr>\n",
        "    <tr>\n",
        "      <th>12d</th>\n",
        "      <td> 0.734880</td>\n",
        "      <td> 0.7464</td>\n",
        "    </tr>\n",
        "    <tr>\n",
        "      <th>17d</th>\n",
        "      <td> 0.436376</td>\n",
        "      <td> 0.4434</td>\n",
        "    </tr>\n",
        "    <tr>\n",
        "      <th>22d</th>\n",
        "      <td> 0.195505</td>\n",
        "      <td> 0.1914</td>\n",
        "    </tr>\n",
        "    <tr>\n",
        "      <th>27d</th>\n",
        "      <td> 0.095774</td>\n",
        "      <td> 0.0998</td>\n",
        "    </tr>\n",
        "  </tbody>\n",
        "</table>\n",
        "</div>"
       ],
       "metadata": {},
       "output_type": "pyout",
       "prompt_number": 4,
       "text": [
        "        E_pr_fret  E_pr_fret_kde\n",
        "sample                          \n",
        "7d       0.927514         0.9316\n",
        "12d      0.734880         0.7464\n",
        "17d      0.436376         0.4434\n",
        "22d      0.195505         0.1914\n",
        "27d      0.095774         0.0998"
       ]
      }
     ],
     "prompt_number": 4
    },
    {
     "cell_type": "code",
     "collapsed": false,
     "input": [
      "res = linregress(data.E_pr_fret_kde, 1/data.S_pr_fret)\n",
      "slope, intercept, r_val, p_val, stderr = res"
     ],
     "language": "python",
     "metadata": {},
     "outputs": [],
     "prompt_number": 5
    },
    {
     "cell_type": "markdown",
     "metadata": {},
     "source": [
      "For more info see [`scipy.stats.linearregress`](http://docs.scipy.org/doc/scipy-0.13.0/reference/generated/scipy.stats.linregress.html)."
     ]
    },
    {
     "cell_type": "code",
     "collapsed": false,
     "input": [
      "Sigma = slope \n",
      "Sigma"
     ],
     "language": "python",
     "metadata": {},
     "outputs": [
      {
       "metadata": {},
       "output_type": "pyout",
       "prompt_number": 6,
       "text": [
        "-0.019670640540249491"
       ]
      }
     ],
     "prompt_number": 6
    },
    {
     "cell_type": "code",
     "collapsed": false,
     "input": [
      "Omega = intercept\n",
      "Omega"
     ],
     "language": "python",
     "metadata": {},
     "outputs": [
      {
       "metadata": {},
       "output_type": "pyout",
       "prompt_number": 7,
       "text": [
        "1.8062344853260932"
       ]
      }
     ],
     "prompt_number": 7
    },
    {
     "cell_type": "markdown",
     "metadata": {},
     "source": [
      "[Pearson correlation coefficient](http://en.wikipedia.org/wiki/Pearson_product-moment_correlation_coefficient):"
     ]
    },
    {
     "cell_type": "code",
     "collapsed": false,
     "input": [
      "r_val"
     ],
     "language": "python",
     "metadata": {},
     "outputs": [
      {
       "metadata": {},
       "output_type": "pyout",
       "prompt_number": 8,
       "text": [
        "-0.23633083576178618"
       ]
      }
     ],
     "prompt_number": 8
    },
    {
     "cell_type": "markdown",
     "metadata": {},
     "source": [
      "[Coefficient of determination](http://en.wikipedia.org/wiki/Coefficient_of_determination) $R^2$:"
     ]
    },
    {
     "cell_type": "code",
     "collapsed": false,
     "input": [
      "r_val**2"
     ],
     "language": "python",
     "metadata": {},
     "outputs": [
      {
       "metadata": {},
       "output_type": "pyout",
       "prompt_number": 9,
       "text": [
        "0.055852263931864356"
       ]
      }
     ],
     "prompt_number": 9
    },
    {
     "cell_type": "markdown",
     "metadata": {},
     "source": [
      "P-value (to test the null hypothesis that the slope is zero):"
     ]
    },
    {
     "cell_type": "code",
     "collapsed": false,
     "input": [
      "p_val"
     ],
     "language": "python",
     "metadata": {},
     "outputs": [
      {
       "metadata": {},
       "output_type": "pyout",
       "prompt_number": 10,
       "text": [
        "0.70191922690514874"
       ]
      }
     ],
     "prompt_number": 10
    },
    {
     "cell_type": "markdown",
     "metadata": {},
     "source": [
      "Gamma computed from the previous fitted values:"
     ]
    },
    {
     "cell_type": "code",
     "collapsed": false,
     "input": [
      "gamma = (Omega - 1)/(Omega + Sigma - 1)\n",
      "gamma"
     ],
     "language": "python",
     "metadata": {},
     "outputs": [
      {
       "metadata": {},
       "output_type": "pyout",
       "prompt_number": 11,
       "text": [
        "1.0250083202662401"
       ]
      }
     ],
     "prompt_number": 11
    },
    {
     "cell_type": "code",
     "collapsed": false,
     "input": [
      "with open('results/usALEX - gamma factor - all-ph.txt', 'w') as f:\n",
      "    f.write(str(gamma))"
     ],
     "language": "python",
     "metadata": {},
     "outputs": [],
     "prompt_number": 12
    },
    {
     "cell_type": "markdown",
     "metadata": {},
     "source": [
      "#Fit plot"
     ]
    },
    {
     "cell_type": "code",
     "collapsed": false,
     "input": [
      "%matplotlib inline\n",
      "from matplotlib.pyplot import *"
     ],
     "language": "python",
     "metadata": {},
     "outputs": [],
     "prompt_number": 13
    },
    {
     "cell_type": "code",
     "collapsed": false,
     "input": [
      "plot(data.E_pr_fret, 1/data.S_pr_fret, 's')\n",
      "x = np.arange(0, 1, 0.01)\n",
      "plot(x, intercept + slope*x, 'k')\n",
      "ylim(1, 2)\n",
      "xlabel('E (uncorrected)')\n",
      "ylabel('1/S (uncorrected)')"
     ],
     "language": "python",
     "metadata": {},
     "outputs": [
      {
       "metadata": {},
       "output_type": "pyout",
       "prompt_number": 14,
       "text": [
        "<matplotlib.text.Text at 0x150f7da0>"
       ]
      },
      {
       "metadata": {},
       "output_type": "display_data",
       "png": "[encoded data removed]",
       "text": [
        "<matplotlib.figure.Figure at 0x150dc550>"
       ]
      }
     ],
     "prompt_number": 14
    },
    {
     "cell_type": "code",
     "collapsed": false,
     "input": [],
     "language": "python",
     "metadata": {},
     "outputs": [],
     "prompt_number": 14
    }
   ],
   "metadata": {}
  }
 ]
}