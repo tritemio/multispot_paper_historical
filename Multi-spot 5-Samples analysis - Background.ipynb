{
 "metadata": {
  "name": "",
  "signature": "sha256:ddf706b6cd6fe7e001233324f410ade7a5447bf69988ed06d53eb65654ee9f34"
 },
 "nbformat": 3,
 "nbformat_minor": 0,
 "worksheets": [
  {
   "cells": [
    {
     "cell_type": "markdown",
     "metadata": {},
     "source": [
      "#Analysis of 5 smFRET samples\n",
      "\n",
      "> In this notebook we perform bckground analysis for multi-spot measurements.\n"
     ]
    },
    {
     "cell_type": "markdown",
     "metadata": {},
     "source": [
      "##Load FRETBursts software"
     ]
    },
    {
     "cell_type": "code",
     "collapsed": false,
     "input": [
      "%run load_fretbursts.py --nogui"
     ],
     "language": "python",
     "metadata": {},
     "outputs": []
    },
    {
     "cell_type": "code",
     "collapsed": false,
     "input": [
      "import lmfit\n",
      "print 'lmfit version:', lmfit.__version__"
     ],
     "language": "python",
     "metadata": {},
     "outputs": []
    },
    {
     "cell_type": "code",
     "collapsed": false,
     "input": [
      "from IPython.html.widgets import interact, interactive, fixed\n",
      "from IPython.html import widgets\n",
      "from IPython.display import display\n",
      "from IPython.utils.traitlets import link"
     ],
     "language": "python",
     "metadata": {},
     "outputs": []
    },
    {
     "cell_type": "markdown",
     "metadata": {},
     "source": [
      "##8-spot paper plot style"
     ]
    },
    {
     "cell_type": "code",
     "collapsed": false,
     "input": [
      "PLOT_DIR = NOTEBOOK_DIR + '/figure/'"
     ],
     "language": "python",
     "metadata": {},
     "outputs": []
    },
    {
     "cell_type": "code",
     "collapsed": false,
     "input": [
      "%run -i styles/style.py\n",
      "#np.set_printoptions(formatter={'float': lambda x: '%6.2f'%x})"
     ],
     "language": "python",
     "metadata": {},
     "outputs": []
    },
    {
     "cell_type": "code",
     "collapsed": false,
     "input": [
      "import brewer2mpl\n",
      "import matplotlib as mpl\n",
      "\n",
      "# brewer2mpl.get_map args: set name  set type  number of colors\n",
      "bmap = brewer2mpl.get_map('Set1', 'qualitative', 9)\n",
      "colors = np.array(bmap.mpl_colors)[(1,0,2,3,4,8,6,7), :]\n",
      "mpl.rcParams['axes.color_cycle'] = list(colors)\n",
      "colors_labels = ['blue', 'red', 'green', 'violet', 'orange', 'gray', 'brown', 'pink', ]\n",
      "for c, cl in zip(colors, colors_labels):\n",
      "    locals()[cl] = tuple(c) # assign variables with color names"
     ],
     "language": "python",
     "metadata": {},
     "outputs": []
    },
    {
     "cell_type": "markdown",
     "metadata": {},
     "source": [
      "##Data files"
     ]
    },
    {
     "cell_type": "markdown",
     "metadata": {},
     "source": [
      "Data folder:"
     ]
    },
    {
     "cell_type": "code",
     "collapsed": false,
     "input": [
      "data_dir = NOTEBOOK_DIR + '/data/2013-05-15/'"
     ],
     "language": "python",
     "metadata": {},
     "outputs": []
    },
    {
     "cell_type": "markdown",
     "metadata": {},
     "source": [
      "Check that the folder exists:"
     ]
    },
    {
     "cell_type": "code",
     "collapsed": false,
     "input": [
      "data_dir = os.path.abspath(data_dir) + '/'\n",
      "assert os.path.exists(data_dir), \"Path '%s' does not exist.\" % data_dir"
     ],
     "language": "python",
     "metadata": {},
     "outputs": []
    },
    {
     "cell_type": "markdown",
     "metadata": {},
     "source": [
      "List of data files in `data_dir`:"
     ]
    },
    {
     "cell_type": "code",
     "collapsed": false,
     "input": [
      "from glob import glob\n",
      "file_list = sorted(glob(data_dir + '*.hdf5'))"
     ],
     "language": "python",
     "metadata": {},
     "outputs": []
    },
    {
     "cell_type": "code",
     "collapsed": false,
     "input": [
      "## Selection for POLIMI 2012-11-26 datatset\n",
      "labels = ['12d', '17d', '22d', '27d', '7d', 'DO']\n",
      "files_dict = {lab: fname for lab, fname in zip(labels, file_list)}\n",
      "files_dict"
     ],
     "language": "python",
     "metadata": {},
     "outputs": []
    },
    {
     "cell_type": "markdown",
     "metadata": {},
     "source": [
      "##Parameters"
     ]
    },
    {
     "cell_type": "markdown",
     "metadata": {},
     "source": [
      "Analysis parameters:"
     ]
    },
    {
     "cell_type": "code",
     "collapsed": false,
     "input": [
      "## Background fit parameters\n",
      "bg_kwargs_auto = dict(fun=bg.exp_fit,\n",
      "                 time_s = 30,\n",
      "                 tail_min_us = 'auto',\n",
      "                 F_bg=1.7,\n",
      "                 )"
     ],
     "language": "python",
     "metadata": {},
     "outputs": []
    },
    {
     "cell_type": "markdown",
     "metadata": {},
     "source": [
      "Processing and plot options:"
     ]
    },
    {
     "cell_type": "code",
     "collapsed": false,
     "input": [
      "plt.rc('savefig', dpi=75)  # Changes the figure size in the notebook\n",
      "savefig_kwargs =  dict(dpi=200, bbox_inches='tight')  # default save-figure options"
     ],
     "language": "python",
     "metadata": {},
     "outputs": []
    },
    {
     "cell_type": "markdown",
     "metadata": {},
     "source": [
      "#5-samples processing"
     ]
    },
    {
     "cell_type": "markdown",
     "metadata": {},
     "source": [
      "## 7bp sample"
     ]
    },
    {
     "cell_type": "code",
     "collapsed": false,
     "input": [
      "data_id = '7d'\n",
      "d7 = loader.hdf5(files_dict[data_id])\n",
      "d7.calc_bg(**bg_kwargs_auto)"
     ],
     "language": "python",
     "metadata": {},
     "outputs": []
    },
    {
     "cell_type": "code",
     "collapsed": false,
     "input": [
      "dplot(d7, timetrace_bg);\n",
      "for period in range(d7.nperiods):\n",
      "    dplot(d7, hist_bg, period=period, binwidth=50e-6, legend=False);\n",
      "    plt.legend(bbox_to_anchor=(1, 1),\n",
      "               bbox_transform=plt.gcf().transFigure)\n",
      "    xlim(0, 6);"
     ],
     "language": "python",
     "metadata": {},
     "outputs": []
    },
    {
     "cell_type": "markdown",
     "metadata": {},
     "source": [
      "## 12bp sample"
     ]
    },
    {
     "cell_type": "code",
     "collapsed": false,
     "input": [
      "data_id = '12d'\n",
      "d12 = loader.hdf5(files_dict[data_id])\n",
      "d12.calc_bg_cache(**bg_kwargs_auto)"
     ],
     "language": "python",
     "metadata": {},
     "outputs": []
    },
    {
     "cell_type": "code",
     "collapsed": false,
     "input": [
      "dplot(d12, timetrace_bg);"
     ],
     "language": "python",
     "metadata": {},
     "outputs": []
    },
    {
     "cell_type": "code",
     "collapsed": false,
     "input": [
      "for period in range(d12.nperiods):\n",
      "    dplot(d12, hist_bg, period=period, binwidth=50e-6, legend=False);\n",
      "    plt.legend(bbox_to_anchor=(1, 1),\n",
      "               bbox_transform=plt.gcf().transFigure)\n",
      "    xlim(0, 6);"
     ],
     "language": "python",
     "metadata": {},
     "outputs": []
    },
    {
     "cell_type": "markdown",
     "metadata": {},
     "source": [
      "## 17bp sample"
     ]
    },
    {
     "cell_type": "code",
     "collapsed": false,
     "input": [
      "data_id = '17d'\n",
      "d17 = loader.hdf5(files_dict[data_id])\n",
      "d17.calc_bg_cache(**bg_kwargs_auto)"
     ],
     "language": "python",
     "metadata": {},
     "outputs": []
    },
    {
     "cell_type": "code",
     "collapsed": false,
     "input": [
      "dplot(d17, timetrace_bg);"
     ],
     "language": "python",
     "metadata": {},
     "outputs": []
    },
    {
     "cell_type": "code",
     "collapsed": false,
     "input": [
      "for period in range(d17.nperiods):\n",
      "    dplot(d17, hist_bg, period=period, binwidth=50e-6, legend=False);\n",
      "    plt.legend(bbox_to_anchor=(1, 1),\n",
      "               bbox_transform=plt.gcf().transFigure)\n",
      "    xlim(0, 6);"
     ],
     "language": "python",
     "metadata": {},
     "outputs": []
    },
    {
     "cell_type": "markdown",
     "metadata": {},
     "source": [
      "## 22bp sample"
     ]
    },
    {
     "cell_type": "code",
     "collapsed": false,
     "input": [
      "data_id = '22d'\n",
      "d22 = loader.hdf5(files_dict[data_id])\n",
      "d22.calc_bg_cache(**bg_kwargs_auto)"
     ],
     "language": "python",
     "metadata": {},
     "outputs": []
    },
    {
     "cell_type": "code",
     "collapsed": false,
     "input": [
      "dplot(d22, timetrace_bg);"
     ],
     "language": "python",
     "metadata": {},
     "outputs": []
    },
    {
     "cell_type": "code",
     "collapsed": false,
     "input": [
      "for period in range(d22.nperiods):\n",
      "    dplot(d22, hist_bg, period=period, binwidth=50e-6, legend=False);\n",
      "    plt.legend(bbox_to_anchor=(1, 1),\n",
      "               bbox_transform=plt.gcf().transFigure)\n",
      "    xlim(0, 6);"
     ],
     "language": "python",
     "metadata": {},
     "outputs": []
    },
    {
     "cell_type": "markdown",
     "metadata": {},
     "source": [
      "## 27bp sample"
     ]
    },
    {
     "cell_type": "code",
     "collapsed": false,
     "input": [
      "data_id = '27d'\n",
      "d27 = loader.hdf5(files_dict[data_id])\n",
      "d27.calc_bg_cache(**bg_kwargs_auto)"
     ],
     "language": "python",
     "metadata": {},
     "outputs": []
    },
    {
     "cell_type": "code",
     "collapsed": false,
     "input": [
      "dplot(d27, timetrace_bg);"
     ],
     "language": "python",
     "metadata": {},
     "outputs": []
    },
    {
     "cell_type": "code",
     "collapsed": false,
     "input": [
      "for period in range(d27.nperiods):\n",
      "    dplot(d27, hist_bg, period=period, binwidth=50e-6, legend=False);\n",
      "    plt.legend(bbox_to_anchor=(1, 1),\n",
      "               bbox_transform=plt.gcf().transFigure)\n",
      "    xlim(0, 6);"
     ],
     "language": "python",
     "metadata": {},
     "outputs": []
    },
    {
     "cell_type": "markdown",
     "metadata": {},
     "source": [
      "## D-only sample"
     ]
    },
    {
     "cell_type": "code",
     "collapsed": false,
     "input": [
      "data_id = 'DO'\n",
      "do = loader.hdf5(files_dict[data_id])\n",
      "do.calc_bg_cache(**bg_kwargs_auto)"
     ],
     "language": "python",
     "metadata": {},
     "outputs": []
    },
    {
     "cell_type": "code",
     "collapsed": false,
     "input": [
      "dplot(do, timetrace_bg);"
     ],
     "language": "python",
     "metadata": {},
     "outputs": []
    },
    {
     "cell_type": "code",
     "collapsed": false,
     "input": [
      "for period in range(do.nperiods):\n",
      "    dplot(do, hist_bg, period=period, binwidth=50e-6, legend=False);\n",
      "    plt.legend(bbox_to_anchor=(1, 1),\n",
      "               bbox_transform=plt.gcf().transFigure)\n",
      "    xlim(0, 6);"
     ],
     "language": "python",
     "metadata": {},
     "outputs": []
    },
    {
     "cell_type": "code",
     "collapsed": false,
     "input": [],
     "language": "python",
     "metadata": {},
     "outputs": []
    },
    {
     "cell_type": "code",
     "collapsed": false,
     "input": [],
     "language": "python",
     "metadata": {},
     "outputs": []
    },
    {
     "cell_type": "code",
     "collapsed": false,
     "input": [],
     "language": "python",
     "metadata": {},
     "outputs": []
    },
    {
     "cell_type": "markdown",
     "metadata": {},
     "source": [
      "# Notebook style"
     ]
    },
    {
     "cell_type": "code",
     "collapsed": false,
     "input": [
      "cd $NOTEBOOK_DIR"
     ],
     "language": "python",
     "metadata": {},
     "outputs": []
    },
    {
     "cell_type": "code",
     "collapsed": false,
     "input": [
      "from IPython.core.display import HTML\n",
      "HTML(open(\"./styles/custom.css\", \"r\").read())"
     ],
     "language": "python",
     "metadata": {},
     "outputs": []
    },
    {
     "cell_type": "code",
     "collapsed": false,
     "input": [],
     "language": "python",
     "metadata": {},
     "outputs": []
    }
   ],
   "metadata": {}
  }
 ]
}