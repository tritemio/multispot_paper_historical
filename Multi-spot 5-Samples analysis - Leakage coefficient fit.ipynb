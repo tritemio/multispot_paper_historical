{
 "cells": [
  {
   "cell_type": "markdown",
   "metadata": {},
   "source": [
    "# Leakage coefficient fit\n",
    "\n",
    "> *This notebook estracts the leakage coefficient from the set of 4 multi-spot smFRET measurements.*"
   ]
  },
  {
   "cell_type": "markdown",
   "metadata": {},
   "source": [
    "## Load FRETBursts software"
   ]
  },
  {
   "cell_type": "code",
   "execution_count": null,
   "metadata": {
    "collapsed": false
   },
   "outputs": [],
   "source": [
    "from fretbursts import *"
   ]
  },
  {
   "cell_type": "code",
   "execution_count": null,
   "metadata": {
    "collapsed": false
   },
   "outputs": [],
   "source": [
    "import os\n",
    "from IPython.display import display, Math\n",
    "%matplotlib inline"
   ]
  },
  {
   "cell_type": "code",
   "execution_count": null,
   "metadata": {
    "collapsed": false
   },
   "outputs": [],
   "source": [
    "from IPython.html.widgets import interact, interactive, fixed\n",
    "from IPython.html import widgets\n",
    "from IPython.display import display\n",
    "from IPython.utils.traitlets import link"
   ]
  },
  {
   "cell_type": "markdown",
   "metadata": {},
   "source": [
    "## Data files"
   ]
  },
  {
   "cell_type": "code",
   "execution_count": null,
   "metadata": {
    "collapsed": false
   },
   "outputs": [],
   "source": [
    "data_dir = './data/2013-05-15/'"
   ]
  },
  {
   "cell_type": "code",
   "execution_count": null,
   "metadata": {
    "collapsed": false
   },
   "outputs": [],
   "source": [
    "data_dir = os.path.abspath(data_dir) + '/'\n",
    "assert os.path.exists(data_dir), \"Path '%s' does not exist.\" % data_dir"
   ]
  },
  {
   "cell_type": "code",
   "execution_count": null,
   "metadata": {
    "collapsed": false
   },
   "outputs": [],
   "source": [
    "from glob import glob\n",
    "file_list = sorted(glob(data_dir + '*.hdf5'))\n",
    "labels = ['12d', '17d', '22d', '27d', '7d', 'DO']\n",
    "files_dict = {lab: fname for lab, fname in zip(labels, file_list)}\n",
    "files_dict"
   ]
  },
  {
   "cell_type": "markdown",
   "metadata": {},
   "source": [
    "## 8-spot paper plot style"
   ]
  },
  {
   "cell_type": "code",
   "execution_count": null,
   "metadata": {
    "collapsed": false
   },
   "outputs": [],
   "source": [
    "PLOT_DIR = './figure/'"
   ]
  },
  {
   "cell_type": "code",
   "execution_count": null,
   "metadata": {
    "collapsed": false
   },
   "outputs": [],
   "source": [
    "import seaborn as sns\n",
    "#%run -i styles/style.py\n",
    "#np.set_printoptions(formatter={'float': lambda x: '%6.2f'%x})\n",
    "import matplotlib as mpl\n",
    "\n",
    "# brewer2mpl.get_map args: set name  set type  number of colors\n",
    "#bmap = brewer2mpl.get_map('Set1', 'qualitative', 9)\n",
    "bmap = sns.color_palette(\"Set1\", 9)\n",
    "colors = np.array(bmap)[(1,0,2,3,4,8,6,7), :]\n",
    "if mpl.__version__.startswith('1.4'):\n",
    "    mpl.rcParams['axes.color_cycle'] = list(colors)    \n",
    "else:\n",
    "    # Version 1.5 or later\n",
    "    from cycler import cycler\n",
    "    mpl.rcParams['axes.prop_cycle'] = cycler('color', colors)\n",
    "colors_labels = ['blue', 'red', 'green', 'violet', 'orange', 'gray', 'brown', 'pink', ]\n",
    "for c, cl in zip(colors, colors_labels):\n",
    "    locals()[cl] = tuple(c) # assign variables with color names\n",
    "sns.palplot(colors)"
   ]
  },
  {
   "cell_type": "markdown",
   "metadata": {},
   "source": [
    "## Parameters"
   ]
  },
  {
   "cell_type": "markdown",
   "metadata": {},
   "source": [
    "Analysis parameters:"
   ]
  },
  {
   "cell_type": "code",
   "execution_count": null,
   "metadata": {
    "collapsed": false
   },
   "outputs": [],
   "source": [
    "## Background fit\n",
    "bg_kwargs_auto = dict(fun=bg.exp_fit,\n",
    "                 time_s = 30,\n",
    "                 tail_min_us = 'auto',\n",
    "                 F_bg=1.7,\n",
    "                 )\n",
    "\n",
    "## Burst search\n",
    "F = 6\n",
    "ph_sel = Ph_sel(Dex='Dem') \n",
    "#ph_sel = Ph_sel('all') \n",
    "size_min = 80\n",
    "\n",
    "## D-only peak fit with KDE\n",
    "bandwidth=0.03\n",
    "E_range_do = (-0.05, 0.1)\n",
    "weights = 'size'"
   ]
  },
  {
   "cell_type": "code",
   "execution_count": null,
   "metadata": {
    "collapsed": false
   },
   "outputs": [],
   "source": [
    "import pandas as pd"
   ]
  },
  {
   "cell_type": "code",
   "execution_count": null,
   "metadata": {
    "collapsed": false
   },
   "outputs": [],
   "source": [
    "E_do = pd.DataFrame(index=['7d', '12d', '17d', 'DO'], columns=range(8))\n",
    "E_do_g = pd.DataFrame(index=['7d', '12d', '17d', 'DO'], columns=range(8))\n",
    "nbursts = pd.DataFrame(index=['7d', '12d', '17d', 'DO'], columns=range(8))"
   ]
  },
  {
   "cell_type": "markdown",
   "metadata": {},
   "source": [
    "## Utility functions"
   ]
  },
  {
   "cell_type": "code",
   "execution_count": null,
   "metadata": {
    "collapsed": false
   },
   "outputs": [],
   "source": [
    "def print_fit_report(E_pr, gamma=1, leakage=0, dir_ex_t=0, math=True):\n",
    "    \"\"\"Print fit and standard deviation for both corrected and uncorrected E\n",
    "    Returns d.E_fit.\n",
    "    \"\"\"\n",
    "    E_corr = fretmath.correct_E_gamma_leak_dir(E_pr, gamma=gamma, leakage=leakage, dir_ex_t=dir_ex_t)\n",
    "    \n",
    "    E_pr_mean = E_pr.mean()*100\n",
    "    E_pr_delta = (E_pr.max() - E_pr.min())*100\n",
    "    \n",
    "    E_corr_mean = E_corr.mean()*100\n",
    "    E_corr_delta = (E_corr.max() - E_corr.min())*100\n",
    "    if math:\n",
    "        display(Math(r'\\text{Pre}\\;\\gamma\\quad\\langle{E}_{fit}\\rangle = %.1f\\%% \\qquad'\n",
    "                     '\\Delta E_{fit} = %.2f \\%%' % \\\n",
    "                     (E_pr_mean, E_pr_delta)))\n",
    "        display(Math(r'\\text{Post}\\;\\gamma\\quad\\langle{E}_{fit}\\rangle = %.1f\\%% \\qquad'\n",
    "                     '\\Delta E_{fit} = %.2f \\%%' % \\\n",
    "                     (E_corr_mean, E_corr_delta)))\n",
    "    else:\n",
    "        print('Pre-gamma  E (delta, mean):  %.2f  %.2f' % (E_pr_mean, E_pr_delta))\n",
    "        print('Post-gamma E (delta, mean):  %.2f  %.2f' % (E_corr_mean, E_corr_delta))"
   ]
  },
  {
   "cell_type": "markdown",
   "metadata": {},
   "source": [
    "## 7bp sample"
   ]
  },
  {
   "cell_type": "code",
   "execution_count": null,
   "metadata": {
    "collapsed": false
   },
   "outputs": [],
   "source": [
    "data_id = '7d'\n",
    "d7 = loader.photon_hdf5(files_dict[data_id])\n",
    "d7.calc_bg(**bg_kwargs_auto)"
   ]
  },
  {
   "cell_type": "code",
   "execution_count": null,
   "metadata": {
    "collapsed": false
   },
   "outputs": [],
   "source": [
    "d7.burst_search(m=10, F=F, ph_sel=ph_sel)"
   ]
  },
  {
   "cell_type": "code",
   "execution_count": null,
   "metadata": {
    "collapsed": false
   },
   "outputs": [],
   "source": [
    "ds7 = Sel(d7, select_bursts.nd, th1=size_min)\n",
    "dx = ds7"
   ]
  },
  {
   "cell_type": "code",
   "execution_count": null,
   "metadata": {
    "collapsed": false
   },
   "outputs": [],
   "source": [
    "## KDE Fit\n",
    "E_do.loc[data_id] = bext.fit_bursts_kde_peak(dx, bandwidth=bandwidth, x_range=E_range_do,  \n",
    "                                             weights=weights)\n",
    "\n",
    "## Gaussian fit\n",
    "dx.E_fitter.fit_histogram(mfit.factory_gaussian())\n",
    "E_do_g.loc[data_id] = dx.E_fitter.params['center']\n",
    "\n",
    "## D-only selection\n",
    "do_s = Sel(dx, select_bursts.E, E2=0.1)\n",
    "nbursts.loc[data_id] = do_s.num_bursts"
   ]
  },
  {
   "cell_type": "code",
   "execution_count": null,
   "metadata": {
    "collapsed": false
   },
   "outputs": [],
   "source": [
    "dplot(dx, hist_fret, weights='size', show_kde=True, show_kde_peak=True, show_fit_value=True);\n",
    "plt.xlim(xmax = 0.49)\n",
    "print_fit_report(E_do.loc[data_id])"
   ]
  },
  {
   "cell_type": "code",
   "execution_count": null,
   "metadata": {
    "collapsed": false
   },
   "outputs": [],
   "source": [
    "dplot(dx, hist_fret, weights='size', show_model=True, show_fit_value=True, fit_from='center');\n",
    "plt.xlim(xmax = 0.49)\n",
    "print_fit_report(E_do_g.loc[data_id])"
   ]
  },
  {
   "cell_type": "markdown",
   "metadata": {},
   "source": [
    "### Alternative plots"
   ]
  },
  {
   "cell_type": "code",
   "execution_count": null,
   "metadata": {
    "collapsed": false
   },
   "outputs": [],
   "source": [
    "fig, axes = plt.subplots(4, 2, figsize=(12, 8), sharex=True, sharey=True)\n",
    "fig.subplots_adjust(left=0.08, right=0.96, top=0.93, bottom=0.07,\n",
    "                    wspace=0.06, hspace=0.18)\n",
    "\n",
    "for ich, ax in enumerate(axes.ravel()):\n",
    "    mfit.plot_mfit(dx.E_fitter, ich=ich, ax=ax, plot_model=False, plot_kde=True)\n",
    "plt.xlim(-0.2, 0.3)\n",
    "print_fit_report(E_do.loc[data_id])"
   ]
  },
  {
   "cell_type": "code",
   "execution_count": null,
   "metadata": {
    "collapsed": false
   },
   "outputs": [],
   "source": [
    "fig, axes = plt.subplots(4, 2, figsize=(12, 8), sharex=True, sharey=True)\n",
    "fig.subplots_adjust(left=0.08, right=0.96, top=0.93, bottom=0.07,\n",
    "                    wspace=0.06, hspace=0.18)\n",
    "\n",
    "for ich, ax in enumerate(axes.ravel()):\n",
    "    mfit.plot_mfit(dx.E_fitter, ich=ich, ax=ax)\n",
    "plt.xlim(-0.2, 0.3)\n",
    "print_fit_report(E_do_g.loc[data_id])"
   ]
  },
  {
   "cell_type": "markdown",
   "metadata": {},
   "source": [
    "## 12bp sample"
   ]
  },
  {
   "cell_type": "code",
   "execution_count": null,
   "metadata": {
    "collapsed": false
   },
   "outputs": [],
   "source": [
    "data_id = '12d'\n",
    "d12 = loader.photon_hdf5(files_dict[data_id])\n",
    "d12.calc_bg(**bg_kwargs_auto)"
   ]
  },
  {
   "cell_type": "code",
   "execution_count": null,
   "metadata": {
    "collapsed": false
   },
   "outputs": [],
   "source": [
    "d12.burst_search(m=10, F=F, ph_sel=ph_sel)"
   ]
  },
  {
   "cell_type": "code",
   "execution_count": null,
   "metadata": {
    "collapsed": false
   },
   "outputs": [],
   "source": [
    "ds12 = Sel(d12, select_bursts.nd, th1=size_min)\n",
    "dx = ds12"
   ]
  },
  {
   "cell_type": "code",
   "execution_count": null,
   "metadata": {
    "collapsed": false
   },
   "outputs": [],
   "source": [
    "## KDE Fit\n",
    "E_do.loc[data_id] = bext.fit_bursts_kde_peak(dx, bandwidth=bandwidth, x_range=E_range_do,  \n",
    "                                             weights=weights)\n",
    "\n",
    "## Gaussian fit\n",
    "dx.E_fitter.fit_histogram(mfit.factory_gaussian())\n",
    "E_do_g.loc[data_id] = dx.E_fitter.params['center']\n",
    "\n",
    "## D-only selection\n",
    "do_s = Sel(dx, select_bursts.E, E2=0.1)\n",
    "nbursts.loc[data_id] = do_s.num_bursts"
   ]
  },
  {
   "cell_type": "code",
   "execution_count": null,
   "metadata": {
    "collapsed": false
   },
   "outputs": [],
   "source": [
    "dplot(dx, hist_fret, weights='size', show_kde=True, show_kde_peak=True, show_fit_value=True);\n",
    "plt.xlim(xmax = 0.49)\n",
    "print_fit_report(E_do.loc[data_id])"
   ]
  },
  {
   "cell_type": "code",
   "execution_count": null,
   "metadata": {
    "collapsed": false
   },
   "outputs": [],
   "source": [
    "dplot(dx, hist_fret, weights='size', show_model=True, show_fit_value=True, fit_from='center');\n",
    "plt.xlim(xmax = 0.49)\n",
    "print_fit_report(E_do_g.loc[data_id])"
   ]
  },
  {
   "cell_type": "markdown",
   "metadata": {},
   "source": [
    "## 17bp sample"
   ]
  },
  {
   "cell_type": "code",
   "execution_count": null,
   "metadata": {
    "collapsed": false
   },
   "outputs": [],
   "source": [
    "data_id = '17d'\n",
    "d17 = loader.photon_hdf5(files_dict[data_id])\n",
    "d17.calc_bg(**bg_kwargs_auto)"
   ]
  },
  {
   "cell_type": "code",
   "execution_count": null,
   "metadata": {
    "collapsed": false
   },
   "outputs": [],
   "source": [
    "d17.burst_search(m=10, F=F, ph_sel=ph_sel)"
   ]
  },
  {
   "cell_type": "code",
   "execution_count": null,
   "metadata": {
    "collapsed": false
   },
   "outputs": [],
   "source": [
    "ds17 = Sel(d17, select_bursts.nd, th1=size_min)\n",
    "dx = ds17"
   ]
  },
  {
   "cell_type": "code",
   "execution_count": null,
   "metadata": {
    "collapsed": false
   },
   "outputs": [],
   "source": [
    "## KDE Fit\n",
    "E_do.loc[data_id] = bext.fit_bursts_kde_peak(dx, bandwidth=bandwidth, x_range=E_range_do,  \n",
    "                                             weights=weights)\n",
    "\n",
    "## Gaussian fit\n",
    "dx.E_fitter.fit_histogram(mfit.factory_two_gaussians(p1_center=0.03, p2_center=0.25))\n",
    "E_do_g.loc[data_id] = dx.E_fitter.params['p1_center']\n",
    "\n",
    "## D-only selection\n",
    "do_s = Sel(dx, select_bursts.E, E2=0.1)\n",
    "nbursts.loc[data_id] = do_s.num_bursts"
   ]
  },
  {
   "cell_type": "code",
   "execution_count": null,
   "metadata": {
    "collapsed": false
   },
   "outputs": [],
   "source": [
    "dplot(dx, hist_fret, weights='size', show_kde=True, show_kde_peak=True, show_fit_value=True);\n",
    "plt.xlim(xmax = 0.49)\n",
    "print_fit_report(E_do.loc[data_id])"
   ]
  },
  {
   "cell_type": "code",
   "execution_count": null,
   "metadata": {
    "collapsed": false
   },
   "outputs": [],
   "source": [
    "dplot(dx, hist_fret, weights='size', show_model=True, show_fit_value=True, fit_from='p1_center');\n",
    "plt.xlim(xmax = 0.49)\n",
    "print_fit_report(E_do_g.loc[data_id])"
   ]
  },
  {
   "cell_type": "markdown",
   "metadata": {},
   "source": [
    "## DO sample"
   ]
  },
  {
   "cell_type": "code",
   "execution_count": null,
   "metadata": {
    "collapsed": false
   },
   "outputs": [],
   "source": [
    "data_id = 'DO'\n",
    "do = loader.photon_hdf5(files_dict[data_id])\n",
    "do.calc_bg(**bg_kwargs_auto)"
   ]
  },
  {
   "cell_type": "code",
   "execution_count": null,
   "metadata": {
    "collapsed": false
   },
   "outputs": [],
   "source": [
    "do.burst_search(L=10, m=10, F=F, ph_sel=ph_sel)"
   ]
  },
  {
   "cell_type": "code",
   "execution_count": null,
   "metadata": {
    "collapsed": false
   },
   "outputs": [],
   "source": [
    "dos = Sel(do, select_bursts.nd, th1=size_min)\n",
    "dx = dos"
   ]
  },
  {
   "cell_type": "code",
   "execution_count": null,
   "metadata": {
    "collapsed": false
   },
   "outputs": [],
   "source": [
    "## KDE Fit\n",
    "E_do.loc[data_id] = bext.fit_bursts_kde_peak(dx, bandwidth=bandwidth, x_range=E_range_do,  \n",
    "                                             weights=weights)\n",
    "\n",
    "## Gaussian fit\n",
    "dx.E_fitter.fit_histogram(mfit.factory_gaussian())\n",
    "E_do_g.loc[data_id] = dx.E_fitter.params['center']\n",
    "\n",
    "## D-only selection\n",
    "nbursts.loc[data_id] = dx.num_bursts"
   ]
  },
  {
   "cell_type": "code",
   "execution_count": null,
   "metadata": {
    "collapsed": false
   },
   "outputs": [],
   "source": [
    "dplot(dx, hist_fret, weights='size', show_kde=True, show_kde_peak=True, show_fit_value=True);\n",
    "plt.xlim(xmax = 0.49)\n",
    "print_fit_report(E_do.loc[data_id])"
   ]
  },
  {
   "cell_type": "code",
   "execution_count": null,
   "metadata": {
    "collapsed": false
   },
   "outputs": [],
   "source": [
    "dplot(dx, hist_fret, weights='size', show_model=True, show_fit_value=True, fit_from='center');\n",
    "plt.xlim(xmax = 0.49)\n",
    "print_fit_report(E_do_g.loc[data_id])"
   ]
  },
  {
   "cell_type": "markdown",
   "metadata": {},
   "source": [
    "# Results"
   ]
  },
  {
   "cell_type": "code",
   "execution_count": null,
   "metadata": {
    "collapsed": false
   },
   "outputs": [],
   "source": [
    "ph_sel"
   ]
  },
  {
   "cell_type": "code",
   "execution_count": null,
   "metadata": {
    "collapsed": false
   },
   "outputs": [],
   "source": [
    "E_do_kde = E_do.copy()"
   ]
  },
  {
   "cell_type": "code",
   "execution_count": null,
   "metadata": {
    "collapsed": false
   },
   "outputs": [],
   "source": [
    "E_do = E_do_kde"
   ]
  },
  {
   "cell_type": "code",
   "execution_count": null,
   "metadata": {
    "collapsed": false
   },
   "outputs": [],
   "source": [
    "leakage = E_do / (1 - E_do)\n",
    "leakage"
   ]
  },
  {
   "cell_type": "code",
   "execution_count": null,
   "metadata": {
    "collapsed": false
   },
   "outputs": [],
   "source": [
    "leakage.T.plot();"
   ]
  },
  {
   "cell_type": "markdown",
   "metadata": {},
   "source": [
    "## Average leakage"
   ]
  },
  {
   "cell_type": "markdown",
   "metadata": {},
   "source": [
    "### Mean per sample:"
   ]
  },
  {
   "cell_type": "code",
   "execution_count": null,
   "metadata": {
    "collapsed": false
   },
   "outputs": [],
   "source": [
    "lk_s = pd.DataFrame(index=['mean', 'std'], columns=E_do.index)\n",
    "\n",
    "lk_s.loc['mean'] = leakage.mean(1)*100\n",
    "lk_s.loc['std'] = leakage.std(1)*100\n",
    "\n",
    "lk_s['mean'] = lk_s.mean(1)\n",
    "lk_s"
   ]
  },
  {
   "cell_type": "code",
   "execution_count": null,
   "metadata": {
    "collapsed": false
   },
   "outputs": [],
   "source": [
    "lk_s.loc['mean'].plot()\n",
    "ylim(2, 4)"
   ]
  },
  {
   "cell_type": "markdown",
   "metadata": {},
   "source": [
    "### Mean per sample (weighted on the number of bursts):"
   ]
  },
  {
   "cell_type": "code",
   "execution_count": null,
   "metadata": {
    "collapsed": false
   },
   "outputs": [],
   "source": [
    "nbursts"
   ]
  },
  {
   "cell_type": "code",
   "execution_count": null,
   "metadata": {
    "collapsed": false
   },
   "outputs": [],
   "source": [
    "lk_sw = pd.DataFrame(index=['mean', 'std'], columns=E_do.index)\n",
    "\n",
    "lk_sw.loc['mean'] = (nbursts*leakage).sum(1)/nbursts.sum(1)*100\n",
    "lk_sw.loc['std'] = (nbursts*leakage).std(1)/nbursts.sum(1)*100\n",
    "\n",
    "lk_sw['mean'] = (nbursts.sum(1)*lk_sw).sum(1)/nbursts.sum(1).sum()\n",
    "lk_sw"
   ]
  },
  {
   "cell_type": "code",
   "execution_count": null,
   "metadata": {
    "collapsed": false
   },
   "outputs": [],
   "source": [
    "lk_sw.loc['mean'].plot()\n",
    "ylim(2, 4)"
   ]
  },
  {
   "cell_type": "markdown",
   "metadata": {},
   "source": [
    "### Mean per channel:"
   ]
  },
  {
   "cell_type": "code",
   "execution_count": null,
   "metadata": {
    "collapsed": false
   },
   "outputs": [],
   "source": [
    "lk_c = pd.DataFrame(index=['mean', 'std'], columns=E_do.columns)\n",
    "\n",
    "lk_c.loc['mean'] = leakage.mean()*100\n",
    "lk_c.loc['std'] = leakage.std()*100\n",
    "\n",
    "lk_c['mean'] = lk_c.mean(1)\n",
    "lk_c"
   ]
  },
  {
   "cell_type": "code",
   "execution_count": null,
   "metadata": {
    "collapsed": false
   },
   "outputs": [],
   "source": [
    "lk_c.loc['mean'].plot()\n",
    "ylim(2, 4)"
   ]
  },
  {
   "cell_type": "markdown",
   "metadata": {},
   "source": [
    "### Mean per channel (weighted on the number of bursts):"
   ]
  },
  {
   "cell_type": "code",
   "execution_count": null,
   "metadata": {
    "collapsed": false
   },
   "outputs": [],
   "source": [
    "lk_cw = pd.DataFrame(index=['mean', 'std'], columns=E_do.columns)\n",
    "\n",
    "lk_cw.loc['mean'] = (nbursts*leakage).sum()/nbursts.sum()*100\n",
    "lk_cw.loc['std'] = (nbursts*leakage).std()/nbursts.sum()*100\n",
    "\n",
    "lk_cw['mean'] = lk_cw.mean(1)\n",
    "lk_cw"
   ]
  },
  {
   "cell_type": "code",
   "execution_count": null,
   "metadata": {
    "collapsed": false
   },
   "outputs": [],
   "source": [
    "lk_cw.loc['mean'].plot()\n",
    "ylim(2, 4)"
   ]
  },
  {
   "cell_type": "code",
   "execution_count": null,
   "metadata": {
    "collapsed": false
   },
   "outputs": [],
   "source": [
    "mch_plot_bg(d7)"
   ]
  },
  {
   "cell_type": "markdown",
   "metadata": {},
   "source": [
    "> **NOTE:** There is a per-channel trend that cannot be ascribed to the background \n",
    "> because we performend a D-emission burst search and selection and the leakage vs ch\n",
    "> does not resemble the D-background vs channel curve.\n",
    ">\n",
    "> The effect is probably due to slight PDE variations that change the $\\gamma$ \n",
    "> on a per-spot basis."
   ]
  },
  {
   "cell_type": "markdown",
   "metadata": {},
   "source": [
    "### Weighted mean of the weighted mean"
   ]
  },
  {
   "cell_type": "code",
   "execution_count": null,
   "metadata": {
    "collapsed": false
   },
   "outputs": [],
   "source": [
    "lk = (lk_cw.ix['mean', :-1]*nbursts.mean()).sum()/(nbursts.mean().sum())/100\n",
    "lk_2 = (lk_sw.ix['mean', :-1]*nbursts.mean(1)).sum()/(nbursts.mean(1).sum())/100\n",
    "\n",
    "assert np.allclose(lk, lk_2)\n",
    "\n",
    "print('Mean leakage: ', lk)"
   ]
  },
  {
   "cell_type": "markdown",
   "metadata": {},
   "source": [
    "## Save results"
   ]
  },
  {
   "cell_type": "code",
   "execution_count": null,
   "metadata": {
    "collapsed": false
   },
   "outputs": [],
   "source": [
    "if ph_sel == Ph_sel('all'):\n",
    "    bsearch_str = 'all-ph'\n",
    "elif ph_sel == Ph_sel(Dex='Dem'):\n",
    "    bsearch_str = 'Dem'"
   ]
  },
  {
   "cell_type": "markdown",
   "metadata": {},
   "source": [
    "### Per-channel"
   ]
  },
  {
   "cell_type": "code",
   "execution_count": null,
   "metadata": {
    "collapsed": false
   },
   "outputs": [],
   "source": [
    "lk_cw.to_csv('results/Multi-spot - leakage coefficient mean per-ch %s.txt' % bsearch_str)"
   ]
  },
  {
   "cell_type": "code",
   "execution_count": null,
   "metadata": {
    "collapsed": false
   },
   "outputs": [],
   "source": [
    "pd.read_csv('results/Multi-spot - leakage coefficient mean per-ch %s.txt' % bsearch_str, \n",
    "            index_col=0)"
   ]
  },
  {
   "cell_type": "markdown",
   "metadata": {},
   "source": [
    "### Per-sample"
   ]
  },
  {
   "cell_type": "code",
   "execution_count": null,
   "metadata": {
    "collapsed": false
   },
   "outputs": [],
   "source": [
    "lk_sw.to_csv('results/Multi-spot - leakage coefficient mean per-sample %s.txt' % bsearch_str)"
   ]
  },
  {
   "cell_type": "code",
   "execution_count": null,
   "metadata": {
    "collapsed": false
   },
   "outputs": [],
   "source": [
    "pd.read_csv('results/Multi-spot - leakage coefficient mean per-sample %s.txt' % bsearch_str, \n",
    "            index_col=0)"
   ]
  },
  {
   "cell_type": "markdown",
   "metadata": {},
   "source": [
    "### Mean"
   ]
  },
  {
   "cell_type": "code",
   "execution_count": null,
   "metadata": {
    "collapsed": false
   },
   "outputs": [],
   "source": [
    "with open('results/Multi-spot - leakage coefficient %s.txt' % bsearch_str, 'w') as f:\n",
    "    f.write(str(lk))"
   ]
  },
  {
   "cell_type": "markdown",
   "metadata": {},
   "source": [
    "# Notebook style"
   ]
  },
  {
   "cell_type": "code",
   "execution_count": null,
   "metadata": {
    "collapsed": false
   },
   "outputs": [],
   "source": [
    "from IPython.core.display import HTML\n",
    "HTML(open(\"./styles/custom.css\", \"r\").read())"
   ]
  },
  {
   "cell_type": "code",
   "execution_count": null,
   "metadata": {
    "collapsed": false
   },
   "outputs": [],
   "source": []
  },
  {
   "cell_type": "code",
   "execution_count": null,
   "metadata": {
    "collapsed": false
   },
   "outputs": [],
   "source": []
  }
 ],
 "metadata": {
  "kernelspec": {
   "display_name": "Python 3",
   "language": "python",
   "name": "python3"
  },
  "language_info": {
   "codemirror_mode": {
    "name": "ipython",
    "version": 3
   },
   "file_extension": ".py",
   "mimetype": "text/x-python",
   "name": "python",
   "nbconvert_exporter": "python",
   "pygments_lexer": "ipython3",
   "version": "3.4.3"
  }
 },
 "nbformat": 4,
 "nbformat_minor": 0
}
