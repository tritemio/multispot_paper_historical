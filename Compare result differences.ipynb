{
 "cells": [
  {
   "cell_type": "markdown",
   "metadata": {},
   "source": [
    "# Compare result differences"
   ]
  },
  {
   "cell_type": "markdown",
   "metadata": {},
   "source": [
    "Compare results saved in CSV tables to quantify the difference"
   ]
  },
  {
   "cell_type": "code",
   "execution_count": 1,
   "metadata": {
    "collapsed": false
   },
   "outputs": [],
   "source": [
    "import shutil\n",
    "import subprocess\n",
    "import numpy as np\n",
    "import pandas as pd\n",
    "\n",
    "def extract_file_revision(fname, revision):\n",
    "    fname_rev = fname + '_' + revision\n",
    "    subprocess.call('git checkout {commit} -- \"{fname}\"'.format(commit=revision, fname=fname), \n",
    "                    shell=True)\n",
    "    shutil.copy(fname, fname_rev)\n",
    "    return fname_rev"
   ]
  },
  {
   "cell_type": "code",
   "execution_count": 2,
   "metadata": {
    "collapsed": false
   },
   "outputs": [],
   "source": [
    "commit1 = 'exec10'\n",
    "commit2 = 'exec9'"
   ]
  },
  {
   "cell_type": "code",
   "execution_count": 3,
   "metadata": {
    "collapsed": false
   },
   "outputs": [],
   "source": [
    "result_fname = 'results/usALEX - direct excitation coefficient dir_ex_aa.txt'\n",
    "\n",
    "result1_fname = extract_file_revision(result_fname, commit1)\n",
    "result2_fname = extract_file_revision(result_fname, commit2)"
   ]
  },
  {
   "cell_type": "code",
   "execution_count": 4,
   "metadata": {
    "collapsed": false
   },
   "outputs": [
    {
     "data": {
      "text/plain": [
       "(array(0.0629495085635), array(0.0629495085635), 0.0)"
      ]
     },
     "execution_count": 4,
     "metadata": {},
     "output_type": "execute_result"
    }
   ],
   "source": [
    "np.loadtxt(result1_fname), np.loadtxt(result2_fname), np.loadtxt(result1_fname) - np.loadtxt(result2_fname)"
   ]
  },
  {
   "cell_type": "code",
   "execution_count": 5,
   "metadata": {
    "collapsed": false
   },
   "outputs": [],
   "source": [
    "result_fname = 'results/usALEX - leakage coefficient DexDem.txt'\n",
    "\n",
    "result1_fname = extract_file_revision(result_fname, commit1)\n",
    "result2_fname = extract_file_revision(result_fname, commit2)"
   ]
  },
  {
   "cell_type": "code",
   "execution_count": 6,
   "metadata": {
    "collapsed": false
   },
   "outputs": [
    {
     "data": {
      "text/plain": [
       "(array(0.0999990383646), array(0.0999978359136), 1.2024510000069322e-06)"
      ]
     },
     "execution_count": 6,
     "metadata": {},
     "output_type": "execute_result"
    }
   ],
   "source": [
    "np.loadtxt(result1_fname), np.loadtxt(result2_fname), np.loadtxt(result1_fname) - np.loadtxt(result2_fname)"
   ]
  },
  {
   "cell_type": "code",
   "execution_count": 7,
   "metadata": {
    "collapsed": false
   },
   "outputs": [],
   "source": [
    "result_fname = 'results/usALEX-5samples-E-corrected-all-ph.txt'\n",
    "result_fname = 'results/usALEX-5samples-PR-leakage-dir-ex-all-ph.txt'\n",
    "#result_fname = 'results/usALEX-5samples-PR-raw-all-ph.txt'\n",
    "\n",
    "result1_fname = extract_file_revision(result_fname, commit1)\n",
    "result2_fname = extract_file_revision(result_fname, commit2)"
   ]
  },
  {
   "cell_type": "code",
   "execution_count": 8,
   "metadata": {
    "collapsed": false
   },
   "outputs": [
    {
     "data": {
      "text/html": [
       "<div style=\"max-height:1000px;max-width:1500px;overflow:auto;\">\n",
       "<table border=\"1\" class=\"dataframe\">\n",
       "  <thead>\n",
       "    <tr style=\"text-align: right;\">\n",
       "      <th></th>\n",
       "      <th>n_bursts_all</th>\n",
       "      <th>n_bursts_do</th>\n",
       "      <th>n_bursts_fret</th>\n",
       "      <th>E_kde_w</th>\n",
       "      <th>E_gauss_w</th>\n",
       "      <th>E_gauss_w_sig</th>\n",
       "      <th>E_gauss_w_err</th>\n",
       "      <th>S_kde</th>\n",
       "      <th>S_gauss</th>\n",
       "      <th>S_gauss_sig</th>\n",
       "      <th>S_gauss_err</th>\n",
       "      <th>E_pr_do_kde</th>\n",
       "      <th>nt_mean</th>\n",
       "    </tr>\n",
       "    <tr>\n",
       "      <th>sample</th>\n",
       "      <th></th>\n",
       "      <th></th>\n",
       "      <th></th>\n",
       "      <th></th>\n",
       "      <th></th>\n",
       "      <th></th>\n",
       "      <th></th>\n",
       "      <th></th>\n",
       "      <th></th>\n",
       "      <th></th>\n",
       "      <th></th>\n",
       "      <th></th>\n",
       "      <th></th>\n",
       "    </tr>\n",
       "  </thead>\n",
       "  <tbody>\n",
       "    <tr>\n",
       "      <th>7d</th>\n",
       "      <td>1167</td>\n",
       "      <td>582</td>\n",
       "      <td>542</td>\n",
       "      <td>0.9302</td>\n",
       "      <td>0.925533</td>\n",
       "      <td>0.059437</td>\n",
       "      <td>0.002553</td>\n",
       "      <td>0.5524</td>\n",
       "      <td>0.550366</td>\n",
       "      <td>0.099261</td>\n",
       "      <td>0.004264</td>\n",
       "      <td>0.0014</td>\n",
       "      <td>22.198900</td>\n",
       "    </tr>\n",
       "    <tr>\n",
       "      <th>12d</th>\n",
       "      <td>1303</td>\n",
       "      <td>329</td>\n",
       "      <td>944</td>\n",
       "      <td>0.7430</td>\n",
       "      <td>0.731184</td>\n",
       "      <td>0.092252</td>\n",
       "      <td>0.003003</td>\n",
       "      <td>0.5768</td>\n",
       "      <td>0.556622</td>\n",
       "      <td>0.105519</td>\n",
       "      <td>0.003434</td>\n",
       "      <td>0.0164</td>\n",
       "      <td>21.841737</td>\n",
       "    </tr>\n",
       "    <tr>\n",
       "      <th>17d</th>\n",
       "      <td>2482</td>\n",
       "      <td>462</td>\n",
       "      <td>1957</td>\n",
       "      <td>0.4310</td>\n",
       "      <td>0.426150</td>\n",
       "      <td>0.114118</td>\n",
       "      <td>0.002580</td>\n",
       "      <td>0.5436</td>\n",
       "      <td>0.536833</td>\n",
       "      <td>0.113025</td>\n",
       "      <td>0.002555</td>\n",
       "      <td>0.0126</td>\n",
       "      <td>21.054439</td>\n",
       "    </tr>\n",
       "    <tr>\n",
       "      <th>22d</th>\n",
       "      <td>2047</td>\n",
       "      <td>319</td>\n",
       "      <td>1666</td>\n",
       "      <td>0.1788</td>\n",
       "      <td>0.182669</td>\n",
       "      <td>0.078314</td>\n",
       "      <td>0.001919</td>\n",
       "      <td>0.5426</td>\n",
       "      <td>0.543185</td>\n",
       "      <td>0.114819</td>\n",
       "      <td>0.002813</td>\n",
       "      <td>0.0008</td>\n",
       "      <td>22.918132</td>\n",
       "    </tr>\n",
       "    <tr>\n",
       "      <th>27d</th>\n",
       "      <td>786</td>\n",
       "      <td>160</td>\n",
       "      <td>584</td>\n",
       "      <td>0.0834</td>\n",
       "      <td>0.084095</td>\n",
       "      <td>0.070112</td>\n",
       "      <td>0.002901</td>\n",
       "      <td>0.5150</td>\n",
       "      <td>0.556142</td>\n",
       "      <td>0.115363</td>\n",
       "      <td>0.004774</td>\n",
       "      <td>-0.0068</td>\n",
       "      <td>16.980705</td>\n",
       "    </tr>\n",
       "  </tbody>\n",
       "</table>\n",
       "</div>"
      ],
      "text/plain": [
       "        n_bursts_all  n_bursts_do  n_bursts_fret  E_kde_w  E_gauss_w  \\\n",
       "sample                                                                 \n",
       "7d              1167          582            542   0.9302   0.925533   \n",
       "12d             1303          329            944   0.7430   0.731184   \n",
       "17d             2482          462           1957   0.4310   0.426150   \n",
       "22d             2047          319           1666   0.1788   0.182669   \n",
       "27d              786          160            584   0.0834   0.084095   \n",
       "\n",
       "        E_gauss_w_sig  E_gauss_w_err   S_kde   S_gauss  S_gauss_sig  \\\n",
       "sample                                                                \n",
       "7d           0.059437       0.002553  0.5524  0.550366     0.099261   \n",
       "12d          0.092252       0.003003  0.5768  0.556622     0.105519   \n",
       "17d          0.114118       0.002580  0.5436  0.536833     0.113025   \n",
       "22d          0.078314       0.001919  0.5426  0.543185     0.114819   \n",
       "27d          0.070112       0.002901  0.5150  0.556142     0.115363   \n",
       "\n",
       "        S_gauss_err  E_pr_do_kde    nt_mean  \n",
       "sample                                       \n",
       "7d         0.004264       0.0014  22.198900  \n",
       "12d        0.003434       0.0164  21.841737  \n",
       "17d        0.002555       0.0126  21.054439  \n",
       "22d        0.002813       0.0008  22.918132  \n",
       "27d        0.004774      -0.0068  16.980705  "
      ]
     },
     "execution_count": 8,
     "metadata": {},
     "output_type": "execute_result"
    }
   ],
   "source": [
    "old = pd.read_csv(result1_fname, sep='\\s+').set_index('sample')\n",
    "old"
   ]
  },
  {
   "cell_type": "code",
   "execution_count": 9,
   "metadata": {
    "collapsed": false
   },
   "outputs": [
    {
     "data": {
      "text/html": [
       "<div style=\"max-height:1000px;max-width:1500px;overflow:auto;\">\n",
       "<table border=\"1\" class=\"dataframe\">\n",
       "  <thead>\n",
       "    <tr style=\"text-align: right;\">\n",
       "      <th></th>\n",
       "      <th>n_bursts_all</th>\n",
       "      <th>n_bursts_do</th>\n",
       "      <th>n_bursts_fret</th>\n",
       "      <th>E_kde_w</th>\n",
       "      <th>E_gauss_w</th>\n",
       "      <th>E_gauss_w_sig</th>\n",
       "      <th>E_gauss_w_err</th>\n",
       "      <th>S_kde</th>\n",
       "      <th>S_gauss</th>\n",
       "      <th>S_gauss_sig</th>\n",
       "      <th>S_gauss_err</th>\n",
       "      <th>E_pr_do_kde</th>\n",
       "      <th>nt_mean</th>\n",
       "    </tr>\n",
       "    <tr>\n",
       "      <th>sample</th>\n",
       "      <th></th>\n",
       "      <th></th>\n",
       "      <th></th>\n",
       "      <th></th>\n",
       "      <th></th>\n",
       "      <th></th>\n",
       "      <th></th>\n",
       "      <th></th>\n",
       "      <th></th>\n",
       "      <th></th>\n",
       "      <th></th>\n",
       "      <th></th>\n",
       "      <th></th>\n",
       "    </tr>\n",
       "  </thead>\n",
       "  <tbody>\n",
       "    <tr>\n",
       "      <th>7d</th>\n",
       "      <td>1167</td>\n",
       "      <td>582</td>\n",
       "      <td>542</td>\n",
       "      <td>0.9302</td>\n",
       "      <td>0.925533</td>\n",
       "      <td>0.059437</td>\n",
       "      <td>0.002553</td>\n",
       "      <td>0.5524</td>\n",
       "      <td>0.550366</td>\n",
       "      <td>0.099261</td>\n",
       "      <td>0.004264</td>\n",
       "      <td>0.0014</td>\n",
       "      <td>22.198866</td>\n",
       "    </tr>\n",
       "    <tr>\n",
       "      <th>12d</th>\n",
       "      <td>1303</td>\n",
       "      <td>329</td>\n",
       "      <td>944</td>\n",
       "      <td>0.7430</td>\n",
       "      <td>0.731184</td>\n",
       "      <td>0.092252</td>\n",
       "      <td>0.003003</td>\n",
       "      <td>0.5768</td>\n",
       "      <td>0.556622</td>\n",
       "      <td>0.105519</td>\n",
       "      <td>0.003434</td>\n",
       "      <td>0.0164</td>\n",
       "      <td>21.841780</td>\n",
       "    </tr>\n",
       "    <tr>\n",
       "      <th>17d</th>\n",
       "      <td>2482</td>\n",
       "      <td>462</td>\n",
       "      <td>1957</td>\n",
       "      <td>0.4310</td>\n",
       "      <td>0.426150</td>\n",
       "      <td>0.114118</td>\n",
       "      <td>0.002580</td>\n",
       "      <td>0.5436</td>\n",
       "      <td>0.536833</td>\n",
       "      <td>0.113025</td>\n",
       "      <td>0.002555</td>\n",
       "      <td>0.0126</td>\n",
       "      <td>21.054460</td>\n",
       "    </tr>\n",
       "    <tr>\n",
       "      <th>22d</th>\n",
       "      <td>2047</td>\n",
       "      <td>319</td>\n",
       "      <td>1666</td>\n",
       "      <td>0.1788</td>\n",
       "      <td>0.182669</td>\n",
       "      <td>0.078314</td>\n",
       "      <td>0.001919</td>\n",
       "      <td>0.5426</td>\n",
       "      <td>0.543185</td>\n",
       "      <td>0.114819</td>\n",
       "      <td>0.002813</td>\n",
       "      <td>0.0008</td>\n",
       "      <td>22.918195</td>\n",
       "    </tr>\n",
       "    <tr>\n",
       "      <th>27d</th>\n",
       "      <td>786</td>\n",
       "      <td>160</td>\n",
       "      <td>584</td>\n",
       "      <td>0.0834</td>\n",
       "      <td>0.084095</td>\n",
       "      <td>0.070112</td>\n",
       "      <td>0.002901</td>\n",
       "      <td>0.5150</td>\n",
       "      <td>0.556142</td>\n",
       "      <td>0.115363</td>\n",
       "      <td>0.004774</td>\n",
       "      <td>-0.0068</td>\n",
       "      <td>16.980773</td>\n",
       "    </tr>\n",
       "  </tbody>\n",
       "</table>\n",
       "</div>"
      ],
      "text/plain": [
       "        n_bursts_all  n_bursts_do  n_bursts_fret  E_kde_w  E_gauss_w  \\\n",
       "sample                                                                 \n",
       "7d              1167          582            542   0.9302   0.925533   \n",
       "12d             1303          329            944   0.7430   0.731184   \n",
       "17d             2482          462           1957   0.4310   0.426150   \n",
       "22d             2047          319           1666   0.1788   0.182669   \n",
       "27d              786          160            584   0.0834   0.084095   \n",
       "\n",
       "        E_gauss_w_sig  E_gauss_w_err   S_kde   S_gauss  S_gauss_sig  \\\n",
       "sample                                                                \n",
       "7d           0.059437       0.002553  0.5524  0.550366     0.099261   \n",
       "12d          0.092252       0.003003  0.5768  0.556622     0.105519   \n",
       "17d          0.114118       0.002580  0.5436  0.536833     0.113025   \n",
       "22d          0.078314       0.001919  0.5426  0.543185     0.114819   \n",
       "27d          0.070112       0.002901  0.5150  0.556142     0.115363   \n",
       "\n",
       "        S_gauss_err  E_pr_do_kde    nt_mean  \n",
       "sample                                       \n",
       "7d         0.004264       0.0014  22.198866  \n",
       "12d        0.003434       0.0164  21.841780  \n",
       "17d        0.002555       0.0126  21.054460  \n",
       "22d        0.002813       0.0008  22.918195  \n",
       "27d        0.004774      -0.0068  16.980773  "
      ]
     },
     "execution_count": 9,
     "metadata": {},
     "output_type": "execute_result"
    }
   ],
   "source": [
    "new = pd.read_csv(result2_fname, sep='\\s+').set_index('sample')\n",
    "new"
   ]
  },
  {
   "cell_type": "code",
   "execution_count": 10,
   "metadata": {
    "collapsed": false
   },
   "outputs": [],
   "source": [
    "#old.columns = pd.Index([u'n_bursts_all', u'n_bursts_do', u'n_bursts_fret',\n",
    "#                        u'E_gauss_w', u'E_gauss_w_err', u'S_gauss', u'S_gauss_err', \n",
    "#                        u'E_pr_do_kde', u'nt_mean', u'E_pr_fret_kde'], dtype='object')"
   ]
  },
  {
   "cell_type": "code",
   "execution_count": 11,
   "metadata": {
    "collapsed": false
   },
   "outputs": [
    {
     "data": {
      "text/plain": [
       "n_bursts_all     0.000000e+00\n",
       "n_bursts_do      0.000000e+00\n",
       "n_bursts_fret    0.000000e+00\n",
       "E_kde_w          0.000000e+00\n",
       "E_gauss_w        1.412600e-08\n",
       "E_gauss_w_sig    3.339700e-09\n",
       "E_gauss_w_err    1.087000e-10\n",
       "S_kde            0.000000e+00\n",
       "S_gauss          0.000000e+00\n",
       "S_gauss_sig      0.000000e+00\n",
       "S_gauss_err      0.000000e+00\n",
       "E_pr_do_kde      0.000000e+00\n",
       "nt_mean          6.832520e-05\n",
       "dtype: float64"
      ]
     },
     "execution_count": 11,
     "metadata": {},
     "output_type": "execute_result"
    }
   ],
   "source": [
    "np.abs(old - new).max()"
   ]
  },
  {
   "cell_type": "code",
   "execution_count": 12,
   "metadata": {
    "collapsed": false
   },
   "outputs": [
    {
     "data": {
      "text/plain": [
       "sample\n",
       "7d     0.000034\n",
       "12d    0.000043\n",
       "17d    0.000022\n",
       "22d    0.000063\n",
       "27d    0.000068\n",
       "Name: nt_mean, dtype: float64"
      ]
     },
     "execution_count": 12,
     "metadata": {},
     "output_type": "execute_result"
    }
   ],
   "source": [
    "np.abs(old['nt_mean'] - new['nt_mean'])"
   ]
  },
  {
   "cell_type": "code",
   "execution_count": null,
   "metadata": {
    "collapsed": false
   },
   "outputs": [],
   "source": []
  }
 ],
 "metadata": {
  "kernelspec": {
   "display_name": "Python 2",
   "language": "python",
   "name": "python2"
  },
  "language_info": {
   "codemirror_mode": {
    "name": "ipython",
    "version": 2
   },
   "file_extension": ".py",
   "mimetype": "text/x-python",
   "name": "python",
   "nbconvert_exporter": "python",
   "pygments_lexer": "ipython2",
   "version": "2.7.8"
  }
 },
 "nbformat": 4,
 "nbformat_minor": 0
}
