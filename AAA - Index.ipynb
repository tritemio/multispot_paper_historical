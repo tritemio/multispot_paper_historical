{
 "metadata": {
  "name": "",
  "signature": "sha256:a56d28ced667d5a88f1e2aa5af1832dfaba62a3c8b5a3a9a0a585c728b39a664"
 },
 "nbformat": 3,
 "nbformat_minor": 0,
 "worksheets": [
  {
   "cells": [
    {
     "cell_type": "markdown",
     "metadata": {},
     "source": [
      "# Index of notebooks\n",
      "\n",
      "This is the **table of content** for the computational notebooks used for all the anlysis results presented in the [multi-spot paper]().\n",
      "\n",
      "## Batch notebook runner\n",
      "\n",
      "Notebooks marked with \"*batch*\" are \"template notebooks\", meaning that they are executed in batch for each of the 5 \u03bcs-ALEX measurements. After the execution, executed copies of template notebooks are saved in the folder `out-notebooks` for each processed measurement. These output notebooks contains all the plots and numeric results ans serve both as documentation of all the results and as regression tracking. Moreover, template notebooks save a some numerical results as txt files in the `results` folder (with the same name as the notebook). These txt files are used as input of further computations.\n",
      "\n",
      "The notebook the perfoms the batch execution is:\n",
      "* [usALEX-Batch](usALEX-Batch.ipynb)"
     ]
    },
    {
     "cell_type": "markdown",
     "metadata": {},
     "source": [
      "## \u03bcs-ALEX RAW Proximity ratio (PR)\n",
      "\n",
      "As a first step we compute the RAW PR (only background correction):\n",
      "\n",
      "* [usALEX-5samples-PR-raw-all-ph](usALEX-5samples-PR-raw-all-ph.ipynb) *batch*\n",
      "* [usALEX-5samples-PR-raw-Dex](usALEX-5samples-PR-raw-Dex.ipynb) *batch*\n",
      "* [usALEX-5samples-PR-raw-DexDem](usALEX-5samples-PR-raw-DexDem.ipynb) *batch*\n",
      "* [usALEX-5samples-PR-raw-AND-gate](usALEX-5samples-PR-raw-AND-gate.ipynb) *batch*\n",
      "\n",
      "*(each version uses a different burst search)*"
     ]
    },
    {
     "cell_type": "markdown",
     "metadata": {},
     "source": [
      "## \u03bcs-ALEX Leakage fit\n",
      "\n",
      "Compute an average leakage coefficient from RAW PR D-only peaks:\n",
      "\n",
      "* [usALEX - Corrections - Leakage fit](usALEX - Corrections - Leakage fit.ipynb)\n",
      "    - Output: \n",
      "        * [usALEX - leakage coefficient all-ph.txt](results/usALEX - leakage coefficient all-ph.txt)\n",
      "        * [usALEX - leakage coefficient Dex.txt](results/usALEX - leakage coefficient Dex.txt)\n",
      "        * [usALEX - leakage coefficient DexDem.txt](results/usALEX - leakage coefficient DexDem.txt)\n",
      "        * [usALEX - leakage coefficient AND-gate.txt](results/usALEX - leakage coefficient AND-gate.txt)        "
     ]
    },
    {
     "cell_type": "markdown",
     "metadata": {},
     "source": [
      "## \u03bcs-ALEX Direct excitation fit: $d_{exAA}$\n",
      "\n",
      "Select the A-only population and estimate the direct excitation from RAW PR distributions:\n",
      "\n",
      "* [usALEX-5samples-PR-raw-dir_ex_aa-fit-AexAem](usALEX-5samples-PR-raw-dir_ex_aa-fit-AexAem.ipynb)  *batch*\n",
      "\n",
      "Compute an average direct excitation coefficient from RAW (only background correction) A-only burst data:\n",
      "\n",
      "* [usALEX - Corrections - Direct excitation fit](usALEX - Corrections - Direct excitation fit.ipynb)\n",
      "    - Output:\n",
      "      [usALEX - direct excitation coefficient dir_ex_aa.txt](results/usALEX - direct excitation coefficient dir_ex_aa.txt)"
     ]
    },
    {
     "cell_type": "markdown",
     "metadata": {},
     "source": [
      "## \u03bcs-ALEX Gamma-factor fit\n",
      "\n",
      "Compute PR with leakage and direct excitation correction for the 5 samples:\n",
      "\n",
      "* [usALEX-5samples-PR-leakage-dir-ex-all-ph](usALEX-5samples-PR-leakage-dir-ex-all-ph.ipynb) *batch*\n",
      "\n",
      "Fit the gamma factor:\n",
      "\n",
      "* [usALEX - Corrections - Gamma factor fit](usALEX - Corrections - Gamma factor fit.ipynb)\n",
      "    - Output:\n",
      "    [usALEX - gamma factor - all-ph.txt](results/usALEX - gamma factor - all-ph.txt)"
     ]
    },
    {
     "cell_type": "markdown",
     "metadata": {},
     "source": [
      "## \u03bcs-ALEX Direct excitation fit $d_{exT}$\n",
      "\n",
      "Templates\n",
      "\n",
      "* [usALEX-5samples-PR-leakage-dir-ex-all-ph](usALEX-5samples-PR-leakage-dir-ex-all-ph.ipynb) *batch*\n",
      "* [usALEX-5samples-E-corrected-all-ph](usALEX-5samples-E-corrected-all-ph.ipynb) *batch*\n",
      "\n",
      "Global analysis:\n",
      "\n",
      "* [usALEX - Corrections - Direct excitation physical parameter](usALEX - Corrections - Direct excitation physical parameter.ipynb)\n",
      "    * Output: [usALEX - direct excitation coefficient dir_ex_t.txt](results/usALEX - direct excitation coefficient dir_ex_t.txt)"
     ]
    },
    {
     "cell_type": "markdown",
     "metadata": {},
     "source": [
      "## Multi-spot measurements analysis\n",
      "\n",
      "* [Multi-spot 5-Samples analyis - Leakage coefficient fit](Multi-spot 5-Samples analyis - Leakage coefficient fit.ipynb)\n",
      "    - Output: \n",
      "        - [Multi-spot - leakage coefficient Dem.txt](results/Multi-spot - leakage coefficient Dem.txt) *(all-ch, all-samples mean)*\n",
      "        - [Multi-spot - leakage coefficient mean per-sample Dem.txt](results/Multi-spot - leakage coefficient mean per-sample Dem.txt)\n",
      "        - [Multi-spot - leakage coefficient mean per-ch Dem.txt](results/Multi-spot - leakage coefficient mean per-ch Dem.txt)\n",
      "* [Multi-spot 5-Samples analyis RAW](Multi-spot 5-Samples analyis RAW.ipynb) "
     ]
    },
    {
     "cell_type": "code",
     "collapsed": false,
     "input": [],
     "language": "python",
     "metadata": {},
     "outputs": []
    }
   ],
   "metadata": {}
  }
 ]
}