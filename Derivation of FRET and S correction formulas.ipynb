{
 "metadata": {
  "name": "",
  "signature": "sha256:5bb16f1cf41d6547e7992368d28ec94eca6db0aacdb5d41240a2f92f970d69f5"
 },
 "nbformat": 3,
 "nbformat_minor": 0,
 "worksheets": [
  {
   "cells": [
    {
     "cell_type": "markdown",
     "metadata": {},
     "source": [
      "# Derivation of FRET and S correction formulas\n",
      "\n",
      "*Antonino Ingargiola* - [github page](https://github.com/tritemio)"
     ]
    },
    {
     "cell_type": "markdown",
     "metadata": {},
     "source": [
      "# Abstract\n",
      "\n",
      "*In this notebook we derive different expression for correction of $E$ and $S$ in us-ALEX measurements. The main reference is [Lee et al. (Biophys. J. 2005)](http://www.chem.ucla.edu/~michalet/papers/BJ2005.pdf), but here we derive many more expression not present in the original paper. The algebric part is performed through [Computer-assisted symbolic computation](http://en.wikipedia.org/wiki/Computer_algebra_system) using [Sympy](http://sympy.org/en/index.html) for proof the correctness.*"
     ]
    },
    {
     "cell_type": "markdown",
     "metadata": {},
     "source": [
      "## Revisions\n",
      "- Oct 09, 2014: Added expressions for $S$\n",
      "- Aug 05, 2014: public release"
     ]
    },
    {
     "cell_type": "markdown",
     "metadata": {},
     "source": [
      "# 1. Definitions\n",
      "\n",
      "Let define the FRET efficiency $E$ and the proximity ratio $E_R$:\n",
      "\n",
      "$$ E = \\frac{n_a}{n_a +  \\gamma \\, n_d} \\qquad E_R = \\frac{n^*_a}{n^*_a +  \\, n_d}$$\n",
      "\n",
      "where $n_d$, $n_a$ are the donor and acceptor detected counts after all the corrections, while $n^*_a$ is the acceptor counts with only background correction (no leakage and direct excitation corrections).\n",
      "\n",
      "Similarly, the definitions of uncorrected stoichiometry ($S_R$) and corrected stoichiometry ($S$) are:\n",
      "\n",
      "$$ S_{R}  = \\frac{n_d + n^*_a}{n_d + n^*_a + n_{aa}}$$ \n",
      "\n",
      "$$ S  = \\frac{\\gamma n_d + n_a}{\\gamma n_d + n_a + n_{aa}}$$ \n",
      "\n",
      "The relation between $n_a$ and $n^*_a$ is:\n",
      "\n",
      "$$n^*_a = n_a + L_k \\, n_d + n_{dex}$$\n",
      "\n",
      "The term $n_{dex}$ can be equivalently expressed as:\n",
      "\n",
      "1) a function of $n_{aa}$:\n",
      "\n",
      "   $$  n_{dex} = d_{exAA} \\cdot n_{aa}$$\n",
      "\n",
      "2) a function of the \"total signal\" $n_a + \\gamma\\,n_d$:\n",
      "\n",
      "   $$ n_{dex} = d_{exT} \\cdot (n_a + \\gamma\\,n_d) $$\n",
      "   \n",
      "3) a function of the \"total signal\" $n_a/\\gamma + n_d$:\n",
      "\n",
      "   $$ n_{dex} = d_{exT'} \\cdot (n_a/\\gamma + n_d) $$\n",
      "\n",
      "4) a function of $n_d$:\n",
      "\n",
      "   $$ n_{dex} = d_{exD} \\cdot n_d $$\n",
      "\n",
      "5) a function of $n_a$:\n",
      "\n",
      "   $$ n_{dex} = d_{exA} \\cdot n_a $$\n",
      "\n",
      "\n",
      "### Def. 1\n",
      "The coefficient $d_{exAA}$ can be computed from an acceptor-only population in an ALEX measurement as:\n",
      "\n",
      "$$ d_{exAA} = \\frac{n_a}{n_{aa}} $$\n",
      "\n",
      "In terms of physical parameters it is:\n",
      "\n",
      "$$ d_{exAA} = \\frac{I_{532}}{I_{628}} \\frac{\\sigma_{A532}}{\\sigma_{A628}} $$\n",
      "\n",
      "> **NOTE:** This coefficient is $d$ in [Biophysical Journal paper (p. 2943)](http://www.chem.ucla.edu/~michalet/papers/BJ2005.pdf)\n",
      "\n",
      "### Def. 2\n",
      "The coefficient $d_{exT}$ can't be computed from the data but only from the physical parameters:\n",
      "\n",
      "$$ d_{exT} = \\frac{\\sigma_{A532}}{\\sigma_{D532}} $$\n",
      "\n",
      "### Def. 3\n",
      "The coefficient $d_{exT'}$ can't be computed from the data but only from the physical parameters:\n",
      "\n",
      "$$ d_{exT'} = \\frac{\\sigma_{A532}}{\\sigma_{D532}} \\gamma$$\n",
      "\n",
      "> **NOTE:** This is $d'$ in the Biophysical Journal paper [p. 2943](http://www.chem.ucla.edu/~michalet/papers/BJ2005.pdf) and [SI](http://www.chem.ucla.edu/~michalet/papers/BJ2005SI.pdf)\n",
      "\n",
      "### Def. 4\n",
      "The coefficient $d_{exD}$ is a function of $E$ as well as the physical parameters.\n",
      "\n",
      "$$ n_{dex} = I_{532} \\, \\sigma_{A532} \\, \\phi_A \\, \\eta_{AA} $$\n",
      "\n",
      "$$ n_{d} = I_{532} \\, \\sigma_{D532} \\, \\phi_D \\, \\eta_{DD} (1 - E) $$\n",
      "\n",
      "Taking the ratio:\n",
      "\n",
      "$$ d_{exD} = \\frac{ \\sigma_{A532} }{\\sigma_{D532}} \\frac{\\gamma}{1 - E} = d_{exT} \\frac{\\gamma}{1 - E} $$\n",
      "\n",
      "### Def. 5\n",
      "The coefficient $d_{exA}$ is a function of $E$ as well as the physical parameters.\n",
      "\n",
      "$$ n_{dex} = I_{532} \\, \\sigma_{A532} \\, \\phi_A \\, \\eta_{AA} $$\n",
      "\n",
      "$$ n_{a} = I_{532} \\, \\sigma_{D532} \\, E \\, \\phi_A \\, \\eta_{AA} $$\n",
      "\n",
      "Taking the ratio:\n",
      "\n",
      "$$ d_{exA} = \\frac{ \\sigma_{A532} }{\\sigma_{D532}} E $$\n",
      "\n",
      "## Discussion of \"Def. 1-5\"\n",
      "\n",
      "Definitions 4 and 5 are inconvenient because the coefficient depends on $E$. \"Def. 3\" does not depend on $E$ but depends on $\\gamma$, while \"Def. 2\" depends only on the ratio of two absorption cross sections. \"Def. 1\" can only be used in an ALEX measurement and will be used below for the $S$ expression.\n",
      "\n",
      "So, for non-ALEX measurement, \"Def. 2\" gives the simpler coefficient.\n",
      "\n",
      "As physical interpretation, definitions 2 and 3 are similar. In \"Def. 2\", when $E=1$, the \"total signal\" is the background-corrected counts. When $E < 1$, the total corrected counts do not change (at the same excitation intensity): they are the sum of acceptor and gamma-corrected donor counts. Similar considerations hold for \"Def. 3\" (starting from $E=0$).\n"
     ]
    },
    {
     "cell_type": "markdown",
     "metadata": {},
     "source": [
      "# 2. Derivation of the expressions"
     ]
    },
    {
     "cell_type": "markdown",
     "metadata": {},
     "source": [
      "## 2.1 Import libraries"
     ]
    },
    {
     "cell_type": "code",
     "collapsed": false,
     "input": [
      "import sympy\n",
      "from sympy import init_printing, symbols, solve, Eq\n",
      "init_printing()  # beautiful maths"
     ],
     "language": "python",
     "metadata": {},
     "outputs": [],
     "prompt_number": 1
    },
    {
     "cell_type": "markdown",
     "metadata": {},
     "source": [
      "## 2.2 Relating $E$ and $E_R$\n",
      "\n",
      "### Define the symbols"
     ]
    },
    {
     "cell_type": "code",
     "collapsed": false,
     "input": [
      "E, Er = symbols('E, E_R')\n",
      "nd, na, ns_a, n_dex = symbols('n_d n_a n^*_a n_dex')\n",
      "gamma, Lk = symbols('gamma L_k')\n",
      "d_exAA, d_exT, d_exD = symbols(\"d_exAA d_exT, d_exD\")"
     ],
     "language": "python",
     "metadata": {},
     "outputs": [],
     "prompt_number": 2
    },
    {
     "cell_type": "code",
     "collapsed": false,
     "input": [
      "def PR(nd, na):\n",
      "    return na/(na + nd)\n",
      "\n",
      "PR(nd, na)"
     ],
     "language": "python",
     "metadata": {},
     "outputs": [
      {
       "latex": [
        "$$\\frac{n_{a}}{n_{a} + n_{d}}$$"
       ],
       "metadata": {},
       "output_type": "pyout",
       "png": "[encoded data removed]",
       "prompt_number": 3,
       "text": [
        "   n\u2090   \n",
        "\u2500\u2500\u2500\u2500\u2500\u2500\u2500\u2500\n",
        "n\u2090 + n_d"
       ]
      }
     ],
     "prompt_number": 3
    },
    {
     "cell_type": "code",
     "collapsed": false,
     "input": [
      "def FRET(nd, na, gamma):\n",
      "    return na / (na + gamma*nd)\n",
      "\n",
      "FRET(nd, na, gamma)"
     ],
     "language": "python",
     "metadata": {},
     "outputs": [
      {
       "latex": [
        "$$\\frac{n_{a}}{\\gamma n_{d} + n_{a}}$$"
       ],
       "metadata": {},
       "output_type": "pyout",
       "png": "[encoded data removed]",
       "prompt_number": 4,
       "text": [
        "    n\u2090    \n",
        "\u2500\u2500\u2500\u2500\u2500\u2500\u2500\u2500\u2500\u2500\n",
        "\u03b3\u22c5n_d + n\u2090"
       ]
      }
     ],
     "prompt_number": 4
    },
    {
     "cell_type": "markdown",
     "metadata": {},
     "source": [
      "### Symbolic computation: obtaining $E = f(E_R)$"
     ]
    },
    {
     "cell_type": "markdown",
     "metadata": {},
     "source": [
      "As a first step we write $n^*_a$ as a function of $n_a$ and save the symbolic expression:"
     ]
    },
    {
     "cell_type": "code",
     "collapsed": false,
     "input": [
      "ns_a_as_func_na = na + Lk*nd + n_dex\n",
      "ns_a_as_func_na"
     ],
     "language": "python",
     "metadata": {},
     "outputs": [
      {
       "latex": [
        "$$L_{k} n_{d} + n_{a} + n_{dex}$$"
       ],
       "metadata": {},
       "output_type": "pyout",
       "png": "[encoded data removed]",
       "prompt_number": 5,
       "text": [
        "L_k\u22c5n_d + n\u2090 + n_dex"
       ]
      }
     ],
     "prompt_number": 5
    },
    {
     "cell_type": "markdown",
     "metadata": {},
     "source": [
      "Here we write the PR substituting $n^*_a$ with $n_a + L_k n_d + n_{dex}$ and $n_{dex}$ with the \"Def. 2\" expression:"
     ]
    },
    {
     "cell_type": "code",
     "collapsed": false,
     "input": [
      "Er_sym = sympy.factor(PR(nd, ns_a).subs(ns_a, ns_a_as_func_na).subs(n_dex, d_exT*(nd*gamma + na)))\n",
      "\n",
      "Er_sym"
     ],
     "language": "python",
     "metadata": {},
     "outputs": [
      {
       "latex": [
        "$$\\frac{L_{k} n_{d} + d_{exT} \\gamma n_{d} + d_{exT} n_{a} + n_{a}}{L_{k} n_{d} + d_{exT} \\gamma n_{d} + d_{exT} n_{a} + n_{a} + n_{d}}$$"
       ],
       "metadata": {},
       "output_type": "pyout",
       "png": "[encoded data removed]",
       "prompt_number": 6,
       "text": [
        "   L_k\u22c5n_d + d_exT\u22c5\u03b3\u22c5n_d + d_exT\u22c5n\u2090 + n\u2090   \n",
        "\u2500\u2500\u2500\u2500\u2500\u2500\u2500\u2500\u2500\u2500\u2500\u2500\u2500\u2500\u2500\u2500\u2500\u2500\u2500\u2500\u2500\u2500\u2500\u2500\u2500\u2500\u2500\u2500\u2500\u2500\u2500\u2500\u2500\u2500\u2500\u2500\u2500\u2500\u2500\u2500\u2500\u2500\u2500\n",
        "L_k\u22c5n_d + d_exT\u22c5\u03b3\u22c5n_d + d_exT\u22c5n\u2090 + n\u2090 + n_d"
       ]
      }
     ],
     "prompt_number": 6
    },
    {
     "cell_type": "markdown",
     "metadata": {},
     "source": [
      "The previous expression is the proximity ratio $E_R$. We \"solve\" it to obtain $n_d$ as a function of $E_R$. Then we replace the obtained expression in the FRET formula:"
     ]
    },
    {
     "cell_type": "code",
     "collapsed": false,
     "input": [
      "E_sym = sympy.factor(FRET(nd, na, gamma).subs(nd, solve(Er_sym - Er, nd)[0]))\n",
      "\n",
      "E_sym"
     ],
     "language": "python",
     "metadata": {},
     "outputs": [
      {
       "latex": [
        "$$\\frac{E_{R} L_{k} + E_{R} d_{exT} \\gamma + E_{R} - L_{k} - d_{exT} \\gamma}{E_{R} L_{k} - E_{R} \\gamma + E_{R} - L_{k} + \\gamma}$$"
       ],
       "metadata": {},
       "output_type": "pyout",
       "png": "[encoded data removed]",
       "prompt_number": 7,
       "text": [
        "E_R\u22c5L_k + E_R\u22c5d_exT\u22c5\u03b3 + E_R - L_k - d_exT\u22c5\u03b3\n",
        "\u2500\u2500\u2500\u2500\u2500\u2500\u2500\u2500\u2500\u2500\u2500\u2500\u2500\u2500\u2500\u2500\u2500\u2500\u2500\u2500\u2500\u2500\u2500\u2500\u2500\u2500\u2500\u2500\u2500\u2500\u2500\u2500\u2500\u2500\u2500\u2500\u2500\u2500\u2500\u2500\u2500\u2500\u2500\n",
        "      E_R\u22c5L_k - E_R\u22c5\u03b3 + E_R - L_k + \u03b3      "
       ]
      }
     ],
     "prompt_number": 7
    },
    {
     "cell_type": "markdown",
     "metadata": {},
     "source": [
      "The previous expression is $E$ as a function of $E_R$, including leakage and direct excitation coefficients. It is the same of [equation S9](http://www.chem.ucla.edu/~michalet/papers/BJ2005SI.pdf) when we change $d_{exT}\\gamma$ with $d'$.\n",
      "\n",
      "Collecting $E_R$ we obtain an equivalent expression:"
     ]
    },
    {
     "cell_type": "code",
     "collapsed": false,
     "input": [
      "sympy.collect(E_sym, Er)"
     ],
     "language": "python",
     "metadata": {},
     "outputs": [
      {
       "latex": [
        "$$\\frac{E_{R} \\left(L_{k} + d_{exT} \\gamma + 1\\right) - L_{k} - d_{exT} \\gamma}{E_{R} \\left(L_{k} - \\gamma + 1\\right) - L_{k} + \\gamma}$$"
       ],
       "metadata": {},
       "output_type": "pyout",
       "png": "[encoded data removed]",
       "prompt_number": 8,
       "text": [
        "E_R\u22c5(L_k + d_exT\u22c5\u03b3 + 1) - L_k - d_exT\u22c5\u03b3\n",
        "\u2500\u2500\u2500\u2500\u2500\u2500\u2500\u2500\u2500\u2500\u2500\u2500\u2500\u2500\u2500\u2500\u2500\u2500\u2500\u2500\u2500\u2500\u2500\u2500\u2500\u2500\u2500\u2500\u2500\u2500\u2500\u2500\u2500\u2500\u2500\u2500\u2500\u2500\u2500\n",
        "      E_R\u22c5(L_k - \u03b3 + 1) - L_k + \u03b3      "
       ]
      }
     ],
     "prompt_number": 8
    },
    {
     "cell_type": "markdown",
     "metadata": {},
     "source": [
      "From this symbolic expression we can define the numeric function:"
     ]
    },
    {
     "cell_type": "code",
     "collapsed": false,
     "input": [
      "def correct_E_gamma_leak_dir(Eraw, gamma, leakage=0, dir_ex_t=0):\n",
      "    Eraw = np.asarray(Eraw)\n",
      "    return (Eraw*(leakage + dir_ex_t*gamma + 1) - leakage - dir_ex_t*gamma) \\\n",
      "           / ( Eraw*(leakage -  gamma + 1) - leakage + gamma )"
     ],
     "language": "python",
     "metadata": {},
     "outputs": [],
     "prompt_number": 9
    },
    {
     "cell_type": "markdown",
     "metadata": {},
     "source": [
      "Now we can derive the simpler expression in the case we want to correct only one parameter.\n",
      "\n",
      "For only gamma correction we obtain:"
     ]
    },
    {
     "cell_type": "code",
     "collapsed": false,
     "input": [
      "E_sym.subs(Lk, 0).subs(d_exT, 0)"
     ],
     "language": "python",
     "metadata": {},
     "outputs": [
      {
       "latex": [
        "$$\\frac{E_{R}}{- E_{R} \\gamma + E_{R} + \\gamma}$$"
       ],
       "metadata": {},
       "output_type": "pyout",
       "png": "[encoded data removed]",
       "prompt_number": 10,
       "text": [
        "      E_R       \n",
        "\u2500\u2500\u2500\u2500\u2500\u2500\u2500\u2500\u2500\u2500\u2500\u2500\u2500\u2500\u2500\u2500\n",
        "-E_R\u22c5\u03b3 + E_R + \u03b3"
       ]
      }
     ],
     "prompt_number": 10
    },
    {
     "cell_type": "markdown",
     "metadata": {},
     "source": [
      "For the only leakage correction we obtain:"
     ]
    },
    {
     "cell_type": "code",
     "collapsed": false,
     "input": [
      "sympy.collect(E_sym.subs(gamma, 1).subs(d_exT, 0), Er)"
     ],
     "language": "python",
     "metadata": {},
     "outputs": [
      {
       "latex": [
        "$$\\frac{E_{R} \\left(L_{k} + 1\\right) - L_{k}}{E_{R} L_{k} - L_{k} + 1}$$"
       ],
       "metadata": {},
       "output_type": "pyout",
       "png": "[encoded data removed]",
       "prompt_number": 11,
       "text": [
        "E_R\u22c5(L_k + 1) - L_k\n",
        "\u2500\u2500\u2500\u2500\u2500\u2500\u2500\u2500\u2500\u2500\u2500\u2500\u2500\u2500\u2500\u2500\u2500\u2500\u2500\n",
        " E_R\u22c5L_k - L_k + 1 "
       ]
      }
     ],
     "prompt_number": 11
    },
    {
     "cell_type": "markdown",
     "metadata": {},
     "source": [
      "For the only direct excitation correction we obtain:"
     ]
    },
    {
     "cell_type": "code",
     "collapsed": false,
     "input": [
      "sympy.collect(E_sym.subs(gamma, 1).subs(Lk, 0), Er)"
     ],
     "language": "python",
     "metadata": {},
     "outputs": [
      {
       "latex": [
        "$$E_{R} \\left(d_{exT} + 1\\right) - d_{exT}$$"
       ],
       "metadata": {},
       "output_type": "pyout",
       "png": "[encoded data removed]",
       "prompt_number": 12,
       "text": [
        "E_R\u22c5(d_exT + 1) - d_exT"
       ]
      }
     ],
     "prompt_number": 12
    },
    {
     "cell_type": "markdown",
     "metadata": {},
     "source": [
      "### Symbolic computation: $E_R = f^{-1}(E)$"
     ]
    },
    {
     "cell_type": "markdown",
     "metadata": {},
     "source": [
      "Conversely, to compute $E_R$  as a function of $E$ we invert the previous expression:"
     ]
    },
    {
     "cell_type": "code",
     "collapsed": false,
     "input": [
      "Er_as_func_E = solve(E - E_sym, Er)[0]"
     ],
     "language": "python",
     "metadata": {},
     "outputs": [],
     "prompt_number": 13
    },
    {
     "cell_type": "code",
     "collapsed": false,
     "input": [
      "sympy.collect(Er_as_func_E, E)"
     ],
     "language": "python",
     "metadata": {},
     "outputs": [
      {
       "latex": [
        "$$\\frac{E \\left(- L_{k} + \\gamma\\right) + L_{k} + d_{exT} \\gamma}{E \\left(- L_{k} + \\gamma - 1\\right) + L_{k} + d_{exT} \\gamma + 1}$$"
       ],
       "metadata": {},
       "output_type": "pyout",
       "png": "[encoded data removed]",
       "prompt_number": 14,
       "text": [
        "    E\u22c5(-L_k + \u03b3) + L_k + d_exT\u22c5\u03b3    \n",
        "\u2500\u2500\u2500\u2500\u2500\u2500\u2500\u2500\u2500\u2500\u2500\u2500\u2500\u2500\u2500\u2500\u2500\u2500\u2500\u2500\u2500\u2500\u2500\u2500\u2500\u2500\u2500\u2500\u2500\u2500\u2500\u2500\u2500\u2500\u2500\u2500\n",
        "E\u22c5(-L_k + \u03b3 - 1) + L_k + d_exT\u22c5\u03b3 + 1"
       ]
      }
     ],
     "prompt_number": 14
    },
    {
     "cell_type": "markdown",
     "metadata": {},
     "source": [
      "And we define the numerical function:"
     ]
    },
    {
     "cell_type": "code",
     "collapsed": false,
     "input": [
      "def uncorrect_E_gamma_leak_dir(E, gamma, leakage=0, dir_ex_t=0):\n",
      "    E = np.asarray(E)\n",
      "    return (E*(gamma - leakage) + leakage + dir_ex_t*gamma) \\\n",
      "           / ( E*(gamma - leakage - 1) + leakage + dir_ex_t*gamma + 1 )"
     ],
     "language": "python",
     "metadata": {},
     "outputs": [],
     "prompt_number": 15
    },
    {
     "cell_type": "markdown",
     "metadata": {},
     "source": [
      "And the inverse for only a single correction are (in the order gamma, leakage, direct excitation)"
     ]
    },
    {
     "cell_type": "code",
     "collapsed": false,
     "input": [
      "Er_as_func_E.subs(Lk, 0).subs(d_exT, 0)"
     ],
     "language": "python",
     "metadata": {},
     "outputs": [
      {
       "latex": [
        "$$\\frac{E \\gamma}{E \\gamma - E + 1}$$"
       ],
       "metadata": {},
       "output_type": "pyout",
       "png": "[encoded data removed]",
       "prompt_number": 16,
       "text": [
        "    E\u22c5\u03b3    \n",
        "\u2500\u2500\u2500\u2500\u2500\u2500\u2500\u2500\u2500\u2500\u2500\n",
        "E\u22c5\u03b3 - E + 1"
       ]
      }
     ],
     "prompt_number": 16
    },
    {
     "cell_type": "code",
     "collapsed": false,
     "input": [
      "sympy.collect(Er_as_func_E.subs(gamma, 1).subs(d_exT, 0), Er)"
     ],
     "language": "python",
     "metadata": {},
     "outputs": [
      {
       "latex": [
        "$$\\frac{- E L_{k} + E + L_{k}}{- E L_{k} + L_{k} + 1}$$"
       ],
       "metadata": {},
       "output_type": "pyout",
       "png": "[encoded data removed]",
       "prompt_number": 17,
       "text": [
        "-E\u22c5L_k + E + L_k\n",
        "\u2500\u2500\u2500\u2500\u2500\u2500\u2500\u2500\u2500\u2500\u2500\u2500\u2500\u2500\u2500\u2500\n",
        "-E\u22c5L_k + L_k + 1"
       ]
      }
     ],
     "prompt_number": 17
    },
    {
     "cell_type": "code",
     "collapsed": false,
     "input": [
      "sympy.collect(Er_as_func_E.subs(gamma, 1).subs(Lk, 0), Er)"
     ],
     "language": "python",
     "metadata": {},
     "outputs": [
      {
       "latex": [
        "$$\\frac{E + d_{exT}}{d_{exT} + 1}$$"
       ],
       "metadata": {},
       "output_type": "pyout",
       "png": "[encoded data removed]",
       "prompt_number": 18,
       "text": [
        "E + d_exT\n",
        "\u2500\u2500\u2500\u2500\u2500\u2500\u2500\u2500\u2500\n",
        "d_exT + 1"
       ]
      }
     ],
     "prompt_number": 18
    },
    {
     "cell_type": "markdown",
     "metadata": {},
     "source": [
      "## 2.3 Relating $S$ and $S_R$\n",
      "\n",
      "In this section we derive the expression of $S$ (corrected stoichiometry) as a function of $S_R$ (uncorrected stoichiometry). See section 1 for the expression of $S$ and $S_R$. \n",
      "\n",
      "### Define the symbols"
     ]
    },
    {
     "cell_type": "code",
     "collapsed": false,
     "input": [
      "S, Sr = symbols('S, S_R')\n",
      "nd, na, ns_a, n_dex, naa = symbols('n_d n_a n^*_a n_dex n_aa')\n",
      "gamma, Lk = symbols('gamma L_k')\n",
      "d_exAA, d_exT, d_exD = symbols(\"d_exAA d_exT, d_exD\")"
     ],
     "language": "python",
     "metadata": {},
     "outputs": [],
     "prompt_number": 19
    },
    {
     "cell_type": "code",
     "collapsed": false,
     "input": [
      "# S, Sr = symbols('S, Sr')\n",
      "# nd, na, ns_a, n_dex, naa = symbols('nd na n^*_a n_dex naa')\n",
      "# gamma, Lk = symbols('gamma Lk')\n",
      "# d_exAA, d_exT, d_exD = symbols(\"d_exAA d_exT, d_exD\")"
     ],
     "language": "python",
     "metadata": {},
     "outputs": [],
     "prompt_number": 20
    },
    {
     "cell_type": "code",
     "collapsed": false,
     "input": [
      "def StoichRaw(nd, na, naa):\n",
      "    return (na + nd)/(na + nd + naa)\n",
      "\n",
      "StoichRaw(nd, na, naa)"
     ],
     "language": "python",
     "metadata": {},
     "outputs": [
      {
       "latex": [
        "$$\\frac{n_{a} + n_{d}}{n_{a} + n_{aa} + n_{d}}$$"
       ],
       "metadata": {},
       "output_type": "pyout",
       "png": "[encoded data removed]",
       "prompt_number": 21,
       "text": [
        "   n\u2090 + n_d   \n",
        "\u2500\u2500\u2500\u2500\u2500\u2500\u2500\u2500\u2500\u2500\u2500\u2500\u2500\u2500\n",
        "n\u2090 + n\u2090\u2090 + n_d"
       ]
      }
     ],
     "prompt_number": 21
    },
    {
     "cell_type": "code",
     "collapsed": false,
     "input": [
      "def Stoich(nd, na, naa, gamma):\n",
      "    return (na + gamma*nd)/(na + gamma*nd + naa)\n",
      "\n",
      "Stoich(nd, na, naa, gamma)"
     ],
     "language": "python",
     "metadata": {},
     "outputs": [
      {
       "latex": [
        "$$\\frac{\\gamma n_{d} + n_{a}}{\\gamma n_{d} + n_{a} + n_{aa}}$$"
       ],
       "metadata": {},
       "output_type": "pyout",
       "png": "[encoded data removed]",
       "prompt_number": 22,
       "text": [
        "   \u03b3\u22c5n_d + n\u2090   \n",
        "\u2500\u2500\u2500\u2500\u2500\u2500\u2500\u2500\u2500\u2500\u2500\u2500\u2500\u2500\u2500\u2500\n",
        "\u03b3\u22c5n_d + n\u2090 + n\u2090\u2090"
       ]
      }
     ],
     "prompt_number": 22
    },
    {
     "cell_type": "markdown",
     "metadata": {},
     "source": [
      "### Symbolic computation: $S = f(S_R)$\n",
      "\n",
      "As a first step we write $n^*_a$ as a function of $n_a$ and save the symbolic expression:"
     ]
    },
    {
     "cell_type": "code",
     "collapsed": false,
     "input": [
      "ns_a_as_func_na = na + Lk*nd + n_dex\n",
      "ns_a_as_func_na"
     ],
     "language": "python",
     "metadata": {},
     "outputs": [
      {
       "latex": [
        "$$L_{k} n_{d} + n_{a} + n_{dex}$$"
       ],
       "metadata": {},
       "output_type": "pyout",
       "png": "[encoded data removed]",
       "prompt_number": 23,
       "text": [
        "L_k\u22c5n_d + n\u2090 + n_dex"
       ]
      }
     ],
     "prompt_number": 23
    },
    {
     "cell_type": "markdown",
     "metadata": {},
     "source": [
      "Here we write $S_R$ substituting $n^*_a$ with $n_a + L_k n_d + n_{dex}$ and $n_{dex}$ \n",
      "with the \"Def. 1\" expression:"
     ]
    },
    {
     "cell_type": "code",
     "collapsed": false,
     "input": [
      "Sr_sym = sympy.factor(\n",
      "    StoichRaw(nd, ns_a, naa).subs(ns_a, ns_a_as_func_na).subs(n_dex, d_exAA*naa)\n",
      "    )\n",
      "\n",
      "Sr_sym"
     ],
     "language": "python",
     "metadata": {},
     "outputs": [
      {
       "latex": [
        "$$\\frac{L_{k} n_{d} + d_{exAA} n_{aa} + n_{a} + n_{d}}{L_{k} n_{d} + d_{exAA} n_{aa} + n_{a} + n_{aa} + n_{d}}$$"
       ],
       "metadata": {},
       "output_type": "pyout",
       "png": "[encoded data removed]",
       "prompt_number": 24,
       "text": [
        "   L_k\u22c5n_d + d_exAA\u22c5n\u2090\u2090 + n\u2090 + n_d   \n",
        "\u2500\u2500\u2500\u2500\u2500\u2500\u2500\u2500\u2500\u2500\u2500\u2500\u2500\u2500\u2500\u2500\u2500\u2500\u2500\u2500\u2500\u2500\u2500\u2500\u2500\u2500\u2500\u2500\u2500\u2500\u2500\u2500\u2500\u2500\u2500\u2500\u2500\n",
        "L_k\u22c5n_d + d_exAA\u22c5n\u2090\u2090 + n\u2090 + n\u2090\u2090 + n_d"
       ]
      }
     ],
     "prompt_number": 24
    },
    {
     "cell_type": "markdown",
     "metadata": {},
     "source": [
      "The previous expression is the $S_R$. Like done for $E$, we \"solve\" the previous expression to obtain one of $n_d$, $n_a$, $n_aa$ as a function of $S_R$. Then we replace the obtained expression in the $S$ formula of corrected stoichiometry.\n",
      "\n",
      "Unfortunately in this case the resulting expression still depends on bursts 2 of the 3 burst-size components ($n_d$, $n_a$, $n_aa$). For $E$ instead, we had obtained an expression that is only function of $E_R$ and the correction factors.\n",
      "\n",
      "Anyway, the expression can still be useful. In practice it's easy to plug the experimental $n_d$ and $n_aa$ (after background correction) in the formula. On the contrary, if we use $n_a$ we would need to apply the corrections before using it. Therefore, I choose to \"solve\" $S_R$ for $n_a$:"
     ]
    },
    {
     "cell_type": "code",
     "collapsed": false,
     "input": [
      "S_sym = sympy.factor(\n",
      "    Stoich(nd, na, naa, gamma).subs(na, solve(Sr_sym - Sr, na)[0])\n",
      "    )\n",
      "\n",
      "S_sym"
     ],
     "language": "python",
     "metadata": {},
     "outputs": [
      {
       "latex": [
        "$$\\frac{L_{k} S_{R} n_{d} - L_{k} n_{d} + S_{R} d_{exAA} n_{aa} - S_{R} \\gamma n_{d} + S_{R} n_{aa} + S_{R} n_{d} - d_{exAA} n_{aa} + \\gamma n_{d} - n_{d}}{L_{k} S_{R} n_{d} - L_{k} n_{d} + S_{R} d_{exAA} n_{aa} - S_{R} \\gamma n_{d} + S_{R} n_{d} - d_{exAA} n_{aa} + \\gamma n_{d} + n_{aa} - n_{d}}$$"
       ],
       "metadata": {},
       "output_type": "pyout",
       "png": "[encoded data removed]",
       "prompt_number": 25,
       "text": [
        "L_k\u22c5S_R\u22c5n_d - L_k\u22c5n_d + S_R\u22c5d_exAA\u22c5n\u2090\u2090 - S_R\u22c5\u03b3\u22c5n_d + S_R\u22c5n\u2090\u2090 + S_R\u22c5n_d - d_exA\n",
        "\u2500\u2500\u2500\u2500\u2500\u2500\u2500\u2500\u2500\u2500\u2500\u2500\u2500\u2500\u2500\u2500\u2500\u2500\u2500\u2500\u2500\u2500\u2500\u2500\u2500\u2500\u2500\u2500\u2500\u2500\u2500\u2500\u2500\u2500\u2500\u2500\u2500\u2500\u2500\u2500\u2500\u2500\u2500\u2500\u2500\u2500\u2500\u2500\u2500\u2500\u2500\u2500\u2500\u2500\u2500\u2500\u2500\u2500\u2500\u2500\u2500\u2500\u2500\u2500\u2500\u2500\u2500\u2500\u2500\u2500\u2500\u2500\u2500\u2500\u2500\u2500\u2500\u2500\n",
        "  L_k\u22c5S_R\u22c5n_d - L_k\u22c5n_d + S_R\u22c5d_exAA\u22c5n\u2090\u2090 - S_R\u22c5\u03b3\u22c5n_d + S_R\u22c5n_d - d_exAA\u22c5n\u2090\u2090 + \n",
        "\n",
        "A\u22c5n\u2090\u2090 + \u03b3\u22c5n_d - n_d\n",
        "\u2500\u2500\u2500\u2500\u2500\u2500\u2500\u2500\u2500\u2500\u2500\u2500\u2500\u2500\u2500\u2500\u2500\u2500\u2500\n",
        "\u03b3\u22c5n_d + n\u2090\u2090 - n_d  "
       ]
      }
     ],
     "prompt_number": 25
    },
    {
     "cell_type": "markdown",
     "metadata": {},
     "source": [
      "The previous formula is the expression of $S$ as a function of $S_R$, $n_d$, $n_{aa}$ and of all the correction coefficient.\n",
      "\n",
      "Now we just do some passages to try to obtain a simpler expression:"
     ]
    },
    {
     "cell_type": "code",
     "collapsed": false,
     "input": [
      "S_sym2 = S_sym.collect(Sr).collect(na).collect(gamma)\n",
      "S_sym2"
     ],
     "language": "python",
     "metadata": {},
     "outputs": [
      {
       "latex": [
        "$$\\frac{- L_{k} n_{d} + S_{R} \\left(L_{k} n_{d} + d_{exAA} n_{aa} - \\gamma n_{d} + n_{aa} + n_{d}\\right) - d_{exAA} n_{aa} + \\gamma n_{d} - n_{d}}{- L_{k} n_{d} + S_{R} \\left(L_{k} n_{d} + d_{exAA} n_{aa} - \\gamma n_{d} + n_{d}\\right) - d_{exAA} n_{aa} + \\gamma n_{d} + n_{aa} - n_{d}}$$"
       ],
       "metadata": {},
       "output_type": "pyout",
       "png": "[encoded data removed]",
       "prompt_number": 26,
       "text": [
        "-L_k\u22c5n_d + S_R\u22c5(L_k\u22c5n_d + d_exAA\u22c5n\u2090\u2090 - \u03b3\u22c5n_d + n\u2090\u2090 + n_d) - d_exAA\u22c5n\u2090\u2090 + \u03b3\u22c5n_d\n",
        "\u2500\u2500\u2500\u2500\u2500\u2500\u2500\u2500\u2500\u2500\u2500\u2500\u2500\u2500\u2500\u2500\u2500\u2500\u2500\u2500\u2500\u2500\u2500\u2500\u2500\u2500\u2500\u2500\u2500\u2500\u2500\u2500\u2500\u2500\u2500\u2500\u2500\u2500\u2500\u2500\u2500\u2500\u2500\u2500\u2500\u2500\u2500\u2500\u2500\u2500\u2500\u2500\u2500\u2500\u2500\u2500\u2500\u2500\u2500\u2500\u2500\u2500\u2500\u2500\u2500\u2500\u2500\u2500\u2500\u2500\u2500\u2500\u2500\u2500\u2500\u2500\u2500\u2500\n",
        "-L_k\u22c5n_d + S_R\u22c5(L_k\u22c5n_d + d_exAA\u22c5n\u2090\u2090 - \u03b3\u22c5n_d + n_d) - d_exAA\u22c5n\u2090\u2090 + \u03b3\u22c5n_d + n\u2090\u2090\n",
        "\n",
        " - n_d\n",
        "\u2500\u2500\u2500\u2500\u2500\u2500\n",
        " - n_d"
       ]
      }
     ],
     "prompt_number": 26
    },
    {
     "cell_type": "code",
     "collapsed": false,
     "input": [
      "x = symbols('x')\n",
      "S_sym3 = S_sym2.subs(nd - nd*gamma + d_exAA*naa, x)\n",
      "S_sym3"
     ],
     "language": "python",
     "metadata": {},
     "outputs": [
      {
       "latex": [
        "$$\\frac{- L_{k} n_{d} + S_{R} \\left(L_{k} n_{d} + n_{aa} + x\\right) - x}{- L_{k} n_{d} + S_{R} \\left(L_{k} n_{d} + x\\right) + n_{aa} - x}$$"
       ],
       "metadata": {},
       "output_type": "pyout",
       "png": "[encoded data removed]",
       "prompt_number": 27,
       "text": [
        "-L_k\u22c5n_d + S_R\u22c5(L_k\u22c5n_d + n\u2090\u2090 + x) - x\n",
        "\u2500\u2500\u2500\u2500\u2500\u2500\u2500\u2500\u2500\u2500\u2500\u2500\u2500\u2500\u2500\u2500\u2500\u2500\u2500\u2500\u2500\u2500\u2500\u2500\u2500\u2500\u2500\u2500\u2500\u2500\u2500\u2500\u2500\u2500\u2500\u2500\u2500\u2500\n",
        "-L_k\u22c5n_d + S_R\u22c5(L_k\u22c5n_d + x) + n\u2090\u2090 - x"
       ]
      }
     ],
     "prompt_number": 27
    },
    {
     "cell_type": "code",
     "collapsed": false,
     "input": [
      "S_sym4 = S_sym3.factor().collect(x)\n",
      "S_sym4"
     ],
     "language": "python",
     "metadata": {},
     "outputs": [
      {
       "latex": [
        "$$\\frac{L_{k} S_{R} n_{d} - L_{k} n_{d} + S_{R} n_{aa} + x \\left(S_{R} - 1\\right)}{L_{k} S_{R} n_{d} - L_{k} n_{d} + n_{aa} + x \\left(S_{R} - 1\\right)}$$"
       ],
       "metadata": {},
       "output_type": "pyout",
       "png": "[encoded data removed]",
       "prompt_number": 28,
       "text": [
        "L_k\u22c5S_R\u22c5n_d - L_k\u22c5n_d + S_R\u22c5n\u2090\u2090 + x\u22c5(S_R - 1)\n",
        "\u2500\u2500\u2500\u2500\u2500\u2500\u2500\u2500\u2500\u2500\u2500\u2500\u2500\u2500\u2500\u2500\u2500\u2500\u2500\u2500\u2500\u2500\u2500\u2500\u2500\u2500\u2500\u2500\u2500\u2500\u2500\u2500\u2500\u2500\u2500\u2500\u2500\u2500\u2500\u2500\u2500\u2500\u2500\u2500\u2500\n",
        "  L_k\u22c5S_R\u22c5n_d - L_k\u22c5n_d + n\u2090\u2090 + x\u22c5(S_R - 1)  "
       ]
      }
     ],
     "prompt_number": 28
    },
    {
     "cell_type": "code",
     "collapsed": false,
     "input": [
      "y = symbols('y')\n",
      "S_sym5 = S_sym4.subs(Lk*Sr*nd - Lk*nd, y)\n",
      "S_sym5"
     ],
     "language": "python",
     "metadata": {},
     "outputs": [
      {
       "latex": [
        "$$\\frac{S_{R} n_{aa} + x \\left(S_{R} - 1\\right) + y}{n_{aa} + x \\left(S_{R} - 1\\right) + y}$$"
       ],
       "metadata": {},
       "output_type": "pyout",
       "png": "[encoded data removed]",
       "prompt_number": 29,
       "text": [
        "S_R\u22c5n\u2090\u2090 + x\u22c5(S_R - 1) + y\n",
        "\u2500\u2500\u2500\u2500\u2500\u2500\u2500\u2500\u2500\u2500\u2500\u2500\u2500\u2500\u2500\u2500\u2500\u2500\u2500\u2500\u2500\u2500\u2500\u2500\u2500\n",
        "  n\u2090\u2090 + x\u22c5(S_R - 1) + y  "
       ]
      }
     ],
     "prompt_number": 29
    },
    {
     "cell_type": "markdown",
     "metadata": {},
     "source": [
      "Where \n",
      "\n",
      "$$x = n_d - n_d \\gamma + d_{exAA} n_{aa}$$  \n",
      "\n",
      "$$y = L_k S_R n_d - L_k n_d$$"
     ]
    },
    {
     "cell_type": "markdown",
     "metadata": {},
     "source": [
      "The previous formula is another expression of $S$ as a function of $S_R$, $n_d$, $n_{aa}$ and of all the correction coefficient.\n",
      "\n",
      "From here, we can express the function (both 1 and 5) in a python function:"
     ]
    },
    {
     "cell_type": "code",
     "collapsed": false,
     "input": [
      "print S_sym"
     ],
     "language": "python",
     "metadata": {},
     "outputs": [
      {
       "output_type": "stream",
       "stream": "stdout",
       "text": [
        "(L_k*S_R*n_d - L_k*n_d + S_R*d_exAA*n_aa - S_R*gamma*n_d + S_R*n_aa + S_R*n_d - d_exAA*n_aa + gamma*n_d - n_d)/(L_k*S_R*n_d - L_k*n_d + S_R*d_exAA*n_aa - S_R*gamma*n_d + S_R*n_d - d_exAA*n_aa + gamma*n_d + n_aa - n_d)\n"
       ]
      }
     ],
     "prompt_number": 30
    },
    {
     "cell_type": "code",
     "collapsed": false,
     "input": [
      "print  S_sym5"
     ],
     "language": "python",
     "metadata": {},
     "outputs": [
      {
       "output_type": "stream",
       "stream": "stdout",
       "text": [
        "(S_R*n_aa + x*(S_R - 1) + y)/(n_aa + x*(S_R - 1) + y)\n"
       ]
      }
     ],
     "prompt_number": 31
    },
    {
     "cell_type": "code",
     "collapsed": false,
     "input": [
      "def correct_S1(Sr, nd, naa, gamma, d_exAA, Lk):\n",
      "    return (Lk*Sr*nd - Lk*nd + Sr*d_exAA*naa - Sr*gamma*nd + Sr*naa + Sr*nd - d_exAA*naa + gamma*nd - nd)/(Lk*Sr*nd - Lk*nd + Sr*d_exAA*naa - Sr*gamma*nd + Sr*nd - d_exAA*naa + gamma*nd + naa - nd)"
     ],
     "language": "python",
     "metadata": {},
     "outputs": [],
     "prompt_number": 32
    },
    {
     "cell_type": "code",
     "collapsed": false,
     "input": [
      "def correct_S5(Sr, nd, naa, gamma, d_exAA, Lk):\n",
      "    x = nd - gamma*nd + d_exAA*naa\n",
      "    y = Lk*Sr*nd - Lk*nd \n",
      "    return (Sr*naa + x*(Sr - 1) + y)/(naa + x*(Sr - 1) + y)"
     ],
     "language": "python",
     "metadata": {},
     "outputs": [],
     "prompt_number": 33
    },
    {
     "cell_type": "markdown",
     "metadata": {},
     "source": [
      "The latter is simpler and faster."
     ]
    },
    {
     "cell_type": "markdown",
     "metadata": {},
     "source": [
      "# 3. Numerical tests\n",
      "\n",
      "Test consistency between apply and un-apply of numerical corrections."
     ]
    },
    {
     "cell_type": "code",
     "collapsed": false,
     "input": [
      "import numpy as np"
     ],
     "language": "python",
     "metadata": {},
     "outputs": [],
     "prompt_number": 34
    },
    {
     "cell_type": "code",
     "collapsed": false,
     "input": [
      "Ex = np.arange(-0.2, 1.2, 0.1)"
     ],
     "language": "python",
     "metadata": {},
     "outputs": [],
     "prompt_number": 35
    },
    {
     "cell_type": "code",
     "collapsed": false,
     "input": [
      "gamma_ = 0.75\n",
      "leakage_ = 0.04\n",
      "dir_ex_t_ = 0.08"
     ],
     "language": "python",
     "metadata": {},
     "outputs": [],
     "prompt_number": 36
    },
    {
     "cell_type": "code",
     "collapsed": false,
     "input": [
      "Ex_roundtrip = uncorrect_E_gamma_leak_dir(correct_E_gamma_leak_dir(Ex, gamma_), gamma_)"
     ],
     "language": "python",
     "metadata": {},
     "outputs": [],
     "prompt_number": 37
    },
    {
     "cell_type": "code",
     "collapsed": false,
     "input": [
      "np.allclose(Ex, Ex_roundtrip)"
     ],
     "language": "python",
     "metadata": {},
     "outputs": [
      {
       "metadata": {},
       "output_type": "pyout",
       "prompt_number": 38,
       "text": [
        "True"
       ]
      }
     ],
     "prompt_number": 38
    },
    {
     "cell_type": "code",
     "collapsed": false,
     "input": [
      "Ex_roundtrip = uncorrect_E_gamma_leak_dir(correct_E_gamma_leak_dir(Ex, gamma_, leakage_, dir_ex_t_), gamma_, leakage_, dir_ex_t_)"
     ],
     "language": "python",
     "metadata": {},
     "outputs": [],
     "prompt_number": 39
    },
    {
     "cell_type": "code",
     "collapsed": false,
     "input": [
      "np.allclose(Ex, Ex_roundtrip)"
     ],
     "language": "python",
     "metadata": {},
     "outputs": [
      {
       "metadata": {},
       "output_type": "pyout",
       "prompt_number": 40,
       "text": [
        "True"
       ]
      }
     ],
     "prompt_number": 40
    },
    {
     "cell_type": "code",
     "collapsed": false,
     "input": [
      "Ex_roundtrip = correct_E_gamma_leak_dir(uncorrect_E_gamma_leak_dir(Ex, gamma_, leakage_, dir_ex_t_), gamma_, leakage_, dir_ex_t_)"
     ],
     "language": "python",
     "metadata": {},
     "outputs": [],
     "prompt_number": 41
    },
    {
     "cell_type": "code",
     "collapsed": false,
     "input": [
      "np.allclose(Ex, Ex_roundtrip)"
     ],
     "language": "python",
     "metadata": {},
     "outputs": [
      {
       "metadata": {},
       "output_type": "pyout",
       "prompt_number": 42,
       "text": [
        "True"
       ]
      }
     ],
     "prompt_number": 42
    },
    {
     "cell_type": "code",
     "collapsed": false,
     "input": [
      "Sx = np.arange(-0.2, 1.2, 0.1)\n",
      "\n",
      "nd_ = 300\n",
      "naa_ = 20\n",
      "\n",
      "gamma_ = 0.75\n",
      "leakage_ = 0.04\n",
      "dir_ex_aa_ = 0.08\n",
      "\n",
      "S1 = correct_S1(Sx, nd_, naa_, gamma_, leakage_, dir_ex_aa_)\n",
      "S5 = correct_S5(Sx, nd_, naa_, gamma_, leakage_, dir_ex_aa_)\n",
      "np.allclose(S1, S5)"
     ],
     "language": "python",
     "metadata": {},
     "outputs": [
      {
       "metadata": {},
       "output_type": "pyout",
       "prompt_number": 43,
       "text": [
        "True"
       ]
      }
     ],
     "prompt_number": 43
    },
    {
     "cell_type": "markdown",
     "metadata": {},
     "source": [
      "#Notebook style"
     ]
    },
    {
     "cell_type": "code",
     "collapsed": false,
     "input": [
      "from IPython.core.display import HTML\n",
      "HTML(open(\"./styles/custom2.css\", \"r\").read())"
     ],
     "language": "python",
     "metadata": {},
     "outputs": [
      {
       "html": [
        "<script src=\"http://use.edgefonts.net/source-code-pro.js\"></script>\n",
        "\n",
        "<style>\n",
        "\t/* Import the \"Computer Modern\" font */\n",
        "    @font-face {\n",
        "        font-family: \"Computer Modern\";\n",
        "        src: url('http://mirrors.ctan.org/fonts/cm-unicode/fonts/otf/cmunss.otf');\n",
        "    }\n",
        "\t\n",
        "\t/* Style for all the cells */\n",
        "\tdiv.cell{\n",
        "        width:900px;\n",
        "        margin-left:8% !important;\n",
        "        margin-right:auto;\n",
        "    }\n",
        "\n",
        "\t/* Text in markdown cells */\n",
        "    div.text_cell_render{\n",
        "        font-family: Computer Modern, Liberation Sans, Arial, Helvetica, sans-serif;\n",
        "        line-height: 130%;\n",
        "        font-size: 120%;\n",
        " /*       width:800px;\n",
        "        margin-left:auto;\n",
        "        margin-right:auto;*/\n",
        "    }\n",
        "\n",
        "\t/* Quoted text in markdown cells */\n",
        "\t/*blockquote  p {\n",
        "\tmargin: 1em 2em;\n",
        "\tline-height: 140%;\n",
        "    }*/\n",
        "\n",
        "\t/* Input and output prompt (In[1], Out[1], ...) */\n",
        "\tdiv.prompt{\n",
        "\t\tfont-family: \"Source Code Pro\", source-code-pro, Computer Modern, Consolas, monospace;\n",
        "\t}\n",
        "\n",
        "\t/* Output text (i.e. output of print or text display) */\n",
        "\tdiv.output_area pre{\n",
        "\t\tfont-family: \"Source Code Pro\", source-code-pro, Computer Modern, Consolas, monospace;\n",
        "\t}\n",
        "\n",
        "\t/* Text in code markup, within markdown cells */\n",
        "    .rendered_html code {\n",
        "\tfont-family: \"Source Code Pro\", source-code-pro, Computer Modern, Consolas, monospace;\n",
        "\tbackground-color: #f7f7f7;\n",
        "\tborder: 1px solid #dddddd;\n",
        "\tcolor: black;\n",
        "\tline-height: 1.1em;\n",
        "\tpadding: 0.15em;\n",
        "\tfont-size: 80%;\n",
        "    }\n",
        "\n",
        "\t/* Text in code cells */\n",
        "    .CodeMirror{\n",
        "            font-family: \"Source Code Pro\", source-code-pro,  Consolas, monospace;\n",
        "    }\n",
        "\t\n",
        "    /* Whether to displays In[] and Out[] prompt */\n",
        "\t/*.prompt{\n",
        "        display: None;\n",
        "    }*/\n",
        "    \n",
        "</style>\n"
       ],
       "metadata": {},
       "output_type": "pyout",
       "prompt_number": 44,
       "text": [
        "<IPython.core.display.HTML at 0x40b0fd0>"
       ]
      }
     ],
     "prompt_number": 44
    },
    {
     "cell_type": "code",
     "collapsed": false,
     "input": [],
     "language": "python",
     "metadata": {},
     "outputs": [],
     "prompt_number": 44
    }
   ],
   "metadata": {}
  }
 ]
}