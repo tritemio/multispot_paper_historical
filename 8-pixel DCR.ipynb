{
 "cells": [
  {
   "cell_type": "markdown",
   "metadata": {},
   "source": [
    "# 8-pixel DCR"
   ]
  },
  {
   "cell_type": "markdown",
   "metadata": {},
   "source": [
    "> *This notebook computes the detectors DCR for the two 8-pixel arrays used for the 8-spot smFRET measurements*"
   ]
  },
  {
   "cell_type": "markdown",
   "metadata": {},
   "source": [
    "## Load software"
   ]
  },
  {
   "cell_type": "code",
   "execution_count": null,
   "metadata": {
    "collapsed": false
   },
   "outputs": [],
   "source": [
    "import phconvert as phc\n",
    "phc.__version__"
   ]
  },
  {
   "cell_type": "code",
   "execution_count": null,
   "metadata": {
    "collapsed": false
   },
   "outputs": [],
   "source": [
    "from __future__ import division\n",
    "import os\n",
    "import numpy as np\n",
    "import pandas as pd\n",
    "import matplotlib.pyplot as plt\n",
    "import matplotlib as mpl\n",
    "import seaborn as sns\n",
    "from cycler import cycler\n",
    "%matplotlib inline\n",
    "%config InlineBackend.figure_format='retina'  # for hi-dpi displays\n",
    "\n",
    "sns.set_style('whitegrid')\n",
    "#sns.set_palette('deep')\n",
    "\n",
    "# palette = ('Paired', 10)\n",
    "# sns.palplot(sns.color_palette(*palette))\n",
    "# sns.set_palette(*palette)\n",
    "\n",
    "bmap = sns.color_palette(\"Set1\", 9)\n",
    "colors = np.array(bmap)[(1,0,2,3,4,8,6,7), :]\n",
    "sns.palplot(sns.color_palette(colors))\n",
    "sns.set_palette(colors)"
   ]
  },
  {
   "cell_type": "markdown",
   "metadata": {},
   "source": [
    "## Load data"
   ]
  },
  {
   "cell_type": "code",
   "execution_count": null,
   "metadata": {
    "collapsed": true
   },
   "outputs": [],
   "source": [
    "data_dir = './data/multispot/'"
   ]
  },
  {
   "cell_type": "code",
   "execution_count": null,
   "metadata": {
    "collapsed": false
   },
   "outputs": [],
   "source": [
    "fname = 'Z2014-02-26_DCR_test_2.hdf5'"
   ]
  },
  {
   "cell_type": "code",
   "execution_count": null,
   "metadata": {
    "collapsed": false
   },
   "outputs": [],
   "source": [
    "full_fname = data_dir + fname"
   ]
  },
  {
   "cell_type": "code",
   "execution_count": null,
   "metadata": {
    "collapsed": false,
    "scrolled": true
   },
   "outputs": [],
   "source": [
    "d = phc.hdf5.load_photon_hdf5(full_fname, require_setup=False)"
   ]
  },
  {
   "cell_type": "code",
   "execution_count": null,
   "metadata": {
    "collapsed": false
   },
   "outputs": [],
   "source": [
    "type(d._v_file)"
   ]
  },
  {
   "cell_type": "markdown",
   "metadata": {},
   "source": [
    "## Compute DCR"
   ]
  },
  {
   "cell_type": "code",
   "execution_count": null,
   "metadata": {
    "collapsed": false
   },
   "outputs": [],
   "source": [
    "# Compute DCR\n",
    "A_em = phc.hdf5.photon_data_mapping(d._v_file, 'detectors')"
   ]
  },
  {
   "cell_type": "code",
   "execution_count": null,
   "metadata": {
    "collapsed": true
   },
   "outputs": [],
   "source": [
    "A_em = [a.read().view(bool) for a in A_em.values()]\n",
    "accept_dcr = [a.sum()/d.acquisition_duration.read() for a in A_em]\n",
    "donor_dcr = [(~a).sum()/d.acquisition_duration.read() for a in A_em]\n",
    "\n",
    "# Make a DataFrame\n",
    "dcr_data = pd.DataFrame(columns = ['Donor DCR', 'Acceptor DCR'], dtype=float)\n",
    "dcr_data.index.name = 'CH'\n",
    "dcr_data['Donor DCR'] = donor_dcr\n",
    "dcr_data['Acceptor DCR'] = accept_dcr\n",
    "dcr_data = dcr_data.round(4)\n",
    "dcr_data"
   ]
  },
  {
   "cell_type": "code",
   "execution_count": null,
   "metadata": {
    "collapsed": false
   },
   "outputs": [],
   "source": [
    "# Output plot and tables\n",
    "dcr_data.plot.bar(table=np.round(dcr_data, 2).T)\n",
    "plt.ylabel('DCR (cps)')\n",
    "plt.gca().xaxis.set_visible(False)"
   ]
  },
  {
   "cell_type": "markdown",
   "metadata": {},
   "source": [
    "## Save results"
   ]
  },
  {
   "cell_type": "code",
   "execution_count": null,
   "metadata": {
    "collapsed": false
   },
   "outputs": [],
   "source": [
    "dcr_data.to_csv('results/8-pixels_DCR.csv')"
   ]
  },
  {
   "cell_type": "code",
   "execution_count": null,
   "metadata": {
    "collapsed": false
   },
   "outputs": [],
   "source": [
    "pd.read_csv('results/8-pixels_DCR.csv', index_col=0)"
   ]
  },
  {
   "cell_type": "markdown",
   "metadata": {},
   "source": [
    "## Other"
   ]
  },
  {
   "cell_type": "code",
   "execution_count": null,
   "metadata": {
    "collapsed": false
   },
   "outputs": [],
   "source": [
    "from fretbursts import *"
   ]
  },
  {
   "cell_type": "code",
   "execution_count": null,
   "metadata": {
    "collapsed": false
   },
   "outputs": [],
   "source": [
    "def compute_dcr(d):\n",
    "    # Compute DCR\n",
    "    accept_dcr = [a.sum()/(d.time_max - d.time_min) for a in d.A_em]\n",
    "    donor_dcr = [(~a).sum()/(d.time_max - d.time_min) for a in d.A_em]\n",
    "\n",
    "    # Make a DataFrame\n",
    "    dcr_data = pd.DataFrame(columns = ['Donor DCR', 'Acceptor DCR'])\n",
    "    dcr_data['Donor DCR'] = donor_dcr\n",
    "    dcr_data['Acceptor DCR'] = accept_dcr\n",
    "    dcr_data.index.name = 'CH'\n",
    "    return dcr_data"
   ]
  },
  {
   "cell_type": "code",
   "execution_count": null,
   "metadata": {
    "collapsed": false
   },
   "outputs": [],
   "source": [
    "d = loader.photon_hdf5(full_fname)"
   ]
  },
  {
   "cell_type": "code",
   "execution_count": null,
   "metadata": {
    "collapsed": false
   },
   "outputs": [],
   "source": [
    "d_small = d.slice_ph(time_s2=30)"
   ]
  },
  {
   "cell_type": "code",
   "execution_count": null,
   "metadata": {
    "collapsed": false
   },
   "outputs": [],
   "source": [
    "dcr_small = compute_dcr(d_small)\n",
    "dcr_small"
   ]
  },
  {
   "cell_type": "code",
   "execution_count": null,
   "metadata": {
    "collapsed": false
   },
   "outputs": [],
   "source": [
    "print('Percentage DCR change:')\n",
    "100*(dcr_small - dcr_data)/dcr_data"
   ]
  },
  {
   "cell_type": "code",
   "execution_count": null,
   "metadata": {
    "collapsed": false
   },
   "outputs": [],
   "source": [
    "print('Percentage DCR change:')\n",
    "100*(dcr_small - dcr_data)/dcr_data"
   ]
  },
  {
   "cell_type": "code",
   "execution_count": null,
   "metadata": {
    "collapsed": false
   },
   "outputs": [],
   "source": [
    "#d.calc_bg(fun=fb.bg.raw_fit, time_s=30)"
   ]
  },
  {
   "cell_type": "code",
   "execution_count": null,
   "metadata": {
    "collapsed": false
   },
   "outputs": [],
   "source": [
    "#%matplotlib qt"
   ]
  },
  {
   "cell_type": "code",
   "execution_count": null,
   "metadata": {
    "collapsed": false
   },
   "outputs": [],
   "source": [
    "Ax = dplot(d, timetrace_single, ph_sel=Ph_sel(Dex='Aem'), binwidth=5, \n",
    "           tmax=None, show_rate_th=False, sharey=False, set_ax_limits=False)\n",
    "for ax in Ax.ravel():\n",
    "    ax.axvline(120)\n",
    "    ax.axvline(3800)"
   ]
  },
  {
   "cell_type": "code",
   "execution_count": null,
   "metadata": {
    "collapsed": false
   },
   "outputs": [],
   "source": [
    "d_sel = d.slice_ph(time_s1=120, time_s2=3800)\n",
    "dcr_sel = compute_dcr(d_sel)\n",
    "dcr_sel"
   ]
  },
  {
   "cell_type": "code",
   "execution_count": null,
   "metadata": {
    "collapsed": false
   },
   "outputs": [],
   "source": [
    "dcr_sel - dcr_data"
   ]
  },
  {
   "cell_type": "code",
   "execution_count": null,
   "metadata": {
    "collapsed": false
   },
   "outputs": [],
   "source": [
    "d_sel.calc_bg(bg.exp_fit, time_s=30, tail_min_us='auto')"
   ]
  },
  {
   "cell_type": "code",
   "execution_count": null,
   "metadata": {
    "collapsed": true
   },
   "outputs": [],
   "source": [
    "raw_bg_rates_d = np.asfarray(d_sel.bg_dd).mean(1)\n",
    "raw_bg_rates_a = np.asfarray(d_sel.bg_ad).mean(1)\n",
    "\n",
    "dcr_sel['Donor DCR tail fit'] = raw_bg_rates_d\n",
    "dcr_sel['Acceptor DCR tail fit'] = raw_bg_rates_a"
   ]
  },
  {
   "cell_type": "code",
   "execution_count": null,
   "metadata": {
    "collapsed": false
   },
   "outputs": [],
   "source": [
    "dcr_sel_d = dcr_sel[['Donor DCR', 'Donor DCR tail fit']]\n",
    "dcr_sel_d.plot.bar(table=np.round(dcr_sel_d, 2).T)\n",
    "plt.ylabel('DCR (cps)')\n",
    "plt.gca().xaxis.set_visible(False)"
   ]
  },
  {
   "cell_type": "code",
   "execution_count": null,
   "metadata": {
    "collapsed": false
   },
   "outputs": [],
   "source": [
    "dcr_sel_a = dcr_sel[['Acceptor DCR', 'Acceptor DCR tail fit']]\n",
    "dcr_sel_d.plot.bar(table=np.round(dcr_sel_d, 2).T)\n",
    "plt.ylabel('DCR (cps)')\n",
    "plt.gca().xaxis.set_visible(False)"
   ]
  },
  {
   "cell_type": "code",
   "execution_count": null,
   "metadata": {
    "collapsed": false
   },
   "outputs": [],
   "source": [
    "dcr_sel"
   ]
  },
  {
   "cell_type": "code",
   "execution_count": null,
   "metadata": {
    "collapsed": true
   },
   "outputs": [],
   "source": []
  }
 ],
 "metadata": {
  "anaconda-cloud": {},
  "kernelspec": {
   "display_name": "Python [default]",
   "language": "python",
   "name": "python3"
  },
  "language_info": {
   "codemirror_mode": {
    "name": "ipython",
    "version": 3
   },
   "file_extension": ".py",
   "mimetype": "text/x-python",
   "name": "python",
   "nbconvert_exporter": "python",
   "pygments_lexer": "ipython3",
   "version": "3.5.2"
  }
 },
 "nbformat": 4,
 "nbformat_minor": 0
}
