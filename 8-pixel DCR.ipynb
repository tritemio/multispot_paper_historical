{
 "metadata": {
  "name": "",
  "signature": "sha256:a5db28e577c4be1c45c8f73b7d68bf8f3ed2aca3688752888c169daa5f4ca0bc"
 },
 "nbformat": 3,
 "nbformat_minor": 0,
 "worksheets": [
  {
   "cells": [
    {
     "cell_type": "markdown",
     "metadata": {},
     "source": [
      "# 8-pixel DCR"
     ]
    },
    {
     "cell_type": "markdown",
     "metadata": {},
     "source": [
      "> *This notebook computes the detectors DCR for the two 8-pixel arrays used for the 8-spot smFRET measurements*"
     ]
    },
    {
     "cell_type": "markdown",
     "metadata": {},
     "source": [
      "## Load software"
     ]
    },
    {
     "cell_type": "code",
     "collapsed": false,
     "input": [
      "%matplotlib inline\n",
      "import pandas as pd"
     ],
     "language": "python",
     "metadata": {},
     "outputs": []
    },
    {
     "cell_type": "code",
     "collapsed": false,
     "input": [
      "%run load_fretbursts --nogui"
     ],
     "language": "python",
     "metadata": {},
     "outputs": []
    },
    {
     "cell_type": "markdown",
     "metadata": {},
     "source": [
      "## Load data"
     ]
    },
    {
     "cell_type": "code",
     "collapsed": false,
     "input": [
      "fname = 'DCR_test_2.hdf5'\n",
      "data_dir = NOTEBOOK_DIR + '/data/2014-02-26/'"
     ],
     "language": "python",
     "metadata": {},
     "outputs": []
    },
    {
     "cell_type": "code",
     "collapsed": false,
     "input": [
      "full_fname = data_dir + fname"
     ],
     "language": "python",
     "metadata": {},
     "outputs": []
    },
    {
     "cell_type": "code",
     "collapsed": false,
     "input": [
      "d = loader.hdf5(full_fname)"
     ],
     "language": "python",
     "metadata": {},
     "outputs": []
    },
    {
     "cell_type": "markdown",
     "metadata": {},
     "source": [
      "## Compute DCR"
     ]
    },
    {
     "cell_type": "code",
     "collapsed": false,
     "input": [
      "# Compute DCR\n",
      "accept_dcr = [a.sum()/d.time_max() for a in d.A_em]\n",
      "donor_dcr = [(-a).sum()/d.time_max() for a in d.A_em]\n",
      "\n",
      "# Make a DataFrame\n",
      "dcr_data = pd.DataFrame(columns = ['Donor DCR', 'Acceptor DCR'])\n",
      "dcr_data['Donor DCR'] = donor_dcr\n",
      "dcr_data['Acceptor DCR'] = accept_dcr\n",
      "dcr_data.index.name = 'CH'\n",
      "\n",
      "# Output plot and tables\n",
      "dcr_data.plot()\n",
      "dcr_data"
     ],
     "language": "python",
     "metadata": {},
     "outputs": []
    },
    {
     "cell_type": "markdown",
     "metadata": {},
     "source": [
      "## Save results"
     ]
    },
    {
     "cell_type": "code",
     "collapsed": false,
     "input": [
      "dcr_data.to_csv('results/8-pixels_DCR.txt')"
     ],
     "language": "python",
     "metadata": {},
     "outputs": []
    },
    {
     "cell_type": "code",
     "collapsed": false,
     "input": [
      "pd.read_csv('results/8-pixels_DCR.txt', index_col=0)"
     ],
     "language": "python",
     "metadata": {},
     "outputs": []
    },
    {
     "cell_type": "markdown",
     "metadata": {},
     "source": [
      "## Other"
     ]
    },
    {
     "cell_type": "code",
     "collapsed": false,
     "input": [
      "def compute_dcr(d):\n",
      "    # Compute DCR\n",
      "    accept_dcr = [a.sum()/d.time_max() for a in d.A_em]\n",
      "    donor_dcr = [(-a).sum()/d.time_max() for a in d.A_em]\n",
      "\n",
      "    # Make a DataFrame\n",
      "    dcr_data = pd.DataFrame(columns = ['Donor DCR', 'Acceptor DCR'])\n",
      "    dcr_data['Donor DCR'] = donor_dcr\n",
      "    dcr_data['Acceptor DCR'] = accept_dcr\n",
      "    dcr_data.index.name = 'CH'\n",
      "    return dcr_data"
     ],
     "language": "python",
     "metadata": {},
     "outputs": []
    },
    {
     "cell_type": "code",
     "collapsed": false,
     "input": [
      "d_small = d.slice_ph(time_s2=30)"
     ],
     "language": "python",
     "metadata": {},
     "outputs": []
    },
    {
     "cell_type": "code",
     "collapsed": false,
     "input": [
      "dcr_small = compute_dcr(d_small)"
     ],
     "language": "python",
     "metadata": {},
     "outputs": []
    },
    {
     "cell_type": "code",
     "collapsed": false,
     "input": [
      "print 'Percentace DCR change:'\n",
      "100*(dcr_small - dcr_data)/dcr_data"
     ],
     "language": "python",
     "metadata": {},
     "outputs": []
    },
    {
     "cell_type": "code",
     "collapsed": false,
     "input": [
      "#d.calc_bg(fun=fb.bg.raw_fit, time_s=30)"
     ],
     "language": "python",
     "metadata": {},
     "outputs": []
    },
    {
     "cell_type": "code",
     "collapsed": false,
     "input": [
      "#%matplotlib qt"
     ],
     "language": "python",
     "metadata": {},
     "outputs": []
    },
    {
     "cell_type": "code",
     "collapsed": false,
     "input": [
      "Ax = dplot(d, timetrace_single, ph_sel=Ph_sel(Dex='Aem'), binwidth=5, \n",
      "           tmax=None, show_rate_th=False, sharey=False, set_ax_limits=False)"
     ],
     "language": "python",
     "metadata": {},
     "outputs": []
    },
    {
     "cell_type": "code",
     "collapsed": false,
     "input": [],
     "language": "python",
     "metadata": {},
     "outputs": []
    }
   ],
   "metadata": {}
  }
 ]
}