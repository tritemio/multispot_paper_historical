{
 "metadata": {
  "name": "",
  "signature": "sha256:4731ffdc429224aeafe0c168a948e8b0b4ad9a66de05d4c0fb7926f1565119d9"
 },
 "nbformat": 3,
 "nbformat_minor": 0,
 "worksheets": [
  {
   "cells": [
    {
     "cell_type": "markdown",
     "metadata": {},
     "source": [
      "# usALEX-5samples - Template\n",
      "\n",
      "> *This notebook is a template that is executed by [usALEX-Batch](usALEX-Batch.ipynb) in order to fit E and S values of the FRET population for all the 5 smFRET samples.*\n",
      ">\n",
      "> *This notebook reads the environment variable NB_DATA_FILE to select which file to process.*"
     ]
    },
    {
     "cell_type": "markdown",
     "metadata": {},
     "source": [
      "## Load software and filenames definitions"
     ]
    },
    {
     "cell_type": "code",
     "collapsed": false,
     "input": [
      "%run load_fretbursts.py --nogui"
     ],
     "language": "python",
     "metadata": {},
     "outputs": []
    },
    {
     "cell_type": "code",
     "collapsed": false,
     "input": [
      "%cd $NOTEBOOK_DIR"
     ],
     "language": "python",
     "metadata": {},
     "outputs": []
    },
    {
     "cell_type": "code",
     "collapsed": false,
     "input": [
      "data_dir = os.path.abspath(NOTEBOOK_DIR+'/data') + '/'\n",
      "assert os.path.exists(data_dir), \"Path '%s' does not exist.\" % data_dir"
     ],
     "language": "python",
     "metadata": {},
     "outputs": []
    },
    {
     "cell_type": "code",
     "collapsed": false,
     "input": [
      "## Files\n",
      "f7 = \"2012-11-26/006_dsDNA_7d_green100u_red40u.sm\"\n",
      "f12 = \"2012-11-26/007_dsDNA_12d_3nM_green100u_red40u.sm\"\n",
      "f17 = \"2012-11-26/004_dsDNA_17d_green100u_red40u.sm\"\n",
      "f22 = \"2012-11-26/008_dsDNA_22d_500pM_green100u_red40u.sm\"\n",
      "f27 = \"2012-11-26/005_dsDNA_27d_green100u_red40u.sm\"\n",
      "\n",
      "f7, f12, f17, f22, f27 = [data_dir + f[:-2]+'hdf5' for f in [f7, f12, f17, f22, f27]]\n",
      "\n",
      "f_dict = {'7d': f7, '12d': f12, '17d': f17, '22d': f22, '27d': f27}"
     ],
     "language": "python",
     "metadata": {},
     "outputs": []
    },
    {
     "cell_type": "code",
     "collapsed": false,
     "input": [
      "f_dict"
     ],
     "language": "python",
     "metadata": {},
     "outputs": []
    },
    {
     "cell_type": "code",
     "collapsed": false,
     "input": [
      "data_id = os.environ['NB_DATA_FILE']\n",
      "data_id"
     ],
     "language": "python",
     "metadata": {},
     "outputs": []
    },
    {
     "cell_type": "code",
     "collapsed": false,
     "input": [
      "# data_id = '7d'"
     ],
     "language": "python",
     "metadata": {},
     "outputs": []
    },
    {
     "cell_type": "markdown",
     "metadata": {},
     "source": [
      "## Data load"
     ]
    },
    {
     "cell_type": "markdown",
     "metadata": {},
     "source": [
      "Initial loading of the data:"
     ]
    },
    {
     "cell_type": "code",
     "collapsed": false,
     "input": [
      "d = loader.hdf5(fname=f_dict[data_id])"
     ],
     "language": "python",
     "metadata": {},
     "outputs": []
    },
    {
     "cell_type": "markdown",
     "metadata": {},
     "source": [
      "## Laser alternation selection\n",
      "\n",
      "At this point we have only the timestamps and the detector numbers:"
     ]
    },
    {
     "cell_type": "code",
     "collapsed": false,
     "input": [
      "d.ph_times_t, d.det_t"
     ],
     "language": "python",
     "metadata": {},
     "outputs": []
    },
    {
     "cell_type": "markdown",
     "metadata": {},
     "source": [
      "We need to define some parameters: donor and acceptor ch, excitation period and donor and acceptor excitiations:"
     ]
    },
    {
     "cell_type": "code",
     "collapsed": false,
     "input": [
      "d.add(det_donor_accept=(0, 1), alex_period=4000, D_ON=(2850, 580), A_ON=(900, 2580))"
     ],
     "language": "python",
     "metadata": {},
     "outputs": []
    },
    {
     "cell_type": "markdown",
     "metadata": {},
     "source": [
      "We should check if everithing is OK with an alternation histogram:"
     ]
    },
    {
     "cell_type": "code",
     "collapsed": false,
     "input": [
      "plot_alternation_hist(d)"
     ],
     "language": "python",
     "metadata": {},
     "outputs": []
    },
    {
     "cell_type": "markdown",
     "metadata": {},
     "source": [
      "If the plot looks good we can apply the parameters with:"
     ]
    },
    {
     "cell_type": "code",
     "collapsed": false,
     "input": [
      "loader.usalex_apply_period(d)"
     ],
     "language": "python",
     "metadata": {},
     "outputs": []
    },
    {
     "cell_type": "markdown",
     "metadata": {},
     "source": [
      "##Measurements infos"
     ]
    },
    {
     "cell_type": "markdown",
     "metadata": {},
     "source": [
      "All the measurement data is in the `d` variable. We can print it:"
     ]
    },
    {
     "cell_type": "code",
     "collapsed": false,
     "input": [
      "d"
     ],
     "language": "python",
     "metadata": {},
     "outputs": []
    },
    {
     "cell_type": "markdown",
     "metadata": {},
     "source": [
      "Or check the **measurements duration**:"
     ]
    },
    {
     "cell_type": "code",
     "collapsed": false,
     "input": [
      "d.time_max()"
     ],
     "language": "python",
     "metadata": {},
     "outputs": []
    },
    {
     "cell_type": "markdown",
     "metadata": {},
     "source": [
      "##Compute background"
     ]
    },
    {
     "cell_type": "markdown",
     "metadata": {},
     "source": [
      "Compute the background using automatic threshold:"
     ]
    },
    {
     "cell_type": "code",
     "collapsed": false,
     "input": [
      "d.calc_bg(bg.exp_fit, time_s=60, tail_min_us='auto', F_bg=1.7)"
     ],
     "language": "python",
     "metadata": {},
     "outputs": []
    },
    {
     "cell_type": "code",
     "collapsed": false,
     "input": [
      "dplot(d, timetrace_bg)"
     ],
     "language": "python",
     "metadata": {},
     "outputs": []
    },
    {
     "cell_type": "code",
     "collapsed": false,
     "input": [
      "d.rate_m, d.rate_dd, d.rate_ad, d.rate_aa"
     ],
     "language": "python",
     "metadata": {},
     "outputs": []
    },
    {
     "cell_type": "markdown",
     "metadata": {},
     "source": [
      "#Burst search and burst selection"
     ]
    },
    {
     "cell_type": "code",
     "collapsed": false,
     "input": [
      "d.burst_search_t(m=10, F=6, ph_sel=Ph_sel('all'))"
     ],
     "language": "python",
     "metadata": {},
     "outputs": []
    },
    {
     "cell_type": "code",
     "collapsed": false,
     "input": [
      "assert d.dir_ex == 0\n",
      "assert d.leakage == 0"
     ],
     "language": "python",
     "metadata": {},
     "outputs": []
    },
    {
     "cell_type": "code",
     "collapsed": false,
     "input": [
      "print d.ph_sel\n",
      "dplot(d, hist_fret);"
     ],
     "language": "python",
     "metadata": {},
     "outputs": []
    },
    {
     "cell_type": "code",
     "collapsed": false,
     "input": [
      "def normpdf(x, mu=0, sigma=1.):\n",
      "    \"\"\"Return the normal pdf evaluated at `x`.\"\"\"\n",
      "    assert sigma > 0\n",
      "    u = (x-mu)/sigma\n",
      "    y = 1/(np.sqrt(2*np.pi)*sigma)*np.exp(-u*u/2)\n",
      "    return y"
     ],
     "language": "python",
     "metadata": {},
     "outputs": []
    },
    {
     "cell_type": "code",
     "collapsed": false,
     "input": [
      "d_aa = Sel(d, select_bursts.S, S2=0.2)\n",
      "ds_aa = Sel(d_aa, select_bursts.naa, th1=20)\n",
      "ds_aa.num_bursts()"
     ],
     "language": "python",
     "metadata": {},
     "outputs": []
    },
    {
     "cell_type": "code",
     "collapsed": false,
     "input": [
      "d.burst_search_t(ph_sel=Ph_sel('all'))\n",
      "ds_t = Sel(d, select_bursts.size, add_naa=True, th1=30)\n",
      "ds_tao = Sel(ds_t, select_bursts.S, S2=0.2)"
     ],
     "language": "python",
     "metadata": {},
     "outputs": []
    },
    {
     "cell_type": "code",
     "collapsed": false,
     "input": [
      "dx = ds_t\n",
      "\n",
      "from mpl_toolkits.axes_grid1 import AxesGrid\n",
      "fig = plt.figure(figsize=(14, 6))\n",
      "grid = AxesGrid(fig, 111, # similar to subplot(132)\n",
      "                nrows_ncols = (1, 2),\n",
      "                axes_pad = 0.4,\n",
      "                share_all=False,\n",
      "                label_mode = \"L\",\n",
      "                cbar_location = \"left\",\n",
      "                cbar_mode=\"single\",\n",
      "                cbar_size=\"7%\",\n",
      "                cbar_pad=\"10%\",\n",
      "                )\n",
      "\n",
      "hist2d_alex(dx, scatter_alpha=0.05, ax=grid[0], cbar_ax=grid.cbar_axes[0])\n",
      "dplot(dx, scatter_alex, ax=grid[1])\n",
      "#grid[1].set_xlim(-1.5, 2.5)\n",
      "grid[1].set_xlim(-1, 2)"
     ],
     "language": "python",
     "metadata": {},
     "outputs": []
    },
    {
     "cell_type": "code",
     "collapsed": false,
     "input": [
      "dx = ds_aa\n",
      "\n",
      "fig = plt.figure(figsize=(14, 6))\n",
      "grid = AxesGrid(fig, 111, # similar to subplot(132)\n",
      "                nrows_ncols = (1, 2),\n",
      "                axes_pad = 0.4,\n",
      "                share_all=False,\n",
      "                label_mode = \"L\",\n",
      "                cbar_location = \"left\",\n",
      "                cbar_mode=\"single\",\n",
      "                cbar_size=\"7%\",\n",
      "                cbar_pad=\"10%\",\n",
      "                )\n",
      "\n",
      "hist2d_alex(dx, scatter_alpha=0.05, ax=grid[0], cbar_ax=grid.cbar_axes[0])\n",
      "dplot(dx, scatter_alex, ax=grid[1])\n",
      "#grid[1].set_xlim(-1.5, 2.5)\n",
      "grid[1].set_xlim(-1, 2)"
     ],
     "language": "python",
     "metadata": {},
     "outputs": []
    },
    {
     "cell_type": "code",
     "collapsed": false,
     "input": [
      "dir_ex = ds_aa.na[0]/ds_aa.naa[0]\n",
      "D_ratio =  ds_aa.na[0]/( ds_aa.naa[0] + ds_aa.na[0])"
     ],
     "language": "python",
     "metadata": {},
     "outputs": []
    },
    {
     "cell_type": "code",
     "collapsed": false,
     "input": [
      "dir_ex2 = ds_tao.na[0]/ds_tao.naa[0]"
     ],
     "language": "python",
     "metadata": {},
     "outputs": []
    },
    {
     "cell_type": "code",
     "collapsed": false,
     "input": [
      "mu = dir_ex.mean()\n",
      "sig = dir_ex.std()\n",
      "\n",
      "x = np.arange(-0.2, 0.3, 0.001)\n",
      "y = normpdf(x, mu, sig)\n",
      "dir_ex_aa = mu\n",
      "\n",
      "dir_hist, dir_bins = np.histogram(dir_ex, bins=np.r_[-0.2 : 0.3 : 0.01], density=True)\n",
      "dir_ax = dir_bins[:-1] + 0.5*(dir_bins[1] - dir_bins[0])\n",
      "plt.plot(dir_ax, dir_hist, '-o');\n",
      "plt.plot(x, y, 'g');\n",
      "plt.axvline(dir_ex_aa, ls='--', color='r')\n",
      "plt.grid(True)\n",
      "print 'Fitted direct excitation (na/naa):', dir_ex_aa"
     ],
     "language": "python",
     "metadata": {},
     "outputs": []
    },
    {
     "cell_type": "code",
     "collapsed": false,
     "input": [
      "mu = dir_ex2.mean()\n",
      "sig = dir_ex2.std()\n",
      "\n",
      "x = np.arange(-0.2, 0.3, 0.001)\n",
      "y = normpdf(x, mu, sig)\n",
      "dir_ex_aa2 = mu\n",
      "dir_hist, dir_bins = np.histogram(dir_ex2, bins=np.r_[-0.2 : 0.3 : 0.01], density=True)\n",
      "dir_ax = dir_bins[:-1] + 0.5*(dir_bins[1] - dir_bins[0])\n",
      "plt.plot(dir_ax, dir_hist, '-o');\n",
      "plt.plot(x, y, 'g');\n",
      "plt.axvline(dir_ex_aa2, ls='--', color='r')\n",
      "plt.grid(True)\n",
      "print 'Fitted direct excitation (na/naa):', dir_ex_aa2"
     ],
     "language": "python",
     "metadata": {},
     "outputs": []
    },
    {
     "cell_type": "markdown",
     "metadata": {},
     "source": [
      "# Save data to file"
     ]
    },
    {
     "cell_type": "code",
     "collapsed": false,
     "input": [
      "%cd $NOTEBOOK_DIR"
     ],
     "language": "python",
     "metadata": {},
     "outputs": []
    },
    {
     "cell_type": "code",
     "collapsed": false,
     "input": [
      "sample = data_id\n",
      "n_bursts_aa = ds_aa.num_bursts()[0]"
     ],
     "language": "python",
     "metadata": {},
     "outputs": []
    },
    {
     "cell_type": "markdown",
     "metadata": {},
     "source": [
      "The following string contains the list of variables to be saved. When saving, the order of the variables is preserved."
     ]
    },
    {
     "cell_type": "code",
     "collapsed": false,
     "input": [
      "variables = 'sample n_bursts_aa dir_ex_aa\\n'"
     ],
     "language": "python",
     "metadata": {},
     "outputs": []
    },
    {
     "cell_type": "markdown",
     "metadata": {},
     "source": [
      "This is just a trick to format the different variables:"
     ]
    },
    {
     "cell_type": "code",
     "collapsed": false,
     "input": [
      "var_dict = {name: eval(name) for name in variables.split()}\n",
      "var_fmt = ' '.join(['{%s}' % name for name in variables.split()]) + '\\n'\n",
      "data_str = var_fmt.format(**var_dict)"
     ],
     "language": "python",
     "metadata": {},
     "outputs": []
    },
    {
     "cell_type": "code",
     "collapsed": false,
     "input": [
      "data_str = var_fmt.format(**var_dict)"
     ],
     "language": "python",
     "metadata": {},
     "outputs": []
    },
    {
     "cell_type": "code",
     "collapsed": false,
     "input": [
      "print variables\n",
      "print data_str"
     ],
     "language": "python",
     "metadata": {},
     "outputs": []
    },
    {
     "cell_type": "code",
     "collapsed": false,
     "input": [
      "# NOTE: The file name should be the notebook name but with .txt extension\n",
      "with open('results/usALEX-5samples-PR-raw-dir_ex_aa-fit-all-ph.txt', 'a') as f:\n",
      "    f.seek(0, 2)\n",
      "    if f.tell() == 0:\n",
      "        f.write(variables)\n",
      "    f.write(data_str)"
     ],
     "language": "python",
     "metadata": {},
     "outputs": []
    },
    {
     "cell_type": "code",
     "collapsed": false,
     "input": [],
     "language": "python",
     "metadata": {},
     "outputs": []
    }
   ],
   "metadata": {}
  }
 ]
}