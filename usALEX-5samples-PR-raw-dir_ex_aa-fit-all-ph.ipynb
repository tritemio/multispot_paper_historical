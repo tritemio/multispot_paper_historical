{
 "metadata": {
  "name": "",
  "signature": "sha256:0190442f716670c9c8b13f90d689c0c6f879ead639414d6c317e4ac872cc25bb"
 },
 "nbformat": 3,
 "nbformat_minor": 0,
 "worksheets": [
  {
   "cells": [
    {
     "cell_type": "markdown",
     "metadata": {},
     "source": [
      "# usALEX-5samples - Template\n",
      "\n",
      "> *This notebook is a template that is executed by [usALEX-Batch](usALEX-Batch.ipynb) in order to fit E and S values of the FRET population for all the 5 smFRET samples.*\n",
      ">\n",
      "> *This notebook reads the environment variable NB_DATA_FILE to select which file to process.*"
     ]
    },
    {
     "cell_type": "markdown",
     "metadata": {},
     "source": [
      "## Load software and filenames definitions"
     ]
    },
    {
     "cell_type": "code",
     "collapsed": false,
     "input": [
      "%run load_fretbursts.py --nogui"
     ],
     "language": "python",
     "metadata": {},
     "outputs": []
    },
    {
     "cell_type": "markdown",
     "metadata": {},
     "source": [
      "Data folder:"
     ]
    },
    {
     "cell_type": "code",
     "collapsed": false,
     "input": [
      "#data_dir = r'C:\\Data\\Antonio\\data\\8-spot 5samples data/2012-12-06/'\n",
      "data_dir = NOTEBOOK_DIR + '/data/2012-11-26/'"
     ],
     "language": "python",
     "metadata": {},
     "outputs": []
    },
    {
     "cell_type": "markdown",
     "metadata": {},
     "source": [
      "Check that the folder exists:"
     ]
    },
    {
     "cell_type": "code",
     "collapsed": false,
     "input": [
      "data_dir = os.path.abspath(data_dir) + '/'\n",
      "assert os.path.exists(data_dir), \"Path '%s' does not exist.\" % data_dir"
     ],
     "language": "python",
     "metadata": {},
     "outputs": []
    },
    {
     "cell_type": "markdown",
     "metadata": {},
     "source": [
      "List of data files in `data_dir`:"
     ]
    },
    {
     "cell_type": "code",
     "collapsed": false,
     "input": [
      "from glob import glob"
     ],
     "language": "python",
     "metadata": {},
     "outputs": []
    },
    {
     "cell_type": "code",
     "collapsed": false,
     "input": [
      "file_list = sorted(glob(data_dir + '*.hdf5'))\n",
      "file_list"
     ],
     "language": "python",
     "metadata": {},
     "outputs": []
    },
    {
     "cell_type": "code",
     "collapsed": false,
     "input": [
      "## Selection for POLIMI 2012-12-6 dataset\n",
      "# file_list.pop(2)\n",
      "# file_list = file_list[1:-2]\n",
      "# display(file_list)\n",
      "# labels = ['22d', '27d', '17d', '12d', '7d']"
     ],
     "language": "python",
     "metadata": {},
     "outputs": []
    },
    {
     "cell_type": "code",
     "collapsed": false,
     "input": [
      "## Selection for P.E. 2012-12-6 dataset\n",
      "# file_list.pop(1)\n",
      "# file_list = file_list[:-1]\n",
      "# display(file_list)\n",
      "# labels = ['22d', '27d', '17d', '12d', '7d']"
     ],
     "language": "python",
     "metadata": {},
     "outputs": []
    },
    {
     "cell_type": "code",
     "collapsed": false,
     "input": [
      "## Selection for POLIMI 2012-11-26 datatset\n",
      "labels = ['17d', '27d', '7d', '12d', '22d']"
     ],
     "language": "python",
     "metadata": {},
     "outputs": []
    },
    {
     "cell_type": "code",
     "collapsed": false,
     "input": [
      "files_dict = {lab: fname for lab, fname in zip(labels, file_list)}\n",
      "files_dict"
     ],
     "language": "python",
     "metadata": {},
     "outputs": []
    },
    {
     "cell_type": "markdown",
     "metadata": {},
     "source": [
      "Select a particular dataset based on environment variable `NB_DATA_FILE`:"
     ]
    },
    {
     "cell_type": "code",
     "collapsed": false,
     "input": [
      "if 'NB_DATA_FILE' in os.environ:\n",
      "    data_id = os.environ['NB_DATA_FILE']\n",
      "else:\n",
      "    data_id = '17d'\n",
      "data_id"
     ],
     "language": "python",
     "metadata": {},
     "outputs": []
    },
    {
     "cell_type": "markdown",
     "metadata": {},
     "source": [
      "## Data load"
     ]
    },
    {
     "cell_type": "markdown",
     "metadata": {},
     "source": [
      "Initial loading of the data:"
     ]
    },
    {
     "cell_type": "code",
     "collapsed": false,
     "input": [
      "d = loader.hdf5(fname=files_dict[data_id])"
     ],
     "language": "python",
     "metadata": {},
     "outputs": []
    },
    {
     "cell_type": "markdown",
     "metadata": {},
     "source": [
      "## Laser alternation selection\n",
      "\n",
      "At this point we have only the timestamps and the detector numbers:"
     ]
    },
    {
     "cell_type": "code",
     "collapsed": false,
     "input": [
      "d.ph_times_t, d.det_t"
     ],
     "language": "python",
     "metadata": {},
     "outputs": []
    },
    {
     "cell_type": "markdown",
     "metadata": {},
     "source": [
      "We need to define some parameters: donor and acceptor ch, excitation period and donor and acceptor excitiations:"
     ]
    },
    {
     "cell_type": "code",
     "collapsed": false,
     "input": [
      "d.add(det_donor_accept=(0, 1), alex_period=4000, D_ON=(2850, 580), A_ON=(900, 2580))"
     ],
     "language": "python",
     "metadata": {},
     "outputs": []
    },
    {
     "cell_type": "markdown",
     "metadata": {},
     "source": [
      "We should check if everithing is OK with an alternation histogram:"
     ]
    },
    {
     "cell_type": "code",
     "collapsed": false,
     "input": [
      "plot_alternation_hist(d)"
     ],
     "language": "python",
     "metadata": {},
     "outputs": []
    },
    {
     "cell_type": "markdown",
     "metadata": {},
     "source": [
      "If the plot looks good we can apply the parameters with:"
     ]
    },
    {
     "cell_type": "code",
     "collapsed": false,
     "input": [
      "loader.usalex_apply_period(d)"
     ],
     "language": "python",
     "metadata": {},
     "outputs": []
    },
    {
     "cell_type": "markdown",
     "metadata": {},
     "source": [
      "##Measurements infos"
     ]
    },
    {
     "cell_type": "markdown",
     "metadata": {},
     "source": [
      "All the measurement data is in the `d` variable. We can print it:"
     ]
    },
    {
     "cell_type": "code",
     "collapsed": false,
     "input": [
      "d"
     ],
     "language": "python",
     "metadata": {},
     "outputs": []
    },
    {
     "cell_type": "markdown",
     "metadata": {},
     "source": [
      "Or check the **measurements duration**:"
     ]
    },
    {
     "cell_type": "code",
     "collapsed": false,
     "input": [
      "d.time_max()"
     ],
     "language": "python",
     "metadata": {},
     "outputs": []
    },
    {
     "cell_type": "markdown",
     "metadata": {},
     "source": [
      "##Compute background"
     ]
    },
    {
     "cell_type": "markdown",
     "metadata": {},
     "source": [
      "Compute the background using automatic threshold:"
     ]
    },
    {
     "cell_type": "code",
     "collapsed": false,
     "input": [
      "d.calc_bg(bg.exp_fit, time_s=60, tail_min_us='auto', F_bg=1.7)"
     ],
     "language": "python",
     "metadata": {},
     "outputs": []
    },
    {
     "cell_type": "code",
     "collapsed": false,
     "input": [
      "dplot(d, timetrace_bg)"
     ],
     "language": "python",
     "metadata": {},
     "outputs": []
    },
    {
     "cell_type": "code",
     "collapsed": false,
     "input": [
      "d.rate_m, d.rate_dd, d.rate_ad, d.rate_aa"
     ],
     "language": "python",
     "metadata": {},
     "outputs": []
    },
    {
     "cell_type": "markdown",
     "metadata": {},
     "source": [
      "#Burst search and burst selection"
     ]
    },
    {
     "cell_type": "code",
     "collapsed": false,
     "input": [
      "from mpl_toolkits.axes_grid1 import AxesGrid\n",
      "import lmfit\n",
      "print 'lmfit version:', lmfit.__version__"
     ],
     "language": "python",
     "metadata": {},
     "outputs": []
    },
    {
     "cell_type": "code",
     "collapsed": false,
     "input": [
      "assert d.dir_ex == 0\n",
      "assert d.leakage == 0"
     ],
     "language": "python",
     "metadata": {},
     "outputs": []
    },
    {
     "cell_type": "code",
     "collapsed": false,
     "input": [
      "d.burst_search_t(m=10, F=6, ph_sel=Ph_sel('all'))"
     ],
     "language": "python",
     "metadata": {},
     "outputs": []
    },
    {
     "cell_type": "code",
     "collapsed": false,
     "input": [
      "print d.ph_sel, d.num_bursts"
     ],
     "language": "python",
     "metadata": {},
     "outputs": []
    },
    {
     "cell_type": "code",
     "collapsed": false,
     "input": [
      "ds_sa = Sel(d, select_bursts.naa, th1=30)\n",
      "ds_sa.num_bursts"
     ],
     "language": "python",
     "metadata": {},
     "outputs": []
    },
    {
     "cell_type": "code",
     "collapsed": false,
     "input": [
      "mask = (d.naa[0] - np.abs(d.na[0] + d.nd[0])) > 30\n",
      "ds_saw = Sel_mask_apply(d, [mask])\n",
      "\n",
      "ds_sas0 = Sel(ds_sa, select_bursts.S, S2=0.10)\n",
      "ds_sas = Sel(ds_sa, select_bursts.S, S2=0.15)\n",
      "ds_sas2 = Sel(ds_sa, select_bursts.S, S2=0.20)\n",
      "ds_sas3 = Sel(ds_sa, select_bursts.S, S2=0.25)\n",
      "\n",
      "ds_st = Sel(d, select_bursts.size, add_naa=True, th1=30)\n",
      "ds_sas.num_bursts"
     ],
     "language": "python",
     "metadata": {},
     "outputs": []
    },
    {
     "cell_type": "code",
     "collapsed": false,
     "input": [
      "dx = ds_sas0\n",
      "size = dx.na[0] + dx.nd[0]\n",
      "s_hist, s_bins = np.histogram(size, bins=np.r_[-15 : 25 : 1], density=True)\n",
      "s_ax = s_bins[:-1] + 0.5*(s_bins[1] - s_bins[0])\n",
      "plot(s_ax, s_hist, '-o', alpha=0.5)\n",
      "\n",
      "dx = ds_sas\n",
      "size = dx.na[0] + dx.nd[0]\n",
      "s_hist, s_bins = np.histogram(size, bins=np.r_[-15 : 25 : 1], density=True)\n",
      "s_ax = s_bins[:-1] + 0.5*(s_bins[1] - s_bins[0])\n",
      "plot(s_ax, s_hist, '-o', alpha=0.5)\n",
      "\n",
      "dx = ds_sas2\n",
      "size = dx.na[0] + dx.nd[0]\n",
      "s_hist, s_bins = np.histogram(size, bins=np.r_[-15 : 25 : 1], density=True)\n",
      "s_ax = s_bins[:-1] + 0.5*(s_bins[1] - s_bins[0])\n",
      "plot(s_ax, s_hist, '-o', alpha=0.5)\n",
      "\n",
      "dx = ds_sas3\n",
      "size = dx.na[0] + dx.nd[0]\n",
      "s_hist, s_bins = np.histogram(size, bins=np.r_[-15 : 25 : 1], density=True)\n",
      "s_ax = s_bins[:-1] + 0.5*(s_bins[1] - s_bins[0])\n",
      "plot(s_ax, s_hist, '-o', alpha=0.5)\n",
      "\n",
      "plt.title('(nd + na) for A-only population using different S cutoff');"
     ],
     "language": "python",
     "metadata": {},
     "outputs": []
    },
    {
     "cell_type": "code",
     "collapsed": false,
     "input": [
      "dx = ds_sa\n",
      "\n",
      "fig = plt.figure(figsize=(14, 6))\n",
      "grid = AxesGrid(fig, 111, # similar to subplot(132)\n",
      "                nrows_ncols = (1, 2),\n",
      "                axes_pad = 0.4,\n",
      "                share_all=False,\n",
      "                label_mode = \"L\",\n",
      "                cbar_location = \"left\",\n",
      "                cbar_mode=\"single\",\n",
      "                cbar_size=\"7%\",\n",
      "                cbar_pad=\"10%\",\n",
      "                )\n",
      "\n",
      "hist2d_alex(dx, scatter_alpha=0.05, ax=grid[0], cbar_ax=grid.cbar_axes[0])\n",
      "dplot(dx, scatter_alex, ax=grid[1])\n",
      "grid[1].set_xlim(-1, 2);"
     ],
     "language": "python",
     "metadata": {},
     "outputs": []
    },
    {
     "cell_type": "code",
     "collapsed": false,
     "input": [
      "dplot(ds_sa, hist_S)"
     ],
     "language": "python",
     "metadata": {},
     "outputs": []
    },
    {
     "cell_type": "code",
     "collapsed": false,
     "input": [
      "dx = ds_sa\n",
      "\n",
      "bin_width = 0.03\n",
      "bandwidth = 0.03\n",
      "bins = np.r_[-0.2 : 1 : bin_width]\n",
      "x_kde = np.arange(bins.min(), bins.max(), 0.0002)"
     ],
     "language": "python",
     "metadata": {},
     "outputs": []
    },
    {
     "cell_type": "code",
     "collapsed": false,
     "input": [
      "## Weights\n",
      "weights = None\n",
      "\n",
      "## Histogram fit\n",
      "fitter_g = mfit.MultiFitter(dx.S)\n",
      "fitter_g.histogram(bins=np.r_[-0.2 : 1.2 : bandwidth])\n",
      "fitter_g.fit_histogram(model = mfit.factory_two_gaussians(p1_center=0.1, p2_center=0.4))\n",
      "S_hist_orig = fitter_g.hist_pdf\n",
      "\n",
      "S_2peaks = fitter_g.params.loc[0, 'p1_center']\n",
      "dir_ex_S2p = S_2peaks/(1 - S_2peaks)\n",
      "print 'Fitted direct excitation (na/naa) [2-Gauss]:', dir_ex_S2p\n",
      "\n",
      "## KDE\n",
      "fitter_g.calc_kde(bandwidth=bandwidth)\n",
      "fitter_g.find_kde_max(x_kde, xmin=0, xmax=0.15)\n",
      "\n",
      "S_peak = fitter_g.kde_max_pos[0]\n",
      "dir_ex_S_kde = S_peak/(1 - S_peak)\n",
      "print 'Fitted direct excitation (na/naa) [KDE]:    ', dir_ex_S_kde"
     ],
     "language": "python",
     "metadata": {},
     "outputs": []
    },
    {
     "cell_type": "code",
     "collapsed": false,
     "input": [
      "fig, ax = plt.subplots(1, 2, figsize=(14, 4.5))\n",
      "\n",
      "mfit.plot_mfit(fitter_g, ax=ax[0])\n",
      "ax[0].set_title('2-Gaussians fit (S_fit = %.2f %%)' % (S_2peaks*100))\n",
      "\n",
      "mfit.plot_mfit(fitter_g, ax=ax[1], plot_model=False, plot_kde=True)\n",
      "ax[1].set_title('KDE fit (S_fit = %.2f %%)' % (S_peak*100));"
     ],
     "language": "python",
     "metadata": {},
     "outputs": []
    },
    {
     "cell_type": "code",
     "collapsed": false,
     "input": [
      "## 2-Asym-Gaussian\n",
      "fitter_ag = mfit.MultiFitter(dx.S)\n",
      "fitter_ag.histogram(bins=np.r_[-0.2 : 1.2 : bandwidth])\n",
      "fitter_ag.fit_histogram(model = mfit.factory_two_asym_gaussians(p1_center=0.1, p2_center=0.4))\n",
      "#print(fitter_ag.fit_obj[0].model.fit_report())\n",
      "\n",
      "S_2peaks_a = fitter_ag.params.loc[0, 'p1_center']\n",
      "dir_ex_S2pa = S_2peaks_a/(1 - S_2peaks_a)\n",
      "print 'Fitted direct excitation (na/naa) [2-Gauss]:', dir_ex_S2pa"
     ],
     "language": "python",
     "metadata": {},
     "outputs": []
    },
    {
     "cell_type": "code",
     "collapsed": false,
     "input": [
      "fig, ax = plt.subplots(1, 2, figsize=(14, 4.5))\n",
      "\n",
      "mfit.plot_mfit(fitter_g, ax=ax[0])\n",
      "ax[0].set_title('2-Gaussians fit (S_fit = %.2f %%)' % (S_2peaks*100))\n",
      "\n",
      "mfit.plot_mfit(fitter_ag, ax=ax[1])\n",
      "ax[1].set_title('2-Asym-Gaussians fit (S_fit = %.2f %%)' % (S_2peaks_a*100));"
     ],
     "language": "python",
     "metadata": {},
     "outputs": []
    },
    {
     "cell_type": "code",
     "collapsed": false,
     "input": [
      "def plot_weights(x, weights, ax):\n",
      "    ax2 = ax.twinx()\n",
      "    x_sort = x.argsort()\n",
      "    ax2.plot(x[x_sort], weights[x_sort], color='k', lw=4, alpha=0.4)\n",
      "    ax2.set_ylabel('Weights');"
     ],
     "language": "python",
     "metadata": {},
     "outputs": []
    },
    {
     "cell_type": "code",
     "collapsed": false,
     "input": [
      "dx = ds_sa\n",
      "\n",
      "## Weights\n",
      "weights = 1 - mfit.gaussian(dx.S[0], fitter_g.params.loc[0, 'p2_center'], fitter_g.params.loc[0, 'p2_sigma'])\n",
      "weights[dx.S[0] >= fitter_g.params.loc[0, 'p2_center']] = 0\n",
      "\n",
      "## Histogram fit\n",
      "fitter_w1 = mfit.MultiFitter(dx.S)\n",
      "fitter_w1.weights = [weights]\n",
      "fitter_w1.histogram(bins=np.r_[-0.2 : 1.2 : bandwidth])\n",
      "fitter_w1.fit_histogram(model = mfit.factory_two_gaussians(p1_center=0.1, p2_center=0.4))\n",
      "S_2peaks_w1 = fitter_w1.params.loc[0, 'p1_center']\n",
      "dir_ex_S2p_w1 = S_2peaks_w1/(1 - S_2peaks_w1)\n",
      "print 'Fitted direct excitation (na/naa) [2-Gauss]:', dir_ex_S2p_w1\n",
      "\n",
      "## KDE\n",
      "fitter_w1.calc_kde(bandwidth=bandwidth)\n",
      "fitter_w1.find_kde_max(x_kde, xmin=0, xmax=0.15)\n",
      "S_peak_w1 = fitter_w1.kde_max_pos[0]\n",
      "dir_ex_S_kde_w1 = S_peak_w1/(1 - S_peak_w1)\n",
      "print 'Fitted direct excitation (na/naa) [KDE]:    ', dir_ex_S_kde_w1"
     ],
     "language": "python",
     "metadata": {},
     "outputs": []
    },
    {
     "cell_type": "code",
     "collapsed": false,
     "input": [
      "fig, ax = plt.subplots(1, 2, figsize=(14, 4.5))\n",
      "mfit.plot_mfit(fitter_w1, ax=ax[0])\n",
      "mfit.plot_mfit(fitter_g, ax=ax[0], plot_model=False, plot_kde=False)\n",
      "plot_weights(dx.S[0], weights, ax=ax[0])\n",
      "ax[0].set_title('2-Gaussians fit (S_fit = %.2f %%)' % (S_2peaks_w1*100))\n",
      "\n",
      "mfit.plot_mfit(fitter_w1, ax=ax[1], plot_model=False, plot_kde=True)\n",
      "mfit.plot_mfit(fitter_g, ax=ax[1], plot_model=False, plot_kde=False)\n",
      "plot_weights(dx.S[0], weights, ax=ax[1])\n",
      "ax[1].set_title('KDE fit (S_fit = %.2f %%)' % (S_peak_w1*100));"
     ],
     "language": "python",
     "metadata": {},
     "outputs": []
    },
    {
     "cell_type": "code",
     "collapsed": false,
     "input": [
      "## Weights\n",
      "sizes = dx.nd[0] + dx.na[0] #- dir_ex_S_kde_w3*dx.naa[0]\n",
      "weights = dx.naa[0] - abs(sizes)\n",
      "weights[weights < 0] = 0\n",
      "\n",
      "## Histogram\n",
      "fitter_w4 = mfit.MultiFitter(dx.S)\n",
      "fitter_w4.weights = [weights]\n",
      "fitter_w4.histogram(bins=np.r_[-0.2 : 1.2 : bandwidth])\n",
      "fitter_w4.fit_histogram(model = mfit.factory_two_gaussians(p1_center=0.1, p2_center=0.4))\n",
      "S_2peaks_w4 = fitter_w4.params.loc[0, 'p1_center']\n",
      "dir_ex_S2p_w4 = S_2peaks_w4/(1 - S_2peaks_w4)\n",
      "print 'Fitted direct excitation (na/naa) [2-Gauss]:', dir_ex_S2p_w4\n",
      "\n",
      "## KDE\n",
      "fitter_w4.calc_kde(bandwidth=bandwidth)\n",
      "fitter_w4.find_kde_max(x_kde, xmin=0, xmax=0.15)\n",
      "S_peak_w4 = fitter_w4.kde_max_pos[0]\n",
      "dir_ex_S_kde_w4 = S_peak_w4/(1 - S_peak_w4)\n",
      "print 'Fitted direct excitation (na/naa) [KDE]:    ', dir_ex_S_kde_w4"
     ],
     "language": "python",
     "metadata": {},
     "outputs": []
    },
    {
     "cell_type": "code",
     "collapsed": false,
     "input": [
      "fig, ax = plt.subplots(1, 2, figsize=(14, 4.5))\n",
      "\n",
      "mfit.plot_mfit(fitter_w4, ax=ax[0])\n",
      "mfit.plot_mfit(fitter_g, ax=ax[0], plot_model=False, plot_kde=False)\n",
      "#plot_weights(dx.S[0], weights, ax=ax[0])\n",
      "ax[0].set_title('2-Gaussians fit (S_fit = %.2f %%)' % (S_2peaks_w4*100))\n",
      "\n",
      "mfit.plot_mfit(fitter_w4, ax=ax[1], plot_model=False, plot_kde=True)\n",
      "mfit.plot_mfit(fitter_g, ax=ax[1], plot_model=False, plot_kde=False)\n",
      "#plot_weights(dx.S[0], weights, ax=ax[1])\n",
      "ax[1].set_title('KDE fit (S_fit = %.2f %%)' % (S_peak_w4*100));"
     ],
     "language": "python",
     "metadata": {},
     "outputs": []
    },
    {
     "cell_type": "code",
     "collapsed": false,
     "input": [
      "mask = (d.naa[0] - np.abs(d.na[0] + d.nd[0])) > 30\n",
      "ds_saw = Sel_mask_apply(d, [mask])\n",
      "print ds_saw.num_bursts\n",
      "\n",
      "dx = ds_saw\n",
      "\n",
      "## Weights\n",
      "weights = None\n",
      "\n",
      "## 2-Gaussians\n",
      "fitter_w5 = mfit.MultiFitter(dx.S)\n",
      "fitter_w5.histogram(bins=np.r_[-0.2 : 1.2 : bandwidth])\n",
      "fitter_w5.fit_histogram(model = mfit.factory_two_gaussians(p1_center=0.1, p2_center=0.4))\n",
      "S_2peaks_w5 = fitter_w5.params.loc[0, 'p1_center']\n",
      "dir_ex_S2p_w5 = S_2peaks_w5/(1 - S_2peaks_w5)\n",
      "print 'Fitted direct excitation (na/naa) [2-Gauss]:', dir_ex_S2p_w5\n",
      "\n",
      "## KDE\n",
      "fitter_w5.calc_kde(bandwidth=bandwidth)\n",
      "fitter_w5.find_kde_max(x_kde, xmin=0, xmax=0.15)\n",
      "S_peak_w5 = fitter_w4.kde_max_pos[0]\n",
      "dir_ex_S_kde_w5 = S_peak_w5/(1 - S_peak_w5)\n",
      "print 'Fitted direct excitation (na/naa) [KDE]:    ', dir_ex_S_kde_w5\n",
      "\n",
      "## 2-Asym-Gaussians\n",
      "fitter_w5a = mfit.MultiFitter(dx.S)\n",
      "fitter_w5a.histogram(bins=np.r_[-0.2 : 1.2 : bandwidth])\n",
      "fitter_w5a.fit_histogram(model = mfit.factory_two_asym_gaussians(p1_center=0.05, p2_center=0.3))\n",
      "S_2peaks_w5a = fitter_w5a.params.loc[0, 'p1_center']\n",
      "dir_ex_S2p_w5a = S_2peaks_w5a/(1 - S_2peaks_w5a)\n",
      "#print(fitter_w5a.fit_obj[0].model.fit_report(min_correl=0.5))\n",
      "print 'Fitted direct excitation (na/naa) [2-Asym-Gauss]:', dir_ex_S2p_w5a"
     ],
     "language": "python",
     "metadata": {},
     "outputs": []
    },
    {
     "cell_type": "code",
     "collapsed": false,
     "input": [
      "fig, ax = plt.subplots(1, 3, figsize=(19, 4.5))\n",
      "\n",
      "mfit.plot_mfit(fitter_w5, ax=ax[0])\n",
      "mfit.plot_mfit(fitter_g, ax=ax[0], plot_model=False, plot_kde=False)\n",
      "ax[0].set_title('2-Gaussians fit (S_fit = %.2f %%)' % (S_2peaks_w5*100))\n",
      "\n",
      "mfit.plot_mfit(fitter_w5, ax=ax[1], plot_model=False, plot_kde=True)\n",
      "mfit.plot_mfit(fitter_g, ax=ax[1], plot_model=False, plot_kde=False)\n",
      "ax[1].set_title('KDE fit (S_fit = %.2f %%)' % (S_peak_w5*100));\n",
      "\n",
      "mfit.plot_mfit(fitter_w5a, ax=ax[2])\n",
      "mfit.plot_mfit(fitter_g, ax=ax[2], plot_model=False, plot_kde=False)\n",
      "ax[2].set_title('2-Asym-Gaussians fit (S_fit = %.2f %%)' % (S_2peaks_w5a*100));"
     ],
     "language": "python",
     "metadata": {},
     "outputs": []
    },
    {
     "cell_type": "markdown",
     "metadata": {},
     "source": [
      "# Save data to file"
     ]
    },
    {
     "cell_type": "code",
     "collapsed": false,
     "input": [
      "%cd $NOTEBOOK_DIR"
     ],
     "language": "python",
     "metadata": {},
     "outputs": []
    },
    {
     "cell_type": "code",
     "collapsed": false,
     "input": [
      "sample = data_id\n",
      "n_bursts_aa = ds_sas.num_bursts[0]"
     ],
     "language": "python",
     "metadata": {},
     "outputs": []
    },
    {
     "cell_type": "markdown",
     "metadata": {},
     "source": [
      "The following string contains the list of variables to be saved. When saving, the order of the variables is preserved."
     ]
    },
    {
     "cell_type": "code",
     "collapsed": false,
     "input": [
      "variables = ('sample n_bursts_aa dir_ex_S_kde dir_ex_S2p dir_ex_S2pa '\n",
      "             'dir_ex_S_kde_w1 dir_ex_S_kde_w4 dir_ex_S_kde_w5 dir_ex_S2p_w5 dir_ex_S2p_w5a\\n')"
     ],
     "language": "python",
     "metadata": {},
     "outputs": []
    },
    {
     "cell_type": "markdown",
     "metadata": {},
     "source": [
      "This is just a trick to format the different variables:"
     ]
    },
    {
     "cell_type": "code",
     "collapsed": false,
     "input": [
      "var_dict = {name: eval(name) for name in variables.split()}\n",
      "var_fmt = ' '.join(['{%s}' % name for name in variables.split()]) + '\\n'\n",
      "data_str = var_fmt.format(**var_dict)"
     ],
     "language": "python",
     "metadata": {},
     "outputs": []
    },
    {
     "cell_type": "code",
     "collapsed": false,
     "input": [
      "data_str = var_fmt.format(**var_dict)"
     ],
     "language": "python",
     "metadata": {},
     "outputs": []
    },
    {
     "cell_type": "code",
     "collapsed": false,
     "input": [
      "print variables\n",
      "print data_str"
     ],
     "language": "python",
     "metadata": {},
     "outputs": []
    },
    {
     "cell_type": "code",
     "collapsed": false,
     "input": [
      "# NOTE: The file name should be the notebook name but with .txt extension\n",
      "with open('results/usALEX-5samples-PR-raw-dir_ex_aa-fit-all-ph.txt', 'a') as f:\n",
      "    f.seek(0, 2)\n",
      "    if f.tell() == 0:\n",
      "        f.write(variables)\n",
      "    f.write(data_str)"
     ],
     "language": "python",
     "metadata": {},
     "outputs": []
    },
    {
     "cell_type": "code",
     "collapsed": false,
     "input": [],
     "language": "python",
     "metadata": {},
     "outputs": []
    }
   ],
   "metadata": {}
  }
 ]
}