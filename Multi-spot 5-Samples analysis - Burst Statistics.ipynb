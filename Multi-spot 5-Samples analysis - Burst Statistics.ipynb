{
 "cells": [
  {
   "cell_type": "markdown",
   "metadata": {},
   "source": [
    "# Analysis of 5 smFRET samples\n",
    "\n",
    "Burst statistics."
   ]
  },
  {
   "cell_type": "markdown",
   "metadata": {},
   "source": [
    "## Load FRETBursts software"
   ]
  },
  {
   "cell_type": "code",
   "execution_count": null,
   "metadata": {
    "collapsed": false
   },
   "outputs": [],
   "source": [
    "from fretbursts import *\n",
    "sns = init_notebook()"
   ]
  },
  {
   "cell_type": "code",
   "execution_count": null,
   "metadata": {
    "collapsed": false
   },
   "outputs": [],
   "source": [
    "import os\n",
    "import pandas as pd\n",
    "from IPython.display import display"
   ]
  },
  {
   "cell_type": "code",
   "execution_count": null,
   "metadata": {
    "collapsed": false
   },
   "outputs": [],
   "source": [
    "import lmfit\n",
    "print('lmfit version:', lmfit.__version__)"
   ]
  },
  {
   "cell_type": "code",
   "execution_count": null,
   "metadata": {
    "collapsed": true
   },
   "outputs": [],
   "source": [
    "figure_size = (5, 4)\n",
    "default_figure = lambda: plt.subplots(figsize=figure_size)\n",
    "save_figures = True\n",
    "\n",
    "def savefig(filename, **kwargs):\n",
    "    if not save_figures:\n",
    "        return\n",
    "    import os\n",
    "    dir_ = 'figures/'\n",
    "    kwargs_ = dict(dpi=300, bbox_inches='tight')\n",
    "                   #frameon=True, facecolor='white', transparent=False)\n",
    "    kwargs_.update(kwargs)\n",
    "    plt.savefig(dir_ + filename, **kwargs_)"
   ]
  },
  {
   "cell_type": "markdown",
   "metadata": {},
   "source": [
    "## 8-spot paper plot style"
   ]
  },
  {
   "cell_type": "code",
   "execution_count": null,
   "metadata": {
    "collapsed": false
   },
   "outputs": [],
   "source": [
    "PLOT_DIR = './figure/'"
   ]
  },
  {
   "cell_type": "code",
   "execution_count": null,
   "metadata": {
    "collapsed": false
   },
   "outputs": [],
   "source": [
    "import matplotlib as mpl\n",
    "from cycler import cycler\n",
    "\n",
    "bmap = sns.color_palette(\"Set1\", 9)\n",
    "colors = np.array(bmap)[(1,0,2,3,4,8,6,7), :]\n",
    "mpl.rcParams['axes.prop_cycle'] = cycler('color', colors)\n",
    "colors_labels = ['blue', 'red', 'green', 'violet', 'orange', 'gray', 'brown', 'pink', ]\n",
    "for c, cl in zip(colors, colors_labels):\n",
    "    locals()[cl] = tuple(c) # assign variables with color names\n",
    "sns.palplot(colors)"
   ]
  },
  {
   "cell_type": "markdown",
   "metadata": {},
   "source": [
    "## Data files"
   ]
  },
  {
   "cell_type": "markdown",
   "metadata": {},
   "source": [
    "Data folder:"
   ]
  },
  {
   "cell_type": "code",
   "execution_count": null,
   "metadata": {
    "collapsed": false
   },
   "outputs": [],
   "source": [
    "data_dir = './data/multispot/'"
   ]
  },
  {
   "cell_type": "markdown",
   "metadata": {},
   "source": [
    "Check that the folder exists:"
   ]
  },
  {
   "cell_type": "code",
   "execution_count": null,
   "metadata": {
    "collapsed": false
   },
   "outputs": [],
   "source": [
    "data_dir = os.path.abspath(data_dir) + '/'\n",
    "assert os.path.exists(data_dir), \"Path '%s' does not exist.\" % data_dir"
   ]
  },
  {
   "cell_type": "markdown",
   "metadata": {},
   "source": [
    "List of data files in `data_dir`:"
   ]
  },
  {
   "cell_type": "code",
   "execution_count": null,
   "metadata": {
    "collapsed": true
   },
   "outputs": [],
   "source": [
    "from glob import glob\n",
    "file_list = sorted(glob(data_dir + '*.hdf5'))"
   ]
  },
  {
   "cell_type": "code",
   "execution_count": null,
   "metadata": {
    "collapsed": false
   },
   "outputs": [],
   "source": [
    "labels = ['7d', '12d', '17d', '22d', '27d', 'DO']\n",
    "files_dict = {lab: fname for lab, fname in zip(sorted(labels), file_list)}\n",
    "files_dict"
   ]
  },
  {
   "cell_type": "markdown",
   "metadata": {},
   "source": [
    "## Parameters from file"
   ]
  },
  {
   "cell_type": "markdown",
   "metadata": {},
   "source": [
    "Load the **leakage coefficient** from disk (computed in [Multi-spot 5-Samples analysis - Leakage coefficient - Summary](Multi-spot 5-Samples analysis - Leakage coefficient - Summary.ipynb)):"
   ]
  },
  {
   "cell_type": "code",
   "execution_count": null,
   "metadata": {
    "collapsed": false
   },
   "outputs": [],
   "source": [
    "leakage_coeff_fname = 'results/Multi-spot - leakage coefficient KDE wmean Dem.csv'\n",
    "leakage = np.loadtxt(leakage_coeff_fname, ndmin=1)\n",
    "\n",
    "print('Leakage coefficient:', leakage)"
   ]
  },
  {
   "cell_type": "markdown",
   "metadata": {},
   "source": [
    "Load the **direct excitation coefficient** ($d_{dirT}$) from disk (computed in [usALEX - Corrections - Direct excitation physical parameter](usALEX - Corrections - Direct excitation physical parameter.ipynb)):"
   ]
  },
  {
   "cell_type": "code",
   "execution_count": null,
   "metadata": {
    "collapsed": false
   },
   "outputs": [],
   "source": [
    "dir_ex_coeff_fname = 'results/usALEX - direct excitation coefficient dir_ex_t beta.csv'\n",
    "dir_ex_t = np.loadtxt(dir_ex_coeff_fname, ndmin=1)\n",
    "\n",
    "print('Direct excitation coefficient (dir_ex_t):', dir_ex_t)"
   ]
  },
  {
   "cell_type": "code",
   "execution_count": null,
   "metadata": {
    "collapsed": false
   },
   "outputs": [],
   "source": [
    "gamma_fname = 'results/Multi-spot - gamma factor.csv'\n",
    "gamma = np.loadtxt(gamma_fname, ndmin=1)\n",
    "\n",
    "print('Multispot Gamma Factor (gamma):', gamma)"
   ]
  },
  {
   "cell_type": "markdown",
   "metadata": {},
   "source": [
    "# dsDNA Samples Processing"
   ]
  },
  {
   "cell_type": "code",
   "execution_count": null,
   "metadata": {
    "collapsed": false
   },
   "outputs": [],
   "source": [
    "m = 10\n",
    "F = 6\n",
    "#leakage = leakage\n",
    "rate_th = 25e3\n",
    "ph_sel = Ph_sel(Dex='Dem')\n",
    "nt_th1 = 50\n",
    "bw_th1 = 1\n",
    "pr_th1 = 310\n",
    "E2 = 0.5 # threshold for selecting D-only population\n",
    "Th_nt = np.arange(25, 100)\n",
    "Th_bw = np.round(np.arange(0.5, 2, 0.1), 1)\n",
    "Th_pr = np.arange(150, 600, 10)\n",
    "bg_kwargs_auto = dict(fun=bg.exp_fit,\n",
    "                 time_s = 30,\n",
    "                 tail_min_us = 'auto',\n",
    "                 F_bg=1.7,)\n",
    "sel_do = 'unset'"
   ]
  },
  {
   "cell_type": "code",
   "execution_count": null,
   "metadata": {
    "collapsed": false
   },
   "outputs": [],
   "source": [
    "cols = np.arange(1, 9)\n",
    "s_th_ = pd.DataFrame(index=pd.Index(Th_nt, name='Size Threshold'), columns=cols)\n",
    "s_th_.columns.name = 'Spot'\n",
    "w_th_ = pd.DataFrame(index=pd.Index(Th_bw, name='Duration Threshold (ms)'), columns=cols)\n",
    "w_th_.columns.name = 'Spot'\n",
    "p_th_ = pd.DataFrame(index=pd.Index(Th_pr, name='Peak-Rate Threshold (kcps)'), columns=cols)\n",
    "p_th_.columns.name = 'Spot'"
   ]
  },
  {
   "cell_type": "code",
   "execution_count": null,
   "metadata": {
    "collapsed": true
   },
   "outputs": [],
   "source": [
    "s_F = {}\n",
    "s_R = {}\n",
    "w_F = {}\n",
    "w_R = {}\n",
    "p_F = {}\n",
    "p_R = {}\n",
    "bg1 = {}"
   ]
  },
  {
   "cell_type": "code",
   "execution_count": null,
   "metadata": {
    "collapsed": true
   },
   "outputs": [],
   "source": [
    "def burst_mean_vs_th(dx):\n",
    "    # globals: Th_nt, s_th_, Th_bw, w_th_, Th_pr, p_th_, m, ph_sel\n",
    "    nt_th, nt_th_n = s_th_.copy(), s_th_.copy()\n",
    "    for i, th in enumerate(Th_nt):\n",
    "        dx_th = dx.select_bursts(select_bursts.size, th1=th)\n",
    "        nt_th.iloc[i] = [(nd + na).mean() - th \n",
    "                         for nd, na in zip(dx_th.nd, dx_th.na)]\n",
    "        nt_th_n.iloc[i] = dx_th.num_bursts\n",
    "        \n",
    "    bw_th, bw_th_n = w_th_.copy(), w_th_.copy()\n",
    "    for i, th in enumerate(Th_bw):\n",
    "        dx_th = dx.select_bursts(select_bursts.width, th1=th)\n",
    "        bw_th.iloc[i] = [w.mean()*1e3 - th for w in dx_th.burst_widths]\n",
    "        bw_th_n.iloc[i] = dx_th.num_bursts\n",
    "    \n",
    "    dx.calc_max_rate(m=m, ph_sel=ph_sel)\n",
    "    pr_th, pr_th_n = p_th_.copy(), p_th_.copy()\n",
    "    for i, th in enumerate(Th_pr):\n",
    "        dx_th = dx.select_bursts(select_bursts.peak_phrate, th1=th*1e3)\n",
    "        pr_th.iloc[i] = [r.mean()*1e-3 - th for r in dx_th.max_rate]\n",
    "        pr_th_n.iloc[i] = dx_th.num_bursts\n",
    "\n",
    "    return nt_th, bw_th, pr_th, nt_th_n, bw_th_n, pr_th_n\n",
    "\n",
    "def _plot_mean_data_th(data, ndata):\n",
    "    fig, ax = plt.subplots()\n",
    "    legend_xpos = 1.05\n",
    "    if ndata is not None:\n",
    "        ax2 = ax.twinx()\n",
    "        ndata.plot(ax=ax2, ls='--', legend=False, grid=False)\n",
    "        legend_xpos = 1.10\n",
    "    data.plot(lw=3, ax=ax)\n",
    "    ax.set_ylim(0)  \n",
    "    ax.legend(bbox_to_anchor=(legend_xpos, 1), loc=2, borderaxespad=0.);\n",
    "    plt.sca(ax)\n",
    "def plot_mean_size_th(data, ndata, title):\n",
    "    _plot_mean_data_th(data, ndata)\n",
    "    plt.ylabel('Burst Size (# Counts)')  \n",
    "    plt.title('Mean Burst Size, ' + title)\n",
    "def plot_mean_width_th(data, ndata, title):    \n",
    "    _plot_mean_data_th(data, ndata)\n",
    "    plt.ylabel('Burst Duration (ms)')\n",
    "    plt.title('Mean Burst Duration, ' + title)\n",
    "def plot_mean_phrate_th(data, ndata, title):    \n",
    "    _plot_mean_data_th(data, ndata)\n",
    "    plt.ylabel('Peak Photon Rate (kcps)')\n",
    "    plt.title('Mean Peak Rate in Bursts, ' + title)\n",
    "    \n",
    "def select_do(dx):\n",
    "    global sel_do\n",
    "    sel_do = 'na=[-12,12]' \n",
    "    return dx.select_bursts(select_bursts.na, th1=-12, th2=12)"
   ]
  },
  {
   "cell_type": "code",
   "execution_count": null,
   "metadata": {
    "collapsed": false
   },
   "outputs": [],
   "source": [
    "# ax = dplot(dxdo, hist_size);\n",
    "# for a in ax.ravel():\n",
    "#     a.axvline(nt_th1)"
   ]
  },
  {
   "cell_type": "code",
   "execution_count": null,
   "metadata": {
    "collapsed": false
   },
   "outputs": [],
   "source": [
    "#ax = dplot(dxdo, hist_width);\n",
    "#for a in ax.ravel():\n",
    "#    a.axvline(nt_th1)"
   ]
  },
  {
   "cell_type": "code",
   "execution_count": null,
   "metadata": {
    "collapsed": false
   },
   "outputs": [],
   "source": [
    "# dxdo.calc_max_rate(m=m)\n",
    "\n",
    "# ax = dplot(dxdo, hist_burst_phrate);"
   ]
  },
  {
   "cell_type": "markdown",
   "metadata": {},
   "source": [
    "# 7d sample"
   ]
  },
  {
   "cell_type": "code",
   "execution_count": null,
   "metadata": {
    "collapsed": true
   },
   "outputs": [],
   "source": [
    "data_id = '7d'"
   ]
  },
  {
   "cell_type": "code",
   "execution_count": null,
   "metadata": {
    "collapsed": false
   },
   "outputs": [],
   "source": [
    "dx = loader.photon_hdf5(files_dict[data_id])\n",
    "dx.calc_bg(**bg_kwargs_auto)\n",
    "bg1[data_id] = pd.Series([bd.mean() + ba.mean() for bd, ba in zip(dx.bg_dd, dx.bg_ad)], \n",
    "                         index=pd.Index(range(8), name='Ch'))\n",
    "dx.leakage = leakage"
   ]
  },
  {
   "cell_type": "markdown",
   "metadata": {},
   "source": [
    "**SBR Burst Search**"
   ]
  },
  {
   "cell_type": "code",
   "execution_count": null,
   "metadata": {
    "collapsed": false
   },
   "outputs": [],
   "source": [
    "dx.burst_search(m=m, F=F, ph_sel=ph_sel)\n",
    "dxdo = select_do(dx)"
   ]
  },
  {
   "cell_type": "code",
   "execution_count": null,
   "metadata": {
    "collapsed": false
   },
   "outputs": [],
   "source": [
    "dx.rate_th"
   ]
  },
  {
   "cell_type": "code",
   "execution_count": null,
   "metadata": {
    "collapsed": false
   },
   "outputs": [],
   "source": [
    "dplot(dxdo, scatter_da);\n",
    "plt.ylim(-10, 50)"
   ]
  },
  {
   "cell_type": "code",
   "execution_count": null,
   "metadata": {
    "collapsed": false
   },
   "outputs": [],
   "source": [
    "(nt_th_F, bw_th_F, pr_th_F,\n",
    " nt_th_F_n, bw_th_F_n, pr_th_F_n) = burst_mean_vs_th(dxdo)"
   ]
  },
  {
   "cell_type": "code",
   "execution_count": null,
   "metadata": {
    "collapsed": false
   },
   "outputs": [],
   "source": [
    "title = 'D-only, m=%d F=%d' % (m, F)\n",
    "plot_mean_size_th(nt_th_F, nt_th_F_n, title=title)\n",
    "plot_mean_width_th(bw_th_F, bw_th_F_n, title=title)\n",
    "plot_mean_phrate_th(pr_th_F, pr_th_F_n, title=title)"
   ]
  },
  {
   "cell_type": "markdown",
   "metadata": {},
   "source": [
    "**Fixed-rate Burst Search**"
   ]
  },
  {
   "cell_type": "code",
   "execution_count": null,
   "metadata": {
    "collapsed": false
   },
   "outputs": [],
   "source": [
    "dx.burst_search(m=m, min_rate_cps=rate_th, ph_sel=ph_sel)\n",
    "dxdo = select_do(dx)"
   ]
  },
  {
   "cell_type": "code",
   "execution_count": null,
   "metadata": {
    "collapsed": false
   },
   "outputs": [],
   "source": [
    "dx.rate_th"
   ]
  },
  {
   "cell_type": "code",
   "execution_count": null,
   "metadata": {
    "collapsed": false
   },
   "outputs": [],
   "source": [
    "dplot(dxdo, scatter_da);\n",
    "plt.ylim(-10, 50)"
   ]
  },
  {
   "cell_type": "code",
   "execution_count": null,
   "metadata": {
    "collapsed": false
   },
   "outputs": [],
   "source": [
    "(nt_th_R, bw_th_R, pr_th_R,\n",
    " nt_th_R_n, bw_th_R_n, pr_th_R_n) = burst_mean_vs_th(dxdo)"
   ]
  },
  {
   "cell_type": "code",
   "execution_count": null,
   "metadata": {
    "collapsed": false
   },
   "outputs": [],
   "source": [
    "title = 'D-only, m=%d R=%d kcps' % (m, rate_th*1e-3)\n",
    "plot_mean_size_th(nt_th_R, nt_th_R_n, title=title)\n",
    "plot_mean_width_th(bw_th_R, bw_th_R_n, title=title)\n",
    "plot_mean_phrate_th(pr_th_R, pr_th_R_n, title=title)"
   ]
  },
  {
   "cell_type": "code",
   "execution_count": null,
   "metadata": {
    "collapsed": false
   },
   "outputs": [],
   "source": [
    "s_F[data_id] = nt_th_F  # burst size\n",
    "s_R[data_id] = nt_th_R\n",
    "w_F[data_id] = bw_th_F  # burst duration\n",
    "w_R[data_id] = bw_th_R\n",
    "p_F[data_id] = pr_th_F  # burst peak photon rate\n",
    "p_R[data_id] = pr_th_R"
   ]
  },
  {
   "cell_type": "markdown",
   "metadata": {},
   "source": [
    "# 12d sample"
   ]
  },
  {
   "cell_type": "code",
   "execution_count": null,
   "metadata": {
    "collapsed": true
   },
   "outputs": [],
   "source": [
    "data_id = '12d'"
   ]
  },
  {
   "cell_type": "code",
   "execution_count": null,
   "metadata": {
    "collapsed": false
   },
   "outputs": [],
   "source": [
    "dx = loader.photon_hdf5(files_dict[data_id])\n",
    "dx.calc_bg(**bg_kwargs_auto)\n",
    "bg1[data_id] = pd.Series([bd.mean() + ba.mean() for bd, ba in zip(dx.bg_dd, dx.bg_ad)], \n",
    "                         index=pd.Index(range(8), name='Ch'))\n",
    "dx.leakage = leakage"
   ]
  },
  {
   "cell_type": "markdown",
   "metadata": {},
   "source": [
    "**SBR Burst Search**"
   ]
  },
  {
   "cell_type": "code",
   "execution_count": null,
   "metadata": {
    "collapsed": false
   },
   "outputs": [],
   "source": [
    "dx.burst_search(m=m, F=F, ph_sel=ph_sel)\n",
    "dxdo = select_do(dx)"
   ]
  },
  {
   "cell_type": "code",
   "execution_count": null,
   "metadata": {
    "collapsed": false
   },
   "outputs": [],
   "source": [
    "(nt_th_F, bw_th_F, pr_th_F,\n",
    " nt_th_F_n, bw_th_F_n, pr_th_F_n) = burst_mean_vs_th(dxdo)"
   ]
  },
  {
   "cell_type": "code",
   "execution_count": null,
   "metadata": {
    "collapsed": false
   },
   "outputs": [],
   "source": [
    "title = 'D-only, m=%d F=%d' % (m, F)\n",
    "plot_mean_size_th(nt_th_F, nt_th_F_n, title=title)\n",
    "plot_mean_width_th(bw_th_F, bw_th_F_n, title=title)\n",
    "plot_mean_phrate_th(pr_th_F, pr_th_F_n, title=title)"
   ]
  },
  {
   "cell_type": "markdown",
   "metadata": {},
   "source": [
    "**Fixed-rate Burst Search**"
   ]
  },
  {
   "cell_type": "code",
   "execution_count": null,
   "metadata": {
    "collapsed": false
   },
   "outputs": [],
   "source": [
    "dx.burst_search(m=m, min_rate_cps=rate_th, ph_sel=ph_sel)\n",
    "dxdo = select_do(dx)"
   ]
  },
  {
   "cell_type": "code",
   "execution_count": null,
   "metadata": {
    "collapsed": false
   },
   "outputs": [],
   "source": [
    "(nt_th_R, bw_th_R, pr_th_R,\n",
    " nt_th_R_n, bw_th_R_n, pr_th_R_n) = burst_mean_vs_th(dxdo)"
   ]
  },
  {
   "cell_type": "code",
   "execution_count": null,
   "metadata": {
    "collapsed": false
   },
   "outputs": [],
   "source": [
    "title = 'D-only, m=%d R=%d kcps' % (m, rate_th*1e-3)\n",
    "plot_mean_size_th(nt_th_R, nt_th_R_n, title=title)\n",
    "plot_mean_width_th(bw_th_R, bw_th_R_n, title=title)\n",
    "plot_mean_phrate_th(pr_th_R, pr_th_R_n, title=title)"
   ]
  },
  {
   "cell_type": "code",
   "execution_count": null,
   "metadata": {
    "collapsed": false
   },
   "outputs": [],
   "source": [
    "s_F[data_id] = nt_th_F  # burst size\n",
    "s_R[data_id] = nt_th_R\n",
    "w_F[data_id] = bw_th_F  # burst duration\n",
    "w_R[data_id] = bw_th_R\n",
    "p_F[data_id] = pr_th_F  # burst peak photon rate\n",
    "p_R[data_id] = pr_th_R"
   ]
  },
  {
   "cell_type": "code",
   "execution_count": null,
   "metadata": {
    "collapsed": false
   },
   "outputs": [],
   "source": [
    "bursts = pd.concat([bext.burst_data(dx, ich=ich).assign(ich=ich)\n",
    "                    for ich in range(8)])\n",
    "\n",
    "kw = dict(bins = np.arange(0, 100), histtype='step', lw=2)\n",
    "for ich in range(8):\n",
    "    mask = bursts.ich == ich\n",
    "    plt.hist(bursts.na[mask], **kw)\n",
    "plt.yscale('log')"
   ]
  },
  {
   "cell_type": "markdown",
   "metadata": {},
   "source": [
    "# 17d sample"
   ]
  },
  {
   "cell_type": "code",
   "execution_count": null,
   "metadata": {
    "collapsed": true
   },
   "outputs": [],
   "source": [
    "data_id = '17d'"
   ]
  },
  {
   "cell_type": "code",
   "execution_count": null,
   "metadata": {
    "collapsed": false
   },
   "outputs": [],
   "source": [
    "dx = loader.photon_hdf5(files_dict[data_id])\n",
    "dx.calc_bg(**bg_kwargs_auto)\n",
    "bg1[data_id] = pd.Series([bd.mean() + ba.mean() for bd, ba in zip(dx.bg_dd, dx.bg_ad)], \n",
    "                         index=pd.Index(range(8), name='Ch'))\n",
    "dx.leakage = leakage"
   ]
  },
  {
   "cell_type": "markdown",
   "metadata": {},
   "source": [
    "**SBR Burst Search**"
   ]
  },
  {
   "cell_type": "code",
   "execution_count": null,
   "metadata": {
    "collapsed": false
   },
   "outputs": [],
   "source": [
    "dx.burst_search(m=m, F=F, ph_sel=ph_sel)\n",
    "dxdo = select_do(dx)"
   ]
  },
  {
   "cell_type": "code",
   "execution_count": null,
   "metadata": {
    "collapsed": false
   },
   "outputs": [],
   "source": [
    "(nt_th_F, bw_th_F, pr_th_F,\n",
    " nt_th_F_n, bw_th_F_n, pr_th_F_n) = burst_mean_vs_th(dxdo)"
   ]
  },
  {
   "cell_type": "code",
   "execution_count": null,
   "metadata": {
    "collapsed": false
   },
   "outputs": [],
   "source": [
    "title = 'D-only, m=%d F=%d' % (m, F)\n",
    "plot_mean_size_th(nt_th_F, nt_th_F_n, title=title)\n",
    "plot_mean_width_th(bw_th_F, bw_th_F_n, title=title)\n",
    "plot_mean_phrate_th(pr_th_F, pr_th_F_n, title=title)"
   ]
  },
  {
   "cell_type": "markdown",
   "metadata": {},
   "source": [
    "**Fixed-rate Burst Search**"
   ]
  },
  {
   "cell_type": "code",
   "execution_count": null,
   "metadata": {
    "collapsed": false
   },
   "outputs": [],
   "source": [
    "dx.burst_search(m=m, min_rate_cps=rate_th, ph_sel=ph_sel)\n",
    "dxdo = select_do(dx)"
   ]
  },
  {
   "cell_type": "code",
   "execution_count": null,
   "metadata": {
    "collapsed": false
   },
   "outputs": [],
   "source": [
    "(nt_th_R, bw_th_R, pr_th_R,\n",
    " nt_th_R_n, bw_th_R_n, pr_th_R_n) = burst_mean_vs_th(dxdo)"
   ]
  },
  {
   "cell_type": "code",
   "execution_count": null,
   "metadata": {
    "collapsed": false
   },
   "outputs": [],
   "source": [
    "title = 'D-only, m=%d R=%d kcps' % (m, rate_th*1e-3)\n",
    "plot_mean_size_th(nt_th_R, nt_th_R_n, title=title)\n",
    "plot_mean_width_th(bw_th_R, bw_th_R_n, title=title)\n",
    "plot_mean_phrate_th(pr_th_R, pr_th_R_n, title=title)"
   ]
  },
  {
   "cell_type": "code",
   "execution_count": null,
   "metadata": {
    "collapsed": false
   },
   "outputs": [],
   "source": [
    "s_F[data_id] = nt_th_F  # burst size\n",
    "s_R[data_id] = nt_th_R\n",
    "w_F[data_id] = bw_th_F  # burst duration\n",
    "w_R[data_id] = bw_th_R\n",
    "p_F[data_id] = pr_th_F  # burst peak photon rate\n",
    "p_R[data_id] = pr_th_R"
   ]
  },
  {
   "cell_type": "code",
   "execution_count": null,
   "metadata": {
    "collapsed": false
   },
   "outputs": [],
   "source": [
    "bursts = pd.concat([bext.burst_data(dx, ich=ich).assign(ich=ich)\n",
    "                    for ich in range(8)])\n",
    "\n",
    "kw = dict(bins = np.arange(0, 100), histtype='step', lw=2)\n",
    "for ich in range(8):\n",
    "    mask = bursts.ich == ich\n",
    "    plt.hist(bursts.na[mask], **kw)\n",
    "plt.yscale('log')"
   ]
  },
  {
   "cell_type": "markdown",
   "metadata": {},
   "source": [
    "# 22d sample"
   ]
  },
  {
   "cell_type": "code",
   "execution_count": null,
   "metadata": {
    "collapsed": true
   },
   "outputs": [],
   "source": [
    "data_id = '22d'"
   ]
  },
  {
   "cell_type": "code",
   "execution_count": null,
   "metadata": {
    "collapsed": false
   },
   "outputs": [],
   "source": [
    "dx = loader.photon_hdf5(files_dict[data_id])\n",
    "dx.calc_bg(**bg_kwargs_auto)\n",
    "bg1[data_id] = pd.Series([bd.mean() + ba.mean() for bd, ba in zip(dx.bg_dd, dx.bg_ad)], \n",
    "                         index=pd.Index(range(8), name='Ch'))\n",
    "dx.leakage = leakage"
   ]
  },
  {
   "cell_type": "markdown",
   "metadata": {},
   "source": [
    "**SBR Burst Search**"
   ]
  },
  {
   "cell_type": "code",
   "execution_count": null,
   "metadata": {
    "collapsed": false
   },
   "outputs": [],
   "source": [
    "dx.burst_search(m=m, F=F, ph_sel=ph_sel)\n",
    "dxdo = select_do(dx)"
   ]
  },
  {
   "cell_type": "code",
   "execution_count": null,
   "metadata": {
    "collapsed": false
   },
   "outputs": [],
   "source": [
    "(nt_th_F, bw_th_F, pr_th_F,\n",
    " nt_th_F_n, bw_th_F_n, pr_th_F_n) = burst_mean_vs_th(dxdo)"
   ]
  },
  {
   "cell_type": "code",
   "execution_count": null,
   "metadata": {
    "collapsed": false
   },
   "outputs": [],
   "source": [
    "title = 'D-only, m=%d F=%d' % (m, F)\n",
    "plot_mean_size_th(nt_th_F, nt_th_F_n, title=title)\n",
    "plot_mean_width_th(bw_th_F, bw_th_F_n, title=title)\n",
    "plot_mean_phrate_th(pr_th_F, pr_th_F_n, title=title)"
   ]
  },
  {
   "cell_type": "markdown",
   "metadata": {},
   "source": [
    "**Fixed-rate Burst Search**"
   ]
  },
  {
   "cell_type": "code",
   "execution_count": null,
   "metadata": {
    "collapsed": false
   },
   "outputs": [],
   "source": [
    "dx.burst_search(m=m, min_rate_cps=rate_th, ph_sel=ph_sel)\n",
    "dxdo = select_do(dx)"
   ]
  },
  {
   "cell_type": "code",
   "execution_count": null,
   "metadata": {
    "collapsed": false
   },
   "outputs": [],
   "source": [
    "(nt_th_R, bw_th_R, pr_th_R,\n",
    " nt_th_R_n, bw_th_R_n, pr_th_R_n) = burst_mean_vs_th(dxdo)"
   ]
  },
  {
   "cell_type": "code",
   "execution_count": null,
   "metadata": {
    "collapsed": false
   },
   "outputs": [],
   "source": [
    "title = 'D-only, m=%d R=%d kcps' % (m, rate_th*1e-3)\n",
    "plot_mean_size_th(nt_th_R, nt_th_R_n, title=title)\n",
    "plot_mean_width_th(bw_th_R, bw_th_R_n, title=title)\n",
    "plot_mean_phrate_th(pr_th_R, pr_th_R_n, title=title)"
   ]
  },
  {
   "cell_type": "code",
   "execution_count": null,
   "metadata": {
    "collapsed": false
   },
   "outputs": [],
   "source": [
    "s_F[data_id] = nt_th_F  # burst size\n",
    "s_R[data_id] = nt_th_R\n",
    "w_F[data_id] = bw_th_F  # burst duration\n",
    "w_R[data_id] = bw_th_R\n",
    "p_F[data_id] = pr_th_F  # burst peak photon rate\n",
    "p_R[data_id] = pr_th_R"
   ]
  },
  {
   "cell_type": "markdown",
   "metadata": {},
   "source": [
    "# 27d sample"
   ]
  },
  {
   "cell_type": "code",
   "execution_count": null,
   "metadata": {
    "collapsed": true
   },
   "outputs": [],
   "source": [
    "data_id = '27d'"
   ]
  },
  {
   "cell_type": "code",
   "execution_count": null,
   "metadata": {
    "collapsed": false
   },
   "outputs": [],
   "source": [
    "dx = loader.photon_hdf5(files_dict[data_id])\n",
    "dx.calc_bg(**bg_kwargs_auto)\n",
    "bg1[data_id] = pd.Series([bd.mean() + ba.mean() for bd, ba in zip(dx.bg_dd, dx.bg_ad)], \n",
    "                         index=pd.Index(range(8), name='Ch'))\n",
    "dx.leakage = leakage"
   ]
  },
  {
   "cell_type": "markdown",
   "metadata": {},
   "source": [
    "**SBR Burst Search**"
   ]
  },
  {
   "cell_type": "code",
   "execution_count": null,
   "metadata": {
    "collapsed": false
   },
   "outputs": [],
   "source": [
    "dx.burst_search(m=m, F=F, ph_sel=ph_sel)\n",
    "dxdo = select_do(dx)"
   ]
  },
  {
   "cell_type": "code",
   "execution_count": null,
   "metadata": {
    "collapsed": false
   },
   "outputs": [],
   "source": [
    "(nt_th_F, bw_th_F, pr_th_F,\n",
    " nt_th_F_n, bw_th_F_n, pr_th_F_n) = burst_mean_vs_th(dxdo)"
   ]
  },
  {
   "cell_type": "code",
   "execution_count": null,
   "metadata": {
    "collapsed": false
   },
   "outputs": [],
   "source": [
    "title = 'D-only, m=%d F=%d' % (m, F)\n",
    "plot_mean_size_th(nt_th_F, nt_th_F_n, title=title)\n",
    "plot_mean_width_th(bw_th_F, bw_th_F_n, title=title)\n",
    "plot_mean_phrate_th(pr_th_F, pr_th_F_n, title=title)"
   ]
  },
  {
   "cell_type": "markdown",
   "metadata": {},
   "source": [
    "**Fixed-rate Burst Search**"
   ]
  },
  {
   "cell_type": "code",
   "execution_count": null,
   "metadata": {
    "collapsed": false
   },
   "outputs": [],
   "source": [
    "dx.burst_search(m=m, min_rate_cps=rate_th, ph_sel=ph_sel)\n",
    "dxdo = select_do(dx)"
   ]
  },
  {
   "cell_type": "code",
   "execution_count": null,
   "metadata": {
    "collapsed": false
   },
   "outputs": [],
   "source": [
    "(nt_th_R, bw_th_R, pr_th_R,\n",
    " nt_th_R_n, bw_th_R_n, pr_th_R_n) = burst_mean_vs_th(dxdo)"
   ]
  },
  {
   "cell_type": "code",
   "execution_count": null,
   "metadata": {
    "collapsed": false
   },
   "outputs": [],
   "source": [
    "title = 'D-only, m=%d R=%d kcps' % (m, rate_th*1e-3)\n",
    "plot_mean_size_th(nt_th_R, nt_th_R_n, title=title)\n",
    "plot_mean_width_th(bw_th_R, bw_th_R_n, title=title)\n",
    "plot_mean_phrate_th(pr_th_R, pr_th_R_n, title=title)"
   ]
  },
  {
   "cell_type": "code",
   "execution_count": null,
   "metadata": {
    "collapsed": false
   },
   "outputs": [],
   "source": [
    "s_F[data_id] = nt_th_F  # burst size\n",
    "s_R[data_id] = nt_th_R\n",
    "w_F[data_id] = bw_th_F  # burst duration\n",
    "w_R[data_id] = bw_th_R\n",
    "p_F[data_id] = pr_th_F  # burst peak photon rate\n",
    "p_R[data_id] = pr_th_R"
   ]
  },
  {
   "cell_type": "markdown",
   "metadata": {},
   "source": [
    "# D-only sample"
   ]
  },
  {
   "cell_type": "code",
   "execution_count": null,
   "metadata": {
    "collapsed": true
   },
   "outputs": [],
   "source": [
    "data_id = 'DO'"
   ]
  },
  {
   "cell_type": "code",
   "execution_count": null,
   "metadata": {
    "collapsed": false
   },
   "outputs": [],
   "source": [
    "dx = loader.photon_hdf5(files_dict[data_id])\n",
    "dx.calc_bg(**bg_kwargs_auto)\n",
    "bg1[data_id] = pd.Series([bd.mean() + ba.mean() for bd, ba in zip(dx.bg_dd, dx.bg_ad)], \n",
    "                         index=pd.Index(range(8), name='Ch'))\n",
    "dx.leakage = leakage"
   ]
  },
  {
   "cell_type": "markdown",
   "metadata": {},
   "source": [
    "**SBR Burst Search**"
   ]
  },
  {
   "cell_type": "code",
   "execution_count": null,
   "metadata": {
    "collapsed": false
   },
   "outputs": [],
   "source": [
    "dx.burst_search(m=m, F=F, ph_sel=ph_sel)\n",
    "dxdo = dx"
   ]
  },
  {
   "cell_type": "code",
   "execution_count": null,
   "metadata": {
    "collapsed": false
   },
   "outputs": [],
   "source": [
    "(nt_th_F, bw_th_F, pr_th_F,\n",
    " nt_th_F_n, bw_th_F_n, pr_th_F_n) = burst_mean_vs_th(dxdo)"
   ]
  },
  {
   "cell_type": "code",
   "execution_count": null,
   "metadata": {
    "collapsed": false
   },
   "outputs": [],
   "source": [
    "title = 'D-only, m=%d F=%d' % (m, F)\n",
    "plot_mean_size_th(nt_th_F, nt_th_F_n, title=title)\n",
    "plot_mean_width_th(bw_th_F, bw_th_F_n, title=title)\n",
    "plot_mean_phrate_th(pr_th_F, pr_th_F_n, title=title)"
   ]
  },
  {
   "cell_type": "markdown",
   "metadata": {},
   "source": [
    "**Fixed-rate Burst Search**"
   ]
  },
  {
   "cell_type": "code",
   "execution_count": null,
   "metadata": {
    "collapsed": false
   },
   "outputs": [],
   "source": [
    "dx.burst_search(m=m, min_rate_cps=rate_th, ph_sel=ph_sel)\n",
    "dxdo = dx"
   ]
  },
  {
   "cell_type": "code",
   "execution_count": null,
   "metadata": {
    "collapsed": false
   },
   "outputs": [],
   "source": [
    "(nt_th_R, bw_th_R, pr_th_R,\n",
    " nt_th_R_n, bw_th_R_n, pr_th_R_n) = burst_mean_vs_th(dxdo)"
   ]
  },
  {
   "cell_type": "code",
   "execution_count": null,
   "metadata": {
    "collapsed": false
   },
   "outputs": [],
   "source": [
    "title = 'D-only, m=%d R=%d kcps' % (m, rate_th*1e-3)\n",
    "plot_mean_size_th(nt_th_R, nt_th_R_n, title=title)\n",
    "plot_mean_width_th(bw_th_R, bw_th_R_n, title=title)\n",
    "plot_mean_phrate_th(pr_th_R, pr_th_R_n, title=title)"
   ]
  },
  {
   "cell_type": "code",
   "execution_count": null,
   "metadata": {
    "collapsed": false
   },
   "outputs": [],
   "source": [
    "s_F[data_id] = nt_th_F  # burst size\n",
    "s_R[data_id] = nt_th_R\n",
    "w_F[data_id] = bw_th_F  # burst duration\n",
    "w_R[data_id] = bw_th_R\n",
    "p_F[data_id] = pr_th_F  # burst peak photon rate\n",
    "p_R[data_id] = pr_th_R"
   ]
  },
  {
   "cell_type": "markdown",
   "metadata": {},
   "source": [
    "# Summary"
   ]
  },
  {
   "cell_type": "code",
   "execution_count": null,
   "metadata": {
    "collapsed": true
   },
   "outputs": [],
   "source": [
    "%config InlineBackend.figure_format='retina'  # for hi-dpi displays\n",
    "sns.set_style('whitegrid')"
   ]
  },
  {
   "cell_type": "markdown",
   "metadata": {},
   "source": [
    "## Burst size vs BG"
   ]
  },
  {
   "cell_type": "code",
   "execution_count": null,
   "metadata": {
    "collapsed": false
   },
   "outputs": [],
   "source": [
    "for did in labels:\n",
    "    plt.plot(bg1[did]*1e-3, s_F[did].loc[nt_th1].T, 'o', ms=10, label=did)\n",
    "plt.legend(bbox_to_anchor=(1.03, 1), loc=2, borderaxespad=0.);\n",
    "plt.ylim(0, 65)\n",
    "plt.xlabel('Background Rate (kcps)')\n",
    "plt.ylabel('# Photons')\n",
    "plt.title('Mean Burst Size - SBR Burst Search');\n",
    "\n",
    "plt.figure()\n",
    "for did in labels:\n",
    "    plt.plot(bg1[did]*1e-3, s_R[did].loc[nt_th1].T, 'o', ms=10, label=did)\n",
    "plt.legend(bbox_to_anchor=(1.03, 1), loc=2, borderaxespad=0);\n",
    "plt.ylim(0, 65)\n",
    "plt.xlabel('Background Rate (kcps)')\n",
    "plt.ylabel('# Photons')\n",
    "plt.title('Mean Burst Size - Fixed Rate Burst Search');"
   ]
  },
  {
   "cell_type": "markdown",
   "metadata": {},
   "source": [
    "## Burst duration  vs BG"
   ]
  },
  {
   "cell_type": "code",
   "execution_count": null,
   "metadata": {
    "collapsed": false
   },
   "outputs": [],
   "source": [
    "for did in labels:\n",
    "    plt.plot(bg1[did]*1e-3, w_F[did].loc[bw_th1].T, 'o', ms=10, label=did)\n",
    "plt.legend(bbox_to_anchor=(1.03, 1), loc=2, borderaxespad=0.);\n",
    "plt.ylim(0)\n",
    "plt.xlabel('Background Rate (kcps)')\n",
    "plt.ylabel('ms')\n",
    "plt.title('Mean Burst Duration - SBR Burst Search');\n",
    "\n",
    "plt.figure()\n",
    "for did in labels:\n",
    "    plt.plot(bg1[did]*1e-3, w_R[did].loc[bw_th1].T, 'o', ms=10, label=did)\n",
    "plt.legend(bbox_to_anchor=(1.03, 1), loc=2, borderaxespad=0);\n",
    "plt.ylim(0)\n",
    "plt.xlabel('Background Rate (kcps)')\n",
    "plt.ylabel('ms')\n",
    "plt.title('Mean Burst Duration - Fixed Rate Burst Search');"
   ]
  },
  {
   "cell_type": "markdown",
   "metadata": {},
   "source": [
    "## Peak Photon rate  vs BG"
   ]
  },
  {
   "cell_type": "code",
   "execution_count": null,
   "metadata": {
    "collapsed": false
   },
   "outputs": [],
   "source": [
    "for did in labels:\n",
    "    plt.plot(bg1[did]*1e-3, p_F[did].loc[pr_th1].T, 'o', ms=10, label=did)\n",
    "plt.legend(bbox_to_anchor=(1.03, 1), loc=2, borderaxespad=0.);\n",
    "plt.ylim(0)\n",
    "plt.xlabel('Background Rate (kcps)');\n",
    "plt.ylabel('kcps')\n",
    "plt.title('Mean Peak Burst Photon Rate - SBR Burst Search')\n",
    "\n",
    "plt.figure()\n",
    "for did in labels:\n",
    "    plt.plot(bg1[did]*1e-3, p_R[did].loc[pr_th1].T, 'o', ms=10, label=did)\n",
    "plt.legend(bbox_to_anchor=(1.03, 1), loc=2, borderaxespad=0);\n",
    "plt.ylim(0)\n",
    "plt.xlabel('Background Rate (kcps)');\n",
    "plt.ylabel('kcps');\n",
    "plt.title('Mean Peak Burst Photon Rate - Fixed Rate Burst Search');"
   ]
  },
  {
   "cell_type": "markdown",
   "metadata": {
    "collapsed": true
   },
   "source": [
    "# Profiles vs spot"
   ]
  },
  {
   "cell_type": "markdown",
   "metadata": {},
   "source": [
    "## Burst size vs CH"
   ]
  },
  {
   "cell_type": "code",
   "execution_count": null,
   "metadata": {
    "collapsed": true
   },
   "outputs": [],
   "source": [
    "s_F_th1 = pd.concat([s_F[did].loc[nt_th1] for did in labels], 1)\n",
    "s_F_th1.columns = labels\n",
    "s_R_th1 = pd.concat([s_R[did].loc[nt_th1] for did in labels], 1)\n",
    "s_R_th1.columns = labels"
   ]
  },
  {
   "cell_type": "code",
   "execution_count": null,
   "metadata": {
    "collapsed": false
   },
   "outputs": [],
   "source": [
    "s_F_th1.plot(lw=3, title='SBR Burst Search')\n",
    "plt.ylim(0);\n",
    "\n",
    "s_R_th1.plot(lw=3, title='Fixed Rate Burst Search')\n",
    "plt.ylim(0);"
   ]
  },
  {
   "cell_type": "code",
   "execution_count": null,
   "metadata": {
    "collapsed": false
   },
   "outputs": [],
   "source": [
    "sns.swarmplot(data=s_R_th1);\n",
    "plt.ylim(0);"
   ]
  },
  {
   "cell_type": "markdown",
   "metadata": {},
   "source": [
    "## Burst Duration vs CH"
   ]
  },
  {
   "cell_type": "code",
   "execution_count": null,
   "metadata": {
    "collapsed": true
   },
   "outputs": [],
   "source": [
    "w_F_th1 = pd.concat([w_F[did].loc[bw_th1] for did in labels], 1)\n",
    "w_F_th1.columns = labels\n",
    "w_R_th1 = pd.concat([w_R[did].loc[bw_th1] for did in labels], 1)\n",
    "w_R_th1.columns = labels"
   ]
  },
  {
   "cell_type": "code",
   "execution_count": null,
   "metadata": {
    "collapsed": false
   },
   "outputs": [],
   "source": [
    "w_F_th1.plot(lw=3, title='SBR Burst Search')\n",
    "plt.ylim(0);\n",
    "w_R_th1.plot(lw=3, title='Fixed Rate Burst Search')\n",
    "plt.ylim(0);"
   ]
  },
  {
   "cell_type": "code",
   "execution_count": null,
   "metadata": {
    "collapsed": false
   },
   "outputs": [],
   "source": [
    "sns.swarmplot(data=w_R_th1);\n",
    "plt.ylim(0);"
   ]
  },
  {
   "cell_type": "markdown",
   "metadata": {},
   "source": [
    "## Peak Photon Rate vs CH"
   ]
  },
  {
   "cell_type": "code",
   "execution_count": null,
   "metadata": {
    "collapsed": true
   },
   "outputs": [],
   "source": [
    "p_F_th1 = pd.concat([p_F[did].loc[pr_th1] for did in labels], 1)\n",
    "p_F_th1.columns = labels\n",
    "p_R_th1 = pd.concat([p_R[did].loc[pr_th1] for did in labels], 1)\n",
    "p_R_th1.columns = labels"
   ]
  },
  {
   "cell_type": "code",
   "execution_count": null,
   "metadata": {
    "collapsed": false
   },
   "outputs": [],
   "source": [
    "p_F_th1.plot(lw=3, title='SBR Burst Search')\n",
    "plt.ylim(0);\n",
    "p_R_th1.plot(lw=3, title='Fixed Rate Burst Search')\n",
    "plt.ylim(0);"
   ]
  },
  {
   "cell_type": "code",
   "execution_count": null,
   "metadata": {
    "collapsed": false
   },
   "outputs": [],
   "source": [
    "Th_pr"
   ]
  },
  {
   "cell_type": "code",
   "execution_count": null,
   "metadata": {
    "collapsed": false
   },
   "outputs": [],
   "source": [
    "sns.swarmplot(data=p_R_th1);\n",
    "plt.ylim(0)"
   ]
  },
  {
   "cell_type": "markdown",
   "metadata": {},
   "source": [
    "# Burst Means vs Spot"
   ]
  },
  {
   "cell_type": "code",
   "execution_count": null,
   "metadata": {
    "collapsed": true
   },
   "outputs": [],
   "source": [
    "sns.set(font_scale=1.4, palette=colors)\n",
    "sns.set_style('ticks')"
   ]
  },
  {
   "cell_type": "raw",
   "metadata": {
    "collapsed": false
   },
   "source": [
    "for th in (30, 40, 50 ,60, 70):\n",
    "    plt.figure()\n",
    "    sx = pd.concat([s_R[did].loc[th] for did in labels], 1)\n",
    "    sx.columns = labels\n",
    "    sx.plot(lw=1.5, marker='o', ms=6, alpha=0.8, \n",
    "             title='Mean Burst Size - Fixed Rate Burst Search')\n",
    "    sx.mean(1).plot(lw=5, color='k', alpha=0.8, label='mean')\n",
    "    plt.legend(loc=3)\n",
    "    plt.xlim(-0.25, 7.25)\n",
    "    plt.ylim(0, 70)\n",
    "    sns.despine(offset=10, trim=True)"
   ]
  },
  {
   "cell_type": "code",
   "execution_count": null,
   "metadata": {
    "collapsed": false
   },
   "outputs": [],
   "source": [
    "s_R_th1.plot(lw=1.5, marker='o', ms=6, alpha=0.8, \n",
    "             title='Mean Burst Size - Fixed Rate Burst Search')\n",
    "s_R_th1.mean(1).plot(lw=5, color='k', alpha=0.8, label='mean')\n",
    "plt.legend(loc=3)\n",
    "plt.xlim(.75, 8.25)\n",
    "plt.ylim(0, 52)\n",
    "sns.despine(offset=10, trim=True)"
   ]
  },
  {
   "cell_type": "code",
   "execution_count": null,
   "metadata": {
    "collapsed": false
   },
   "outputs": [],
   "source": [
    "p_R_th1.plot(lw=1.5, marker='o', ms=6, alpha=0.8, \n",
    "             title='Mean Burst Peak Photon Rate - Fixed Rate Burst Search')\n",
    "p_R_th1.mean(1).plot(lw=5, color='k', alpha=0.8, label='mean')\n",
    "plt.legend(loc=3)\n",
    "plt.xlim(.75, 8.25)\n",
    "plt.ylim(0)\n",
    "sns.despine(offset=10, trim=True)"
   ]
  },
  {
   "cell_type": "code",
   "execution_count": null,
   "metadata": {
    "collapsed": false
   },
   "outputs": [],
   "source": [
    "w_R_th1.plot(lw=1.5, marker='o', ms=6, alpha=0.8, \n",
    "             title='Mean Burst Duration - Fixed Rate Burst Search')\n",
    "w_R_th1.mean(1).plot(lw=5, color='k', alpha=0.8, label='mean')\n",
    "plt.legend(loc=3)\n",
    "plt.xlim(.75, 8.25)\n",
    "plt.ylim(0)\n",
    "sns.despine(offset=10, trim=True)"
   ]
  },
  {
   "cell_type": "code",
   "execution_count": null,
   "metadata": {
    "collapsed": false
   },
   "outputs": [],
   "source": [
    "w_R_th1.plot(lw=1.5, marker='o', ms=6, alpha=0.8, \n",
    "             title='Mean Burst Duration - Fixed Rate Burst Search')\n",
    "w_R_th1.mean(1).plot(lw=5, color='k', alpha=0.8, label='mean')\n",
    "plt.legend(loc=3)\n",
    "plt.xlim(.75, 8.25)\n",
    "plt.ylim(0)\n",
    "sns.despine(offset=10, trim=True)"
   ]
  },
  {
   "cell_type": "code",
   "execution_count": null,
   "metadata": {
    "collapsed": true
   },
   "outputs": [],
   "source": [
    "sns.set(font_scale=1.6, palette=colors, style='ticks')"
   ]
  },
  {
   "cell_type": "code",
   "execution_count": null,
   "metadata": {
    "collapsed": false
   },
   "outputs": [],
   "source": [
    "fig, ax = plt.subplots(2, 3, sharex=True, figsize=(16, 8), squeeze=True)\n",
    "plt.subplots_adjust(wspace=0.35)\n",
    "\n",
    "s_F_th1.plot(lw=1.5, marker='o', ms=6, alpha=0.8, ax=ax[0,0], legend=False,\n",
    "             title='Burst Size')\n",
    "s_F_th1.mean(1).plot(lw=5, color='k', alpha=0.8, label='mean', ax=ax[0,0])\n",
    "ax[0,0].set_ylim(0, 75)\n",
    "ax[0,0].set_ylabel('# Photons')\n",
    "s_R_th1.plot(lw=1.5, marker='o', ms=6, alpha=0.8, ax=ax[1,0], legend=False)\n",
    "s_R_th1.mean(1).plot(lw=5, color='k', alpha=0.8, label='mean', ax=ax[1,0])\n",
    "ax[1,0].set_ylim(0, 75)\n",
    "ax[1,0].set_ylabel('# Photons')\n",
    "\n",
    "w_F_th1.plot(lw=1.5, marker='o', ms=6, alpha=0.8, ax=ax[0,1], legend=False,\n",
    "             title='Burst Duration')\n",
    "w_F_th1.mean(1).plot(lw=5, color='k', alpha=0.8, label='mean', ax=ax[0,1])\n",
    "ax[0,1].set_ylim(0,1)\n",
    "ax[0,1].set_ylabel('ms')\n",
    "w_R_th1.plot(lw=1.5, marker='o', ms=6, alpha=0.8, ax=ax[1,1], legend=False,)\n",
    "w_R_th1.mean(1).plot(lw=5, color='k', alpha=0.8, label='mean', ax=ax[1,1])\n",
    "ax[1,1].set_ylim(0,1)\n",
    "ax[1,1].set_ylabel('ms')\n",
    "\n",
    "p_F_th1.plot(lw=1.5, marker='o', ms=6, alpha=0.8, ax=ax[0,2], legend=False,\n",
    "             title='Peak Photon Rate')\n",
    "p_F_th1.mean(1).plot(lw=5, color='k', alpha=0.8, label='mean', ax=ax[0,2])\n",
    "ax[0,2].set_ylim(0, 159)\n",
    "ax[0,2].set_ylabel('kcps')\n",
    "p_R_th1.plot(lw=1.5, marker='o', ms=6, alpha=0.8, ax=ax[1,2], )\n",
    "p_R_th1.mean(1).plot(lw=5, color='k', alpha=0.8, label='mean', ax=ax[1,2])\n",
    "ax[1,2].set_ylim(0)\n",
    "ax[1,2].set_ylabel('kcps')\n",
    "\n",
    "plt.legend(loc='lower right', ncol=2,\n",
    "           bbox_to_anchor=(1.05, -0.02), borderaxespad=0.)\n",
    "plt.xlim(.75, 8.25)\n",
    "sns.despine(offset=10, trim=True)\n",
    "for x in ax[0,:]:\n",
    "    x.xaxis.set_visible(False)\n",
    "    #x.xaxis.set_ticklabels([])\n",
    "    x.spines['bottom'].set_visible(False)\n",
    "    \n",
    "fs = 32\n",
    "ax[0,0].text(1,0, 'A', fontsize=fs)\n",
    "ax[1,0].text(1,0, 'D', fontsize=fs)\n",
    "ax[0,1].text(1,0, 'B', fontsize=fs)\n",
    "ax[1,1].text(1,0, 'E', fontsize=fs)\n",
    "ax[0,2].text(1,0, 'C', fontsize=fs)\n",
    "ax[1,2].text(1,0, 'F', fontsize=fs)\n",
    "savefig('8spot 5-dsDNA samples burst-stats vs ch F=%d, R=%dkcps lk=%.1f %s %s nt1=%d w1=%.1fms p1=%dkcps.png' % \n",
    "        (F, rate_th*1e-3, dx.leakage*100, sel_do, ph_sel, nt_th1, bw_th1, pr_th1))"
   ]
  },
  {
   "cell_type": "code",
   "execution_count": null,
   "metadata": {
    "collapsed": false
   },
   "outputs": [],
   "source": [
    "print('8spot 5-dsDNA samples burst-stats vs ch F=%d, R=%dkcps lk=%.1f %s %s nt1=%d w1=%.1fms p1=%dkcps.png' % \n",
    "        (F, rate_th*1e-3, dx.leakage*100, sel_do, ph_sel, nt_th1, bw_th1, pr_th1))"
   ]
  }
 ],
 "metadata": {
  "anaconda-cloud": {},
  "kernelspec": {
   "display_name": "Python [default]",
   "language": "python",
   "name": "python3"
  },
  "language_info": {
   "codemirror_mode": {
    "name": "ipython",
    "version": 3
   },
   "file_extension": ".py",
   "mimetype": "text/x-python",
   "name": "python",
   "nbconvert_exporter": "python",
   "pygments_lexer": "ipython3",
   "version": "3.5.2"
  }
 },
 "nbformat": 4,
 "nbformat_minor": 0
}
