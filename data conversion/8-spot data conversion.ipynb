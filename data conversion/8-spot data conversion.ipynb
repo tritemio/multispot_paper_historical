{
 "cells": [
  {
   "cell_type": "markdown",
   "metadata": {},
   "source": [
    "## Load FRETBursts software"
   ]
  },
  {
   "cell_type": "code",
   "execution_count": 1,
   "metadata": {
    "collapsed": false
   },
   "outputs": [
    {
     "name": "stdout",
     "output_type": "stream",
     "text": [
      " - Optimized (cython) burst search loaded.\n",
      " - Optimized (cython) photon counting loaded.\n",
      "--------------------------------------------------------------\n",
      " You are running FRETBursts (version 0.5.9).\n",
      "\n",
      " If you use this software please cite the following paper:\n",
      "\n",
      "   FRETBursts: An Open Source Toolkit for Analysis of Freely-Diffusing Single-Molecule FRET\n",
      "   Ingargiola et al. (2016). http://dx.doi.org/10.1371/journal.pone.0160716 \n",
      "\n",
      "--------------------------------------------------------------\n"
     ]
    }
   ],
   "source": [
    "from fretbursts import *"
   ]
  },
  {
   "cell_type": "code",
   "execution_count": 2,
   "metadata": {
    "collapsed": false
   },
   "outputs": [
    {
     "data": {
      "text/plain": [
       "'0.7.2'"
      ]
     },
     "execution_count": 2,
     "metadata": {},
     "output_type": "execute_result"
    }
   ],
   "source": [
    "import phconvert as phc\n",
    "phc.__version__"
   ]
  },
  {
   "cell_type": "code",
   "execution_count": 3,
   "metadata": {
    "collapsed": true
   },
   "outputs": [],
   "source": [
    "def smfret_multispot_ni_32_32(\n",
    "        filename,\n",
    "        excitation_wavelengths=(532e-9,),\n",
    "        detection_wavelengths = (580e-9,),\n",
    "        software = 'LabVIEW Multi-channel counter',\n",
    "        swap_D_A = True,\n",
    "        setup = None):\n",
    "    \"\"\"Load multi-spot smFRET files (ni64) and returns a dictionary.\n",
    "\n",
    "    This dictionary can be passed to the :func:`phconvert.hdf5.photon_hdf5`\n",
    "    function to save the data in Photon-HDF5 format.\n",
    "    \"\"\"\n",
    "    ts_unit = 12.5e-9\n",
    "    #print(\" - Loading '%s' ... \" % filename)\n",
    "    timestamps_m, A_em, _ = loader.load_data_ordered16(fname=filename, swap_D_A=swap_D_A)\n",
    "    #print(\" [DONE]\\n\")\n",
    "\n",
    "    if setup is None:\n",
    "        setup = dict(\n",
    "            num_pixels = 16,\n",
    "            num_spots = 8,\n",
    "            num_spectral_ch = 2,\n",
    "            num_polarization_ch = 1,\n",
    "            num_split_ch = 1,\n",
    "            modulated_excitation = False,\n",
    "            lifetime = False,\n",
    "            excitation_wavelengths = excitation_wavelengths,\n",
    "            excitation_cw = (False,),\n",
    "            detection_wavelengths = detection_wavelengths)\n",
    "\n",
    "    provenance = dict(filename=filename, software=software)\n",
    "    acquisition_duration = np.max([t[-1] - t[0] for t in timestamps_m])*ts_unit\n",
    "    data = dict(\n",
    "        _filename = filename,\n",
    "        acquisition_duration = round(acquisition_duration),\n",
    "        provenance=provenance)\n",
    "    \n",
    "    if setup != 'skip':\n",
    "        data['setup'] = setup\n",
    "\n",
    "    for ich, (times, a_em) in enumerate(zip(timestamps_m, A_em)):\n",
    "        data.update(\n",
    "            {'photon_data%d' % ich:\n",
    "             dict(\n",
    "                timestamps = times,\n",
    "                timestamps_specs = dict(timestamps_unit=ts_unit),\n",
    "                detectors = a_em.view('uint8'),\n",
    "\n",
    "                measurement_specs = dict(\n",
    "                    measurement_type = 'smFRET',\n",
    "                    detectors_specs = dict(spectral_ch1 = 0,\n",
    "                                           spectral_ch2 = 1)))}\n",
    "            )\n",
    "\n",
    "    return data"
   ]
  },
  {
   "cell_type": "markdown",
   "metadata": {},
   "source": [
    "## Data files"
   ]
  },
  {
   "cell_type": "code",
   "execution_count": 4,
   "metadata": {
    "collapsed": false
   },
   "outputs": [],
   "source": [
    "data_dir = r'C:/Data/Antonio/data/8-spot 5samples data/2013-05-15/'\n",
    "#data_dir = r'data/'\n",
    "\n",
    "f7 = '7d_New_150p_320mW_steer_3.dat'\n",
    "f12 = '12d_New_30p_320mW_steer_3.dat'\n",
    "f17 = '17d_100p_320mW_steer_1.dat'\n",
    "f22 = '22d_30p_320mW_steer_1.dat'\n",
    "f27 = '27d_50p_320mW_steer_1.dat'\n",
    "fo = 'DO12_No2_50p_320mW_steer_1.dat'\n",
    "fb = 'TE50_320mW_3.dat'\n",
    "\n",
    "f7, f12, f17, f22, f27, fo, fb = [data_dir+f for f in [f7, f12, f17, f22, f27, fo, fb]]\n",
    "f_dict = {'7d': f7, '12d': f12, '17d': f17, '22d': f22, '27d': f27, 'do': fo, 'buffer': fb}"
   ]
  },
  {
   "cell_type": "markdown",
   "metadata": {},
   "source": [
    "# Author"
   ]
  },
  {
   "cell_type": "code",
   "execution_count": 5,
   "metadata": {
    "collapsed": true
   },
   "outputs": [],
   "source": [
    "author = 'Antonino Ingargiola'\n",
    "author_affiliation = 'UCLA'\n",
    "creator = 'Antonino Ingargiola'\n",
    "creator_affiliation = 'UCLA'"
   ]
  },
  {
   "cell_type": "markdown",
   "metadata": {},
   "source": [
    "# Sample"
   ]
  },
  {
   "cell_type": "code",
   "execution_count": 6,
   "metadata": {
    "collapsed": true
   },
   "outputs": [],
   "source": [
    "description = '8-spot smFRET measurement of dsDNA.'\n",
    "sample_name = 'Doubly-labeled 40-bp dsDNA with D-A separation of %d bases.'\n",
    "sample_name_do = '40-bp dsDNA labeled with a single donor dye.'\n",
    "dye_names = 'ATTO550, ATTO647N'\n",
    "dye_names_do = 'ATTO550'\n",
    "buffer_name = 'TE50'"
   ]
  },
  {
   "cell_type": "markdown",
   "metadata": {
    "collapsed": false
   },
   "source": [
    "# Convert one file"
   ]
  },
  {
   "cell_type": "code",
   "execution_count": 7,
   "metadata": {
    "collapsed": false
   },
   "outputs": [],
   "source": [
    "fname = f12\n",
    "meas_id = 12"
   ]
  },
  {
   "cell_type": "code",
   "execution_count": 8,
   "metadata": {
    "collapsed": false
   },
   "outputs": [
    {
     "name": "stdout",
     "output_type": "stream",
     "text": [
      " - Loading data \"C:/Data/Antonio/data/8-spot 5samples data/2013-05-15/12d_New_30p_320mW_steer_3.dat\" ...  [DONE]\n",
      " - Processing data ... \n",
      "   - Swapping D and A channels ...  [DONE]\n",
      "   [DONE Processing]\n"
     ]
    }
   ],
   "source": [
    "data = smfret_multispot_ni_32_32(fname)\n",
    "\n",
    "data['description'] = description\n",
    "\n",
    "data['sample'] = dict(\n",
    "    sample_name=sample_name % meas_id,\n",
    "    dye_names=dye_names,\n",
    "    buffer_name=buffer_name,\n",
    "    num_dyes = len(dye_names.split(',')))\n",
    "\n",
    "data['identity'] = dict(\n",
    "    author=author,\n",
    "    author_affiliation=author_affiliation,\n",
    "    creator=creator,\n",
    "    creator_affiliation=creator_affiliation)"
   ]
  },
  {
   "cell_type": "code",
   "execution_count": 9,
   "metadata": {
    "collapsed": false
   },
   "outputs": [
    {
     "name": "stdout",
     "output_type": "stream",
     "text": [
      "Saving: C:/Data/Antonio/data/8-spot 5samples data/2013-05-15/12d_New_30p_320mW_steer_3.hdf5\n"
     ]
    }
   ],
   "source": [
    "phc.hdf5.save_photon_hdf5(data, overwrite=True)"
   ]
  },
  {
   "cell_type": "markdown",
   "metadata": {
    "collapsed": true
   },
   "source": [
    "> *Stop when converting only one file*\n"
   ]
  },
  {
   "cell_type": "markdown",
   "metadata": {},
   "source": [
    "# Batch conversion"
   ]
  },
  {
   "cell_type": "code",
   "execution_count": 10,
   "metadata": {
    "collapsed": false,
    "scrolled": false
   },
   "outputs": [
    {
     "name": "stdout",
     "output_type": "stream",
     "text": [
      "7d C:/Data/Antonio/data/8-spot 5samples data/2013-05-15/7d_New_150p_320mW_steer_3.dat\n",
      " - Loading data \"C:/Data/Antonio/data/8-spot 5samples data/2013-05-15/7d_New_150p_320mW_steer_3.dat\" ...  [DONE]\n",
      " - Processing data ... \n",
      "   - Swapping D and A channels ...  [DONE]\n",
      "   [DONE Processing]\n",
      "Saving: C:/Data/Antonio/data/8-spot 5samples data/2013-05-15/7d_New_150p_320mW_steer_3.hdf5\n",
      "22d C:/Data/Antonio/data/8-spot 5samples data/2013-05-15/22d_30p_320mW_steer_1.dat\n",
      " - Loading data \"C:/Data/Antonio/data/8-spot 5samples data/2013-05-15/22d_30p_320mW_steer_1.dat\" ...  [DONE]\n",
      " - Processing data ... \n",
      "   - Swapping D and A channels ...  [DONE]\n",
      "   [DONE Processing]\n",
      "Saving: C:/Data/Antonio/data/8-spot 5samples data/2013-05-15/22d_30p_320mW_steer_1.hdf5\n",
      "17d C:/Data/Antonio/data/8-spot 5samples data/2013-05-15/17d_100p_320mW_steer_1.dat\n",
      " - Loading data \"C:/Data/Antonio/data/8-spot 5samples data/2013-05-15/17d_100p_320mW_steer_1.dat\" ...  [DONE]\n",
      " - Processing data ... \n",
      "   - Swapping D and A channels ...  [DONE]\n",
      "   [DONE Processing]\n",
      "Saving: C:/Data/Antonio/data/8-spot 5samples data/2013-05-15/17d_100p_320mW_steer_1.hdf5\n",
      "do C:/Data/Antonio/data/8-spot 5samples data/2013-05-15/DO12_No2_50p_320mW_steer_1.dat\n",
      " - Loading data \"C:/Data/Antonio/data/8-spot 5samples data/2013-05-15/DO12_No2_50p_320mW_steer_1.dat\" ...  [DONE]\n",
      " - Processing data ... \n",
      "   - Swapping D and A channels ...  [DONE]\n",
      "   [DONE Processing]\n",
      "Saving: C:/Data/Antonio/data/8-spot 5samples data/2013-05-15/DO12_No2_50p_320mW_steer_1.hdf5\n",
      "27d C:/Data/Antonio/data/8-spot 5samples data/2013-05-15/27d_50p_320mW_steer_1.dat\n",
      " - Loading data \"C:/Data/Antonio/data/8-spot 5samples data/2013-05-15/27d_50p_320mW_steer_1.dat\" ...  [DONE]\n",
      " - Processing data ... \n",
      "   - Swapping D and A channels ...  [DONE]\n",
      "   [DONE Processing]\n",
      "Saving: C:/Data/Antonio/data/8-spot 5samples data/2013-05-15/27d_50p_320mW_steer_1.hdf5\n",
      "12d C:/Data/Antonio/data/8-spot 5samples data/2013-05-15/12d_New_30p_320mW_steer_3.dat\n",
      " - Loading data \"C:/Data/Antonio/data/8-spot 5samples data/2013-05-15/12d_New_30p_320mW_steer_3.dat\" ...  [DONE]\n",
      " - Processing data ... \n",
      "   - Swapping D and A channels ...  [DONE]\n",
      "   [DONE Processing]\n",
      "Saving: C:/Data/Antonio/data/8-spot 5samples data/2013-05-15/12d_New_30p_320mW_steer_3.hdf5\n"
     ]
    }
   ],
   "source": [
    "for name, fname in f_dict.items():\n",
    "    if name == 'buffer':\n",
    "        continue\n",
    "    print (name, fname)\n",
    "    \n",
    "    data = smfret_multispot_ni_32_32(fname)\n",
    "\n",
    "    data['description'] = description\n",
    "\n",
    "    data['identity'] = dict(\n",
    "        author=author,\n",
    "        author_affiliation=author_affiliation,\n",
    "        creator=creator,\n",
    "        creator_affiliation=creator_affiliation)\n",
    "\n",
    "    if name == 'do':\n",
    "        data['sample'] = dict(\n",
    "            sample_name=sample_name_do,\n",
    "            dye_names=dye_names_do,\n",
    "            buffer_name=buffer_name,\n",
    "            num_dyes = len(dye_names_do.split(',')))\n",
    "\n",
    "    else:\n",
    "        data['sample'] = dict(\n",
    "            sample_name=sample_name % int(name[:-1]),\n",
    "            dye_names=dye_names,\n",
    "            buffer_name=buffer_name,\n",
    "            num_dyes = len(dye_names.split(',')))\n",
    "        \n",
    "    phc.hdf5.save_photon_hdf5(data, overwrite=True)"
   ]
  },
  {
   "cell_type": "markdown",
   "metadata": {},
   "source": [
    "# DCR files"
   ]
  },
  {
   "cell_type": "code",
   "execution_count": 11,
   "metadata": {
    "collapsed": false
   },
   "outputs": [],
   "source": [
    "filename = r'C:\\Data\\Antonio\\data\\8-spot 5samples data\\2014-02-26\\DCR_test_2.dat'"
   ]
  },
  {
   "cell_type": "code",
   "execution_count": 12,
   "metadata": {
    "collapsed": true
   },
   "outputs": [],
   "source": [
    "setup = dict(\n",
    "    num_pixels = 16,\n",
    "    )"
   ]
  },
  {
   "cell_type": "code",
   "execution_count": 13,
   "metadata": {
    "collapsed": false
   },
   "outputs": [
    {
     "name": "stdout",
     "output_type": "stream",
     "text": [
      " - Loading data \"C:\\Data\\Antonio\\data\\8-spot 5samples data\\2014-02-26\\DCR_test_2.dat\" ...  [DONE]\n",
      " - Processing data ... \n",
      "   - Swapping D and A channels ...  [DONE]\n",
      "   [DONE Processing]\n"
     ]
    }
   ],
   "source": [
    "data = smfret_multispot_ni_32_32(filename, setup='skip')\n",
    "\n",
    "data['description'] = 'DCR measurement for two 8-pixel POLIMI SPAD arrays (octopus).'\n",
    "\n",
    "data['identity'] = dict(\n",
    "    author=author,\n",
    "    author_affiliation=author_affiliation,\n",
    "    creator=creator,\n",
    "    creator_affiliation=creator_affiliation)"
   ]
  },
  {
   "cell_type": "code",
   "execution_count": 14,
   "metadata": {
    "collapsed": false,
    "scrolled": true
   },
   "outputs": [
    {
     "name": "stdout",
     "output_type": "stream",
     "text": [
      "Saving: C:\\Data\\Antonio\\data\\8-spot 5samples data\\2014-02-26\\DCR_test_2.hdf5\n"
     ]
    }
   ],
   "source": [
    "phc.hdf5.save_photon_hdf5(data, overwrite=True, require_setup=False)"
   ]
  },
  {
   "cell_type": "code",
   "execution_count": 15,
   "metadata": {
    "collapsed": true
   },
   "outputs": [],
   "source": [
    "data['_data_file'].close()"
   ]
  },
  {
   "cell_type": "code",
   "execution_count": 16,
   "metadata": {
    "collapsed": false
   },
   "outputs": [
    {
     "data": {
      "text/plain": [
       "/ (RootGroup) b'A file format for photon-counting detector based single-molecule spectroscopy experiments.'\n",
       "  children := ['photon_data2' (Group), 'photon_data3' (Group), 'photon_data1' (Group), 'photon_data5' (Group), 'photon_data7' (Group), 'photon_data6' (Group), 'photon_data4' (Group), 'photon_data0' (Group), 'provenance' (Group), 'acquisition_duration' (Array), 'identity' (Group), 'description' (Array)]"
      ]
     },
     "execution_count": 16,
     "metadata": {},
     "output_type": "execute_result"
    }
   ],
   "source": [
    "phc.hdf5.load_photon_hdf5(r'C:\\Data\\Antonio\\data\\8-spot 5samples data\\2014-02-26\\DCR_test_2.hdf5', require_setup=False)"
   ]
  },
  {
   "cell_type": "markdown",
   "metadata": {
    "collapsed": true
   },
   "source": [
    "# Buffer file"
   ]
  },
  {
   "cell_type": "code",
   "execution_count": 17,
   "metadata": {
    "collapsed": true
   },
   "outputs": [],
   "source": [
    "description = '8-spot smFRET measurement of TE50 buffer.'\n",
    "sample_name = 'Buffer TE50 only.'\n",
    "dye_names = ''\n",
    "buffer_name = 'TE50'"
   ]
  },
  {
   "cell_type": "code",
   "execution_count": 18,
   "metadata": {
    "collapsed": false
   },
   "outputs": [
    {
     "name": "stdout",
     "output_type": "stream",
     "text": [
      " - Loading data \"C:/Data/Antonio/data/8-spot 5samples data/2013-05-15/TE50_320mW_3.dat\" ...  [DONE]\n",
      " - Processing data ... \n",
      "   - Swapping D and A channels ...  [DONE]\n",
      "   [DONE Processing]\n"
     ]
    },
    {
     "data": {
      "text/plain": [
       "2013-05-15_TE50_320mW_3 G1.000"
      ]
     },
     "execution_count": 18,
     "metadata": {},
     "output_type": "execute_result"
    }
   ],
   "source": [
    "d = loader.multispot8_core(fname=fb)\n",
    "d"
   ]
  },
  {
   "cell_type": "code",
   "execution_count": 19,
   "metadata": {
    "collapsed": true
   },
   "outputs": [],
   "source": [
    "fname = fb"
   ]
  },
  {
   "cell_type": "code",
   "execution_count": 20,
   "metadata": {
    "collapsed": false
   },
   "outputs": [
    {
     "name": "stdout",
     "output_type": "stream",
     "text": [
      " - Loading data \"C:/Data/Antonio/data/8-spot 5samples data/2013-05-15/TE50_320mW_3.dat\" ...  [DONE]\n",
      " - Processing data ... \n",
      "   - Swapping D and A channels ...  [DONE]\n",
      "   [DONE Processing]\n"
     ]
    }
   ],
   "source": [
    "data = smfret_multispot_ni_32_32(fname)\n",
    "\n",
    "data['description'] = description\n",
    "\n",
    "data['sample'] = dict(\n",
    "    sample_name=sample_name,\n",
    "    buffer_name=buffer_name,\n",
    "    num_dyes = len(dye_names.split(',')))\n",
    "\n",
    "data['identity'] = dict(\n",
    "    author=author,\n",
    "    author_affiliation=author_affiliation,\n",
    "    creator=creator,\n",
    "    creator_affiliation=creator_affiliation)"
   ]
  },
  {
   "cell_type": "code",
   "execution_count": 21,
   "metadata": {
    "collapsed": false
   },
   "outputs": [
    {
     "name": "stdout",
     "output_type": "stream",
     "text": [
      "Saving: C:/Data/Antonio/data/8-spot 5samples data/2013-05-15/TE50_320mW_3.hdf5\n"
     ]
    }
   ],
   "source": [
    "phc.hdf5.save_photon_hdf5(data, overwrite=True)"
   ]
  }
 ],
 "metadata": {
  "anaconda-cloud": {},
  "kernelspec": {
   "display_name": "Python [default]",
   "language": "python",
   "name": "python3"
  },
  "language_info": {
   "codemirror_mode": {
    "name": "ipython",
    "version": 3
   },
   "file_extension": ".py",
   "mimetype": "text/x-python",
   "name": "python",
   "nbconvert_exporter": "python",
   "pygments_lexer": "ipython3",
   "version": "3.5.1"
  },
  "nav_menu": {},
  "toc": {
   "navigate_menu": true,
   "number_sections": true,
   "sideBar": true,
   "threshold": 6,
   "toc_cell": false,
   "toc_section_display": "block",
   "toc_window_display": false
  }
 },
 "nbformat": 4,
 "nbformat_minor": 0
}
