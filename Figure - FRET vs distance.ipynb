{
 "cells": [
  {
   "cell_type": "markdown",
   "metadata": {},
   "source": [
    "# Figure FRET vs distance\n",
    "\n",
    "> *This notebook creates the figure FRET vs distance for the series of dsDNA samples.*"
   ]
  },
  {
   "cell_type": "markdown",
   "metadata": {},
   "source": [
    "## Import software"
   ]
  },
  {
   "cell_type": "code",
   "execution_count": null,
   "metadata": {
    "collapsed": true
   },
   "outputs": [],
   "source": [
    "import os\n",
    "import pandas as pd\n",
    "import numpy as np\n",
    "import matplotlib.pyplot as plt\n",
    "import matplotlib as mpl\n",
    "from cycler import cycler\n",
    "import seaborn as sns\n",
    "%matplotlib inline\n",
    "%config InlineBackend.figure_format='retina'  # for hi-dpi displays"
   ]
  },
  {
   "cell_type": "code",
   "execution_count": null,
   "metadata": {
    "collapsed": true
   },
   "outputs": [],
   "source": [
    "from mpl_toolkits.mplot3d import Axes3D\n",
    "from numpy import pi, cos, sin"
   ]
  },
  {
   "cell_type": "code",
   "execution_count": null,
   "metadata": {
    "collapsed": true
   },
   "outputs": [],
   "source": [
    "figure_size = (5, 4)\n",
    "default_figure = lambda: plt.subplots(figsize=figure_size)\n",
    "save_figures = True\n",
    "\n",
    "def savefig(filename, **kwargs):\n",
    "    if not save_figures:\n",
    "        return\n",
    "    import os\n",
    "    dir_ = 'figures/'\n",
    "    kwargs_ = dict(dpi=300, bbox_inches='tight')\n",
    "                   #frameon=True, facecolor='white', transparent=False)\n",
    "    kwargs_.update(kwargs)\n",
    "    plt.savefig(dir_ + filename, **kwargs_)\n",
    "    print('Saved: %s' % (dir_ + filename))"
   ]
  },
  {
   "cell_type": "code",
   "execution_count": null,
   "metadata": {
    "collapsed": true
   },
   "outputs": [],
   "source": [
    "sns.set_style('whitegrid')"
   ]
  },
  {
   "cell_type": "markdown",
   "metadata": {},
   "source": [
    "# B-DNA Model"
   ]
  },
  {
   "cell_type": "code",
   "execution_count": null,
   "metadata": {
    "collapsed": true
   },
   "outputs": [],
   "source": [
    "r = 1        # (nm) dsDNA radius\n",
    "δ = 0.34     # (nm) dsDNA base-pair pitch\n",
    "n = 10.5     # number of bases per turn\n",
    "Δφ = 132.4   # (degree) minor-grove angle between the two strands backbones"
   ]
  },
  {
   "cell_type": "markdown",
   "metadata": {},
   "source": [
    "<img src=\"figures/DNA1.png\" style=\"width:300px;float:left;\">\n",
    "<img src=\"figures/DNA2.png\" style=\"width:300px;float:left;\">\n",
    "<img src=\"figures/DNA3.png\" style=\"width:300px;float:left;\">"
   ]
  },
  {
   "cell_type": "markdown",
   "metadata": {},
   "source": [
    "This function computes the dye position according to the passed parameters:"
   ]
  },
  {
   "cell_type": "code",
   "execution_count": null,
   "metadata": {
    "collapsed": true
   },
   "outputs": [],
   "source": [
    "def dye_position(i, l=1.6, λ=0.5, ψ=0):\n",
    "    # global structural params: r, δ, n, Δφ\n",
    "    Δφr = Δφ*pi/180\n",
    "    φ = 2*pi/n  # (radiants) rotation for base-pair\n",
    "    Dx = r * cos(φ*i) + λ*( r*cos(φ*i + Δφr) - r*cos(φ*i) ) + l*cos(ψ)*cos(φ*i + 0.5*Δφr)\n",
    "    Dy = r * sin(φ*i) + λ*( r*sin(φ*i + Δφr) - r*sin(φ*i) ) + l*cos(ψ)*sin(φ*i + 0.5*Δφr)\n",
    "    Dz = i*δ + l*sin(ψ)\n",
    "    return np.array([Dx, Dy, Dz])"
   ]
  },
  {
   "cell_type": "markdown",
   "metadata": {},
   "source": [
    "Function to plot the dye position:"
   ]
  },
  {
   "cell_type": "code",
   "execution_count": null,
   "metadata": {
    "collapsed": false
   },
   "outputs": [],
   "source": [
    "def plot_dye(P, axes=None, **kws):\n",
    "    kws_ = dict(marker='o', ls='-')\n",
    "    kws_.update(kws)\n",
    "    if axes is None:\n",
    "        fig = plt.figure(figsize=(9, 9))\n",
    "        ax_xy = plt.subplot2grid((2,2), (1,0))\n",
    "        ax_xz = plt.subplot2grid((2,2), (0,0))\n",
    "        ax_yz = plt.subplot2grid((2,2), (0,1))\n",
    "        ax_3d = fig.add_subplot(224, projection='3d')\n",
    "    else:\n",
    "        ax_xy, ax_xz, ax_yz, ax_3d = axes\n",
    "\n",
    "    ax_xy.plot(P[0], P[1], **kws_)\n",
    "    ax_xz.plot(P[0], P[2], **kws_)\n",
    "    ax_yz.plot(P[1], P[2], **kws_)\n",
    "    for ax in (ax_xy, ax_xz):\n",
    "        ax.set_xlabel('x (nm)')\n",
    "    ax_xy.set_ylabel('y (nm)')\n",
    "    ax_xz.set_xlabel('x (nm)')\n",
    "    ax_xz.set_ylabel('z (nm)')\n",
    "    ax_yz.set_xlabel('y (nm)')\n",
    "    ax_yz.set_ylabel('z (nm)')\n",
    "    lim = max(1.5, np.abs(P[0]).max(), np.abs(P[1]).max())*1.05\n",
    "    \n",
    "    ax_xy.set_xlim(-lim, lim)\n",
    "    ax_xy.set_ylim(-lim, lim)\n",
    "    ax_xz.set_xlim(-lim, lim)\n",
    "    ax_yz.set_xlim(-lim, lim)\n",
    "\n",
    "    ax_3d.plot(P[0], P[1], P[2], **kws_)\n",
    "    return (ax_xy, ax_xz, ax_yz, ax_3d)"
   ]
  },
  {
   "cell_type": "markdown",
   "metadata": {},
   "source": [
    "FRET as a function of $R$ and $R_0$:"
   ]
  },
  {
   "cell_type": "code",
   "execution_count": null,
   "metadata": {
    "collapsed": true
   },
   "outputs": [],
   "source": [
    "def fret(R, R0):\n",
    "    return 1 / (1 + (R/R0)**6)"
   ]
  },
  {
   "cell_type": "markdown",
   "metadata": {},
   "source": [
    "## Dyes Parameters"
   ]
  },
  {
   "cell_type": "code",
   "execution_count": null,
   "metadata": {
    "collapsed": true
   },
   "outputs": [],
   "source": [
    "λ = 0.5 \n",
    "ψ = 0\n",
    "i = 7    # number of bases from reference \"base 0\"\n",
    "l = 1.6  # (nm) distance between S and dye position D"
   ]
  },
  {
   "cell_type": "code",
   "execution_count": null,
   "metadata": {
    "collapsed": false
   },
   "outputs": [],
   "source": [
    "dye_position(7)"
   ]
  },
  {
   "cell_type": "code",
   "execution_count": null,
   "metadata": {
    "collapsed": true
   },
   "outputs": [],
   "source": [
    "D_params = dict(l=1, λ=1, ψ=0)\n",
    "A_params = dict(l=1, λ=0, ψ=-pi/2)"
   ]
  },
  {
   "cell_type": "code",
   "execution_count": null,
   "metadata": {
    "collapsed": true
   },
   "outputs": [],
   "source": [
    "bp = np.arange(0, 1)\n",
    "\n",
    "PD = dye_position(bp, **D_params)\n",
    "PA = dye_position(bp, **A_params)"
   ]
  },
  {
   "cell_type": "code",
   "execution_count": null,
   "metadata": {
    "collapsed": true
   },
   "outputs": [],
   "source": [
    "bp1 = np.arange(0, 10.1, 0.02)\n",
    "\n",
    "PD1 = dye_position(bp1, **D_params)\n",
    "PA1 = dye_position(bp1, **A_params)"
   ]
  },
  {
   "cell_type": "code",
   "execution_count": null,
   "metadata": {
    "collapsed": false
   },
   "outputs": [],
   "source": [
    "axes = plot_dye(PD, marker='s')\n",
    "plot_dye(PA, axes, color='r',  marker='s');\n",
    "plot_dye(PA1, axes, marker='', ls='-', color='r');\n",
    "plot_dye(PD1, axes, marker='', ls='-', color='b');"
   ]
  },
  {
   "cell_type": "code",
   "execution_count": null,
   "metadata": {
    "collapsed": true
   },
   "outputs": [],
   "source": [
    "bp = np.arange(0, 40, 0.1)"
   ]
  },
  {
   "cell_type": "code",
   "execution_count": null,
   "metadata": {
    "collapsed": true
   },
   "outputs": [],
   "source": [
    "PD = dye_position(bp, l=1.6, λ=0.2, ψ=0)\n",
    "PA = dye_position(0, l=1.6, λ=0.8, ψ=-pi/2)\n",
    "R = np.linalg.norm(PD.T - PA, axis=1)\n",
    "#R"
   ]
  },
  {
   "cell_type": "code",
   "execution_count": null,
   "metadata": {
    "collapsed": false
   },
   "outputs": [],
   "source": [
    "plt.plot(bp, R);\n",
    "plt.xlabel('Base-pair')\n",
    "plt.ylabel('Distance (nm)')\n",
    "plt.ylim(0);"
   ]
  },
  {
   "cell_type": "code",
   "execution_count": null,
   "metadata": {
    "collapsed": true
   },
   "outputs": [],
   "source": [
    "R0 = 6.7  # nm"
   ]
  },
  {
   "cell_type": "code",
   "execution_count": null,
   "metadata": {
    "collapsed": false
   },
   "outputs": [],
   "source": [
    "plt.plot(bp, fret(R, R0));"
   ]
  },
  {
   "cell_type": "markdown",
   "metadata": {},
   "source": [
    "# Load data"
   ]
  },
  {
   "cell_type": "code",
   "execution_count": null,
   "metadata": {
    "collapsed": false
   },
   "outputs": [],
   "source": [
    "E_mspot = pd.read_csv(\n",
    "    'results/Multi-spot - dsDNA - Corrected E - all_samples all_ch.csv', index_col=0)\n",
    "E_mspot.columns.name = 'Channel'\n",
    "E_mspot"
   ]
  },
  {
   "cell_type": "code",
   "execution_count": null,
   "metadata": {
    "collapsed": false
   },
   "outputs": [],
   "source": [
    "data_file = 'results/usALEX-5samples-E-corrected-all-ph.csv'\n",
    "data_alex = pd.read_csv(data_file).set_index('sample')\n",
    "E_alex = data_alex.E_gauss_w\n",
    "E_alex.index.name = 'Sample'\n",
    "E_alex"
   ]
  },
  {
   "cell_type": "markdown",
   "metadata": {},
   "source": [
    "# FRET vs distance figure"
   ]
  },
  {
   "cell_type": "code",
   "execution_count": null,
   "metadata": {
    "collapsed": true
   },
   "outputs": [],
   "source": [
    "%config InlineBackend.figure_format='retina'  # for hi-dpi displays"
   ]
  },
  {
   "cell_type": "code",
   "execution_count": null,
   "metadata": {
    "collapsed": false
   },
   "outputs": [],
   "source": [
    "fig, ax = plt.subplots()\n",
    "E_alex.plot(ax=ax)\n",
    "E_mspot.plot(marker='+', mew=1, ls='none', ax=ax)"
   ]
  },
  {
   "cell_type": "code",
   "execution_count": null,
   "metadata": {
    "collapsed": false,
    "scrolled": true
   },
   "outputs": [],
   "source": [
    "E_alexi = E_alex.rename(lambda x: int(x[:-1])).to_frame()\n",
    "E_alexi.columns = ['μs-ALEX']\n",
    "E_alexi"
   ]
  },
  {
   "cell_type": "code",
   "execution_count": null,
   "metadata": {
    "collapsed": false
   },
   "outputs": [],
   "source": [
    "E_mspoti = E_mspot.rename(lambda x: int(x[:-1]))\n",
    "#E_mspoti"
   ]
  },
  {
   "cell_type": "code",
   "execution_count": null,
   "metadata": {
    "collapsed": true
   },
   "outputs": [],
   "source": [
    "sns.set(style='ticks', font_scale=1.4)"
   ]
  },
  {
   "cell_type": "code",
   "execution_count": null,
   "metadata": {
    "collapsed": true
   },
   "outputs": [],
   "source": [
    "R0 = 7.3  # nm Forster Radius\n",
    "PD = dye_position(bp, l=2, λ=0.6, ψ=0)\n",
    "PA = dye_position(0, l=1.6, λ=0.4, ψ=-pi/2)\n",
    "R = np.linalg.norm(PD.T - PA, axis=1)"
   ]
  },
  {
   "cell_type": "code",
   "execution_count": null,
   "metadata": {
    "collapsed": false
   },
   "outputs": [],
   "source": [
    "\n",
    "pitch = δ*n \n",
    "min_groove_pitch = 1.2\n",
    "min_groove_pitch/pitch * 360"
   ]
  },
  {
   "cell_type": "code",
   "execution_count": null,
   "metadata": {
    "collapsed": true
   },
   "outputs": [],
   "source": [
    "bp = np.arange(0, 30, 0.2)\n",
    "bpm = np.array([7, 12, 17, 22, 27])"
   ]
  },
  {
   "cell_type": "code",
   "execution_count": null,
   "metadata": {
    "collapsed": false
   },
   "outputs": [],
   "source": [
    "D_params = dict(l=2.4, λ=0.5, ψ=pi)\n",
    "A_params = dict(l=2, λ=0.5, ψ=-1.2*pi/2)\n",
    "n = 10.5     # number of bases per turn\n",
    "Δφ = 131     # (degree) minor-grove angle between the two strands backbones\n",
    "R0 = 7.5 # nm Forster Radius"
   ]
  },
  {
   "cell_type": "code",
   "execution_count": null,
   "metadata": {
    "collapsed": false
   },
   "outputs": [],
   "source": [
    "D_params = dict(l=1.38, λ=0.14, ψ=0)\n",
    "A_params = dict(l=1.38, λ=0.14, ψ=-pi/2)\n",
    "n = 10.5     # number of bases per turn\n",
    "Δφ = 132     # (degree) minor-grove angle between the two strands backbones\n",
    "R0 = 6.7 # nm Forster Radius"
   ]
  },
  {
   "cell_type": "code",
   "execution_count": null,
   "metadata": {
    "collapsed": false
   },
   "outputs": [],
   "source": [
    "PD = dye_position(bp, **D_params)\n",
    "PA = dye_position(0, **A_params)\n",
    "R = np.linalg.norm(PD.T - PA, axis=1)\n",
    "\n",
    "fig, ax = plt.subplots()\n",
    "E_alexi.plot(ax=ax, marker='s', lw=0, label='usALEX')\n",
    "#E_mspoti.plot(marker='+', mew=2, ms=10, ls='none', ax=ax)\n",
    "ax.set_ylim(0)\n",
    "ax.set_xlim(5, 30)\n",
    "ax.set_xlabel('D-A Separation (base-pairs)')\n",
    "ax.set_ylabel('FRET Efficiency')\n",
    "plt.xticks(E_alexi.index)\n",
    "sns.despine(trim=True, offset=10, ax=ax)\n",
    "ax.plot(bp, fret(R, R0), color='gray', alpha=0.5);\n",
    "#savefig('multi-spot E vs distance.png');"
   ]
  },
  {
   "cell_type": "code",
   "execution_count": null,
   "metadata": {
    "collapsed": false
   },
   "outputs": [],
   "source": [
    "PD = dye_position(bp, **D_params)\n",
    "PA = dye_position(0, **A_params)\n",
    "R = np.linalg.norm(PD.T - PA, axis=1)\n",
    "\n",
    "fig, ax = plt.subplots()\n",
    "E_alexi.plot(ax=ax, label='usALEX')\n",
    "E_mspoti.plot(marker='+', mew=2, ms=10, ls='none', ax=ax)\n",
    "ax.set_ylim(0)\n",
    "ax.set_xlim(5, 30)\n",
    "ax.set_xlabel('D-A Separation (base-pairs)')\n",
    "ax.set_ylabel('FRET Efficiency')\n",
    "plt.xticks(E_alexi.index)\n",
    "sns.despine(trim=True, offset=10, ax=ax)\n",
    "ax.plot(bp, fret(R, R0), color='gray', alpha=0.5);\n",
    "savefig('multi-spot E vs distance.png');"
   ]
  },
  {
   "cell_type": "code",
   "execution_count": null,
   "metadata": {
    "collapsed": false
   },
   "outputs": [],
   "source": [
    "PD0 = dye_position(bp, l=0, λ=0, ψ=0)\n",
    "PA0 = dye_position(bp, l=0, λ=1, ψ=0)\n",
    "PDm = dye_position(bpm, **D_params)\n",
    "axes = plot_dye(PDm, marker='s', ls='')\n",
    "plot_dye(PDm[:, :1], axes, color='k',  marker='s', ms=10);\n",
    "plot_dye(PD[:, :1], axes, color='k',  marker='o', ms=10);\n",
    "plot_dye(PA[:, np.newaxis], axes, color='r',  marker='s');\n",
    "\n",
    "plot_dye(PD0, axes, color='g', marker='', ls='-');\n",
    "plot_dye(PA0, axes, color='m', marker='', ls='-');\n",
    "plot_dye(PD0[:, :1], axes, color='g', marker='o');\n",
    "plot_dye(PA0[:, :1], axes, color='m', marker='o');\n",
    "\n",
    "t = np.arange(361)\n",
    "axes[0].plot(cos(t/180*pi), sin(t/180*pi), lw=1, color='gray');\n",
    "plot_dye(PD, axes, marker='', ls='-', color='b');"
   ]
  },
  {
   "cell_type": "code",
   "execution_count": null,
   "metadata": {
    "collapsed": true
   },
   "outputs": [],
   "source": [
    "# leg = ax[1].get_legend()\n",
    "# h, l = ax[1].get_legend_handles_labels()\n",
    "# ax[1].legend(h[1:] + h[:1], l[1:] + l[:1], title='Sample', loc='lower right')\n"
   ]
  }
 ],
 "metadata": {
  "anaconda-cloud": {},
  "kernelspec": {
   "display_name": "Python [default]",
   "language": "python",
   "name": "python3"
  },
  "language_info": {
   "codemirror_mode": {
    "name": "ipython",
    "version": 3
   },
   "file_extension": ".py",
   "mimetype": "text/x-python",
   "name": "python",
   "nbconvert_exporter": "python",
   "pygments_lexer": "ipython3",
   "version": "3.5.2"
  }
 },
 "nbformat": 4,
 "nbformat_minor": 0
}
